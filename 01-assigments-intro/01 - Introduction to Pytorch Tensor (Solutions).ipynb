{
 "cells": [
  {
   "cell_type": "markdown",
   "id": "3e526e9e",
   "metadata": {},
   "source": [
    "# **Introduction to Pytorch Tensor**"
   ]
  },
  {
   "cell_type": "markdown",
   "id": "abafca92",
   "metadata": {},
   "source": [
    "1. สร้าง tensor 2 ตัวที่มีค่าต่อไปนี้\n",
    "\n",
    "```\n",
    "[[14, 6],    [[1, 11],\n",
    " [1, 3]]      [2, 3]]\n",
    "```\n",
    "\n",
    "จากนั้นหาผลบวกของ tensor 2 ตัวนี้"
   ]
  },
  {
   "cell_type": "code",
   "execution_count": 1,
   "id": "02bca2ee",
   "metadata": {},
   "outputs": [
    {
     "name": "stdout",
     "output_type": "stream",
     "text": [
      "tensor([[15, 17],\n",
      "        [ 3,  6]])\n"
     ]
    }
   ],
   "source": [
    "# เขียนโค้ดต่อจากนี้\n",
    "import torch\n",
    "\n",
    "A = torch.tensor([[14, 6], [1, 3]])\n",
    "B = torch.tensor([[1, 11], [2, 3]])\n",
    "print(A + B)"
   ]
  },
  {
   "cell_type": "markdown",
   "id": "a3817474",
   "metadata": {},
   "source": [
    "2. สร้าง tensor 2 มิติชนิด `torch.float` 2 ตัวที่มีค่าต่อไปนี้\n",
    "\n",
    "```\n",
    "[[3, 4],    [[-2, 11],\n",
    " [7, -8]]    [-5, 3]]\n",
    "```\n",
    "\n",
    "ใช้ `torch.mm` หรือ `torch.matmul` เพื่อหาผลคูณของ tensor ระหว่างตัวแรกและตัวที่สอง"
   ]
  },
  {
   "cell_type": "code",
   "execution_count": 2,
   "id": "9621f13c",
   "metadata": {},
   "outputs": [
    {
     "name": "stdout",
     "output_type": "stream",
     "text": [
      "tensor([[  1, -12],\n",
      "        [-69,  49]])\n",
      "tensor([[  1, -12],\n",
      "        [-69,  49]])\n",
      "tensor([[  1, -12],\n",
      "        [-69,  49]])\n"
     ]
    }
   ],
   "source": [
    "# เขียนโค้ดต่อจากนี้\n",
    "A = torch.tensor([[3, 4], [-2, 11]])\n",
    "B = torch.tensor([[7, -8], [-5, 3]])\n",
    "\n",
    "# มีหลายตัวเลือกในการเขียน matrix multiplication\n",
    "print(torch.matmul(A, B))\n",
    "print(torch.mm(A, B))\n",
    "print(A.mm(B)) # นิยมมากที่สุด"
   ]
  },
  {
   "cell_type": "markdown",
   "id": "a6221588",
   "metadata": {},
   "source": [
    "3. สร้าง tensor ที่มีค่าสุ่มจากการกระจายตัวแบบปกติ (normal distribution) โดยใช้คำสั่ง `torch.randn` ที่มีขนาด `(3, 20, 20)` ทำการเพิ่ม dimension ของ tensor ที่สร้างขึ้นให้มีขนาด `(1, 3, 20, 20)` โดยใช้คำสั่ง `torch.unsqueeze`"
   ]
  },
  {
   "cell_type": "code",
   "execution_count": 3,
   "id": "268cc5de",
   "metadata": {},
   "outputs": [
    {
     "name": "stdout",
     "output_type": "stream",
     "text": [
      "torch.Size([1, 3, 20, 20])\n",
      "torch.Size([1, 3, 20, 20])\n"
     ]
    }
   ],
   "source": [
    "torch.manual_seed(42)\n",
    "\n",
    "# วิธีแรก\n",
    "X = torch.randn((3, 20, 20))\n",
    "X = X.unsqueeze(0)\n",
    "print(X.shape)\n",
    "\n",
    "# วิธีที่สอง\n",
    "X = torch.randn((3, 20, 20))\n",
    "X.unsqueeze_(0) # ใส่ _ หลังจาก method จะเทียบเท่ากับ X = X.unsqueeze(0)\n",
    "print(X.shape)"
   ]
  },
  {
   "cell_type": "markdown",
   "id": "d2911fdc",
   "metadata": {},
   "source": [
    "4. ทดลองสร้าง tensor ดังต่อไปนี้\n",
    "\n",
    "``` py\n",
    "v = torch.ones((3, 1, 10, 10))\n",
    "v_out = v.view(-1, 100)\n",
    "```\n",
    "\n",
    "จากนั้นดูขนาดของมิติของ `v` และ `v_out` ว่ามีขนาดเท่าไหร่"
   ]
  },
  {
   "cell_type": "code",
   "execution_count": 4,
   "id": "a1898136",
   "metadata": {},
   "outputs": [
    {
     "name": "stdout",
     "output_type": "stream",
     "text": [
      "torch.Size([3, 1, 10, 10])\n",
      "torch.Size([3, 100])\n"
     ]
    }
   ],
   "source": [
    "v = torch.ones((3, 1, 10, 10))\n",
    "v_out = v.view(-1, 100)\n",
    "\n",
    "print(v.shape)\n",
    "print(v_out.shape)"
   ]
  }
 ],
 "metadata": {
  "kernelspec": {
   "display_name": "Python 3 (ipykernel)",
   "language": "python",
   "name": "python3"
  },
  "language_info": {
   "codemirror_mode": {
    "name": "ipython",
    "version": 3
   },
   "file_extension": ".py",
   "mimetype": "text/x-python",
   "name": "python",
   "nbconvert_exporter": "python",
   "pygments_lexer": "ipython3",
   "version": "3.7.13"
  }
 },
 "nbformat": 4,
 "nbformat_minor": 5
}
