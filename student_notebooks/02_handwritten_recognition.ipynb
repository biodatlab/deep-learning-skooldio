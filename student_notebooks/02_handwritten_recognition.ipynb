{
 "cells": [
  {
   "cell_type": "markdown",
   "id": "cfc52381",
   "metadata": {
    "id": "cfc52381"
   },
   "source": [
    "[![Open in Colab](https://colab.research.google.com/assets/colab-badge.svg)](https://colab.research.google.com/github/biodatlab/deep-learning-skooldio/blob/master/student_notebooks/02_handwritten_recognition.ipynb)\n",
    "\n",
    "## **Thai-digit handwritten classification with Pytorch**\n",
    "\n",
    "This notebook contains a hands-on code for Deep learning class \"Thai-digit handwritten classification with Pytorch\" by Skooldio"
   ]
  },
  {
   "cell_type": "markdown",
   "id": "3aa56f94",
   "metadata": {
    "id": "3aa56f94"
   },
   "source": [
    "## **Download and clean the dataset from the repository**\n",
    "\n",
    "- We have downloaded the data from https://github.com/kittinan/thai-handwriting-number by cloning the repository\n",
    "- Remove files that have character mismatch (as suggested by the the creator)\n",
    "- Then, we put the cleaned data at https://github.com/biodatlab/deep-learning-skooldio"
   ]
  },
  {
   "cell_type": "code",
   "execution_count": null,
   "id": "f7deb2f6",
   "metadata": {
    "colab": {
     "base_uri": "https://localhost:8080/"
    },
    "id": "f7deb2f6",
    "outputId": "61c65aa9-3965-4cbf-8655-d7e2f1e904e3"
   },
   "outputs": [],
   "source": [
    "!git clone https://github.com/biodatlab/deep-learning-skooldio"
   ]
  },
  {
   "cell_type": "code",
   "execution_count": null,
   "id": "2ad2a443",
   "metadata": {
    "id": "2ad2a443"
   },
   "outputs": [],
   "source": [
    "import os\n",
    "import os.path as op\n",
    "import shutil\n",
    "from glob import glob\n",
    "from pathlib import Path\n",
    "from tqdm.auto import tqdm"
   ]
  },
  {
   "cell_type": "code",
   "execution_count": null,
   "id": "64ce2573",
   "metadata": {
    "id": "64ce2573"
   },
   "outputs": [],
   "source": [
    "directory = \"deep-learning-skooldio/\"\n",
    "paths = glob(op.join(directory, \"thai-handwritten-dataset\", \"*\", \"*\"))"
   ]
  },
  {
   "cell_type": "code",
   "execution_count": null,
   "id": "964fdc70",
   "metadata": {
    "colab": {
     "base_uri": "https://localhost:8080/"
    },
    "id": "964fdc70",
    "outputId": "6bd7c0ed-09dc-455f-ac01-344d245ba69c"
   },
   "outputs": [],
   "source": [
    "# TODO: use Counter from collection to count the number, use Pathlib to get the parent folder name"
   ]
  },
  {
   "cell_type": "code",
   "execution_count": null,
   "id": "23eedef9",
   "metadata": {
    "id": "23eedef9"
   },
   "outputs": [],
   "source": [
    "# TODO: Use Pillow's Image to read and open one file"
   ]
  },
  {
   "cell_type": "code",
   "execution_count": null,
   "id": "6aa0f5b4",
   "metadata": {
    "id": "6aa0f5b4"
   },
   "outputs": [],
   "source": [
    "# TODO: Use train_test_split to split image into 90% training and 10% validation"
   ]
  },
  {
   "cell_type": "code",
   "execution_count": null,
   "id": "6e56a41b",
   "metadata": {
    "id": "6e56a41b"
   },
   "outputs": [],
   "source": [
    "# Create directory\n",
    "for i in range(10):\n",
    "    os.makedirs(f\"data/train/{i}\", exist_ok=True)\n",
    "    os.makedirs(f\"data/validation/{i}\", exist_ok=True)"
   ]
  },
  {
   "cell_type": "code",
   "execution_count": null,
   "id": "fe1d237b",
   "metadata": {
    "id": "fe1d237b"
   },
   "outputs": [],
   "source": [
    "def copy_to_destination(src_paths, dst_path):\n",
    "    \"\"\"\n",
    "    Copy list of src_paths to destination path ``dst_path``\n",
    "    \"\"\"\n",
    "    for path in tqdm(src_paths):\n",
    "        path = Path(path)\n",
    "        parent_dir = path.parent.name\n",
    "        shutil.copy(path, op.join(dst_path, parent_dir, path.name))"
   ]
  },
  {
   "cell_type": "code",
   "execution_count": null,
   "id": "af9064ae",
   "metadata": {
    "colab": {
     "base_uri": "https://localhost:8080/",
     "height": 81,
     "referenced_widgets": [
      "f1995e5d3d654bfe84446c7a021a72fd",
      "fd8a7207f576405e942635fd84cc44fb",
      "4a08213da7c946729a826f418aeff861",
      "3f6a368870c0416f87417ba352d81fd7",
      "011a5b6951434fd8929258b580821d7e",
      "5479f05ba30045d3a71cd886ab5b01c6",
      "7a56e830cf034e4c9435f8b7052b4660",
      "26b3e5c8b9e54e5d8e4a234f51d2e8fe",
      "8d8101d0d3104cb88960798e25cff91d",
      "507ace20498347ce9e76749334a86738",
      "098b444c2134459d9866c901f72b0129",
      "5a8f51d283ec40b698774277dd04716a",
      "4fdf6463b5514fdb89674f9222feb895",
      "1fb07294e26548bd8a32d2dc3109599d",
      "5d832918ce07498180066a86f6ff11d8",
      "1075d8c6bf9d47009e36fe62c6d550e2",
      "3fe2522755ab408887ebae47e1554851",
      "69541f51a291485989a7924c54bc1746",
      "45d6a6a522c04ace80ab4c846245f45d",
      "97e86ab6fca74a9a9f27115dfb50bcae",
      "25db0e932dea45f8b4eaee49a058709f",
      "c961b6ebd8184b06b19d8ed4203013df"
     ]
    },
    "id": "af9064ae",
    "outputId": "a120c18a-fb74-4ab6-e895-ad665036ff47"
   },
   "outputs": [],
   "source": [
    "copy_to_destination(train_paths, \"data/train/\")\n",
    "copy_to_destination(test_paths, \"data/validation/\")"
   ]
  },
  {
   "cell_type": "code",
   "execution_count": null,
   "id": "99aceff3",
   "metadata": {
    "colab": {
     "base_uri": "https://localhost:8080/"
    },
    "id": "99aceff3",
    "outputId": "4bf176d2-82f6-4314-bfee-d687a44ba0a3"
   },
   "outputs": [],
   "source": [
    "len(glob(\"data/train/*/*\")), len(glob(\"data/validation/*/*\"))"
   ]
  },
  {
   "cell_type": "markdown",
   "id": "ae55f494",
   "metadata": {
    "id": "ae55f494"
   },
   "source": [
    "## **Create a custom dataset and a dataloader**\n",
    "\n",
    "- We need 3 functions when creating a `Dataset` including `__init__` (typically contains input data and transform), `__len__` (length of the dataset), `__getitem__` (input index then return pair of input and label or input)"
   ]
  },
  {
   "cell_type": "code",
   "execution_count": null,
   "id": "d0b69d68",
   "metadata": {
    "id": "d0b69d68"
   },
   "outputs": [],
   "source": [
    "import torch\n",
    "from torch.utils.data import Dataset, DataLoader\n",
    "from torchvision import transforms\n",
    "import matplotlib.pyplot as plt"
   ]
  },
  {
   "cell_type": "code",
   "execution_count": null,
   "id": "2dbd4be3",
   "metadata": {
    "id": "2dbd4be3"
   },
   "outputs": [],
   "source": [
    "# Create image transform"
   ]
  },
  {
   "cell_type": "code",
   "execution_count": null,
   "id": "059beef8",
   "metadata": {
    "colab": {
     "base_uri": "https://localhost:8080/",
     "height": 281
    },
    "id": "059beef8",
    "outputId": "38b018dc-ebcb-4246-b9a2-570e007db3b9"
   },
   "outputs": [],
   "source": [
    "# Show image transform"
   ]
  },
  {
   "cell_type": "code",
   "execution_count": null,
   "id": "09eb4140",
   "metadata": {
    "id": "09eb4140"
   },
   "outputs": [],
   "source": [
    "class ThaiDigitDataset(Dataset):\n",
    "    def __init__(self, img_dir: str, transform=None):\n",
    "        # TODO: Input img_dir, create a relatioship between image path and label\n",
    "\n",
    "    def __len__(self):\n",
    "        # TODO: Find length of the dataset\n",
    "        return\n",
    "\n",
    "    def __getitem__(self, idx):\n",
    "        # TODO:\n",
    "        return "
   ]
  },
  {
   "cell_type": "code",
   "execution_count": null,
   "id": "f1175f91",
   "metadata": {
    "id": "f1175f91"
   },
   "outputs": [],
   "source": [
    "# TODO: Create a Dataset and DataLoader"
   ]
  },
  {
   "cell_type": "code",
   "execution_count": null,
   "id": "24c5be14",
   "metadata": {
    "id": "24c5be14"
   },
   "outputs": [],
   "source": [
    "# TODO: Use `next(iter(data_loader))` to load an example batch"
   ]
  },
  {
   "cell_type": "code",
   "execution_count": null,
   "id": "4750f658",
   "metadata": {},
   "outputs": [],
   "source": [
    "# TODO: Check the shape of the batch"
   ]
  },
  {
   "cell_type": "markdown",
   "id": "275542ac",
   "metadata": {
    "id": "275542ac"
   },
   "source": [
    "## **Create the model**"
   ]
  },
  {
   "cell_type": "code",
   "execution_count": null,
   "id": "abbd30d0",
   "metadata": {
    "id": "abbd30d0"
   },
   "outputs": [],
   "source": [
    "import torch.nn as nn\n",
    "import torch.nn.functional as F\n",
    "\n",
    "class ThaiDigitNet(nn.Module):\n",
    "    def __init__(self):\n",
    "        super(ThaiDigitNet, self).__init__()\n",
    "        # TODO: Create Linear (Dense) Neural network layers\n",
    "\n",
    "    def forward(self, x):\n",
    "        # TODO: Write a forward pass\n",
    "        return x"
   ]
  },
  {
   "cell_type": "code",
   "execution_count": null,
   "id": "f31a9c8c",
   "metadata": {
    "id": "f31a9c8c"
   },
   "outputs": [],
   "source": [
    "# TODO: Try passing an input to the model"
   ]
  },
  {
   "cell_type": "code",
   "execution_count": null,
   "id": "fc1b4247",
   "metadata": {},
   "outputs": [],
   "source": [
    "# TODO: Predict the digit from the model before training (the result should not be good yet since the model is not trained)"
   ]
  },
  {
   "cell_type": "code",
   "execution_count": null,
   "id": "4678a296",
   "metadata": {
    "colab": {
     "base_uri": "https://localhost:8080/"
    },
    "id": "4678a296",
    "outputId": "b9377b38-d106-4fa3-b1ff-704ed91d523e"
   },
   "outputs": [],
   "source": [
    "# TODO: Check the dimensions of the output"
   ]
  },
  {
   "cell_type": "markdown",
   "id": "f0455ef9",
   "metadata": {
    "id": "f0455ef9"
   },
   "source": [
    "## **Train the model**\n",
    "\n",
    "**Note for loss function**\n",
    "- `CrossEntropyLoss` computes the cross entropy loss between logits and target. So we don't need to apply softmax to the output of the model.\n",
    "- This is equivalent to the combination of applying `LogSoftmax` at the last layer and use `NLLLoss` as a loss function."
   ]
  },
  {
   "cell_type": "code",
   "execution_count": null,
   "id": "20e1525e",
   "metadata": {
    "colab": {
     "base_uri": "https://localhost:8080/"
    },
    "id": "20e1525e",
    "outputId": "ca92945b-e0ea-4ea1-f06d-a73e1e9865a7"
   },
   "outputs": [],
   "source": [
    "# TODO: Create cross entropy loss function, SGD optimizer, and its learning rate\n",
    "\n",
    "for epoch in range(n_epochs):\n",
    "    # TODO: Write a training loop\n",
    "    # TODO: Print the train loss every 100 steps\n",
    "    net.train()\n",
    "\n",
    "\n",
    "    # TODO: Write a validation loop\n",
    "    # TODO: Print the validation loss and accuracy every epoch"
   ]
  },
  {
   "cell_type": "markdown",
   "id": "2a0229f1",
   "metadata": {
    "id": "2a0229f1"
   },
   "source": [
    "## **Use the model**"
   ]
  },
  {
   "cell_type": "code",
   "execution_count": null,
   "id": "5b41a1c8",
   "metadata": {
    "colab": {
     "base_uri": "https://localhost:8080/",
     "height": 281
    },
    "id": "5b41a1c8",
    "outputId": "8648b976-7880-4fa1-a52a-99fd7657f585"
   },
   "outputs": [],
   "source": [
    "# TODO: Load single image and predict"
   ]
  }
 ],
 "metadata": {
  "accelerator": "GPU",
  "colab": {
   "provenance": []
  },
  "gpuClass": "standard",
  "kernelspec": {
   "display_name": "Python 3.9.6 64-bit",
   "language": "python",
   "name": "python3"
  },
  "language_info": {
   "codemirror_mode": {
    "name": "ipython",
    "version": 3
   },
   "file_extension": ".py",
   "mimetype": "text/x-python",
   "name": "python",
   "nbconvert_exporter": "python",
   "pygments_lexer": "ipython3",
   "version": "3.9.6"
  },
  "vscode": {
   "interpreter": {
    "hash": "31f2aee4e71d21fbe5cf8b01ff0e069b9275f58929596ceb00d14d90e3e16cd6"
   }
  },
  "widgets": {
   "application/vnd.jupyter.widget-state+json": {
    "011a5b6951434fd8929258b580821d7e": {
     "model_module": "@jupyter-widgets/base",
     "model_module_version": "1.2.0",
     "model_name": "LayoutModel",
     "state": {
      "_model_module": "@jupyter-widgets/base",
      "_model_module_version": "1.2.0",
      "_model_name": "LayoutModel",
      "_view_count": null,
      "_view_module": "@jupyter-widgets/base",
      "_view_module_version": "1.2.0",
      "_view_name": "LayoutView",
      "align_content": null,
      "align_items": null,
      "align_self": null,
      "border": null,
      "bottom": null,
      "display": null,
      "flex": null,
      "flex_flow": null,
      "grid_area": null,
      "grid_auto_columns": null,
      "grid_auto_flow": null,
      "grid_auto_rows": null,
      "grid_column": null,
      "grid_gap": null,
      "grid_row": null,
      "grid_template_areas": null,
      "grid_template_columns": null,
      "grid_template_rows": null,
      "height": null,
      "justify_content": null,
      "justify_items": null,
      "left": null,
      "margin": null,
      "max_height": null,
      "max_width": null,
      "min_height": null,
      "min_width": null,
      "object_fit": null,
      "object_position": null,
      "order": null,
      "overflow": null,
      "overflow_x": null,
      "overflow_y": null,
      "padding": null,
      "right": null,
      "top": null,
      "visibility": null,
      "width": null
     }
    },
    "098b444c2134459d9866c901f72b0129": {
     "model_module": "@jupyter-widgets/controls",
     "model_module_version": "1.5.0",
     "model_name": "DescriptionStyleModel",
     "state": {
      "_model_module": "@jupyter-widgets/controls",
      "_model_module_version": "1.5.0",
      "_model_name": "DescriptionStyleModel",
      "_view_count": null,
      "_view_module": "@jupyter-widgets/base",
      "_view_module_version": "1.2.0",
      "_view_name": "StyleView",
      "description_width": ""
     }
    },
    "1075d8c6bf9d47009e36fe62c6d550e2": {
     "model_module": "@jupyter-widgets/base",
     "model_module_version": "1.2.0",
     "model_name": "LayoutModel",
     "state": {
      "_model_module": "@jupyter-widgets/base",
      "_model_module_version": "1.2.0",
      "_model_name": "LayoutModel",
      "_view_count": null,
      "_view_module": "@jupyter-widgets/base",
      "_view_module_version": "1.2.0",
      "_view_name": "LayoutView",
      "align_content": null,
      "align_items": null,
      "align_self": null,
      "border": null,
      "bottom": null,
      "display": null,
      "flex": null,
      "flex_flow": null,
      "grid_area": null,
      "grid_auto_columns": null,
      "grid_auto_flow": null,
      "grid_auto_rows": null,
      "grid_column": null,
      "grid_gap": null,
      "grid_row": null,
      "grid_template_areas": null,
      "grid_template_columns": null,
      "grid_template_rows": null,
      "height": null,
      "justify_content": null,
      "justify_items": null,
      "left": null,
      "margin": null,
      "max_height": null,
      "max_width": null,
      "min_height": null,
      "min_width": null,
      "object_fit": null,
      "object_position": null,
      "order": null,
      "overflow": null,
      "overflow_x": null,
      "overflow_y": null,
      "padding": null,
      "right": null,
      "top": null,
      "visibility": null,
      "width": null
     }
    },
    "1fb07294e26548bd8a32d2dc3109599d": {
     "model_module": "@jupyter-widgets/controls",
     "model_module_version": "1.5.0",
     "model_name": "FloatProgressModel",
     "state": {
      "_dom_classes": [],
      "_model_module": "@jupyter-widgets/controls",
      "_model_module_version": "1.5.0",
      "_model_name": "FloatProgressModel",
      "_view_count": null,
      "_view_module": "@jupyter-widgets/controls",
      "_view_module_version": "1.5.0",
      "_view_name": "ProgressView",
      "bar_style": "success",
      "description": "",
      "description_tooltip": null,
      "layout": "IPY_MODEL_45d6a6a522c04ace80ab4c846245f45d",
      "max": 175,
      "min": 0,
      "orientation": "horizontal",
      "style": "IPY_MODEL_97e86ab6fca74a9a9f27115dfb50bcae",
      "value": 175
     }
    },
    "25db0e932dea45f8b4eaee49a058709f": {
     "model_module": "@jupyter-widgets/base",
     "model_module_version": "1.2.0",
     "model_name": "LayoutModel",
     "state": {
      "_model_module": "@jupyter-widgets/base",
      "_model_module_version": "1.2.0",
      "_model_name": "LayoutModel",
      "_view_count": null,
      "_view_module": "@jupyter-widgets/base",
      "_view_module_version": "1.2.0",
      "_view_name": "LayoutView",
      "align_content": null,
      "align_items": null,
      "align_self": null,
      "border": null,
      "bottom": null,
      "display": null,
      "flex": null,
      "flex_flow": null,
      "grid_area": null,
      "grid_auto_columns": null,
      "grid_auto_flow": null,
      "grid_auto_rows": null,
      "grid_column": null,
      "grid_gap": null,
      "grid_row": null,
      "grid_template_areas": null,
      "grid_template_columns": null,
      "grid_template_rows": null,
      "height": null,
      "justify_content": null,
      "justify_items": null,
      "left": null,
      "margin": null,
      "max_height": null,
      "max_width": null,
      "min_height": null,
      "min_width": null,
      "object_fit": null,
      "object_position": null,
      "order": null,
      "overflow": null,
      "overflow_x": null,
      "overflow_y": null,
      "padding": null,
      "right": null,
      "top": null,
      "visibility": null,
      "width": null
     }
    },
    "26b3e5c8b9e54e5d8e4a234f51d2e8fe": {
     "model_module": "@jupyter-widgets/base",
     "model_module_version": "1.2.0",
     "model_name": "LayoutModel",
     "state": {
      "_model_module": "@jupyter-widgets/base",
      "_model_module_version": "1.2.0",
      "_model_name": "LayoutModel",
      "_view_count": null,
      "_view_module": "@jupyter-widgets/base",
      "_view_module_version": "1.2.0",
      "_view_name": "LayoutView",
      "align_content": null,
      "align_items": null,
      "align_self": null,
      "border": null,
      "bottom": null,
      "display": null,
      "flex": null,
      "flex_flow": null,
      "grid_area": null,
      "grid_auto_columns": null,
      "grid_auto_flow": null,
      "grid_auto_rows": null,
      "grid_column": null,
      "grid_gap": null,
      "grid_row": null,
      "grid_template_areas": null,
      "grid_template_columns": null,
      "grid_template_rows": null,
      "height": null,
      "justify_content": null,
      "justify_items": null,
      "left": null,
      "margin": null,
      "max_height": null,
      "max_width": null,
      "min_height": null,
      "min_width": null,
      "object_fit": null,
      "object_position": null,
      "order": null,
      "overflow": null,
      "overflow_x": null,
      "overflow_y": null,
      "padding": null,
      "right": null,
      "top": null,
      "visibility": null,
      "width": null
     }
    },
    "3f6a368870c0416f87417ba352d81fd7": {
     "model_module": "@jupyter-widgets/controls",
     "model_module_version": "1.5.0",
     "model_name": "HTMLModel",
     "state": {
      "_dom_classes": [],
      "_model_module": "@jupyter-widgets/controls",
      "_model_module_version": "1.5.0",
      "_model_name": "HTMLModel",
      "_view_count": null,
      "_view_module": "@jupyter-widgets/controls",
      "_view_module_version": "1.5.0",
      "_view_name": "HTMLView",
      "description": "",
      "description_tooltip": null,
      "layout": "IPY_MODEL_507ace20498347ce9e76749334a86738",
      "placeholder": "​",
      "style": "IPY_MODEL_098b444c2134459d9866c901f72b0129",
      "value": " 1575/1575 [00:00&lt;00:00, 6079.35it/s]"
     }
    },
    "3fe2522755ab408887ebae47e1554851": {
     "model_module": "@jupyter-widgets/base",
     "model_module_version": "1.2.0",
     "model_name": "LayoutModel",
     "state": {
      "_model_module": "@jupyter-widgets/base",
      "_model_module_version": "1.2.0",
      "_model_name": "LayoutModel",
      "_view_count": null,
      "_view_module": "@jupyter-widgets/base",
      "_view_module_version": "1.2.0",
      "_view_name": "LayoutView",
      "align_content": null,
      "align_items": null,
      "align_self": null,
      "border": null,
      "bottom": null,
      "display": null,
      "flex": null,
      "flex_flow": null,
      "grid_area": null,
      "grid_auto_columns": null,
      "grid_auto_flow": null,
      "grid_auto_rows": null,
      "grid_column": null,
      "grid_gap": null,
      "grid_row": null,
      "grid_template_areas": null,
      "grid_template_columns": null,
      "grid_template_rows": null,
      "height": null,
      "justify_content": null,
      "justify_items": null,
      "left": null,
      "margin": null,
      "max_height": null,
      "max_width": null,
      "min_height": null,
      "min_width": null,
      "object_fit": null,
      "object_position": null,
      "order": null,
      "overflow": null,
      "overflow_x": null,
      "overflow_y": null,
      "padding": null,
      "right": null,
      "top": null,
      "visibility": null,
      "width": null
     }
    },
    "45d6a6a522c04ace80ab4c846245f45d": {
     "model_module": "@jupyter-widgets/base",
     "model_module_version": "1.2.0",
     "model_name": "LayoutModel",
     "state": {
      "_model_module": "@jupyter-widgets/base",
      "_model_module_version": "1.2.0",
      "_model_name": "LayoutModel",
      "_view_count": null,
      "_view_module": "@jupyter-widgets/base",
      "_view_module_version": "1.2.0",
      "_view_name": "LayoutView",
      "align_content": null,
      "align_items": null,
      "align_self": null,
      "border": null,
      "bottom": null,
      "display": null,
      "flex": null,
      "flex_flow": null,
      "grid_area": null,
      "grid_auto_columns": null,
      "grid_auto_flow": null,
      "grid_auto_rows": null,
      "grid_column": null,
      "grid_gap": null,
      "grid_row": null,
      "grid_template_areas": null,
      "grid_template_columns": null,
      "grid_template_rows": null,
      "height": null,
      "justify_content": null,
      "justify_items": null,
      "left": null,
      "margin": null,
      "max_height": null,
      "max_width": null,
      "min_height": null,
      "min_width": null,
      "object_fit": null,
      "object_position": null,
      "order": null,
      "overflow": null,
      "overflow_x": null,
      "overflow_y": null,
      "padding": null,
      "right": null,
      "top": null,
      "visibility": null,
      "width": null
     }
    },
    "4a08213da7c946729a826f418aeff861": {
     "model_module": "@jupyter-widgets/controls",
     "model_module_version": "1.5.0",
     "model_name": "FloatProgressModel",
     "state": {
      "_dom_classes": [],
      "_model_module": "@jupyter-widgets/controls",
      "_model_module_version": "1.5.0",
      "_model_name": "FloatProgressModel",
      "_view_count": null,
      "_view_module": "@jupyter-widgets/controls",
      "_view_module_version": "1.5.0",
      "_view_name": "ProgressView",
      "bar_style": "success",
      "description": "",
      "description_tooltip": null,
      "layout": "IPY_MODEL_26b3e5c8b9e54e5d8e4a234f51d2e8fe",
      "max": 1575,
      "min": 0,
      "orientation": "horizontal",
      "style": "IPY_MODEL_8d8101d0d3104cb88960798e25cff91d",
      "value": 1575
     }
    },
    "4fdf6463b5514fdb89674f9222feb895": {
     "model_module": "@jupyter-widgets/controls",
     "model_module_version": "1.5.0",
     "model_name": "HTMLModel",
     "state": {
      "_dom_classes": [],
      "_model_module": "@jupyter-widgets/controls",
      "_model_module_version": "1.5.0",
      "_model_name": "HTMLModel",
      "_view_count": null,
      "_view_module": "@jupyter-widgets/controls",
      "_view_module_version": "1.5.0",
      "_view_name": "HTMLView",
      "description": "",
      "description_tooltip": null,
      "layout": "IPY_MODEL_3fe2522755ab408887ebae47e1554851",
      "placeholder": "​",
      "style": "IPY_MODEL_69541f51a291485989a7924c54bc1746",
      "value": "100%"
     }
    },
    "507ace20498347ce9e76749334a86738": {
     "model_module": "@jupyter-widgets/base",
     "model_module_version": "1.2.0",
     "model_name": "LayoutModel",
     "state": {
      "_model_module": "@jupyter-widgets/base",
      "_model_module_version": "1.2.0",
      "_model_name": "LayoutModel",
      "_view_count": null,
      "_view_module": "@jupyter-widgets/base",
      "_view_module_version": "1.2.0",
      "_view_name": "LayoutView",
      "align_content": null,
      "align_items": null,
      "align_self": null,
      "border": null,
      "bottom": null,
      "display": null,
      "flex": null,
      "flex_flow": null,
      "grid_area": null,
      "grid_auto_columns": null,
      "grid_auto_flow": null,
      "grid_auto_rows": null,
      "grid_column": null,
      "grid_gap": null,
      "grid_row": null,
      "grid_template_areas": null,
      "grid_template_columns": null,
      "grid_template_rows": null,
      "height": null,
      "justify_content": null,
      "justify_items": null,
      "left": null,
      "margin": null,
      "max_height": null,
      "max_width": null,
      "min_height": null,
      "min_width": null,
      "object_fit": null,
      "object_position": null,
      "order": null,
      "overflow": null,
      "overflow_x": null,
      "overflow_y": null,
      "padding": null,
      "right": null,
      "top": null,
      "visibility": null,
      "width": null
     }
    },
    "5479f05ba30045d3a71cd886ab5b01c6": {
     "model_module": "@jupyter-widgets/base",
     "model_module_version": "1.2.0",
     "model_name": "LayoutModel",
     "state": {
      "_model_module": "@jupyter-widgets/base",
      "_model_module_version": "1.2.0",
      "_model_name": "LayoutModel",
      "_view_count": null,
      "_view_module": "@jupyter-widgets/base",
      "_view_module_version": "1.2.0",
      "_view_name": "LayoutView",
      "align_content": null,
      "align_items": null,
      "align_self": null,
      "border": null,
      "bottom": null,
      "display": null,
      "flex": null,
      "flex_flow": null,
      "grid_area": null,
      "grid_auto_columns": null,
      "grid_auto_flow": null,
      "grid_auto_rows": null,
      "grid_column": null,
      "grid_gap": null,
      "grid_row": null,
      "grid_template_areas": null,
      "grid_template_columns": null,
      "grid_template_rows": null,
      "height": null,
      "justify_content": null,
      "justify_items": null,
      "left": null,
      "margin": null,
      "max_height": null,
      "max_width": null,
      "min_height": null,
      "min_width": null,
      "object_fit": null,
      "object_position": null,
      "order": null,
      "overflow": null,
      "overflow_x": null,
      "overflow_y": null,
      "padding": null,
      "right": null,
      "top": null,
      "visibility": null,
      "width": null
     }
    },
    "5a8f51d283ec40b698774277dd04716a": {
     "model_module": "@jupyter-widgets/controls",
     "model_module_version": "1.5.0",
     "model_name": "HBoxModel",
     "state": {
      "_dom_classes": [],
      "_model_module": "@jupyter-widgets/controls",
      "_model_module_version": "1.5.0",
      "_model_name": "HBoxModel",
      "_view_count": null,
      "_view_module": "@jupyter-widgets/controls",
      "_view_module_version": "1.5.0",
      "_view_name": "HBoxView",
      "box_style": "",
      "children": [
       "IPY_MODEL_4fdf6463b5514fdb89674f9222feb895",
       "IPY_MODEL_1fb07294e26548bd8a32d2dc3109599d",
       "IPY_MODEL_5d832918ce07498180066a86f6ff11d8"
      ],
      "layout": "IPY_MODEL_1075d8c6bf9d47009e36fe62c6d550e2"
     }
    },
    "5d832918ce07498180066a86f6ff11d8": {
     "model_module": "@jupyter-widgets/controls",
     "model_module_version": "1.5.0",
     "model_name": "HTMLModel",
     "state": {
      "_dom_classes": [],
      "_model_module": "@jupyter-widgets/controls",
      "_model_module_version": "1.5.0",
      "_model_name": "HTMLModel",
      "_view_count": null,
      "_view_module": "@jupyter-widgets/controls",
      "_view_module_version": "1.5.0",
      "_view_name": "HTMLView",
      "description": "",
      "description_tooltip": null,
      "layout": "IPY_MODEL_25db0e932dea45f8b4eaee49a058709f",
      "placeholder": "​",
      "style": "IPY_MODEL_c961b6ebd8184b06b19d8ed4203013df",
      "value": " 175/175 [00:00&lt;00:00, 2904.21it/s]"
     }
    },
    "69541f51a291485989a7924c54bc1746": {
     "model_module": "@jupyter-widgets/controls",
     "model_module_version": "1.5.0",
     "model_name": "DescriptionStyleModel",
     "state": {
      "_model_module": "@jupyter-widgets/controls",
      "_model_module_version": "1.5.0",
      "_model_name": "DescriptionStyleModel",
      "_view_count": null,
      "_view_module": "@jupyter-widgets/base",
      "_view_module_version": "1.2.0",
      "_view_name": "StyleView",
      "description_width": ""
     }
    },
    "7a56e830cf034e4c9435f8b7052b4660": {
     "model_module": "@jupyter-widgets/controls",
     "model_module_version": "1.5.0",
     "model_name": "DescriptionStyleModel",
     "state": {
      "_model_module": "@jupyter-widgets/controls",
      "_model_module_version": "1.5.0",
      "_model_name": "DescriptionStyleModel",
      "_view_count": null,
      "_view_module": "@jupyter-widgets/base",
      "_view_module_version": "1.2.0",
      "_view_name": "StyleView",
      "description_width": ""
     }
    },
    "8d8101d0d3104cb88960798e25cff91d": {
     "model_module": "@jupyter-widgets/controls",
     "model_module_version": "1.5.0",
     "model_name": "ProgressStyleModel",
     "state": {
      "_model_module": "@jupyter-widgets/controls",
      "_model_module_version": "1.5.0",
      "_model_name": "ProgressStyleModel",
      "_view_count": null,
      "_view_module": "@jupyter-widgets/base",
      "_view_module_version": "1.2.0",
      "_view_name": "StyleView",
      "bar_color": null,
      "description_width": ""
     }
    },
    "97e86ab6fca74a9a9f27115dfb50bcae": {
     "model_module": "@jupyter-widgets/controls",
     "model_module_version": "1.5.0",
     "model_name": "ProgressStyleModel",
     "state": {
      "_model_module": "@jupyter-widgets/controls",
      "_model_module_version": "1.5.0",
      "_model_name": "ProgressStyleModel",
      "_view_count": null,
      "_view_module": "@jupyter-widgets/base",
      "_view_module_version": "1.2.0",
      "_view_name": "StyleView",
      "bar_color": null,
      "description_width": ""
     }
    },
    "c961b6ebd8184b06b19d8ed4203013df": {
     "model_module": "@jupyter-widgets/controls",
     "model_module_version": "1.5.0",
     "model_name": "DescriptionStyleModel",
     "state": {
      "_model_module": "@jupyter-widgets/controls",
      "_model_module_version": "1.5.0",
      "_model_name": "DescriptionStyleModel",
      "_view_count": null,
      "_view_module": "@jupyter-widgets/base",
      "_view_module_version": "1.2.0",
      "_view_name": "StyleView",
      "description_width": ""
     }
    },
    "f1995e5d3d654bfe84446c7a021a72fd": {
     "model_module": "@jupyter-widgets/controls",
     "model_module_version": "1.5.0",
     "model_name": "HBoxModel",
     "state": {
      "_dom_classes": [],
      "_model_module": "@jupyter-widgets/controls",
      "_model_module_version": "1.5.0",
      "_model_name": "HBoxModel",
      "_view_count": null,
      "_view_module": "@jupyter-widgets/controls",
      "_view_module_version": "1.5.0",
      "_view_name": "HBoxView",
      "box_style": "",
      "children": [
       "IPY_MODEL_fd8a7207f576405e942635fd84cc44fb",
       "IPY_MODEL_4a08213da7c946729a826f418aeff861",
       "IPY_MODEL_3f6a368870c0416f87417ba352d81fd7"
      ],
      "layout": "IPY_MODEL_011a5b6951434fd8929258b580821d7e"
     }
    },
    "fd8a7207f576405e942635fd84cc44fb": {
     "model_module": "@jupyter-widgets/controls",
     "model_module_version": "1.5.0",
     "model_name": "HTMLModel",
     "state": {
      "_dom_classes": [],
      "_model_module": "@jupyter-widgets/controls",
      "_model_module_version": "1.5.0",
      "_model_name": "HTMLModel",
      "_view_count": null,
      "_view_module": "@jupyter-widgets/controls",
      "_view_module_version": "1.5.0",
      "_view_name": "HTMLView",
      "description": "",
      "description_tooltip": null,
      "layout": "IPY_MODEL_5479f05ba30045d3a71cd886ab5b01c6",
      "placeholder": "​",
      "style": "IPY_MODEL_7a56e830cf034e4c9435f8b7052b4660",
      "value": "100%"
     }
    }
   }
  }
 },
 "nbformat": 4,
 "nbformat_minor": 5
}
