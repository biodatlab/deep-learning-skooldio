{
 "cells": [
  {
   "cell_type": "markdown",
   "metadata": {},
   "source": [
    "[![Open in Colab](https://colab.research.google.com/assets/colab-badge.svg)](https://colab.research.google.com/github/biodatlab/deep-learning-skooldio/blob/master/student_notebooks/04_pytorch_for_tabular_data.ipynb)\n",
    "\n",
    "\n",
    "## **Predicting second hand car price from Rodkaidee: Regression**\n",
    "\n",
    "This notebook contains the following steps for predicting second hand car price from [Rodkaidee website](https://rod.kaidee.com/)\n",
    "\n",
    "- Import libraries\n",
    "- Prepare data: Categorical and numerical features\n",
    "- Train linear regression model\n",
    "- Train one-layer neural network model for regression (equivalent to linear regression)\n",
    "- Train multi-layer neural network model for regression"
   ]
  },
  {
   "cell_type": "code",
   "execution_count": null,
   "metadata": {
    "id": "zxcAGilIZI0C"
   },
   "outputs": [],
   "source": [
    "import os\n",
    "import os.path as op\n",
    "\n",
    "import pandas as pd\n",
    "import numpy as np\n",
    "from tqdm.auto import tqdm\n",
    "import matplotlib.pyplot as plt\n",
    "\n",
    "import torch\n",
    "import torch.nn as nn\n",
    "import torch.nn.functional as F\n",
    "\n",
    "from sklearn.linear_model import LinearRegression\n",
    "from sklearn.model_selection import train_test_split\n",
    "from sklearn.preprocessing import OneHotEncoder, MinMaxScaler\n",
    "from sklearn.metrics import mean_squared_error\n",
    "import joblib"
   ]
  },
  {
   "cell_type": "markdown",
   "metadata": {
    "id": "1aoH2TxDZI0E"
   },
   "source": [
    "## **Data Preparation**\n",
    "\n",
    "- Download data from [`github.com/biodatlab/deep-learning-skooldio`](https://github.com/biodatlab/deep-learning-skooldio)\n",
    "- Clean and split data"
   ]
  },
  {
   "cell_type": "code",
   "execution_count": null,
   "metadata": {},
   "outputs": [],
   "source": [
    "!git clone https://github.com/biodatlab/deep-learning-skooldio"
   ]
  },
  {
   "cell_type": "code",
   "execution_count": null,
   "metadata": {
    "colab": {
     "base_uri": "https://localhost:8080/",
     "height": 206
    },
    "id": "wCZuVhV7ZI0F",
    "outputId": "cd33d78c-5c63-43b3-a2a0-9eb7e1aae827"
   },
   "outputs": [],
   "source": [
    "df = pd.read_csv(op.join(\"deep-learning-skooldio\", \"rodkaidee-dataset\", \"Rodkaidee Data.csv\"))\n",
    "df.head(5)"
   ]
  },
  {
   "cell_type": "markdown",
   "metadata": {},
   "source": [
    "## Clean and split data "
   ]
  },
  {
   "cell_type": "code",
   "execution_count": null,
   "metadata": {},
   "outputs": [],
   "source": [
    "import os.path as op\n",
    "\n",
    "# TODOs: Clean price and mileage from string to float\n",
    "\n",
    "\n",
    "df_train, df_val = train_test_split(df, test_size=0.2, random_state=42)"
   ]
  },
  {
   "cell_type": "markdown",
   "metadata": {
    "id": "JFqqEkUUZI0G"
   },
   "source": [
    "## Apply One-hot Encoding to categorical values\n",
    "\n",
    "For example, if a column has three unique values 'A', 'B', and 'C', rows that contain 'C' will be transformed to [0, 0, 1]."
   ]
  },
  {
   "cell_type": "code",
   "execution_count": null,
   "metadata": {},
   "outputs": [],
   "source": [
    "# TODOs: Create one-hot encoder for categorical columns"
   ]
  },
  {
   "cell_type": "markdown",
   "metadata": {
    "id": "TWBWpadpZI0I"
   },
   "source": [
    "## Normalize continuous values\n",
    "\n",
    "We will use `MinMaxScaler` to normalize continuous value.\n",
    "For example, column X has values from 0 to 1000000, so we need to normalize them to 0 to 1.\n",
    "Alternatively `StandardScaler` is also an option."
   ]
  },
  {
   "cell_type": "code",
   "execution_count": null,
   "metadata": {
    "id": "2zc0NpePZI0I"
   },
   "outputs": [],
   "source": [
    "# TODOs: Create MinMaxScaler for numerical (continuous) columns\n"
   ]
  },
  {
   "cell_type": "markdown",
   "metadata": {},
   "source": [
    "## Apply one-hot encoding and normalization to create train and teset dataset"
   ]
  },
  {
   "cell_type": "code",
   "execution_count": null,
   "metadata": {},
   "outputs": [],
   "source": [
    "# TODOs: Apply one-hot encoder and MinMaxScaler to the training and validation dataframe \n",
    "# X_train =\n",
    "# y_train =\n",
    "# X_val =\n",
    "# y_val ="
   ]
  },
  {
   "cell_type": "code",
   "execution_count": null,
   "metadata": {},
   "outputs": [],
   "source": [
    "# save one-hot encoder and scaler objects with joblib\n",
    "save_dir = \"trained_models\"\n",
    "os.makedirs(save_dir, exist_ok=True)\n",
    "joblib.dump(ohe, op.join(save_dir, \"one_hot_encoder.joblib\"))\n",
    "joblib.dump(year_scaler, op.join(save_dir, \"year_scaler.joblib\"))\n",
    "joblib.dump(mileage_scaler, op.join(save_dir, \"mileage_scaler.joblib\"))\n",
    "joblib.dump(price_scaler, op.join(save_dir, \"price_scaler.joblib\"))"
   ]
  },
  {
   "cell_type": "markdown",
   "metadata": {
    "id": "YN3Ax68RZI0I"
   },
   "source": [
    "## **Train a Linear Regression Model**"
   ]
  },
  {
   "cell_type": "code",
   "execution_count": null,
   "metadata": {
    "colab": {
     "base_uri": "https://localhost:8080/"
    },
    "id": "QUxSUR6yZI0J",
    "outputId": "591066f8-dd56-4204-a042-9c9adccdd6d4"
   },
   "outputs": [],
   "source": [
    "# TODO: create a linear regression model and fit to the training data."
   ]
  },
  {
   "cell_type": "markdown",
   "metadata": {},
   "source": [
    "## **Evaluate and plot relationship between actual and predicted values**"
   ]
  },
  {
   "cell_type": "code",
   "execution_count": null,
   "metadata": {},
   "outputs": [],
   "source": [
    "# Calculate the mean squared error between actual value and prediction\n",
    "\n",
    "# Create your own\n",
    "\n",
    "# Use `mean_squared_error` from scikit learn"
   ]
  },
  {
   "cell_type": "code",
   "execution_count": null,
   "metadata": {
    "colab": {
     "base_uri": "https://localhost:8080/",
     "height": 279
    },
    "id": "R2rPon4CZI0K",
    "outputId": "333c5872-0eb6-4755-fdff-07ebd632c0e9"
   },
   "outputs": [],
   "source": [
    "# Plot a perfect prediction line.\n",
    "plt.plot([0, 1], [0, 1],  \"--\", color=\"black\",)\n",
    "# Plot the predictions vs the actual values.\n",
    "plt.Figure(figsize=(10, 10))\n",
    "plt.scatter(y_pred_lr, y_val, alpha=0.2)\n",
    "\n",
    "plt.xlabel(\"Predictions value\")\n",
    "plt.ylabel(\"Actual value\")\n",
    "plt.title(\"Predictions vs Actual\")\n",
    "plt.xlim(0, 1)\n",
    "plt.ylim(0, 1)\n",
    "plt.show()"
   ]
  },
  {
   "cell_type": "code",
   "execution_count": null,
   "metadata": {},
   "outputs": [],
   "source": [
    "joblib.dump(lr_model, \"trained_models/carprice_model_linear_regression.joblib\")"
   ]
  },
  {
   "cell_type": "markdown",
   "metadata": {
    "id": "3wvVjwnkZI0K"
   },
   "source": [
    "## **Train a Neural Network to predict car price**"
   ]
  },
  {
   "cell_type": "code",
   "execution_count": null,
   "metadata": {
    "id": "cRVX8bSxZI0L"
   },
   "outputs": [],
   "source": [
    "from torch.utils.data import Dataset, DataLoader\n",
    "\n",
    "# TODO: Create dataset from numpy array X, y\n",
    "class CarPriceDataset(Dataset):\n",
    "    def __init__(self, X, y = None):\n",
    "\n",
    "    def __len__(self):\n",
    "        return None\n",
    "\n",
    "    def __getitem__(self, idx):\n",
    "        return None"
   ]
  },
  {
   "cell_type": "code",
   "execution_count": null,
   "metadata": {},
   "outputs": [],
   "source": [
    "# TODO: Create dataset and dataloader\n",
    "\n",
    "# x_sample, y_sample = next(iter(train_dataloader))\n",
    "# x_sample, y_sample"
   ]
  },
  {
   "cell_type": "code",
   "execution_count": null,
   "metadata": {
    "id": "zSvDE-GjZI0L"
   },
   "outputs": [],
   "source": [
    "class CarPriceModel(nn.Module):\n",
    "    def __init__(self, input_size, output_size):\n",
    "        super().__init__()\n",
    "        # TODO: create a linear layer with input_size and output_size\n",
    "\n",
    "    def forward(self, x):\n",
    "        # TODO: create forward pass\n",
    "        return x"
   ]
  },
  {
   "cell_type": "code",
   "execution_count": null,
   "metadata": {
    "colab": {
     "base_uri": "https://localhost:8080/"
    },
    "id": "YXdDQUJXZI0L",
    "outputId": "90207a30-2e2d-4a54-c7db-a5be651b9814"
   },
   "outputs": [],
   "source": [
    "n_features, n_output = X_train.shape[1], y_train.shape[1]\n",
    "print(n_features)\n",
    "model = CarPriceModel(input_size=n_features, output_size=n_output)\n",
    "model"
   ]
  },
  {
   "cell_type": "code",
   "execution_count": null,
   "metadata": {},
   "outputs": [],
   "source": [
    "def train(\n",
    "    model,\n",
    "    train_dataloader,\n",
    "    test_dataloader,\n",
    "    optimizer,\n",
    "    loss_fn = nn.MSELoss(reduction='mean'),\n",
    "    num_epochs = 100,\n",
    "    update_frequency = 10,\n",
    "):\n",
    "    for epoch in tqdm(range(num_epochs)):\n",
    "        # Set the model to training mode.\n",
    "        model.train()\n",
    "        for x, y in train_dataloader:\n",
    "            # Forward pass.\n",
    "            y_pred = model(x.float())\n",
    "            # Calculate the loss.\n",
    "            loss = loss_fn(y_pred, y.float())\n",
    "            # Backward pass.\n",
    "            loss.backward()\n",
    "            # Update the model parameters.\n",
    "            optimizer.step()\n",
    "            # Reset the gradients.\n",
    "            optimizer.zero_grad()\n",
    "\n",
    "        # Set the model to evaluation mode and calculate the test loss at the end of each epoch.\n",
    "        model.eval()\n",
    "        with torch.no_grad():\n",
    "            for x, y in test_dataloader:\n",
    "                # Forward pass.\n",
    "                y_pred = model(x.float())\n",
    "                # Calculate the loss.\n",
    "                loss = loss_fn(y_pred, y.float())\n",
    "\n",
    "            # Print the loss if the epoch is a multiple of 10.\n",
    "            if epoch % update_frequency == 0:\n",
    "                print(f\"Epoch {epoch}: {loss.item()}\")\n",
    "\n",
    "\n",
    "def predict(model, test_dataloader):\n",
    "    model.eval()\n",
    "    y_pred_list = []\n",
    "    y_true_list = []\n",
    "    for x, y in test_dataloader:\n",
    "        y_pred = model(x.float())\n",
    "        prediction = y_pred.detach().numpy()\n",
    "        y = y.numpy()\n",
    "        y_pred_list.extend(prediction)\n",
    "        y_true_list.extend(y)\n",
    "    y_pred_list = np.concatenate(y_pred_list)\n",
    "    y_true_list = np.concatenate(y_true_list)\n",
    "    return y_pred_list, y_true_list"
   ]
  },
  {
   "cell_type": "code",
   "execution_count": null,
   "metadata": {
    "colab": {
     "base_uri": "https://localhost:8080/",
     "height": 257,
     "referenced_widgets": [
      "7fe8e4c2acef4adea2cf9fef39795c5e",
      "d9839160a7c2408696d83767c13c651c",
      "18aaab3bd8ba48c9b533fe256fc39d82",
      "817c8d5cdab74e59a13f39e1996e4d89",
      "9aacca6b17e4468f9692fbb15780b579",
      "5a6e75a00ec9490497ac5eb820fdc9e8",
      "fbe80d8dafd0475d8b530f4356a36350",
      "f4b59508c0554f9198dbd1be61e02b27",
      "e426086a0edd48099e1eb39e8c1f1550",
      "14c540053b324b83a58d665d53b695c9",
      "3805565dc03c44b89127ec2b8d499e7b"
     ]
    },
    "id": "KUPnOccyZI0M",
    "outputId": "8e49f91e-6ecb-40af-b57b-46123977c0d9"
   },
   "outputs": [],
   "source": [
    "# Define the loss function and the optimizer.\n",
    "learning_rate = 1e-3\n",
    "loss_fn = nn.MSELoss(reduction=\"mean\")\n",
    "optimizer = torch.optim.Adam(model.parameters(), lr=learning_rate)\n",
    "\n",
    "# Train the model.\n",
    "num_epochs = 120\n",
    "update_frequency = 10\n",
    "\n",
    "train(\n",
    "    model = model,\n",
    "    train_dataloader = train_dataloader,\n",
    "    test_dataloader = val_dataloader,\n",
    "    optimizer = optimizer,\n",
    "    loss_fn = loss_fn,\n",
    "    num_epochs = num_epochs,\n",
    "    update_frequency = update_frequency,\n",
    ")"
   ]
  },
  {
   "cell_type": "markdown",
   "metadata": {
    "id": "lIYyFW3QZI0M"
   },
   "source": [
    "### Evaluate the model on the test set with Mean Squared Error"
   ]
  },
  {
   "cell_type": "code",
   "execution_count": null,
   "metadata": {
    "id": "pbGtQYsRZI0M"
   },
   "outputs": [],
   "source": [
    "# Get the predictions for the test set\n",
    "y_pred, y_true = predict(model, val_dataloader)"
   ]
  },
  {
   "cell_type": "code",
   "execution_count": null,
   "metadata": {
    "colab": {
     "base_uri": "https://localhost:8080/"
    },
    "id": "BmcaecNgZI0M",
    "outputId": "14d03db8-9c01-4451-df5d-1ac018ec5f8b"
   },
   "outputs": [],
   "source": [
    "mean_squared_error(y_true, y_pred)"
   ]
  },
  {
   "cell_type": "code",
   "execution_count": null,
   "metadata": {
    "colab": {
     "base_uri": "https://localhost:8080/",
     "height": 279
    },
    "id": "S6AvZKUvZI0N",
    "outputId": "c6bda80a-64a0-43a9-fe2b-fc4215541c7d"
   },
   "outputs": [],
   "source": [
    "# Plot a perfect prediction line.\n",
    "plt.plot([0, 1], [0, 1],  \"--\", color=\"black\",)\n",
    "# Plot the predictions vs the actual values.\n",
    "plt.scatter(y_pred, y_true, alpha=0.2)\n",
    "\n",
    "plt.xlabel(\"Predictions\")\n",
    "plt.ylabel(\"Actual\")\n",
    "plt.title(\"Predictions vs Actual\")\n",
    "plt.xlim(0, 1)\n",
    "plt.ylim(0, 1)\n",
    "plt.show()"
   ]
  },
  {
   "cell_type": "code",
   "execution_count": null,
   "metadata": {},
   "outputs": [],
   "source": [
    "torch.save(model.state_dict(), \"trained_models/carprice_model_mse_0003.pth\")"
   ]
  },
  {
   "cell_type": "markdown",
   "metadata": {},
   "source": [
    "## **Train a Neural Network with multiple layers (MLP)**"
   ]
  },
  {
   "cell_type": "code",
   "execution_count": null,
   "metadata": {},
   "outputs": [],
   "source": [
    "class CarPriceTwoLayerModel(nn.Module):\n",
    "    def __init__(self, input_size, output_size, intermediate_dim = 10):\n",
    "        super().__init__()\n",
    "        # TODOs: Create two layers neural network\n",
    "\n",
    "    def forward(self, x):\n",
    "        # TODOs: Create forward pass\n",
    "        return x\n",
    "\n",
    "model_two_layers = CarPriceTwoLayerModel(input_size=n_features, output_size=n_output)"
   ]
  },
  {
   "cell_type": "code",
   "execution_count": null,
   "metadata": {},
   "outputs": [],
   "source": [
    "# Define the loss function and the optimizer.\n",
    "learning_rate = 1e-3 # = 0.001\n",
    "loss_fn = nn.MSELoss(reduction=\"mean\")\n",
    "optimizer = torch.optim.Adam(model_two_layers.parameters(), lr=learning_rate)\n",
    "\n",
    "# Train the model.\n",
    "num_epochs = 120\n",
    "update_frequency = 10\n",
    "\n",
    "train(\n",
    "    model=model_two_layers,\n",
    "    train_dataloader=train_dataloader,\n",
    "    test_dataloader=val_dataloader,\n",
    "    optimizer=optimizer,\n",
    "    loss_fn=loss_fn,\n",
    "    num_epochs=num_epochs,\n",
    "    update_frequency=update_frequency,\n",
    ")"
   ]
  },
  {
   "cell_type": "code",
   "execution_count": null,
   "metadata": {},
   "outputs": [],
   "source": [
    "y_test, y_true_dl = predict(model_two_layers, val_dataloader)\n",
    "mse_score = mean_squared_error(y_test, y_true_dl)\n",
    "mse_score"
   ]
  },
  {
   "cell_type": "code",
   "execution_count": null,
   "metadata": {},
   "outputs": [],
   "source": [
    "# Plot a perfect prediction line.\n",
    "plt.plot([0, 1], [0, 1],  \"--\", color=\"black\",)\n",
    "# Plot the predictions vs the actual values.\n",
    "plt.scatter(y_true_dl, y_test, alpha=0.2)\n",
    "\n",
    "plt.xlabel(\"Predictions value\")\n",
    "plt.ylabel(\"Actual value\")\n",
    "plt.title(\"Predictions vs Actual\")\n",
    "plt.xlim(0, 1)\n",
    "plt.ylim(0, 1)\n",
    "plt.show()"
   ]
  },
  {
   "cell_type": "code",
   "execution_count": null,
   "metadata": {},
   "outputs": [],
   "source": [
    "torch.save(model_two_layers.state_dict(), f\"trained_models/carprice_two_layer_model_mse_00018.pth\")"
   ]
  },
  {
   "cell_type": "markdown",
   "metadata": {
    "id": "NgiMit2wZI0N"
   },
   "source": [
    "## **Use the models to predict on new data**\n",
    "\n",
    "- Create a model\n",
    "- Load one-hot-encoder and scaler\n",
    "- Transform dataframe\n",
    "- Predict"
   ]
  },
  {
   "cell_type": "code",
   "execution_count": null,
   "metadata": {},
   "outputs": [],
   "source": [
    "import joblib\n",
    "import numpy as np\n",
    "import pandas as pd\n",
    "import torch.nn as nn\n",
    "from sklearn.model_selection import train_test_split\n",
    "from torch.utils.data import Dataset, DataLoader"
   ]
  },
  {
   "cell_type": "code",
   "execution_count": null,
   "metadata": {},
   "outputs": [],
   "source": [
    "# load data (similar to previous code)\n",
    "\n",
    "df = pd.read_csv(op.join(\"deep-learning-skooldio\", \"rodkaidee-dataset\", \"Rodkaidee Data.csv\"))\n",
    "df[\"Price\"] = df[\"Price\"].apply(lambda x: float(x.replace(\",\", \"\")))\n",
    "df[\"Mileage\"] = df[\"Mileage\"].apply(lambda x: float(x.replace(\",\", \"\")))\n",
    "\n",
    "_, df_test = train_test_split(df, test_size=0.2, random_state=42)"
   ]
  },
  {
   "cell_type": "code",
   "execution_count": null,
   "metadata": {},
   "outputs": [],
   "source": [
    "# create model and load trained weights\n",
    "class CarPriceTwoLayerModel(nn.Module):\n",
    "    def __init__(self, input_size, output_size, intermediate_dim = 10):\n",
    "        super().__init__()\n",
    "        self.linear1 = nn.Linear(input_size, intermediate_dim)\n",
    "        self.linear2 = nn.Linear(intermediate_dim, output_size)\n",
    "        self.relu = nn.ReLU()\n",
    "\n",
    "    def forward(self, x):\n",
    "        x = self.linear1(x)\n",
    "        x = self.relu(x)\n",
    "        x = self.linear2(x)\n",
    "        return x\n",
    "\n",
    "model = CarPriceTwoLayerModel(137, 1)\n",
    "model.load_state_dict(torch.load(\"trained_models/carprice_two_layer_model_mse_00018.pth\"))"
   ]
  },
  {
   "cell_type": "code",
   "execution_count": null,
   "metadata": {},
   "outputs": [],
   "source": [
    "# load one-hot encoder \n",
    "one_hot_encoder_path = \"trained_models/one_hot_encoder.joblib\"\n",
    "year_scaler_path = \"trained_models/year_scaler.joblib\"\n",
    "mileage_scaler_path = \"trained_models/mileage_scaler.joblib\"\n",
    "price_scaler_path = \"trained_models/price_scaler.joblib\"\n",
    "\n",
    "ohe = joblib.load(one_hot_encoder_path)\n",
    "year_scaler = joblib.load(year_scaler_path)\n",
    "mileage_scaler = joblib.load(mileage_scaler_path)\n",
    "price_scaler = joblib.load(price_scaler_path)"
   ]
  },
  {
   "cell_type": "code",
   "execution_count": null,
   "metadata": {},
   "outputs": [],
   "source": [
    "class CarPriceDataset(Dataset):\n",
    "    def __init__(self, X, y = None):\n",
    "        self.X = X\n",
    "        if y is not None:\n",
    "            self.y = y\n",
    "        else:\n",
    "            self.y = None\n",
    "\n",
    "    def __len__(self):\n",
    "        return len(self.X)\n",
    "\n",
    "    def __getitem__(self, idx):\n",
    "        if self.y is not None:\n",
    "            return self.X[idx], self.y[idx]\n",
    "        else:\n",
    "            return self.X[idx]"
   ]
  },
  {
   "cell_type": "code",
   "execution_count": null,
   "metadata": {},
   "outputs": [],
   "source": [
    "# prepare test dataset\n",
    "CAT_COLUMNS = [\"Brand\", \"Model\", \"Engine\", \"Segment\", \"Province\", \"Color\"]\n",
    "X_test = np.hstack([\n",
    "    ohe.transform(df_val[CAT_COLUMNS]),\n",
    "    year_scaler.transform(df_val[[\"Year\"]]),\n",
    "    mileage_scaler.transform(df_val[[\"Mileage\"]]),\n",
    "])\n",
    "test_dataset = CarPriceDataset(X_test)\n",
    "test_dataloader = DataLoader(test_dataset, batch_size=32, shuffle=False)"
   ]
  },
  {
   "cell_type": "code",
   "execution_count": null,
   "metadata": {},
   "outputs": [],
   "source": [
    "def predict(model, test_dataloader):\n",
    "    model.eval()\n",
    "    y_pred_list = []\n",
    "    for x in test_dataloader:\n",
    "        y_pred = model(x.float())\n",
    "        prediction = y_pred.detach().numpy()\n",
    "        y_pred_list.extend(prediction)\n",
    "    y_pred_list = np.concatenate(y_pred_list)\n",
    "    return y_pred_list"
   ]
  },
  {
   "cell_type": "code",
   "execution_count": null,
   "metadata": {},
   "outputs": [],
   "source": [
    "y_pred = predict(model, test_dataloader)\n",
    "y_pred_price = price_scaler.inverse_transform(y_pred.reshape(-1, 1))"
   ]
  },
  {
   "cell_type": "code",
   "execution_count": null,
   "metadata": {},
   "outputs": [],
   "source": [
    "df_test[\"Pred_Price\"] = y_pred_price"
   ]
  },
  {
   "cell_type": "code",
   "execution_count": null,
   "metadata": {},
   "outputs": [],
   "source": [
    "df_test.head(10)"
   ]
  },
  {
   "cell_type": "code",
   "execution_count": null,
   "metadata": {},
   "outputs": [],
   "source": [
    "plt.plot([0, 1_000_000], [0, 1_000_000], color=\"black\", alpha=0.5, linestyle=\"--\")\n",
    "\n",
    "plt.scatter(df_test[\"Pred_Price\"].values, df_test[\"Price\"], alpha=0.2)\n",
    "plt.xlabel(\"Predictions (Baht)\")\n",
    "plt.ylabel(\"Actual (Baht)\")\n",
    "plt.title(\"Predictions vs Actual\")\n",
    "\n",
    "plt.xlim(0, 1_000_000)\n",
    "plt.ylim(0, 1_000_000)\n",
    "plt.show()"
   ]
  }
 ],
 "metadata": {
  "accelerator": "GPU",
  "colab": {
   "provenance": []
  },
  "gpuClass": "standard",
  "kernelspec": {
   "display_name": "Python 3 (ipykernel)",
   "language": "python",
   "name": "python3"
  },
  "language_info": {
   "codemirror_mode": {
    "name": "ipython",
    "version": 3
   },
   "file_extension": ".py",
   "mimetype": "text/x-python",
   "name": "python",
   "nbconvert_exporter": "python",
   "pygments_lexer": "ipython3",
   "version": "3.7.13"
  },
  "vscode": {
   "interpreter": {
    "hash": "94499b8ebe41d82c56ca741edd2212fa3535c1025402838f7d8b62fb6e0f95b1"
   }
  },
  "widgets": {
   "application/vnd.jupyter.widget-state+json": {
    "14c540053b324b83a58d665d53b695c9": {
     "model_module": "@jupyter-widgets/base",
     "model_module_version": "1.2.0",
     "model_name": "LayoutModel",
     "state": {
      "_model_module": "@jupyter-widgets/base",
      "_model_module_version": "1.2.0",
      "_model_name": "LayoutModel",
      "_view_count": null,
      "_view_module": "@jupyter-widgets/base",
      "_view_module_version": "1.2.0",
      "_view_name": "LayoutView",
      "align_content": null,
      "align_items": null,
      "align_self": null,
      "border": null,
      "bottom": null,
      "display": null,
      "flex": null,
      "flex_flow": null,
      "grid_area": null,
      "grid_auto_columns": null,
      "grid_auto_flow": null,
      "grid_auto_rows": null,
      "grid_column": null,
      "grid_gap": null,
      "grid_row": null,
      "grid_template_areas": null,
      "grid_template_columns": null,
      "grid_template_rows": null,
      "height": null,
      "justify_content": null,
      "justify_items": null,
      "left": null,
      "margin": null,
      "max_height": null,
      "max_width": null,
      "min_height": null,
      "min_width": null,
      "object_fit": null,
      "object_position": null,
      "order": null,
      "overflow": null,
      "overflow_x": null,
      "overflow_y": null,
      "padding": null,
      "right": null,
      "top": null,
      "visibility": null,
      "width": null
     }
    },
    "18aaab3bd8ba48c9b533fe256fc39d82": {
     "model_module": "@jupyter-widgets/controls",
     "model_module_version": "1.5.0",
     "model_name": "FloatProgressModel",
     "state": {
      "_dom_classes": [],
      "_model_module": "@jupyter-widgets/controls",
      "_model_module_version": "1.5.0",
      "_model_name": "FloatProgressModel",
      "_view_count": null,
      "_view_module": "@jupyter-widgets/controls",
      "_view_module_version": "1.5.0",
      "_view_name": "ProgressView",
      "bar_style": "success",
      "description": "",
      "description_tooltip": null,
      "layout": "IPY_MODEL_f4b59508c0554f9198dbd1be61e02b27",
      "max": 120,
      "min": 0,
      "orientation": "horizontal",
      "style": "IPY_MODEL_e426086a0edd48099e1eb39e8c1f1550",
      "value": 120
     }
    },
    "3805565dc03c44b89127ec2b8d499e7b": {
     "model_module": "@jupyter-widgets/controls",
     "model_module_version": "1.5.0",
     "model_name": "DescriptionStyleModel",
     "state": {
      "_model_module": "@jupyter-widgets/controls",
      "_model_module_version": "1.5.0",
      "_model_name": "DescriptionStyleModel",
      "_view_count": null,
      "_view_module": "@jupyter-widgets/base",
      "_view_module_version": "1.2.0",
      "_view_name": "StyleView",
      "description_width": ""
     }
    },
    "5a6e75a00ec9490497ac5eb820fdc9e8": {
     "model_module": "@jupyter-widgets/base",
     "model_module_version": "1.2.0",
     "model_name": "LayoutModel",
     "state": {
      "_model_module": "@jupyter-widgets/base",
      "_model_module_version": "1.2.0",
      "_model_name": "LayoutModel",
      "_view_count": null,
      "_view_module": "@jupyter-widgets/base",
      "_view_module_version": "1.2.0",
      "_view_name": "LayoutView",
      "align_content": null,
      "align_items": null,
      "align_self": null,
      "border": null,
      "bottom": null,
      "display": null,
      "flex": null,
      "flex_flow": null,
      "grid_area": null,
      "grid_auto_columns": null,
      "grid_auto_flow": null,
      "grid_auto_rows": null,
      "grid_column": null,
      "grid_gap": null,
      "grid_row": null,
      "grid_template_areas": null,
      "grid_template_columns": null,
      "grid_template_rows": null,
      "height": null,
      "justify_content": null,
      "justify_items": null,
      "left": null,
      "margin": null,
      "max_height": null,
      "max_width": null,
      "min_height": null,
      "min_width": null,
      "object_fit": null,
      "object_position": null,
      "order": null,
      "overflow": null,
      "overflow_x": null,
      "overflow_y": null,
      "padding": null,
      "right": null,
      "top": null,
      "visibility": null,
      "width": null
     }
    },
    "7fe8e4c2acef4adea2cf9fef39795c5e": {
     "model_module": "@jupyter-widgets/controls",
     "model_module_version": "1.5.0",
     "model_name": "HBoxModel",
     "state": {
      "_dom_classes": [],
      "_model_module": "@jupyter-widgets/controls",
      "_model_module_version": "1.5.0",
      "_model_name": "HBoxModel",
      "_view_count": null,
      "_view_module": "@jupyter-widgets/controls",
      "_view_module_version": "1.5.0",
      "_view_name": "HBoxView",
      "box_style": "",
      "children": [
       "IPY_MODEL_d9839160a7c2408696d83767c13c651c",
       "IPY_MODEL_18aaab3bd8ba48c9b533fe256fc39d82",
       "IPY_MODEL_817c8d5cdab74e59a13f39e1996e4d89"
      ],
      "layout": "IPY_MODEL_9aacca6b17e4468f9692fbb15780b579"
     }
    },
    "817c8d5cdab74e59a13f39e1996e4d89": {
     "model_module": "@jupyter-widgets/controls",
     "model_module_version": "1.5.0",
     "model_name": "HTMLModel",
     "state": {
      "_dom_classes": [],
      "_model_module": "@jupyter-widgets/controls",
      "_model_module_version": "1.5.0",
      "_model_name": "HTMLModel",
      "_view_count": null,
      "_view_module": "@jupyter-widgets/controls",
      "_view_module_version": "1.5.0",
      "_view_name": "HTMLView",
      "description": "",
      "description_tooltip": null,
      "layout": "IPY_MODEL_14c540053b324b83a58d665d53b695c9",
      "placeholder": "​",
      "style": "IPY_MODEL_3805565dc03c44b89127ec2b8d499e7b",
      "value": " 120/120 [00:21&lt;00:00,  6.03it/s]"
     }
    },
    "9aacca6b17e4468f9692fbb15780b579": {
     "model_module": "@jupyter-widgets/base",
     "model_module_version": "1.2.0",
     "model_name": "LayoutModel",
     "state": {
      "_model_module": "@jupyter-widgets/base",
      "_model_module_version": "1.2.0",
      "_model_name": "LayoutModel",
      "_view_count": null,
      "_view_module": "@jupyter-widgets/base",
      "_view_module_version": "1.2.0",
      "_view_name": "LayoutView",
      "align_content": null,
      "align_items": null,
      "align_self": null,
      "border": null,
      "bottom": null,
      "display": null,
      "flex": null,
      "flex_flow": null,
      "grid_area": null,
      "grid_auto_columns": null,
      "grid_auto_flow": null,
      "grid_auto_rows": null,
      "grid_column": null,
      "grid_gap": null,
      "grid_row": null,
      "grid_template_areas": null,
      "grid_template_columns": null,
      "grid_template_rows": null,
      "height": null,
      "justify_content": null,
      "justify_items": null,
      "left": null,
      "margin": null,
      "max_height": null,
      "max_width": null,
      "min_height": null,
      "min_width": null,
      "object_fit": null,
      "object_position": null,
      "order": null,
      "overflow": null,
      "overflow_x": null,
      "overflow_y": null,
      "padding": null,
      "right": null,
      "top": null,
      "visibility": null,
      "width": null
     }
    },
    "d9839160a7c2408696d83767c13c651c": {
     "model_module": "@jupyter-widgets/controls",
     "model_module_version": "1.5.0",
     "model_name": "HTMLModel",
     "state": {
      "_dom_classes": [],
      "_model_module": "@jupyter-widgets/controls",
      "_model_module_version": "1.5.0",
      "_model_name": "HTMLModel",
      "_view_count": null,
      "_view_module": "@jupyter-widgets/controls",
      "_view_module_version": "1.5.0",
      "_view_name": "HTMLView",
      "description": "",
      "description_tooltip": null,
      "layout": "IPY_MODEL_5a6e75a00ec9490497ac5eb820fdc9e8",
      "placeholder": "​",
      "style": "IPY_MODEL_fbe80d8dafd0475d8b530f4356a36350",
      "value": "100%"
     }
    },
    "e426086a0edd48099e1eb39e8c1f1550": {
     "model_module": "@jupyter-widgets/controls",
     "model_module_version": "1.5.0",
     "model_name": "ProgressStyleModel",
     "state": {
      "_model_module": "@jupyter-widgets/controls",
      "_model_module_version": "1.5.0",
      "_model_name": "ProgressStyleModel",
      "_view_count": null,
      "_view_module": "@jupyter-widgets/base",
      "_view_module_version": "1.2.0",
      "_view_name": "StyleView",
      "bar_color": null,
      "description_width": ""
     }
    },
    "f4b59508c0554f9198dbd1be61e02b27": {
     "model_module": "@jupyter-widgets/base",
     "model_module_version": "1.2.0",
     "model_name": "LayoutModel",
     "state": {
      "_model_module": "@jupyter-widgets/base",
      "_model_module_version": "1.2.0",
      "_model_name": "LayoutModel",
      "_view_count": null,
      "_view_module": "@jupyter-widgets/base",
      "_view_module_version": "1.2.0",
      "_view_name": "LayoutView",
      "align_content": null,
      "align_items": null,
      "align_self": null,
      "border": null,
      "bottom": null,
      "display": null,
      "flex": null,
      "flex_flow": null,
      "grid_area": null,
      "grid_auto_columns": null,
      "grid_auto_flow": null,
      "grid_auto_rows": null,
      "grid_column": null,
      "grid_gap": null,
      "grid_row": null,
      "grid_template_areas": null,
      "grid_template_columns": null,
      "grid_template_rows": null,
      "height": null,
      "justify_content": null,
      "justify_items": null,
      "left": null,
      "margin": null,
      "max_height": null,
      "max_width": null,
      "min_height": null,
      "min_width": null,
      "object_fit": null,
      "object_position": null,
      "order": null,
      "overflow": null,
      "overflow_x": null,
      "overflow_y": null,
      "padding": null,
      "right": null,
      "top": null,
      "visibility": null,
      "width": null
     }
    },
    "fbe80d8dafd0475d8b530f4356a36350": {
     "model_module": "@jupyter-widgets/controls",
     "model_module_version": "1.5.0",
     "model_name": "DescriptionStyleModel",
     "state": {
      "_model_module": "@jupyter-widgets/controls",
      "_model_module_version": "1.5.0",
      "_model_name": "DescriptionStyleModel",
      "_view_count": null,
      "_view_module": "@jupyter-widgets/base",
      "_view_module_version": "1.2.0",
      "_view_name": "StyleView",
      "description_width": ""
     }
    }
   }
  }
 },
 "nbformat": 4,
 "nbformat_minor": 1
}
