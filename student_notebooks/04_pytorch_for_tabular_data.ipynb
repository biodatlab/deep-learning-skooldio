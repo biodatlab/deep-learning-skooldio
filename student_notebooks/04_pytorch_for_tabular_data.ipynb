{
 "cells": [
  {
   "cell_type": "markdown",
   "metadata": {
    "id": "YF2zLg6ZasDW"
   },
   "source": [
    "[![Open in Colab](https://colab.research.google.com/assets/colab-badge.svg)](https://colab.research.google.com/github/biodatlab/deep-learning-skooldio/blob/master/student_notebooks/04_pytorch_for_tabular_data.ipynb)\n",
    "\n",
    "\n",
    "## **Predicting second hand car price from Rodkaidee: Regression**\n",
    "\n",
    "This notebook contains the following steps for predicting second hand car price from [Rodkaidee website](https://rod.kaidee.com/)\n",
    "\n",
    "- Import libraries\n",
    "- Prepare data: Categorical and numerical features\n",
    "- Train linear regression model\n",
    "- Train one-layer neural network model for regression (equivalent to linear regression)\n",
    "- Train multi-layer neural network model for regression"
   ]
  },
  {
   "cell_type": "code",
   "execution_count": null,
   "metadata": {
    "id": "zxcAGilIZI0C"
   },
   "outputs": [],
   "source": [
    "import os\n",
    "import os.path as op\n",
    "\n",
    "import pandas as pd\n",
    "import numpy as np\n",
    "from tqdm.auto import tqdm\n",
    "import matplotlib.pyplot as plt\n",
    "\n",
    "import torch\n",
    "import torch.nn as nn\n",
    "import torch.nn.functional as F\n",
    "\n",
    "from sklearn.linear_model import LinearRegression\n",
    "from sklearn.model_selection import train_test_split\n",
    "from sklearn.preprocessing import OneHotEncoder, MinMaxScaler\n",
    "from sklearn.metrics import mean_squared_error\n",
    "import joblib"
   ]
  },
  {
   "cell_type": "markdown",
   "metadata": {
    "id": "1aoH2TxDZI0E"
   },
   "source": [
    "## **Data Preparation**\n",
    "\n",
    "- Download data from [`github.com/biodatlab/deep-learning-skooldio`](https://github.com/biodatlab/deep-learning-skooldio)\n",
    "- Clean and split data"
   ]
  },
  {
   "cell_type": "code",
   "execution_count": null,
   "metadata": {
    "colab": {
     "base_uri": "https://localhost:8080/"
    },
    "id": "gsG2yzF-asDd",
    "outputId": "de0c93ca-60b1-4b92-a659-a773c47ae7cb"
   },
   "outputs": [],
   "source": [
    "!git clone https://github.com/biodatlab/deep-learning-skooldio"
   ]
  },
  {
   "cell_type": "code",
   "execution_count": null,
   "metadata": {
    "colab": {
     "base_uri": "https://localhost:8080/",
     "height": 206
    },
    "id": "wCZuVhV7ZI0F",
    "outputId": "595636a2-afe7-487f-83fe-2df450639fc6"
   },
   "outputs": [],
   "source": [
    "df = pd.read_csv(op.join(\"deep-learning-skooldio\", \"rodkaidee-dataset\", \"Rodkaidee Data.csv\"))\n",
    "df.head(5)"
   ]
  },
  {
   "cell_type": "markdown",
   "metadata": {
    "id": "yO2x_5EWasDd"
   },
   "source": [
    "## Clean and split data "
   ]
  },
  {
   "cell_type": "code",
   "execution_count": null,
   "metadata": {
    "id": "H9ytZhjKasDe"
   },
   "outputs": [],
   "source": [
    "import os.path as op\n",
    "\n",
    "# TODO: Clean price and mileage from string to float\n",
    "\n",
    "# TODO: Split dataset using `train_test_split` to 80% train and 20% test"
   ]
  },
  {
   "cell_type": "code",
   "execution_count": null,
   "metadata": {
    "colab": {
     "base_uri": "https://localhost:8080/"
    },
    "id": "5d1SgM7Ebhme",
    "outputId": "a1b87b9a-2295-4a40-e910-77e88ffc2ff1"
   },
   "outputs": [],
   "source": [
    "# TODO: Check image size"
   ]
  },
  {
   "cell_type": "markdown",
   "metadata": {
    "id": "JFqqEkUUZI0G"
   },
   "source": [
    "## Apply One-hot Encoding to categorical values\n",
    "\n",
    "For example, if a column has three unique values 'A', 'B', and 'C', rows that contain 'C' will be transformed to [0, 0, 1]."
   ]
  },
  {
   "cell_type": "code",
   "execution_count": null,
   "metadata": {
    "id": "UVGQx_osasDf"
   },
   "outputs": [],
   "source": [
    "# TODO: Create one-hot encoder class using OneHotEncoder for transforming categorical columns in variable name ``ohe``"
   ]
  },
  {
   "cell_type": "code",
   "execution_count": null,
   "metadata": {
    "id": "IxG2lFoCcPD1"
   },
   "outputs": [],
   "source": [
    "# TODO: Use ``ohe`` to transform our dataframe\n"
   ]
  },
  {
   "cell_type": "markdown",
   "metadata": {
    "id": "TWBWpadpZI0I"
   },
   "source": [
    "## Normalize continuous values\n",
    "\n",
    "We will use `MinMaxScaler` to normalize continuous value.\n",
    "For example, column X has values from 0 to 1000000, so we need to normalize them to 0 to 1.\n",
    "Alternatively `StandardScaler` is also an option."
   ]
  },
  {
   "cell_type": "code",
   "execution_count": null,
   "metadata": {
    "id": "2zc0NpePZI0I"
   },
   "outputs": [],
   "source": [
    "# TODO: Create MinMaxScaler for numerical (continuous) columns"
   ]
  },
  {
   "cell_type": "code",
   "execution_count": null,
   "metadata": {
    "id": "2n9gbMzafEN8"
   },
   "outputs": [],
   "source": [
    "# TODO: Use Scaler to transform our dataframe"
   ]
  },
  {
   "cell_type": "markdown",
   "metadata": {
    "id": "XrcO5iI9asDg"
   },
   "source": [
    "## Apply one-hot encoding and normalization to create train and teset dataset"
   ]
  },
  {
   "cell_type": "code",
   "execution_count": null,
   "metadata": {
    "id": "Vh4JhhrHasDh"
   },
   "outputs": [],
   "source": [
    "# TODOs: Apply one-hot encoder and MinMaxScaler to the training and validation dataframe "
   ]
  },
  {
   "cell_type": "code",
   "execution_count": null,
   "metadata": {
    "colab": {
     "base_uri": "https://localhost:8080/"
    },
    "id": "ePU5U-tVhSMN",
    "outputId": "c9568372-3e0a-4221-dc49-dce3c84953a6"
   },
   "outputs": [],
   "source": [
    "X_train.shape, y_train.shape, X_val.shape, y_val.shape"
   ]
  },
  {
   "cell_type": "code",
   "execution_count": null,
   "metadata": {
    "colab": {
     "base_uri": "https://localhost:8080/"
    },
    "id": "fgOFl7HdasDh",
    "outputId": "1c760e50-8da1-4c9e-fb1d-27fa4e6e177e"
   },
   "outputs": [],
   "source": [
    "# save one-hot encoder and scaler objects with joblib\n",
    "save_dir = \"trained_models\"\n",
    "os.makedirs(save_dir, exist_ok=True)\n",
    "joblib.dump(ohe, op.join(save_dir, \"one_hot_encoder.joblib\"))\n",
    "joblib.dump(year_scaler, op.join(save_dir, \"year_scaler.joblib\"))\n",
    "joblib.dump(mileage_scaler, op.join(save_dir, \"mileage_scaler.joblib\"))\n",
    "joblib.dump(price_scaler, op.join(save_dir, \"price_scaler.joblib\"))"
   ]
  },
  {
   "cell_type": "markdown",
   "metadata": {
    "id": "YN3Ax68RZI0I"
   },
   "source": [
    "## **Train a Linear Regression Model**"
   ]
  },
  {
   "cell_type": "code",
   "execution_count": null,
   "metadata": {
    "colab": {
     "base_uri": "https://localhost:8080/"
    },
    "id": "QUxSUR6yZI0J",
    "outputId": "c70dc868-6221-4564-d2ac-71d2d7593aad"
   },
   "outputs": [],
   "source": [
    "# TODO: create a linear regression model and fit to the training data.\n",
    "lr_model = LinearRegression()\n",
    "lr_model.fit(X_train, y_train)"
   ]
  },
  {
   "cell_type": "code",
   "execution_count": null,
   "metadata": {
    "colab": {
     "base_uri": "https://localhost:8080/"
    },
    "id": "33zmOTtJinN-",
    "outputId": "dd9f5357-f6f0-442e-8e11-e9eb68b34ccd"
   },
   "outputs": [],
   "source": [
    "y_pred_lr = lr_model.predict(X_val)\n",
    "y_pred_lr.shape"
   ]
  },
  {
   "cell_type": "code",
   "execution_count": null,
   "metadata": {
    "id": "XbhleAldizkW"
   },
   "outputs": [],
   "source": [
    "df_val[\"Predicted_Price_LR\"] = price_scaler.inverse_transform(y_pred_lr).ravel()"
   ]
  },
  {
   "cell_type": "code",
   "execution_count": null,
   "metadata": {
    "colab": {
     "base_uri": "https://localhost:8080/",
     "height": 424
    },
    "id": "0lQ7NN7wjDno",
    "outputId": "9e02ae46-2d8d-4a44-e771-e379f4200a9c"
   },
   "outputs": [],
   "source": [
    "df_val"
   ]
  },
  {
   "cell_type": "markdown",
   "metadata": {
    "id": "by3rYB_zasDi"
   },
   "source": [
    "## **Evaluate and plot relationship between actual and predicted values**"
   ]
  },
  {
   "cell_type": "code",
   "execution_count": null,
   "metadata": {
    "colab": {
     "base_uri": "https://localhost:8080/"
    },
    "id": "n3KLO5lvasDi",
    "outputId": "5f3f26b7-e435-4eb0-fb5f-21b8c12b5bd5"
   },
   "outputs": [],
   "source": [
    "# Calculate the mean squared error between actual value and prediction\n",
    "\n",
    "# TODO: Create your own MSE\n",
    "\n",
    "# TODO: Use `mean_squared_error` from scikit learn"
   ]
  },
  {
   "cell_type": "code",
   "execution_count": null,
   "metadata": {
    "colab": {
     "base_uri": "https://localhost:8080/",
     "height": 295
    },
    "id": "qbxZv9PhkPbu",
    "outputId": "458bd929-19df-41e9-d817-e93be16698a4"
   },
   "outputs": [],
   "source": [
    "# Plot a perfect prediction line.\n",
    "plt.plot([0, 1], [0, 1],  \"--\", color=\"black\",)\n",
    "# Plot the predictions vs the actual values.\n",
    "plt.Figure(figsize=(10, 10))\n",
    "plt.scatter(y_pred, y_val, alpha=0.2)\n",
    "\n",
    "plt.xlabel(\"Predictions value\")\n",
    "plt.ylabel(\"Actual value\")\n",
    "plt.title(\"Predictions vs Actual\")\n",
    "plt.xlim(0, 1)\n",
    "plt.ylim(0, 1)\n",
    "plt.show()"
   ]
  },
  {
   "cell_type": "code",
   "execution_count": null,
   "metadata": {
    "colab": {
     "base_uri": "https://localhost:8080/"
    },
    "id": "ITn65lMiasDj",
    "outputId": "e20db353-c906-48c4-8b9c-2c8f50f314d5"
   },
   "outputs": [],
   "source": [
    "joblib.dump(lr_model, \"trained_models/carprice_model_linear_regression.joblib\")"
   ]
  },
  {
   "cell_type": "markdown",
   "metadata": {
    "id": "3wvVjwnkZI0K"
   },
   "source": [
    "## **Train a Neural Network to predict car price**"
   ]
  },
  {
   "cell_type": "code",
   "execution_count": null,
   "metadata": {
    "id": "cRVX8bSxZI0L"
   },
   "outputs": [],
   "source": [
    "from torch.utils.data import Dataset, DataLoader\n",
    "\n",
    "# TODO: Create dataset from numpy array X, y\n",
    "class CarPriceDataset(Dataset):\n",
    "    def __init__(self, X, y = None):\n",
    "        \n",
    "\n",
    "    def __len__(self):\n",
    "        \n",
    "\n",
    "    def __getitem__(self, idx):\n"
   ]
  },
  {
   "cell_type": "code",
   "execution_count": null,
   "metadata": {
    "colab": {
     "base_uri": "https://localhost:8080/"
    },
    "id": "gMqdQ4mam3V6",
    "outputId": "30aa5d0b-6234-41a5-e26f-644577d08f5c"
   },
   "outputs": [],
   "source": [
    "# TODO: Create dataset and dataloader\n"
   ]
  },
  {
   "cell_type": "code",
   "execution_count": null,
   "metadata": {
    "id": "zSvDE-GjZI0L"
   },
   "outputs": [],
   "source": [
    "class CarPriceModel(nn.Module):\n",
    "    def __init__(self, input_size, output_size):\n",
    "        super().__init__()\n",
    "        # TODO: Create a linear layer with input_size and output_size\n",
    "\n",
    "    def forward(self, x):\n",
    "        # TODO: Create a forward pass\n",
    "        return x"
   ]
  },
  {
   "cell_type": "code",
   "execution_count": null,
   "metadata": {
    "colab": {
     "base_uri": "https://localhost:8080/"
    },
    "id": "YXdDQUJXZI0L",
    "outputId": "6c1fbbba-8c63-40b3-dcb9-01be98f8e889"
   },
   "outputs": [],
   "source": [
    "# TODO: Create a model"
   ]
  },
  {
   "cell_type": "code",
   "execution_count": null,
   "metadata": {
    "id": "et7X7qfaasDk"
   },
   "outputs": [],
   "source": [
    "def train(\n",
    "    model,\n",
    "    train_dataloader,\n",
    "    test_dataloader,\n",
    "    optimizer,\n",
    "    loss_fn = nn.MSELoss(reduction='mean'),\n",
    "    num_epochs = 100,\n",
    "    update_frequency = 10,\n",
    "):\n",
    "    for epoch in tqdm(range(num_epochs)):\n",
    "        # Set the model to training mode.\n",
    "        model.train()\n",
    "        for x, y in train_dataloader:\n",
    "            # Forward pass.\n",
    "            y_pred = model(x.float())\n",
    "            # Calculate the loss.\n",
    "            loss = loss_fn(y_pred, y.float())\n",
    "            # Backward pass.\n",
    "            loss.backward()\n",
    "            # Update the model parameters.\n",
    "            optimizer.step()\n",
    "            # Reset the gradients.\n",
    "            optimizer.zero_grad()\n",
    "\n",
    "        # Set the model to evaluation mode and calculate the test loss at the end of each epoch.\n",
    "        model.eval()\n",
    "        with torch.no_grad():\n",
    "            for x, y in test_dataloader:\n",
    "                # Forward pass.\n",
    "                y_pred = model(x.float())\n",
    "                # Calculate the loss.\n",
    "                loss = loss_fn(y_pred, y.float())\n",
    "\n",
    "            # Print the loss if the epoch is a multiple of 10.\n",
    "            if epoch % update_frequency == 0:\n",
    "                print(f\"Epoch {epoch}: {loss.item()}\")"
   ]
  },
  {
   "cell_type": "code",
   "execution_count": null,
   "metadata": {
    "colab": {
     "base_uri": "https://localhost:8080/",
     "height": 257,
     "referenced_widgets": [
      "c968faef3c0248a8826179d5b5ccee81",
      "4fadfad6b6cc42568e01ba7a1403e5fe",
      "c973addeba1c4ab4a29ac8c7036b4f0b",
      "dc7b8ef6f3fd4795b34b3fb9d98e38b6",
      "b4b07bc5407f4db0a8493aa1220d0dd5",
      "2fe6fb9ee13741d28b7869e11160a6fa",
      "78f0d4af7a504cf886c7893d42f3ef05",
      "0c1b1ff1cf504aa9b5d533678698b2ec",
      "956832aa361747ab921938b3cfcb9dba",
      "8e300989409348068d76fed0e542cd60",
      "adb020859324475fb43319268abecd0f"
     ]
    },
    "id": "KUPnOccyZI0M",
    "outputId": "a4eea589-f257-475d-f6b5-50b37ad58c6e"
   },
   "outputs": [],
   "source": [
    "# Define the loss function and the optimizer.\n",
    "learning_rate = 1e-3\n",
    "loss_fn = nn.MSELoss(reduction=\"mean\")\n",
    "optimizer = torch.optim.Adam(model.parameters(), lr=learning_rate)\n",
    "\n",
    "# Train the model.\n",
    "num_epochs = 120\n",
    "update_frequency = 10\n",
    "\n",
    "train(\n",
    "    model = model,\n",
    "    train_dataloader = train_dataloader,\n",
    "    test_dataloader = val_dataloader,\n",
    "    optimizer = optimizer,\n",
    "    loss_fn = loss_fn,\n",
    "    num_epochs = num_epochs,\n",
    "    update_frequency = update_frequency,\n",
    ")"
   ]
  },
  {
   "cell_type": "markdown",
   "metadata": {
    "id": "lIYyFW3QZI0M"
   },
   "source": [
    "### Evaluate the model on the test set with Mean Squared Error"
   ]
  },
  {
   "cell_type": "code",
   "execution_count": null,
   "metadata": {
    "id": "1x-0cE0nodyT"
   },
   "outputs": [],
   "source": [
    "def predict(model, test_dataloader):\n",
    "    model.eval()\n",
    "    y_pred_list = []\n",
    "    y_true_list = []\n",
    "    for x, y in test_dataloader:\n",
    "        y_pred = model(x.float())\n",
    "        prediction = y_pred.detach().numpy()\n",
    "        y = y.numpy()\n",
    "        y_pred_list.extend(prediction)\n",
    "        y_true_list.extend(y)\n",
    "    y_pred_list = np.concatenate(y_pred_list)\n",
    "    y_true_list = np.concatenate(y_true_list)\n",
    "    return y_pred_list, y_true_list"
   ]
  },
  {
   "cell_type": "code",
   "execution_count": null,
   "metadata": {
    "id": "pbGtQYsRZI0M"
   },
   "outputs": [],
   "source": [
    "# Get the predictions for the test set\n",
    "y_pred, y_true = predict(model, val_dataloader)"
   ]
  },
  {
   "cell_type": "code",
   "execution_count": null,
   "metadata": {
    "colab": {
     "base_uri": "https://localhost:8080/"
    },
    "id": "BmcaecNgZI0M",
    "outputId": "c7c5a5bc-48f5-410b-b863-f03f2d2d5b13"
   },
   "outputs": [],
   "source": [
    "mean_squared_error(y_true, y_pred)"
   ]
  },
  {
   "cell_type": "code",
   "execution_count": null,
   "metadata": {
    "colab": {
     "base_uri": "https://localhost:8080/",
     "height": 295
    },
    "id": "S6AvZKUvZI0N",
    "outputId": "1992492c-5441-4d10-c8e7-6982b3e8251d"
   },
   "outputs": [],
   "source": [
    "# Plot a perfect prediction line.\n",
    "plt.plot([0, 1], [0, 1],  \"--\", color=\"black\",)\n",
    "# Plot the predictions vs the actual values.\n",
    "plt.scatter(y_pred, y_true, alpha=0.2)\n",
    "\n",
    "plt.xlabel(\"Predictions\")\n",
    "plt.ylabel(\"Actual\")\n",
    "plt.title(\"Predictions vs Actual\")\n",
    "plt.xlim(0, 1)\n",
    "plt.ylim(0, 1)\n",
    "plt.show()"
   ]
  },
  {
   "cell_type": "code",
   "execution_count": null,
   "metadata": {
    "id": "iWE1ndGHasDm"
   },
   "outputs": [],
   "source": [
    "torch.save(model.state_dict(), \"trained_models/carprice_model_mse_0003.pth\")"
   ]
  },
  {
   "cell_type": "markdown",
   "metadata": {
    "id": "EIn0DJhqasDm"
   },
   "source": [
    "## **Train a Neural Network with multiple layers (MLP)**"
   ]
  },
  {
   "cell_type": "code",
   "execution_count": null,
   "metadata": {
    "colab": {
     "base_uri": "https://localhost:8080/"
    },
    "id": "7otfrnLFasDm",
    "outputId": "880011a3-6148-4c3d-8d79-8b919172d5c2"
   },
   "outputs": [],
   "source": [
    "class CarPriceTwoLayerModel(nn.Module):\n",
    "    def __init__(self, input_size, output_size, intermediate_dim = 10):\n",
    "        super().__init__()\n",
    "        # TODOs: Create two layers neural network\n",
    "        self.linear1 = nn.Linear(input_size, intermediate_dim)\n",
    "        self.linear2 = nn.Linear(intermediate_dim, output_size)\n",
    "        self.relu = nn.ReLU()\n",
    "\n",
    "    def forward(self, x):\n",
    "        x = self.linear1(x)\n",
    "        x = self.relu(x)\n",
    "        x = self.linear2(x)\n",
    "        return x\n",
    "\n",
    "model_two_layers = CarPriceTwoLayerModel(input_size=n_features, output_size=n_output)\n",
    "model_two_layers"
   ]
  },
  {
   "cell_type": "code",
   "execution_count": null,
   "metadata": {
    "colab": {
     "base_uri": "https://localhost:8080/",
     "height": 257,
     "referenced_widgets": [
      "ee31ae76c96e416bbe247fa2df1d3d15",
      "f8f365879a3b4d17b10f5ff447a0aa75",
      "99c7afa520cc41b5a915585c7411741a",
      "2552918692a641308cc3cdf03b95db92",
      "2b1a0c7a1b494d5c9139b9dd3e8d34a7",
      "5f4b2d3435a5435a91349a624eef9806",
      "ff294ce6d6e945249112f590a41c15d2",
      "d2bf80fdbac94611a8c45c90787583bf",
      "3bfed75ee32c4272bddddb0b9bd13fc1",
      "aedecc52b775442e909dde41b11041a7",
      "47772db7a200407985342cb56177250d"
     ]
    },
    "id": "YIYMMQxTasDm",
    "outputId": "ae564cce-f444-45c9-f905-560b6905511e"
   },
   "outputs": [],
   "source": [
    "# Define the loss function and the optimizer.\n",
    "learning_rate = 1e-3 # = 0.001\n",
    "loss_fn = nn.MSELoss(reduction=\"mean\")\n",
    "optimizer = torch.optim.Adam(model_two_layers.parameters(), lr=learning_rate)\n",
    "\n",
    "# Train the model.\n",
    "num_epochs = 120\n",
    "update_frequency = 10\n",
    "\n",
    "train(\n",
    "    model=model_two_layers,\n",
    "    train_dataloader=train_dataloader,\n",
    "    test_dataloader=val_dataloader,\n",
    "    optimizer=optimizer,\n",
    "    loss_fn=loss_fn,\n",
    "    num_epochs=num_epochs,\n",
    "    update_frequency=update_frequency,\n",
    ")"
   ]
  },
  {
   "cell_type": "code",
   "execution_count": null,
   "metadata": {
    "colab": {
     "base_uri": "https://localhost:8080/"
    },
    "id": "eouJy8H1asDn",
    "outputId": "1901b616-83ef-496e-a905-da6ec0d03a6a"
   },
   "outputs": [],
   "source": [
    "y_test, y_true_dl = predict(model_two_layers, val_dataloader)\n",
    "mse_score = mean_squared_error(y_test, y_true_dl)\n",
    "mse_score"
   ]
  },
  {
   "cell_type": "code",
   "execution_count": null,
   "metadata": {
    "colab": {
     "base_uri": "https://localhost:8080/",
     "height": 295
    },
    "id": "iZNJqNbLasDn",
    "outputId": "f8703590-013e-4413-d03a-5068ec87e7a6"
   },
   "outputs": [],
   "source": [
    "# Plot a perfect prediction line.\n",
    "plt.plot([0, 1], [0, 1],  \"--\", color=\"black\",)\n",
    "# Plot the predictions vs the actual values.\n",
    "plt.scatter(y_true_dl, y_test, alpha=0.2)\n",
    "\n",
    "plt.xlabel(\"Predictions value\")\n",
    "plt.ylabel(\"Actual value\")\n",
    "plt.title(\"Predictions vs Actual\")\n",
    "plt.xlim(0, 1)\n",
    "plt.ylim(0, 1)\n",
    "plt.show()"
   ]
  },
  {
   "cell_type": "code",
   "execution_count": null,
   "metadata": {
    "id": "jp_I9m55asDn"
   },
   "outputs": [],
   "source": [
    "torch.save(model_two_layers.state_dict(), f\"trained_models/carprice_two_layer_model_mse_00015.pth\")"
   ]
  },
  {
   "cell_type": "markdown",
   "metadata": {
    "id": "NgiMit2wZI0N"
   },
   "source": [
    "## **Use the models to predict on new data**\n",
    "\n",
    "- Create a model\n",
    "- Load one-hot-encoder and scaler\n",
    "- Transform dataframe\n",
    "- Predict"
   ]
  },
  {
   "cell_type": "code",
   "execution_count": null,
   "metadata": {
    "id": "olXauxcfasDn"
   },
   "outputs": [],
   "source": [
    "import joblib\n",
    "import numpy as np\n",
    "import pandas as pd\n",
    "import torch.nn as nn\n",
    "from sklearn.model_selection import train_test_split\n",
    "from torch.utils.data import Dataset, DataLoader"
   ]
  },
  {
   "cell_type": "code",
   "execution_count": null,
   "metadata": {
    "id": "2BJM047_asDo"
   },
   "outputs": [],
   "source": [
    "# load data (similar to previous code)\n",
    "\n",
    "df = pd.read_csv(op.join(\"deep-learning-skooldio\", \"rodkaidee-dataset\", \"Rodkaidee Data.csv\"))\n",
    "df[\"Price\"] = df[\"Price\"].apply(lambda x: float(x.replace(\",\", \"\")))\n",
    "df[\"Mileage\"] = df[\"Mileage\"].apply(lambda x: float(x.replace(\",\", \"\")))\n",
    "\n",
    "_, df_test = train_test_split(df, test_size=0.2, random_state=42)"
   ]
  },
  {
   "cell_type": "code",
   "execution_count": null,
   "metadata": {
    "colab": {
     "base_uri": "https://localhost:8080/"
    },
    "id": "IClYA-JbtP0n",
    "outputId": "66bcc57a-711e-42e7-8c1b-c70ef41fea2c"
   },
   "outputs": [],
   "source": [
    "# TODO: create model and load trained weights\n",
    "class CarPriceTwoLayerModel(nn.Module):\n",
    "    def __init__(self, input_size, output_size, intermediate_dim = 10):\n",
    "        super().__init__()\n",
    "        # TODO: Create layers\n",
    "        \n",
    "    def forward(self, x):\n",
    "        # TODO: Forward pass\n",
    "        return x\n",
    "\n",
    "model = CarPriceTwoLayerModel(138, 1)\n",
    "# TODO: load trained weights"
   ]
  },
  {
   "cell_type": "code",
   "execution_count": null,
   "metadata": {
    "id": "z4_GxCbbasDo"
   },
   "outputs": [],
   "source": [
    "# TODO: Load one-hot encoder"
   ]
  },
  {
   "cell_type": "code",
   "execution_count": null,
   "metadata": {
    "id": "LLCV-RmuasDo"
   },
   "outputs": [],
   "source": [
    "class CarPriceDataset(Dataset):\n",
    "    def __init__(self, X, y = None):\n",
    "        self.X = X\n",
    "        if y is not None:\n",
    "            self.y = y\n",
    "        else:\n",
    "            self.y = None\n",
    "\n",
    "    def __len__(self):\n",
    "        return len(self.X)\n",
    "\n",
    "    def __getitem__(self, idx):\n",
    "        if self.y is not None:\n",
    "            return self.X[idx], self.y[idx]\n",
    "        else:\n",
    "            return self.X[idx]"
   ]
  },
  {
   "cell_type": "code",
   "execution_count": null,
   "metadata": {
    "id": "XGoaR1KaasDp"
   },
   "outputs": [],
   "source": [
    "# prepare test dataset\n",
    "CAT_COLUMNS = [\"Brand\", \"Model\", \"Engine\", \"Segment\", \"Province\", \"Color\"]\n",
    "X_test = np.hstack([\n",
    "    ohe.transform(df_test[CAT_COLUMNS]),\n",
    "    year_scaler.transform(df_test[[\"Year\"]]),\n",
    "    mileage_scaler.transform(df_test[[\"Mileage\"]]),\n",
    "])\n",
    "test_dataset = CarPriceDataset(X_test)\n",
    "test_dataloader = DataLoader(test_dataset, batch_size=32, shuffle=False)"
   ]
  },
  {
   "cell_type": "code",
   "execution_count": null,
   "metadata": {
    "id": "NWA9iijjasDp"
   },
   "outputs": [],
   "source": [
    "def predict(model, test_dataloader):\n",
    "    model.eval()\n",
    "    y_pred_list = []\n",
    "    for x in test_dataloader:\n",
    "        y_pred = model(x.float())\n",
    "        prediction = y_pred.detach().numpy()\n",
    "        y_pred_list.extend(prediction)\n",
    "    y_pred_list = np.concatenate(y_pred_list)\n",
    "    return y_pred_list"
   ]
  },
  {
   "cell_type": "code",
   "execution_count": null,
   "metadata": {
    "id": "awuQ8PPnasDp"
   },
   "outputs": [],
   "source": [
    "y_pred = predict(model, test_dataloader)\n",
    "y_pred_price = price_scaler.inverse_transform(y_pred.reshape(-1, 1))"
   ]
  },
  {
   "cell_type": "code",
   "execution_count": null,
   "metadata": {
    "id": "giMidbY3asDp"
   },
   "outputs": [],
   "source": [
    "df_test[\"Pred_Price\"] = y_pred_price"
   ]
  },
  {
   "cell_type": "code",
   "execution_count": null,
   "metadata": {
    "colab": {
     "base_uri": "https://localhost:8080/",
     "height": 363
    },
    "id": "etbPTcCqasDp",
    "outputId": "6a9a2dec-eca1-470b-d5e4-b1f8ce1bd3ed"
   },
   "outputs": [],
   "source": [
    "df_test.head(10)"
   ]
  },
  {
   "cell_type": "code",
   "execution_count": null,
   "metadata": {
    "colab": {
     "base_uri": "https://localhost:8080/",
     "height": 295
    },
    "id": "WK_dglLwasDp",
    "outputId": "0c806ea3-0e17-45bd-da67-cd43604bab8e"
   },
   "outputs": [],
   "source": [
    "plt.plot([0, 1_000_000], [0, 1_000_000], color=\"black\", alpha=0.5, linestyle=\"--\")\n",
    "\n",
    "plt.scatter(df_test[\"Pred_Price\"].values, df_test[\"Price\"], alpha=0.2)\n",
    "plt.xlabel(\"Predictions (Baht)\")\n",
    "plt.ylabel(\"Actual (Baht)\")\n",
    "plt.title(\"Predictions vs Actual\")\n",
    "\n",
    "plt.xlim(0, 1_000_000)\n",
    "plt.ylim(0, 1_000_000)\n",
    "plt.show()"
   ]
  },
  {
   "cell_type": "code",
   "execution_count": null,
   "metadata": {
    "id": "FNAgg_88vBfr"
   },
   "outputs": [],
   "source": []
  }
 ],
 "metadata": {
  "accelerator": "GPU",
  "colab": {
   "provenance": []
  },
  "gpuClass": "standard",
  "kernelspec": {
   "display_name": "Python 3 (ipykernel)",
   "language": "python",
   "name": "python3"
  },
  "language_info": {
   "codemirror_mode": {
    "name": "ipython",
    "version": 3
   },
   "file_extension": ".py",
   "mimetype": "text/x-python",
   "name": "python",
   "nbconvert_exporter": "python",
   "pygments_lexer": "ipython3",
   "version": "3.7.5"
  },
  "vscode": {
   "interpreter": {
    "hash": "94499b8ebe41d82c56ca741edd2212fa3535c1025402838f7d8b62fb6e0f95b1"
   }
  },
  "widgets": {
   "application/vnd.jupyter.widget-state+json": {
    "0c1b1ff1cf504aa9b5d533678698b2ec": {
     "model_module": "@jupyter-widgets/base",
     "model_module_version": "1.2.0",
     "model_name": "LayoutModel",
     "state": {
      "_model_module": "@jupyter-widgets/base",
      "_model_module_version": "1.2.0",
      "_model_name": "LayoutModel",
      "_view_count": null,
      "_view_module": "@jupyter-widgets/base",
      "_view_module_version": "1.2.0",
      "_view_name": "LayoutView",
      "align_content": null,
      "align_items": null,
      "align_self": null,
      "border": null,
      "bottom": null,
      "display": null,
      "flex": null,
      "flex_flow": null,
      "grid_area": null,
      "grid_auto_columns": null,
      "grid_auto_flow": null,
      "grid_auto_rows": null,
      "grid_column": null,
      "grid_gap": null,
      "grid_row": null,
      "grid_template_areas": null,
      "grid_template_columns": null,
      "grid_template_rows": null,
      "height": null,
      "justify_content": null,
      "justify_items": null,
      "left": null,
      "margin": null,
      "max_height": null,
      "max_width": null,
      "min_height": null,
      "min_width": null,
      "object_fit": null,
      "object_position": null,
      "order": null,
      "overflow": null,
      "overflow_x": null,
      "overflow_y": null,
      "padding": null,
      "right": null,
      "top": null,
      "visibility": null,
      "width": null
     }
    },
    "2552918692a641308cc3cdf03b95db92": {
     "model_module": "@jupyter-widgets/controls",
     "model_module_version": "1.5.0",
     "model_name": "HTMLModel",
     "state": {
      "_dom_classes": [],
      "_model_module": "@jupyter-widgets/controls",
      "_model_module_version": "1.5.0",
      "_model_name": "HTMLModel",
      "_view_count": null,
      "_view_module": "@jupyter-widgets/controls",
      "_view_module_version": "1.5.0",
      "_view_name": "HTMLView",
      "description": "",
      "description_tooltip": null,
      "layout": "IPY_MODEL_aedecc52b775442e909dde41b11041a7",
      "placeholder": "​",
      "style": "IPY_MODEL_47772db7a200407985342cb56177250d",
      "value": " 120/120 [00:28&lt;00:00,  4.16it/s]"
     }
    },
    "2b1a0c7a1b494d5c9139b9dd3e8d34a7": {
     "model_module": "@jupyter-widgets/base",
     "model_module_version": "1.2.0",
     "model_name": "LayoutModel",
     "state": {
      "_model_module": "@jupyter-widgets/base",
      "_model_module_version": "1.2.0",
      "_model_name": "LayoutModel",
      "_view_count": null,
      "_view_module": "@jupyter-widgets/base",
      "_view_module_version": "1.2.0",
      "_view_name": "LayoutView",
      "align_content": null,
      "align_items": null,
      "align_self": null,
      "border": null,
      "bottom": null,
      "display": null,
      "flex": null,
      "flex_flow": null,
      "grid_area": null,
      "grid_auto_columns": null,
      "grid_auto_flow": null,
      "grid_auto_rows": null,
      "grid_column": null,
      "grid_gap": null,
      "grid_row": null,
      "grid_template_areas": null,
      "grid_template_columns": null,
      "grid_template_rows": null,
      "height": null,
      "justify_content": null,
      "justify_items": null,
      "left": null,
      "margin": null,
      "max_height": null,
      "max_width": null,
      "min_height": null,
      "min_width": null,
      "object_fit": null,
      "object_position": null,
      "order": null,
      "overflow": null,
      "overflow_x": null,
      "overflow_y": null,
      "padding": null,
      "right": null,
      "top": null,
      "visibility": null,
      "width": null
     }
    },
    "2fe6fb9ee13741d28b7869e11160a6fa": {
     "model_module": "@jupyter-widgets/base",
     "model_module_version": "1.2.0",
     "model_name": "LayoutModel",
     "state": {
      "_model_module": "@jupyter-widgets/base",
      "_model_module_version": "1.2.0",
      "_model_name": "LayoutModel",
      "_view_count": null,
      "_view_module": "@jupyter-widgets/base",
      "_view_module_version": "1.2.0",
      "_view_name": "LayoutView",
      "align_content": null,
      "align_items": null,
      "align_self": null,
      "border": null,
      "bottom": null,
      "display": null,
      "flex": null,
      "flex_flow": null,
      "grid_area": null,
      "grid_auto_columns": null,
      "grid_auto_flow": null,
      "grid_auto_rows": null,
      "grid_column": null,
      "grid_gap": null,
      "grid_row": null,
      "grid_template_areas": null,
      "grid_template_columns": null,
      "grid_template_rows": null,
      "height": null,
      "justify_content": null,
      "justify_items": null,
      "left": null,
      "margin": null,
      "max_height": null,
      "max_width": null,
      "min_height": null,
      "min_width": null,
      "object_fit": null,
      "object_position": null,
      "order": null,
      "overflow": null,
      "overflow_x": null,
      "overflow_y": null,
      "padding": null,
      "right": null,
      "top": null,
      "visibility": null,
      "width": null
     }
    },
    "3bfed75ee32c4272bddddb0b9bd13fc1": {
     "model_module": "@jupyter-widgets/controls",
     "model_module_version": "1.5.0",
     "model_name": "ProgressStyleModel",
     "state": {
      "_model_module": "@jupyter-widgets/controls",
      "_model_module_version": "1.5.0",
      "_model_name": "ProgressStyleModel",
      "_view_count": null,
      "_view_module": "@jupyter-widgets/base",
      "_view_module_version": "1.2.0",
      "_view_name": "StyleView",
      "bar_color": null,
      "description_width": ""
     }
    },
    "47772db7a200407985342cb56177250d": {
     "model_module": "@jupyter-widgets/controls",
     "model_module_version": "1.5.0",
     "model_name": "DescriptionStyleModel",
     "state": {
      "_model_module": "@jupyter-widgets/controls",
      "_model_module_version": "1.5.0",
      "_model_name": "DescriptionStyleModel",
      "_view_count": null,
      "_view_module": "@jupyter-widgets/base",
      "_view_module_version": "1.2.0",
      "_view_name": "StyleView",
      "description_width": ""
     }
    },
    "4fadfad6b6cc42568e01ba7a1403e5fe": {
     "model_module": "@jupyter-widgets/controls",
     "model_module_version": "1.5.0",
     "model_name": "HTMLModel",
     "state": {
      "_dom_classes": [],
      "_model_module": "@jupyter-widgets/controls",
      "_model_module_version": "1.5.0",
      "_model_name": "HTMLModel",
      "_view_count": null,
      "_view_module": "@jupyter-widgets/controls",
      "_view_module_version": "1.5.0",
      "_view_name": "HTMLView",
      "description": "",
      "description_tooltip": null,
      "layout": "IPY_MODEL_2fe6fb9ee13741d28b7869e11160a6fa",
      "placeholder": "​",
      "style": "IPY_MODEL_78f0d4af7a504cf886c7893d42f3ef05",
      "value": "100%"
     }
    },
    "5f4b2d3435a5435a91349a624eef9806": {
     "model_module": "@jupyter-widgets/base",
     "model_module_version": "1.2.0",
     "model_name": "LayoutModel",
     "state": {
      "_model_module": "@jupyter-widgets/base",
      "_model_module_version": "1.2.0",
      "_model_name": "LayoutModel",
      "_view_count": null,
      "_view_module": "@jupyter-widgets/base",
      "_view_module_version": "1.2.0",
      "_view_name": "LayoutView",
      "align_content": null,
      "align_items": null,
      "align_self": null,
      "border": null,
      "bottom": null,
      "display": null,
      "flex": null,
      "flex_flow": null,
      "grid_area": null,
      "grid_auto_columns": null,
      "grid_auto_flow": null,
      "grid_auto_rows": null,
      "grid_column": null,
      "grid_gap": null,
      "grid_row": null,
      "grid_template_areas": null,
      "grid_template_columns": null,
      "grid_template_rows": null,
      "height": null,
      "justify_content": null,
      "justify_items": null,
      "left": null,
      "margin": null,
      "max_height": null,
      "max_width": null,
      "min_height": null,
      "min_width": null,
      "object_fit": null,
      "object_position": null,
      "order": null,
      "overflow": null,
      "overflow_x": null,
      "overflow_y": null,
      "padding": null,
      "right": null,
      "top": null,
      "visibility": null,
      "width": null
     }
    },
    "78f0d4af7a504cf886c7893d42f3ef05": {
     "model_module": "@jupyter-widgets/controls",
     "model_module_version": "1.5.0",
     "model_name": "DescriptionStyleModel",
     "state": {
      "_model_module": "@jupyter-widgets/controls",
      "_model_module_version": "1.5.0",
      "_model_name": "DescriptionStyleModel",
      "_view_count": null,
      "_view_module": "@jupyter-widgets/base",
      "_view_module_version": "1.2.0",
      "_view_name": "StyleView",
      "description_width": ""
     }
    },
    "8e300989409348068d76fed0e542cd60": {
     "model_module": "@jupyter-widgets/base",
     "model_module_version": "1.2.0",
     "model_name": "LayoutModel",
     "state": {
      "_model_module": "@jupyter-widgets/base",
      "_model_module_version": "1.2.0",
      "_model_name": "LayoutModel",
      "_view_count": null,
      "_view_module": "@jupyter-widgets/base",
      "_view_module_version": "1.2.0",
      "_view_name": "LayoutView",
      "align_content": null,
      "align_items": null,
      "align_self": null,
      "border": null,
      "bottom": null,
      "display": null,
      "flex": null,
      "flex_flow": null,
      "grid_area": null,
      "grid_auto_columns": null,
      "grid_auto_flow": null,
      "grid_auto_rows": null,
      "grid_column": null,
      "grid_gap": null,
      "grid_row": null,
      "grid_template_areas": null,
      "grid_template_columns": null,
      "grid_template_rows": null,
      "height": null,
      "justify_content": null,
      "justify_items": null,
      "left": null,
      "margin": null,
      "max_height": null,
      "max_width": null,
      "min_height": null,
      "min_width": null,
      "object_fit": null,
      "object_position": null,
      "order": null,
      "overflow": null,
      "overflow_x": null,
      "overflow_y": null,
      "padding": null,
      "right": null,
      "top": null,
      "visibility": null,
      "width": null
     }
    },
    "956832aa361747ab921938b3cfcb9dba": {
     "model_module": "@jupyter-widgets/controls",
     "model_module_version": "1.5.0",
     "model_name": "ProgressStyleModel",
     "state": {
      "_model_module": "@jupyter-widgets/controls",
      "_model_module_version": "1.5.0",
      "_model_name": "ProgressStyleModel",
      "_view_count": null,
      "_view_module": "@jupyter-widgets/base",
      "_view_module_version": "1.2.0",
      "_view_name": "StyleView",
      "bar_color": null,
      "description_width": ""
     }
    },
    "99c7afa520cc41b5a915585c7411741a": {
     "model_module": "@jupyter-widgets/controls",
     "model_module_version": "1.5.0",
     "model_name": "FloatProgressModel",
     "state": {
      "_dom_classes": [],
      "_model_module": "@jupyter-widgets/controls",
      "_model_module_version": "1.5.0",
      "_model_name": "FloatProgressModel",
      "_view_count": null,
      "_view_module": "@jupyter-widgets/controls",
      "_view_module_version": "1.5.0",
      "_view_name": "ProgressView",
      "bar_style": "success",
      "description": "",
      "description_tooltip": null,
      "layout": "IPY_MODEL_d2bf80fdbac94611a8c45c90787583bf",
      "max": 120,
      "min": 0,
      "orientation": "horizontal",
      "style": "IPY_MODEL_3bfed75ee32c4272bddddb0b9bd13fc1",
      "value": 120
     }
    },
    "adb020859324475fb43319268abecd0f": {
     "model_module": "@jupyter-widgets/controls",
     "model_module_version": "1.5.0",
     "model_name": "DescriptionStyleModel",
     "state": {
      "_model_module": "@jupyter-widgets/controls",
      "_model_module_version": "1.5.0",
      "_model_name": "DescriptionStyleModel",
      "_view_count": null,
      "_view_module": "@jupyter-widgets/base",
      "_view_module_version": "1.2.0",
      "_view_name": "StyleView",
      "description_width": ""
     }
    },
    "aedecc52b775442e909dde41b11041a7": {
     "model_module": "@jupyter-widgets/base",
     "model_module_version": "1.2.0",
     "model_name": "LayoutModel",
     "state": {
      "_model_module": "@jupyter-widgets/base",
      "_model_module_version": "1.2.0",
      "_model_name": "LayoutModel",
      "_view_count": null,
      "_view_module": "@jupyter-widgets/base",
      "_view_module_version": "1.2.0",
      "_view_name": "LayoutView",
      "align_content": null,
      "align_items": null,
      "align_self": null,
      "border": null,
      "bottom": null,
      "display": null,
      "flex": null,
      "flex_flow": null,
      "grid_area": null,
      "grid_auto_columns": null,
      "grid_auto_flow": null,
      "grid_auto_rows": null,
      "grid_column": null,
      "grid_gap": null,
      "grid_row": null,
      "grid_template_areas": null,
      "grid_template_columns": null,
      "grid_template_rows": null,
      "height": null,
      "justify_content": null,
      "justify_items": null,
      "left": null,
      "margin": null,
      "max_height": null,
      "max_width": null,
      "min_height": null,
      "min_width": null,
      "object_fit": null,
      "object_position": null,
      "order": null,
      "overflow": null,
      "overflow_x": null,
      "overflow_y": null,
      "padding": null,
      "right": null,
      "top": null,
      "visibility": null,
      "width": null
     }
    },
    "b4b07bc5407f4db0a8493aa1220d0dd5": {
     "model_module": "@jupyter-widgets/base",
     "model_module_version": "1.2.0",
     "model_name": "LayoutModel",
     "state": {
      "_model_module": "@jupyter-widgets/base",
      "_model_module_version": "1.2.0",
      "_model_name": "LayoutModel",
      "_view_count": null,
      "_view_module": "@jupyter-widgets/base",
      "_view_module_version": "1.2.0",
      "_view_name": "LayoutView",
      "align_content": null,
      "align_items": null,
      "align_self": null,
      "border": null,
      "bottom": null,
      "display": null,
      "flex": null,
      "flex_flow": null,
      "grid_area": null,
      "grid_auto_columns": null,
      "grid_auto_flow": null,
      "grid_auto_rows": null,
      "grid_column": null,
      "grid_gap": null,
      "grid_row": null,
      "grid_template_areas": null,
      "grid_template_columns": null,
      "grid_template_rows": null,
      "height": null,
      "justify_content": null,
      "justify_items": null,
      "left": null,
      "margin": null,
      "max_height": null,
      "max_width": null,
      "min_height": null,
      "min_width": null,
      "object_fit": null,
      "object_position": null,
      "order": null,
      "overflow": null,
      "overflow_x": null,
      "overflow_y": null,
      "padding": null,
      "right": null,
      "top": null,
      "visibility": null,
      "width": null
     }
    },
    "c968faef3c0248a8826179d5b5ccee81": {
     "model_module": "@jupyter-widgets/controls",
     "model_module_version": "1.5.0",
     "model_name": "HBoxModel",
     "state": {
      "_dom_classes": [],
      "_model_module": "@jupyter-widgets/controls",
      "_model_module_version": "1.5.0",
      "_model_name": "HBoxModel",
      "_view_count": null,
      "_view_module": "@jupyter-widgets/controls",
      "_view_module_version": "1.5.0",
      "_view_name": "HBoxView",
      "box_style": "",
      "children": [
       "IPY_MODEL_4fadfad6b6cc42568e01ba7a1403e5fe",
       "IPY_MODEL_c973addeba1c4ab4a29ac8c7036b4f0b",
       "IPY_MODEL_dc7b8ef6f3fd4795b34b3fb9d98e38b6"
      ],
      "layout": "IPY_MODEL_b4b07bc5407f4db0a8493aa1220d0dd5"
     }
    },
    "c973addeba1c4ab4a29ac8c7036b4f0b": {
     "model_module": "@jupyter-widgets/controls",
     "model_module_version": "1.5.0",
     "model_name": "FloatProgressModel",
     "state": {
      "_dom_classes": [],
      "_model_module": "@jupyter-widgets/controls",
      "_model_module_version": "1.5.0",
      "_model_name": "FloatProgressModel",
      "_view_count": null,
      "_view_module": "@jupyter-widgets/controls",
      "_view_module_version": "1.5.0",
      "_view_name": "ProgressView",
      "bar_style": "success",
      "description": "",
      "description_tooltip": null,
      "layout": "IPY_MODEL_0c1b1ff1cf504aa9b5d533678698b2ec",
      "max": 120,
      "min": 0,
      "orientation": "horizontal",
      "style": "IPY_MODEL_956832aa361747ab921938b3cfcb9dba",
      "value": 120
     }
    },
    "d2bf80fdbac94611a8c45c90787583bf": {
     "model_module": "@jupyter-widgets/base",
     "model_module_version": "1.2.0",
     "model_name": "LayoutModel",
     "state": {
      "_model_module": "@jupyter-widgets/base",
      "_model_module_version": "1.2.0",
      "_model_name": "LayoutModel",
      "_view_count": null,
      "_view_module": "@jupyter-widgets/base",
      "_view_module_version": "1.2.0",
      "_view_name": "LayoutView",
      "align_content": null,
      "align_items": null,
      "align_self": null,
      "border": null,
      "bottom": null,
      "display": null,
      "flex": null,
      "flex_flow": null,
      "grid_area": null,
      "grid_auto_columns": null,
      "grid_auto_flow": null,
      "grid_auto_rows": null,
      "grid_column": null,
      "grid_gap": null,
      "grid_row": null,
      "grid_template_areas": null,
      "grid_template_columns": null,
      "grid_template_rows": null,
      "height": null,
      "justify_content": null,
      "justify_items": null,
      "left": null,
      "margin": null,
      "max_height": null,
      "max_width": null,
      "min_height": null,
      "min_width": null,
      "object_fit": null,
      "object_position": null,
      "order": null,
      "overflow": null,
      "overflow_x": null,
      "overflow_y": null,
      "padding": null,
      "right": null,
      "top": null,
      "visibility": null,
      "width": null
     }
    },
    "dc7b8ef6f3fd4795b34b3fb9d98e38b6": {
     "model_module": "@jupyter-widgets/controls",
     "model_module_version": "1.5.0",
     "model_name": "HTMLModel",
     "state": {
      "_dom_classes": [],
      "_model_module": "@jupyter-widgets/controls",
      "_model_module_version": "1.5.0",
      "_model_name": "HTMLModel",
      "_view_count": null,
      "_view_module": "@jupyter-widgets/controls",
      "_view_module_version": "1.5.0",
      "_view_name": "HTMLView",
      "description": "",
      "description_tooltip": null,
      "layout": "IPY_MODEL_8e300989409348068d76fed0e542cd60",
      "placeholder": "​",
      "style": "IPY_MODEL_adb020859324475fb43319268abecd0f",
      "value": " 120/120 [00:21&lt;00:00,  5.65it/s]"
     }
    },
    "ee31ae76c96e416bbe247fa2df1d3d15": {
     "model_module": "@jupyter-widgets/controls",
     "model_module_version": "1.5.0",
     "model_name": "HBoxModel",
     "state": {
      "_dom_classes": [],
      "_model_module": "@jupyter-widgets/controls",
      "_model_module_version": "1.5.0",
      "_model_name": "HBoxModel",
      "_view_count": null,
      "_view_module": "@jupyter-widgets/controls",
      "_view_module_version": "1.5.0",
      "_view_name": "HBoxView",
      "box_style": "",
      "children": [
       "IPY_MODEL_f8f365879a3b4d17b10f5ff447a0aa75",
       "IPY_MODEL_99c7afa520cc41b5a915585c7411741a",
       "IPY_MODEL_2552918692a641308cc3cdf03b95db92"
      ],
      "layout": "IPY_MODEL_2b1a0c7a1b494d5c9139b9dd3e8d34a7"
     }
    },
    "f8f365879a3b4d17b10f5ff447a0aa75": {
     "model_module": "@jupyter-widgets/controls",
     "model_module_version": "1.5.0",
     "model_name": "HTMLModel",
     "state": {
      "_dom_classes": [],
      "_model_module": "@jupyter-widgets/controls",
      "_model_module_version": "1.5.0",
      "_model_name": "HTMLModel",
      "_view_count": null,
      "_view_module": "@jupyter-widgets/controls",
      "_view_module_version": "1.5.0",
      "_view_name": "HTMLView",
      "description": "",
      "description_tooltip": null,
      "layout": "IPY_MODEL_5f4b2d3435a5435a91349a624eef9806",
      "placeholder": "​",
      "style": "IPY_MODEL_ff294ce6d6e945249112f590a41c15d2",
      "value": "100%"
     }
    },
    "ff294ce6d6e945249112f590a41c15d2": {
     "model_module": "@jupyter-widgets/controls",
     "model_module_version": "1.5.0",
     "model_name": "DescriptionStyleModel",
     "state": {
      "_model_module": "@jupyter-widgets/controls",
      "_model_module_version": "1.5.0",
      "_model_name": "DescriptionStyleModel",
      "_view_count": null,
      "_view_module": "@jupyter-widgets/base",
      "_view_module_version": "1.2.0",
      "_view_name": "StyleView",
      "description_width": ""
     }
    }
   }
  }
 },
 "nbformat": 4,
 "nbformat_minor": 1
}
