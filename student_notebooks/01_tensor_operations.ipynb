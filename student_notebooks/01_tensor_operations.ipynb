{
  "cells": [
    {
      "cell_type": "markdown",
      "id": "f5028b4d",
      "metadata": {
        "id": "f5028b4d"
      },
      "source": [
        "[![Open in Colab](https://colab.research.google.com/assets/colab-badge.svg)](https://colab.research.google.com/github/biodatlab/deep-learning-skooldio/blob/master/student_notebooks/01_tensor_operations.ipynb)\n",
        "\n",
        "# **Tensor operations**\n",
        "\n",
        "This notebook will walk through basic tensor operations including \n",
        "\n",
        "- Math operations\n",
        "- Reduction operations\n",
        "- Operations related to dimensions\n",
        "- Casting"
      ]
    },
    {
      "cell_type": "code",
      "execution_count": null,
      "id": "7ac2002b",
      "metadata": {
        "id": "7ac2002b"
      },
      "outputs": [],
      "source": [
        "import torch\n",
        "import numpy as np"
      ]
    },
    {
      "cell_type": "markdown",
      "id": "ac0144f0",
      "metadata": {
        "id": "ac0144f0"
      },
      "source": [
        "## **Math operations**"
      ]
    },
    {
      "cell_type": "code",
      "execution_count": null,
      "id": "b2d5a7cd",
      "metadata": {
        "id": "b2d5a7cd"
      },
      "outputs": [],
      "source": [
        "A = torch.tensor([[1., -1.], [1., 1.]])\n",
        "B = torch.tensor([[4., -7.], [3., 5.]])\n",
        "print(A)\n",
        "print(B)"
      ]
    },
    {
      "cell_type": "code",
      "execution_count": null,
      "id": "ff051f0d",
      "metadata": {
        "id": "ff051f0d"
      },
      "outputs": [],
      "source": [
        "A + B"
      ]
    },
    {
      "cell_type": "code",
      "execution_count": null,
      "id": "4be40004",
      "metadata": {
        "id": "4be40004"
      },
      "outputs": [],
      "source": [
        "torch.add(A, B)"
      ]
    },
    {
      "cell_type": "code",
      "execution_count": null,
      "id": "a21df6f4",
      "metadata": {
        "id": "a21df6f4"
      },
      "outputs": [],
      "source": [
        "A.add(B)"
      ]
    },
    {
      "cell_type": "code",
      "execution_count": null,
      "id": "b5aefe59",
      "metadata": {
        "id": "b5aefe59"
      },
      "outputs": [],
      "source": [
        "A.add_(B) # A = A + B\n",
        "print(A)"
      ]
    },
    {
      "cell_type": "code",
      "execution_count": null,
      "id": "-T6UcfBu97ge",
      "metadata": {
        "id": "-T6UcfBu97ge"
      },
      "outputs": [],
      "source": [
        "A = torch.tensor([[1., -1.], [1., 1.]])\n",
        "B = torch.tensor([[4., -7.], [3., 5.]])"
      ]
    },
    {
      "cell_type": "code",
      "execution_count": null,
      "id": "56a8419b",
      "metadata": {
        "id": "56a8419b"
      },
      "outputs": [],
      "source": [
        "A - B"
      ]
    },
    {
      "cell_type": "code",
      "execution_count": null,
      "id": "ef233ec2",
      "metadata": {},
      "outputs": [],
      "source": [
        "A.subtract(B)"
      ]
    },
    {
      "cell_type": "code",
      "execution_count": null,
      "id": "1d661646",
      "metadata": {
        "id": "1d661646"
      },
      "outputs": [],
      "source": [
        "A * B"
      ]
    },
    {
      "cell_type": "code",
      "execution_count": null,
      "id": "43e06c3c",
      "metadata": {
        "id": "43e06c3c"
      },
      "outputs": [],
      "source": [
        "torch.multiply(A, B)"
      ]
    },
    {
      "cell_type": "code",
      "execution_count": null,
      "id": "8492da3e",
      "metadata": {
        "id": "8492da3e"
      },
      "outputs": [],
      "source": [
        "A.multiply(B)"
      ]
    },
    {
      "cell_type": "code",
      "execution_count": null,
      "id": "gRa7UQjX-K1q",
      "metadata": {
        "id": "gRa7UQjX-K1q"
      },
      "outputs": [],
      "source": [
        "A / B"
      ]
    },
    {
      "cell_type": "code",
      "execution_count": null,
      "id": "8bbea449",
      "metadata": {
        "id": "8bbea449"
      },
      "outputs": [],
      "source": [
        "A = torch.tensor([[1., -1.], [1., 1.]])\n",
        "B = torch.tensor([[4., -7.], [3., 5.]])\n",
        "print(A)\n",
        "print(B)"
      ]
    },
    {
      "cell_type": "code",
      "execution_count": null,
      "id": "c9da6fba",
      "metadata": {
        "id": "c9da6fba"
      },
      "outputs": [],
      "source": [
        "A.matmul(B)"
      ]
    },
    {
      "cell_type": "code",
      "execution_count": null,
      "id": "f95b3d47",
      "metadata": {
        "id": "f95b3d47"
      },
      "outputs": [],
      "source": [
        "A.mm(B)"
      ]
    },
    {
      "cell_type": "code",
      "execution_count": null,
      "id": "4d5ff3f6",
      "metadata": {
        "id": "4d5ff3f6"
      },
      "outputs": [],
      "source": [
        "torch.mm(A, B)"
      ]
    },
    {
      "cell_type": "code",
      "execution_count": null,
      "id": "74895fc2",
      "metadata": {
        "id": "74895fc2"
      },
      "outputs": [],
      "source": [
        "D = (2 * torch.ones(2, 2))\n",
        "print(D)\n",
        "print(D ** 3)  # exponential operator"
      ]
    },
    {
      "cell_type": "markdown",
      "id": "fcb695b3",
      "metadata": {
        "id": "fcb695b3"
      },
      "source": [
        "## **Reduction operations**\n",
        "\n",
        "- `dim=0` means operating over columns\n",
        "- `dim=1` means operating over rows"
      ]
    },
    {
      "cell_type": "code",
      "execution_count": null,
      "id": "4512f60e",
      "metadata": {
        "id": "4512f60e"
      },
      "outputs": [],
      "source": [
        "P = torch.tensor([[0.2, 0.5, 0.3],\n",
        "                  [0.7, 0.2, 0.1],\n",
        "                  [0.2, 0.3, 0.5],\n",
        "                  [0.1, 0.1, 0.8]])"
      ]
    },
    {
      "cell_type": "code",
      "execution_count": null,
      "id": "wIA274d8_iw8",
      "metadata": {
        "id": "wIA274d8_iw8"
      },
      "outputs": [],
      "source": [
        "P.sum(dim=1)"
      ]
    },
    {
      "cell_type": "code",
      "execution_count": null,
      "id": "fa0e09ae",
      "metadata": {
        "id": "fa0e09ae"
      },
      "outputs": [],
      "source": [
        "P.max()"
      ]
    },
    {
      "cell_type": "code",
      "execution_count": null,
      "id": "c3c532a0",
      "metadata": {
        "id": "c3c532a0"
      },
      "outputs": [],
      "source": [
        "P.min()"
      ]
    },
    {
      "cell_type": "code",
      "execution_count": null,
      "id": "c7c53ec0",
      "metadata": {
        "id": "c7c53ec0"
      },
      "outputs": [],
      "source": [
        "torch.max(P)"
      ]
    },
    {
      "cell_type": "code",
      "execution_count": null,
      "id": "64b8a36a",
      "metadata": {
        "id": "64b8a36a"
      },
      "outputs": [],
      "source": [
        "torch.min(P)"
      ]
    },
    {
      "cell_type": "code",
      "execution_count": null,
      "id": "e6685e0d",
      "metadata": {
        "id": "e6685e0d"
      },
      "outputs": [],
      "source": [
        "P.max(dim=0)"
      ]
    },
    {
      "cell_type": "code",
      "execution_count": null,
      "id": "70c57300",
      "metadata": {
        "id": "70c57300"
      },
      "outputs": [],
      "source": [
        "P.max(dim=1)"
      ]
    },
    {
      "cell_type": "code",
      "execution_count": null,
      "id": "j24v8q-0_0YK",
      "metadata": {
        "id": "j24v8q-0_0YK"
      },
      "outputs": [],
      "source": [
        "torch.argmax(P, dim=1)"
      ]
    },
    {
      "cell_type": "code",
      "execution_count": null,
      "id": "B6mziWyx_7az",
      "metadata": {
        "id": "B6mziWyx_7az"
      },
      "outputs": [],
      "source": [
        "P.argmax(dim=1)"
      ]
    },
    {
      "cell_type": "code",
      "execution_count": null,
      "id": "a99beb35",
      "metadata": {
        "id": "a99beb35"
      },
      "outputs": [],
      "source": [
        "P.mean(dim=0)"
      ]
    },
    {
      "cell_type": "code",
      "execution_count": null,
      "id": "cd965869",
      "metadata": {
        "id": "cd965869"
      },
      "outputs": [],
      "source": [
        "P.mean(dim=1)"
      ]
    },
    {
      "cell_type": "code",
      "execution_count": null,
      "id": "c0aa2ec7",
      "metadata": {
        "id": "c0aa2ec7"
      },
      "outputs": [],
      "source": [
        "P.std(dim=0)"
      ]
    },
    {
      "cell_type": "markdown",
      "id": "7de57fe9",
      "metadata": {
        "id": "7de57fe9"
      },
      "source": [
        "## **Dimensions**"
      ]
    },
    {
      "cell_type": "code",
      "execution_count": null,
      "id": "d560df38",
      "metadata": {
        "id": "d560df38"
      },
      "outputs": [],
      "source": [
        "A = torch.tensor([[3., -1., 2., 8.],\n",
        "                  [1., 1., 3., 6.]])\n",
        "B = torch.tensor([[2., 7., -3., -9.],\n",
        "                  [-3., 5., 4., 4.]])"
      ]
    },
    {
      "cell_type": "code",
      "execution_count": null,
      "id": "e81d3b70",
      "metadata": {},
      "outputs": [],
      "source": [
        "print(A)"
      ]
    },
    {
      "cell_type": "code",
      "execution_count": null,
      "id": "fde24249",
      "metadata": {},
      "outputs": [],
      "source": [
        "print(B)"
      ]
    },
    {
      "cell_type": "code",
      "execution_count": null,
      "id": "de9393db",
      "metadata": {},
      "outputs": [],
      "source": [
        "print(A.shape, B.shape)"
      ]
    },
    {
      "cell_type": "code",
      "execution_count": null,
      "id": "f473e3ee",
      "metadata": {
        "id": "f473e3ee"
      },
      "outputs": [],
      "source": [
        "D =  # TODO: cat A and B\n",
        "print(D)\n",
        "print(D.shape)"
      ]
    },
    {
      "cell_type": "code",
      "execution_count": null,
      "id": "339f34be",
      "metadata": {
        "id": "339f34be"
      },
      "outputs": [],
      "source": [
        "D = torch.vstack((A, B))\n",
        "print(D)\n",
        "print(D.shape)"
      ]
    },
    {
      "cell_type": "code",
      "execution_count": null,
      "id": "0a311497",
      "metadata": {
        "id": "0a311497"
      },
      "outputs": [],
      "source": [
        "D = torch.hstack((A, B))\n",
        "print(D)\n",
        "print(D.shape)"
      ]
    },
    {
      "cell_type": "code",
      "execution_count": null,
      "id": "5d5ff28f",
      "metadata": {},
      "outputs": [],
      "source": [
        "D = # TODO: stack A and B in dimension 0\n",
        "\n",
        "print(D)\n",
        "print(D.shape)"
      ]
    },
    {
      "cell_type": "code",
      "execution_count": null,
      "id": "63661f64",
      "metadata": {},
      "outputs": [],
      "source": [
        "print(A)"
      ]
    },
    {
      "cell_type": "code",
      "execution_count": null,
      "id": "wztQURSOBQyo",
      "metadata": {
        "id": "wztQURSOBQyo"
      },
      "outputs": [],
      "source": [
        "A.view() # TODO: reshape A to 4 rows, 2 columns using function: view"
      ]
    },
    {
      "cell_type": "code",
      "execution_count": null,
      "id": "50f5fad0",
      "metadata": {
        "id": "50f5fad0"
      },
      "outputs": [],
      "source": [
        "# TODO: reshape A to 1 row, 8 column using function: view\n",
        "A.view()"
      ]
    },
    {
      "cell_type": "code",
      "execution_count": null,
      "id": "17e05940",
      "metadata": {
        "id": "17e05940"
      },
      "outputs": [],
      "source": [
        "# TODO: try to see error when .view that does not match original dimensions of A\n"
      ]
    },
    {
      "cell_type": "code",
      "execution_count": null,
      "id": "fb8ff540",
      "metadata": {},
      "outputs": [],
      "source": [
        "# TODO: try to observe the output of A.view(-1, 2)\n"
      ]
    },
    {
      "cell_type": "code",
      "execution_count": null,
      "id": "c539ab56",
      "metadata": {
        "id": "c539ab56"
      },
      "outputs": [],
      "source": [
        "A.reshape((4, 2))"
      ]
    },
    {
      "cell_type": "code",
      "execution_count": null,
      "id": "97803ec5",
      "metadata": {
        "id": "97803ec5"
      },
      "outputs": [],
      "source": [
        "data = torch.randn((5, 5))\n",
        "print(data)\n",
        "print(data.shape)"
      ]
    },
    {
      "cell_type": "code",
      "execution_count": null,
      "id": "LfsySQHMB_Qo",
      "metadata": {
        "id": "LfsySQHMB_Qo"
      },
      "outputs": [],
      "source": [
        "# TODO: Unsqueeze dimension 0\n"
      ]
    },
    {
      "cell_type": "code",
      "execution_count": null,
      "id": "22e55c80",
      "metadata": {
        "id": "22e55c80"
      },
      "outputs": [],
      "source": [
        "# TODO: Unsqueeze dimension 0 and replace back to data\n"
      ]
    },
    {
      "cell_type": "code",
      "execution_count": null,
      "id": "cc4532ec",
      "metadata": {
        "id": "cc4532ec"
      },
      "outputs": [],
      "source": [
        "# TODO: Squeeze the dimension 0 that we created\n"
      ]
    },
    {
      "cell_type": "markdown",
      "id": "1b7d8a86",
      "metadata": {
        "id": "1b7d8a86"
      },
      "source": [
        "## **Casting**"
      ]
    },
    {
      "cell_type": "code",
      "execution_count": null,
      "id": "756a3004",
      "metadata": {},
      "outputs": [],
      "source": [
        "# Create a numpy array and cast to tensor\n",
        "C = np.random.randn(3, 3)\n",
        "Ct = torch.from_numpy(C)"
      ]
    },
    {
      "cell_type": "code",
      "execution_count": null,
      "id": "d3fc4280",
      "metadata": {
        "id": "d3fc4280"
      },
      "outputs": [],
      "source": [
        "# Create a tensor and cast to list\n",
        "C = torch.randn((3, 3))\n",
        "C.tolist()"
      ]
    },
    {
      "cell_type": "code",
      "execution_count": null,
      "id": "c4d5fac5",
      "metadata": {
        "id": "c4d5fac5"
      },
      "outputs": [],
      "source": [
        "# Cast a tensor to numpy array\n",
        "C.numpy()"
      ]
    },
    {
      "cell_type": "markdown",
      "id": "7c86a499",
      "metadata": {
        "id": "7c86a499"
      },
      "source": [
        "## Copy tensor"
      ]
    },
    {
      "cell_type": "code",
      "execution_count": null,
      "id": "df981244",
      "metadata": {
        "id": "df981244"
      },
      "outputs": [],
      "source": [
        "# see what happens to B when A is changed\n",
        "A = torch.tensor([[3, 9], [6, 7]])\n",
        "B = A\n",
        "A[1][1] = -4\n",
        "print(B)"
      ]
    },
    {
      "cell_type": "code",
      "execution_count": null,
      "id": "3c0b5f83",
      "metadata": {
        "id": "3c0b5f83"
      },
      "outputs": [],
      "source": [
        "A = torch.tensor([[3, 9], [6, 7]])\n",
        "B = A.clone()\n",
        "A[1][1] = -4\n",
        "print(B)"
      ]
    },
    {
      "cell_type": "markdown",
      "id": "36af31da",
      "metadata": {
        "id": "36af31da"
      },
      "source": [
        "## Detach\n",
        "\n",
        "We can use `detach()` to detach a tensor from the computation graph in Neural network."
      ]
    },
    {
      "cell_type": "code",
      "execution_count": null,
      "id": "5287a863",
      "metadata": {
        "id": "5287a863"
      },
      "outputs": [],
      "source": [
        "v = torch.randn(2, 2, requires_grad=True)\n",
        "v.detach()"
      ]
    },
    {
      "cell_type": "code",
      "execution_count": null,
      "id": "azvsdFeKBaWK",
      "metadata": {
        "id": "azvsdFeKBaWK"
      },
      "outputs": [],
      "source": [
        "v"
      ]
    }
  ],
  "metadata": {
    "colab": {
      "provenance": []
    },
    "kernelspec": {
      "display_name": "Python 3 (ipykernel)",
      "language": "python",
      "name": "python3"
    },
    "language_info": {
      "codemirror_mode": {
        "name": "ipython",
        "version": 3
      },
      "file_extension": ".py",
      "mimetype": "text/x-python",
      "name": "python",
      "nbconvert_exporter": "python",
      "pygments_lexer": "ipython3",
      "version": "3.9.6"
    },
    "vscode": {
      "interpreter": {
        "hash": "31f2aee4e71d21fbe5cf8b01ff0e069b9275f58929596ceb00d14d90e3e16cd6"
      }
    }
  },
  "nbformat": 4,
  "nbformat_minor": 5
}
