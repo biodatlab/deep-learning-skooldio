{
 "cells": [
  {
   "cell_type": "markdown",
   "id": "f5028b4d",
   "metadata": {},
   "source": [
    "# **Tensor operations**\n",
    "\n",
    "This notebook will walk through basic tensor operations including \n",
    "\n",
    "- Math operations\n",
    "- Operations related to dimensions\n",
    "- Casting"
   ]
  },
  {
   "cell_type": "code",
   "execution_count": null,
   "id": "7ac2002b",
   "metadata": {},
   "outputs": [],
   "source": [
    "import torch\n",
    "import numpy as np"
   ]
  },
  {
   "cell_type": "markdown",
   "id": "ac0144f0",
   "metadata": {},
   "source": [
    "## **Math operations**"
   ]
  },
  {
   "cell_type": "code",
   "execution_count": null,
   "id": "b2d5a7cd",
   "metadata": {},
   "outputs": [],
   "source": [
    "v = torch.tensor([1., 2., 3.])\n",
    "A = torch.tensor([[1., -1.], [1., 1.]])\n",
    "B = torch.tensor([[4., -7.], [3., 5.]])"
   ]
  },
  {
   "cell_type": "code",
   "execution_count": null,
   "id": "ff051f0d",
   "metadata": {},
   "outputs": [],
   "source": [
    "# TODO: Try add, multiply, matmul"
   ]
  },
  {
   "cell_type": "markdown",
   "id": "7de57fe9",
   "metadata": {},
   "source": [
    "## **Dimensions**"
   ]
  },
  {
   "cell_type": "code",
   "execution_count": null,
   "id": "0d80bdb9",
   "metadata": {},
   "outputs": [],
   "source": [
    "# TODO: Try cat, hstack, vstack, view, squeeze, unsqueeze"
   ]
  },
  {
   "cell_type": "markdown",
   "id": "1b7d8a86",
   "metadata": {},
   "source": [
    "## **Casting**"
   ]
  },
  {
   "cell_type": "code",
   "execution_count": null,
   "id": "d3fc4280",
   "metadata": {},
   "outputs": [],
   "source": [
    "# TODO: Create a tensor and cast to list, numpy array"
   ]
  },
  {
   "cell_type": "code",
   "execution_count": null,
   "id": "e0f5e803",
   "metadata": {},
   "outputs": [],
   "source": [
    "# TODO: Create a numpy array and cast to tensor"
   ]
  }
 ],
 "metadata": {
  "kernelspec": {
   "display_name": "Python 3 (ipykernel)",
   "language": "python",
   "name": "python3"
  },
  "language_info": {
   "codemirror_mode": {
    "name": "ipython",
    "version": 3
   },
   "file_extension": ".py",
   "mimetype": "text/x-python",
   "name": "python",
   "nbconvert_exporter": "python",
   "pygments_lexer": "ipython3",
   "version": "3.7.13"
  }
 },
 "nbformat": 4,
 "nbformat_minor": 5
}
