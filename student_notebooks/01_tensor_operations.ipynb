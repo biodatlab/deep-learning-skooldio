{
 "cells": [
  {
   "cell_type": "markdown",
   "id": "f5028b4d",
   "metadata": {},
   "source": [
    "[![Open in Colab](https://colab.research.google.com/assets/colab-badge.svg)](https://colab.research.google.com/github/biodatlab/deep-learning-skooldio/blob/master/student_notebooks/01_tensor_operations.ipynb)\n",
    "\n",
    "# **Tensor operations**\n",
    "\n",
    "This notebook will walk through basic tensor operations including \n",
    "\n",
    "- Math operations\n",
    "- Reduction operations\n",
    "- Operations related to dimensions\n",
    "- Casting"
   ]
  },
  {
   "cell_type": "code",
   "execution_count": null,
   "id": "7ac2002b",
   "metadata": {},
   "outputs": [],
   "source": [
    "import torch\n",
    "import numpy as np"
   ]
  },
  {
   "cell_type": "markdown",
   "id": "ac0144f0",
   "metadata": {},
   "source": [
    "## **Math operations**"
   ]
  },
  {
   "cell_type": "code",
   "execution_count": null,
   "id": "b2d5a7cd",
   "metadata": {},
   "outputs": [],
   "source": [
    "A = torch.tensor([[1., -1.], [1., 1.]])\n",
    "B = torch.tensor([[4., -7.], [3., 5.]])"
   ]
  },
  {
   "cell_type": "code",
   "execution_count": null,
   "id": "ff051f0d",
   "metadata": {},
   "outputs": [],
   "source": [
    "A + B"
   ]
  },
  {
   "cell_type": "code",
   "execution_count": null,
   "id": "4be40004",
   "metadata": {},
   "outputs": [],
   "source": [
    "torch.add(A, B)"
   ]
  },
  {
   "cell_type": "code",
   "execution_count": null,
   "id": "a21df6f4",
   "metadata": {},
   "outputs": [],
   "source": [
    "A.add(B)"
   ]
  },
  {
   "cell_type": "code",
   "execution_count": null,
   "id": "b5aefe59",
   "metadata": {},
   "outputs": [],
   "source": [
    "A.add_(B)\n",
    "print(A)"
   ]
  },
  {
   "cell_type": "code",
   "execution_count": null,
   "id": "4f432954",
   "metadata": {},
   "outputs": [],
   "source": [
    "A = torch.tensor([[3., -1.], [1., 1.]])\n",
    "B = torch.tensor([[2., 7.], [-3., 5.]])"
   ]
  },
  {
   "cell_type": "code",
   "execution_count": null,
   "id": "f9a45f6f",
   "metadata": {},
   "outputs": [],
   "source": [
    "A * B"
   ]
  },
  {
   "cell_type": "code",
   "execution_count": null,
   "id": "eb287b51",
   "metadata": {},
   "outputs": [],
   "source": [
    "torch.multiply(A, B)"
   ]
  },
  {
   "cell_type": "code",
   "execution_count": null,
   "id": "8492da3e",
   "metadata": {},
   "outputs": [],
   "source": [
    "A.multiply(B)"
   ]
  },
  {
   "cell_type": "code",
   "execution_count": null,
   "id": "46135879",
   "metadata": {},
   "outputs": [],
   "source": [
    "A.add_(B)\n",
    "print(A)"
   ]
  },
  {
   "cell_type": "code",
   "execution_count": null,
   "id": "8bbea449",
   "metadata": {},
   "outputs": [],
   "source": [
    "A = torch.tensor([[3., -1.], [1., 1.]])\n",
    "B = torch.tensor([[2., 7.], [-3., 5.]])"
   ]
  },
  {
   "cell_type": "code",
   "execution_count": null,
   "id": "c9da6fba",
   "metadata": {},
   "outputs": [],
   "source": [
    "A.matmul(B)"
   ]
  },
  {
   "cell_type": "code",
   "execution_count": null,
   "id": "f95b3d47",
   "metadata": {},
   "outputs": [],
   "source": [
    "A.mm(B)"
   ]
  },
  {
   "cell_type": "code",
   "execution_count": null,
   "id": "4d5ff3f6",
   "metadata": {},
   "outputs": [],
   "source": [
    "torch.mm(A, B)"
   ]
  },
  {
   "cell_type": "markdown",
   "id": "fcb695b3",
   "metadata": {},
   "source": [
    "## **Reduction operations**\n",
    "\n",
    "- `dim=0` means operating over columns\n",
    "- `dim=1` means operating over rows"
   ]
  },
  {
   "cell_type": "code",
   "execution_count": null,
   "id": "4512f60e",
   "metadata": {},
   "outputs": [],
   "source": [
    "P = torch.tensor([[0.2, 0.5, 0.3], [0.7, 0.2, 0.1]])"
   ]
  },
  {
   "cell_type": "code",
   "execution_count": null,
   "id": "fa0e09ae",
   "metadata": {},
   "outputs": [],
   "source": [
    "P.max()"
   ]
  },
  {
   "cell_type": "code",
   "execution_count": null,
   "id": "c3c532a0",
   "metadata": {},
   "outputs": [],
   "source": [
    "P.min()"
   ]
  },
  {
   "cell_type": "code",
   "execution_count": null,
   "id": "c7c53ec0",
   "metadata": {},
   "outputs": [],
   "source": [
    "torch.max(P)"
   ]
  },
  {
   "cell_type": "code",
   "execution_count": null,
   "id": "64b8a36a",
   "metadata": {},
   "outputs": [],
   "source": [
    "torch.min(P)"
   ]
  },
  {
   "cell_type": "code",
   "execution_count": null,
   "id": "e6685e0d",
   "metadata": {},
   "outputs": [],
   "source": [
    "P.max(dim=0)"
   ]
  },
  {
   "cell_type": "code",
   "execution_count": null,
   "id": "70c57300",
   "metadata": {},
   "outputs": [],
   "source": [
    "P.max(dim=1)"
   ]
  },
  {
   "cell_type": "code",
   "execution_count": null,
   "id": "e082acf8",
   "metadata": {},
   "outputs": [],
   "source": [
    "torch.argmax(P, dim=0)"
   ]
  },
  {
   "cell_type": "code",
   "execution_count": null,
   "id": "6068a145",
   "metadata": {},
   "outputs": [],
   "source": [
    "P.argmax(dim=0)"
   ]
  },
  {
   "cell_type": "code",
   "execution_count": null,
   "id": "adc5345f",
   "metadata": {},
   "outputs": [],
   "source": [
    "P.argmax(dim=1)"
   ]
  },
  {
   "cell_type": "code",
   "execution_count": null,
   "id": "7129442b",
   "metadata": {},
   "outputs": [],
   "source": [
    "P.sum(dim=1)"
   ]
  },
  {
   "cell_type": "markdown",
   "id": "7de57fe9",
   "metadata": {},
   "source": [
    "## **Dimensions**"
   ]
  },
  {
   "cell_type": "code",
   "execution_count": null,
   "id": "d560df38",
   "metadata": {},
   "outputs": [],
   "source": [
    "A = torch.tensor([[3., -1., 2., 8.], [1., 1., 3., 6.]])\n",
    "B = torch.tensor([[2., 7., -3., -9.], [-3., 5., 4., 4.]])"
   ]
  },
  {
   "cell_type": "code",
   "execution_count": null,
   "id": "1e609206",
   "metadata": {},
   "outputs": [],
   "source": [
    "torch.stack((A, B), dim=0)\n",
    "# TODO: check data dimension after stack"
   ]
  },
  {
   "cell_type": "code",
   "execution_count": null,
   "id": "f473e3ee",
   "metadata": {},
   "outputs": [],
   "source": [
    "torch.cat((A, B))\n",
    "# TODO: check data dimension after cat"
   ]
  },
  {
   "cell_type": "code",
   "execution_count": null,
   "id": "339f34be",
   "metadata": {},
   "outputs": [],
   "source": [
    "torch.vstack((A, B))\n",
    "# TODO: check data dimension after vstack"
   ]
  },
  {
   "cell_type": "code",
   "execution_count": null,
   "id": "0a311497",
   "metadata": {},
   "outputs": [],
   "source": [
    "torch.hstack((A, B))\n",
    "# TODO: check data dimension after hstack"
   ]
  },
  {
   "cell_type": "code",
   "execution_count": null,
   "id": "50f5fad0",
   "metadata": {},
   "outputs": [],
   "source": [
    "A.view(-1, 8)"
   ]
  },
  {
   "cell_type": "code",
   "execution_count": null,
   "id": "17e05940",
   "metadata": {},
   "outputs": [],
   "source": [
    "# TODO: try to see error when .view that does not match original dimensions of A"
   ]
  },
  {
   "cell_type": "code",
   "execution_count": null,
   "id": "c539ab56",
   "metadata": {},
   "outputs": [],
   "source": [
    "A.reshape((4, 2))"
   ]
  },
  {
   "cell_type": "code",
   "execution_count": null,
   "id": "97803ec5",
   "metadata": {},
   "outputs": [],
   "source": [
    "data = torch.randn((5, 5))\n",
    "data.unsqueeze(0)\n",
    "# TODO: check data dimension after unsqueeze"
   ]
  },
  {
   "cell_type": "code",
   "execution_count": null,
   "id": "22e55c80",
   "metadata": {},
   "outputs": [],
   "source": [
    "data.unsqueeze_(0)\n",
    "# TODO: check data dimension after unsqueeze"
   ]
  },
  {
   "cell_type": "code",
   "execution_count": null,
   "id": "cc4532ec",
   "metadata": {},
   "outputs": [],
   "source": [
    "data.squeeze(0)\n",
    "# TODO: check data size before and after squeeze"
   ]
  },
  {
   "cell_type": "markdown",
   "id": "1b7d8a86",
   "metadata": {},
   "source": [
    "## **Casting**"
   ]
  },
  {
   "cell_type": "code",
   "execution_count": null,
   "id": "d3fc4280",
   "metadata": {},
   "outputs": [],
   "source": [
    "# Create a tensor and cast to list\n",
    "C = torch.randn((3, 3))\n",
    "C.tolist()"
   ]
  },
  {
   "cell_type": "code",
   "execution_count": null,
   "id": "c4d5fac5",
   "metadata": {},
   "outputs": [],
   "source": [
    "# Cast a tensor to numpy array\n",
    "C.numpy()"
   ]
  },
  {
   "cell_type": "code",
   "execution_count": null,
   "id": "e0f5e803",
   "metadata": {},
   "outputs": [],
   "source": [
    "# Create a numpy array and cast to tensor\n",
    "C = np.random.randn(3, 3)\n",
    "Ct = torch.from_numpy(C)"
   ]
  }
 ],
 "metadata": {
  "kernelspec": {
   "display_name": "Python 3 (ipykernel)",
   "language": "python",
   "name": "python3"
  },
  "language_info": {
   "codemirror_mode": {
    "name": "ipython",
    "version": 3
   },
   "file_extension": ".py",
   "mimetype": "text/x-python",
   "name": "python",
   "nbconvert_exporter": "python",
   "pygments_lexer": "ipython3",
   "version": "3.7.13"
  },
  "vscode": {
   "interpreter": {
    "hash": "31f2aee4e71d21fbe5cf8b01ff0e069b9275f58929596ceb00d14d90e3e16cd6"
   }
  }
 },
 "nbformat": 4,
 "nbformat_minor": 5
}
