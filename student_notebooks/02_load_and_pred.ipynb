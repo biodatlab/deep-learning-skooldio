{
 "cells": [
  {
   "cell_type": "markdown",
   "metadata": {},
   "source": [
    "[![Open in Colab](https://colab.research.google.com/assets/colab-badge.svg)](https://colab.research.google.com/github/biodatlab/deep-learning-skooldio/blob/master/student_notebooks/02_load_and_pred.ipynb)\n",
    "\n",
    "\n",
    "\n",
    "# Load trained model and predict on a sample image\n",
    "\n",
    "In this notebook, we will load the trained model parameter from `02_handwritten_recognition.ipynb` and use it to predict on a sample image.\n",
    "To do that, we need to\n",
    "- Create the model\n",
    "- Upload the model weight to Colab\n",
    "- Then use it to predict on a sample image."
   ]
  },
  {
   "cell_type": "code",
   "execution_count": null,
   "metadata": {},
   "outputs": [],
   "source": [
    "!git clone https://github.com/biodatlab/deep-learning-skooldio"
   ]
  },
  {
   "cell_type": "code",
   "execution_count": null,
   "metadata": {},
   "outputs": [],
   "source": [
    "from pathlib import Path\n",
    "import torch.nn as nn\n",
    "import torch.nn.functional as F\n",
    "from PIL import Image\n",
    "import matplotlib.pyplot as plt\n",
    "\n",
    "\n",
    "class ThaiDigitNet(nn.Module):\n",
    "    def __init__(self):\n",
    "        super(ThaiDigitNet, self).__init__()\n",
    "        self.fc1 = nn.Linear(28 * 28, 100)\n",
    "        self.fc2 = nn.Linear(100, 10)\n",
    "\n",
    "    def forward(self, x):\n",
    "        x = x.view(-1, 28 * 28)\n",
    "        x = self.fc1(x)\n",
    "        x = F.relu(x)\n",
    "        x = self.fc2(x)\n",
    "        return x"
   ]
  },
  {
   "cell_type": "code",
   "execution_count": null,
   "metadata": {},
   "outputs": [],
   "source": [
    "# TODO: Create model instance, upload trained weight to Colab, and load trained model parameters from ``thai_digit_net.pth``"
   ]
  },
  {
   "cell_type": "code",
   "execution_count": null,
   "metadata": {},
   "outputs": [],
   "source": [
    "sample_path = glob(\"data/validation/*/*.png\")[30]\n",
    "img = Image.open(sample_path)\n",
    "y_true = Path(sample_path).parent.name\n",
    "\n",
    "# TODO: Transform image, predict and save the result to ``y_pred``\n",
    "y_pred = None\n",
    "\n",
    "plt.title(\"Predicted class = {}, True class = {}\".format(y_pred, y_true))\n",
    "plt.imshow(img, cmap=\"gray\")\n",
    "plt.show()"
   ]
  }
 ],
 "metadata": {
  "kernelspec": {
   "display_name": "Python 3 (ipykernel)",
   "language": "python",
   "name": "python3"
  },
  "language_info": {
   "codemirror_mode": {
    "name": "ipython",
    "version": 3
   },
   "file_extension": ".py",
   "mimetype": "text/x-python",
   "name": "python",
   "nbconvert_exporter": "python",
   "pygments_lexer": "ipython3",
   "version": "3.7.13"
  },
  "vscode": {
   "interpreter": {
    "hash": "31f2aee4e71d21fbe5cf8b01ff0e069b9275f58929596ceb00d14d90e3e16cd6"
   }
  }
 },
 "nbformat": 4,
 "nbformat_minor": 2
}
