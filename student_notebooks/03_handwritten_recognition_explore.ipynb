{
 "cells": [
  {
   "cell_type": "markdown",
   "id": "cfc52381",
   "metadata": {
    "id": "cfc52381"
   },
   "source": [
    "[![Open in Colab](https://colab.research.google.com/assets/colab-badge.svg)](https://colab.research.google.com/github/biodatlab/deep-learning-skooldio/blob/master/03_handwritten_recognition_explore.ipynb)\n",
    "\n",
    "## **Thai-digit handwritten classification with Pytorch: Exploration**\n",
    "\n",
    "This notebook contains exploration of the \"Thai-digit handwritten classification\" including\n",
    "- Customize model\n",
    "    - Adding layers\n",
    "    - Adding dropout layer\n",
    "- Adding data augmentation"
   ]
  },
  {
   "cell_type": "markdown",
   "id": "3aa56f94",
   "metadata": {
    "id": "3aa56f94"
   },
   "source": [
    "## **Download and clean the dataset from the repository**\n",
    "\n",
    "- We have downloaded the data from https://github.com/kittinan/thai-handwriting-number by cloning the repository\n",
    "- Remove files that have character mismatch (as suggested by the the creator)\n",
    "- Then, we put the cleaned data at https://github.com/biodatlab/deep-learning-skooldio"
   ]
  },
  {
   "cell_type": "code",
   "execution_count": null,
   "id": "f7deb2f6",
   "metadata": {
    "colab": {
     "base_uri": "https://localhost:8080/"
    },
    "id": "f7deb2f6",
    "outputId": "b9eeaca3-892a-4866-bde8-fd91fca51446"
   },
   "outputs": [],
   "source": [
    "!git clone https://github.com/biodatlab/deep-learning-skooldio"
   ]
  },
  {
   "cell_type": "markdown",
   "id": "29268a34",
   "metadata": {},
   "source": [
    "After cloning the repository, check that `deep-learning-skooldio` should appear in the directory."
   ]
  },
  {
   "cell_type": "code",
   "execution_count": null,
   "id": "2ad2a443",
   "metadata": {
    "id": "2ad2a443"
   },
   "outputs": [],
   "source": [
    "import os\n",
    "import os.path as op\n",
    "from glob import glob\n",
    "from pathlib import Path\n",
    "import random\n",
    "from PIL import Image\n",
    "from collections import Counter\n",
    "from torch.utils.data import ConcatDataset\n",
    "from sklearn.metrics import confusion_matrix, ConfusionMatrixDisplay"
   ]
  },
  {
   "cell_type": "code",
   "execution_count": null,
   "id": "64ce2573",
   "metadata": {
    "colab": {
     "base_uri": "https://localhost:8080/"
    },
    "id": "64ce2573",
    "outputId": "b46e8e0a-f9a6-4006-aa5e-16f0baa61eff"
   },
   "outputs": [],
   "source": [
    "directory = \"deep-learning-skooldio/\"\n",
    "paths = glob(op.join(directory, \"thai-handwritten-dataset\", \"*\", \"*\"))\n",
    "num_samples = len(paths)\n",
    "print(\"Number of samples\", num_samples)"
   ]
  },
  {
   "cell_type": "code",
   "execution_count": null,
   "id": "6aa0f5b4",
   "metadata": {
    "id": "6aa0f5b4"
   },
   "outputs": [],
   "source": [
    "from tqdm.auto import tqdm\n",
    "from sklearn.model_selection import train_test_split\n",
    "import shutil\n",
    "\n",
    "train_paths, test_paths = train_test_split(paths, test_size=0.1, random_state=42)\n",
    "for i in range(10):\n",
    "    os.makedirs(f\"data/train/{i}\", exist_ok=True)\n",
    "    os.makedirs(f\"data/validation/{i}\", exist_ok=True)"
   ]
  },
  {
   "cell_type": "code",
   "execution_count": null,
   "id": "fe1d237b",
   "metadata": {
    "id": "fe1d237b"
   },
   "outputs": [],
   "source": [
    "def copy_to_destination(src_paths, dst_path: str = \"data/train/\"):\n",
    "    for path in tqdm(src_paths):\n",
    "        path = Path(path)\n",
    "        if path.parent.name == \"10\":\n",
    "            parent_dir = \"0\"\n",
    "        else:\n",
    "            parent_dir = path.parent.name\n",
    "        shutil.copy(path, op.join(dst_path, parent_dir, path.name))"
   ]
  },
  {
   "cell_type": "code",
   "execution_count": null,
   "id": "af9064ae",
   "metadata": {
    "colab": {
     "base_uri": "https://localhost:8080/",
     "height": 81,
     "referenced_widgets": [
      "644531c592dc41d98599f6f472ae5902",
      "8cc2b594e630433d8731b3a597c22d16",
      "449a09c27c6e4426a399bdc615f06fa9",
      "56df89016dc245e0a85eb6c5ba7e8dba",
      "c222ae9ae89e4689b0389019f41d8f82",
      "646bd7eae6954e1c81b9f0d497b1fef0",
      "344b18e8fcdd4953875762a078b34df3",
      "8702829e983e4f8b9599d7a9bd316115",
      "3c720f063aab46318b7a0986358a9e50",
      "a7c77dc32bc6409282ee68fc508b158b",
      "65bf7fad9a0d4a8aa1608d393492ba6b",
      "16cb7a51c30645f9b969af65d5a99ead",
      "9639a4e75cad41b987fb195b2c8f32ea",
      "96d71adc6cc642ccb9068902877bef6b",
      "7fc48c2a7a764e319fb06397b364d38a",
      "2c8a6d76d68d4d2ba3fd26f184a3df3b",
      "85e17e52667241eda4523964fa03fbb1",
      "c2d7d130db6243ed92b00fbb92651fb3",
      "77d08cd81dd242ac8a409cf334804140",
      "093ceb7950a44cbdb3bf972478f6d47a",
      "b254a1401f2b4b03b92010e66bad2ff3",
      "b5e17b7ac1064b639547b00686616ed2"
     ]
    },
    "id": "af9064ae",
    "outputId": "0197cd3a-eed3-43bb-958c-5b0cf16dbd04"
   },
   "outputs": [],
   "source": [
    "copy_to_destination(train_paths, \"data/train/\")\n",
    "copy_to_destination(test_paths, \"data/validation/\")"
   ]
  },
  {
   "cell_type": "markdown",
   "id": "ae55f494",
   "metadata": {
    "id": "ae55f494"
   },
   "source": [
    "## **Create a custom dataset and a dataloader**"
   ]
  },
  {
   "cell_type": "code",
   "execution_count": null,
   "id": "d0b69d68",
   "metadata": {
    "id": "d0b69d68"
   },
   "outputs": [],
   "source": [
    "import torch\n",
    "from torch.utils.data import Dataset, DataLoader\n",
    "from torchvision import transforms\n",
    "import matplotlib.pyplot as plt\n",
    "import pandas as pd"
   ]
  },
  {
   "cell_type": "code",
   "execution_count": null,
   "id": "2dbd4be3",
   "metadata": {
    "id": "2dbd4be3"
   },
   "outputs": [],
   "source": [
    "transform = transforms.Compose([\n",
    "    transforms.Resize((28, 28)),\n",
    "    transforms.Grayscale(),\n",
    "    transforms.ToTensor()\n",
    "])"
   ]
  },
  {
   "cell_type": "code",
   "execution_count": null,
   "id": "yyAx23w8PFLU",
   "metadata": {
    "colab": {
     "base_uri": "https://localhost:8080/"
    },
    "id": "yyAx23w8PFLU",
    "outputId": "442c4cb0-0d4c-4366-ba52-cfb4da69e3f1"
   },
   "outputs": [],
   "source": [
    "# Create dataframe\n",
    "train_df = pd.DataFrame({\"path\": glob(\"data/train/*/*\")})\n",
    "val_df = pd.DataFrame({\"path\": glob(\"data/validation/*/*\")})\n",
    "\n",
    "# Create text column from path\n",
    "train_df[\"text\"] = train_df[\"path\"].apply(lambda x: int(Path(x).parent.name))\n",
    "val_df[\"text\"] = val_df[\"path\"].apply(lambda x: int(Path(x).parent.name))\n",
    "\n",
    "# Shape of dataframe\n",
    "print(\"Number of train images = {}, number of validation images = {},\".format(train_df.shape, val_df.shape))"
   ]
  },
  {
   "cell_type": "code",
   "execution_count": null,
   "id": "09eb4140",
   "metadata": {
    "id": "09eb4140"
   },
   "outputs": [],
   "source": [
    "class ThaiDigitDataset(Dataset):\n",
    "    def __init__(self, dataframe, transform=None):\n",
    "        self.transform = transform\n",
    "        self.dataframe = dataframe\n",
    "\n",
    "    def __len__(self):\n",
    "        return len(self.dataframe)\n",
    "\n",
    "    def __getitem__(self, idx):\n",
    "        label = int(self.dataframe['text'][idx])\n",
    "        image = Image.open(self.dataframe['path'][idx])\n",
    "        if self.transform:\n",
    "            image = 1 - self.transform(image)\n",
    "        return image, label"
   ]
  },
  {
   "cell_type": "code",
   "execution_count": null,
   "id": "f1175f91",
   "metadata": {
    "id": "f1175f91"
   },
   "outputs": [],
   "source": [
    "train_thaidigit_dataset = ThaiDigitDataset(train_df, transform=transform)\n",
    "val_thaidigit_dataset = ThaiDigitDataset(val_df, transform=transform)"
   ]
  },
  {
   "cell_type": "code",
   "execution_count": null,
   "id": "d4f83af9",
   "metadata": {
    "id": "d4f83af9"
   },
   "outputs": [],
   "source": [
    "train_loader = DataLoader(train_thaidigit_dataset, batch_size=16, shuffle=True)\n",
    "val_loader = DataLoader(val_thaidigit_dataset, batch_size=16, shuffle=False)"
   ]
  },
  {
   "cell_type": "markdown",
   "id": "275542ac",
   "metadata": {
    "id": "275542ac"
   },
   "source": [
    "## **Create the model**"
   ]
  },
  {
   "cell_type": "code",
   "execution_count": null,
   "id": "abbd30d0",
   "metadata": {
    "id": "abbd30d0"
   },
   "outputs": [],
   "source": [
    "import torch.nn as nn\n",
    "import torch.nn.functional as F\n",
    "\n",
    "class ThaiDigitNet(nn.Module):\n",
    "    def __init__(self):\n",
    "        super(ThaiDigitNet, self).__init__()\n",
    "        self.fc1 = nn.Linear(28 * 28, 100)\n",
    "        self.fc2 = nn.Linear(100, 10)\n",
    "\n",
    "    def forward(self, x):\n",
    "        x = x.view(-1, 28 * 28)\n",
    "        x = self.fc1(x)\n",
    "        x = F.relu(x)\n",
    "        x = self.fc2(x)\n",
    "        return x"
   ]
  },
  {
   "cell_type": "markdown",
   "id": "f0455ef9",
   "metadata": {
    "id": "f0455ef9"
   },
   "source": [
    "## **Train the model**"
   ]
  },
  {
   "cell_type": "code",
   "execution_count": null,
   "id": "r61vWix7nfgl",
   "metadata": {
    "id": "r61vWix7nfgl"
   },
   "outputs": [],
   "source": [
    "# Create training loop function\n",
    "def train(model, n_epochs, loss_function, optimizer, train_loader, validation_loader):\n",
    "    training_logs = {\"train_loss\": [],  \"train_acc\": [], \"val_loss\": [], \"val_acc\": []}\n",
    "    print(\"-\"*80)\n",
    "    for epoch in range(1, n_epochs+1):\n",
    "        # training\n",
    "        model.train()\n",
    "        train_loss, correct = 0, 0\n",
    "        for images, labels in train_loader:\n",
    "            pred = model(images)\n",
    "            loss = loss_function(pred, labels)\n",
    "\n",
    "            optimizer.zero_grad()\n",
    "            loss.backward()\n",
    "            optimizer.step()\n",
    "\n",
    "            train_loss += loss.item()\n",
    "            correct += (pred.argmax(1) == labels).float().sum().item()\n",
    "        # save training logs\n",
    "        training_logs[\"train_loss\"].append(train_loss/ len(train_loader))\n",
    "        training_logs[\"train_acc\"].append(correct / len(train_loader.dataset))\n",
    "\n",
    "        # validation\n",
    "        model.eval()\n",
    "        val_loss, correct = 0, 0\n",
    "        for images, labels in validation_loader:\n",
    "            pred = model(images)\n",
    "            val_loss += loss_function(pred, labels).item()\n",
    "            correct += (pred.argmax(1) == labels).float().sum().item()\n",
    "        # save validation logs\n",
    "        training_logs[\"val_loss\"].append(val_loss/ len(val_loader))\n",
    "        training_logs[\"val_acc\"].append(correct / len(validation_loader.dataset))\n",
    "\n",
    "        print(f\"Epochs {epoch}\".ljust(10), \n",
    "              f\"train loss {training_logs['train_loss'][-1]:.5f}\",\n",
    "              f\"train acc {training_logs['train_acc'][-1]:.5f}\",\n",
    "\n",
    "              f\"val loss {training_logs['val_loss'][-1]:.5f}\",\n",
    "              f\"val acc {training_logs['val_acc'][-1]:.5f}\",\n",
    "              )\n",
    "        print(\"-\"*80)\n",
    "    return model, training_logs\n",
    "        "
   ]
  },
  {
   "cell_type": "code",
   "execution_count": null,
   "id": "amMGdYvkAg0c",
   "metadata": {
    "colab": {
     "base_uri": "https://localhost:8080/"
    },
    "id": "amMGdYvkAg0c",
    "outputId": "6842220d-0b34-4594-db90-cc6541bf26ed"
   },
   "outputs": [],
   "source": [
    "n_epoch = 50\n",
    "\n",
    "net = ThaiDigitNet() # Initialize the model\n",
    "loss_fn = nn.CrossEntropyLoss()\n",
    "optimizer = torch.optim.SGD(net.parameters(), lr=0.01)\n",
    "net, net_history = train(net, n_epoch, loss_fn, optimizer, train_loader, val_loader)"
   ]
  },
  {
   "cell_type": "code",
   "execution_count": null,
   "id": "j__w3mymCPJh",
   "metadata": {
    "id": "j__w3mymCPJh"
   },
   "outputs": [],
   "source": [
    "def plot_graph(history):\n",
    "    fig, (ax1, ax2) = plt.subplots(1, 2)\n",
    "    fig.set_figwidth(10)\n",
    "    fig.suptitle(\"Train vs Validation\")\n",
    "    ax1.plot(history[\"train_acc\"], label=\"Train\")\n",
    "    ax1.plot(history[\"val_acc\"], label=\"Validation\")\n",
    "    ax1.legend()\n",
    "    ax1.set_title(\"Accuracy\")\n",
    "\n",
    "    ax2.plot(history[\"train_loss\"], label=\"Train\")\n",
    "    ax2.plot(history[\"val_loss\"], label=\"Validation\")\n",
    "    ax2.legend()\n",
    "    ax2.set_title(\"Loss\")\n",
    "    fig.show()"
   ]
  },
  {
   "cell_type": "code",
   "execution_count": null,
   "id": "e8dAIHcnCIJA",
   "metadata": {
    "colab": {
     "base_uri": "https://localhost:8080/",
     "height": 294
    },
    "id": "e8dAIHcnCIJA",
    "outputId": "7c3a5a9d-1a2d-48cb-cba9-1f5b6c183a8b"
   },
   "outputs": [],
   "source": [
    "plot_graph(net_history)"
   ]
  },
  {
   "cell_type": "markdown",
   "id": "Z1KkTwVoob4f",
   "metadata": {
    "id": "Z1KkTwVoob4f"
   },
   "source": [
    "## **Save and load model**\n",
    "\n"
   ]
  },
  {
   "cell_type": "code",
   "execution_count": null,
   "id": "m6eOWaxWobiw",
   "metadata": {
    "id": "m6eOWaxWobiw"
   },
   "outputs": [],
   "source": [
    "save_path = \"thai_digit.pth\"\n",
    "torch.save(net.state_dict(), save_path)  # save model parameters"
   ]
  },
  {
   "cell_type": "code",
   "execution_count": null,
   "id": "Q9hqeg76o0Ng",
   "metadata": {
    "colab": {
     "base_uri": "https://localhost:8080/"
    },
    "id": "Q9hqeg76o0Ng",
    "outputId": "1f594ac2-f959-480a-973e-ef953875fded"
   },
   "outputs": [],
   "source": [
    "model_path = \"thai_digit.pth\"\n",
    "model = ThaiDigitNet()  # initialize the model\n",
    "model.load_state_dict(torch.load(model_path))  # load the model weights"
   ]
  },
  {
   "cell_type": "markdown",
   "id": "2a0229f1",
   "metadata": {
    "id": "2a0229f1"
   },
   "source": [
    "## **Evaluate the model**"
   ]
  },
  {
   "cell_type": "code",
   "execution_count": null,
   "id": "5b41a1c8",
   "metadata": {
    "id": "5b41a1c8"
   },
   "outputs": [],
   "source": [
    "# Create evaluation function for the model\n",
    "def evaluate(dataframe, model):\n",
    "    model.eval()\n",
    "    results = dataframe.copy()\n",
    "    predictions = []\n",
    "    for idx, row in results.iterrows():\n",
    "        img = transform(Image.open(row.path))\n",
    "        pred = model(1 - img)\n",
    "        predictions.append(pred.argmax(1).item())\n",
    "\n",
    "    results[\"prediction\"] = predictions\n",
    "    # Calculate accuracy\n",
    "    accuracy = len(results[results.prediction == results.text]) / len(results)\n",
    "    print(f\"Accuracy: {accuracy * 100:.2f}%\")\n",
    "    return results"
   ]
  },
  {
   "cell_type": "code",
   "execution_count": null,
   "id": "3WOPs_x_Amap",
   "metadata": {
    "colab": {
     "base_uri": "https://localhost:8080/",
     "height": 441
    },
    "id": "3WOPs_x_Amap",
    "outputId": "99575bec-bba3-44e7-cb66-a5b3c553c764"
   },
   "outputs": [],
   "source": [
    "evaluate(val_df, model)"
   ]
  },
  {
   "cell_type": "code",
   "execution_count": null,
   "id": "goWDOiKlA0oA",
   "metadata": {
    "colab": {
     "base_uri": "https://localhost:8080/",
     "height": 281
    },
    "id": "goWDOiKlA0oA",
    "outputId": "9016c7c0-5c34-49ca-a0a7-079596a67e2c"
   },
   "outputs": [],
   "source": [
    "# Show some random images with their predicted number\n",
    "random_number = random.randint(0, len(val_df))\n",
    "img = Image.open(val_df.iloc[random_number].path)\n",
    "img = transform(img)\n",
    "transformed_img = 1 - img\n",
    "\n",
    "pred = model(transformed_img).argmax(1)\n",
    "plt.title(f\"Predicted class = {pred.numpy()[0]}\")\n",
    "plt.imshow(img.squeeze(0), cmap=\"gray\")\n",
    "plt.show()"
   ]
  },
  {
   "cell_type": "markdown",
   "id": "-F6H4tFLmUCG",
   "metadata": {
    "id": "-F6H4tFLmUCG"
   },
   "source": [
    "## **Train neural netowrk model with more layers**"
   ]
  },
  {
   "cell_type": "code",
   "execution_count": null,
   "id": "IHMQhUJCg6QU",
   "metadata": {
    "id": "IHMQhUJCg6QU"
   },
   "outputs": [],
   "source": [
    "# TODO: Create neural network with more layers\n",
    "class ThaiDigitMoreLayers(nn.Module):\n",
    "    def __init__(self):\n",
    "        super(ThaiDigitMoreLayers, self).__init__()\n",
    "        # TODO: Create layers\n",
    "        \n",
    "    def forward(self, x):\n",
    "        # TODO: forward pass\n",
    "        return x"
   ]
  },
  {
   "cell_type": "code",
   "execution_count": null,
   "id": "TyFPAWPCFzN7",
   "metadata": {
    "colab": {
     "base_uri": "https://localhost:8080/"
    },
    "id": "TyFPAWPCFzN7",
    "outputId": "8fbd7d71-6d67-4726-9201-f3b1f999b9af"
   },
   "outputs": [],
   "source": [
    "n_epochs = 50\n",
    "\n",
    "more_layers_model = ThaiDigitMoreLayers()\n",
    "loss_fn = nn.CrossEntropyLoss()\n",
    "optimizer = torch.optim.SGD(more_layers_model.parameters(), lr=0.01)\n",
    "\n",
    "more_layers_model, more_layers_model_history = train(\n",
    "    more_layers_model, n_epochs, loss_fn, optimizer, train_loader, val_loader\n",
    ")"
   ]
  },
  {
   "cell_type": "code",
   "execution_count": null,
   "id": "xt-SoyPCHDH5",
   "metadata": {
    "colab": {
     "base_uri": "https://localhost:8080/",
     "height": 441
    },
    "id": "xt-SoyPCHDH5",
    "outputId": "fed46859-7b77-40f0-b1f5-e89fa88a6c4d"
   },
   "outputs": [],
   "source": [
    "evaluate(val_df, more_layers_model)"
   ]
  },
  {
   "cell_type": "code",
   "execution_count": null,
   "id": "d_lJnAbRHBKf",
   "metadata": {
    "colab": {
     "base_uri": "https://localhost:8080/",
     "height": 294
    },
    "id": "d_lJnAbRHBKf",
    "outputId": "68eda82e-8fc4-4ead-d5e5-c6637c3de7eb"
   },
   "outputs": [],
   "source": [
    "plot_graph(net_history)"
   ]
  },
  {
   "cell_type": "code",
   "execution_count": null,
   "id": "N5uZG7ekArVW",
   "metadata": {
    "colab": {
     "base_uri": "https://localhost:8080/",
     "height": 294
    },
    "id": "N5uZG7ekArVW",
    "outputId": "767bf6e3-2c0b-457f-d2a3-1dcc51691fa2"
   },
   "outputs": [],
   "source": [
    "plot_graph(more_layers_model_history)"
   ]
  },
  {
   "cell_type": "markdown",
   "id": "43ccb6fc",
   "metadata": {
    "id": "43ccb6fc"
   },
   "source": [
    "The training accuracy of the model is higher than the validation accuracy.\n",
    "This means that the model is overfitting the training data.\n",
    "We can try to reduce the overfitting by adding regularization ."
   ]
  },
  {
   "cell_type": "markdown",
   "id": "65fb58d7",
   "metadata": {
    "id": "65fb58d7"
   },
   "source": [
    "## **Regularization with Dropout**\n",
    "\n",
    "Dropout is one of the techniques used to prevent overfitting"
   ]
  },
  {
   "cell_type": "code",
   "execution_count": null,
   "id": "a8e819c7",
   "metadata": {
    "id": "a8e819c7"
   },
   "outputs": [],
   "source": [
    "# TODO: Add Dropout layer to the previous neural network\n",
    "class DropoutThaiDigit(nn.Module):\n",
    "    def __init__(self):\n",
    "        super(DropoutThaiDigit, self).__init__()\n",
    "        # TODO: Create layers\n",
    "\n",
    "    def forward(self, x):\n",
    "        # TODO: Create forward pass\n",
    "        return x"
   ]
  },
  {
   "cell_type": "code",
   "execution_count": null,
   "id": "hG2gLwxzAstf",
   "metadata": {
    "colab": {
     "base_uri": "https://localhost:8080/"
    },
    "id": "hG2gLwxzAstf",
    "outputId": "f984e073-a541-4786-d9c1-5fedccaa8391"
   },
   "outputs": [],
   "source": [
    "n_epochs = 50\n",
    "drop_model = DropoutThaiDigit()  # Initialize a model\n",
    "loss_fn = nn.CrossEntropyLoss()\n",
    "optimizer = torch.optim.SGD(drop_model.parameters(), lr=0.01)\n",
    "\n",
    "drop_model, drop_model_history = train(drop_model, n_epochs, loss_fn, optimizer, train_loader, val_loader)"
   ]
  },
  {
   "cell_type": "code",
   "execution_count": null,
   "id": "mNcSAyj2AuAC",
   "metadata": {
    "colab": {
     "base_uri": "https://localhost:8080/"
    },
    "id": "mNcSAyj2AuAC",
    "outputId": "7f4bcb29-ead7-4dd0-c1a6-e74dcae89e5e"
   },
   "outputs": [],
   "source": [
    "results = evaluate(val_df, drop_model)"
   ]
  },
  {
   "cell_type": "code",
   "execution_count": null,
   "id": "Ys7_0F5tIYnn",
   "metadata": {
    "colab": {
     "base_uri": "https://localhost:8080/",
     "height": 294
    },
    "id": "Ys7_0F5tIYnn",
    "outputId": "1154d46e-f3d3-47bd-89ac-52fb6815fd6d"
   },
   "outputs": [],
   "source": [
    "plot_graph(more_layers_model_history)"
   ]
  },
  {
   "cell_type": "code",
   "execution_count": null,
   "id": "JmW9BZrBAvbh",
   "metadata": {
    "colab": {
     "base_uri": "https://localhost:8080/",
     "height": 294
    },
    "id": "JmW9BZrBAvbh",
    "outputId": "37a1fa4e-765b-464b-c480-fcd74e82e5eb"
   },
   "outputs": [],
   "source": [
    "plot_graph(drop_model_history)"
   ]
  },
  {
   "cell_type": "markdown",
   "id": "b611d20b",
   "metadata": {
    "id": "b611d20b"
   },
   "source": [
    "Now the gap between the training accuracy and validation accuracy is smaller than before."
   ]
  },
  {
   "cell_type": "markdown",
   "id": "_R305_c-sBGn",
   "metadata": {
    "id": "_R305_c-sBGn"
   },
   "source": [
    "## **Image Augmentation**\n",
    "\n",
    "Image augmentation is a technique used to artificially increase the size of a training dataset by creating modified versions of existing images."
   ]
  },
  {
   "cell_type": "code",
   "execution_count": null,
   "id": "rKRgszrQNwPw",
   "metadata": {
    "id": "rKRgszrQNwPw"
   },
   "outputs": [],
   "source": [
    "# TODO: Add image augmentation in `train_transform`\n",
    "\n",
    "train_transform = transforms.Compose([\n",
    "    transforms.Resize((28, 28)),\n",
    "    transforms.Grayscale(),\n",
    "    # add here\n",
    "    transforms.RandomAffine(degrees=(-15, 15), translate=(0.05, 0.1), scale=(1, 1)),\n",
    "    transforms.ToTensor(),\n",
    "])\n",
    "\n",
    "val_transform = transforms.Compose([\n",
    "    transforms.Resize((28, 28)),\n",
    "    transforms.Grayscale(),\n",
    "    transforms.ToTensor(),\n",
    "])"
   ]
  },
  {
   "cell_type": "code",
   "execution_count": null,
   "id": "PTsA7pkYKz4x",
   "metadata": {
    "colab": {
     "base_uri": "https://localhost:8080/",
     "height": 265
    },
    "id": "PTsA7pkYKz4x",
    "outputId": "883bf686-24a3-4001-c639-140aa1191dfa"
   },
   "outputs": [],
   "source": [
    "# TODO: Transform image using `train_transform`\n"
   ]
  },
  {
   "cell_type": "code",
   "execution_count": null,
   "id": "qtpgbABlefBj",
   "metadata": {
    "id": "qtpgbABlefBj"
   },
   "outputs": [],
   "source": [
    "augmented_train_dataset = ThaiDigitDataset(train_df, transform=train_transform)\n",
    "val_dataset = ThaiDigitDataset(val_df, transform=val_transform)"
   ]
  },
  {
   "cell_type": "code",
   "execution_count": null,
   "id": "ybMkR3hoevDS",
   "metadata": {
    "id": "ybMkR3hoevDS"
   },
   "outputs": [],
   "source": [
    "train_dataset = ConcatDataset([train_thaidigit_dataset, augmented_train_dataset])"
   ]
  },
  {
   "cell_type": "code",
   "execution_count": null,
   "id": "DWmjYCRmfOfH",
   "metadata": {
    "id": "DWmjYCRmfOfH"
   },
   "outputs": [],
   "source": [
    "train_dataloader = DataLoader(train_dataset, batch_size=16, shuffle=True)\n",
    "val_dataloader = DataLoader(val_dataset, batch_size=16, shuffle=False)"
   ]
  },
  {
   "cell_type": "code",
   "execution_count": null,
   "id": "d0OHv65iJgHs",
   "metadata": {
    "colab": {
     "base_uri": "https://localhost:8080/"
    },
    "id": "d0OHv65iJgHs",
    "outputId": "5f57fe0a-23b3-42a3-fec4-accddaa59254"
   },
   "outputs": [],
   "source": [
    "# Let's train the model with augmented data\n",
    "n_epochs = 50\n",
    "augmented_model = DropoutThaiDigit()  # Initialize the model\n",
    "loss_fn = nn.CrossEntropyLoss()\n",
    "optimizer = torch.optim.SGD(augmented_model.parameters(), lr=0.01)\n",
    "\n",
    "augmented_model, augmented_model_history = train(\n",
    "    augmented_model, n_epochs, loss_fn, optimizer, train_dataloader, val_dataloader\n",
    ")"
   ]
  },
  {
   "cell_type": "code",
   "execution_count": null,
   "id": "0_lbTJOXJheG",
   "metadata": {
    "colab": {
     "base_uri": "https://localhost:8080/"
    },
    "id": "0_lbTJOXJheG",
    "outputId": "80412e1f-d286-4717-8909-e4ea672c7080"
   },
   "outputs": [],
   "source": [
    "# Evaluate the new model with old dataset.\n",
    "results = evaluate(val_df, augmented_model)"
   ]
  },
  {
   "cell_type": "code",
   "execution_count": null,
   "id": "1kByhfphJi4M",
   "metadata": {
    "colab": {
     "base_uri": "https://localhost:8080/",
     "height": 294
    },
    "id": "1kByhfphJi4M",
    "outputId": "09c7969a-63c1-48a8-d36e-f412e993847a"
   },
   "outputs": [],
   "source": [
    "plot_graph(augmented_model_history)"
   ]
  },
  {
   "cell_type": "code",
   "execution_count": null,
   "id": "GPwNfAB_Jj7L",
   "metadata": {
    "colab": {
     "base_uri": "https://localhost:8080/",
     "height": 279
    },
    "id": "GPwNfAB_Jj7L",
    "outputId": "48acf3a5-ee77-4f89-8da0-b932dd282152"
   },
   "outputs": [],
   "source": [
    "# Confusion matrix\n",
    "cm = confusion_matrix(results.text, results.prediction, labels=range(10))\n",
    "display = ConfusionMatrixDisplay(confusion_matrix=cm, display_labels=range(10))\n",
    "display.plot()\n",
    "plt.show()"
   ]
  }
 ],
 "metadata": {
  "accelerator": "GPU",
  "colab": {
   "provenance": []
  },
  "gpuClass": "standard",
  "kernelspec": {
   "display_name": "Python 3 (ipykernel)",
   "language": "python",
   "name": "python3"
  },
  "language_info": {
   "codemirror_mode": {
    "name": "ipython",
    "version": 3
   },
   "file_extension": ".py",
   "mimetype": "text/x-python",
   "name": "python",
   "nbconvert_exporter": "python",
   "pygments_lexer": "ipython3",
   "version": "3.7.13"
  },
  "vscode": {
   "interpreter": {
    "hash": "63ce3f086f3d35aeaa98481dc3e6117e1ab6d0e955643b11e97a8ed761553864"
   }
  },
  "widgets": {
   "application/vnd.jupyter.widget-state+json": {
    "093ceb7950a44cbdb3bf972478f6d47a": {
     "model_module": "@jupyter-widgets/controls",
     "model_module_version": "1.5.0",
     "model_name": "ProgressStyleModel",
     "state": {
      "_model_module": "@jupyter-widgets/controls",
      "_model_module_version": "1.5.0",
      "_model_name": "ProgressStyleModel",
      "_view_count": null,
      "_view_module": "@jupyter-widgets/base",
      "_view_module_version": "1.2.0",
      "_view_name": "StyleView",
      "bar_color": null,
      "description_width": ""
     }
    },
    "16cb7a51c30645f9b969af65d5a99ead": {
     "model_module": "@jupyter-widgets/controls",
     "model_module_version": "1.5.0",
     "model_name": "HBoxModel",
     "state": {
      "_dom_classes": [],
      "_model_module": "@jupyter-widgets/controls",
      "_model_module_version": "1.5.0",
      "_model_name": "HBoxModel",
      "_view_count": null,
      "_view_module": "@jupyter-widgets/controls",
      "_view_module_version": "1.5.0",
      "_view_name": "HBoxView",
      "box_style": "",
      "children": [
       "IPY_MODEL_9639a4e75cad41b987fb195b2c8f32ea",
       "IPY_MODEL_96d71adc6cc642ccb9068902877bef6b",
       "IPY_MODEL_7fc48c2a7a764e319fb06397b364d38a"
      ],
      "layout": "IPY_MODEL_2c8a6d76d68d4d2ba3fd26f184a3df3b"
     }
    },
    "2c8a6d76d68d4d2ba3fd26f184a3df3b": {
     "model_module": "@jupyter-widgets/base",
     "model_module_version": "1.2.0",
     "model_name": "LayoutModel",
     "state": {
      "_model_module": "@jupyter-widgets/base",
      "_model_module_version": "1.2.0",
      "_model_name": "LayoutModel",
      "_view_count": null,
      "_view_module": "@jupyter-widgets/base",
      "_view_module_version": "1.2.0",
      "_view_name": "LayoutView",
      "align_content": null,
      "align_items": null,
      "align_self": null,
      "border": null,
      "bottom": null,
      "display": null,
      "flex": null,
      "flex_flow": null,
      "grid_area": null,
      "grid_auto_columns": null,
      "grid_auto_flow": null,
      "grid_auto_rows": null,
      "grid_column": null,
      "grid_gap": null,
      "grid_row": null,
      "grid_template_areas": null,
      "grid_template_columns": null,
      "grid_template_rows": null,
      "height": null,
      "justify_content": null,
      "justify_items": null,
      "left": null,
      "margin": null,
      "max_height": null,
      "max_width": null,
      "min_height": null,
      "min_width": null,
      "object_fit": null,
      "object_position": null,
      "order": null,
      "overflow": null,
      "overflow_x": null,
      "overflow_y": null,
      "padding": null,
      "right": null,
      "top": null,
      "visibility": null,
      "width": null
     }
    },
    "344b18e8fcdd4953875762a078b34df3": {
     "model_module": "@jupyter-widgets/controls",
     "model_module_version": "1.5.0",
     "model_name": "DescriptionStyleModel",
     "state": {
      "_model_module": "@jupyter-widgets/controls",
      "_model_module_version": "1.5.0",
      "_model_name": "DescriptionStyleModel",
      "_view_count": null,
      "_view_module": "@jupyter-widgets/base",
      "_view_module_version": "1.2.0",
      "_view_name": "StyleView",
      "description_width": ""
     }
    },
    "3c720f063aab46318b7a0986358a9e50": {
     "model_module": "@jupyter-widgets/controls",
     "model_module_version": "1.5.0",
     "model_name": "ProgressStyleModel",
     "state": {
      "_model_module": "@jupyter-widgets/controls",
      "_model_module_version": "1.5.0",
      "_model_name": "ProgressStyleModel",
      "_view_count": null,
      "_view_module": "@jupyter-widgets/base",
      "_view_module_version": "1.2.0",
      "_view_name": "StyleView",
      "bar_color": null,
      "description_width": ""
     }
    },
    "449a09c27c6e4426a399bdc615f06fa9": {
     "model_module": "@jupyter-widgets/controls",
     "model_module_version": "1.5.0",
     "model_name": "FloatProgressModel",
     "state": {
      "_dom_classes": [],
      "_model_module": "@jupyter-widgets/controls",
      "_model_module_version": "1.5.0",
      "_model_name": "FloatProgressModel",
      "_view_count": null,
      "_view_module": "@jupyter-widgets/controls",
      "_view_module_version": "1.5.0",
      "_view_name": "ProgressView",
      "bar_style": "success",
      "description": "",
      "description_tooltip": null,
      "layout": "IPY_MODEL_8702829e983e4f8b9599d7a9bd316115",
      "max": 1575,
      "min": 0,
      "orientation": "horizontal",
      "style": "IPY_MODEL_3c720f063aab46318b7a0986358a9e50",
      "value": 1575
     }
    },
    "56df89016dc245e0a85eb6c5ba7e8dba": {
     "model_module": "@jupyter-widgets/controls",
     "model_module_version": "1.5.0",
     "model_name": "HTMLModel",
     "state": {
      "_dom_classes": [],
      "_model_module": "@jupyter-widgets/controls",
      "_model_module_version": "1.5.0",
      "_model_name": "HTMLModel",
      "_view_count": null,
      "_view_module": "@jupyter-widgets/controls",
      "_view_module_version": "1.5.0",
      "_view_name": "HTMLView",
      "description": "",
      "description_tooltip": null,
      "layout": "IPY_MODEL_a7c77dc32bc6409282ee68fc508b158b",
      "placeholder": "​",
      "style": "IPY_MODEL_65bf7fad9a0d4a8aa1608d393492ba6b",
      "value": " 1575/1575 [00:00&lt;00:00, 4063.18it/s]"
     }
    },
    "644531c592dc41d98599f6f472ae5902": {
     "model_module": "@jupyter-widgets/controls",
     "model_module_version": "1.5.0",
     "model_name": "HBoxModel",
     "state": {
      "_dom_classes": [],
      "_model_module": "@jupyter-widgets/controls",
      "_model_module_version": "1.5.0",
      "_model_name": "HBoxModel",
      "_view_count": null,
      "_view_module": "@jupyter-widgets/controls",
      "_view_module_version": "1.5.0",
      "_view_name": "HBoxView",
      "box_style": "",
      "children": [
       "IPY_MODEL_8cc2b594e630433d8731b3a597c22d16",
       "IPY_MODEL_449a09c27c6e4426a399bdc615f06fa9",
       "IPY_MODEL_56df89016dc245e0a85eb6c5ba7e8dba"
      ],
      "layout": "IPY_MODEL_c222ae9ae89e4689b0389019f41d8f82"
     }
    },
    "646bd7eae6954e1c81b9f0d497b1fef0": {
     "model_module": "@jupyter-widgets/base",
     "model_module_version": "1.2.0",
     "model_name": "LayoutModel",
     "state": {
      "_model_module": "@jupyter-widgets/base",
      "_model_module_version": "1.2.0",
      "_model_name": "LayoutModel",
      "_view_count": null,
      "_view_module": "@jupyter-widgets/base",
      "_view_module_version": "1.2.0",
      "_view_name": "LayoutView",
      "align_content": null,
      "align_items": null,
      "align_self": null,
      "border": null,
      "bottom": null,
      "display": null,
      "flex": null,
      "flex_flow": null,
      "grid_area": null,
      "grid_auto_columns": null,
      "grid_auto_flow": null,
      "grid_auto_rows": null,
      "grid_column": null,
      "grid_gap": null,
      "grid_row": null,
      "grid_template_areas": null,
      "grid_template_columns": null,
      "grid_template_rows": null,
      "height": null,
      "justify_content": null,
      "justify_items": null,
      "left": null,
      "margin": null,
      "max_height": null,
      "max_width": null,
      "min_height": null,
      "min_width": null,
      "object_fit": null,
      "object_position": null,
      "order": null,
      "overflow": null,
      "overflow_x": null,
      "overflow_y": null,
      "padding": null,
      "right": null,
      "top": null,
      "visibility": null,
      "width": null
     }
    },
    "65bf7fad9a0d4a8aa1608d393492ba6b": {
     "model_module": "@jupyter-widgets/controls",
     "model_module_version": "1.5.0",
     "model_name": "DescriptionStyleModel",
     "state": {
      "_model_module": "@jupyter-widgets/controls",
      "_model_module_version": "1.5.0",
      "_model_name": "DescriptionStyleModel",
      "_view_count": null,
      "_view_module": "@jupyter-widgets/base",
      "_view_module_version": "1.2.0",
      "_view_name": "StyleView",
      "description_width": ""
     }
    },
    "77d08cd81dd242ac8a409cf334804140": {
     "model_module": "@jupyter-widgets/base",
     "model_module_version": "1.2.0",
     "model_name": "LayoutModel",
     "state": {
      "_model_module": "@jupyter-widgets/base",
      "_model_module_version": "1.2.0",
      "_model_name": "LayoutModel",
      "_view_count": null,
      "_view_module": "@jupyter-widgets/base",
      "_view_module_version": "1.2.0",
      "_view_name": "LayoutView",
      "align_content": null,
      "align_items": null,
      "align_self": null,
      "border": null,
      "bottom": null,
      "display": null,
      "flex": null,
      "flex_flow": null,
      "grid_area": null,
      "grid_auto_columns": null,
      "grid_auto_flow": null,
      "grid_auto_rows": null,
      "grid_column": null,
      "grid_gap": null,
      "grid_row": null,
      "grid_template_areas": null,
      "grid_template_columns": null,
      "grid_template_rows": null,
      "height": null,
      "justify_content": null,
      "justify_items": null,
      "left": null,
      "margin": null,
      "max_height": null,
      "max_width": null,
      "min_height": null,
      "min_width": null,
      "object_fit": null,
      "object_position": null,
      "order": null,
      "overflow": null,
      "overflow_x": null,
      "overflow_y": null,
      "padding": null,
      "right": null,
      "top": null,
      "visibility": null,
      "width": null
     }
    },
    "7fc48c2a7a764e319fb06397b364d38a": {
     "model_module": "@jupyter-widgets/controls",
     "model_module_version": "1.5.0",
     "model_name": "HTMLModel",
     "state": {
      "_dom_classes": [],
      "_model_module": "@jupyter-widgets/controls",
      "_model_module_version": "1.5.0",
      "_model_name": "HTMLModel",
      "_view_count": null,
      "_view_module": "@jupyter-widgets/controls",
      "_view_module_version": "1.5.0",
      "_view_name": "HTMLView",
      "description": "",
      "description_tooltip": null,
      "layout": "IPY_MODEL_b254a1401f2b4b03b92010e66bad2ff3",
      "placeholder": "​",
      "style": "IPY_MODEL_b5e17b7ac1064b639547b00686616ed2",
      "value": " 175/175 [00:00&lt;00:00, 3253.63it/s]"
     }
    },
    "85e17e52667241eda4523964fa03fbb1": {
     "model_module": "@jupyter-widgets/base",
     "model_module_version": "1.2.0",
     "model_name": "LayoutModel",
     "state": {
      "_model_module": "@jupyter-widgets/base",
      "_model_module_version": "1.2.0",
      "_model_name": "LayoutModel",
      "_view_count": null,
      "_view_module": "@jupyter-widgets/base",
      "_view_module_version": "1.2.0",
      "_view_name": "LayoutView",
      "align_content": null,
      "align_items": null,
      "align_self": null,
      "border": null,
      "bottom": null,
      "display": null,
      "flex": null,
      "flex_flow": null,
      "grid_area": null,
      "grid_auto_columns": null,
      "grid_auto_flow": null,
      "grid_auto_rows": null,
      "grid_column": null,
      "grid_gap": null,
      "grid_row": null,
      "grid_template_areas": null,
      "grid_template_columns": null,
      "grid_template_rows": null,
      "height": null,
      "justify_content": null,
      "justify_items": null,
      "left": null,
      "margin": null,
      "max_height": null,
      "max_width": null,
      "min_height": null,
      "min_width": null,
      "object_fit": null,
      "object_position": null,
      "order": null,
      "overflow": null,
      "overflow_x": null,
      "overflow_y": null,
      "padding": null,
      "right": null,
      "top": null,
      "visibility": null,
      "width": null
     }
    },
    "8702829e983e4f8b9599d7a9bd316115": {
     "model_module": "@jupyter-widgets/base",
     "model_module_version": "1.2.0",
     "model_name": "LayoutModel",
     "state": {
      "_model_module": "@jupyter-widgets/base",
      "_model_module_version": "1.2.0",
      "_model_name": "LayoutModel",
      "_view_count": null,
      "_view_module": "@jupyter-widgets/base",
      "_view_module_version": "1.2.0",
      "_view_name": "LayoutView",
      "align_content": null,
      "align_items": null,
      "align_self": null,
      "border": null,
      "bottom": null,
      "display": null,
      "flex": null,
      "flex_flow": null,
      "grid_area": null,
      "grid_auto_columns": null,
      "grid_auto_flow": null,
      "grid_auto_rows": null,
      "grid_column": null,
      "grid_gap": null,
      "grid_row": null,
      "grid_template_areas": null,
      "grid_template_columns": null,
      "grid_template_rows": null,
      "height": null,
      "justify_content": null,
      "justify_items": null,
      "left": null,
      "margin": null,
      "max_height": null,
      "max_width": null,
      "min_height": null,
      "min_width": null,
      "object_fit": null,
      "object_position": null,
      "order": null,
      "overflow": null,
      "overflow_x": null,
      "overflow_y": null,
      "padding": null,
      "right": null,
      "top": null,
      "visibility": null,
      "width": null
     }
    },
    "8cc2b594e630433d8731b3a597c22d16": {
     "model_module": "@jupyter-widgets/controls",
     "model_module_version": "1.5.0",
     "model_name": "HTMLModel",
     "state": {
      "_dom_classes": [],
      "_model_module": "@jupyter-widgets/controls",
      "_model_module_version": "1.5.0",
      "_model_name": "HTMLModel",
      "_view_count": null,
      "_view_module": "@jupyter-widgets/controls",
      "_view_module_version": "1.5.0",
      "_view_name": "HTMLView",
      "description": "",
      "description_tooltip": null,
      "layout": "IPY_MODEL_646bd7eae6954e1c81b9f0d497b1fef0",
      "placeholder": "​",
      "style": "IPY_MODEL_344b18e8fcdd4953875762a078b34df3",
      "value": "100%"
     }
    },
    "9639a4e75cad41b987fb195b2c8f32ea": {
     "model_module": "@jupyter-widgets/controls",
     "model_module_version": "1.5.0",
     "model_name": "HTMLModel",
     "state": {
      "_dom_classes": [],
      "_model_module": "@jupyter-widgets/controls",
      "_model_module_version": "1.5.0",
      "_model_name": "HTMLModel",
      "_view_count": null,
      "_view_module": "@jupyter-widgets/controls",
      "_view_module_version": "1.5.0",
      "_view_name": "HTMLView",
      "description": "",
      "description_tooltip": null,
      "layout": "IPY_MODEL_85e17e52667241eda4523964fa03fbb1",
      "placeholder": "​",
      "style": "IPY_MODEL_c2d7d130db6243ed92b00fbb92651fb3",
      "value": "100%"
     }
    },
    "96d71adc6cc642ccb9068902877bef6b": {
     "model_module": "@jupyter-widgets/controls",
     "model_module_version": "1.5.0",
     "model_name": "FloatProgressModel",
     "state": {
      "_dom_classes": [],
      "_model_module": "@jupyter-widgets/controls",
      "_model_module_version": "1.5.0",
      "_model_name": "FloatProgressModel",
      "_view_count": null,
      "_view_module": "@jupyter-widgets/controls",
      "_view_module_version": "1.5.0",
      "_view_name": "ProgressView",
      "bar_style": "success",
      "description": "",
      "description_tooltip": null,
      "layout": "IPY_MODEL_77d08cd81dd242ac8a409cf334804140",
      "max": 175,
      "min": 0,
      "orientation": "horizontal",
      "style": "IPY_MODEL_093ceb7950a44cbdb3bf972478f6d47a",
      "value": 175
     }
    },
    "a7c77dc32bc6409282ee68fc508b158b": {
     "model_module": "@jupyter-widgets/base",
     "model_module_version": "1.2.0",
     "model_name": "LayoutModel",
     "state": {
      "_model_module": "@jupyter-widgets/base",
      "_model_module_version": "1.2.0",
      "_model_name": "LayoutModel",
      "_view_count": null,
      "_view_module": "@jupyter-widgets/base",
      "_view_module_version": "1.2.0",
      "_view_name": "LayoutView",
      "align_content": null,
      "align_items": null,
      "align_self": null,
      "border": null,
      "bottom": null,
      "display": null,
      "flex": null,
      "flex_flow": null,
      "grid_area": null,
      "grid_auto_columns": null,
      "grid_auto_flow": null,
      "grid_auto_rows": null,
      "grid_column": null,
      "grid_gap": null,
      "grid_row": null,
      "grid_template_areas": null,
      "grid_template_columns": null,
      "grid_template_rows": null,
      "height": null,
      "justify_content": null,
      "justify_items": null,
      "left": null,
      "margin": null,
      "max_height": null,
      "max_width": null,
      "min_height": null,
      "min_width": null,
      "object_fit": null,
      "object_position": null,
      "order": null,
      "overflow": null,
      "overflow_x": null,
      "overflow_y": null,
      "padding": null,
      "right": null,
      "top": null,
      "visibility": null,
      "width": null
     }
    },
    "b254a1401f2b4b03b92010e66bad2ff3": {
     "model_module": "@jupyter-widgets/base",
     "model_module_version": "1.2.0",
     "model_name": "LayoutModel",
     "state": {
      "_model_module": "@jupyter-widgets/base",
      "_model_module_version": "1.2.0",
      "_model_name": "LayoutModel",
      "_view_count": null,
      "_view_module": "@jupyter-widgets/base",
      "_view_module_version": "1.2.0",
      "_view_name": "LayoutView",
      "align_content": null,
      "align_items": null,
      "align_self": null,
      "border": null,
      "bottom": null,
      "display": null,
      "flex": null,
      "flex_flow": null,
      "grid_area": null,
      "grid_auto_columns": null,
      "grid_auto_flow": null,
      "grid_auto_rows": null,
      "grid_column": null,
      "grid_gap": null,
      "grid_row": null,
      "grid_template_areas": null,
      "grid_template_columns": null,
      "grid_template_rows": null,
      "height": null,
      "justify_content": null,
      "justify_items": null,
      "left": null,
      "margin": null,
      "max_height": null,
      "max_width": null,
      "min_height": null,
      "min_width": null,
      "object_fit": null,
      "object_position": null,
      "order": null,
      "overflow": null,
      "overflow_x": null,
      "overflow_y": null,
      "padding": null,
      "right": null,
      "top": null,
      "visibility": null,
      "width": null
     }
    },
    "b5e17b7ac1064b639547b00686616ed2": {
     "model_module": "@jupyter-widgets/controls",
     "model_module_version": "1.5.0",
     "model_name": "DescriptionStyleModel",
     "state": {
      "_model_module": "@jupyter-widgets/controls",
      "_model_module_version": "1.5.0",
      "_model_name": "DescriptionStyleModel",
      "_view_count": null,
      "_view_module": "@jupyter-widgets/base",
      "_view_module_version": "1.2.0",
      "_view_name": "StyleView",
      "description_width": ""
     }
    },
    "c222ae9ae89e4689b0389019f41d8f82": {
     "model_module": "@jupyter-widgets/base",
     "model_module_version": "1.2.0",
     "model_name": "LayoutModel",
     "state": {
      "_model_module": "@jupyter-widgets/base",
      "_model_module_version": "1.2.0",
      "_model_name": "LayoutModel",
      "_view_count": null,
      "_view_module": "@jupyter-widgets/base",
      "_view_module_version": "1.2.0",
      "_view_name": "LayoutView",
      "align_content": null,
      "align_items": null,
      "align_self": null,
      "border": null,
      "bottom": null,
      "display": null,
      "flex": null,
      "flex_flow": null,
      "grid_area": null,
      "grid_auto_columns": null,
      "grid_auto_flow": null,
      "grid_auto_rows": null,
      "grid_column": null,
      "grid_gap": null,
      "grid_row": null,
      "grid_template_areas": null,
      "grid_template_columns": null,
      "grid_template_rows": null,
      "height": null,
      "justify_content": null,
      "justify_items": null,
      "left": null,
      "margin": null,
      "max_height": null,
      "max_width": null,
      "min_height": null,
      "min_width": null,
      "object_fit": null,
      "object_position": null,
      "order": null,
      "overflow": null,
      "overflow_x": null,
      "overflow_y": null,
      "padding": null,
      "right": null,
      "top": null,
      "visibility": null,
      "width": null
     }
    },
    "c2d7d130db6243ed92b00fbb92651fb3": {
     "model_module": "@jupyter-widgets/controls",
     "model_module_version": "1.5.0",
     "model_name": "DescriptionStyleModel",
     "state": {
      "_model_module": "@jupyter-widgets/controls",
      "_model_module_version": "1.5.0",
      "_model_name": "DescriptionStyleModel",
      "_view_count": null,
      "_view_module": "@jupyter-widgets/base",
      "_view_module_version": "1.2.0",
      "_view_name": "StyleView",
      "description_width": ""
     }
    }
   }
  }
 },
 "nbformat": 4,
 "nbformat_minor": 5
}
