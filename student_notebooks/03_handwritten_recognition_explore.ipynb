{
 "cells": [
  {
   "cell_type": "markdown",
   "id": "cfc52381",
   "metadata": {
    "id": "cfc52381"
   },
   "source": [
    "[![Open in Colab](https://colab.research.google.com/assets/colab-badge.svg)](https://colab.research.google.com/github/biodatlab/deep-learning-skooldio/blob/master/03_handwritten_recognition_explore.ipynb)\n",
    "\n",
    "## **Thai-digit handwritten classification with Pytorch: Exploration**\n",
    "\n",
    "This notebook contains exploration of the \"Thai-digit handwritten classification\" including\n",
    "- Customize model\n",
    "    - Adding layers\n",
    "    - Adding dropout layer\n",
    "- Adding data augmentation"
   ]
  },
  {
   "cell_type": "markdown",
   "id": "3aa56f94",
   "metadata": {
    "id": "3aa56f94"
   },
   "source": [
    "## **Download and clean the dataset from the repository**\n",
    "\n",
    "- We have downloaded the data from https://github.com/kittinan/thai-handwriting-number by cloning the repository\n",
    "- Remove files that have character mismatch (as suggested by the the creator)\n",
    "- Then, we put the cleaned data at https://github.com/biodatlab/deep-learning-skooldio"
   ]
  },
  {
   "cell_type": "code",
   "execution_count": null,
   "id": "f7deb2f6",
   "metadata": {
    "colab": {
     "base_uri": "https://localhost:8080/"
    },
    "id": "f7deb2f6",
    "outputId": "cda2ea3d-89e9-4227-d161-39ea73c22219"
   },
   "outputs": [],
   "source": [
    "!git clone https://github.com/biodatlab/deep-learning-skooldio"
   ]
  },
  {
   "cell_type": "code",
   "execution_count": null,
   "id": "2ad2a443",
   "metadata": {
    "id": "2ad2a443"
   },
   "outputs": [],
   "source": [
    "import os\n",
    "import os.path as op\n",
    "from glob import glob\n",
    "from pathlib import Path\n",
    "import random\n",
    "from PIL import Image\n",
    "from collections import Counter\n",
    "from torch.utils.data import ConcatDataset\n",
    "from sklearn.metrics import confusion_matrix, ConfusionMatrixDisplay"
   ]
  },
  {
   "cell_type": "code",
   "execution_count": null,
   "id": "64ce2573",
   "metadata": {
    "colab": {
     "base_uri": "https://localhost:8080/"
    },
    "id": "64ce2573",
    "outputId": "40ba6fd2-2ad8-46d4-a8a0-39b4b1160b38"
   },
   "outputs": [],
   "source": [
    "directory = \"deep-learning-skooldio/\"\n",
    "paths = glob(op.join(directory, \"thai-handwritten-dataset\", \"*\", \"*\"))\n",
    "num_samples = len(paths)\n",
    "print(\"Number of samples\", num_samples)"
   ]
  },
  {
   "cell_type": "code",
   "execution_count": null,
   "id": "6aa0f5b4",
   "metadata": {
    "id": "6aa0f5b4"
   },
   "outputs": [],
   "source": [
    "from tqdm.auto import tqdm\n",
    "from sklearn.model_selection import train_test_split\n",
    "import shutil\n",
    "\n",
    "train_paths, test_paths = train_test_split(paths, test_size=0.1, random_state=42)\n",
    "for i in range(10):\n",
    "    os.makedirs(f\"data/train/{i}\", exist_ok=True)\n",
    "    os.makedirs(f\"data/validation/{i}\", exist_ok=True)"
   ]
  },
  {
   "cell_type": "code",
   "execution_count": null,
   "id": "fe1d237b",
   "metadata": {
    "id": "fe1d237b"
   },
   "outputs": [],
   "source": [
    "def copy_to_destination(src_paths, dst_path: str = \"data/train/\"):\n",
    "    for path in tqdm(src_paths):\n",
    "        path = Path(path)\n",
    "        if path.parent.name == \"10\":\n",
    "            parent_dir = \"0\"\n",
    "        else:\n",
    "            parent_dir = path.parent.name\n",
    "        shutil.copy(path, op.join(dst_path, parent_dir, path.name))"
   ]
  },
  {
   "cell_type": "code",
   "execution_count": null,
   "id": "af9064ae",
   "metadata": {
    "colab": {
     "base_uri": "https://localhost:8080/",
     "height": 81,
     "referenced_widgets": [
      "8f7855ac77b945c3ae4a1491e44fd690",
      "3060310cd9394269855b3e41520b27fd",
      "d99b30c950034e6c99ef4f4e6626b08c",
      "8e72355a6d7e4db7aae698e24488ea2c",
      "e1fd0e30b42d4fc19c8dbda4a9985d38",
      "0f553e0af94c4a54aaa80783b5397aa5",
      "a1c37ec8e07942778663affbf9851768",
      "ad2289d62c7946e0b8e8c88f5a9d7f96",
      "5e4002ecd7b04cd68c9be1bca5debf07",
      "c2f32fc4c1324d52ac57fdee894ea0c4",
      "78599379280c41f9a96510777e2aa8eb",
      "1b61136b38ad4173904f02a7fe112446",
      "b6bd3ecd7ed945e9bd0d7b7e9643cac6",
      "858da27ddece45fa99692bb83cea2f00",
      "64f87b04f3b54a748f73646a834ead29",
      "c806315ca35841e88a06e5da0d7a2873",
      "3e2e4ca14eb44b068892f3e6606d6706",
      "aa7c83df8479471d8ca4babf3af92358",
      "67f3bed6013e4df394cd055375d1f67c",
      "634ffed818a34cdc9ebf2f730cdf67ee",
      "10597e1de7ba4cdaa04ec20f3cb86e7f",
      "2cab18f0a7154590b1af25c176a3e0ad"
     ]
    },
    "id": "af9064ae",
    "outputId": "726b8157-ae0c-4dae-8a39-d3c0501be793"
   },
   "outputs": [],
   "source": [
    "copy_to_destination(train_paths, \"data/train/\")\n",
    "copy_to_destination(test_paths, \"data/validation/\")"
   ]
  },
  {
   "cell_type": "markdown",
   "id": "ae55f494",
   "metadata": {
    "id": "ae55f494"
   },
   "source": [
    "## **Create a custom dataset and a dataloader**"
   ]
  },
  {
   "cell_type": "code",
   "execution_count": null,
   "id": "d0b69d68",
   "metadata": {
    "id": "d0b69d68"
   },
   "outputs": [],
   "source": [
    "import torch\n",
    "from torch.utils.data import Dataset, DataLoader\n",
    "from torchvision import transforms\n",
    "import matplotlib.pyplot as plt\n",
    "import pandas as pd"
   ]
  },
  {
   "cell_type": "code",
   "execution_count": null,
   "id": "2dbd4be3",
   "metadata": {
    "id": "2dbd4be3"
   },
   "outputs": [],
   "source": [
    "transform = transforms.Compose([\n",
    "    transforms.Resize((28, 28)),\n",
    "    transforms.Grayscale(),\n",
    "    transforms.ToTensor()\n",
    "])"
   ]
  },
  {
   "cell_type": "code",
   "execution_count": null,
   "id": "yyAx23w8PFLU",
   "metadata": {
    "colab": {
     "base_uri": "https://localhost:8080/"
    },
    "id": "yyAx23w8PFLU",
    "outputId": "d35885f7-d716-41c2-883c-032ece5f694b"
   },
   "outputs": [],
   "source": [
    "# Create dataframe\n",
    "train_df = pd.DataFrame({\"path\": glob(\"data/train/*/*\")})\n",
    "val_df = pd.DataFrame({\"path\": glob(\"data/validation/*/*\")})\n",
    "\n",
    "# Create text column from path\n",
    "train_df[\"text\"] = train_df[\"path\"].apply(lambda x: int(Path(x).parent.name))\n",
    "val_df[\"text\"] = val_df[\"path\"].apply(lambda x: int(Path(x).parent.name))\n",
    "\n",
    "# Shape of dataframe\n",
    "print(\"Number of train images = {}, number of validation images = {},\".format(train_df.shape, val_df.shape))"
   ]
  },
  {
   "cell_type": "code",
   "execution_count": null,
   "id": "09eb4140",
   "metadata": {
    "id": "09eb4140"
   },
   "outputs": [],
   "source": [
    "class ThaiDigitDataset(Dataset):\n",
    "    def __init__(self, dataframe, transform=None):\n",
    "        self.transform = transform\n",
    "        self.dataframe = dataframe\n",
    "\n",
    "    def __len__(self):\n",
    "        return len(self.dataframe)\n",
    "\n",
    "    def __getitem__(self, idx):\n",
    "        label = int(self.dataframe['text'][idx])\n",
    "        image = Image.open(self.dataframe['path'][idx])\n",
    "        if self.transform:\n",
    "            image = 1 - self.transform(image)\n",
    "        return image, label"
   ]
  },
  {
   "cell_type": "code",
   "execution_count": null,
   "id": "f1175f91",
   "metadata": {
    "id": "f1175f91"
   },
   "outputs": [],
   "source": [
    "train_thaidigit_dataset = ThaiDigitDataset(train_df, transform=transform)\n",
    "val_thaidigit_dataset = ThaiDigitDataset(val_df, transform=transform)"
   ]
  },
  {
   "cell_type": "code",
   "execution_count": null,
   "id": "d4f83af9",
   "metadata": {
    "id": "d4f83af9"
   },
   "outputs": [],
   "source": [
    "train_loader = DataLoader(train_thaidigit_dataset, batch_size=16, shuffle=True)\n",
    "val_loader = DataLoader(val_thaidigit_dataset, batch_size=16, shuffle=False)"
   ]
  },
  {
   "cell_type": "markdown",
   "id": "275542ac",
   "metadata": {
    "id": "275542ac"
   },
   "source": [
    "## **Create the model**"
   ]
  },
  {
   "cell_type": "code",
   "execution_count": null,
   "id": "abbd30d0",
   "metadata": {
    "id": "abbd30d0"
   },
   "outputs": [],
   "source": [
    "import torch.nn as nn\n",
    "import torch.nn.functional as F\n",
    "\n",
    "class ThaiDigitNet(nn.Module):\n",
    "    def __init__(self):\n",
    "        super(ThaiDigitNet, self).__init__()\n",
    "        self.fc1 = nn.Linear(28 * 28, 100)\n",
    "        self.fc2 = nn.Linear(100, 10)\n",
    "\n",
    "    def forward(self, x):\n",
    "        x = x.view(-1, 28 * 28)\n",
    "        x = self.fc1(x)\n",
    "        x = F.relu(x)\n",
    "        x = self.fc2(x)\n",
    "        return x"
   ]
  },
  {
   "cell_type": "markdown",
   "id": "f0455ef9",
   "metadata": {
    "id": "f0455ef9"
   },
   "source": [
    "## **Train the model**"
   ]
  },
  {
   "cell_type": "code",
   "execution_count": null,
   "id": "r61vWix7nfgl",
   "metadata": {
    "id": "r61vWix7nfgl"
   },
   "outputs": [],
   "source": [
    "# Create training loop function\n",
    "def train(model, n_epochs, loss_function, optimizer, train_loader, validation_loader):\n",
    "    training_logs = {\"train_loss\": [],  \"train_acc\": [], \"val_loss\": [], \"val_acc\": []}\n",
    "    print(\"-\"*80)\n",
    "    for epoch in range(1, n_epochs+1):\n",
    "        # training\n",
    "        model.train()\n",
    "        train_loss, correct = 0, 0\n",
    "        for images, labels in train_loader:\n",
    "            pred = model(images)\n",
    "            loss = loss_function(pred, labels)\n",
    "\n",
    "            optimizer.zero_grad()\n",
    "            loss.backward()\n",
    "            optimizer.step()\n",
    "\n",
    "            train_loss += loss.item()\n",
    "            correct += (pred.argmax(1) == labels).float().sum().item()\n",
    "        # save training logs\n",
    "        training_logs[\"train_loss\"].append(train_loss/ len(train_loader))\n",
    "        training_logs[\"train_acc\"].append(correct / len(train_loader.dataset))\n",
    "\n",
    "        # validation\n",
    "        model.eval()\n",
    "        val_loss, correct = 0, 0\n",
    "        for images, labels in validation_loader:\n",
    "            pred = model(images)\n",
    "            val_loss += loss_function(pred, labels).item()\n",
    "            correct += (pred.argmax(1) == labels).float().sum().item()\n",
    "        # save validation logs\n",
    "        training_logs[\"val_loss\"].append(val_loss/ len(val_loader))\n",
    "        training_logs[\"val_acc\"].append(correct / len(validation_loader.dataset))\n",
    "\n",
    "        print(f\"Epochs {epoch}\".ljust(10), \n",
    "              f\"train loss {training_logs['train_loss'][-1]:.5f}\",\n",
    "              f\"train acc {training_logs['train_acc'][-1]:.5f}\",\n",
    "\n",
    "              f\"val loss {training_logs['val_loss'][-1]:.5f}\",\n",
    "              f\"val acc {training_logs['val_acc'][-1]:.5f}\",\n",
    "              )\n",
    "        print(\"-\"*80)\n",
    "    return model, training_logs\n",
    "        "
   ]
  },
  {
   "cell_type": "code",
   "execution_count": null,
   "id": "pKe0afyiq80F",
   "metadata": {
    "colab": {
     "base_uri": "https://localhost:8080/"
    },
    "id": "pKe0afyiq80F",
    "outputId": "4b1674b8-2909-4066-e0eb-c038017180b9"
   },
   "outputs": [],
   "source": [
    "n_epoch = 50\n",
    "\n",
    "net = ThaiDigitNet() # Initialize the model\n",
    "loss_fn = nn.CrossEntropyLoss()\n",
    "optimizer = torch.optim.SGD(net.parameters(), lr=0.01)\n",
    "net, net_history = train(net, n_epoch, loss_fn, optimizer, train_loader, val_loader)"
   ]
  },
  {
   "cell_type": "code",
   "execution_count": null,
   "id": "YNzoalGUt-uu",
   "metadata": {
    "id": "YNzoalGUt-uu"
   },
   "outputs": [],
   "source": [
    "def plot_graph(history):\n",
    "    fig, (ax1, ax2) = plt.subplots(1, 2)\n",
    "    fig.set_figwidth(10)\n",
    "    fig.suptitle(\"Train vs Validation\")\n",
    "    ax1.plot(history[\"train_acc\"], label=\"Train\")\n",
    "    ax1.plot(history[\"val_acc\"], label=\"Validation\")\n",
    "    ax1.legend()\n",
    "    ax1.set_title(\"Accuracy\")\n",
    "\n",
    "    ax2.plot(history[\"train_loss\"], label=\"Train\")\n",
    "    ax2.plot(history[\"val_loss\"], label=\"Validation\")\n",
    "    ax2.legend()\n",
    "    ax2.set_title(\"Loss\")\n",
    "    fig.show()"
   ]
  },
  {
   "cell_type": "code",
   "execution_count": null,
   "id": "n0kDVdjvwqRG",
   "metadata": {
    "colab": {
     "base_uri": "https://localhost:8080/",
     "height": 294
    },
    "id": "n0kDVdjvwqRG",
    "outputId": "764168cd-1bbb-4e80-bc6c-1242c672a060"
   },
   "outputs": [],
   "source": [
    "plot_graph(net_history)"
   ]
  },
  {
   "cell_type": "markdown",
   "id": "Z1KkTwVoob4f",
   "metadata": {
    "id": "Z1KkTwVoob4f"
   },
   "source": [
    "## **Save and load model**\n",
    "\n"
   ]
  },
  {
   "cell_type": "code",
   "execution_count": null,
   "id": "m6eOWaxWobiw",
   "metadata": {
    "id": "m6eOWaxWobiw"
   },
   "outputs": [],
   "source": [
    "save_path = \"thai_digit.pth\"\n",
    "torch.save(net.state_dict(), save_path)  # save model parameters"
   ]
  },
  {
   "cell_type": "code",
   "execution_count": null,
   "id": "Q9hqeg76o0Ng",
   "metadata": {
    "colab": {
     "base_uri": "https://localhost:8080/"
    },
    "id": "Q9hqeg76o0Ng",
    "outputId": "cdd23146-af8a-4ae1-82df-7df565b45023"
   },
   "outputs": [],
   "source": [
    "model_path = \"thai_digit.pth\"\n",
    "model = ThaiDigitNet()  # initialize the model\n",
    "model.load_state_dict(torch.load(model_path))  # load the model weights"
   ]
  },
  {
   "cell_type": "markdown",
   "id": "2a0229f1",
   "metadata": {
    "id": "2a0229f1"
   },
   "source": [
    "## **Evaluate the model**"
   ]
  },
  {
   "cell_type": "code",
   "execution_count": null,
   "id": "5b41a1c8",
   "metadata": {
    "id": "5b41a1c8"
   },
   "outputs": [],
   "source": [
    "# Create evaluation function for the model\n",
    "def evaluate(dataframe, model):\n",
    "    # TODO: Create an evaluation script to evaluate the model\n",
    "    return None"
   ]
  },
  {
   "cell_type": "code",
   "execution_count": null,
   "id": "mfQO7phtP3zU",
   "metadata": {
    "colab": {
     "base_uri": "https://localhost:8080/",
     "height": 441
    },
    "id": "mfQO7phtP3zU",
    "outputId": "ce3e1ad1-b9a4-4df2-feff-47425ee3d815"
   },
   "outputs": [],
   "source": [
    "evaluate(val_df, model)"
   ]
  },
  {
   "cell_type": "code",
   "execution_count": null,
   "id": "paULDzBOOkFl",
   "metadata": {
    "colab": {
     "base_uri": "https://localhost:8080/",
     "height": 281
    },
    "id": "paULDzBOOkFl",
    "outputId": "f1017ae3-0983-4653-fd1c-a96d0eceb940"
   },
   "outputs": [],
   "source": [
    "# Show some random images with their predicted number\n",
    "random_number = random.randint(0, len(val_df))\n",
    "img = Image.open(val_df.iloc[random_number].path)\n",
    "img = transform(img)\n",
    "transformed_img = 1 - img\n",
    "\n",
    "pred = model(transformed_img).argmax(1)\n",
    "plt.title(f\"Predicted class = {pred.numpy()[0]}\")\n",
    "plt.imshow(img.squeeze(0), cmap=\"gray\")\n",
    "plt.show()"
   ]
  },
  {
   "cell_type": "markdown",
   "id": "-F6H4tFLmUCG",
   "metadata": {
    "id": "-F6H4tFLmUCG"
   },
   "source": [
    "## **Train neural netowrk model with more layers**"
   ]
  },
  {
   "cell_type": "code",
   "execution_count": null,
   "id": "IHMQhUJCg6QU",
   "metadata": {
    "id": "IHMQhUJCg6QU"
   },
   "outputs": [],
   "source": [
    "# TODO: Create neural network with more layers\n",
    "class ThaiDigitMoreLayers(nn.Module):\n",
    "    def __init__(self):\n",
    "        super(ThaiDigitMoreLayers, self).__init__()\n",
    "\n",
    "    def forward(self, x):\n",
    "        return None"
   ]
  },
  {
   "cell_type": "code",
   "execution_count": null,
   "id": "DzfL2z4tkrYb",
   "metadata": {
    "colab": {
     "base_uri": "https://localhost:8080/"
    },
    "id": "DzfL2z4tkrYb",
    "outputId": "0f7242ae-14e0-45a4-fad7-919cc36e82b5"
   },
   "outputs": [],
   "source": [
    "n_epochs = 50\n",
    "\n",
    "more_layers_model = ThaiDigitMoreLayers()\n",
    "loss_fn = nn.CrossEntropyLoss()\n",
    "optimizer = torch.optim.SGD(more_layers_model.parameters(), lr=0.01)\n",
    "\n",
    "more_layers_model, more_layers_model_history = train(\n",
    "    more_layers_model, n_epochs, loss_fn, optimizer, train_loader, val_loader\n",
    ")\n"
   ]
  },
  {
   "cell_type": "code",
   "execution_count": null,
   "id": "bVYRwfYHkluE",
   "metadata": {
    "colab": {
     "base_uri": "https://localhost:8080/",
     "height": 441
    },
    "id": "bVYRwfYHkluE",
    "outputId": "48e4317e-4380-4a90-b948-9169d8e26046"
   },
   "outputs": [],
   "source": [
    "evaluate(val_df, more_layers_model)"
   ]
  },
  {
   "cell_type": "code",
   "execution_count": null,
   "id": "msBnIuLAmeAM",
   "metadata": {
    "colab": {
     "base_uri": "https://localhost:8080/",
     "height": 294
    },
    "id": "msBnIuLAmeAM",
    "outputId": "133a3385-73da-488c-e156-82bb32c62218"
   },
   "outputs": [],
   "source": [
    "plot_graph(net_history)"
   ]
  },
  {
   "cell_type": "code",
   "execution_count": null,
   "id": "iBmb3HOYxwoP",
   "metadata": {
    "colab": {
     "base_uri": "https://localhost:8080/",
     "height": 294
    },
    "id": "iBmb3HOYxwoP",
    "outputId": "46eefe60-4c88-459b-c47c-32217d43d0ca"
   },
   "outputs": [],
   "source": [
    "plot_graph(more_layers_model_history)"
   ]
  },
  {
   "cell_type": "markdown",
   "id": "43ccb6fc",
   "metadata": {
    "id": "43ccb6fc"
   },
   "source": [
    "The training accuracy of the model is higher than the validation accuracy.\n",
    "This means that the model is overfitting the training data.\n",
    "We can try to reduce the overfitting by adding regularization ."
   ]
  },
  {
   "cell_type": "markdown",
   "id": "65fb58d7",
   "metadata": {
    "id": "65fb58d7"
   },
   "source": [
    "## **Regularization with Dropout**\n",
    "\n",
    "Dropout is one of the techniques that can help prevent overfitting"
   ]
  },
  {
   "cell_type": "code",
   "execution_count": null,
   "id": "a8e819c7",
   "metadata": {
    "id": "a8e819c7"
   },
   "outputs": [],
   "source": [
    "# TODO: Add Dropout layer to the previous neural network\n",
    "class DropoutThaiDigit(nn.Module):\n",
    "    def __init__(self):\n",
    "        super(DropoutThaiDigit, self).__init__()\n",
    "\n",
    "    def forward(self, x):\n",
    "        return None"
   ]
  },
  {
   "cell_type": "code",
   "execution_count": null,
   "id": "a832fd9d",
   "metadata": {
    "colab": {
     "base_uri": "https://localhost:8080/"
    },
    "id": "a832fd9d",
    "outputId": "38badc52-3cfa-4ca9-eb64-46354f995c4c"
   },
   "outputs": [],
   "source": [
    "n_epochs = 50\n",
    "drop_model = DropoutThaiDigit()  # Initialize a model\n",
    "loss_fn = nn.CrossEntropyLoss()\n",
    "optimizer = torch.optim.SGD(drop_model.parameters(), lr=0.01)\n",
    "\n",
    "drop_model, drop_model_history = train(drop_model, n_epochs, loss_fn, optimizer, train_loader, val_loader)"
   ]
  },
  {
   "cell_type": "code",
   "execution_count": null,
   "id": "fa154266",
   "metadata": {
    "colab": {
     "base_uri": "https://localhost:8080/"
    },
    "id": "fa154266",
    "outputId": "f35ab85d-a139-400e-f9fb-65c36d937db9"
   },
   "outputs": [],
   "source": [
    "results = evaluate(val_df, drop_model)"
   ]
  },
  {
   "cell_type": "code",
   "execution_count": null,
   "id": "kD2hDwhPzV9m",
   "metadata": {
    "colab": {
     "base_uri": "https://localhost:8080/",
     "height": 294
    },
    "id": "kD2hDwhPzV9m",
    "outputId": "047e98fa-c9f7-4708-e074-51c9cb2342ed"
   },
   "outputs": [],
   "source": [
    "plot_graph(drop_model_history)"
   ]
  },
  {
   "cell_type": "markdown",
   "id": "b611d20b",
   "metadata": {
    "id": "b611d20b"
   },
   "source": [
    "Now the gap between the training accuracy and validation accuracy is smaller than before."
   ]
  },
  {
   "cell_type": "markdown",
   "id": "_R305_c-sBGn",
   "metadata": {
    "id": "_R305_c-sBGn"
   },
   "source": [
    "## **Image Augmentation**\n",
    "\n",
    "Image augmentation is a technique used to artificially increase the size of a training dataset by creating modified versions of existing images."
   ]
  },
  {
   "cell_type": "code",
   "execution_count": null,
   "id": "XS14ZI0b_Wla",
   "metadata": {
    "id": "XS14ZI0b_Wla"
   },
   "outputs": [],
   "source": [
    "# augment_transform is same as transform but add RandomAffine to the image\n",
    "\n",
    "train_transform = transforms.Compose([\n",
    "    transforms.Resize((28, 28)),\n",
    "    transforms.Grayscale(),\n",
    "    transforms.RandomAffine(degrees=(15, 30), translate=(0.05, 0.1), scale=(1, 1)),\n",
    "    transforms.ToTensor(),\n",
    "])\n",
    "\n",
    "val_transform = transforms.Compose([\n",
    "    transforms.Resize((28, 28)),\n",
    "    transforms.Grayscale(),\n",
    "    transforms.ToTensor(),\n",
    "])"
   ]
  },
  {
   "cell_type": "code",
   "execution_count": null,
   "id": "d52dee8c",
   "metadata": {
    "id": "d52dee8c"
   },
   "outputs": [],
   "source": [
    "example_augment_data = ThaiDigitDataset(train_df, transform=train_transform)\n",
    "example_dataloader = DataLoader(example_augment_data, batch_size=16, shuffle=True)"
   ]
  },
  {
   "cell_type": "code",
   "execution_count": null,
   "id": "663cd6b7",
   "metadata": {
    "colab": {
     "base_uri": "https://localhost:8080/",
     "height": 265
    },
    "id": "663cd6b7",
    "outputId": "992c7c9f-67d7-4e1f-caed-262351ffac6a"
   },
   "outputs": [],
   "source": [
    "# Example of augmented image\n",
    "img = (next(iter(example_dataloader))[0][1])\n",
    "transformed_img = 1 - img\n",
    "\n",
    "plt.imshow(transformed_img.squeeze(0), cmap=\"gray\")\n",
    "plt.show()"
   ]
  },
  {
   "cell_type": "code",
   "execution_count": null,
   "id": "qtpgbABlefBj",
   "metadata": {
    "id": "qtpgbABlefBj"
   },
   "outputs": [],
   "source": [
    "augmented_train_dataset = ThaiDigitDataset(train_df, transform=train_transform)\n",
    "val_dataset = ThaiDigitDataset(val_df, transform=val_transform)"
   ]
  },
  {
   "cell_type": "code",
   "execution_count": null,
   "id": "ybMkR3hoevDS",
   "metadata": {
    "id": "ybMkR3hoevDS"
   },
   "outputs": [],
   "source": [
    "train_dataset = ConcatDataset([train_thaidigit_dataset, augmented_train_dataset])"
   ]
  },
  {
   "cell_type": "code",
   "execution_count": null,
   "id": "DWmjYCRmfOfH",
   "metadata": {
    "id": "DWmjYCRmfOfH"
   },
   "outputs": [],
   "source": [
    "train_dataloader = DataLoader(train_dataset, batch_size=16, shuffle=True)\n",
    "val_dataloader = DataLoader(val_dataset, batch_size=16, shuffle=False)"
   ]
  },
  {
   "cell_type": "code",
   "execution_count": null,
   "id": "acc729d5",
   "metadata": {
    "colab": {
     "base_uri": "https://localhost:8080/"
    },
    "id": "acc729d5",
    "outputId": "b3958e7c-7b20-4c80-8e5c-03efd7afd6e8"
   },
   "outputs": [],
   "source": [
    "# Let's train the model with augmented data\n",
    "n_epochs = 50\n",
    "augmented_model = DropoutThaiDigit()  # Initialize the model\n",
    "loss_fn = nn.CrossEntropyLoss()\n",
    "optimizer = torch.optim.SGD(augmented_model.parameters(), lr=0.01)\n",
    "\n",
    "augmented_model, augmented_model_history = train(\n",
    "    augmented_model, n_epochs, loss_fn, optimizer, train_dataloader, val_dataloader\n",
    ")"
   ]
  },
  {
   "cell_type": "code",
   "execution_count": null,
   "id": "j4Z2ZXWnjqYt",
   "metadata": {
    "colab": {
     "base_uri": "https://localhost:8080/"
    },
    "id": "j4Z2ZXWnjqYt",
    "outputId": "ead79692-c28f-4866-84a2-97c346ac2656"
   },
   "outputs": [],
   "source": [
    "# Evaluate the new model with old dataset.\n",
    "results = evaluate(val_df, augmented_model)"
   ]
  },
  {
   "cell_type": "code",
   "execution_count": null,
   "id": "oI1CjNUMkXWv",
   "metadata": {
    "colab": {
     "base_uri": "https://localhost:8080/",
     "height": 294
    },
    "id": "oI1CjNUMkXWv",
    "outputId": "8e654ff4-73e4-4143-9329-ee7a98ff171c"
   },
   "outputs": [],
   "source": [
    "plot_graph(augmented_model_history)"
   ]
  },
  {
   "cell_type": "code",
   "execution_count": null,
   "id": "Ue8KJ1UhkQHe",
   "metadata": {
    "colab": {
     "base_uri": "https://localhost:8080/",
     "height": 279
    },
    "id": "Ue8KJ1UhkQHe",
    "outputId": "b4284761-8153-43b1-c5ce-668bc30a0aca"
   },
   "outputs": [],
   "source": [
    "# Confusion matrix\n",
    "cm = confusion_matrix(results.text, results.prediction, labels=range(10))\n",
    "display = ConfusionMatrixDisplay(confusion_matrix=cm, display_labels=range(10))\n",
    "display.plot()\n",
    "plt.show()"
   ]
  }
 ],
 "metadata": {
  "colab": {
   "provenance": []
  },
  "gpuClass": "standard",
  "kernelspec": {
   "display_name": "Python 3 (ipykernel)",
   "language": "python",
   "name": "python3"
  },
  "language_info": {
   "codemirror_mode": {
    "name": "ipython",
    "version": 3
   },
   "file_extension": ".py",
   "mimetype": "text/x-python",
   "name": "python",
   "nbconvert_exporter": "python",
   "pygments_lexer": "ipython3",
   "version": "3.7.13"
  },
  "vscode": {
   "interpreter": {
    "hash": "63ce3f086f3d35aeaa98481dc3e6117e1ab6d0e955643b11e97a8ed761553864"
   }
  },
  "widgets": {
   "application/vnd.jupyter.widget-state+json": {
    "0f553e0af94c4a54aaa80783b5397aa5": {
     "model_module": "@jupyter-widgets/base",
     "model_module_version": "1.2.0",
     "model_name": "LayoutModel",
     "state": {
      "_model_module": "@jupyter-widgets/base",
      "_model_module_version": "1.2.0",
      "_model_name": "LayoutModel",
      "_view_count": null,
      "_view_module": "@jupyter-widgets/base",
      "_view_module_version": "1.2.0",
      "_view_name": "LayoutView",
      "align_content": null,
      "align_items": null,
      "align_self": null,
      "border": null,
      "bottom": null,
      "display": null,
      "flex": null,
      "flex_flow": null,
      "grid_area": null,
      "grid_auto_columns": null,
      "grid_auto_flow": null,
      "grid_auto_rows": null,
      "grid_column": null,
      "grid_gap": null,
      "grid_row": null,
      "grid_template_areas": null,
      "grid_template_columns": null,
      "grid_template_rows": null,
      "height": null,
      "justify_content": null,
      "justify_items": null,
      "left": null,
      "margin": null,
      "max_height": null,
      "max_width": null,
      "min_height": null,
      "min_width": null,
      "object_fit": null,
      "object_position": null,
      "order": null,
      "overflow": null,
      "overflow_x": null,
      "overflow_y": null,
      "padding": null,
      "right": null,
      "top": null,
      "visibility": null,
      "width": null
     }
    },
    "10597e1de7ba4cdaa04ec20f3cb86e7f": {
     "model_module": "@jupyter-widgets/base",
     "model_module_version": "1.2.0",
     "model_name": "LayoutModel",
     "state": {
      "_model_module": "@jupyter-widgets/base",
      "_model_module_version": "1.2.0",
      "_model_name": "LayoutModel",
      "_view_count": null,
      "_view_module": "@jupyter-widgets/base",
      "_view_module_version": "1.2.0",
      "_view_name": "LayoutView",
      "align_content": null,
      "align_items": null,
      "align_self": null,
      "border": null,
      "bottom": null,
      "display": null,
      "flex": null,
      "flex_flow": null,
      "grid_area": null,
      "grid_auto_columns": null,
      "grid_auto_flow": null,
      "grid_auto_rows": null,
      "grid_column": null,
      "grid_gap": null,
      "grid_row": null,
      "grid_template_areas": null,
      "grid_template_columns": null,
      "grid_template_rows": null,
      "height": null,
      "justify_content": null,
      "justify_items": null,
      "left": null,
      "margin": null,
      "max_height": null,
      "max_width": null,
      "min_height": null,
      "min_width": null,
      "object_fit": null,
      "object_position": null,
      "order": null,
      "overflow": null,
      "overflow_x": null,
      "overflow_y": null,
      "padding": null,
      "right": null,
      "top": null,
      "visibility": null,
      "width": null
     }
    },
    "1b61136b38ad4173904f02a7fe112446": {
     "model_module": "@jupyter-widgets/controls",
     "model_module_version": "1.5.0",
     "model_name": "HBoxModel",
     "state": {
      "_dom_classes": [],
      "_model_module": "@jupyter-widgets/controls",
      "_model_module_version": "1.5.0",
      "_model_name": "HBoxModel",
      "_view_count": null,
      "_view_module": "@jupyter-widgets/controls",
      "_view_module_version": "1.5.0",
      "_view_name": "HBoxView",
      "box_style": "",
      "children": [
       "IPY_MODEL_b6bd3ecd7ed945e9bd0d7b7e9643cac6",
       "IPY_MODEL_858da27ddece45fa99692bb83cea2f00",
       "IPY_MODEL_64f87b04f3b54a748f73646a834ead29"
      ],
      "layout": "IPY_MODEL_c806315ca35841e88a06e5da0d7a2873"
     }
    },
    "2cab18f0a7154590b1af25c176a3e0ad": {
     "model_module": "@jupyter-widgets/controls",
     "model_module_version": "1.5.0",
     "model_name": "DescriptionStyleModel",
     "state": {
      "_model_module": "@jupyter-widgets/controls",
      "_model_module_version": "1.5.0",
      "_model_name": "DescriptionStyleModel",
      "_view_count": null,
      "_view_module": "@jupyter-widgets/base",
      "_view_module_version": "1.2.0",
      "_view_name": "StyleView",
      "description_width": ""
     }
    },
    "3060310cd9394269855b3e41520b27fd": {
     "model_module": "@jupyter-widgets/controls",
     "model_module_version": "1.5.0",
     "model_name": "HTMLModel",
     "state": {
      "_dom_classes": [],
      "_model_module": "@jupyter-widgets/controls",
      "_model_module_version": "1.5.0",
      "_model_name": "HTMLModel",
      "_view_count": null,
      "_view_module": "@jupyter-widgets/controls",
      "_view_module_version": "1.5.0",
      "_view_name": "HTMLView",
      "description": "",
      "description_tooltip": null,
      "layout": "IPY_MODEL_0f553e0af94c4a54aaa80783b5397aa5",
      "placeholder": "​",
      "style": "IPY_MODEL_a1c37ec8e07942778663affbf9851768",
      "value": "100%"
     }
    },
    "3e2e4ca14eb44b068892f3e6606d6706": {
     "model_module": "@jupyter-widgets/base",
     "model_module_version": "1.2.0",
     "model_name": "LayoutModel",
     "state": {
      "_model_module": "@jupyter-widgets/base",
      "_model_module_version": "1.2.0",
      "_model_name": "LayoutModel",
      "_view_count": null,
      "_view_module": "@jupyter-widgets/base",
      "_view_module_version": "1.2.0",
      "_view_name": "LayoutView",
      "align_content": null,
      "align_items": null,
      "align_self": null,
      "border": null,
      "bottom": null,
      "display": null,
      "flex": null,
      "flex_flow": null,
      "grid_area": null,
      "grid_auto_columns": null,
      "grid_auto_flow": null,
      "grid_auto_rows": null,
      "grid_column": null,
      "grid_gap": null,
      "grid_row": null,
      "grid_template_areas": null,
      "grid_template_columns": null,
      "grid_template_rows": null,
      "height": null,
      "justify_content": null,
      "justify_items": null,
      "left": null,
      "margin": null,
      "max_height": null,
      "max_width": null,
      "min_height": null,
      "min_width": null,
      "object_fit": null,
      "object_position": null,
      "order": null,
      "overflow": null,
      "overflow_x": null,
      "overflow_y": null,
      "padding": null,
      "right": null,
      "top": null,
      "visibility": null,
      "width": null
     }
    },
    "5e4002ecd7b04cd68c9be1bca5debf07": {
     "model_module": "@jupyter-widgets/controls",
     "model_module_version": "1.5.0",
     "model_name": "ProgressStyleModel",
     "state": {
      "_model_module": "@jupyter-widgets/controls",
      "_model_module_version": "1.5.0",
      "_model_name": "ProgressStyleModel",
      "_view_count": null,
      "_view_module": "@jupyter-widgets/base",
      "_view_module_version": "1.2.0",
      "_view_name": "StyleView",
      "bar_color": null,
      "description_width": ""
     }
    },
    "634ffed818a34cdc9ebf2f730cdf67ee": {
     "model_module": "@jupyter-widgets/controls",
     "model_module_version": "1.5.0",
     "model_name": "ProgressStyleModel",
     "state": {
      "_model_module": "@jupyter-widgets/controls",
      "_model_module_version": "1.5.0",
      "_model_name": "ProgressStyleModel",
      "_view_count": null,
      "_view_module": "@jupyter-widgets/base",
      "_view_module_version": "1.2.0",
      "_view_name": "StyleView",
      "bar_color": null,
      "description_width": ""
     }
    },
    "64f87b04f3b54a748f73646a834ead29": {
     "model_module": "@jupyter-widgets/controls",
     "model_module_version": "1.5.0",
     "model_name": "HTMLModel",
     "state": {
      "_dom_classes": [],
      "_model_module": "@jupyter-widgets/controls",
      "_model_module_version": "1.5.0",
      "_model_name": "HTMLModel",
      "_view_count": null,
      "_view_module": "@jupyter-widgets/controls",
      "_view_module_version": "1.5.0",
      "_view_name": "HTMLView",
      "description": "",
      "description_tooltip": null,
      "layout": "IPY_MODEL_10597e1de7ba4cdaa04ec20f3cb86e7f",
      "placeholder": "​",
      "style": "IPY_MODEL_2cab18f0a7154590b1af25c176a3e0ad",
      "value": " 175/175 [00:00&lt;00:00, 2672.02it/s]"
     }
    },
    "67f3bed6013e4df394cd055375d1f67c": {
     "model_module": "@jupyter-widgets/base",
     "model_module_version": "1.2.0",
     "model_name": "LayoutModel",
     "state": {
      "_model_module": "@jupyter-widgets/base",
      "_model_module_version": "1.2.0",
      "_model_name": "LayoutModel",
      "_view_count": null,
      "_view_module": "@jupyter-widgets/base",
      "_view_module_version": "1.2.0",
      "_view_name": "LayoutView",
      "align_content": null,
      "align_items": null,
      "align_self": null,
      "border": null,
      "bottom": null,
      "display": null,
      "flex": null,
      "flex_flow": null,
      "grid_area": null,
      "grid_auto_columns": null,
      "grid_auto_flow": null,
      "grid_auto_rows": null,
      "grid_column": null,
      "grid_gap": null,
      "grid_row": null,
      "grid_template_areas": null,
      "grid_template_columns": null,
      "grid_template_rows": null,
      "height": null,
      "justify_content": null,
      "justify_items": null,
      "left": null,
      "margin": null,
      "max_height": null,
      "max_width": null,
      "min_height": null,
      "min_width": null,
      "object_fit": null,
      "object_position": null,
      "order": null,
      "overflow": null,
      "overflow_x": null,
      "overflow_y": null,
      "padding": null,
      "right": null,
      "top": null,
      "visibility": null,
      "width": null
     }
    },
    "78599379280c41f9a96510777e2aa8eb": {
     "model_module": "@jupyter-widgets/controls",
     "model_module_version": "1.5.0",
     "model_name": "DescriptionStyleModel",
     "state": {
      "_model_module": "@jupyter-widgets/controls",
      "_model_module_version": "1.5.0",
      "_model_name": "DescriptionStyleModel",
      "_view_count": null,
      "_view_module": "@jupyter-widgets/base",
      "_view_module_version": "1.2.0",
      "_view_name": "StyleView",
      "description_width": ""
     }
    },
    "858da27ddece45fa99692bb83cea2f00": {
     "model_module": "@jupyter-widgets/controls",
     "model_module_version": "1.5.0",
     "model_name": "FloatProgressModel",
     "state": {
      "_dom_classes": [],
      "_model_module": "@jupyter-widgets/controls",
      "_model_module_version": "1.5.0",
      "_model_name": "FloatProgressModel",
      "_view_count": null,
      "_view_module": "@jupyter-widgets/controls",
      "_view_module_version": "1.5.0",
      "_view_name": "ProgressView",
      "bar_style": "success",
      "description": "",
      "description_tooltip": null,
      "layout": "IPY_MODEL_67f3bed6013e4df394cd055375d1f67c",
      "max": 175,
      "min": 0,
      "orientation": "horizontal",
      "style": "IPY_MODEL_634ffed818a34cdc9ebf2f730cdf67ee",
      "value": 175
     }
    },
    "8e72355a6d7e4db7aae698e24488ea2c": {
     "model_module": "@jupyter-widgets/controls",
     "model_module_version": "1.5.0",
     "model_name": "HTMLModel",
     "state": {
      "_dom_classes": [],
      "_model_module": "@jupyter-widgets/controls",
      "_model_module_version": "1.5.0",
      "_model_name": "HTMLModel",
      "_view_count": null,
      "_view_module": "@jupyter-widgets/controls",
      "_view_module_version": "1.5.0",
      "_view_name": "HTMLView",
      "description": "",
      "description_tooltip": null,
      "layout": "IPY_MODEL_c2f32fc4c1324d52ac57fdee894ea0c4",
      "placeholder": "​",
      "style": "IPY_MODEL_78599379280c41f9a96510777e2aa8eb",
      "value": " 1575/1575 [00:00&lt;00:00, 5397.43it/s]"
     }
    },
    "8f7855ac77b945c3ae4a1491e44fd690": {
     "model_module": "@jupyter-widgets/controls",
     "model_module_version": "1.5.0",
     "model_name": "HBoxModel",
     "state": {
      "_dom_classes": [],
      "_model_module": "@jupyter-widgets/controls",
      "_model_module_version": "1.5.0",
      "_model_name": "HBoxModel",
      "_view_count": null,
      "_view_module": "@jupyter-widgets/controls",
      "_view_module_version": "1.5.0",
      "_view_name": "HBoxView",
      "box_style": "",
      "children": [
       "IPY_MODEL_3060310cd9394269855b3e41520b27fd",
       "IPY_MODEL_d99b30c950034e6c99ef4f4e6626b08c",
       "IPY_MODEL_8e72355a6d7e4db7aae698e24488ea2c"
      ],
      "layout": "IPY_MODEL_e1fd0e30b42d4fc19c8dbda4a9985d38"
     }
    },
    "a1c37ec8e07942778663affbf9851768": {
     "model_module": "@jupyter-widgets/controls",
     "model_module_version": "1.5.0",
     "model_name": "DescriptionStyleModel",
     "state": {
      "_model_module": "@jupyter-widgets/controls",
      "_model_module_version": "1.5.0",
      "_model_name": "DescriptionStyleModel",
      "_view_count": null,
      "_view_module": "@jupyter-widgets/base",
      "_view_module_version": "1.2.0",
      "_view_name": "StyleView",
      "description_width": ""
     }
    },
    "aa7c83df8479471d8ca4babf3af92358": {
     "model_module": "@jupyter-widgets/controls",
     "model_module_version": "1.5.0",
     "model_name": "DescriptionStyleModel",
     "state": {
      "_model_module": "@jupyter-widgets/controls",
      "_model_module_version": "1.5.0",
      "_model_name": "DescriptionStyleModel",
      "_view_count": null,
      "_view_module": "@jupyter-widgets/base",
      "_view_module_version": "1.2.0",
      "_view_name": "StyleView",
      "description_width": ""
     }
    },
    "ad2289d62c7946e0b8e8c88f5a9d7f96": {
     "model_module": "@jupyter-widgets/base",
     "model_module_version": "1.2.0",
     "model_name": "LayoutModel",
     "state": {
      "_model_module": "@jupyter-widgets/base",
      "_model_module_version": "1.2.0",
      "_model_name": "LayoutModel",
      "_view_count": null,
      "_view_module": "@jupyter-widgets/base",
      "_view_module_version": "1.2.0",
      "_view_name": "LayoutView",
      "align_content": null,
      "align_items": null,
      "align_self": null,
      "border": null,
      "bottom": null,
      "display": null,
      "flex": null,
      "flex_flow": null,
      "grid_area": null,
      "grid_auto_columns": null,
      "grid_auto_flow": null,
      "grid_auto_rows": null,
      "grid_column": null,
      "grid_gap": null,
      "grid_row": null,
      "grid_template_areas": null,
      "grid_template_columns": null,
      "grid_template_rows": null,
      "height": null,
      "justify_content": null,
      "justify_items": null,
      "left": null,
      "margin": null,
      "max_height": null,
      "max_width": null,
      "min_height": null,
      "min_width": null,
      "object_fit": null,
      "object_position": null,
      "order": null,
      "overflow": null,
      "overflow_x": null,
      "overflow_y": null,
      "padding": null,
      "right": null,
      "top": null,
      "visibility": null,
      "width": null
     }
    },
    "b6bd3ecd7ed945e9bd0d7b7e9643cac6": {
     "model_module": "@jupyter-widgets/controls",
     "model_module_version": "1.5.0",
     "model_name": "HTMLModel",
     "state": {
      "_dom_classes": [],
      "_model_module": "@jupyter-widgets/controls",
      "_model_module_version": "1.5.0",
      "_model_name": "HTMLModel",
      "_view_count": null,
      "_view_module": "@jupyter-widgets/controls",
      "_view_module_version": "1.5.0",
      "_view_name": "HTMLView",
      "description": "",
      "description_tooltip": null,
      "layout": "IPY_MODEL_3e2e4ca14eb44b068892f3e6606d6706",
      "placeholder": "​",
      "style": "IPY_MODEL_aa7c83df8479471d8ca4babf3af92358",
      "value": "100%"
     }
    },
    "c2f32fc4c1324d52ac57fdee894ea0c4": {
     "model_module": "@jupyter-widgets/base",
     "model_module_version": "1.2.0",
     "model_name": "LayoutModel",
     "state": {
      "_model_module": "@jupyter-widgets/base",
      "_model_module_version": "1.2.0",
      "_model_name": "LayoutModel",
      "_view_count": null,
      "_view_module": "@jupyter-widgets/base",
      "_view_module_version": "1.2.0",
      "_view_name": "LayoutView",
      "align_content": null,
      "align_items": null,
      "align_self": null,
      "border": null,
      "bottom": null,
      "display": null,
      "flex": null,
      "flex_flow": null,
      "grid_area": null,
      "grid_auto_columns": null,
      "grid_auto_flow": null,
      "grid_auto_rows": null,
      "grid_column": null,
      "grid_gap": null,
      "grid_row": null,
      "grid_template_areas": null,
      "grid_template_columns": null,
      "grid_template_rows": null,
      "height": null,
      "justify_content": null,
      "justify_items": null,
      "left": null,
      "margin": null,
      "max_height": null,
      "max_width": null,
      "min_height": null,
      "min_width": null,
      "object_fit": null,
      "object_position": null,
      "order": null,
      "overflow": null,
      "overflow_x": null,
      "overflow_y": null,
      "padding": null,
      "right": null,
      "top": null,
      "visibility": null,
      "width": null
     }
    },
    "c806315ca35841e88a06e5da0d7a2873": {
     "model_module": "@jupyter-widgets/base",
     "model_module_version": "1.2.0",
     "model_name": "LayoutModel",
     "state": {
      "_model_module": "@jupyter-widgets/base",
      "_model_module_version": "1.2.0",
      "_model_name": "LayoutModel",
      "_view_count": null,
      "_view_module": "@jupyter-widgets/base",
      "_view_module_version": "1.2.0",
      "_view_name": "LayoutView",
      "align_content": null,
      "align_items": null,
      "align_self": null,
      "border": null,
      "bottom": null,
      "display": null,
      "flex": null,
      "flex_flow": null,
      "grid_area": null,
      "grid_auto_columns": null,
      "grid_auto_flow": null,
      "grid_auto_rows": null,
      "grid_column": null,
      "grid_gap": null,
      "grid_row": null,
      "grid_template_areas": null,
      "grid_template_columns": null,
      "grid_template_rows": null,
      "height": null,
      "justify_content": null,
      "justify_items": null,
      "left": null,
      "margin": null,
      "max_height": null,
      "max_width": null,
      "min_height": null,
      "min_width": null,
      "object_fit": null,
      "object_position": null,
      "order": null,
      "overflow": null,
      "overflow_x": null,
      "overflow_y": null,
      "padding": null,
      "right": null,
      "top": null,
      "visibility": null,
      "width": null
     }
    },
    "d99b30c950034e6c99ef4f4e6626b08c": {
     "model_module": "@jupyter-widgets/controls",
     "model_module_version": "1.5.0",
     "model_name": "FloatProgressModel",
     "state": {
      "_dom_classes": [],
      "_model_module": "@jupyter-widgets/controls",
      "_model_module_version": "1.5.0",
      "_model_name": "FloatProgressModel",
      "_view_count": null,
      "_view_module": "@jupyter-widgets/controls",
      "_view_module_version": "1.5.0",
      "_view_name": "ProgressView",
      "bar_style": "success",
      "description": "",
      "description_tooltip": null,
      "layout": "IPY_MODEL_ad2289d62c7946e0b8e8c88f5a9d7f96",
      "max": 1575,
      "min": 0,
      "orientation": "horizontal",
      "style": "IPY_MODEL_5e4002ecd7b04cd68c9be1bca5debf07",
      "value": 1575
     }
    },
    "e1fd0e30b42d4fc19c8dbda4a9985d38": {
     "model_module": "@jupyter-widgets/base",
     "model_module_version": "1.2.0",
     "model_name": "LayoutModel",
     "state": {
      "_model_module": "@jupyter-widgets/base",
      "_model_module_version": "1.2.0",
      "_model_name": "LayoutModel",
      "_view_count": null,
      "_view_module": "@jupyter-widgets/base",
      "_view_module_version": "1.2.0",
      "_view_name": "LayoutView",
      "align_content": null,
      "align_items": null,
      "align_self": null,
      "border": null,
      "bottom": null,
      "display": null,
      "flex": null,
      "flex_flow": null,
      "grid_area": null,
      "grid_auto_columns": null,
      "grid_auto_flow": null,
      "grid_auto_rows": null,
      "grid_column": null,
      "grid_gap": null,
      "grid_row": null,
      "grid_template_areas": null,
      "grid_template_columns": null,
      "grid_template_rows": null,
      "height": null,
      "justify_content": null,
      "justify_items": null,
      "left": null,
      "margin": null,
      "max_height": null,
      "max_width": null,
      "min_height": null,
      "min_width": null,
      "object_fit": null,
      "object_position": null,
      "order": null,
      "overflow": null,
      "overflow_x": null,
      "overflow_y": null,
      "padding": null,
      "right": null,
      "top": null,
      "visibility": null,
      "width": null
     }
    }
   }
  }
 },
 "nbformat": 4,
 "nbformat_minor": 5
}
