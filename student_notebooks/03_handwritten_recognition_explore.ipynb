{
 "cells": [
  {
   "cell_type": "markdown",
   "id": "cfc52381",
   "metadata": {
    "id": "cfc52381"
   },
   "source": [
    "[![Open in Colab](https://colab.research.google.com/assets/colab-badge.svg)](https://colab.research.google.com/github/biodatlab/deep-learning-skooldio/blob/master/student_notebooks/03_handwritten_recognition_explore.ipynb)\n",
    "\n",
    "## **Thai-digit handwritten classification with Pytorch: Exploration**\n",
    "\n",
    "This notebook contains exploration of the \"Thai-digit handwritten classification\" including\n",
    "- Customize model\n",
    "    - Adding layers\n",
    "    - Adding dropout layer\n",
    "- Adding data augmentation"
   ]
  },
  {
   "cell_type": "markdown",
   "id": "3aa56f94",
   "metadata": {
    "id": "3aa56f94"
   },
   "source": [
    "## **Download and clean the dataset from the repository**\n",
    "\n",
    "- We have downloaded the data from https://github.com/kittinan/thai-handwriting-number by cloning the repository\n",
    "- Remove files that have character mismatch (as suggested by the the creator)\n",
    "- Then, we put the cleaned data at https://github.com/biodatlab/deep-learning-skooldio"
   ]
  },
  {
   "cell_type": "code",
   "execution_count": null,
   "id": "f7deb2f6",
   "metadata": {
    "colab": {
     "base_uri": "https://localhost:8080/"
    },
    "id": "f7deb2f6",
    "outputId": "86005c26-04aa-4093-8625-2be093613406"
   },
   "outputs": [],
   "source": [
    "!git clone https://github.com/biodatlab/deep-learning-skooldio"
   ]
  },
  {
   "cell_type": "code",
   "execution_count": null,
   "id": "2ad2a443",
   "metadata": {
    "id": "2ad2a443"
   },
   "outputs": [],
   "source": [
    "import os\n",
    "import os.path as op\n",
    "from glob import glob\n",
    "from pathlib import Path\n",
    "import random\n",
    "from PIL import Image\n",
    "from collections import Counter"
   ]
  },
  {
   "cell_type": "code",
   "execution_count": null,
   "id": "64ce2573",
   "metadata": {
    "id": "64ce2573"
   },
   "outputs": [],
   "source": [
    "directory = \"deep-learning-skooldio/\"\n",
    "paths = glob(op.join(directory, \"thai-handwritten-dataset\", \"*\", \"*\"))\n",
    "num_samples = len(paths)\n",
    "print(\"Number of samples\", num_samples)"
   ]
  },
  {
   "cell_type": "code",
   "execution_count": null,
   "id": "6aa0f5b4",
   "metadata": {
    "id": "6aa0f5b4"
   },
   "outputs": [],
   "source": [
    "from tqdm.auto import tqdm\n",
    "from sklearn.model_selection import train_test_split\n",
    "import shutil\n",
    "\n",
    "train_paths, test_paths = train_test_split(paths, test_size=0.1, random_state=42)\n",
    "for i in range(10):\n",
    "    os.makedirs(f\"data/train/{i}\", exist_ok=True)\n",
    "    os.makedirs(f\"data/validation/{i}\", exist_ok=True)"
   ]
  },
  {
   "cell_type": "code",
   "execution_count": null,
   "id": "fe1d237b",
   "metadata": {
    "id": "fe1d237b"
   },
   "outputs": [],
   "source": [
    "def copy_to_destination(src_paths, dst_path: str = \"data/train/\"):\n",
    "    for path in tqdm(src_paths):\n",
    "        path = Path(path)\n",
    "        if path.parent.name == \"10\":\n",
    "            parent_dir = \"0\"\n",
    "        else:\n",
    "            parent_dir = path.parent.name\n",
    "        shutil.copy(path, op.join(dst_path, parent_dir, path.name))"
   ]
  },
  {
   "cell_type": "code",
   "execution_count": null,
   "id": "af9064ae",
   "metadata": {
    "colab": {
     "base_uri": "https://localhost:8080/",
     "height": 81,
     "referenced_widgets": [
      "e858baf2768140eeafbd4b7707665501",
      "50b658ffca854732949a76fdf2731ae1",
      "3b6308b484dc4091afc0122584fd0fbd",
      "490ac6cb34484d9d9d78c0f897d219ab",
      "303faa4e8a664ebcb13d22c7ca16e15e",
      "2037ea69553245b0920d02afddb3401f",
      "0e4c2c5b3e1549998e1371e1a1c72a8c",
      "bf5bae4eb5f24929ac770d57fca959c5",
      "2022542a655f40668c58214e8751ae50",
      "94d1a086d21b497d9642965f8885081a",
      "4ba21bcbcb6e4497a1c34d337ac7b8a7",
      "7b61e8b031c648e5987e1809926e0a22",
      "7c898ada9e7242218830916b481cf30e",
      "6c1fe540d6d34be684cb03ed8d266e0c",
      "4f9807909c9b4aa59b6a54dabb96192e",
      "a038a0a0938842649dd92e289ccc261c",
      "4fe77181385d4bda901b5dac4b973ffa",
      "b47434e14a3047a8b4fc68f27b8c7cf6",
      "2b440195183548b59a6a8063cc4b97bd",
      "fd877471149b496bac44aed939c11291",
      "eb26f3ab4af04117a01cb6d5123a34a2",
      "b1bdcc572d31424da742a46af8b0e2d6"
     ]
    },
    "id": "af9064ae",
    "outputId": "d7efb051-257f-4fce-e32a-6b15d3cfecb2"
   },
   "outputs": [],
   "source": [
    "copy_to_destination(train_paths, \"data/train/\")\n",
    "copy_to_destination(test_paths, \"data/validation/\")"
   ]
  },
  {
   "cell_type": "markdown",
   "id": "ae55f494",
   "metadata": {
    "id": "ae55f494"
   },
   "source": [
    "## **Create a custom dataset and a dataloader**"
   ]
  },
  {
   "cell_type": "code",
   "execution_count": null,
   "id": "d0b69d68",
   "metadata": {
    "id": "d0b69d68"
   },
   "outputs": [],
   "source": [
    "import torch\n",
    "from torch.utils.data import Dataset, DataLoader\n",
    "from torchvision import transforms\n",
    "import matplotlib.pyplot as plt\n",
    "import pandas as pd\n",
    "import os"
   ]
  },
  {
   "cell_type": "code",
   "execution_count": null,
   "id": "2dbd4be3",
   "metadata": {
    "id": "2dbd4be3"
   },
   "outputs": [],
   "source": [
    "transform = transforms.Compose([\n",
    "    transforms.Resize((28, 28)),\n",
    "    transforms.Grayscale(),\n",
    "    transforms.ToTensor()\n",
    "])"
   ]
  },
  {
   "cell_type": "code",
   "execution_count": null,
   "id": "yyAx23w8PFLU",
   "metadata": {
    "id": "yyAx23w8PFLU"
   },
   "outputs": [],
   "source": [
    "# Create dataframe\n",
    "train_df = pd.DataFrame({\"path\": glob(\"data/train/*/*\")})\n",
    "val_df = pd.DataFrame({\"path\": glob(\"data/validation/*/*\")})\n",
    "\n",
    "# Create text column from path\n",
    "train_df[\"text\"] = train_df[\"path\"].apply(lambda x: Path(x).parent.name)\n",
    "val_df[\"text\"] = val_df[\"path\"].apply(lambda x: Path(x).parent.name)\n",
    "\n",
    "# Shape of dataframe\n",
    "print(\"Number of train images = {}, number of validation images = {},\".format(train_df.shape, val_df.shape))"
   ]
  },
  {
   "cell_type": "code",
   "execution_count": null,
   "id": "09eb4140",
   "metadata": {
    "id": "09eb4140"
   },
   "outputs": [],
   "source": [
    "class ThaiDigitDataset(Dataset):\n",
    "    def __init__(self, dataframe, transform=None):\n",
    "        self.transform = transform\n",
    "        self.dataframe = dataframe\n",
    "\n",
    "    def __len__(self):\n",
    "        return len(self.dataframe)\n",
    "\n",
    "    def __getitem__(self, idx):\n",
    "        label = int(self.dataframe['text'][idx])\n",
    "        image = Image.open(self.dataframe['path'][idx])\n",
    "        if self.transform:\n",
    "            image = 1 - self.transform(image)\n",
    "        return image, label"
   ]
  },
  {
   "cell_type": "code",
   "execution_count": null,
   "id": "f1175f91",
   "metadata": {
    "id": "f1175f91"
   },
   "outputs": [],
   "source": [
    "train_thaidigit_dataset = ThaiDigitDataset(train_df, transform=transform)\n",
    "val_thaidigit_dataset = ThaiDigitDataset(val_df, transform=transform)"
   ]
  },
  {
   "cell_type": "code",
   "execution_count": null,
   "id": "d4f83af9",
   "metadata": {
    "id": "d4f83af9"
   },
   "outputs": [],
   "source": [
    "train_loader = DataLoader(train_thaidigit_dataset, batch_size=16, shuffle=True)\n",
    "val_loader = DataLoader(val_thaidigit_dataset, batch_size=16, shuffle=False)"
   ]
  },
  {
   "cell_type": "markdown",
   "id": "275542ac",
   "metadata": {
    "id": "275542ac"
   },
   "source": [
    "## **Create the model**"
   ]
  },
  {
   "cell_type": "code",
   "execution_count": null,
   "id": "abbd30d0",
   "metadata": {
    "id": "abbd30d0"
   },
   "outputs": [],
   "source": [
    "import torch.nn as nn\n",
    "import torch.nn.functional as F\n",
    "\n",
    "class ThaiDigitNet(nn.Module):\n",
    "    def __init__(self):\n",
    "        super(ThaiDigitNet, self).__init__()\n",
    "        self.fc1 = nn.Linear(28 * 28, 100)\n",
    "        self.fc2 = nn.Linear(100, 10)\n",
    "\n",
    "    def forward(self, x):\n",
    "        x = x.view(-1, 28 * 28)\n",
    "        x = self.fc1(x)\n",
    "        x = F.relu(x)\n",
    "        x = self.fc2(x)\n",
    "        return x"
   ]
  },
  {
   "cell_type": "markdown",
   "id": "f0455ef9",
   "metadata": {
    "id": "f0455ef9"
   },
   "source": [
    "## **Train the model**"
   ]
  },
  {
   "cell_type": "code",
   "execution_count": null,
   "id": "r61vWix7nfgl",
   "metadata": {
    "id": "r61vWix7nfgl"
   },
   "outputs": [],
   "source": [
    "# Create training loop function\n",
    "def train(model, n_epochs, loss_function, optimizer, train_loader, validation_loader):\n",
    "    training_logs = {\"train_loss\": [],  \"train_acc\": [], \"val_loss\": [], \"val_acc\": []}\n",
    "    print(\"-\"*80)\n",
    "    for epoch in range(1, n_epochs+1):\n",
    "        # training\n",
    "        model.train()\n",
    "        train_loss, correct = 0, 0\n",
    "        for images, labels in train_loader:\n",
    "            pred = model(images)\n",
    "            loss = loss_function(pred, labels)\n",
    "\n",
    "            optimizer.zero_grad()\n",
    "            loss.backward()\n",
    "            optimizer.step()\n",
    "\n",
    "            train_loss += loss.item()\n",
    "            correct += (pred.argmax(1) == labels).float().sum().item()\n",
    "        # save training logs\n",
    "        training_logs[\"train_loss\"].append(train_loss/ len(train_loader))\n",
    "        training_logs[\"train_acc\"].append(correct / len(train_loader.dataset))\n",
    "\n",
    "        # validation\n",
    "        model.eval()\n",
    "        val_loss, correct = 0, 0\n",
    "        for images, labels in validation_loader:\n",
    "            pred = model(images)\n",
    "            val_loss += loss_function(pred, labels).item()\n",
    "            correct += (pred.argmax(1) == labels).float().sum().item()\n",
    "        # save validation logs\n",
    "        training_logs[\"val_loss\"].append(val_loss/ len(val_loader))\n",
    "        training_logs[\"val_acc\"].append(correct / len(validation_loader.dataset))\n",
    "\n",
    "        print(f\"Epochs {epoch}\".ljust(10), \n",
    "              f\"train loss {training_logs['train_loss'][-1]:.5f}\",\n",
    "              f\"train acc {training_logs['train_acc'][-1]:.5f}\",\n",
    "\n",
    "              f\"val loss {training_logs['val_loss'][-1]:.5f}\",\n",
    "              f\"val acc {training_logs['val_acc'][-1]:.5f}\",\n",
    "              )\n",
    "        print(\"-\"*80)\n",
    "    return model, training_logs\n",
    "        "
   ]
  },
  {
   "cell_type": "code",
   "execution_count": null,
   "id": "pKe0afyiq80F",
   "metadata": {
    "colab": {
     "base_uri": "https://localhost:8080/"
    },
    "id": "pKe0afyiq80F",
    "outputId": "81776229-19e2-434e-b230-5c103302ca25"
   },
   "outputs": [],
   "source": [
    "n_epoch = 50\n",
    "\n",
    "net = ThaiDigitNet() # Initialize the model\n",
    "loss_fn = nn.CrossEntropyLoss()\n",
    "optimizer = torch.optim.SGD(net.parameters(), lr=0.01)\n",
    "net, net_history = train(net, n_epoch, loss_fn, optimizer, train_loader, val_loader)"
   ]
  },
  {
   "cell_type": "code",
   "execution_count": null,
   "id": "c1ab188c",
   "metadata": {},
   "outputs": [],
   "source": [
    "# Plot the training accuracy and validation accuracy\n",
    "plt.plot(net_history[\"train_acc\"], label=\"Train\")\n",
    "plt.plot(net_history[\"val_acc\"], label=\"Validation\")\n",
    "plt.legend()\n",
    "plt.title(\"Train accuracy vs Validation accuracy\")\n",
    "plt.show()"
   ]
  },
  {
   "cell_type": "markdown",
   "id": "Z1KkTwVoob4f",
   "metadata": {
    "id": "Z1KkTwVoob4f"
   },
   "source": [
    "## **Save and load model**\n",
    "\n"
   ]
  },
  {
   "cell_type": "code",
   "execution_count": null,
   "id": "m6eOWaxWobiw",
   "metadata": {
    "id": "m6eOWaxWobiw"
   },
   "outputs": [],
   "source": [
    "save_path = \"thai_digit.pth\"\n",
    "torch.save(net.state_dict(), save_path)  # save model parameters"
   ]
  },
  {
   "cell_type": "code",
   "execution_count": null,
   "id": "Q9hqeg76o0Ng",
   "metadata": {
    "colab": {
     "base_uri": "https://localhost:8080/"
    },
    "id": "Q9hqeg76o0Ng",
    "outputId": "98e22404-095a-4d41-c57b-4421584f42f1"
   },
   "outputs": [],
   "source": [
    "model_path = \"thai_digit.pth\"\n",
    "model = ThaiDigitNet()  # initialize the model\n",
    "model.load_state_dict(torch.load(model_path))  # load the model weights"
   ]
  },
  {
   "cell_type": "markdown",
   "id": "2a0229f1",
   "metadata": {
    "id": "2a0229f1"
   },
   "source": [
    "## **Evaluate the model**"
   ]
  },
  {
   "cell_type": "code",
   "execution_count": null,
   "id": "5b41a1c8",
   "metadata": {
    "id": "5b41a1c8"
   },
   "outputs": [],
   "source": [
    "# TODOs: Create evaluation function for the model\n",
    "def evaluate(dataframe, model):\n",
    "    # Predict the image class from a given dataframe\n",
    "    # Assume that image is in \"path\" column\n",
    "    return None"
   ]
  },
  {
   "cell_type": "code",
   "execution_count": null,
   "id": "mfQO7phtP3zU",
   "metadata": {
    "colab": {
     "base_uri": "https://localhost:8080/",
     "height": 441
    },
    "id": "mfQO7phtP3zU",
    "outputId": "d7f07956-15b1-4196-9e72-7da80cc754bb"
   },
   "outputs": [],
   "source": [
    "evaluate(val_df, model)"
   ]
  },
  {
   "cell_type": "code",
   "execution_count": null,
   "id": "paULDzBOOkFl",
   "metadata": {
    "colab": {
     "base_uri": "https://localhost:8080/",
     "height": 281
    },
    "id": "paULDzBOOkFl",
    "outputId": "96dce0e6-ce42-45b8-f77a-dd547cbbd92c"
   },
   "outputs": [],
   "source": [
    "# Show some random images with their predicted number\n",
    "random_number = random.randint(0, len(val_df))\n",
    "img = Image.open(val_df.iloc[random_number].path)\n",
    "img = transform(img)\n",
    "transformed_img = 1 - img\n",
    "\n",
    "pred = model(transformed_img).argmax(1)\n",
    "plt.title(f\"Predicted class = {pred.numpy()[0]}\")\n",
    "plt.imshow(img.squeeze(0), cmap=\"gray\")\n",
    "plt.show()"
   ]
  },
  {
   "cell_type": "markdown",
   "id": "-F6H4tFLmUCG",
   "metadata": {
    "id": "-F6H4tFLmUCG"
   },
   "source": [
    "## **Train neural netowrk model with more layers**"
   ]
  },
  {
   "cell_type": "code",
   "execution_count": null,
   "id": "IHMQhUJCg6QU",
   "metadata": {
    "id": "IHMQhUJCg6QU"
   },
   "outputs": [],
   "source": [
    "class ThaiDigitMoreLayers(nn.Module):\n",
    "    def __init__(self):\n",
    "        super(ThaiDigitMoreLayers, self).__init__()\n",
    "        # TODOs: Create more layers\n",
    "\n",
    "    def forward(self, x):\n",
    "        x = x.view(-1, 28 * 28)\n",
    "        # TODOs: Create forward pass\n",
    "        return x"
   ]
  },
  {
   "cell_type": "code",
   "execution_count": null,
   "id": "DzfL2z4tkrYb",
   "metadata": {
    "colab": {
     "base_uri": "https://localhost:8080/"
    },
    "id": "DzfL2z4tkrYb",
    "outputId": "4eeb1771-c3d0-4b92-906b-017e3be419b0"
   },
   "outputs": [],
   "source": [
    "n_epochs = 50\n",
    "\n",
    "more_layers_model = ThaiDigitMoreLayers()\n",
    "loss_fn = nn.CrossEntropyLoss()\n",
    "optimizer = torch.optim.SGD(more_layers_model.parameters(), lr=0.01)\n",
    "\n",
    "more_layers_model, more_layers_model_history = train(\n",
    "    more_layers_model, n_epochs, loss_fn, optimizer, train_loader, val_loader\n",
    ")\n"
   ]
  },
  {
   "cell_type": "code",
   "execution_count": null,
   "id": "bVYRwfYHkluE",
   "metadata": {
    "colab": {
     "base_uri": "https://localhost:8080/",
     "height": 441
    },
    "id": "bVYRwfYHkluE",
    "outputId": "5a22e4e8-da70-4bb1-891b-3d1515f4f7c2"
   },
   "outputs": [],
   "source": [
    "evaluate(val_df, more_layers_model)"
   ]
  },
  {
   "cell_type": "code",
   "execution_count": null,
   "id": "msBnIuLAmeAM",
   "metadata": {
    "colab": {
     "base_uri": "https://localhost:8080/",
     "height": 281
    },
    "id": "msBnIuLAmeAM",
    "outputId": "6c78a4ba-05c0-4993-c00b-043778a66e1b"
   },
   "outputs": [],
   "source": [
    "# Plot the training accuracy and validation accuracy\n",
    "plt.plot(net_history[\"train_acc\"], label=\"Train\")\n",
    "plt.plot(net_history[\"val_acc\"], label=\"Validation\")\n",
    "plt.legend()\n",
    "plt.title(\"Train accuracy vs Validation accuracy\")\n",
    "plt.show()"
   ]
  },
  {
   "cell_type": "code",
   "execution_count": null,
   "id": "iBmb3HOYxwoP",
   "metadata": {
    "colab": {
     "base_uri": "https://localhost:8080/",
     "height": 281
    },
    "id": "iBmb3HOYxwoP",
    "outputId": "6a744072-3421-427e-a8fa-858e9d5481be"
   },
   "outputs": [],
   "source": [
    "# Plot the training loss and validation loss\n",
    "plt.plot(net_history[\"train_loss\"], label=\"Train\")\n",
    "plt.plot(net_history[\"val_loss\"], label=\"Validation\")\n",
    "plt.legend()\n",
    "plt.title(\"Train loss vs Validation loss\")\n",
    "plt.show()"
   ]
  },
  {
   "cell_type": "markdown",
   "id": "43ccb6fc",
   "metadata": {},
   "source": [
    "The training accuracy of the model is higher than the validation accuracy.\n",
    "This means that the model is overfitting the training data.\n",
    "We can try to reduce the overfitting by adding regularization ."
   ]
  },
  {
   "cell_type": "markdown",
   "id": "65fb58d7",
   "metadata": {
    "id": "65fb58d7"
   },
   "source": [
    "## **Regularization with Dropout**\n",
    "\n",
    "Dropout is one of the techniques used to prevent overfitting"
   ]
  },
  {
   "cell_type": "code",
   "execution_count": null,
   "id": "a8e819c7",
   "metadata": {
    "id": "a8e819c7"
   },
   "outputs": [],
   "source": [
    "class DropoutThaiDigit(nn.Module):\n",
    "    def __init__(self):\n",
    "        super(DropoutThaiDigit, self).__init__()\n",
    "        self.fc1 = nn.Linear(28 * 28, 100)\n",
    "        self.fc2 = nn.Linear(100, 10)\n",
    "        # TODOs: Add dropout layer\n",
    "\n",
    "    def forward(self, x):\n",
    "        x = x.view(-1, 28 * 28)\n",
    "        x = self.fc1(x)\n",
    "        x = F.relu(x)\n",
    "        # TODOs: Add dropout layer\n",
    "        x = self.fc2(x)\n",
    "        return x"
   ]
  },
  {
   "cell_type": "code",
   "execution_count": null,
   "id": "a832fd9d",
   "metadata": {
    "colab": {
     "base_uri": "https://localhost:8080/"
    },
    "id": "a832fd9d",
    "outputId": "fb293904-8ace-49a4-9ed3-888c9290db63"
   },
   "outputs": [],
   "source": [
    "n_epochs = 50\n",
    "drop_model = DropoutThaiDigit()  # Initialize a model\n",
    "loss_fn = nn.CrossEntropyLoss()\n",
    "optimizer = torch.optim.SGD(drop_model.parameters(), lr=0.01)\n",
    "\n",
    "drop_model, drop_model_history = train(drop_model, n_epochs, loss_fn, optimizer, train_loader, val_loader)"
   ]
  },
  {
   "cell_type": "code",
   "execution_count": null,
   "id": "fa154266",
   "metadata": {
    "colab": {
     "base_uri": "https://localhost:8080/",
     "height": 441
    },
    "id": "fa154266",
    "outputId": "c428b184-656d-4bf1-ae94-fcd16e5d26b2"
   },
   "outputs": [],
   "source": [
    "evaluate(val_df, drop_model)"
   ]
  },
  {
   "cell_type": "code",
   "execution_count": null,
   "id": "kD2hDwhPzV9m",
   "metadata": {
    "colab": {
     "base_uri": "https://localhost:8080/",
     "height": 281
    },
    "id": "kD2hDwhPzV9m",
    "outputId": "f552e96b-9ff9-48f2-b942-37d82721d605"
   },
   "outputs": [],
   "source": [
    "# Plot the training accuracy and validation accuracy\n",
    "plt.plot(drop_model_history[\"train_acc\"], label=\"Train\")\n",
    "plt.plot(drop_model_history[\"val_acc\"], label=\"Validation\")\n",
    "plt.legend()\n",
    "plt.title(\"Train accuracy vs Validation accuracy\")\n",
    "plt.show()"
   ]
  },
  {
   "cell_type": "code",
   "execution_count": null,
   "id": "tl09bEbwzWv9",
   "metadata": {
    "colab": {
     "base_uri": "https://localhost:8080/",
     "height": 281
    },
    "id": "tl09bEbwzWv9",
    "outputId": "8131ece6-7627-4653-c98b-41889b9898f6"
   },
   "outputs": [],
   "source": [
    "# Plot the training loss and validation loss\n",
    "plt.plot(drop_model_history[\"train_loss\"], label=\"Train\")\n",
    "plt.plot(drop_model_history[\"val_loss\"], label=\"Validation\")\n",
    "plt.legend()\n",
    "plt.title(\"Train loss vs Validation loss\")\n",
    "plt.show()"
   ]
  },
  {
   "cell_type": "markdown",
   "id": "b611d20b",
   "metadata": {},
   "source": [
    "Now the gap between the training accuracy and validation accuracy is smaller than before."
   ]
  },
  {
   "cell_type": "markdown",
   "id": "_R305_c-sBGn",
   "metadata": {
    "id": "_R305_c-sBGn"
   },
   "source": [
    "## **Image Augmentation**\n",
    "\n",
    "Image augmentation is a technique used to artificially increase the size of a training dataset by creating modified versions of existing images."
   ]
  },
  {
   "cell_type": "code",
   "execution_count": null,
   "id": "XS14ZI0b_Wla",
   "metadata": {
    "id": "XS14ZI0b_Wla"
   },
   "outputs": [],
   "source": [
    "# augment_transform is same as transform but add RandomAffine to the image\n",
    "\n",
    "train_transform = transforms.Compose([\n",
    "    transforms.Resize((28, 28)),\n",
    "    transforms.Grayscale(),\n",
    "    transforms.RandomAffine(degrees=(15, 30), translate=(0.05, 0.1), scale=(1, 1)),\n",
    "    transforms.ToTensor(),\n",
    "])\n",
    "\n",
    "val_transform = transforms.Compose([\n",
    "    transforms.Resize((28, 28)),\n",
    "    transforms.Grayscale(),\n",
    "    transforms.ToTensor(),\n",
    "])"
   ]
  },
  {
   "cell_type": "code",
   "execution_count": null,
   "id": "076eec04",
   "metadata": {},
   "outputs": [],
   "source": [
    "# Apply train_transform to a given image\n",
    "# img = Image.open(\"../thai-handwritten-dataset/2/0098326c-aa9e-410d-b949-e13d3cd74cfd.png\")\n",
    "# plt.imshow((1 - train_transform(img)).squeeze(0), cmap=\"gray\")"
   ]
  },
  {
   "cell_type": "code",
   "execution_count": null,
   "id": "d52dee8c",
   "metadata": {
    "id": "d52dee8c"
   },
   "outputs": [],
   "source": [
    "train_thaidigit_dataset = ThaiDigitDataset(train_df, transform=train_transform)\n",
    "val_thaidigit_dataset = ThaiDigitDataset(val_df, transform=val_transform)"
   ]
  },
  {
   "cell_type": "code",
   "execution_count": null,
   "id": "c7c34620",
   "metadata": {
    "id": "c7c34620"
   },
   "outputs": [],
   "source": [
    "train_dataloader = DataLoader(train_thaidigit_dataset, batch_size=16, shuffle=True)\n",
    "val_dataloader = DataLoader(val_thaidigit_dataset, batch_size=16, shuffle=False)"
   ]
  },
  {
   "cell_type": "code",
   "execution_count": null,
   "id": "663cd6b7",
   "metadata": {
    "colab": {
     "base_uri": "https://localhost:8080/",
     "height": 265
    },
    "id": "663cd6b7",
    "outputId": "dcf45f50-981c-4283-b8e0-f97d736983a6"
   },
   "outputs": [],
   "source": [
    "# Example of augmented image\n",
    "img = (next(iter(train_dataloader))[0][1])\n",
    "transformed_img = 1 - img\n",
    "\n",
    "plt.imshow(transformed_img.squeeze(0), cmap=\"gray\")\n",
    "plt.show()"
   ]
  },
  {
   "cell_type": "code",
   "execution_count": null,
   "id": "acc729d5",
   "metadata": {
    "colab": {
     "base_uri": "https://localhost:8080/"
    },
    "id": "acc729d5",
    "outputId": "301d4036-2908-47c6-cb9a-88f0585c3974"
   },
   "outputs": [],
   "source": [
    "# Let's train the model with augmented data\n",
    "n_epochs = 50\n",
    "augmented_model = DropoutThaiDigit()  # Initialize the model\n",
    "loss_fn = nn.CrossEntropyLoss()\n",
    "optimizer = torch.optim.SGD(augmented_model.parameters(), lr=0.01)\n",
    "\n",
    "augmented_model, augmented_model_history = train(\n",
    "    augmented_model, n_epochs, loss_fn, optimizer, train_dataloader, val_dataloader\n",
    ")"
   ]
  },
  {
   "cell_type": "code",
   "execution_count": null,
   "id": "j4Z2ZXWnjqYt",
   "metadata": {
    "colab": {
     "base_uri": "https://localhost:8080/",
     "height": 441
    },
    "id": "j4Z2ZXWnjqYt",
    "outputId": "3f09bf79-d371-4c04-e398-04540acbadd3"
   },
   "outputs": [],
   "source": [
    "# Evaluate the new model with old dataset.\n",
    "evaluate(val_df, augmented_model)"
   ]
  },
  {
   "cell_type": "code",
   "execution_count": null,
   "id": "oI1CjNUMkXWv",
   "metadata": {
    "colab": {
     "base_uri": "https://localhost:8080/",
     "height": 281
    },
    "id": "oI1CjNUMkXWv",
    "outputId": "9659c134-855e-4e11-ce1f-3e0bd8cd2aa3"
   },
   "outputs": [],
   "source": [
    "# Plot the training accuracy and validation accuracy\n",
    "plt.plot(augmented_model_history[\"train_acc\"], label=\"Train\")\n",
    "plt.plot(augmented_model_history[\"val_acc\"], label=\"Validation\")\n",
    "plt.legend()\n",
    "plt.title(\"Train accuracy vs Validation accuracy\")\n",
    "plt.show()"
   ]
  },
  {
   "cell_type": "code",
   "execution_count": null,
   "id": "PZOLVuqF2N3m",
   "metadata": {
    "colab": {
     "base_uri": "https://localhost:8080/",
     "height": 281
    },
    "id": "PZOLVuqF2N3m",
    "outputId": "75858304-668f-42c4-9956-4a8bba8d1f74"
   },
   "outputs": [],
   "source": [
    "# Plot the training loss and validation loss\n",
    "plt.plot(augmented_model_history[\"train_loss\"], label=\"Train\")\n",
    "plt.plot(augmented_model_history[\"val_loss\"], label=\"Validation\")\n",
    "plt.legend()\n",
    "plt.title(\"Train loss vs Validation loss\")\n",
    "plt.show()"
   ]
  }
 ],
 "metadata": {
  "colab": {
   "provenance": []
  },
  "gpuClass": "standard",
  "kernelspec": {
   "display_name": "Python 3 (ipykernel)",
   "language": "python",
   "name": "python3"
  },
  "language_info": {
   "codemirror_mode": {
    "name": "ipython",
    "version": 3
   },
   "file_extension": ".py",
   "mimetype": "text/x-python",
   "name": "python",
   "nbconvert_exporter": "python",
   "pygments_lexer": "ipython3",
   "version": "3.7.13"
  },
  "vscode": {
   "interpreter": {
    "hash": "94499b8ebe41d82c56ca741edd2212fa3535c1025402838f7d8b62fb6e0f95b1"
   }
  },
  "widgets": {
   "application/vnd.jupyter.widget-state+json": {
    "0e4c2c5b3e1549998e1371e1a1c72a8c": {
     "model_module": "@jupyter-widgets/controls",
     "model_module_version": "1.5.0",
     "model_name": "DescriptionStyleModel",
     "state": {
      "_model_module": "@jupyter-widgets/controls",
      "_model_module_version": "1.5.0",
      "_model_name": "DescriptionStyleModel",
      "_view_count": null,
      "_view_module": "@jupyter-widgets/base",
      "_view_module_version": "1.2.0",
      "_view_name": "StyleView",
      "description_width": ""
     }
    },
    "2022542a655f40668c58214e8751ae50": {
     "model_module": "@jupyter-widgets/controls",
     "model_module_version": "1.5.0",
     "model_name": "ProgressStyleModel",
     "state": {
      "_model_module": "@jupyter-widgets/controls",
      "_model_module_version": "1.5.0",
      "_model_name": "ProgressStyleModel",
      "_view_count": null,
      "_view_module": "@jupyter-widgets/base",
      "_view_module_version": "1.2.0",
      "_view_name": "StyleView",
      "bar_color": null,
      "description_width": ""
     }
    },
    "2037ea69553245b0920d02afddb3401f": {
     "model_module": "@jupyter-widgets/base",
     "model_module_version": "1.2.0",
     "model_name": "LayoutModel",
     "state": {
      "_model_module": "@jupyter-widgets/base",
      "_model_module_version": "1.2.0",
      "_model_name": "LayoutModel",
      "_view_count": null,
      "_view_module": "@jupyter-widgets/base",
      "_view_module_version": "1.2.0",
      "_view_name": "LayoutView",
      "align_content": null,
      "align_items": null,
      "align_self": null,
      "border": null,
      "bottom": null,
      "display": null,
      "flex": null,
      "flex_flow": null,
      "grid_area": null,
      "grid_auto_columns": null,
      "grid_auto_flow": null,
      "grid_auto_rows": null,
      "grid_column": null,
      "grid_gap": null,
      "grid_row": null,
      "grid_template_areas": null,
      "grid_template_columns": null,
      "grid_template_rows": null,
      "height": null,
      "justify_content": null,
      "justify_items": null,
      "left": null,
      "margin": null,
      "max_height": null,
      "max_width": null,
      "min_height": null,
      "min_width": null,
      "object_fit": null,
      "object_position": null,
      "order": null,
      "overflow": null,
      "overflow_x": null,
      "overflow_y": null,
      "padding": null,
      "right": null,
      "top": null,
      "visibility": null,
      "width": null
     }
    },
    "2b440195183548b59a6a8063cc4b97bd": {
     "model_module": "@jupyter-widgets/base",
     "model_module_version": "1.2.0",
     "model_name": "LayoutModel",
     "state": {
      "_model_module": "@jupyter-widgets/base",
      "_model_module_version": "1.2.0",
      "_model_name": "LayoutModel",
      "_view_count": null,
      "_view_module": "@jupyter-widgets/base",
      "_view_module_version": "1.2.0",
      "_view_name": "LayoutView",
      "align_content": null,
      "align_items": null,
      "align_self": null,
      "border": null,
      "bottom": null,
      "display": null,
      "flex": null,
      "flex_flow": null,
      "grid_area": null,
      "grid_auto_columns": null,
      "grid_auto_flow": null,
      "grid_auto_rows": null,
      "grid_column": null,
      "grid_gap": null,
      "grid_row": null,
      "grid_template_areas": null,
      "grid_template_columns": null,
      "grid_template_rows": null,
      "height": null,
      "justify_content": null,
      "justify_items": null,
      "left": null,
      "margin": null,
      "max_height": null,
      "max_width": null,
      "min_height": null,
      "min_width": null,
      "object_fit": null,
      "object_position": null,
      "order": null,
      "overflow": null,
      "overflow_x": null,
      "overflow_y": null,
      "padding": null,
      "right": null,
      "top": null,
      "visibility": null,
      "width": null
     }
    },
    "303faa4e8a664ebcb13d22c7ca16e15e": {
     "model_module": "@jupyter-widgets/base",
     "model_module_version": "1.2.0",
     "model_name": "LayoutModel",
     "state": {
      "_model_module": "@jupyter-widgets/base",
      "_model_module_version": "1.2.0",
      "_model_name": "LayoutModel",
      "_view_count": null,
      "_view_module": "@jupyter-widgets/base",
      "_view_module_version": "1.2.0",
      "_view_name": "LayoutView",
      "align_content": null,
      "align_items": null,
      "align_self": null,
      "border": null,
      "bottom": null,
      "display": null,
      "flex": null,
      "flex_flow": null,
      "grid_area": null,
      "grid_auto_columns": null,
      "grid_auto_flow": null,
      "grid_auto_rows": null,
      "grid_column": null,
      "grid_gap": null,
      "grid_row": null,
      "grid_template_areas": null,
      "grid_template_columns": null,
      "grid_template_rows": null,
      "height": null,
      "justify_content": null,
      "justify_items": null,
      "left": null,
      "margin": null,
      "max_height": null,
      "max_width": null,
      "min_height": null,
      "min_width": null,
      "object_fit": null,
      "object_position": null,
      "order": null,
      "overflow": null,
      "overflow_x": null,
      "overflow_y": null,
      "padding": null,
      "right": null,
      "top": null,
      "visibility": null,
      "width": null
     }
    },
    "3b6308b484dc4091afc0122584fd0fbd": {
     "model_module": "@jupyter-widgets/controls",
     "model_module_version": "1.5.0",
     "model_name": "FloatProgressModel",
     "state": {
      "_dom_classes": [],
      "_model_module": "@jupyter-widgets/controls",
      "_model_module_version": "1.5.0",
      "_model_name": "FloatProgressModel",
      "_view_count": null,
      "_view_module": "@jupyter-widgets/controls",
      "_view_module_version": "1.5.0",
      "_view_name": "ProgressView",
      "bar_style": "success",
      "description": "",
      "description_tooltip": null,
      "layout": "IPY_MODEL_bf5bae4eb5f24929ac770d57fca959c5",
      "max": 1575,
      "min": 0,
      "orientation": "horizontal",
      "style": "IPY_MODEL_2022542a655f40668c58214e8751ae50",
      "value": 1575
     }
    },
    "490ac6cb34484d9d9d78c0f897d219ab": {
     "model_module": "@jupyter-widgets/controls",
     "model_module_version": "1.5.0",
     "model_name": "HTMLModel",
     "state": {
      "_dom_classes": [],
      "_model_module": "@jupyter-widgets/controls",
      "_model_module_version": "1.5.0",
      "_model_name": "HTMLModel",
      "_view_count": null,
      "_view_module": "@jupyter-widgets/controls",
      "_view_module_version": "1.5.0",
      "_view_name": "HTMLView",
      "description": "",
      "description_tooltip": null,
      "layout": "IPY_MODEL_94d1a086d21b497d9642965f8885081a",
      "placeholder": "​",
      "style": "IPY_MODEL_4ba21bcbcb6e4497a1c34d337ac7b8a7",
      "value": " 1575/1575 [00:00&lt;00:00, 5236.20it/s]"
     }
    },
    "4ba21bcbcb6e4497a1c34d337ac7b8a7": {
     "model_module": "@jupyter-widgets/controls",
     "model_module_version": "1.5.0",
     "model_name": "DescriptionStyleModel",
     "state": {
      "_model_module": "@jupyter-widgets/controls",
      "_model_module_version": "1.5.0",
      "_model_name": "DescriptionStyleModel",
      "_view_count": null,
      "_view_module": "@jupyter-widgets/base",
      "_view_module_version": "1.2.0",
      "_view_name": "StyleView",
      "description_width": ""
     }
    },
    "4f9807909c9b4aa59b6a54dabb96192e": {
     "model_module": "@jupyter-widgets/controls",
     "model_module_version": "1.5.0",
     "model_name": "HTMLModel",
     "state": {
      "_dom_classes": [],
      "_model_module": "@jupyter-widgets/controls",
      "_model_module_version": "1.5.0",
      "_model_name": "HTMLModel",
      "_view_count": null,
      "_view_module": "@jupyter-widgets/controls",
      "_view_module_version": "1.5.0",
      "_view_name": "HTMLView",
      "description": "",
      "description_tooltip": null,
      "layout": "IPY_MODEL_eb26f3ab4af04117a01cb6d5123a34a2",
      "placeholder": "​",
      "style": "IPY_MODEL_b1bdcc572d31424da742a46af8b0e2d6",
      "value": " 175/175 [00:00&lt;00:00, 2629.37it/s]"
     }
    },
    "4fe77181385d4bda901b5dac4b973ffa": {
     "model_module": "@jupyter-widgets/base",
     "model_module_version": "1.2.0",
     "model_name": "LayoutModel",
     "state": {
      "_model_module": "@jupyter-widgets/base",
      "_model_module_version": "1.2.0",
      "_model_name": "LayoutModel",
      "_view_count": null,
      "_view_module": "@jupyter-widgets/base",
      "_view_module_version": "1.2.0",
      "_view_name": "LayoutView",
      "align_content": null,
      "align_items": null,
      "align_self": null,
      "border": null,
      "bottom": null,
      "display": null,
      "flex": null,
      "flex_flow": null,
      "grid_area": null,
      "grid_auto_columns": null,
      "grid_auto_flow": null,
      "grid_auto_rows": null,
      "grid_column": null,
      "grid_gap": null,
      "grid_row": null,
      "grid_template_areas": null,
      "grid_template_columns": null,
      "grid_template_rows": null,
      "height": null,
      "justify_content": null,
      "justify_items": null,
      "left": null,
      "margin": null,
      "max_height": null,
      "max_width": null,
      "min_height": null,
      "min_width": null,
      "object_fit": null,
      "object_position": null,
      "order": null,
      "overflow": null,
      "overflow_x": null,
      "overflow_y": null,
      "padding": null,
      "right": null,
      "top": null,
      "visibility": null,
      "width": null
     }
    },
    "50b658ffca854732949a76fdf2731ae1": {
     "model_module": "@jupyter-widgets/controls",
     "model_module_version": "1.5.0",
     "model_name": "HTMLModel",
     "state": {
      "_dom_classes": [],
      "_model_module": "@jupyter-widgets/controls",
      "_model_module_version": "1.5.0",
      "_model_name": "HTMLModel",
      "_view_count": null,
      "_view_module": "@jupyter-widgets/controls",
      "_view_module_version": "1.5.0",
      "_view_name": "HTMLView",
      "description": "",
      "description_tooltip": null,
      "layout": "IPY_MODEL_2037ea69553245b0920d02afddb3401f",
      "placeholder": "​",
      "style": "IPY_MODEL_0e4c2c5b3e1549998e1371e1a1c72a8c",
      "value": "100%"
     }
    },
    "6c1fe540d6d34be684cb03ed8d266e0c": {
     "model_module": "@jupyter-widgets/controls",
     "model_module_version": "1.5.0",
     "model_name": "FloatProgressModel",
     "state": {
      "_dom_classes": [],
      "_model_module": "@jupyter-widgets/controls",
      "_model_module_version": "1.5.0",
      "_model_name": "FloatProgressModel",
      "_view_count": null,
      "_view_module": "@jupyter-widgets/controls",
      "_view_module_version": "1.5.0",
      "_view_name": "ProgressView",
      "bar_style": "success",
      "description": "",
      "description_tooltip": null,
      "layout": "IPY_MODEL_2b440195183548b59a6a8063cc4b97bd",
      "max": 175,
      "min": 0,
      "orientation": "horizontal",
      "style": "IPY_MODEL_fd877471149b496bac44aed939c11291",
      "value": 175
     }
    },
    "7b61e8b031c648e5987e1809926e0a22": {
     "model_module": "@jupyter-widgets/controls",
     "model_module_version": "1.5.0",
     "model_name": "HBoxModel",
     "state": {
      "_dom_classes": [],
      "_model_module": "@jupyter-widgets/controls",
      "_model_module_version": "1.5.0",
      "_model_name": "HBoxModel",
      "_view_count": null,
      "_view_module": "@jupyter-widgets/controls",
      "_view_module_version": "1.5.0",
      "_view_name": "HBoxView",
      "box_style": "",
      "children": [
       "IPY_MODEL_7c898ada9e7242218830916b481cf30e",
       "IPY_MODEL_6c1fe540d6d34be684cb03ed8d266e0c",
       "IPY_MODEL_4f9807909c9b4aa59b6a54dabb96192e"
      ],
      "layout": "IPY_MODEL_a038a0a0938842649dd92e289ccc261c"
     }
    },
    "7c898ada9e7242218830916b481cf30e": {
     "model_module": "@jupyter-widgets/controls",
     "model_module_version": "1.5.0",
     "model_name": "HTMLModel",
     "state": {
      "_dom_classes": [],
      "_model_module": "@jupyter-widgets/controls",
      "_model_module_version": "1.5.0",
      "_model_name": "HTMLModel",
      "_view_count": null,
      "_view_module": "@jupyter-widgets/controls",
      "_view_module_version": "1.5.0",
      "_view_name": "HTMLView",
      "description": "",
      "description_tooltip": null,
      "layout": "IPY_MODEL_4fe77181385d4bda901b5dac4b973ffa",
      "placeholder": "​",
      "style": "IPY_MODEL_b47434e14a3047a8b4fc68f27b8c7cf6",
      "value": "100%"
     }
    },
    "94d1a086d21b497d9642965f8885081a": {
     "model_module": "@jupyter-widgets/base",
     "model_module_version": "1.2.0",
     "model_name": "LayoutModel",
     "state": {
      "_model_module": "@jupyter-widgets/base",
      "_model_module_version": "1.2.0",
      "_model_name": "LayoutModel",
      "_view_count": null,
      "_view_module": "@jupyter-widgets/base",
      "_view_module_version": "1.2.0",
      "_view_name": "LayoutView",
      "align_content": null,
      "align_items": null,
      "align_self": null,
      "border": null,
      "bottom": null,
      "display": null,
      "flex": null,
      "flex_flow": null,
      "grid_area": null,
      "grid_auto_columns": null,
      "grid_auto_flow": null,
      "grid_auto_rows": null,
      "grid_column": null,
      "grid_gap": null,
      "grid_row": null,
      "grid_template_areas": null,
      "grid_template_columns": null,
      "grid_template_rows": null,
      "height": null,
      "justify_content": null,
      "justify_items": null,
      "left": null,
      "margin": null,
      "max_height": null,
      "max_width": null,
      "min_height": null,
      "min_width": null,
      "object_fit": null,
      "object_position": null,
      "order": null,
      "overflow": null,
      "overflow_x": null,
      "overflow_y": null,
      "padding": null,
      "right": null,
      "top": null,
      "visibility": null,
      "width": null
     }
    },
    "a038a0a0938842649dd92e289ccc261c": {
     "model_module": "@jupyter-widgets/base",
     "model_module_version": "1.2.0",
     "model_name": "LayoutModel",
     "state": {
      "_model_module": "@jupyter-widgets/base",
      "_model_module_version": "1.2.0",
      "_model_name": "LayoutModel",
      "_view_count": null,
      "_view_module": "@jupyter-widgets/base",
      "_view_module_version": "1.2.0",
      "_view_name": "LayoutView",
      "align_content": null,
      "align_items": null,
      "align_self": null,
      "border": null,
      "bottom": null,
      "display": null,
      "flex": null,
      "flex_flow": null,
      "grid_area": null,
      "grid_auto_columns": null,
      "grid_auto_flow": null,
      "grid_auto_rows": null,
      "grid_column": null,
      "grid_gap": null,
      "grid_row": null,
      "grid_template_areas": null,
      "grid_template_columns": null,
      "grid_template_rows": null,
      "height": null,
      "justify_content": null,
      "justify_items": null,
      "left": null,
      "margin": null,
      "max_height": null,
      "max_width": null,
      "min_height": null,
      "min_width": null,
      "object_fit": null,
      "object_position": null,
      "order": null,
      "overflow": null,
      "overflow_x": null,
      "overflow_y": null,
      "padding": null,
      "right": null,
      "top": null,
      "visibility": null,
      "width": null
     }
    },
    "b1bdcc572d31424da742a46af8b0e2d6": {
     "model_module": "@jupyter-widgets/controls",
     "model_module_version": "1.5.0",
     "model_name": "DescriptionStyleModel",
     "state": {
      "_model_module": "@jupyter-widgets/controls",
      "_model_module_version": "1.5.0",
      "_model_name": "DescriptionStyleModel",
      "_view_count": null,
      "_view_module": "@jupyter-widgets/base",
      "_view_module_version": "1.2.0",
      "_view_name": "StyleView",
      "description_width": ""
     }
    },
    "b47434e14a3047a8b4fc68f27b8c7cf6": {
     "model_module": "@jupyter-widgets/controls",
     "model_module_version": "1.5.0",
     "model_name": "DescriptionStyleModel",
     "state": {
      "_model_module": "@jupyter-widgets/controls",
      "_model_module_version": "1.5.0",
      "_model_name": "DescriptionStyleModel",
      "_view_count": null,
      "_view_module": "@jupyter-widgets/base",
      "_view_module_version": "1.2.0",
      "_view_name": "StyleView",
      "description_width": ""
     }
    },
    "bf5bae4eb5f24929ac770d57fca959c5": {
     "model_module": "@jupyter-widgets/base",
     "model_module_version": "1.2.0",
     "model_name": "LayoutModel",
     "state": {
      "_model_module": "@jupyter-widgets/base",
      "_model_module_version": "1.2.0",
      "_model_name": "LayoutModel",
      "_view_count": null,
      "_view_module": "@jupyter-widgets/base",
      "_view_module_version": "1.2.0",
      "_view_name": "LayoutView",
      "align_content": null,
      "align_items": null,
      "align_self": null,
      "border": null,
      "bottom": null,
      "display": null,
      "flex": null,
      "flex_flow": null,
      "grid_area": null,
      "grid_auto_columns": null,
      "grid_auto_flow": null,
      "grid_auto_rows": null,
      "grid_column": null,
      "grid_gap": null,
      "grid_row": null,
      "grid_template_areas": null,
      "grid_template_columns": null,
      "grid_template_rows": null,
      "height": null,
      "justify_content": null,
      "justify_items": null,
      "left": null,
      "margin": null,
      "max_height": null,
      "max_width": null,
      "min_height": null,
      "min_width": null,
      "object_fit": null,
      "object_position": null,
      "order": null,
      "overflow": null,
      "overflow_x": null,
      "overflow_y": null,
      "padding": null,
      "right": null,
      "top": null,
      "visibility": null,
      "width": null
     }
    },
    "e858baf2768140eeafbd4b7707665501": {
     "model_module": "@jupyter-widgets/controls",
     "model_module_version": "1.5.0",
     "model_name": "HBoxModel",
     "state": {
      "_dom_classes": [],
      "_model_module": "@jupyter-widgets/controls",
      "_model_module_version": "1.5.0",
      "_model_name": "HBoxModel",
      "_view_count": null,
      "_view_module": "@jupyter-widgets/controls",
      "_view_module_version": "1.5.0",
      "_view_name": "HBoxView",
      "box_style": "",
      "children": [
       "IPY_MODEL_50b658ffca854732949a76fdf2731ae1",
       "IPY_MODEL_3b6308b484dc4091afc0122584fd0fbd",
       "IPY_MODEL_490ac6cb34484d9d9d78c0f897d219ab"
      ],
      "layout": "IPY_MODEL_303faa4e8a664ebcb13d22c7ca16e15e"
     }
    },
    "eb26f3ab4af04117a01cb6d5123a34a2": {
     "model_module": "@jupyter-widgets/base",
     "model_module_version": "1.2.0",
     "model_name": "LayoutModel",
     "state": {
      "_model_module": "@jupyter-widgets/base",
      "_model_module_version": "1.2.0",
      "_model_name": "LayoutModel",
      "_view_count": null,
      "_view_module": "@jupyter-widgets/base",
      "_view_module_version": "1.2.0",
      "_view_name": "LayoutView",
      "align_content": null,
      "align_items": null,
      "align_self": null,
      "border": null,
      "bottom": null,
      "display": null,
      "flex": null,
      "flex_flow": null,
      "grid_area": null,
      "grid_auto_columns": null,
      "grid_auto_flow": null,
      "grid_auto_rows": null,
      "grid_column": null,
      "grid_gap": null,
      "grid_row": null,
      "grid_template_areas": null,
      "grid_template_columns": null,
      "grid_template_rows": null,
      "height": null,
      "justify_content": null,
      "justify_items": null,
      "left": null,
      "margin": null,
      "max_height": null,
      "max_width": null,
      "min_height": null,
      "min_width": null,
      "object_fit": null,
      "object_position": null,
      "order": null,
      "overflow": null,
      "overflow_x": null,
      "overflow_y": null,
      "padding": null,
      "right": null,
      "top": null,
      "visibility": null,
      "width": null
     }
    },
    "fd877471149b496bac44aed939c11291": {
     "model_module": "@jupyter-widgets/controls",
     "model_module_version": "1.5.0",
     "model_name": "ProgressStyleModel",
     "state": {
      "_model_module": "@jupyter-widgets/controls",
      "_model_module_version": "1.5.0",
      "_model_name": "ProgressStyleModel",
      "_view_count": null,
      "_view_module": "@jupyter-widgets/base",
      "_view_module_version": "1.2.0",
      "_view_name": "StyleView",
      "bar_color": null,
      "description_width": ""
     }
    }
   }
  }
 },
 "nbformat": 4,
 "nbformat_minor": 5
}
