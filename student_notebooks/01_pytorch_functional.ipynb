{
 "cells": [
  {
   "cell_type": "markdown",
   "metadata": {},
   "source": [
    "[![Open in Colab](https://colab.research.google.com/assets/colab-badge.svg)](https://colab.research.google.com/github/biodatlab/deep-learning-skooldio/blob/master/student_notebooks/01_pytorch_functional.ipynb)\n",
    "\n",
    "\n",
    "## Using torch Functional\n",
    "\n",
    "documentation: https://pytorch.org/docs/stable/nn.functional.html"
   ]
  },
  {
   "cell_type": "code",
   "execution_count": null,
   "metadata": {},
   "outputs": [],
   "source": [
    "import torch\n",
    "import torch.nn as nn\n",
    "import torch.nn.functional as F\n",
    "import matplotlib.pyplot as plt"
   ]
  },
  {
   "cell_type": "markdown",
   "metadata": {},
   "source": [
    "# Non-linear activation functions\n",
    "\n",
    "There are two main ways to create a non-linear activation function in PyTorch. The first is to use the `torch.nn` module, which contain a pre-defined activation functions. The second is to use the `torch.nn.functional` module, which contains a large number of functions that can be used as an activation functions."
   ]
  },
  {
   "cell_type": "code",
   "execution_count": null,
   "metadata": {},
   "outputs": [],
   "source": [
    "x = torch.tensor([10.])\n",
    "\n",
    "# Use functional to apply ReLU\n",
    "print(F.relu(x))\n",
    "\n",
    "# Use nn.ReLU to apply ReLU\n",
    "relu = nn.ReLU()\n",
    "print(relu(x))"
   ]
  },
  {
   "cell_type": "code",
   "execution_count": null,
   "metadata": {},
   "outputs": [],
   "source": [
    "x = torch.arange(-10, 10, 0.01)\n",
    "\n",
    "# TODO: Apply sigmoid, relu, and tanh to a range of x\n",
    "x_sigmoid =\n",
    "x_relu =\n",
    "x_tanh ="
   ]
  },
  {
   "cell_type": "code",
   "execution_count": null,
   "metadata": {},
   "outputs": [],
   "source": [
    "fig = plt.figure(figsize=(15, 2.5))\n",
    "\n",
    "plt.subplot(1, 3, 1)\n",
    "plt.plot(x, x_sigmoid)\n",
    "plt.xlabel(\"$x$\")\n",
    "plt.ylabel(\"Sigmoid of $x$\")\n",
    "\n",
    "plt.subplot(1, 3, 2)\n",
    "plt.plot(x, x_relu)\n",
    "plt.xlabel(\"$x$\")\n",
    "plt.ylabel(\"Relu of $x$\")\n",
    "\n",
    "plt.subplot(1, 3, 3)\n",
    "plt.plot(x, x_tanh)\n",
    "plt.xlabel(\"$x$\")\n",
    "plt.ylabel(\"Tanh of $x$\")\n",
    "\n",
    "plt.show()"
   ]
  },
  {
   "cell_type": "markdown",
   "metadata": {},
   "source": [
    "## Using softmax"
   ]
  },
  {
   "cell_type": "code",
   "execution_count": null,
   "metadata": {},
   "outputs": [],
   "source": [
    "# Example of softmax function to operate on output of a neural network\n",
    "P = torch.tensor([\n",
    "    [15., 10., 20.],\n",
    "    [5., 20., 10.]\n",
    "])\n",
    "# TODO: Apply softmax along the row"
   ]
  },
  {
   "cell_type": "code",
   "execution_count": null,
   "metadata": {},
   "outputs": [],
   "source": [
    "# TODO: Check that after softmax, sum along each row should equal to 1\n"
   ]
  },
  {
   "cell_type": "code",
   "execution_count": null,
   "metadata": {},
   "outputs": [],
   "source": [
    "# TODO: Find index that has highest probability along each row\n"
   ]
  },
  {
   "cell_type": "markdown",
   "metadata": {},
   "source": [
    "## Loss function"
   ]
  },
  {
   "cell_type": "code",
   "execution_count": null,
   "metadata": {},
   "outputs": [],
   "source": [
    "y_true = torch.tensor([[1., 2., 3.]])\n",
    "y_pred = torch.tensor([[1.1, 2.1, 2.9]])"
   ]
  },
  {
   "cell_type": "code",
   "execution_count": null,
   "metadata": {},
   "outputs": [],
   "source": [
    "# TODO: Calculate MSE Loss between prediction and true label\n"
   ]
  },
  {
   "cell_type": "code",
   "execution_count": null,
   "metadata": {},
   "outputs": [],
   "source": [
    "y_true = torch.tensor([[1., 0., 0.]])\n",
    "y_pred_1 = torch.tensor([[20., 20., 30.]])\n",
    "y_pred_2 = torch.tensor([[12., 0., 0.]])"
   ]
  },
  {
   "cell_type": "code",
   "execution_count": null,
   "metadata": {},
   "outputs": [],
   "source": [
    "# TODO: Calculate Cross entropy loss between prediction (y_pred_1, y_pred_2) and true label\n",
    "# See which one is higher or lower\n"
   ]
  }
 ],
 "metadata": {
  "kernelspec": {
   "display_name": "Python 3 (ipykernel)",
   "language": "python",
   "name": "python3"
  },
  "language_info": {
   "codemirror_mode": {
    "name": "ipython",
    "version": 3
   },
   "file_extension": ".py",
   "mimetype": "text/x-python",
   "name": "python",
   "nbconvert_exporter": "python",
   "pygments_lexer": "ipython3",
   "version": "3.9.6"
  },
  "vscode": {
   "interpreter": {
    "hash": "31f2aee4e71d21fbe5cf8b01ff0e069b9275f58929596ceb00d14d90e3e16cd6"
   }
  }
 },
 "nbformat": 4,
 "nbformat_minor": 2
}
