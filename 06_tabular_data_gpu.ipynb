{
  "cells": [
    {
      "cell_type": "markdown",
      "metadata": {
        "id": "fZAgXt0Biex6"
      },
      "source": [
        "[![Open in Colab](https://colab.research.google.com/assets/colab-badge.svg)](https://colab.research.google.com/github/biodatlab/deep-learning-skooldio/blob/master/06_tabular_data_gpu.ipynb)\n",
        "\n",
        "\n",
        "## **Predicting second hand car price from Rodkaidee: Regression**\n",
        "\n",
        "This notebook contains the following steps for predicting second hand car price from [Rodkaidee website](https://rod.kaidee.com/)\n",
        "\n",
        "- Import libraries\n",
        "- Prepare data: Categorical and numerical features\n",
        "- Train linear regression model\n",
        "- Train one-layer neural network model for regression (equivalent to linear regression)\n",
        "- Train multi-layer neural network model for regression"
      ]
    },
    {
      "cell_type": "code",
      "execution_count": 1,
      "metadata": {
        "id": "zxcAGilIZI0C"
      },
      "outputs": [],
      "source": [
        "import os\n",
        "import os.path as op\n",
        "\n",
        "import pandas as pd\n",
        "import numpy as np\n",
        "from tqdm.auto import tqdm\n",
        "import matplotlib.pyplot as plt\n",
        "\n",
        "import torch\n",
        "import torch.nn as nn\n",
        "import torch.nn.functional as F\n",
        "\n",
        "from sklearn.linear_model import LinearRegression\n",
        "from sklearn.model_selection import train_test_split\n",
        "from sklearn.preprocessing import OneHotEncoder, MinMaxScaler\n",
        "from sklearn.metrics import mean_squared_error\n",
        "import joblib"
      ]
    },
    {
      "cell_type": "markdown",
      "metadata": {
        "id": "1aoH2TxDZI0E"
      },
      "source": [
        "## **Data Preparation**\n",
        "\n",
        "- Download data from [`github.com/biodatlab/deep-learning-skooldio`](https://github.com/biodatlab/deep-learning-skooldio)\n",
        "- Clean and split data"
      ]
    },
    {
      "cell_type": "code",
      "execution_count": 2,
      "metadata": {
        "colab": {
          "base_uri": "https://localhost:8080/"
        },
        "id": "NUR3qwLXieyE",
        "outputId": "ad20996b-0a20-47da-fa58-7a17094194a1"
      },
      "outputs": [
        {
          "output_type": "stream",
          "name": "stdout",
          "text": [
            "Cloning into 'deep-learning-skooldio'...\n",
            "remote: Enumerating objects: 1889, done.\u001b[K\n",
            "remote: Counting objects: 100% (183/183), done.\u001b[K\n",
            "remote: Compressing objects: 100% (94/94), done.\u001b[K\n",
            "remote: Total 1889 (delta 84), reused 166 (delta 84), pack-reused 1706\u001b[K\n",
            "Receiving objects: 100% (1889/1889), 14.42 MiB | 7.92 MiB/s, done.\n",
            "Resolving deltas: 100% (95/95), done.\n"
          ]
        }
      ],
      "source": [
        "!git clone https://github.com/biodatlab/deep-learning-skooldio"
      ]
    },
    {
      "cell_type": "code",
      "execution_count": 3,
      "metadata": {
        "colab": {
          "base_uri": "https://localhost:8080/",
          "height": 206
        },
        "id": "wCZuVhV7ZI0F",
        "outputId": "37553ed2-0c02-4077-f735-60ada1ac9b57"
      },
      "outputs": [
        {
          "output_type": "execute_result",
          "data": {
            "text/plain": [
              "        Brand    Model  Engine    Segment  Year Mileage       Province  \\\n",
              "0       Mazda   Mazda2     1.3  B-Segment  2022  15,640  กรุงเทพมหานคร   \n",
              "1      Suzuki  Celerio     1.0    Eco Car  2021   9,545  กรุงเทพมหานคร   \n",
              "2  Mitsubishi   Mirage     1.2    Eco Car  2021  10,900        นนทบุรี   \n",
              "3      Nissan    March     1.2    Eco Car  2021  12,000  กรุงเทพมหานคร   \n",
              "4  Mitsubishi  Attrage     1.2    Eco Car  2021  25,706      กาญจนบุรี   \n",
              "\n",
              "     Price   Color  \n",
              "0  499,000    Gray  \n",
              "1  315,000   White  \n",
              "2  335,000    Gray  \n",
              "3  339,000  Silver  \n",
              "4  350,000    Gray  "
            ],
            "text/html": [
              "\n",
              "  <div id=\"df-717538c3-8e5b-462a-afc3-eda06097d631\">\n",
              "    <div class=\"colab-df-container\">\n",
              "      <div>\n",
              "<style scoped>\n",
              "    .dataframe tbody tr th:only-of-type {\n",
              "        vertical-align: middle;\n",
              "    }\n",
              "\n",
              "    .dataframe tbody tr th {\n",
              "        vertical-align: top;\n",
              "    }\n",
              "\n",
              "    .dataframe thead th {\n",
              "        text-align: right;\n",
              "    }\n",
              "</style>\n",
              "<table border=\"1\" class=\"dataframe\">\n",
              "  <thead>\n",
              "    <tr style=\"text-align: right;\">\n",
              "      <th></th>\n",
              "      <th>Brand</th>\n",
              "      <th>Model</th>\n",
              "      <th>Engine</th>\n",
              "      <th>Segment</th>\n",
              "      <th>Year</th>\n",
              "      <th>Mileage</th>\n",
              "      <th>Province</th>\n",
              "      <th>Price</th>\n",
              "      <th>Color</th>\n",
              "    </tr>\n",
              "  </thead>\n",
              "  <tbody>\n",
              "    <tr>\n",
              "      <th>0</th>\n",
              "      <td>Mazda</td>\n",
              "      <td>Mazda2</td>\n",
              "      <td>1.3</td>\n",
              "      <td>B-Segment</td>\n",
              "      <td>2022</td>\n",
              "      <td>15,640</td>\n",
              "      <td>กรุงเทพมหานคร</td>\n",
              "      <td>499,000</td>\n",
              "      <td>Gray</td>\n",
              "    </tr>\n",
              "    <tr>\n",
              "      <th>1</th>\n",
              "      <td>Suzuki</td>\n",
              "      <td>Celerio</td>\n",
              "      <td>1.0</td>\n",
              "      <td>Eco Car</td>\n",
              "      <td>2021</td>\n",
              "      <td>9,545</td>\n",
              "      <td>กรุงเทพมหานคร</td>\n",
              "      <td>315,000</td>\n",
              "      <td>White</td>\n",
              "    </tr>\n",
              "    <tr>\n",
              "      <th>2</th>\n",
              "      <td>Mitsubishi</td>\n",
              "      <td>Mirage</td>\n",
              "      <td>1.2</td>\n",
              "      <td>Eco Car</td>\n",
              "      <td>2021</td>\n",
              "      <td>10,900</td>\n",
              "      <td>นนทบุรี</td>\n",
              "      <td>335,000</td>\n",
              "      <td>Gray</td>\n",
              "    </tr>\n",
              "    <tr>\n",
              "      <th>3</th>\n",
              "      <td>Nissan</td>\n",
              "      <td>March</td>\n",
              "      <td>1.2</td>\n",
              "      <td>Eco Car</td>\n",
              "      <td>2021</td>\n",
              "      <td>12,000</td>\n",
              "      <td>กรุงเทพมหานคร</td>\n",
              "      <td>339,000</td>\n",
              "      <td>Silver</td>\n",
              "    </tr>\n",
              "    <tr>\n",
              "      <th>4</th>\n",
              "      <td>Mitsubishi</td>\n",
              "      <td>Attrage</td>\n",
              "      <td>1.2</td>\n",
              "      <td>Eco Car</td>\n",
              "      <td>2021</td>\n",
              "      <td>25,706</td>\n",
              "      <td>กาญจนบุรี</td>\n",
              "      <td>350,000</td>\n",
              "      <td>Gray</td>\n",
              "    </tr>\n",
              "  </tbody>\n",
              "</table>\n",
              "</div>\n",
              "      <button class=\"colab-df-convert\" onclick=\"convertToInteractive('df-717538c3-8e5b-462a-afc3-eda06097d631')\"\n",
              "              title=\"Convert this dataframe to an interactive table.\"\n",
              "              style=\"display:none;\">\n",
              "        \n",
              "  <svg xmlns=\"http://www.w3.org/2000/svg\" height=\"24px\"viewBox=\"0 0 24 24\"\n",
              "       width=\"24px\">\n",
              "    <path d=\"M0 0h24v24H0V0z\" fill=\"none\"/>\n",
              "    <path d=\"M18.56 5.44l.94 2.06.94-2.06 2.06-.94-2.06-.94-.94-2.06-.94 2.06-2.06.94zm-11 1L8.5 8.5l.94-2.06 2.06-.94-2.06-.94L8.5 2.5l-.94 2.06-2.06.94zm10 10l.94 2.06.94-2.06 2.06-.94-2.06-.94-.94-2.06-.94 2.06-2.06.94z\"/><path d=\"M17.41 7.96l-1.37-1.37c-.4-.4-.92-.59-1.43-.59-.52 0-1.04.2-1.43.59L10.3 9.45l-7.72 7.72c-.78.78-.78 2.05 0 2.83L4 21.41c.39.39.9.59 1.41.59.51 0 1.02-.2 1.41-.59l7.78-7.78 2.81-2.81c.8-.78.8-2.07 0-2.86zM5.41 20L4 18.59l7.72-7.72 1.47 1.35L5.41 20z\"/>\n",
              "  </svg>\n",
              "      </button>\n",
              "      \n",
              "  <style>\n",
              "    .colab-df-container {\n",
              "      display:flex;\n",
              "      flex-wrap:wrap;\n",
              "      gap: 12px;\n",
              "    }\n",
              "\n",
              "    .colab-df-convert {\n",
              "      background-color: #E8F0FE;\n",
              "      border: none;\n",
              "      border-radius: 50%;\n",
              "      cursor: pointer;\n",
              "      display: none;\n",
              "      fill: #1967D2;\n",
              "      height: 32px;\n",
              "      padding: 0 0 0 0;\n",
              "      width: 32px;\n",
              "    }\n",
              "\n",
              "    .colab-df-convert:hover {\n",
              "      background-color: #E2EBFA;\n",
              "      box-shadow: 0px 1px 2px rgba(60, 64, 67, 0.3), 0px 1px 3px 1px rgba(60, 64, 67, 0.15);\n",
              "      fill: #174EA6;\n",
              "    }\n",
              "\n",
              "    [theme=dark] .colab-df-convert {\n",
              "      background-color: #3B4455;\n",
              "      fill: #D2E3FC;\n",
              "    }\n",
              "\n",
              "    [theme=dark] .colab-df-convert:hover {\n",
              "      background-color: #434B5C;\n",
              "      box-shadow: 0px 1px 3px 1px rgba(0, 0, 0, 0.15);\n",
              "      filter: drop-shadow(0px 1px 2px rgba(0, 0, 0, 0.3));\n",
              "      fill: #FFFFFF;\n",
              "    }\n",
              "  </style>\n",
              "\n",
              "      <script>\n",
              "        const buttonEl =\n",
              "          document.querySelector('#df-717538c3-8e5b-462a-afc3-eda06097d631 button.colab-df-convert');\n",
              "        buttonEl.style.display =\n",
              "          google.colab.kernel.accessAllowed ? 'block' : 'none';\n",
              "\n",
              "        async function convertToInteractive(key) {\n",
              "          const element = document.querySelector('#df-717538c3-8e5b-462a-afc3-eda06097d631');\n",
              "          const dataTable =\n",
              "            await google.colab.kernel.invokeFunction('convertToInteractive',\n",
              "                                                     [key], {});\n",
              "          if (!dataTable) return;\n",
              "\n",
              "          const docLinkHtml = 'Like what you see? Visit the ' +\n",
              "            '<a target=\"_blank\" href=https://colab.research.google.com/notebooks/data_table.ipynb>data table notebook</a>'\n",
              "            + ' to learn more about interactive tables.';\n",
              "          element.innerHTML = '';\n",
              "          dataTable['output_type'] = 'display_data';\n",
              "          await google.colab.output.renderOutput(dataTable, element);\n",
              "          const docLink = document.createElement('div');\n",
              "          docLink.innerHTML = docLinkHtml;\n",
              "          element.appendChild(docLink);\n",
              "        }\n",
              "      </script>\n",
              "    </div>\n",
              "  </div>\n",
              "  "
            ]
          },
          "metadata": {},
          "execution_count": 3
        }
      ],
      "source": [
        "df = pd.read_csv(op.join(\"deep-learning-skooldio\", \"rodkaidee-dataset\", \"Rodkaidee Data.csv\"))\n",
        "df.head(5)"
      ]
    },
    {
      "cell_type": "markdown",
      "metadata": {
        "id": "gYLnuMfdieyG"
      },
      "source": [
        "## Clean and split data "
      ]
    },
    {
      "cell_type": "code",
      "execution_count": 4,
      "metadata": {
        "id": "V-P_xIbMieyG"
      },
      "outputs": [],
      "source": [
        "import os.path as op\n",
        "\n",
        "df[\"Price\"] = df[\"Price\"].apply(lambda x: float(str(x).replace(\",\", \"\")))\n",
        "df[\"Mileage\"] = df[\"Mileage\"].apply(lambda x: float(str(x).replace(\",\", \"\")))\n",
        "df_train, df_val = train_test_split(df, test_size=0.2, random_state=42)"
      ]
    },
    {
      "cell_type": "markdown",
      "metadata": {
        "id": "JFqqEkUUZI0G"
      },
      "source": [
        "## Apply One-hot Encoding to categorical values\n",
        "\n",
        "For example, if a column has three unique values 'A', 'B', and 'C', rows that contain 'C' will be transformed to [0, 0, 1]."
      ]
    },
    {
      "cell_type": "code",
      "execution_count": 5,
      "metadata": {
        "id": "u2025L16ieyI"
      },
      "outputs": [],
      "source": [
        "CAT_COLUMNS = [\"Brand\", \"Model\", \"Engine\", \"Segment\", \"Province\", \"Color\"]\n",
        "ohe = OneHotEncoder(handle_unknown='ignore', sparse=False)\n",
        "\n",
        "cat_train_array = ohe.fit_transform(df_train[CAT_COLUMNS])\n",
        "cat_val_array = ohe.transform(df_val[CAT_COLUMNS])"
      ]
    },
    {
      "cell_type": "markdown",
      "metadata": {
        "id": "TWBWpadpZI0I"
      },
      "source": [
        "## Normalize continuous values\n",
        "\n",
        "We will use `MinMaxScaler` to normalize continuous value.\n",
        "For example, column X has values from 0 to 1000000, so we need to normalize them to 0 to 1.\n",
        "Alternatively `StandardScaler` is also an option."
      ]
    },
    {
      "cell_type": "code",
      "execution_count": 6,
      "metadata": {
        "colab": {
          "base_uri": "https://localhost:8080/"
        },
        "id": "2zc0NpePZI0I",
        "outputId": "bd483a82-d5c5-4acc-a7f9-87a42ac29d92"
      },
      "outputs": [
        {
          "output_type": "execute_result",
          "data": {
            "text/plain": [
              "MinMaxScaler()"
            ]
          },
          "metadata": {},
          "execution_count": 6
        }
      ],
      "source": [
        "year_scaler = MinMaxScaler()\n",
        "mileage_scaler = MinMaxScaler()\n",
        "price_scaler = MinMaxScaler()\n",
        "\n",
        "year_scaler.fit(df_train[[\"Year\"]])\n",
        "mileage_scaler.fit(df_train[[\"Mileage\"]])\n",
        "price_scaler.fit(df_train[[\"Price\"]])"
      ]
    },
    {
      "cell_type": "markdown",
      "metadata": {
        "id": "TezNN7EHieyJ"
      },
      "source": [
        "## Apply one-hot encoding and normalization to create train and teset dataset"
      ]
    },
    {
      "cell_type": "code",
      "execution_count": 7,
      "metadata": {
        "id": "jCNEWoRBieyK"
      },
      "outputs": [],
      "source": [
        "X_train = np.hstack([\n",
        "    ohe.transform(df_train[CAT_COLUMNS]),\n",
        "    year_scaler.transform(df_train[[\"Year\"]]),\n",
        "    mileage_scaler.transform(df_train[[\"Mileage\"]]),\n",
        "])\n",
        "y_train = price_scaler.transform(df_train[[\"Price\"]])\n",
        "\n",
        "X_val = np.hstack([\n",
        "    ohe.transform(df_val[CAT_COLUMNS]),\n",
        "    year_scaler.transform(df_val[[\"Year\"]]),\n",
        "    mileage_scaler.transform(df_val[[\"Mileage\"]]),\n",
        "])\n",
        "y_val = price_scaler.transform(df_val[[\"Price\"]])"
      ]
    },
    {
      "cell_type": "code",
      "execution_count": 8,
      "metadata": {
        "colab": {
          "base_uri": "https://localhost:8080/"
        },
        "id": "ANIl6W4iieyK",
        "outputId": "d7d77c99-425b-449e-9046-8e02c67f688e"
      },
      "outputs": [
        {
          "output_type": "execute_result",
          "data": {
            "text/plain": [
              "['trained_models/price_scaler.joblib']"
            ]
          },
          "metadata": {},
          "execution_count": 8
        }
      ],
      "source": [
        "# save one-hot encoder and scaler objects with joblib\n",
        "save_dir = \"trained_models\"\n",
        "os.makedirs(save_dir, exist_ok=True)\n",
        "joblib.dump(ohe, op.join(save_dir, \"one_hot_encoder.joblib\"))\n",
        "joblib.dump(year_scaler, op.join(save_dir, \"year_scaler.joblib\"))\n",
        "joblib.dump(mileage_scaler, op.join(save_dir, \"mileage_scaler.joblib\"))\n",
        "joblib.dump(price_scaler, op.join(save_dir, \"price_scaler.joblib\"))"
      ]
    },
    {
      "cell_type": "markdown",
      "metadata": {
        "id": "3wvVjwnkZI0K"
      },
      "source": [
        "## **Train a Neural Network to predict car price**"
      ]
    },
    {
      "cell_type": "code",
      "execution_count": 9,
      "metadata": {
        "id": "cRVX8bSxZI0L"
      },
      "outputs": [],
      "source": [
        "from torch.utils.data import Dataset, DataLoader\n",
        "\n",
        "class CarPriceDataset(Dataset):\n",
        "    def __init__(self, X, y = None):\n",
        "        self.X = X\n",
        "        if y is not None:\n",
        "            self.y = y\n",
        "        else:\n",
        "            self.y = None\n",
        "\n",
        "    def __len__(self):\n",
        "        return len(self.X)\n",
        "\n",
        "    def __getitem__(self, idx):\n",
        "        if self.y is not None:\n",
        "            return self.X[idx], self.y[idx]\n",
        "        else:\n",
        "            return self.X[idx]"
      ]
    },
    {
      "cell_type": "code",
      "execution_count": 10,
      "metadata": {
        "id": "AvHBJxavieyO"
      },
      "outputs": [],
      "source": [
        "train_dataset = CarPriceDataset(X_train, y_train)\n",
        "val_dataset = CarPriceDataset(X_val, y_val)\n",
        "\n",
        "train_dataloader = DataLoader(train_dataset, batch_size=32, shuffle=True)\n",
        "val_dataloader = DataLoader(val_dataset, batch_size=32, shuffle=False)\n",
        "\n",
        "# x_sample, y_sample = next(iter(train_dataloader))\n",
        "# x_sample, y_sample"
      ]
    },
    {
      "cell_type": "code",
      "execution_count": 11,
      "metadata": {
        "id": "zSvDE-GjZI0L"
      },
      "outputs": [],
      "source": [
        "class CarPriceModel(nn.Module):\n",
        "    def __init__(self, input_size, output_size):\n",
        "        super().__init__()\n",
        "        self.linear = nn.Linear(input_size, output_size)\n",
        "\n",
        "    def forward(self, x):\n",
        "        out = self.linear(x)\n",
        "        return out"
      ]
    },
    {
      "cell_type": "markdown",
      "source": [
        "Check if GPU is available and move the model to `cuda` if GPU is available"
      ],
      "metadata": {
        "id": "FOxKAdDl_JQE"
      }
    },
    {
      "cell_type": "code",
      "execution_count": 12,
      "metadata": {
        "id": "Er6ql5JE-6FQ"
      },
      "outputs": [],
      "source": [
        "device = torch.device(\"cuda\" if torch.cuda.is_available() else \"cpu\")"
      ]
    },
    {
      "cell_type": "code",
      "execution_count": 15,
      "metadata": {
        "colab": {
          "base_uri": "https://localhost:8080/"
        },
        "id": "YXdDQUJXZI0L",
        "outputId": "7890a727-7bb3-4d7f-a6e4-f3bf8a74c3fe"
      },
      "outputs": [
        {
          "output_type": "stream",
          "name": "stdout",
          "text": [
            "138\n"
          ]
        },
        {
          "output_type": "execute_result",
          "data": {
            "text/plain": [
              "CarPriceModel(\n",
              "  (linear): Linear(in_features=138, out_features=1, bias=True)\n",
              ")"
            ]
          },
          "metadata": {},
          "execution_count": 15
        }
      ],
      "source": [
        "n_features, n_output = X_train.shape[1], y_train.shape[1]\n",
        "print(n_features)\n",
        "model = CarPriceModel(input_size=n_features, output_size=n_output)\n",
        "model = model.to(device) # move model to specified device\n",
        "model"
      ]
    },
    {
      "cell_type": "code",
      "execution_count": 16,
      "metadata": {
        "id": "nMMvmJtzieyP"
      },
      "outputs": [],
      "source": [
        "def train(\n",
        "    model,\n",
        "    train_dataloader,\n",
        "    test_dataloader,\n",
        "    optimizer,\n",
        "    loss_fn = nn.MSELoss(reduction='mean'),\n",
        "    num_epochs = 100,\n",
        "    update_frequency = 10,\n",
        "    device = \"cpu\",\n",
        "):\n",
        "    for epoch in tqdm(range(num_epochs)):\n",
        "        # Set the model to training mode.\n",
        "        model.train()\n",
        "        for x, y in train_dataloader:\n",
        "            # move X, y to device\n",
        "            x, y = x.to(device), y.to(device)\n",
        "            # Forward pass\n",
        "            y_pred = model(x.float())\n",
        "            # Calculate the loss.\n",
        "            loss = loss_fn(y_pred, y.float())\n",
        "            # Backward pass.\n",
        "            loss.backward()\n",
        "            # Update the model parameters.\n",
        "            optimizer.step()\n",
        "            # Reset the gradients.\n",
        "            optimizer.zero_grad()\n",
        "\n",
        "        # Set the model to evaluation mode and calculate the test loss at the end of each epoch.\n",
        "        model.eval()\n",
        "        with torch.no_grad():\n",
        "            for x, y in test_dataloader:\n",
        "                x = x.to(device)\n",
        "                y = y.to(device)\n",
        "                # Forward pass.\n",
        "                y_pred = model(x.float())\n",
        "                # Calculate the loss.\n",
        "                loss = loss_fn(y_pred, y.float())\n",
        "\n",
        "            # Print the loss if the epoch is a multiple of 10.\n",
        "            if epoch % update_frequency == 0:\n",
        "                print(f\"Epoch {epoch}: {loss.item()}\")\n",
        "\n",
        "\n",
        "def predict(model, test_dataloader):\n",
        "    model.eval()\n",
        "    y_pred_list = []\n",
        "    y_true_list = []\n",
        "    for x, y in test_dataloader:\n",
        "        y_pred = model(x.float())\n",
        "        prediction = y_pred.detach().numpy()\n",
        "        y = y.numpy()\n",
        "        y_pred_list.extend(prediction)\n",
        "        y_true_list.extend(y)\n",
        "    y_pred_list = np.concatenate(y_pred_list)\n",
        "    y_true_list = np.concatenate(y_true_list)\n",
        "    return y_pred_list, y_true_list"
      ]
    },
    {
      "cell_type": "code",
      "execution_count": 17,
      "metadata": {
        "colab": {
          "base_uri": "https://localhost:8080/",
          "height": 257,
          "referenced_widgets": [
            "c1aa5cdf0de547b7aaba392b3d3e8e48",
            "f540f2025bb3430fa085fd4f41015bb8",
            "349418f485f54431bdae9a4445726f65",
            "34996dbe809a4a66bd907c6626d3aee7",
            "0220695ba0f84d34b6db8b091035f345",
            "21e00de5c35b4b44a65d9159a724bac1",
            "b9589ac96f3a4e86a0042f6388e32eed",
            "8de6521f697144d6994626c3c12cb17b",
            "fb910cfb2bf24d60a8b41aa47fc7b698",
            "ca5764747b644cf8acd47a922cd18aea",
            "0d46fdf40ce44398ba369b0b70616693"
          ]
        },
        "id": "KUPnOccyZI0M",
        "outputId": "eaf96cd9-be59-4271-fb88-5ba06c03e508"
      },
      "outputs": [
        {
          "output_type": "display_data",
          "data": {
            "text/plain": [
              "  0%|          | 0/120 [00:00<?, ?it/s]"
            ],
            "application/vnd.jupyter.widget-view+json": {
              "version_major": 2,
              "version_minor": 0,
              "model_id": "c1aa5cdf0de547b7aaba392b3d3e8e48"
            }
          },
          "metadata": {}
        },
        {
          "output_type": "stream",
          "name": "stdout",
          "text": [
            "Epoch 0: 0.007401853799819946\n",
            "Epoch 10: 0.0008336789906024933\n",
            "Epoch 20: 0.0008057209779508412\n",
            "Epoch 30: 0.001273913774639368\n",
            "Epoch 40: 0.0007082221563905478\n",
            "Epoch 50: 0.001047421363182366\n",
            "Epoch 60: 0.0007900574710220098\n",
            "Epoch 70: 0.0006823980947956443\n",
            "Epoch 80: 0.000877499463967979\n",
            "Epoch 90: 0.0007753869867883623\n",
            "Epoch 100: 0.0008727338863536716\n",
            "Epoch 110: 0.0009233366581611335\n"
          ]
        }
      ],
      "source": [
        "# Define the loss function and the optimizer.\n",
        "learning_rate = 1e-3\n",
        "loss_fn = nn.MSELoss(reduction=\"mean\")\n",
        "optimizer = torch.optim.Adam(model.parameters(), lr=learning_rate)\n",
        "\n",
        "# Train the model.\n",
        "num_epochs = 120\n",
        "update_frequency = 10\n",
        "\n",
        "train(\n",
        "    model = model,\n",
        "    train_dataloader = train_dataloader,\n",
        "    test_dataloader = val_dataloader,\n",
        "    optimizer = optimizer,\n",
        "    loss_fn = loss_fn,\n",
        "    num_epochs = num_epochs,\n",
        "    update_frequency = update_frequency,\n",
        "    device = device,\n",
        ")"
      ]
    },
    {
      "cell_type": "markdown",
      "metadata": {
        "id": "lIYyFW3QZI0M"
      },
      "source": [
        "### Evaluate the model on the test set with Mean Squared Error"
      ]
    },
    {
      "cell_type": "code",
      "execution_count": 18,
      "metadata": {
        "id": "pbGtQYsRZI0M"
      },
      "outputs": [],
      "source": [
        "# Get the predictions for the test set\n",
        "y_pred, y_true = predict(model.cpu(), val_dataloader)"
      ]
    },
    {
      "cell_type": "code",
      "execution_count": 19,
      "metadata": {
        "colab": {
          "base_uri": "https://localhost:8080/"
        },
        "id": "BmcaecNgZI0M",
        "outputId": "f993edbf-615d-4e22-ded6-04b3ac0cdcba"
      },
      "outputs": [
        {
          "output_type": "execute_result",
          "data": {
            "text/plain": [
              "0.0031842023004687962"
            ]
          },
          "metadata": {},
          "execution_count": 19
        }
      ],
      "source": [
        "mean_squared_error(y_true, y_pred)"
      ]
    },
    {
      "cell_type": "code",
      "execution_count": 20,
      "metadata": {
        "colab": {
          "base_uri": "https://localhost:8080/",
          "height": 295
        },
        "id": "S6AvZKUvZI0N",
        "outputId": "ac85c8ef-8b24-493a-d354-725eacde9a87"
      },
      "outputs": [
        {
          "output_type": "display_data",
          "data": {
            "text/plain": [
              "<Figure size 432x288 with 1 Axes>"
            ],
            "image/png": "[encoded data removed]"
          },
          "metadata": {
            "needs_background": "light"
          }
        }
      ],
      "source": [
        "# Plot a perfect prediction line.\n",
        "plt.plot([0, 1], [0, 1],  \"--\", color=\"black\",)\n",
        "# Plot the predictions vs the actual values.\n",
        "plt.scatter(y_pred, y_true, alpha=0.2)\n",
        "\n",
        "plt.xlabel(\"Predictions\")\n",
        "plt.ylabel(\"Actual\")\n",
        "plt.title(\"Predictions vs Actual\")\n",
        "plt.xlim(0, 1)\n",
        "plt.ylim(0, 1)\n",
        "plt.show()"
      ]
    },
    {
      "cell_type": "code",
      "execution_count": 21,
      "metadata": {
        "id": "5GDQ78C-ieyR"
      },
      "outputs": [],
      "source": [
        "torch.save(model.state_dict(), \"trained_models/carprice_model_mse_0003.pth\")"
      ]
    },
    {
      "cell_type": "markdown",
      "metadata": {
        "id": "msNYb_DBieyR"
      },
      "source": [
        "## **Train a Neural Network with multiple layers (MLP)**"
      ]
    },
    {
      "cell_type": "code",
      "execution_count": 22,
      "metadata": {
        "id": "pKqBHUT-ieyR"
      },
      "outputs": [],
      "source": [
        "class CarPriceTwoLayerModel(nn.Module):\n",
        "    def __init__(self, input_size, output_size, intermediate_dim = 10):\n",
        "        super().__init__()\n",
        "        self.linear1 = nn.Linear(input_size, intermediate_dim)\n",
        "        self.linear2 = nn.Linear(intermediate_dim, output_size)\n",
        "        self.relu = nn.ReLU()\n",
        "\n",
        "    def forward(self, x):\n",
        "        x = self.linear1(x)\n",
        "        x = self.relu(x)\n",
        "        x = self.linear2(x)\n",
        "        return x\n",
        "\n",
        "model_two_layers = CarPriceTwoLayerModel(input_size=n_features, output_size=n_output)\n",
        "model_two_layers = model_two_layers.to(device) # move to device"
      ]
    },
    {
      "cell_type": "code",
      "execution_count": 23,
      "metadata": {
        "colab": {
          "base_uri": "https://localhost:8080/",
          "height": 257,
          "referenced_widgets": [
            "b4ea85b390154d49bf249dfd3e4b5dd2",
            "a9a3f4cf6ffc4dc787e691ee0874f3a5",
            "b498fcb81c4b4408861bdabfb640aa2a",
            "927046f13ba0412c9a64cee2ffae9202",
            "a33a1e0e935f473bafb43066123aacfa",
            "9269308d64bd4b728ae250920e5ea133",
            "aef3f17690104c2b88b44e59e4191d81",
            "a15a698660a240a38d7250ff84d552f6",
            "8ee78b6c120d481cbe71ccb310d54512",
            "24d0ccf9eb504cc7919f06409cd783d8",
            "d500eaaf27c04a279c395db5405cdb7e"
          ]
        },
        "id": "X1S1mS7WieyR",
        "outputId": "0f406416-5c3d-4b42-a791-d48d1aa30566"
      },
      "outputs": [
        {
          "output_type": "display_data",
          "data": {
            "text/plain": [
              "  0%|          | 0/120 [00:00<?, ?it/s]"
            ],
            "application/vnd.jupyter.widget-view+json": {
              "version_major": 2,
              "version_minor": 0,
              "model_id": "b4ea85b390154d49bf249dfd3e4b5dd2"
            }
          },
          "metadata": {}
        },
        {
          "output_type": "stream",
          "name": "stdout",
          "text": [
            "Epoch 0: 0.005613044835627079\n",
            "Epoch 10: 0.0002780476934276521\n",
            "Epoch 20: 0.00025078855105675757\n",
            "Epoch 30: 0.00023882044479250908\n",
            "Epoch 40: 0.0004488053382374346\n",
            "Epoch 50: 0.0006681648665107787\n",
            "Epoch 60: 0.0007082157535478473\n",
            "Epoch 70: 0.0005855925264768302\n",
            "Epoch 80: 0.0006355448858812451\n",
            "Epoch 90: 0.0006763400742784142\n",
            "Epoch 100: 0.0006260552327148616\n",
            "Epoch 110: 0.0007233883952721953\n"
          ]
        }
      ],
      "source": [
        "# Define the loss function and the optimizer.\n",
        "learning_rate = 1e-3 # = 0.001\n",
        "loss_fn = nn.MSELoss(reduction=\"mean\")\n",
        "optimizer = torch.optim.Adam(model_two_layers.parameters(), lr=learning_rate)\n",
        "\n",
        "# Train the model.\n",
        "num_epochs = 120\n",
        "update_frequency = 10\n",
        "\n",
        "train(\n",
        "    model=model_two_layers,\n",
        "    train_dataloader=train_dataloader,\n",
        "    test_dataloader=val_dataloader,\n",
        "    optimizer=optimizer,\n",
        "    loss_fn=loss_fn,\n",
        "    num_epochs=num_epochs,\n",
        "    update_frequency=update_frequency,\n",
        "    device=device,\n",
        ")"
      ]
    },
    {
      "cell_type": "code",
      "execution_count": 24,
      "metadata": {
        "colab": {
          "base_uri": "https://localhost:8080/"
        },
        "id": "GxA3ZJDvieyS",
        "outputId": "ec5f07f6-cd2a-4b1b-c4c4-808955d84ef8"
      },
      "outputs": [
        {
          "output_type": "execute_result",
          "data": {
            "text/plain": [
              "0.0017051365135979713"
            ]
          },
          "metadata": {},
          "execution_count": 24
        }
      ],
      "source": [
        "y_test, y_true_dl = predict(model_two_layers.cpu(), val_dataloader)\n",
        "mse_score = mean_squared_error(y_test, y_true_dl)\n",
        "mse_score"
      ]
    },
    {
      "cell_type": "code",
      "execution_count": 25,
      "metadata": {
        "colab": {
          "base_uri": "https://localhost:8080/",
          "height": 295
        },
        "id": "2Ys3PJFJieyS",
        "outputId": "6cd78143-19f5-4bca-f94f-0eec37bca6a0"
      },
      "outputs": [
        {
          "output_type": "display_data",
          "data": {
            "text/plain": [
              "<Figure size 432x288 with 1 Axes>"
            ],
            "image/png": "[encoded data removed]"
          },
          "metadata": {
            "needs_background": "light"
          }
        }
      ],
      "source": [
        "# Plot a perfect prediction line.\n",
        "plt.plot([0, 1], [0, 1],  \"--\", color=\"black\",)\n",
        "# Plot the predictions vs the actual values.\n",
        "plt.scatter(y_true_dl, y_test, alpha=0.2)\n",
        "\n",
        "plt.xlabel(\"Predictions value\")\n",
        "plt.ylabel(\"Actual value\")\n",
        "plt.title(\"Predictions vs Actual\")\n",
        "plt.xlim(0, 1)\n",
        "plt.ylim(0, 1)\n",
        "plt.show()"
      ]
    },
    {
      "cell_type": "code",
      "execution_count": 26,
      "metadata": {
        "id": "t2X8VCqDieyT"
      },
      "outputs": [],
      "source": [
        "torch.save(model_two_layers.state_dict(), f\"trained_models/carprice_two_layer_model_mse_00018.pth\")"
      ]
    },
    {
      "cell_type": "markdown",
      "metadata": {
        "id": "NgiMit2wZI0N"
      },
      "source": [
        "## **Use the models to predict on new data**\n",
        "\n",
        "- Create a model\n",
        "- Load one-hot-encoder and scaler\n",
        "- Transform dataframe\n",
        "- Predict"
      ]
    },
    {
      "cell_type": "code",
      "execution_count": 27,
      "metadata": {
        "id": "alui9M_cieyT"
      },
      "outputs": [],
      "source": [
        "# load data (similar to previous code)\n",
        "\n",
        "df = pd.read_csv(op.join(\"deep-learning-skooldio\", \"rodkaidee-dataset\", \"Rodkaidee Data.csv\"))\n",
        "df[\"Price\"] = df[\"Price\"].apply(lambda x: float(x.replace(\",\", \"\")))\n",
        "df[\"Mileage\"] = df[\"Mileage\"].apply(lambda x: float(x.replace(\",\", \"\")))\n",
        "\n",
        "_, df_test = train_test_split(df, test_size=0.2, random_state=42)"
      ]
    },
    {
      "cell_type": "code",
      "execution_count": 28,
      "metadata": {
        "colab": {
          "base_uri": "https://localhost:8080/"
        },
        "id": "hn3rN6SBieyU",
        "outputId": "b8040b72-e9b1-44a9-d8b2-a0ef53ce2203"
      },
      "outputs": [
        {
          "output_type": "execute_result",
          "data": {
            "text/plain": [
              "<All keys matched successfully>"
            ]
          },
          "metadata": {},
          "execution_count": 28
        }
      ],
      "source": [
        "# create model and load trained weights\n",
        "class CarPriceTwoLayerModel(nn.Module):\n",
        "    def __init__(self, input_size, output_size, intermediate_dim = 10):\n",
        "        super().__init__()\n",
        "        self.linear1 = nn.Linear(input_size, intermediate_dim)\n",
        "        self.linear2 = nn.Linear(intermediate_dim, output_size)\n",
        "        self.relu = nn.ReLU()\n",
        "\n",
        "    def forward(self, x):\n",
        "        x = self.linear1(x)\n",
        "        x = self.relu(x)\n",
        "        x = self.linear2(x)\n",
        "        return x\n",
        "\n",
        "model = CarPriceTwoLayerModel(138, 1)\n",
        "model.load_state_dict(torch.load(\"trained_models/carprice_two_layer_model_mse_00018.pth\"))"
      ]
    },
    {
      "cell_type": "code",
      "execution_count": 29,
      "metadata": {
        "id": "G8mX3agUieyU"
      },
      "outputs": [],
      "source": [
        "# load one-hot encoder \n",
        "one_hot_encoder_path = \"trained_models/one_hot_encoder.joblib\"\n",
        "year_scaler_path = \"trained_models/year_scaler.joblib\"\n",
        "mileage_scaler_path = \"trained_models/mileage_scaler.joblib\"\n",
        "price_scaler_path = \"trained_models/price_scaler.joblib\"\n",
        "\n",
        "ohe = joblib.load(one_hot_encoder_path)\n",
        "year_scaler = joblib.load(year_scaler_path)\n",
        "mileage_scaler = joblib.load(mileage_scaler_path)\n",
        "price_scaler = joblib.load(price_scaler_path)"
      ]
    },
    {
      "cell_type": "code",
      "execution_count": 30,
      "metadata": {
        "id": "03oN8M-YieyU"
      },
      "outputs": [],
      "source": [
        "# prepare test dataset\n",
        "CAT_COLUMNS = [\"Brand\", \"Model\", \"Engine\", \"Segment\", \"Province\", \"Color\"]\n",
        "X_test = np.hstack([\n",
        "    ohe.transform(df_val[CAT_COLUMNS]),\n",
        "    year_scaler.transform(df_val[[\"Year\"]]),\n",
        "    mileage_scaler.transform(df_val[[\"Mileage\"]]),\n",
        "])\n",
        "test_dataset = CarPriceDataset(X_test)\n",
        "test_dataloader = DataLoader(test_dataset, batch_size=32, shuffle=False)"
      ]
    },
    {
      "cell_type": "code",
      "execution_count": 31,
      "metadata": {
        "id": "7lxFxVRQieyU"
      },
      "outputs": [],
      "source": [
        "def predict(model, test_dataloader):\n",
        "    model.eval()\n",
        "    y_pred_list = []\n",
        "    for x in test_dataloader:\n",
        "        y_pred = model(x.float())\n",
        "        prediction = y_pred.detach().numpy()\n",
        "        y_pred_list.extend(prediction)\n",
        "    y_pred_list = np.concatenate(y_pred_list)\n",
        "    return y_pred_list"
      ]
    },
    {
      "cell_type": "code",
      "execution_count": 32,
      "metadata": {
        "id": "sAD1TXndieyV"
      },
      "outputs": [],
      "source": [
        "y_pred = predict(model, test_dataloader)\n",
        "y_pred_price = price_scaler.inverse_transform(y_pred.reshape(-1, 1))"
      ]
    },
    {
      "cell_type": "code",
      "execution_count": 33,
      "metadata": {
        "id": "_n-SMmE4ieyV"
      },
      "outputs": [],
      "source": [
        "df_test[\"Pred_Price\"] = y_pred_price"
      ]
    },
    {
      "cell_type": "code",
      "execution_count": 34,
      "metadata": {
        "colab": {
          "base_uri": "https://localhost:8080/",
          "height": 363
        },
        "id": "zHcoSFbwieyV",
        "outputId": "16ea1f93-8b95-4d76-cc03-8667567131cd"
      },
      "outputs": [
        {
          "output_type": "execute_result",
          "data": {
            "text/plain": [
              "       Brand   Model  Engine    Segment  Year   Mileage       Province  \\\n",
              "2759  Toyota    Vios     1.5  B-Segment  2015   62639.0  กรุงเทพมหานคร   \n",
              "2846  Toyota   Altis     1.6  C-Segment  2015   65615.0          สงขลา   \n",
              "6682   Honda   Civic     2.0  C-Segment  2007  203000.0      สิงห์บุรี   \n",
              "3262  Toyota   Yaris     1.2    Eco Car  2014  124007.0        ราชบุรี   \n",
              "486    Mazda  Mazda2     1.3  B-Segment  2019   51957.0  กรุงเทพมหานคร   \n",
              "3616  Nissan  Sylphy     1.6  C-Segment  2013  120000.0        นนทบุรี   \n",
              "3590  Nissan  Almera     1.2    Eco Car  2013  130000.0      เชียงใหม่   \n",
              "3246  Toyota    Vios     1.5  B-Segment  2014   80000.0      เชียงใหม่   \n",
              "6503  Nissan   Tiida     1.6  C-Segment  2007  140000.0        นนทบุรี   \n",
              "7209   Honda    City     1.5  B-Segment  2003  166508.0  นครศรีธรรมราช   \n",
              "\n",
              "         Price   Color     Pred_Price  \n",
              "2759  338000.0    Gray  346732.000000  \n",
              "2846  385000.0  Silver  420232.718750  \n",
              "6682  295000.0    Gray  307101.750000  \n",
              "3262  339000.0   White  339311.625000  \n",
              "486   439000.0    Blue  415036.812500  \n",
              "3616  219000.0   Black  304913.125000  \n",
              "3590  199000.0   Black  236784.375000  \n",
              "3246  329000.0   Black  345957.250000  \n",
              "6503  128000.0   Black  150061.468750  \n",
              "7209  129000.0    Gold  117058.953125  "
            ],
            "text/html": [
              "\n",
              "  <div id=\"df-8c04fea9-c5ba-46f6-97ad-7bb390e3a19d\">\n",
              "    <div class=\"colab-df-container\">\n",
              "      <div>\n",
              "<style scoped>\n",
              "    .dataframe tbody tr th:only-of-type {\n",
              "        vertical-align: middle;\n",
              "    }\n",
              "\n",
              "    .dataframe tbody tr th {\n",
              "        vertical-align: top;\n",
              "    }\n",
              "\n",
              "    .dataframe thead th {\n",
              "        text-align: right;\n",
              "    }\n",
              "</style>\n",
              "<table border=\"1\" class=\"dataframe\">\n",
              "  <thead>\n",
              "    <tr style=\"text-align: right;\">\n",
              "      <th></th>\n",
              "      <th>Brand</th>\n",
              "      <th>Model</th>\n",
              "      <th>Engine</th>\n",
              "      <th>Segment</th>\n",
              "      <th>Year</th>\n",
              "      <th>Mileage</th>\n",
              "      <th>Province</th>\n",
              "      <th>Price</th>\n",
              "      <th>Color</th>\n",
              "      <th>Pred_Price</th>\n",
              "    </tr>\n",
              "  </thead>\n",
              "  <tbody>\n",
              "    <tr>\n",
              "      <th>2759</th>\n",
              "      <td>Toyota</td>\n",
              "      <td>Vios</td>\n",
              "      <td>1.5</td>\n",
              "      <td>B-Segment</td>\n",
              "      <td>2015</td>\n",
              "      <td>62639.0</td>\n",
              "      <td>กรุงเทพมหานคร</td>\n",
              "      <td>338000.0</td>\n",
              "      <td>Gray</td>\n",
              "      <td>346732.000000</td>\n",
              "    </tr>\n",
              "    <tr>\n",
              "      <th>2846</th>\n",
              "      <td>Toyota</td>\n",
              "      <td>Altis</td>\n",
              "      <td>1.6</td>\n",
              "      <td>C-Segment</td>\n",
              "      <td>2015</td>\n",
              "      <td>65615.0</td>\n",
              "      <td>สงขลา</td>\n",
              "      <td>385000.0</td>\n",
              "      <td>Silver</td>\n",
              "      <td>420232.718750</td>\n",
              "    </tr>\n",
              "    <tr>\n",
              "      <th>6682</th>\n",
              "      <td>Honda</td>\n",
              "      <td>Civic</td>\n",
              "      <td>2.0</td>\n",
              "      <td>C-Segment</td>\n",
              "      <td>2007</td>\n",
              "      <td>203000.0</td>\n",
              "      <td>สิงห์บุรี</td>\n",
              "      <td>295000.0</td>\n",
              "      <td>Gray</td>\n",
              "      <td>307101.750000</td>\n",
              "    </tr>\n",
              "    <tr>\n",
              "      <th>3262</th>\n",
              "      <td>Toyota</td>\n",
              "      <td>Yaris</td>\n",
              "      <td>1.2</td>\n",
              "      <td>Eco Car</td>\n",
              "      <td>2014</td>\n",
              "      <td>124007.0</td>\n",
              "      <td>ราชบุรี</td>\n",
              "      <td>339000.0</td>\n",
              "      <td>White</td>\n",
              "      <td>339311.625000</td>\n",
              "    </tr>\n",
              "    <tr>\n",
              "      <th>486</th>\n",
              "      <td>Mazda</td>\n",
              "      <td>Mazda2</td>\n",
              "      <td>1.3</td>\n",
              "      <td>B-Segment</td>\n",
              "      <td>2019</td>\n",
              "      <td>51957.0</td>\n",
              "      <td>กรุงเทพมหานคร</td>\n",
              "      <td>439000.0</td>\n",
              "      <td>Blue</td>\n",
              "      <td>415036.812500</td>\n",
              "    </tr>\n",
              "    <tr>\n",
              "      <th>3616</th>\n",
              "      <td>Nissan</td>\n",
              "      <td>Sylphy</td>\n",
              "      <td>1.6</td>\n",
              "      <td>C-Segment</td>\n",
              "      <td>2013</td>\n",
              "      <td>120000.0</td>\n",
              "      <td>นนทบุรี</td>\n",
              "      <td>219000.0</td>\n",
              "      <td>Black</td>\n",
              "      <td>304913.125000</td>\n",
              "    </tr>\n",
              "    <tr>\n",
              "      <th>3590</th>\n",
              "      <td>Nissan</td>\n",
              "      <td>Almera</td>\n",
              "      <td>1.2</td>\n",
              "      <td>Eco Car</td>\n",
              "      <td>2013</td>\n",
              "      <td>130000.0</td>\n",
              "      <td>เชียงใหม่</td>\n",
              "      <td>199000.0</td>\n",
              "      <td>Black</td>\n",
              "      <td>236784.375000</td>\n",
              "    </tr>\n",
              "    <tr>\n",
              "      <th>3246</th>\n",
              "      <td>Toyota</td>\n",
              "      <td>Vios</td>\n",
              "      <td>1.5</td>\n",
              "      <td>B-Segment</td>\n",
              "      <td>2014</td>\n",
              "      <td>80000.0</td>\n",
              "      <td>เชียงใหม่</td>\n",
              "      <td>329000.0</td>\n",
              "      <td>Black</td>\n",
              "      <td>345957.250000</td>\n",
              "    </tr>\n",
              "    <tr>\n",
              "      <th>6503</th>\n",
              "      <td>Nissan</td>\n",
              "      <td>Tiida</td>\n",
              "      <td>1.6</td>\n",
              "      <td>C-Segment</td>\n",
              "      <td>2007</td>\n",
              "      <td>140000.0</td>\n",
              "      <td>นนทบุรี</td>\n",
              "      <td>128000.0</td>\n",
              "      <td>Black</td>\n",
              "      <td>150061.468750</td>\n",
              "    </tr>\n",
              "    <tr>\n",
              "      <th>7209</th>\n",
              "      <td>Honda</td>\n",
              "      <td>City</td>\n",
              "      <td>1.5</td>\n",
              "      <td>B-Segment</td>\n",
              "      <td>2003</td>\n",
              "      <td>166508.0</td>\n",
              "      <td>นครศรีธรรมราช</td>\n",
              "      <td>129000.0</td>\n",
              "      <td>Gold</td>\n",
              "      <td>117058.953125</td>\n",
              "    </tr>\n",
              "  </tbody>\n",
              "</table>\n",
              "</div>\n",
              "      <button class=\"colab-df-convert\" onclick=\"convertToInteractive('df-8c04fea9-c5ba-46f6-97ad-7bb390e3a19d')\"\n",
              "              title=\"Convert this dataframe to an interactive table.\"\n",
              "              style=\"display:none;\">\n",
              "        \n",
              "  <svg xmlns=\"http://www.w3.org/2000/svg\" height=\"24px\"viewBox=\"0 0 24 24\"\n",
              "       width=\"24px\">\n",
              "    <path d=\"M0 0h24v24H0V0z\" fill=\"none\"/>\n",
              "    <path d=\"M18.56 5.44l.94 2.06.94-2.06 2.06-.94-2.06-.94-.94-2.06-.94 2.06-2.06.94zm-11 1L8.5 8.5l.94-2.06 2.06-.94-2.06-.94L8.5 2.5l-.94 2.06-2.06.94zm10 10l.94 2.06.94-2.06 2.06-.94-2.06-.94-.94-2.06-.94 2.06-2.06.94z\"/><path d=\"M17.41 7.96l-1.37-1.37c-.4-.4-.92-.59-1.43-.59-.52 0-1.04.2-1.43.59L10.3 9.45l-7.72 7.72c-.78.78-.78 2.05 0 2.83L4 21.41c.39.39.9.59 1.41.59.51 0 1.02-.2 1.41-.59l7.78-7.78 2.81-2.81c.8-.78.8-2.07 0-2.86zM5.41 20L4 18.59l7.72-7.72 1.47 1.35L5.41 20z\"/>\n",
              "  </svg>\n",
              "      </button>\n",
              "      \n",
              "  <style>\n",
              "    .colab-df-container {\n",
              "      display:flex;\n",
              "      flex-wrap:wrap;\n",
              "      gap: 12px;\n",
              "    }\n",
              "\n",
              "    .colab-df-convert {\n",
              "      background-color: #E8F0FE;\n",
              "      border: none;\n",
              "      border-radius: 50%;\n",
              "      cursor: pointer;\n",
              "      display: none;\n",
              "      fill: #1967D2;\n",
              "      height: 32px;\n",
              "      padding: 0 0 0 0;\n",
              "      width: 32px;\n",
              "    }\n",
              "\n",
              "    .colab-df-convert:hover {\n",
              "      background-color: #E2EBFA;\n",
              "      box-shadow: 0px 1px 2px rgba(60, 64, 67, 0.3), 0px 1px 3px 1px rgba(60, 64, 67, 0.15);\n",
              "      fill: #174EA6;\n",
              "    }\n",
              "\n",
              "    [theme=dark] .colab-df-convert {\n",
              "      background-color: #3B4455;\n",
              "      fill: #D2E3FC;\n",
              "    }\n",
              "\n",
              "    [theme=dark] .colab-df-convert:hover {\n",
              "      background-color: #434B5C;\n",
              "      box-shadow: 0px 1px 3px 1px rgba(0, 0, 0, 0.15);\n",
              "      filter: drop-shadow(0px 1px 2px rgba(0, 0, 0, 0.3));\n",
              "      fill: #FFFFFF;\n",
              "    }\n",
              "  </style>\n",
              "\n",
              "      <script>\n",
              "        const buttonEl =\n",
              "          document.querySelector('#df-8c04fea9-c5ba-46f6-97ad-7bb390e3a19d button.colab-df-convert');\n",
              "        buttonEl.style.display =\n",
              "          google.colab.kernel.accessAllowed ? 'block' : 'none';\n",
              "\n",
              "        async function convertToInteractive(key) {\n",
              "          const element = document.querySelector('#df-8c04fea9-c5ba-46f6-97ad-7bb390e3a19d');\n",
              "          const dataTable =\n",
              "            await google.colab.kernel.invokeFunction('convertToInteractive',\n",
              "                                                     [key], {});\n",
              "          if (!dataTable) return;\n",
              "\n",
              "          const docLinkHtml = 'Like what you see? Visit the ' +\n",
              "            '<a target=\"_blank\" href=https://colab.research.google.com/notebooks/data_table.ipynb>data table notebook</a>'\n",
              "            + ' to learn more about interactive tables.';\n",
              "          element.innerHTML = '';\n",
              "          dataTable['output_type'] = 'display_data';\n",
              "          await google.colab.output.renderOutput(dataTable, element);\n",
              "          const docLink = document.createElement('div');\n",
              "          docLink.innerHTML = docLinkHtml;\n",
              "          element.appendChild(docLink);\n",
              "        }\n",
              "      </script>\n",
              "    </div>\n",
              "  </div>\n",
              "  "
            ]
          },
          "metadata": {},
          "execution_count": 34
        }
      ],
      "source": [
        "df_test.head(10)"
      ]
    },
    {
      "cell_type": "code",
      "execution_count": 35,
      "metadata": {
        "colab": {
          "base_uri": "https://localhost:8080/",
          "height": 295
        },
        "id": "kuSPPF0PieyV",
        "outputId": "3b541a9c-9dc1-46a8-cb91-e5088fd05d15"
      },
      "outputs": [
        {
          "output_type": "display_data",
          "data": {
            "text/plain": [
              "<Figure size 432x288 with 1 Axes>"
            ],
            "image/png": "[encoded data removed]"
          },
          "metadata": {
            "needs_background": "light"
          }
        }
      ],
      "source": [
        "plt.plot([0, 1_000_000], [0, 1_000_000], color=\"black\", alpha=0.5, linestyle=\"--\")\n",
        "\n",
        "plt.scatter(df_test[\"Pred_Price\"].values, df_test[\"Price\"], alpha=0.2)\n",
        "plt.xlabel(\"Predictions (Baht)\")\n",
        "plt.ylabel(\"Actual (Baht)\")\n",
        "plt.title(\"Predictions vs Actual\")\n",
        "\n",
        "plt.xlim(0, 1_000_000)\n",
        "plt.ylim(0, 1_000_000)\n",
        "plt.show()"
      ]
    }
  ],
  "metadata": {
    "accelerator": "GPU",
    "colab": {
      "provenance": []
    },
    "gpuClass": "standard",
    "kernelspec": {
      "display_name": "Python 3.7.5 ('ml-agents')",
      "language": "python",
      "name": "python3"
    },
    "language_info": {
      "codemirror_mode": {
        "name": "ipython",
        "version": 3
      },
      "file_extension": ".py",
      "mimetype": "text/x-python",
      "name": "python",
      "nbconvert_exporter": "python",
      "pygments_lexer": "ipython3",
      "version": "3.7.5"
    },
    "vscode": {
      "interpreter": {
        "hash": "94499b8ebe41d82c56ca741edd2212fa3535c1025402838f7d8b62fb6e0f95b1"
      }
    },
    "widgets": {
      "application/vnd.jupyter.widget-state+json": {
        "c1aa5cdf0de547b7aaba392b3d3e8e48": {
          "model_module": "@jupyter-widgets/controls",
          "model_name": "HBoxModel",
          "model_module_version": "1.5.0",
          "state": {
            "_dom_classes": [],
            "_model_module": "@jupyter-widgets/controls",
            "_model_module_version": "1.5.0",
            "_model_name": "HBoxModel",
            "_view_count": null,
            "_view_module": "@jupyter-widgets/controls",
            "_view_module_version": "1.5.0",
            "_view_name": "HBoxView",
            "box_style": "",
            "children": [
              "IPY_MODEL_f540f2025bb3430fa085fd4f41015bb8",
              "IPY_MODEL_349418f485f54431bdae9a4445726f65",
              "IPY_MODEL_34996dbe809a4a66bd907c6626d3aee7"
            ],
            "layout": "IPY_MODEL_0220695ba0f84d34b6db8b091035f345"
          }
        },
        "f540f2025bb3430fa085fd4f41015bb8": {
          "model_module": "@jupyter-widgets/controls",
          "model_name": "HTMLModel",
          "model_module_version": "1.5.0",
          "state": {
            "_dom_classes": [],
            "_model_module": "@jupyter-widgets/controls",
            "_model_module_version": "1.5.0",
            "_model_name": "HTMLModel",
            "_view_count": null,
            "_view_module": "@jupyter-widgets/controls",
            "_view_module_version": "1.5.0",
            "_view_name": "HTMLView",
            "description": "",
            "description_tooltip": null,
            "layout": "IPY_MODEL_21e00de5c35b4b44a65d9159a724bac1",
            "placeholder": "​",
            "style": "IPY_MODEL_b9589ac96f3a4e86a0042f6388e32eed",
            "value": "100%"
          }
        },
        "349418f485f54431bdae9a4445726f65": {
          "model_module": "@jupyter-widgets/controls",
          "model_name": "FloatProgressModel",
          "model_module_version": "1.5.0",
          "state": {
            "_dom_classes": [],
            "_model_module": "@jupyter-widgets/controls",
            "_model_module_version": "1.5.0",
            "_model_name": "FloatProgressModel",
            "_view_count": null,
            "_view_module": "@jupyter-widgets/controls",
            "_view_module_version": "1.5.0",
            "_view_name": "ProgressView",
            "bar_style": "success",
            "description": "",
            "description_tooltip": null,
            "layout": "IPY_MODEL_8de6521f697144d6994626c3c12cb17b",
            "max": 120,
            "min": 0,
            "orientation": "horizontal",
            "style": "IPY_MODEL_fb910cfb2bf24d60a8b41aa47fc7b698",
            "value": 120
          }
        },
        "34996dbe809a4a66bd907c6626d3aee7": {
          "model_module": "@jupyter-widgets/controls",
          "model_name": "HTMLModel",
          "model_module_version": "1.5.0",
          "state": {
            "_dom_classes": [],
            "_model_module": "@jupyter-widgets/controls",
            "_model_module_version": "1.5.0",
            "_model_name": "HTMLModel",
            "_view_count": null,
            "_view_module": "@jupyter-widgets/controls",
            "_view_module_version": "1.5.0",
            "_view_name": "HTMLView",
            "description": "",
            "description_tooltip": null,
            "layout": "IPY_MODEL_ca5764747b644cf8acd47a922cd18aea",
            "placeholder": "​",
            "style": "IPY_MODEL_0d46fdf40ce44398ba369b0b70616693",
            "value": " 120/120 [00:34&lt;00:00,  3.44it/s]"
          }
        },
        "0220695ba0f84d34b6db8b091035f345": {
          "model_module": "@jupyter-widgets/base",
          "model_name": "LayoutModel",
          "model_module_version": "1.2.0",
          "state": {
            "_model_module": "@jupyter-widgets/base",
            "_model_module_version": "1.2.0",
            "_model_name": "LayoutModel",
            "_view_count": null,
            "_view_module": "@jupyter-widgets/base",
            "_view_module_version": "1.2.0",
            "_view_name": "LayoutView",
            "align_content": null,
            "align_items": null,
            "align_self": null,
            "border": null,
            "bottom": null,
            "display": null,
            "flex": null,
            "flex_flow": null,
            "grid_area": null,
            "grid_auto_columns": null,
            "grid_auto_flow": null,
            "grid_auto_rows": null,
            "grid_column": null,
            "grid_gap": null,
            "grid_row": null,
            "grid_template_areas": null,
            "grid_template_columns": null,
            "grid_template_rows": null,
            "height": null,
            "justify_content": null,
            "justify_items": null,
            "left": null,
            "margin": null,
            "max_height": null,
            "max_width": null,
            "min_height": null,
            "min_width": null,
            "object_fit": null,
            "object_position": null,
            "order": null,
            "overflow": null,
            "overflow_x": null,
            "overflow_y": null,
            "padding": null,
            "right": null,
            "top": null,
            "visibility": null,
            "width": null
          }
        },
        "21e00de5c35b4b44a65d9159a724bac1": {
          "model_module": "@jupyter-widgets/base",
          "model_name": "LayoutModel",
          "model_module_version": "1.2.0",
          "state": {
            "_model_module": "@jupyter-widgets/base",
            "_model_module_version": "1.2.0",
            "_model_name": "LayoutModel",
            "_view_count": null,
            "_view_module": "@jupyter-widgets/base",
            "_view_module_version": "1.2.0",
            "_view_name": "LayoutView",
            "align_content": null,
            "align_items": null,
            "align_self": null,
            "border": null,
            "bottom": null,
            "display": null,
            "flex": null,
            "flex_flow": null,
            "grid_area": null,
            "grid_auto_columns": null,
            "grid_auto_flow": null,
            "grid_auto_rows": null,
            "grid_column": null,
            "grid_gap": null,
            "grid_row": null,
            "grid_template_areas": null,
            "grid_template_columns": null,
            "grid_template_rows": null,
            "height": null,
            "justify_content": null,
            "justify_items": null,
            "left": null,
            "margin": null,
            "max_height": null,
            "max_width": null,
            "min_height": null,
            "min_width": null,
            "object_fit": null,
            "object_position": null,
            "order": null,
            "overflow": null,
            "overflow_x": null,
            "overflow_y": null,
            "padding": null,
            "right": null,
            "top": null,
            "visibility": null,
            "width": null
          }
        },
        "b9589ac96f3a4e86a0042f6388e32eed": {
          "model_module": "@jupyter-widgets/controls",
          "model_name": "DescriptionStyleModel",
          "model_module_version": "1.5.0",
          "state": {
            "_model_module": "@jupyter-widgets/controls",
            "_model_module_version": "1.5.0",
            "_model_name": "DescriptionStyleModel",
            "_view_count": null,
            "_view_module": "@jupyter-widgets/base",
            "_view_module_version": "1.2.0",
            "_view_name": "StyleView",
            "description_width": ""
          }
        },
        "8de6521f697144d6994626c3c12cb17b": {
          "model_module": "@jupyter-widgets/base",
          "model_name": "LayoutModel",
          "model_module_version": "1.2.0",
          "state": {
            "_model_module": "@jupyter-widgets/base",
            "_model_module_version": "1.2.0",
            "_model_name": "LayoutModel",
            "_view_count": null,
            "_view_module": "@jupyter-widgets/base",
            "_view_module_version": "1.2.0",
            "_view_name": "LayoutView",
            "align_content": null,
            "align_items": null,
            "align_self": null,
            "border": null,
            "bottom": null,
            "display": null,
            "flex": null,
            "flex_flow": null,
            "grid_area": null,
            "grid_auto_columns": null,
            "grid_auto_flow": null,
            "grid_auto_rows": null,
            "grid_column": null,
            "grid_gap": null,
            "grid_row": null,
            "grid_template_areas": null,
            "grid_template_columns": null,
            "grid_template_rows": null,
            "height": null,
            "justify_content": null,
            "justify_items": null,
            "left": null,
            "margin": null,
            "max_height": null,
            "max_width": null,
            "min_height": null,
            "min_width": null,
            "object_fit": null,
            "object_position": null,
            "order": null,
            "overflow": null,
            "overflow_x": null,
            "overflow_y": null,
            "padding": null,
            "right": null,
            "top": null,
            "visibility": null,
            "width": null
          }
        },
        "fb910cfb2bf24d60a8b41aa47fc7b698": {
          "model_module": "@jupyter-widgets/controls",
          "model_name": "ProgressStyleModel",
          "model_module_version": "1.5.0",
          "state": {
            "_model_module": "@jupyter-widgets/controls",
            "_model_module_version": "1.5.0",
            "_model_name": "ProgressStyleModel",
            "_view_count": null,
            "_view_module": "@jupyter-widgets/base",
            "_view_module_version": "1.2.0",
            "_view_name": "StyleView",
            "bar_color": null,
            "description_width": ""
          }
        },
        "ca5764747b644cf8acd47a922cd18aea": {
          "model_module": "@jupyter-widgets/base",
          "model_name": "LayoutModel",
          "model_module_version": "1.2.0",
          "state": {
            "_model_module": "@jupyter-widgets/base",
            "_model_module_version": "1.2.0",
            "_model_name": "LayoutModel",
            "_view_count": null,
            "_view_module": "@jupyter-widgets/base",
            "_view_module_version": "1.2.0",
            "_view_name": "LayoutView",
            "align_content": null,
            "align_items": null,
            "align_self": null,
            "border": null,
            "bottom": null,
            "display": null,
            "flex": null,
            "flex_flow": null,
            "grid_area": null,
            "grid_auto_columns": null,
            "grid_auto_flow": null,
            "grid_auto_rows": null,
            "grid_column": null,
            "grid_gap": null,
            "grid_row": null,
            "grid_template_areas": null,
            "grid_template_columns": null,
            "grid_template_rows": null,
            "height": null,
            "justify_content": null,
            "justify_items": null,
            "left": null,
            "margin": null,
            "max_height": null,
            "max_width": null,
            "min_height": null,
            "min_width": null,
            "object_fit": null,
            "object_position": null,
            "order": null,
            "overflow": null,
            "overflow_x": null,
            "overflow_y": null,
            "padding": null,
            "right": null,
            "top": null,
            "visibility": null,
            "width": null
          }
        },
        "0d46fdf40ce44398ba369b0b70616693": {
          "model_module": "@jupyter-widgets/controls",
          "model_name": "DescriptionStyleModel",
          "model_module_version": "1.5.0",
          "state": {
            "_model_module": "@jupyter-widgets/controls",
            "_model_module_version": "1.5.0",
            "_model_name": "DescriptionStyleModel",
            "_view_count": null,
            "_view_module": "@jupyter-widgets/base",
            "_view_module_version": "1.2.0",
            "_view_name": "StyleView",
            "description_width": ""
          }
        },
        "b4ea85b390154d49bf249dfd3e4b5dd2": {
          "model_module": "@jupyter-widgets/controls",
          "model_name": "HBoxModel",
          "model_module_version": "1.5.0",
          "state": {
            "_dom_classes": [],
            "_model_module": "@jupyter-widgets/controls",
            "_model_module_version": "1.5.0",
            "_model_name": "HBoxModel",
            "_view_count": null,
            "_view_module": "@jupyter-widgets/controls",
            "_view_module_version": "1.5.0",
            "_view_name": "HBoxView",
            "box_style": "",
            "children": [
              "IPY_MODEL_a9a3f4cf6ffc4dc787e691ee0874f3a5",
              "IPY_MODEL_b498fcb81c4b4408861bdabfb640aa2a",
              "IPY_MODEL_927046f13ba0412c9a64cee2ffae9202"
            ],
            "layout": "IPY_MODEL_a33a1e0e935f473bafb43066123aacfa"
          }
        },
        "a9a3f4cf6ffc4dc787e691ee0874f3a5": {
          "model_module": "@jupyter-widgets/controls",
          "model_name": "HTMLModel",
          "model_module_version": "1.5.0",
          "state": {
            "_dom_classes": [],
            "_model_module": "@jupyter-widgets/controls",
            "_model_module_version": "1.5.0",
            "_model_name": "HTMLModel",
            "_view_count": null,
            "_view_module": "@jupyter-widgets/controls",
            "_view_module_version": "1.5.0",
            "_view_name": "HTMLView",
            "description": "",
            "description_tooltip": null,
            "layout": "IPY_MODEL_9269308d64bd4b728ae250920e5ea133",
            "placeholder": "​",
            "style": "IPY_MODEL_aef3f17690104c2b88b44e59e4191d81",
            "value": "100%"
          }
        },
        "b498fcb81c4b4408861bdabfb640aa2a": {
          "model_module": "@jupyter-widgets/controls",
          "model_name": "FloatProgressModel",
          "model_module_version": "1.5.0",
          "state": {
            "_dom_classes": [],
            "_model_module": "@jupyter-widgets/controls",
            "_model_module_version": "1.5.0",
            "_model_name": "FloatProgressModel",
            "_view_count": null,
            "_view_module": "@jupyter-widgets/controls",
            "_view_module_version": "1.5.0",
            "_view_name": "ProgressView",
            "bar_style": "success",
            "description": "",
            "description_tooltip": null,
            "layout": "IPY_MODEL_a15a698660a240a38d7250ff84d552f6",
            "max": 120,
            "min": 0,
            "orientation": "horizontal",
            "style": "IPY_MODEL_8ee78b6c120d481cbe71ccb310d54512",
            "value": 120
          }
        },
        "927046f13ba0412c9a64cee2ffae9202": {
          "model_module": "@jupyter-widgets/controls",
          "model_name": "HTMLModel",
          "model_module_version": "1.5.0",
          "state": {
            "_dom_classes": [],
            "_model_module": "@jupyter-widgets/controls",
            "_model_module_version": "1.5.0",
            "_model_name": "HTMLModel",
            "_view_count": null,
            "_view_module": "@jupyter-widgets/controls",
            "_view_module_version": "1.5.0",
            "_view_name": "HTMLView",
            "description": "",
            "description_tooltip": null,
            "layout": "IPY_MODEL_24d0ccf9eb504cc7919f06409cd783d8",
            "placeholder": "​",
            "style": "IPY_MODEL_d500eaaf27c04a279c395db5405cdb7e",
            "value": " 120/120 [00:38&lt;00:00,  3.38it/s]"
          }
        },
        "a33a1e0e935f473bafb43066123aacfa": {
          "model_module": "@jupyter-widgets/base",
          "model_name": "LayoutModel",
          "model_module_version": "1.2.0",
          "state": {
            "_model_module": "@jupyter-widgets/base",
            "_model_module_version": "1.2.0",
            "_model_name": "LayoutModel",
            "_view_count": null,
            "_view_module": "@jupyter-widgets/base",
            "_view_module_version": "1.2.0",
            "_view_name": "LayoutView",
            "align_content": null,
            "align_items": null,
            "align_self": null,
            "border": null,
            "bottom": null,
            "display": null,
            "flex": null,
            "flex_flow": null,
            "grid_area": null,
            "grid_auto_columns": null,
            "grid_auto_flow": null,
            "grid_auto_rows": null,
            "grid_column": null,
            "grid_gap": null,
            "grid_row": null,
            "grid_template_areas": null,
            "grid_template_columns": null,
            "grid_template_rows": null,
            "height": null,
            "justify_content": null,
            "justify_items": null,
            "left": null,
            "margin": null,
            "max_height": null,
            "max_width": null,
            "min_height": null,
            "min_width": null,
            "object_fit": null,
            "object_position": null,
            "order": null,
            "overflow": null,
            "overflow_x": null,
            "overflow_y": null,
            "padding": null,
            "right": null,
            "top": null,
            "visibility": null,
            "width": null
          }
        },
        "9269308d64bd4b728ae250920e5ea133": {
          "model_module": "@jupyter-widgets/base",
          "model_name": "LayoutModel",
          "model_module_version": "1.2.0",
          "state": {
            "_model_module": "@jupyter-widgets/base",
            "_model_module_version": "1.2.0",
            "_model_name": "LayoutModel",
            "_view_count": null,
            "_view_module": "@jupyter-widgets/base",
            "_view_module_version": "1.2.0",
            "_view_name": "LayoutView",
            "align_content": null,
            "align_items": null,
            "align_self": null,
            "border": null,
            "bottom": null,
            "display": null,
            "flex": null,
            "flex_flow": null,
            "grid_area": null,
            "grid_auto_columns": null,
            "grid_auto_flow": null,
            "grid_auto_rows": null,
            "grid_column": null,
            "grid_gap": null,
            "grid_row": null,
            "grid_template_areas": null,
            "grid_template_columns": null,
            "grid_template_rows": null,
            "height": null,
            "justify_content": null,
            "justify_items": null,
            "left": null,
            "margin": null,
            "max_height": null,
            "max_width": null,
            "min_height": null,
            "min_width": null,
            "object_fit": null,
            "object_position": null,
            "order": null,
            "overflow": null,
            "overflow_x": null,
            "overflow_y": null,
            "padding": null,
            "right": null,
            "top": null,
            "visibility": null,
            "width": null
          }
        },
        "aef3f17690104c2b88b44e59e4191d81": {
          "model_module": "@jupyter-widgets/controls",
          "model_name": "DescriptionStyleModel",
          "model_module_version": "1.5.0",
          "state": {
            "_model_module": "@jupyter-widgets/controls",
            "_model_module_version": "1.5.0",
            "_model_name": "DescriptionStyleModel",
            "_view_count": null,
            "_view_module": "@jupyter-widgets/base",
            "_view_module_version": "1.2.0",
            "_view_name": "StyleView",
            "description_width": ""
          }
        },
        "a15a698660a240a38d7250ff84d552f6": {
          "model_module": "@jupyter-widgets/base",
          "model_name": "LayoutModel",
          "model_module_version": "1.2.0",
          "state": {
            "_model_module": "@jupyter-widgets/base",
            "_model_module_version": "1.2.0",
            "_model_name": "LayoutModel",
            "_view_count": null,
            "_view_module": "@jupyter-widgets/base",
            "_view_module_version": "1.2.0",
            "_view_name": "LayoutView",
            "align_content": null,
            "align_items": null,
            "align_self": null,
            "border": null,
            "bottom": null,
            "display": null,
            "flex": null,
            "flex_flow": null,
            "grid_area": null,
            "grid_auto_columns": null,
            "grid_auto_flow": null,
            "grid_auto_rows": null,
            "grid_column": null,
            "grid_gap": null,
            "grid_row": null,
            "grid_template_areas": null,
            "grid_template_columns": null,
            "grid_template_rows": null,
            "height": null,
            "justify_content": null,
            "justify_items": null,
            "left": null,
            "margin": null,
            "max_height": null,
            "max_width": null,
            "min_height": null,
            "min_width": null,
            "object_fit": null,
            "object_position": null,
            "order": null,
            "overflow": null,
            "overflow_x": null,
            "overflow_y": null,
            "padding": null,
            "right": null,
            "top": null,
            "visibility": null,
            "width": null
          }
        },
        "8ee78b6c120d481cbe71ccb310d54512": {
          "model_module": "@jupyter-widgets/controls",
          "model_name": "ProgressStyleModel",
          "model_module_version": "1.5.0",
          "state": {
            "_model_module": "@jupyter-widgets/controls",
            "_model_module_version": "1.5.0",
            "_model_name": "ProgressStyleModel",
            "_view_count": null,
            "_view_module": "@jupyter-widgets/base",
            "_view_module_version": "1.2.0",
            "_view_name": "StyleView",
            "bar_color": null,
            "description_width": ""
          }
        },
        "24d0ccf9eb504cc7919f06409cd783d8": {
          "model_module": "@jupyter-widgets/base",
          "model_name": "LayoutModel",
          "model_module_version": "1.2.0",
          "state": {
            "_model_module": "@jupyter-widgets/base",
            "_model_module_version": "1.2.0",
            "_model_name": "LayoutModel",
            "_view_count": null,
            "_view_module": "@jupyter-widgets/base",
            "_view_module_version": "1.2.0",
            "_view_name": "LayoutView",
            "align_content": null,
            "align_items": null,
            "align_self": null,
            "border": null,
            "bottom": null,
            "display": null,
            "flex": null,
            "flex_flow": null,
            "grid_area": null,
            "grid_auto_columns": null,
            "grid_auto_flow": null,
            "grid_auto_rows": null,
            "grid_column": null,
            "grid_gap": null,
            "grid_row": null,
            "grid_template_areas": null,
            "grid_template_columns": null,
            "grid_template_rows": null,
            "height": null,
            "justify_content": null,
            "justify_items": null,
            "left": null,
            "margin": null,
            "max_height": null,
            "max_width": null,
            "min_height": null,
            "min_width": null,
            "object_fit": null,
            "object_position": null,
            "order": null,
            "overflow": null,
            "overflow_x": null,
            "overflow_y": null,
            "padding": null,
            "right": null,
            "top": null,
            "visibility": null,
            "width": null
          }
        },
        "d500eaaf27c04a279c395db5405cdb7e": {
          "model_module": "@jupyter-widgets/controls",
          "model_name": "DescriptionStyleModel",
          "model_module_version": "1.5.0",
          "state": {
            "_model_module": "@jupyter-widgets/controls",
            "_model_module_version": "1.5.0",
            "_model_name": "DescriptionStyleModel",
            "_view_count": null,
            "_view_module": "@jupyter-widgets/base",
            "_view_module_version": "1.2.0",
            "_view_name": "StyleView",
            "description_width": ""
          }
        }
      }
    }
  },
  "nbformat": 4,
  "nbformat_minor": 0
}