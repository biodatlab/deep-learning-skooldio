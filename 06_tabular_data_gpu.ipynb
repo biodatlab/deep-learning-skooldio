{
  "cells": [
    {
      "cell_type": "markdown",
      "metadata": {
        "id": "fZAgXt0Biex6"
      },
      "source": [
        "[![Open in Colab](https://colab.research.google.com/assets/colab-badge.svg)](https://colab.research.google.com/github/biodatlab/deep-learning-skooldio/blob/master/04_pytorch_for_tabular_data.ipynb)\n",
        "\n",
        "\n",
        "## **Predicting second hand car price from Rodkaidee: Regression**\n",
        "\n",
        "This notebook contains the following steps for predicting second hand car price from [Rodkaidee website](https://rod.kaidee.com/)\n",
        "\n",
        "- Import libraries\n",
        "- Prepare data: Categorical and numerical features\n",
        "- Train linear regression model\n",
        "- Train one-layer neural network model for regression (equivalent to linear regression)\n",
        "- Train multi-layer neural network model for regression"
      ]
    },
    {
      "cell_type": "code",
      "execution_count": 1,
      "metadata": {
        "id": "zxcAGilIZI0C"
      },
      "outputs": [],
      "source": [
        "import os\n",
        "import os.path as op\n",
        "\n",
        "import pandas as pd\n",
        "import numpy as np\n",
        "from tqdm.auto import tqdm\n",
        "import matplotlib.pyplot as plt\n",
        "\n",
        "import torch\n",
        "import torch.nn as nn\n",
        "import torch.nn.functional as F\n",
        "\n",
        "from sklearn.linear_model import LinearRegression\n",
        "from sklearn.model_selection import train_test_split\n",
        "from sklearn.preprocessing import OneHotEncoder, MinMaxScaler\n",
        "from sklearn.metrics import mean_squared_error\n",
        "import joblib"
      ]
    },
    {
      "cell_type": "markdown",
      "metadata": {
        "id": "1aoH2TxDZI0E"
      },
      "source": [
        "## **Data Preparation**\n",
        "\n",
        "- Download data from [`github.com/biodatlab/deep-learning-skooldio`](https://github.com/biodatlab/deep-learning-skooldio)\n",
        "- Clean and split data"
      ]
    },
    {
      "cell_type": "code",
      "execution_count": 2,
      "metadata": {
        "colab": {
          "base_uri": "https://localhost:8080/"
        },
        "id": "NUR3qwLXieyE",
        "outputId": "aa955f5d-a8ef-4e36-b52b-6957fd070039"
      },
      "outputs": [
        {
          "name": "stdout",
          "output_type": "stream",
          "text": [
            "Cloning into 'deep-learning-skooldio'...\n",
            "remote: Enumerating objects: 1806, done.\u001b[K\n",
            "remote: Counting objects: 100% (1806/1806), done.\u001b[K\n",
            "remote: Compressing objects: 100% (1771/1771), done.\u001b[K\n",
            "remote: Total 1806 (delta 59), reused 1776 (delta 35), pack-reused 0\u001b[K\n",
            "Receiving objects: 100% (1806/1806), 13.13 MiB | 29.41 MiB/s, done.\n",
            "Resolving deltas: 100% (59/59), done.\n"
          ]
        }
      ],
      "source": [
        "!git clone https://github.com/biodatlab/deep-learning-skooldio"
      ]
    },
    {
      "cell_type": "code",
      "execution_count": 3,
      "metadata": {
        "colab": {
          "base_uri": "https://localhost:8080/",
          "height": 206
        },
        "id": "wCZuVhV7ZI0F",
        "outputId": "2aa49e8c-a8cc-4954-dc3e-e1666ab07b03"
      },
      "outputs": [
        {
          "data": {
            "text/html": [
              "\n",
              "  <div id=\"df-93cfa36a-64cf-4a5d-8ac1-38718788f4ae\">\n",
              "    <div class=\"colab-df-container\">\n",
              "      <div>\n",
              "<style scoped>\n",
              "    .dataframe tbody tr th:only-of-type {\n",
              "        vertical-align: middle;\n",
              "    }\n",
              "\n",
              "    .dataframe tbody tr th {\n",
              "        vertical-align: top;\n",
              "    }\n",
              "\n",
              "    .dataframe thead th {\n",
              "        text-align: right;\n",
              "    }\n",
              "</style>\n",
              "<table border=\"1\" class=\"dataframe\">\n",
              "  <thead>\n",
              "    <tr style=\"text-align: right;\">\n",
              "      <th></th>\n",
              "      <th>Brand</th>\n",
              "      <th>Model</th>\n",
              "      <th>Engine</th>\n",
              "      <th>Segment</th>\n",
              "      <th>Year</th>\n",
              "      <th>Mileage</th>\n",
              "      <th>Province</th>\n",
              "      <th>Price</th>\n",
              "      <th>Color</th>\n",
              "    </tr>\n",
              "  </thead>\n",
              "  <tbody>\n",
              "    <tr>\n",
              "      <th>0</th>\n",
              "      <td>Mazda</td>\n",
              "      <td>Mazda2</td>\n",
              "      <td>1.3</td>\n",
              "      <td>B-Segment</td>\n",
              "      <td>2022</td>\n",
              "      <td>15,640</td>\n",
              "      <td>กรุงเทพมหานคร</td>\n",
              "      <td>499,000</td>\n",
              "      <td>Gray</td>\n",
              "    </tr>\n",
              "    <tr>\n",
              "      <th>1</th>\n",
              "      <td>Suzuki</td>\n",
              "      <td>Celerio</td>\n",
              "      <td>1.0</td>\n",
              "      <td>Eco Car</td>\n",
              "      <td>2021</td>\n",
              "      <td>9,545</td>\n",
              "      <td>กรุงเทพมหานคร</td>\n",
              "      <td>315,000</td>\n",
              "      <td>White</td>\n",
              "    </tr>\n",
              "    <tr>\n",
              "      <th>2</th>\n",
              "      <td>Mitsubishi</td>\n",
              "      <td>Mirage</td>\n",
              "      <td>1.2</td>\n",
              "      <td>Eco Car</td>\n",
              "      <td>2021</td>\n",
              "      <td>10,900</td>\n",
              "      <td>นนทบุรี</td>\n",
              "      <td>335,000</td>\n",
              "      <td>Gray</td>\n",
              "    </tr>\n",
              "    <tr>\n",
              "      <th>3</th>\n",
              "      <td>Nissan</td>\n",
              "      <td>March</td>\n",
              "      <td>1.2</td>\n",
              "      <td>Eco Car</td>\n",
              "      <td>2021</td>\n",
              "      <td>12,000</td>\n",
              "      <td>กรุงเทพมหานคร</td>\n",
              "      <td>339,000</td>\n",
              "      <td>Silver</td>\n",
              "    </tr>\n",
              "    <tr>\n",
              "      <th>4</th>\n",
              "      <td>Mitsubishi</td>\n",
              "      <td>Attrage</td>\n",
              "      <td>1.2</td>\n",
              "      <td>Eco Car</td>\n",
              "      <td>2021</td>\n",
              "      <td>25,706</td>\n",
              "      <td>กาญจนบุรี</td>\n",
              "      <td>350,000</td>\n",
              "      <td>Gray</td>\n",
              "    </tr>\n",
              "  </tbody>\n",
              "</table>\n",
              "</div>\n",
              "      <button class=\"colab-df-convert\" onclick=\"convertToInteractive('df-93cfa36a-64cf-4a5d-8ac1-38718788f4ae')\"\n",
              "              title=\"Convert this dataframe to an interactive table.\"\n",
              "              style=\"display:none;\">\n",
              "        \n",
              "  <svg xmlns=\"http://www.w3.org/2000/svg\" height=\"24px\"viewBox=\"0 0 24 24\"\n",
              "       width=\"24px\">\n",
              "    <path d=\"M0 0h24v24H0V0z\" fill=\"none\"/>\n",
              "    <path d=\"M18.56 5.44l.94 2.06.94-2.06 2.06-.94-2.06-.94-.94-2.06-.94 2.06-2.06.94zm-11 1L8.5 8.5l.94-2.06 2.06-.94-2.06-.94L8.5 2.5l-.94 2.06-2.06.94zm10 10l.94 2.06.94-2.06 2.06-.94-2.06-.94-.94-2.06-.94 2.06-2.06.94z\"/><path d=\"M17.41 7.96l-1.37-1.37c-.4-.4-.92-.59-1.43-.59-.52 0-1.04.2-1.43.59L10.3 9.45l-7.72 7.72c-.78.78-.78 2.05 0 2.83L4 21.41c.39.39.9.59 1.41.59.51 0 1.02-.2 1.41-.59l7.78-7.78 2.81-2.81c.8-.78.8-2.07 0-2.86zM5.41 20L4 18.59l7.72-7.72 1.47 1.35L5.41 20z\"/>\n",
              "  </svg>\n",
              "      </button>\n",
              "      \n",
              "  <style>\n",
              "    .colab-df-container {\n",
              "      display:flex;\n",
              "      flex-wrap:wrap;\n",
              "      gap: 12px;\n",
              "    }\n",
              "\n",
              "    .colab-df-convert {\n",
              "      background-color: #E8F0FE;\n",
              "      border: none;\n",
              "      border-radius: 50%;\n",
              "      cursor: pointer;\n",
              "      display: none;\n",
              "      fill: #1967D2;\n",
              "      height: 32px;\n",
              "      padding: 0 0 0 0;\n",
              "      width: 32px;\n",
              "    }\n",
              "\n",
              "    .colab-df-convert:hover {\n",
              "      background-color: #E2EBFA;\n",
              "      box-shadow: 0px 1px 2px rgba(60, 64, 67, 0.3), 0px 1px 3px 1px rgba(60, 64, 67, 0.15);\n",
              "      fill: #174EA6;\n",
              "    }\n",
              "\n",
              "    [theme=dark] .colab-df-convert {\n",
              "      background-color: #3B4455;\n",
              "      fill: #D2E3FC;\n",
              "    }\n",
              "\n",
              "    [theme=dark] .colab-df-convert:hover {\n",
              "      background-color: #434B5C;\n",
              "      box-shadow: 0px 1px 3px 1px rgba(0, 0, 0, 0.15);\n",
              "      filter: drop-shadow(0px 1px 2px rgba(0, 0, 0, 0.3));\n",
              "      fill: #FFFFFF;\n",
              "    }\n",
              "  </style>\n",
              "\n",
              "      <script>\n",
              "        const buttonEl =\n",
              "          document.querySelector('#df-93cfa36a-64cf-4a5d-8ac1-38718788f4ae button.colab-df-convert');\n",
              "        buttonEl.style.display =\n",
              "          google.colab.kernel.accessAllowed ? 'block' : 'none';\n",
              "\n",
              "        async function convertToInteractive(key) {\n",
              "          const element = document.querySelector('#df-93cfa36a-64cf-4a5d-8ac1-38718788f4ae');\n",
              "          const dataTable =\n",
              "            await google.colab.kernel.invokeFunction('convertToInteractive',\n",
              "                                                     [key], {});\n",
              "          if (!dataTable) return;\n",
              "\n",
              "          const docLinkHtml = 'Like what you see? Visit the ' +\n",
              "            '<a target=\"_blank\" href=https://colab.research.google.com/notebooks/data_table.ipynb>data table notebook</a>'\n",
              "            + ' to learn more about interactive tables.';\n",
              "          element.innerHTML = '';\n",
              "          dataTable['output_type'] = 'display_data';\n",
              "          await google.colab.output.renderOutput(dataTable, element);\n",
              "          const docLink = document.createElement('div');\n",
              "          docLink.innerHTML = docLinkHtml;\n",
              "          element.appendChild(docLink);\n",
              "        }\n",
              "      </script>\n",
              "    </div>\n",
              "  </div>\n",
              "  "
            ],
            "text/plain": [
              "        Brand    Model  Engine    Segment  Year Mileage       Province  \\\n",
              "0       Mazda   Mazda2     1.3  B-Segment  2022  15,640  กรุงเทพมหานคร   \n",
              "1      Suzuki  Celerio     1.0    Eco Car  2021   9,545  กรุงเทพมหานคร   \n",
              "2  Mitsubishi   Mirage     1.2    Eco Car  2021  10,900        นนทบุรี   \n",
              "3      Nissan    March     1.2    Eco Car  2021  12,000  กรุงเทพมหานคร   \n",
              "4  Mitsubishi  Attrage     1.2    Eco Car  2021  25,706      กาญจนบุรี   \n",
              "\n",
              "     Price   Color  \n",
              "0  499,000    Gray  \n",
              "1  315,000   White  \n",
              "2  335,000    Gray  \n",
              "3  339,000  Silver  \n",
              "4  350,000    Gray  "
            ]
          },
          "execution_count": 3,
          "metadata": {},
          "output_type": "execute_result"
        }
      ],
      "source": [
        "df = pd.read_csv(op.join(\"deep-learning-skooldio\", \"rodkaidee-dataset\", \"Rodkaidee Data.csv\"))\n",
        "df.head(5)"
      ]
    },
    {
      "cell_type": "markdown",
      "metadata": {
        "id": "gYLnuMfdieyG"
      },
      "source": [
        "## Clean and split data "
      ]
    },
    {
      "cell_type": "code",
      "execution_count": 4,
      "metadata": {
        "id": "V-P_xIbMieyG"
      },
      "outputs": [],
      "source": [
        "import os.path as op\n",
        "\n",
        "df[\"Price\"] = df[\"Price\"].apply(lambda x: float(str(x).replace(\",\", \"\")))\n",
        "df[\"Mileage\"] = df[\"Mileage\"].apply(lambda x: float(str(x).replace(\",\", \"\")))\n",
        "df_train, df_val = train_test_split(df, test_size=0.2, random_state=42)"
      ]
    },
    {
      "cell_type": "markdown",
      "metadata": {
        "id": "JFqqEkUUZI0G"
      },
      "source": [
        "## Apply One-hot Encoding to categorical values\n",
        "\n",
        "For example, if a column has three unique values 'A', 'B', and 'C', rows that contain 'C' will be transformed to [0, 0, 1]."
      ]
    },
    {
      "cell_type": "code",
      "execution_count": 5,
      "metadata": {
        "id": "u2025L16ieyI"
      },
      "outputs": [],
      "source": [
        "CAT_COLUMNS = [\"Brand\", \"Model\", \"Engine\", \"Segment\", \"Province\", \"Color\"]\n",
        "ohe = OneHotEncoder(handle_unknown='ignore', sparse=False)\n",
        "\n",
        "cat_train_array = ohe.fit_transform(df_train[CAT_COLUMNS])\n",
        "cat_val_array = ohe.transform(df_val[CAT_COLUMNS])"
      ]
    },
    {
      "cell_type": "markdown",
      "metadata": {
        "id": "TWBWpadpZI0I"
      },
      "source": [
        "## Normalize continuous values\n",
        "\n",
        "We will use `MinMaxScaler` to normalize continuous value.\n",
        "For example, column X has values from 0 to 1000000, so we need to normalize them to 0 to 1.\n",
        "Alternatively `StandardScaler` is also an option."
      ]
    },
    {
      "cell_type": "code",
      "execution_count": 6,
      "metadata": {
        "colab": {
          "base_uri": "https://localhost:8080/"
        },
        "id": "2zc0NpePZI0I",
        "outputId": "70fcd0fa-eaf0-427d-e797-8d29b052d014"
      },
      "outputs": [
        {
          "data": {
            "text/plain": [
              "MinMaxScaler()"
            ]
          },
          "execution_count": 6,
          "metadata": {},
          "output_type": "execute_result"
        }
      ],
      "source": [
        "year_scaler = MinMaxScaler()\n",
        "mileage_scaler = MinMaxScaler()\n",
        "price_scaler = MinMaxScaler()\n",
        "\n",
        "year_scaler.fit(df_train[[\"Year\"]])\n",
        "mileage_scaler.fit(df_train[[\"Mileage\"]])\n",
        "price_scaler.fit(df_train[[\"Price\"]])"
      ]
    },
    {
      "cell_type": "markdown",
      "metadata": {
        "id": "TezNN7EHieyJ"
      },
      "source": [
        "## Apply one-hot encoding and normalization to create train and teset dataset"
      ]
    },
    {
      "cell_type": "code",
      "execution_count": 7,
      "metadata": {
        "id": "jCNEWoRBieyK"
      },
      "outputs": [],
      "source": [
        "X_train = np.hstack([\n",
        "    ohe.transform(df_train[CAT_COLUMNS]),\n",
        "    year_scaler.transform(df_train[[\"Year\"]]),\n",
        "    mileage_scaler.transform(df_train[[\"Mileage\"]]),\n",
        "])\n",
        "y_train = price_scaler.transform(df_train[[\"Price\"]])\n",
        "\n",
        "X_val = np.hstack([\n",
        "    ohe.transform(df_val[CAT_COLUMNS]),\n",
        "    year_scaler.transform(df_val[[\"Year\"]]),\n",
        "    mileage_scaler.transform(df_val[[\"Mileage\"]]),\n",
        "])\n",
        "y_val = price_scaler.transform(df_val[[\"Price\"]])"
      ]
    },
    {
      "cell_type": "code",
      "execution_count": 8,
      "metadata": {
        "colab": {
          "base_uri": "https://localhost:8080/"
        },
        "id": "ANIl6W4iieyK",
        "outputId": "eaea745d-9595-4cc2-bb0d-8849d95056fc"
      },
      "outputs": [
        {
          "data": {
            "text/plain": [
              "['trained_models/price_scaler.joblib']"
            ]
          },
          "execution_count": 8,
          "metadata": {},
          "output_type": "execute_result"
        }
      ],
      "source": [
        "# save one-hot encoder and scaler objects with joblib\n",
        "save_dir = \"trained_models\"\n",
        "os.makedirs(save_dir, exist_ok=True)\n",
        "joblib.dump(ohe, op.join(save_dir, \"one_hot_encoder.joblib\"))\n",
        "joblib.dump(year_scaler, op.join(save_dir, \"year_scaler.joblib\"))\n",
        "joblib.dump(mileage_scaler, op.join(save_dir, \"mileage_scaler.joblib\"))\n",
        "joblib.dump(price_scaler, op.join(save_dir, \"price_scaler.joblib\"))"
      ]
    },
    {
      "cell_type": "markdown",
      "metadata": {
        "id": "YN3Ax68RZI0I"
      },
      "source": [
        "## **Train a Linear Regression Model**"
      ]
    },
    {
      "cell_type": "code",
      "execution_count": 9,
      "metadata": {
        "colab": {
          "base_uri": "https://localhost:8080/"
        },
        "id": "QUxSUR6yZI0J",
        "outputId": "50b1e661-a6b5-42af-e8a1-6d87a8a57904"
      },
      "outputs": [
        {
          "data": {
            "text/plain": [
              "LinearRegression()"
            ]
          },
          "execution_count": 9,
          "metadata": {},
          "output_type": "execute_result"
        }
      ],
      "source": [
        "# Fit a linear regression model to the training data.\n",
        "lr_model = LinearRegression()\n",
        "lr_model.fit(X_train, y_train)"
      ]
    },
    {
      "cell_type": "code",
      "execution_count": 10,
      "metadata": {
        "colab": {
          "base_uri": "https://localhost:8080/"
        },
        "id": "FsWLgpDOZI0J",
        "outputId": "6d19da0d-443d-4e5b-ea9c-4d33a0e23dbb"
      },
      "outputs": [
        {
          "data": {
            "text/plain": [
              "(1480, 1)"
            ]
          },
          "execution_count": 10,
          "metadata": {},
          "output_type": "execute_result"
        }
      ],
      "source": [
        "y_pred_lr = lr_model.predict(X_val)\n",
        "y_pred_lr.shape"
      ]
    },
    {
      "cell_type": "markdown",
      "metadata": {
        "id": "hM99ruVaieyM"
      },
      "source": [
        "## **Evaluate and plot relationship between actual and predicted values**"
      ]
    },
    {
      "cell_type": "code",
      "execution_count": 11,
      "metadata": {
        "colab": {
          "base_uri": "https://localhost:8080/"
        },
        "id": "BU8ucEGRieyM",
        "outputId": "53140467-cb70-4cad-d81b-ecb41b53adb4"
      },
      "outputs": [
        {
          "data": {
            "text/plain": [
              "0.0031157701021117335"
            ]
          },
          "execution_count": 11,
          "metadata": {},
          "output_type": "execute_result"
        }
      ],
      "source": [
        "# Calculate the mean squared error between actual value and prediction\n",
        "((y_val - y_pred_lr)**2).sum() / len(y_val)\n",
        "\n",
        "# or using mean_squared_error\n",
        "mean_squared_error(y_val, y_pred_lr)"
      ]
    },
    {
      "cell_type": "code",
      "execution_count": 12,
      "metadata": {
        "colab": {
          "base_uri": "https://localhost:8080/",
          "height": 295
        },
        "id": "R2rPon4CZI0K",
        "outputId": "83a1cc7f-0e49-40ec-e0a7-6b053048453c"
      },
      "outputs": [
        {
          "data": {
            "image/png": "[encoded data removed]",
            "text/plain": [
              "<Figure size 432x288 with 1 Axes>"
            ]
          },
          "metadata": {
            "needs_background": "light"
          },
          "output_type": "display_data"
        }
      ],
      "source": [
        "# Plot a perfect prediction line.\n",
        "plt.plot([0, 1], [0, 1],  \"--\", color=\"black\",)\n",
        "# Plot the predictions vs the actual values.\n",
        "plt.Figure(figsize=(10, 10))\n",
        "plt.scatter(y_pred_lr, y_val, alpha=0.2)\n",
        "\n",
        "plt.xlabel(\"Predictions value\")\n",
        "plt.ylabel(\"Actual value\")\n",
        "plt.title(\"Predictions vs Actual\")\n",
        "plt.xlim(0, 1)\n",
        "plt.ylim(0, 1)\n",
        "plt.show()"
      ]
    },
    {
      "cell_type": "code",
      "execution_count": 13,
      "metadata": {
        "colab": {
          "base_uri": "https://localhost:8080/"
        },
        "id": "nA-pc7piieyN",
        "outputId": "b1450651-e474-4bd1-9c6d-6a87943d628f"
      },
      "outputs": [
        {
          "data": {
            "text/plain": [
              "['trained_models/carprice_model_linear_regression.joblib']"
            ]
          },
          "execution_count": 13,
          "metadata": {},
          "output_type": "execute_result"
        }
      ],
      "source": [
        "joblib.dump(lr_model, \"trained_models/carprice_model_linear_regression.joblib\")"
      ]
    },
    {
      "cell_type": "markdown",
      "metadata": {
        "id": "3wvVjwnkZI0K"
      },
      "source": [
        "## **Train a Neural Network to predict car price**"
      ]
    },
    {
      "cell_type": "code",
      "execution_count": 14,
      "metadata": {
        "id": "cRVX8bSxZI0L"
      },
      "outputs": [],
      "source": [
        "from torch.utils.data import Dataset, DataLoader\n",
        "\n",
        "class CarPriceDataset(Dataset):\n",
        "    def __init__(self, X, y = None):\n",
        "        self.X = X\n",
        "        if y is not None:\n",
        "            self.y = y\n",
        "        else:\n",
        "            self.y = None\n",
        "\n",
        "    def __len__(self):\n",
        "        return len(self.X)\n",
        "\n",
        "    def __getitem__(self, idx):\n",
        "        if self.y is not None:\n",
        "            return self.X[idx], self.y[idx]\n",
        "        else:\n",
        "            return self.X[idx]"
      ]
    },
    {
      "cell_type": "code",
      "execution_count": 15,
      "metadata": {
        "id": "AvHBJxavieyO"
      },
      "outputs": [],
      "source": [
        "train_dataset = CarPriceDataset(X_train, y_train)\n",
        "val_dataset = CarPriceDataset(X_val, y_val)\n",
        "\n",
        "train_dataloader = DataLoader(train_dataset, batch_size=32, shuffle=True)\n",
        "val_dataloader = DataLoader(val_dataset, batch_size=32, shuffle=False)\n",
        "\n",
        "# x_sample, y_sample = next(iter(train_dataloader))\n",
        "# x_sample, y_sample"
      ]
    },
    {
      "cell_type": "code",
      "execution_count": 16,
      "metadata": {
        "id": "zSvDE-GjZI0L"
      },
      "outputs": [],
      "source": [
        "class CarPriceModel(nn.Module):\n",
        "    def __init__(self, input_size, output_size):\n",
        "        super().__init__()\n",
        "        self.linear = nn.Linear(input_size, output_size)\n",
        "\n",
        "    def forward(self, x):\n",
        "        out = self.linear(x)\n",
        "        return out"
      ]
    },
    {
      "cell_type": "code",
      "execution_count": null,
      "metadata": {},
      "outputs": [],
      "source": [
        "device = torch.device(\"cuda\" if torch.cuda.is_available() else \"cpu\")"
      ]
    },
    {
      "cell_type": "code",
      "execution_count": 17,
      "metadata": {
        "colab": {
          "base_uri": "https://localhost:8080/"
        },
        "id": "YXdDQUJXZI0L",
        "outputId": "04525d13-8196-4e61-baee-ec105339b5d2"
      },
      "outputs": [
        {
          "name": "stdout",
          "output_type": "stream",
          "text": [
            "138\n"
          ]
        },
        {
          "data": {
            "text/plain": [
              "CarPriceModel(\n",
              "  (linear): Linear(in_features=138, out_features=1, bias=True)\n",
              ")"
            ]
          },
          "execution_count": 17,
          "metadata": {},
          "output_type": "execute_result"
        }
      ],
      "source": [
        "n_features, n_output = X_train.shape[1], y_train.shape[1]\n",
        "print(n_features)\n",
        "model = CarPriceModel(input_size=n_features, output_size=n_output)\n",
        "model = model.to(device)\n",
        "model"
      ]
    },
    {
      "cell_type": "code",
      "execution_count": 18,
      "metadata": {
        "id": "nMMvmJtzieyP"
      },
      "outputs": [],
      "source": [
        "def train(\n",
        "    model,\n",
        "    train_dataloader,\n",
        "    test_dataloader,\n",
        "    optimizer,\n",
        "    loss_fn = nn.MSELoss(reduction='mean'),\n",
        "    num_epochs = 100,\n",
        "    update_frequency = 10,\n",
        "    device = \"cpu\",\n",
        "):\n",
        "    for epoch in tqdm(range(num_epochs)):\n",
        "        # Set the model to training mode.\n",
        "        model.train()\n",
        "        for x, y in train_dataloader:\n",
        "            # Forward pass.\n",
        "            x = x.to(device)\n",
        "            y = y.to(device)\n",
        "            y_pred = model(x.float())\n",
        "            # Calculate the loss.\n",
        "            loss = loss_fn(y_pred, y.float())\n",
        "            # Backward pass.\n",
        "            loss.backward()\n",
        "            # Update the model parameters.\n",
        "            optimizer.step()\n",
        "            # Reset the gradients.\n",
        "            optimizer.zero_grad()\n",
        "\n",
        "        # Set the model to evaluation mode and calculate the test loss at the end of each epoch.\n",
        "        model.eval()\n",
        "        with torch.no_grad():\n",
        "            for x, y in test_dataloader:\n",
        "                x = x.to(device)\n",
        "                y = y.to(device)\n",
        "                # Forward pass.\n",
        "                y_pred = model(x.float())\n",
        "                # Calculate the loss.\n",
        "                loss = loss_fn(y_pred, y.float())\n",
        "\n",
        "            # Print the loss if the epoch is a multiple of 10.\n",
        "            if epoch % update_frequency == 0:\n",
        "                print(f\"Epoch {epoch}: {loss.item()}\")\n",
        "\n",
        "\n",
        "def predict(model, test_dataloader):\n",
        "    model.eval()\n",
        "    y_pred_list = []\n",
        "    y_true_list = []\n",
        "    for x, y in test_dataloader:\n",
        "        y_pred = model(x.float())\n",
        "        prediction = y_pred.detach().numpy()\n",
        "        y = y.numpy()\n",
        "        y_pred_list.extend(prediction)\n",
        "        y_true_list.extend(y)\n",
        "    y_pred_list = np.concatenate(y_pred_list)\n",
        "    y_true_list = np.concatenate(y_true_list)\n",
        "    return y_pred_list, y_true_list"
      ]
    },
    {
      "cell_type": "code",
      "execution_count": 19,
      "metadata": {
        "colab": {
          "base_uri": "https://localhost:8080/",
          "height": 257,
          "referenced_widgets": [
            "921e672d971e4c1c8f55a415ad3159f8",
            "4005334f853c49c794e99086c996716f",
            "a3fc1231fe284a4da02640fa6f556f42",
            "2020fa41919f49b28ab61f634146b682",
            "ca11094074a2468b8a782011a61dff69",
            "99c3efdd7dc640b78d342bcd0c2a7b87",
            "8b81b52a6ff544f8a8f22e64fd4b159e",
            "7ced79ceb04a4e7cb21136d39d0707f3",
            "11cbd216171b430e95c95103dab77ee1",
            "2c2b78c479ae486a9a14eb8ea98b2881",
            "fca03deb76264e99a1af34f2f285adb9"
          ]
        },
        "id": "KUPnOccyZI0M",
        "outputId": "63299d3a-bb36-483b-9865-931c9b86dbf0"
      },
      "outputs": [
        {
          "data": {
            "application/vnd.jupyter.widget-view+json": {
              "model_id": "921e672d971e4c1c8f55a415ad3159f8",
              "version_major": 2,
              "version_minor": 0
            },
            "text/plain": [
              "  0%|          | 0/120 [00:00<?, ?it/s]"
            ]
          },
          "metadata": {},
          "output_type": "display_data"
        },
        {
          "name": "stdout",
          "output_type": "stream",
          "text": [
            "Epoch 0: 0.014042643830180168\n",
            "Epoch 10: 0.0007288872729986906\n",
            "Epoch 20: 0.001033906126394868\n",
            "Epoch 30: 0.0010009703692048788\n",
            "Epoch 40: 0.0008425995474681258\n",
            "Epoch 50: 0.0007274111267179251\n",
            "Epoch 60: 0.0010251975618302822\n",
            "Epoch 70: 0.0006014497485011816\n",
            "Epoch 80: 0.0007171183824539185\n",
            "Epoch 90: 0.000731831241864711\n",
            "Epoch 100: 0.0009205826791003346\n",
            "Epoch 110: 0.0010158192599192262\n"
          ]
        }
      ],
      "source": [
        "# Define the loss function and the optimizer.\n",
        "learning_rate = 1e-3\n",
        "loss_fn = nn.MSELoss(reduction=\"mean\")\n",
        "optimizer = torch.optim.Adam(model.parameters(), lr=learning_rate)\n",
        "\n",
        "# Train the model.\n",
        "num_epochs = 120\n",
        "update_frequency = 10\n",
        "\n",
        "train(\n",
        "    model = model,\n",
        "    train_dataloader = train_dataloader,\n",
        "    test_dataloader = val_dataloader,\n",
        "    optimizer = optimizer,\n",
        "    loss_fn = loss_fn,\n",
        "    num_epochs = num_epochs,\n",
        "    update_frequency = update_frequency,\n",
        "    device = device,\n",
        ")"
      ]
    },
    {
      "cell_type": "markdown",
      "metadata": {
        "id": "lIYyFW3QZI0M"
      },
      "source": [
        "### Evaluate the model on the test set with Mean Squared Error"
      ]
    },
    {
      "cell_type": "code",
      "execution_count": 20,
      "metadata": {
        "id": "pbGtQYsRZI0M"
      },
      "outputs": [],
      "source": [
        "# Get the predictions for the test set\n",
        "y_pred, y_true = predict(model.cpu(), val_dataloader)"
      ]
    },
    {
      "cell_type": "code",
      "execution_count": 21,
      "metadata": {
        "colab": {
          "base_uri": "https://localhost:8080/"
        },
        "id": "BmcaecNgZI0M",
        "outputId": "bd483df1-4f09-485f-9750-1ded4fb68a81"
      },
      "outputs": [
        {
          "data": {
            "text/plain": [
              "0.0031368726678684834"
            ]
          },
          "execution_count": 21,
          "metadata": {},
          "output_type": "execute_result"
        }
      ],
      "source": [
        "mean_squared_error(y_true, y_pred)"
      ]
    },
    {
      "cell_type": "code",
      "execution_count": 22,
      "metadata": {
        "colab": {
          "base_uri": "https://localhost:8080/",
          "height": 295
        },
        "id": "S6AvZKUvZI0N",
        "outputId": "74dfc029-66d5-45d2-b476-d7571d65fed5"
      },
      "outputs": [
        {
          "data": {
            "image/png": "[encoded data removed]",
            "text/plain": [
              "<Figure size 432x288 with 1 Axes>"
            ]
          },
          "metadata": {
            "needs_background": "light"
          },
          "output_type": "display_data"
        }
      ],
      "source": [
        "# Plot a perfect prediction line.\n",
        "plt.plot([0, 1], [0, 1],  \"--\", color=\"black\",)\n",
        "# Plot the predictions vs the actual values.\n",
        "plt.scatter(y_pred, y_true, alpha=0.2)\n",
        "\n",
        "plt.xlabel(\"Predictions\")\n",
        "plt.ylabel(\"Actual\")\n",
        "plt.title(\"Predictions vs Actual\")\n",
        "plt.xlim(0, 1)\n",
        "plt.ylim(0, 1)\n",
        "plt.show()"
      ]
    },
    {
      "cell_type": "code",
      "execution_count": 23,
      "metadata": {
        "id": "5GDQ78C-ieyR"
      },
      "outputs": [],
      "source": [
        "torch.save(model.state_dict(), \"trained_models/carprice_model_mse_0003.pth\")"
      ]
    },
    {
      "cell_type": "markdown",
      "metadata": {
        "id": "msNYb_DBieyR"
      },
      "source": [
        "## **Train a Neural Network with multiple layers (MLP)**"
      ]
    },
    {
      "cell_type": "code",
      "execution_count": 24,
      "metadata": {
        "id": "pKqBHUT-ieyR"
      },
      "outputs": [],
      "source": [
        "class CarPriceTwoLayerModel(nn.Module):\n",
        "    def __init__(self, input_size, output_size, intermediate_dim = 10):\n",
        "        super().__init__()\n",
        "        self.linear1 = nn.Linear(input_size, intermediate_dim)\n",
        "        self.linear2 = nn.Linear(intermediate_dim, output_size)\n",
        "        self.relu = nn.ReLU()\n",
        "\n",
        "    def forward(self, x):\n",
        "        x = self.linear1(x)\n",
        "        x = self.relu(x)\n",
        "        x = self.linear2(x)\n",
        "        return x\n",
        "\n",
        "model_two_layers = CarPriceTwoLayerModel(input_size=n_features, output_size=n_output)\n",
        "model_two_layers = model_two_layers.to(device)"
      ]
    },
    {
      "cell_type": "code",
      "execution_count": 25,
      "metadata": {
        "colab": {
          "base_uri": "https://localhost:8080/",
          "height": 257,
          "referenced_widgets": [
            "ec3de2bb1e5248d38d1656e742c510be",
            "6e6cb9d638bd4e39af7774bb39f17fa4",
            "9568c402609d4d5f9fc53e35429902ff",
            "6e38a231400a4d8184f8995089154e9e",
            "4c34336713f24230bad8a7b1471b4bf1",
            "5a4fbcd15cce4ea19f7f355cbb5cdd4e",
            "d83352cc0142402c94e78289785e5a4c",
            "7a6324aba02541d98337899a74573465",
            "495568cbc1664ac6a8a5b77e1cc8cd48",
            "ea2800ef0bbb4044b3944fe001c639cf",
            "547d9221039141588b925bf855c7ed55"
          ]
        },
        "id": "X1S1mS7WieyR",
        "outputId": "dfa689ad-fd6e-45de-b427-28a1f535f1ef"
      },
      "outputs": [
        {
          "data": {
            "application/vnd.jupyter.widget-view+json": {
              "model_id": "ec3de2bb1e5248d38d1656e742c510be",
              "version_major": 2,
              "version_minor": 0
            },
            "text/plain": [
              "  0%|          | 0/120 [00:00<?, ?it/s]"
            ]
          },
          "metadata": {},
          "output_type": "display_data"
        },
        {
          "name": "stdout",
          "output_type": "stream",
          "text": [
            "Epoch 0: 0.006214838474988937\n",
            "Epoch 10: 0.000386013271054253\n",
            "Epoch 20: 0.00043648952851071954\n",
            "Epoch 30: 0.00033019582042470574\n",
            "Epoch 40: 0.00013100189971737564\n",
            "Epoch 50: 0.0005127614131197333\n",
            "Epoch 60: 0.0011590943904593587\n",
            "Epoch 70: 0.0006421765428967774\n",
            "Epoch 80: 0.0006358451792038977\n",
            "Epoch 90: 0.00023158706608228385\n",
            "Epoch 100: 0.00044231716310605407\n",
            "Epoch 110: 0.00042875681538134813\n"
          ]
        }
      ],
      "source": [
        "# Define the loss function and the optimizer.\n",
        "learning_rate = 1e-3 # = 0.001\n",
        "loss_fn = nn.MSELoss(reduction=\"mean\")\n",
        "optimizer = torch.optim.Adam(model_two_layers.parameters(), lr=learning_rate)\n",
        "\n",
        "# Train the model.\n",
        "num_epochs = 120\n",
        "update_frequency = 10\n",
        "\n",
        "train(\n",
        "    model=model_two_layers,\n",
        "    train_dataloader=train_dataloader,\n",
        "    test_dataloader=val_dataloader,\n",
        "    optimizer=optimizer,\n",
        "    loss_fn=loss_fn,\n",
        "    num_epochs=num_epochs,\n",
        "    update_frequency=update_frequency,\n",
        "    device=device,\n",
        ")"
      ]
    },
    {
      "cell_type": "code",
      "execution_count": 26,
      "metadata": {
        "colab": {
          "base_uri": "https://localhost:8080/"
        },
        "id": "GxA3ZJDvieyS",
        "outputId": "a8a60f34-0f91-40ef-ea61-b564a1ce6332"
      },
      "outputs": [
        {
          "data": {
            "text/plain": [
              "0.0015835187293979265"
            ]
          },
          "execution_count": 26,
          "metadata": {},
          "output_type": "execute_result"
        }
      ],
      "source": [
        "y_test, y_true_dl = predict(model_two_layers.cpu(), val_dataloader)\n",
        "mse_score = mean_squared_error(y_test, y_true_dl)\n",
        "mse_score"
      ]
    },
    {
      "cell_type": "code",
      "execution_count": 27,
      "metadata": {
        "colab": {
          "base_uri": "https://localhost:8080/",
          "height": 295
        },
        "id": "2Ys3PJFJieyS",
        "outputId": "698bef05-7422-404f-af24-d1bea6cc6b1a"
      },
      "outputs": [
        {
          "data": {
            "image/png": "[encoded data removed]",
            "text/plain": [
              "<Figure size 432x288 with 1 Axes>"
            ]
          },
          "metadata": {
            "needs_background": "light"
          },
          "output_type": "display_data"
        }
      ],
      "source": [
        "# Plot a perfect prediction line.\n",
        "plt.plot([0, 1], [0, 1],  \"--\", color=\"black\",)\n",
        "# Plot the predictions vs the actual values.\n",
        "plt.scatter(y_true_dl, y_test, alpha=0.2)\n",
        "\n",
        "plt.xlabel(\"Predictions value\")\n",
        "plt.ylabel(\"Actual value\")\n",
        "plt.title(\"Predictions vs Actual\")\n",
        "plt.xlim(0, 1)\n",
        "plt.ylim(0, 1)\n",
        "plt.show()"
      ]
    },
    {
      "cell_type": "code",
      "execution_count": 28,
      "metadata": {
        "id": "t2X8VCqDieyT"
      },
      "outputs": [],
      "source": [
        "torch.save(model_two_layers.state_dict(), f\"trained_models/carprice_two_layer_model_mse_00018.pth\")"
      ]
    },
    {
      "cell_type": "markdown",
      "metadata": {
        "id": "NgiMit2wZI0N"
      },
      "source": [
        "## **Use the models to predict on new data**\n",
        "\n",
        "- Create a model\n",
        "- Load one-hot-encoder and scaler\n",
        "- Transform dataframe\n",
        "- Predict"
      ]
    },
    {
      "cell_type": "code",
      "execution_count": 30,
      "metadata": {
        "id": "alui9M_cieyT"
      },
      "outputs": [],
      "source": [
        "# load data (similar to previous code)\n",
        "\n",
        "df = pd.read_csv(op.join(\"deep-learning-skooldio\", \"rodkaidee-dataset\", \"Rodkaidee Data.csv\"))\n",
        "df[\"Price\"] = df[\"Price\"].apply(lambda x: float(x.replace(\",\", \"\")))\n",
        "df[\"Mileage\"] = df[\"Mileage\"].apply(lambda x: float(x.replace(\",\", \"\")))\n",
        "\n",
        "_, df_test = train_test_split(df, test_size=0.2, random_state=42)"
      ]
    },
    {
      "cell_type": "code",
      "execution_count": 33,
      "metadata": {
        "colab": {
          "base_uri": "https://localhost:8080/"
        },
        "id": "hn3rN6SBieyU",
        "outputId": "5b2cb93e-ed26-430e-c63f-64c17c99d343"
      },
      "outputs": [
        {
          "data": {
            "text/plain": [
              "<All keys matched successfully>"
            ]
          },
          "execution_count": 33,
          "metadata": {},
          "output_type": "execute_result"
        }
      ],
      "source": [
        "# create model and load trained weights\n",
        "class CarPriceTwoLayerModel(nn.Module):\n",
        "    def __init__(self, input_size, output_size, intermediate_dim = 10):\n",
        "        super().__init__()\n",
        "        self.linear1 = nn.Linear(input_size, intermediate_dim)\n",
        "        self.linear2 = nn.Linear(intermediate_dim, output_size)\n",
        "        self.relu = nn.ReLU()\n",
        "\n",
        "    def forward(self, x):\n",
        "        x = self.linear1(x)\n",
        "        x = self.relu(x)\n",
        "        x = self.linear2(x)\n",
        "        return x\n",
        "\n",
        "model = CarPriceTwoLayerModel(138, 1)\n",
        "model.load_state_dict(torch.load(\"trained_models/carprice_two_layer_model_mse_00018.pth\"))"
      ]
    },
    {
      "cell_type": "code",
      "execution_count": 34,
      "metadata": {
        "id": "G8mX3agUieyU"
      },
      "outputs": [],
      "source": [
        "# load one-hot encoder \n",
        "one_hot_encoder_path = \"trained_models/one_hot_encoder.joblib\"\n",
        "year_scaler_path = \"trained_models/year_scaler.joblib\"\n",
        "mileage_scaler_path = \"trained_models/mileage_scaler.joblib\"\n",
        "price_scaler_path = \"trained_models/price_scaler.joblib\"\n",
        "\n",
        "ohe = joblib.load(one_hot_encoder_path)\n",
        "year_scaler = joblib.load(year_scaler_path)\n",
        "mileage_scaler = joblib.load(mileage_scaler_path)\n",
        "price_scaler = joblib.load(price_scaler_path)"
      ]
    },
    {
      "cell_type": "code",
      "execution_count": 35,
      "metadata": {
        "id": "03oN8M-YieyU"
      },
      "outputs": [],
      "source": [
        "# prepare test dataset\n",
        "CAT_COLUMNS = [\"Brand\", \"Model\", \"Engine\", \"Segment\", \"Province\", \"Color\"]\n",
        "X_test = np.hstack([\n",
        "    ohe.transform(df_val[CAT_COLUMNS]),\n",
        "    year_scaler.transform(df_val[[\"Year\"]]),\n",
        "    mileage_scaler.transform(df_val[[\"Mileage\"]]),\n",
        "])\n",
        "test_dataset = CarPriceDataset(X_test)\n",
        "test_dataloader = DataLoader(test_dataset, batch_size=32, shuffle=False)"
      ]
    },
    {
      "cell_type": "code",
      "execution_count": 36,
      "metadata": {
        "id": "7lxFxVRQieyU"
      },
      "outputs": [],
      "source": [
        "def predict(model, test_dataloader):\n",
        "    model.eval()\n",
        "    y_pred_list = []\n",
        "    for x in test_dataloader:\n",
        "        y_pred = model(x.float())\n",
        "        prediction = y_pred.detach().numpy()\n",
        "        y_pred_list.extend(prediction)\n",
        "    y_pred_list = np.concatenate(y_pred_list)\n",
        "    return y_pred_list"
      ]
    },
    {
      "cell_type": "code",
      "execution_count": 37,
      "metadata": {
        "id": "sAD1TXndieyV"
      },
      "outputs": [],
      "source": [
        "y_pred = predict(model, test_dataloader)\n",
        "y_pred_price = price_scaler.inverse_transform(y_pred.reshape(-1, 1))"
      ]
    },
    {
      "cell_type": "code",
      "execution_count": 38,
      "metadata": {
        "id": "_n-SMmE4ieyV"
      },
      "outputs": [],
      "source": [
        "df_test[\"Pred_Price\"] = y_pred_price"
      ]
    },
    {
      "cell_type": "code",
      "execution_count": 39,
      "metadata": {
        "colab": {
          "base_uri": "https://localhost:8080/",
          "height": 363
        },
        "id": "zHcoSFbwieyV",
        "outputId": "430a83c4-1cff-4d01-dffd-25663c42c3bf"
      },
      "outputs": [
        {
          "data": {
            "text/html": [
              "\n",
              "  <div id=\"df-59986b49-8d33-4456-8bbd-3ff503ac8706\">\n",
              "    <div class=\"colab-df-container\">\n",
              "      <div>\n",
              "<style scoped>\n",
              "    .dataframe tbody tr th:only-of-type {\n",
              "        vertical-align: middle;\n",
              "    }\n",
              "\n",
              "    .dataframe tbody tr th {\n",
              "        vertical-align: top;\n",
              "    }\n",
              "\n",
              "    .dataframe thead th {\n",
              "        text-align: right;\n",
              "    }\n",
              "</style>\n",
              "<table border=\"1\" class=\"dataframe\">\n",
              "  <thead>\n",
              "    <tr style=\"text-align: right;\">\n",
              "      <th></th>\n",
              "      <th>Brand</th>\n",
              "      <th>Model</th>\n",
              "      <th>Engine</th>\n",
              "      <th>Segment</th>\n",
              "      <th>Year</th>\n",
              "      <th>Mileage</th>\n",
              "      <th>Province</th>\n",
              "      <th>Price</th>\n",
              "      <th>Color</th>\n",
              "      <th>Pred_Price</th>\n",
              "    </tr>\n",
              "  </thead>\n",
              "  <tbody>\n",
              "    <tr>\n",
              "      <th>2759</th>\n",
              "      <td>Toyota</td>\n",
              "      <td>Vios</td>\n",
              "      <td>1.5</td>\n",
              "      <td>B-Segment</td>\n",
              "      <td>2015</td>\n",
              "      <td>62639.0</td>\n",
              "      <td>กรุงเทพมหานคร</td>\n",
              "      <td>338000.0</td>\n",
              "      <td>Gray</td>\n",
              "      <td>344962.656250</td>\n",
              "    </tr>\n",
              "    <tr>\n",
              "      <th>2846</th>\n",
              "      <td>Toyota</td>\n",
              "      <td>Altis</td>\n",
              "      <td>1.6</td>\n",
              "      <td>C-Segment</td>\n",
              "      <td>2015</td>\n",
              "      <td>65615.0</td>\n",
              "      <td>สงขลา</td>\n",
              "      <td>385000.0</td>\n",
              "      <td>Silver</td>\n",
              "      <td>383691.812500</td>\n",
              "    </tr>\n",
              "    <tr>\n",
              "      <th>6682</th>\n",
              "      <td>Honda</td>\n",
              "      <td>Civic</td>\n",
              "      <td>2.0</td>\n",
              "      <td>C-Segment</td>\n",
              "      <td>2007</td>\n",
              "      <td>203000.0</td>\n",
              "      <td>สิงห์บุรี</td>\n",
              "      <td>295000.0</td>\n",
              "      <td>Gray</td>\n",
              "      <td>259230.906250</td>\n",
              "    </tr>\n",
              "    <tr>\n",
              "      <th>3262</th>\n",
              "      <td>Toyota</td>\n",
              "      <td>Yaris</td>\n",
              "      <td>1.2</td>\n",
              "      <td>Eco Car</td>\n",
              "      <td>2014</td>\n",
              "      <td>124007.0</td>\n",
              "      <td>ราชบุรี</td>\n",
              "      <td>339000.0</td>\n",
              "      <td>White</td>\n",
              "      <td>335311.125000</td>\n",
              "    </tr>\n",
              "    <tr>\n",
              "      <th>486</th>\n",
              "      <td>Mazda</td>\n",
              "      <td>Mazda2</td>\n",
              "      <td>1.3</td>\n",
              "      <td>B-Segment</td>\n",
              "      <td>2019</td>\n",
              "      <td>51957.0</td>\n",
              "      <td>กรุงเทพมหานคร</td>\n",
              "      <td>439000.0</td>\n",
              "      <td>Blue</td>\n",
              "      <td>423414.843750</td>\n",
              "    </tr>\n",
              "    <tr>\n",
              "      <th>3616</th>\n",
              "      <td>Nissan</td>\n",
              "      <td>Sylphy</td>\n",
              "      <td>1.6</td>\n",
              "      <td>C-Segment</td>\n",
              "      <td>2013</td>\n",
              "      <td>120000.0</td>\n",
              "      <td>นนทบุรี</td>\n",
              "      <td>219000.0</td>\n",
              "      <td>Black</td>\n",
              "      <td>257852.734375</td>\n",
              "    </tr>\n",
              "    <tr>\n",
              "      <th>3590</th>\n",
              "      <td>Nissan</td>\n",
              "      <td>Almera</td>\n",
              "      <td>1.2</td>\n",
              "      <td>Eco Car</td>\n",
              "      <td>2013</td>\n",
              "      <td>130000.0</td>\n",
              "      <td>เชียงใหม่</td>\n",
              "      <td>199000.0</td>\n",
              "      <td>Black</td>\n",
              "      <td>238516.500000</td>\n",
              "    </tr>\n",
              "    <tr>\n",
              "      <th>3246</th>\n",
              "      <td>Toyota</td>\n",
              "      <td>Vios</td>\n",
              "      <td>1.5</td>\n",
              "      <td>B-Segment</td>\n",
              "      <td>2014</td>\n",
              "      <td>80000.0</td>\n",
              "      <td>เชียงใหม่</td>\n",
              "      <td>329000.0</td>\n",
              "      <td>Black</td>\n",
              "      <td>322409.781250</td>\n",
              "    </tr>\n",
              "    <tr>\n",
              "      <th>6503</th>\n",
              "      <td>Nissan</td>\n",
              "      <td>Tiida</td>\n",
              "      <td>1.6</td>\n",
              "      <td>C-Segment</td>\n",
              "      <td>2007</td>\n",
              "      <td>140000.0</td>\n",
              "      <td>นนทบุรี</td>\n",
              "      <td>128000.0</td>\n",
              "      <td>Black</td>\n",
              "      <td>97730.382812</td>\n",
              "    </tr>\n",
              "    <tr>\n",
              "      <th>7209</th>\n",
              "      <td>Honda</td>\n",
              "      <td>City</td>\n",
              "      <td>1.5</td>\n",
              "      <td>B-Segment</td>\n",
              "      <td>2003</td>\n",
              "      <td>166508.0</td>\n",
              "      <td>นครศรีธรรมราช</td>\n",
              "      <td>129000.0</td>\n",
              "      <td>Gold</td>\n",
              "      <td>164385.984375</td>\n",
              "    </tr>\n",
              "  </tbody>\n",
              "</table>\n",
              "</div>\n",
              "      <button class=\"colab-df-convert\" onclick=\"convertToInteractive('df-59986b49-8d33-4456-8bbd-3ff503ac8706')\"\n",
              "              title=\"Convert this dataframe to an interactive table.\"\n",
              "              style=\"display:none;\">\n",
              "        \n",
              "  <svg xmlns=\"http://www.w3.org/2000/svg\" height=\"24px\"viewBox=\"0 0 24 24\"\n",
              "       width=\"24px\">\n",
              "    <path d=\"M0 0h24v24H0V0z\" fill=\"none\"/>\n",
              "    <path d=\"M18.56 5.44l.94 2.06.94-2.06 2.06-.94-2.06-.94-.94-2.06-.94 2.06-2.06.94zm-11 1L8.5 8.5l.94-2.06 2.06-.94-2.06-.94L8.5 2.5l-.94 2.06-2.06.94zm10 10l.94 2.06.94-2.06 2.06-.94-2.06-.94-.94-2.06-.94 2.06-2.06.94z\"/><path d=\"M17.41 7.96l-1.37-1.37c-.4-.4-.92-.59-1.43-.59-.52 0-1.04.2-1.43.59L10.3 9.45l-7.72 7.72c-.78.78-.78 2.05 0 2.83L4 21.41c.39.39.9.59 1.41.59.51 0 1.02-.2 1.41-.59l7.78-7.78 2.81-2.81c.8-.78.8-2.07 0-2.86zM5.41 20L4 18.59l7.72-7.72 1.47 1.35L5.41 20z\"/>\n",
              "  </svg>\n",
              "      </button>\n",
              "      \n",
              "  <style>\n",
              "    .colab-df-container {\n",
              "      display:flex;\n",
              "      flex-wrap:wrap;\n",
              "      gap: 12px;\n",
              "    }\n",
              "\n",
              "    .colab-df-convert {\n",
              "      background-color: #E8F0FE;\n",
              "      border: none;\n",
              "      border-radius: 50%;\n",
              "      cursor: pointer;\n",
              "      display: none;\n",
              "      fill: #1967D2;\n",
              "      height: 32px;\n",
              "      padding: 0 0 0 0;\n",
              "      width: 32px;\n",
              "    }\n",
              "\n",
              "    .colab-df-convert:hover {\n",
              "      background-color: #E2EBFA;\n",
              "      box-shadow: 0px 1px 2px rgba(60, 64, 67, 0.3), 0px 1px 3px 1px rgba(60, 64, 67, 0.15);\n",
              "      fill: #174EA6;\n",
              "    }\n",
              "\n",
              "    [theme=dark] .colab-df-convert {\n",
              "      background-color: #3B4455;\n",
              "      fill: #D2E3FC;\n",
              "    }\n",
              "\n",
              "    [theme=dark] .colab-df-convert:hover {\n",
              "      background-color: #434B5C;\n",
              "      box-shadow: 0px 1px 3px 1px rgba(0, 0, 0, 0.15);\n",
              "      filter: drop-shadow(0px 1px 2px rgba(0, 0, 0, 0.3));\n",
              "      fill: #FFFFFF;\n",
              "    }\n",
              "  </style>\n",
              "\n",
              "      <script>\n",
              "        const buttonEl =\n",
              "          document.querySelector('#df-59986b49-8d33-4456-8bbd-3ff503ac8706 button.colab-df-convert');\n",
              "        buttonEl.style.display =\n",
              "          google.colab.kernel.accessAllowed ? 'block' : 'none';\n",
              "\n",
              "        async function convertToInteractive(key) {\n",
              "          const element = document.querySelector('#df-59986b49-8d33-4456-8bbd-3ff503ac8706');\n",
              "          const dataTable =\n",
              "            await google.colab.kernel.invokeFunction('convertToInteractive',\n",
              "                                                     [key], {});\n",
              "          if (!dataTable) return;\n",
              "\n",
              "          const docLinkHtml = 'Like what you see? Visit the ' +\n",
              "            '<a target=\"_blank\" href=https://colab.research.google.com/notebooks/data_table.ipynb>data table notebook</a>'\n",
              "            + ' to learn more about interactive tables.';\n",
              "          element.innerHTML = '';\n",
              "          dataTable['output_type'] = 'display_data';\n",
              "          await google.colab.output.renderOutput(dataTable, element);\n",
              "          const docLink = document.createElement('div');\n",
              "          docLink.innerHTML = docLinkHtml;\n",
              "          element.appendChild(docLink);\n",
              "        }\n",
              "      </script>\n",
              "    </div>\n",
              "  </div>\n",
              "  "
            ],
            "text/plain": [
              "       Brand   Model  Engine    Segment  Year   Mileage       Province  \\\n",
              "2759  Toyota    Vios     1.5  B-Segment  2015   62639.0  กรุงเทพมหานคร   \n",
              "2846  Toyota   Altis     1.6  C-Segment  2015   65615.0          สงขลา   \n",
              "6682   Honda   Civic     2.0  C-Segment  2007  203000.0      สิงห์บุรี   \n",
              "3262  Toyota   Yaris     1.2    Eco Car  2014  124007.0        ราชบุรี   \n",
              "486    Mazda  Mazda2     1.3  B-Segment  2019   51957.0  กรุงเทพมหานคร   \n",
              "3616  Nissan  Sylphy     1.6  C-Segment  2013  120000.0        นนทบุรี   \n",
              "3590  Nissan  Almera     1.2    Eco Car  2013  130000.0      เชียงใหม่   \n",
              "3246  Toyota    Vios     1.5  B-Segment  2014   80000.0      เชียงใหม่   \n",
              "6503  Nissan   Tiida     1.6  C-Segment  2007  140000.0        นนทบุรี   \n",
              "7209   Honda    City     1.5  B-Segment  2003  166508.0  นครศรีธรรมราช   \n",
              "\n",
              "         Price   Color     Pred_Price  \n",
              "2759  338000.0    Gray  344962.656250  \n",
              "2846  385000.0  Silver  383691.812500  \n",
              "6682  295000.0    Gray  259230.906250  \n",
              "3262  339000.0   White  335311.125000  \n",
              "486   439000.0    Blue  423414.843750  \n",
              "3616  219000.0   Black  257852.734375  \n",
              "3590  199000.0   Black  238516.500000  \n",
              "3246  329000.0   Black  322409.781250  \n",
              "6503  128000.0   Black   97730.382812  \n",
              "7209  129000.0    Gold  164385.984375  "
            ]
          },
          "execution_count": 39,
          "metadata": {},
          "output_type": "execute_result"
        }
      ],
      "source": [
        "df_test.head(10)"
      ]
    },
    {
      "cell_type": "code",
      "execution_count": 40,
      "metadata": {
        "colab": {
          "base_uri": "https://localhost:8080/",
          "height": 295
        },
        "id": "kuSPPF0PieyV",
        "outputId": "adb93ef1-a2d1-4f0c-bc10-968c91bc9f6a"
      },
      "outputs": [
        {
          "data": {
            "image/png": "[encoded data removed]",
            "text/plain": [
              "<Figure size 432x288 with 1 Axes>"
            ]
          },
          "metadata": {
            "needs_background": "light"
          },
          "output_type": "display_data"
        }
      ],
      "source": [
        "plt.plot([0, 1_000_000], [0, 1_000_000], color=\"black\", alpha=0.5, linestyle=\"--\")\n",
        "\n",
        "plt.scatter(df_test[\"Pred_Price\"].values, df_test[\"Price\"], alpha=0.2)\n",
        "plt.xlabel(\"Predictions (Baht)\")\n",
        "plt.ylabel(\"Actual (Baht)\")\n",
        "plt.title(\"Predictions vs Actual\")\n",
        "\n",
        "plt.xlim(0, 1_000_000)\n",
        "plt.ylim(0, 1_000_000)\n",
        "plt.show()"
      ]
    }
  ],
  "metadata": {
    "accelerator": "GPU",
    "colab": {
      "provenance": []
    },
    "gpuClass": "standard",
    "kernelspec": {
      "display_name": "Python 3.7.5 ('ml-agents')",
      "language": "python",
      "name": "python3"
    },
    "language_info": {
      "codemirror_mode": {
        "name": "ipython",
        "version": 3
      },
      "file_extension": ".py",
      "mimetype": "text/x-python",
      "name": "python",
      "nbconvert_exporter": "python",
      "pygments_lexer": "ipython3",
      "version": "3.7.5"
    },
    "vscode": {
      "interpreter": {
        "hash": "94499b8ebe41d82c56ca741edd2212fa3535c1025402838f7d8b62fb6e0f95b1"
      }
    },
    "widgets": {
      "application/vnd.jupyter.widget-state+json": {
        "11cbd216171b430e95c95103dab77ee1": {
          "model_module": "@jupyter-widgets/controls",
          "model_module_version": "1.5.0",
          "model_name": "ProgressStyleModel",
          "state": {
            "_model_module": "@jupyter-widgets/controls",
            "_model_module_version": "1.5.0",
            "_model_name": "ProgressStyleModel",
            "_view_count": null,
            "_view_module": "@jupyter-widgets/base",
            "_view_module_version": "1.2.0",
            "_view_name": "StyleView",
            "bar_color": null,
            "description_width": ""
          }
        },
        "2020fa41919f49b28ab61f634146b682": {
          "model_module": "@jupyter-widgets/controls",
          "model_module_version": "1.5.0",
          "model_name": "HTMLModel",
          "state": {
            "_dom_classes": [],
            "_model_module": "@jupyter-widgets/controls",
            "_model_module_version": "1.5.0",
            "_model_name": "HTMLModel",
            "_view_count": null,
            "_view_module": "@jupyter-widgets/controls",
            "_view_module_version": "1.5.0",
            "_view_name": "HTMLView",
            "description": "",
            "description_tooltip": null,
            "layout": "IPY_MODEL_2c2b78c479ae486a9a14eb8ea98b2881",
            "placeholder": "​",
            "style": "IPY_MODEL_fca03deb76264e99a1af34f2f285adb9",
            "value": " 120/120 [00:18&lt;00:00,  6.23it/s]"
          }
        },
        "2c2b78c479ae486a9a14eb8ea98b2881": {
          "model_module": "@jupyter-widgets/base",
          "model_module_version": "1.2.0",
          "model_name": "LayoutModel",
          "state": {
            "_model_module": "@jupyter-widgets/base",
            "_model_module_version": "1.2.0",
            "_model_name": "LayoutModel",
            "_view_count": null,
            "_view_module": "@jupyter-widgets/base",
            "_view_module_version": "1.2.0",
            "_view_name": "LayoutView",
            "align_content": null,
            "align_items": null,
            "align_self": null,
            "border": null,
            "bottom": null,
            "display": null,
            "flex": null,
            "flex_flow": null,
            "grid_area": null,
            "grid_auto_columns": null,
            "grid_auto_flow": null,
            "grid_auto_rows": null,
            "grid_column": null,
            "grid_gap": null,
            "grid_row": null,
            "grid_template_areas": null,
            "grid_template_columns": null,
            "grid_template_rows": null,
            "height": null,
            "justify_content": null,
            "justify_items": null,
            "left": null,
            "margin": null,
            "max_height": null,
            "max_width": null,
            "min_height": null,
            "min_width": null,
            "object_fit": null,
            "object_position": null,
            "order": null,
            "overflow": null,
            "overflow_x": null,
            "overflow_y": null,
            "padding": null,
            "right": null,
            "top": null,
            "visibility": null,
            "width": null
          }
        },
        "4005334f853c49c794e99086c996716f": {
          "model_module": "@jupyter-widgets/controls",
          "model_module_version": "1.5.0",
          "model_name": "HTMLModel",
          "state": {
            "_dom_classes": [],
            "_model_module": "@jupyter-widgets/controls",
            "_model_module_version": "1.5.0",
            "_model_name": "HTMLModel",
            "_view_count": null,
            "_view_module": "@jupyter-widgets/controls",
            "_view_module_version": "1.5.0",
            "_view_name": "HTMLView",
            "description": "",
            "description_tooltip": null,
            "layout": "IPY_MODEL_99c3efdd7dc640b78d342bcd0c2a7b87",
            "placeholder": "​",
            "style": "IPY_MODEL_8b81b52a6ff544f8a8f22e64fd4b159e",
            "value": "100%"
          }
        },
        "495568cbc1664ac6a8a5b77e1cc8cd48": {
          "model_module": "@jupyter-widgets/controls",
          "model_module_version": "1.5.0",
          "model_name": "ProgressStyleModel",
          "state": {
            "_model_module": "@jupyter-widgets/controls",
            "_model_module_version": "1.5.0",
            "_model_name": "ProgressStyleModel",
            "_view_count": null,
            "_view_module": "@jupyter-widgets/base",
            "_view_module_version": "1.2.0",
            "_view_name": "StyleView",
            "bar_color": null,
            "description_width": ""
          }
        },
        "4c34336713f24230bad8a7b1471b4bf1": {
          "model_module": "@jupyter-widgets/base",
          "model_module_version": "1.2.0",
          "model_name": "LayoutModel",
          "state": {
            "_model_module": "@jupyter-widgets/base",
            "_model_module_version": "1.2.0",
            "_model_name": "LayoutModel",
            "_view_count": null,
            "_view_module": "@jupyter-widgets/base",
            "_view_module_version": "1.2.0",
            "_view_name": "LayoutView",
            "align_content": null,
            "align_items": null,
            "align_self": null,
            "border": null,
            "bottom": null,
            "display": null,
            "flex": null,
            "flex_flow": null,
            "grid_area": null,
            "grid_auto_columns": null,
            "grid_auto_flow": null,
            "grid_auto_rows": null,
            "grid_column": null,
            "grid_gap": null,
            "grid_row": null,
            "grid_template_areas": null,
            "grid_template_columns": null,
            "grid_template_rows": null,
            "height": null,
            "justify_content": null,
            "justify_items": null,
            "left": null,
            "margin": null,
            "max_height": null,
            "max_width": null,
            "min_height": null,
            "min_width": null,
            "object_fit": null,
            "object_position": null,
            "order": null,
            "overflow": null,
            "overflow_x": null,
            "overflow_y": null,
            "padding": null,
            "right": null,
            "top": null,
            "visibility": null,
            "width": null
          }
        },
        "547d9221039141588b925bf855c7ed55": {
          "model_module": "@jupyter-widgets/controls",
          "model_module_version": "1.5.0",
          "model_name": "DescriptionStyleModel",
          "state": {
            "_model_module": "@jupyter-widgets/controls",
            "_model_module_version": "1.5.0",
            "_model_name": "DescriptionStyleModel",
            "_view_count": null,
            "_view_module": "@jupyter-widgets/base",
            "_view_module_version": "1.2.0",
            "_view_name": "StyleView",
            "description_width": ""
          }
        },
        "5a4fbcd15cce4ea19f7f355cbb5cdd4e": {
          "model_module": "@jupyter-widgets/base",
          "model_module_version": "1.2.0",
          "model_name": "LayoutModel",
          "state": {
            "_model_module": "@jupyter-widgets/base",
            "_model_module_version": "1.2.0",
            "_model_name": "LayoutModel",
            "_view_count": null,
            "_view_module": "@jupyter-widgets/base",
            "_view_module_version": "1.2.0",
            "_view_name": "LayoutView",
            "align_content": null,
            "align_items": null,
            "align_self": null,
            "border": null,
            "bottom": null,
            "display": null,
            "flex": null,
            "flex_flow": null,
            "grid_area": null,
            "grid_auto_columns": null,
            "grid_auto_flow": null,
            "grid_auto_rows": null,
            "grid_column": null,
            "grid_gap": null,
            "grid_row": null,
            "grid_template_areas": null,
            "grid_template_columns": null,
            "grid_template_rows": null,
            "height": null,
            "justify_content": null,
            "justify_items": null,
            "left": null,
            "margin": null,
            "max_height": null,
            "max_width": null,
            "min_height": null,
            "min_width": null,
            "object_fit": null,
            "object_position": null,
            "order": null,
            "overflow": null,
            "overflow_x": null,
            "overflow_y": null,
            "padding": null,
            "right": null,
            "top": null,
            "visibility": null,
            "width": null
          }
        },
        "6e38a231400a4d8184f8995089154e9e": {
          "model_module": "@jupyter-widgets/controls",
          "model_module_version": "1.5.0",
          "model_name": "HTMLModel",
          "state": {
            "_dom_classes": [],
            "_model_module": "@jupyter-widgets/controls",
            "_model_module_version": "1.5.0",
            "_model_name": "HTMLModel",
            "_view_count": null,
            "_view_module": "@jupyter-widgets/controls",
            "_view_module_version": "1.5.0",
            "_view_name": "HTMLView",
            "description": "",
            "description_tooltip": null,
            "layout": "IPY_MODEL_ea2800ef0bbb4044b3944fe001c639cf",
            "placeholder": "​",
            "style": "IPY_MODEL_547d9221039141588b925bf855c7ed55",
            "value": " 120/120 [00:24&lt;00:00,  4.85it/s]"
          }
        },
        "6e6cb9d638bd4e39af7774bb39f17fa4": {
          "model_module": "@jupyter-widgets/controls",
          "model_module_version": "1.5.0",
          "model_name": "HTMLModel",
          "state": {
            "_dom_classes": [],
            "_model_module": "@jupyter-widgets/controls",
            "_model_module_version": "1.5.0",
            "_model_name": "HTMLModel",
            "_view_count": null,
            "_view_module": "@jupyter-widgets/controls",
            "_view_module_version": "1.5.0",
            "_view_name": "HTMLView",
            "description": "",
            "description_tooltip": null,
            "layout": "IPY_MODEL_5a4fbcd15cce4ea19f7f355cbb5cdd4e",
            "placeholder": "​",
            "style": "IPY_MODEL_d83352cc0142402c94e78289785e5a4c",
            "value": "100%"
          }
        },
        "7a6324aba02541d98337899a74573465": {
          "model_module": "@jupyter-widgets/base",
          "model_module_version": "1.2.0",
          "model_name": "LayoutModel",
          "state": {
            "_model_module": "@jupyter-widgets/base",
            "_model_module_version": "1.2.0",
            "_model_name": "LayoutModel",
            "_view_count": null,
            "_view_module": "@jupyter-widgets/base",
            "_view_module_version": "1.2.0",
            "_view_name": "LayoutView",
            "align_content": null,
            "align_items": null,
            "align_self": null,
            "border": null,
            "bottom": null,
            "display": null,
            "flex": null,
            "flex_flow": null,
            "grid_area": null,
            "grid_auto_columns": null,
            "grid_auto_flow": null,
            "grid_auto_rows": null,
            "grid_column": null,
            "grid_gap": null,
            "grid_row": null,
            "grid_template_areas": null,
            "grid_template_columns": null,
            "grid_template_rows": null,
            "height": null,
            "justify_content": null,
            "justify_items": null,
            "left": null,
            "margin": null,
            "max_height": null,
            "max_width": null,
            "min_height": null,
            "min_width": null,
            "object_fit": null,
            "object_position": null,
            "order": null,
            "overflow": null,
            "overflow_x": null,
            "overflow_y": null,
            "padding": null,
            "right": null,
            "top": null,
            "visibility": null,
            "width": null
          }
        },
        "7ced79ceb04a4e7cb21136d39d0707f3": {
          "model_module": "@jupyter-widgets/base",
          "model_module_version": "1.2.0",
          "model_name": "LayoutModel",
          "state": {
            "_model_module": "@jupyter-widgets/base",
            "_model_module_version": "1.2.0",
            "_model_name": "LayoutModel",
            "_view_count": null,
            "_view_module": "@jupyter-widgets/base",
            "_view_module_version": "1.2.0",
            "_view_name": "LayoutView",
            "align_content": null,
            "align_items": null,
            "align_self": null,
            "border": null,
            "bottom": null,
            "display": null,
            "flex": null,
            "flex_flow": null,
            "grid_area": null,
            "grid_auto_columns": null,
            "grid_auto_flow": null,
            "grid_auto_rows": null,
            "grid_column": null,
            "grid_gap": null,
            "grid_row": null,
            "grid_template_areas": null,
            "grid_template_columns": null,
            "grid_template_rows": null,
            "height": null,
            "justify_content": null,
            "justify_items": null,
            "left": null,
            "margin": null,
            "max_height": null,
            "max_width": null,
            "min_height": null,
            "min_width": null,
            "object_fit": null,
            "object_position": null,
            "order": null,
            "overflow": null,
            "overflow_x": null,
            "overflow_y": null,
            "padding": null,
            "right": null,
            "top": null,
            "visibility": null,
            "width": null
          }
        },
        "8b81b52a6ff544f8a8f22e64fd4b159e": {
          "model_module": "@jupyter-widgets/controls",
          "model_module_version": "1.5.0",
          "model_name": "DescriptionStyleModel",
          "state": {
            "_model_module": "@jupyter-widgets/controls",
            "_model_module_version": "1.5.0",
            "_model_name": "DescriptionStyleModel",
            "_view_count": null,
            "_view_module": "@jupyter-widgets/base",
            "_view_module_version": "1.2.0",
            "_view_name": "StyleView",
            "description_width": ""
          }
        },
        "921e672d971e4c1c8f55a415ad3159f8": {
          "model_module": "@jupyter-widgets/controls",
          "model_module_version": "1.5.0",
          "model_name": "HBoxModel",
          "state": {
            "_dom_classes": [],
            "_model_module": "@jupyter-widgets/controls",
            "_model_module_version": "1.5.0",
            "_model_name": "HBoxModel",
            "_view_count": null,
            "_view_module": "@jupyter-widgets/controls",
            "_view_module_version": "1.5.0",
            "_view_name": "HBoxView",
            "box_style": "",
            "children": [
              "IPY_MODEL_4005334f853c49c794e99086c996716f",
              "IPY_MODEL_a3fc1231fe284a4da02640fa6f556f42",
              "IPY_MODEL_2020fa41919f49b28ab61f634146b682"
            ],
            "layout": "IPY_MODEL_ca11094074a2468b8a782011a61dff69"
          }
        },
        "9568c402609d4d5f9fc53e35429902ff": {
          "model_module": "@jupyter-widgets/controls",
          "model_module_version": "1.5.0",
          "model_name": "FloatProgressModel",
          "state": {
            "_dom_classes": [],
            "_model_module": "@jupyter-widgets/controls",
            "_model_module_version": "1.5.0",
            "_model_name": "FloatProgressModel",
            "_view_count": null,
            "_view_module": "@jupyter-widgets/controls",
            "_view_module_version": "1.5.0",
            "_view_name": "ProgressView",
            "bar_style": "success",
            "description": "",
            "description_tooltip": null,
            "layout": "IPY_MODEL_7a6324aba02541d98337899a74573465",
            "max": 120,
            "min": 0,
            "orientation": "horizontal",
            "style": "IPY_MODEL_495568cbc1664ac6a8a5b77e1cc8cd48",
            "value": 120
          }
        },
        "99c3efdd7dc640b78d342bcd0c2a7b87": {
          "model_module": "@jupyter-widgets/base",
          "model_module_version": "1.2.0",
          "model_name": "LayoutModel",
          "state": {
            "_model_module": "@jupyter-widgets/base",
            "_model_module_version": "1.2.0",
            "_model_name": "LayoutModel",
            "_view_count": null,
            "_view_module": "@jupyter-widgets/base",
            "_view_module_version": "1.2.0",
            "_view_name": "LayoutView",
            "align_content": null,
            "align_items": null,
            "align_self": null,
            "border": null,
            "bottom": null,
            "display": null,
            "flex": null,
            "flex_flow": null,
            "grid_area": null,
            "grid_auto_columns": null,
            "grid_auto_flow": null,
            "grid_auto_rows": null,
            "grid_column": null,
            "grid_gap": null,
            "grid_row": null,
            "grid_template_areas": null,
            "grid_template_columns": null,
            "grid_template_rows": null,
            "height": null,
            "justify_content": null,
            "justify_items": null,
            "left": null,
            "margin": null,
            "max_height": null,
            "max_width": null,
            "min_height": null,
            "min_width": null,
            "object_fit": null,
            "object_position": null,
            "order": null,
            "overflow": null,
            "overflow_x": null,
            "overflow_y": null,
            "padding": null,
            "right": null,
            "top": null,
            "visibility": null,
            "width": null
          }
        },
        "a3fc1231fe284a4da02640fa6f556f42": {
          "model_module": "@jupyter-widgets/controls",
          "model_module_version": "1.5.0",
          "model_name": "FloatProgressModel",
          "state": {
            "_dom_classes": [],
            "_model_module": "@jupyter-widgets/controls",
            "_model_module_version": "1.5.0",
            "_model_name": "FloatProgressModel",
            "_view_count": null,
            "_view_module": "@jupyter-widgets/controls",
            "_view_module_version": "1.5.0",
            "_view_name": "ProgressView",
            "bar_style": "success",
            "description": "",
            "description_tooltip": null,
            "layout": "IPY_MODEL_7ced79ceb04a4e7cb21136d39d0707f3",
            "max": 120,
            "min": 0,
            "orientation": "horizontal",
            "style": "IPY_MODEL_11cbd216171b430e95c95103dab77ee1",
            "value": 120
          }
        },
        "ca11094074a2468b8a782011a61dff69": {
          "model_module": "@jupyter-widgets/base",
          "model_module_version": "1.2.0",
          "model_name": "LayoutModel",
          "state": {
            "_model_module": "@jupyter-widgets/base",
            "_model_module_version": "1.2.0",
            "_model_name": "LayoutModel",
            "_view_count": null,
            "_view_module": "@jupyter-widgets/base",
            "_view_module_version": "1.2.0",
            "_view_name": "LayoutView",
            "align_content": null,
            "align_items": null,
            "align_self": null,
            "border": null,
            "bottom": null,
            "display": null,
            "flex": null,
            "flex_flow": null,
            "grid_area": null,
            "grid_auto_columns": null,
            "grid_auto_flow": null,
            "grid_auto_rows": null,
            "grid_column": null,
            "grid_gap": null,
            "grid_row": null,
            "grid_template_areas": null,
            "grid_template_columns": null,
            "grid_template_rows": null,
            "height": null,
            "justify_content": null,
            "justify_items": null,
            "left": null,
            "margin": null,
            "max_height": null,
            "max_width": null,
            "min_height": null,
            "min_width": null,
            "object_fit": null,
            "object_position": null,
            "order": null,
            "overflow": null,
            "overflow_x": null,
            "overflow_y": null,
            "padding": null,
            "right": null,
            "top": null,
            "visibility": null,
            "width": null
          }
        },
        "d83352cc0142402c94e78289785e5a4c": {
          "model_module": "@jupyter-widgets/controls",
          "model_module_version": "1.5.0",
          "model_name": "DescriptionStyleModel",
          "state": {
            "_model_module": "@jupyter-widgets/controls",
            "_model_module_version": "1.5.0",
            "_model_name": "DescriptionStyleModel",
            "_view_count": null,
            "_view_module": "@jupyter-widgets/base",
            "_view_module_version": "1.2.0",
            "_view_name": "StyleView",
            "description_width": ""
          }
        },
        "ea2800ef0bbb4044b3944fe001c639cf": {
          "model_module": "@jupyter-widgets/base",
          "model_module_version": "1.2.0",
          "model_name": "LayoutModel",
          "state": {
            "_model_module": "@jupyter-widgets/base",
            "_model_module_version": "1.2.0",
            "_model_name": "LayoutModel",
            "_view_count": null,
            "_view_module": "@jupyter-widgets/base",
            "_view_module_version": "1.2.0",
            "_view_name": "LayoutView",
            "align_content": null,
            "align_items": null,
            "align_self": null,
            "border": null,
            "bottom": null,
            "display": null,
            "flex": null,
            "flex_flow": null,
            "grid_area": null,
            "grid_auto_columns": null,
            "grid_auto_flow": null,
            "grid_auto_rows": null,
            "grid_column": null,
            "grid_gap": null,
            "grid_row": null,
            "grid_template_areas": null,
            "grid_template_columns": null,
            "grid_template_rows": null,
            "height": null,
            "justify_content": null,
            "justify_items": null,
            "left": null,
            "margin": null,
            "max_height": null,
            "max_width": null,
            "min_height": null,
            "min_width": null,
            "object_fit": null,
            "object_position": null,
            "order": null,
            "overflow": null,
            "overflow_x": null,
            "overflow_y": null,
            "padding": null,
            "right": null,
            "top": null,
            "visibility": null,
            "width": null
          }
        },
        "ec3de2bb1e5248d38d1656e742c510be": {
          "model_module": "@jupyter-widgets/controls",
          "model_module_version": "1.5.0",
          "model_name": "HBoxModel",
          "state": {
            "_dom_classes": [],
            "_model_module": "@jupyter-widgets/controls",
            "_model_module_version": "1.5.0",
            "_model_name": "HBoxModel",
            "_view_count": null,
            "_view_module": "@jupyter-widgets/controls",
            "_view_module_version": "1.5.0",
            "_view_name": "HBoxView",
            "box_style": "",
            "children": [
              "IPY_MODEL_6e6cb9d638bd4e39af7774bb39f17fa4",
              "IPY_MODEL_9568c402609d4d5f9fc53e35429902ff",
              "IPY_MODEL_6e38a231400a4d8184f8995089154e9e"
            ],
            "layout": "IPY_MODEL_4c34336713f24230bad8a7b1471b4bf1"
          }
        },
        "fca03deb76264e99a1af34f2f285adb9": {
          "model_module": "@jupyter-widgets/controls",
          "model_module_version": "1.5.0",
          "model_name": "DescriptionStyleModel",
          "state": {
            "_model_module": "@jupyter-widgets/controls",
            "_model_module_version": "1.5.0",
            "_model_name": "DescriptionStyleModel",
            "_view_count": null,
            "_view_module": "@jupyter-widgets/base",
            "_view_module_version": "1.2.0",
            "_view_name": "StyleView",
            "description_width": ""
          }
        }
      }
    }
  },
  "nbformat": 4,
  "nbformat_minor": 0
}
