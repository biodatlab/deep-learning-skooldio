{
  "cells": [
    {
      "cell_type": "markdown",
      "id": "cfc52381",
      "metadata": {
        "id": "cfc52381"
      },
      "source": [
        "[![Open in Colab](https://colab.research.google.com/assets/colab-badge.svg)](https://colab.research.google.com/github/biodatlab/deep-learning-skooldio/blob/master/03_handwritten_recognition_explore.ipynb)\n",
        "\n",
        "## **Thai-digit handwritten classification with Pytorch: Exploration**\n",
        "\n",
        "This notebook contains exploration of the \"Thai-digit handwritten classification\" including\n",
        "- Customize model\n",
        "    - Adding layers\n",
        "    - Adding dropout layer\n",
        "- Adding data augmentation"
      ]
    },
    {
      "cell_type": "markdown",
      "id": "3aa56f94",
      "metadata": {
        "id": "3aa56f94"
      },
      "source": [
        "## **Download and clean the dataset from the repository**\n",
        "\n",
        "- We have downloaded the data from https://github.com/kittinan/thai-handwriting-number by cloning the repository\n",
        "- Remove files that have character mismatch (as suggested by the the creator)\n",
        "- Then, we put the cleaned data at https://github.com/biodatlab/deep-learning-skooldio"
      ]
    },
    {
      "cell_type": "code",
      "execution_count": 1,
      "id": "f7deb2f6",
      "metadata": {
        "colab": {
          "base_uri": "https://localhost:8080/"
        },
        "id": "f7deb2f6",
        "outputId": "cda2ea3d-89e9-4227-d161-39ea73c22219"
      },
      "outputs": [
        {
          "output_type": "stream",
          "name": "stdout",
          "text": [
            "Cloning into 'deep-learning-skooldio'...\n",
            "remote: Enumerating objects: 1815, done.\u001b[K\n",
            "remote: Counting objects: 100% (1815/1815), done.\u001b[K\n",
            "remote: Compressing objects: 100% (1778/1778), done.\u001b[K\n",
            "remote: Total 1815 (delta 63), reused 1782 (delta 37), pack-reused 0\u001b[K\n",
            "Receiving objects: 100% (1815/1815), 13.39 MiB | 29.18 MiB/s, done.\n",
            "Resolving deltas: 100% (63/63), done.\n"
          ]
        }
      ],
      "source": [
        "!git clone https://github.com/biodatlab/deep-learning-skooldio"
      ]
    },
    {
      "cell_type": "code",
      "execution_count": 3,
      "id": "2ad2a443",
      "metadata": {
        "id": "2ad2a443"
      },
      "outputs": [],
      "source": [
        "import os\n",
        "import os.path as op\n",
        "from glob import glob\n",
        "from pathlib import Path\n",
        "import random\n",
        "from PIL import Image\n",
        "from collections import Counter\n",
        "from torch.utils.data import ConcatDataset\n",
        "from sklearn.metrics import confusion_matrix, ConfusionMatrixDisplay"
      ]
    },
    {
      "cell_type": "code",
      "execution_count": 4,
      "id": "64ce2573",
      "metadata": {
        "id": "64ce2573",
        "colab": {
          "base_uri": "https://localhost:8080/"
        },
        "outputId": "40ba6fd2-2ad8-46d4-a8a0-39b4b1160b38"
      },
      "outputs": [
        {
          "output_type": "stream",
          "name": "stdout",
          "text": [
            "Number of samples 1750\n"
          ]
        }
      ],
      "source": [
        "directory = \"deep-learning-skooldio/\"\n",
        "paths = glob(op.join(directory, \"thai-handwritten-dataset\", \"*\", \"*\"))\n",
        "num_samples = len(paths)\n",
        "print(\"Number of samples\", num_samples)"
      ]
    },
    {
      "cell_type": "code",
      "execution_count": 5,
      "id": "6aa0f5b4",
      "metadata": {
        "id": "6aa0f5b4"
      },
      "outputs": [],
      "source": [
        "from tqdm.auto import tqdm\n",
        "from sklearn.model_selection import train_test_split\n",
        "import shutil\n",
        "\n",
        "train_paths, test_paths = train_test_split(paths, test_size=0.1, random_state=42)\n",
        "for i in range(10):\n",
        "    os.makedirs(f\"data/train/{i}\", exist_ok=True)\n",
        "    os.makedirs(f\"data/validation/{i}\", exist_ok=True)"
      ]
    },
    {
      "cell_type": "code",
      "execution_count": 6,
      "id": "fe1d237b",
      "metadata": {
        "id": "fe1d237b"
      },
      "outputs": [],
      "source": [
        "def copy_to_destination(src_paths, dst_path: str = \"data/train/\"):\n",
        "    for path in tqdm(src_paths):\n",
        "        path = Path(path)\n",
        "        if path.parent.name == \"10\":\n",
        "            parent_dir = \"0\"\n",
        "        else:\n",
        "            parent_dir = path.parent.name\n",
        "        shutil.copy(path, op.join(dst_path, parent_dir, path.name))"
      ]
    },
    {
      "cell_type": "code",
      "execution_count": 7,
      "id": "af9064ae",
      "metadata": {
        "colab": {
          "base_uri": "https://localhost:8080/",
          "height": 81,
          "referenced_widgets": [
            "8f7855ac77b945c3ae4a1491e44fd690",
            "3060310cd9394269855b3e41520b27fd",
            "d99b30c950034e6c99ef4f4e6626b08c",
            "8e72355a6d7e4db7aae698e24488ea2c",
            "e1fd0e30b42d4fc19c8dbda4a9985d38",
            "0f553e0af94c4a54aaa80783b5397aa5",
            "a1c37ec8e07942778663affbf9851768",
            "ad2289d62c7946e0b8e8c88f5a9d7f96",
            "5e4002ecd7b04cd68c9be1bca5debf07",
            "c2f32fc4c1324d52ac57fdee894ea0c4",
            "78599379280c41f9a96510777e2aa8eb",
            "1b61136b38ad4173904f02a7fe112446",
            "b6bd3ecd7ed945e9bd0d7b7e9643cac6",
            "858da27ddece45fa99692bb83cea2f00",
            "64f87b04f3b54a748f73646a834ead29",
            "c806315ca35841e88a06e5da0d7a2873",
            "3e2e4ca14eb44b068892f3e6606d6706",
            "aa7c83df8479471d8ca4babf3af92358",
            "67f3bed6013e4df394cd055375d1f67c",
            "634ffed818a34cdc9ebf2f730cdf67ee",
            "10597e1de7ba4cdaa04ec20f3cb86e7f",
            "2cab18f0a7154590b1af25c176a3e0ad"
          ]
        },
        "id": "af9064ae",
        "outputId": "726b8157-ae0c-4dae-8a39-d3c0501be793"
      },
      "outputs": [
        {
          "output_type": "display_data",
          "data": {
            "text/plain": [
              "  0%|          | 0/1575 [00:00<?, ?it/s]"
            ],
            "application/vnd.jupyter.widget-view+json": {
              "version_major": 2,
              "version_minor": 0,
              "model_id": "8f7855ac77b945c3ae4a1491e44fd690"
            }
          },
          "metadata": {}
        },
        {
          "output_type": "display_data",
          "data": {
            "text/plain": [
              "  0%|          | 0/175 [00:00<?, ?it/s]"
            ],
            "application/vnd.jupyter.widget-view+json": {
              "version_major": 2,
              "version_minor": 0,
              "model_id": "1b61136b38ad4173904f02a7fe112446"
            }
          },
          "metadata": {}
        }
      ],
      "source": [
        "copy_to_destination(train_paths, \"data/train/\")\n",
        "copy_to_destination(test_paths, \"data/validation/\")"
      ]
    },
    {
      "cell_type": "markdown",
      "id": "ae55f494",
      "metadata": {
        "id": "ae55f494"
      },
      "source": [
        "## **Create a custom dataset and a dataloader**"
      ]
    },
    {
      "cell_type": "code",
      "execution_count": 8,
      "id": "d0b69d68",
      "metadata": {
        "id": "d0b69d68"
      },
      "outputs": [],
      "source": [
        "import torch\n",
        "from torch.utils.data import Dataset, DataLoader\n",
        "from torchvision import transforms\n",
        "import matplotlib.pyplot as plt\n",
        "import pandas as pd"
      ]
    },
    {
      "cell_type": "code",
      "execution_count": 9,
      "id": "2dbd4be3",
      "metadata": {
        "id": "2dbd4be3"
      },
      "outputs": [],
      "source": [
        "transform = transforms.Compose([\n",
        "    transforms.Resize((28, 28)),\n",
        "    transforms.Grayscale(),\n",
        "    transforms.ToTensor()\n",
        "])"
      ]
    },
    {
      "cell_type": "code",
      "execution_count": 10,
      "id": "yyAx23w8PFLU",
      "metadata": {
        "id": "yyAx23w8PFLU",
        "colab": {
          "base_uri": "https://localhost:8080/"
        },
        "outputId": "d35885f7-d716-41c2-883c-032ece5f694b"
      },
      "outputs": [
        {
          "output_type": "stream",
          "name": "stdout",
          "text": [
            "Number of train images = (1575, 2), number of validation images = (175, 2),\n"
          ]
        }
      ],
      "source": [
        "# Create dataframe\n",
        "train_df = pd.DataFrame({\"path\": glob(\"data/train/*/*\")})\n",
        "val_df = pd.DataFrame({\"path\": glob(\"data/validation/*/*\")})\n",
        "\n",
        "# Create text column from path\n",
        "train_df[\"text\"] = train_df[\"path\"].apply(lambda x: int(Path(x).parent.name))\n",
        "val_df[\"text\"] = val_df[\"path\"].apply(lambda x: int(Path(x).parent.name))\n",
        "\n",
        "# Shape of dataframe\n",
        "print(\"Number of train images = {}, number of validation images = {},\".format(train_df.shape, val_df.shape))"
      ]
    },
    {
      "cell_type": "code",
      "execution_count": 11,
      "id": "09eb4140",
      "metadata": {
        "id": "09eb4140"
      },
      "outputs": [],
      "source": [
        "class ThaiDigitDataset(Dataset):\n",
        "    def __init__(self, dataframe, transform=None):\n",
        "        self.transform = transform\n",
        "        self.dataframe = dataframe\n",
        "\n",
        "    def __len__(self):\n",
        "        return len(self.dataframe)\n",
        "\n",
        "    def __getitem__(self, idx):\n",
        "        label = int(self.dataframe['text'][idx])\n",
        "        image = Image.open(self.dataframe['path'][idx])\n",
        "        if self.transform:\n",
        "            image = 1 - self.transform(image)\n",
        "        return image, label"
      ]
    },
    {
      "cell_type": "code",
      "execution_count": 12,
      "id": "f1175f91",
      "metadata": {
        "id": "f1175f91"
      },
      "outputs": [],
      "source": [
        "train_thaidigit_dataset = ThaiDigitDataset(train_df, transform=transform)\n",
        "val_thaidigit_dataset = ThaiDigitDataset(val_df, transform=transform)"
      ]
    },
    {
      "cell_type": "code",
      "execution_count": 13,
      "id": "d4f83af9",
      "metadata": {
        "id": "d4f83af9"
      },
      "outputs": [],
      "source": [
        "train_loader = DataLoader(train_thaidigit_dataset, batch_size=16, shuffle=True)\n",
        "val_loader = DataLoader(val_thaidigit_dataset, batch_size=16, shuffle=False)"
      ]
    },
    {
      "cell_type": "markdown",
      "id": "275542ac",
      "metadata": {
        "id": "275542ac"
      },
      "source": [
        "## **Create the model**"
      ]
    },
    {
      "cell_type": "code",
      "execution_count": 14,
      "id": "abbd30d0",
      "metadata": {
        "id": "abbd30d0"
      },
      "outputs": [],
      "source": [
        "import torch.nn as nn\n",
        "import torch.nn.functional as F\n",
        "\n",
        "class ThaiDigitNet(nn.Module):\n",
        "    def __init__(self):\n",
        "        super(ThaiDigitNet, self).__init__()\n",
        "        self.fc1 = nn.Linear(28 * 28, 100)\n",
        "        self.fc2 = nn.Linear(100, 10)\n",
        "\n",
        "    def forward(self, x):\n",
        "        x = x.view(-1, 28 * 28)\n",
        "        x = self.fc1(x)\n",
        "        x = F.relu(x)\n",
        "        x = self.fc2(x)\n",
        "        return x"
      ]
    },
    {
      "cell_type": "markdown",
      "id": "f0455ef9",
      "metadata": {
        "id": "f0455ef9"
      },
      "source": [
        "## **Train the model**"
      ]
    },
    {
      "cell_type": "code",
      "execution_count": 15,
      "id": "r61vWix7nfgl",
      "metadata": {
        "id": "r61vWix7nfgl"
      },
      "outputs": [],
      "source": [
        "# Create training loop function\n",
        "def train(model, n_epochs, loss_function, optimizer, train_loader, validation_loader):\n",
        "    training_logs = {\"train_loss\": [],  \"train_acc\": [], \"val_loss\": [], \"val_acc\": []}\n",
        "    print(\"-\"*80)\n",
        "    for epoch in range(1, n_epochs+1):\n",
        "        # training\n",
        "        model.train()\n",
        "        train_loss, correct = 0, 0\n",
        "        for images, labels in train_loader:\n",
        "            pred = model(images)\n",
        "            loss = loss_function(pred, labels)\n",
        "\n",
        "            optimizer.zero_grad()\n",
        "            loss.backward()\n",
        "            optimizer.step()\n",
        "\n",
        "            train_loss += loss.item()\n",
        "            correct += (pred.argmax(1) == labels).float().sum().item()\n",
        "        # save training logs\n",
        "        training_logs[\"train_loss\"].append(train_loss/ len(train_loader))\n",
        "        training_logs[\"train_acc\"].append(correct / len(train_loader.dataset))\n",
        "\n",
        "        # validation\n",
        "        model.eval()\n",
        "        val_loss, correct = 0, 0\n",
        "        for images, labels in validation_loader:\n",
        "            pred = model(images)\n",
        "            val_loss += loss_function(pred, labels).item()\n",
        "            correct += (pred.argmax(1) == labels).float().sum().item()\n",
        "        # save validation logs\n",
        "        training_logs[\"val_loss\"].append(val_loss/ len(val_loader))\n",
        "        training_logs[\"val_acc\"].append(correct / len(validation_loader.dataset))\n",
        "\n",
        "        print(f\"Epochs {epoch}\".ljust(10), \n",
        "              f\"train loss {training_logs['train_loss'][-1]:.5f}\",\n",
        "              f\"train acc {training_logs['train_acc'][-1]:.5f}\",\n",
        "\n",
        "              f\"val loss {training_logs['val_loss'][-1]:.5f}\",\n",
        "              f\"val acc {training_logs['val_acc'][-1]:.5f}\",\n",
        "              )\n",
        "        print(\"-\"*80)\n",
        "    return model, training_logs\n",
        "        "
      ]
    },
    {
      "cell_type": "code",
      "execution_count": 16,
      "id": "pKe0afyiq80F",
      "metadata": {
        "colab": {
          "base_uri": "https://localhost:8080/"
        },
        "id": "pKe0afyiq80F",
        "outputId": "4b1674b8-2909-4066-e0eb-c038017180b9"
      },
      "outputs": [
        {
          "output_type": "stream",
          "name": "stdout",
          "text": [
            "--------------------------------------------------------------------------------\n",
            "Epochs 1   train loss 2.28822 train acc 0.14857 val loss 2.27733 val acc 0.17143\n",
            "--------------------------------------------------------------------------------\n",
            "Epochs 2   train loss 2.25074 train acc 0.21968 val loss 2.24004 val acc 0.20571\n",
            "--------------------------------------------------------------------------------\n",
            "Epochs 3   train loss 2.20326 train acc 0.28063 val loss 2.19096 val acc 0.28571\n",
            "--------------------------------------------------------------------------------\n",
            "Epochs 4   train loss 2.14173 train acc 0.38349 val loss 2.12793 val acc 0.32571\n",
            "--------------------------------------------------------------------------------\n",
            "Epochs 5   train loss 2.06749 train acc 0.39175 val loss 2.04918 val acc 0.38286\n",
            "--------------------------------------------------------------------------------\n",
            "Epochs 6   train loss 1.98120 train acc 0.44825 val loss 1.95972 val acc 0.44000\n",
            "--------------------------------------------------------------------------------\n",
            "Epochs 7   train loss 1.88331 train acc 0.47365 val loss 1.86185 val acc 0.48000\n",
            "--------------------------------------------------------------------------------\n",
            "Epochs 8   train loss 1.78388 train acc 0.55238 val loss 1.76878 val acc 0.51429\n",
            "--------------------------------------------------------------------------------\n",
            "Epochs 9   train loss 1.68483 train acc 0.57460 val loss 1.67882 val acc 0.52000\n",
            "--------------------------------------------------------------------------------\n",
            "Epochs 10  train loss 1.59596 train acc 0.58667 val loss 1.60298 val acc 0.54286\n",
            "--------------------------------------------------------------------------------\n",
            "Epochs 11  train loss 1.51438 train acc 0.60698 val loss 1.53240 val acc 0.56000\n",
            "--------------------------------------------------------------------------------\n",
            "Epochs 12  train loss 1.44620 train acc 0.61587 val loss 1.47633 val acc 0.57143\n",
            "--------------------------------------------------------------------------------\n",
            "Epochs 13  train loss 1.38169 train acc 0.62730 val loss 1.43937 val acc 0.55429\n",
            "--------------------------------------------------------------------------------\n",
            "Epochs 14  train loss 1.32952 train acc 0.63746 val loss 1.39585 val acc 0.58286\n",
            "--------------------------------------------------------------------------------\n",
            "Epochs 15  train loss 1.28182 train acc 0.64762 val loss 1.36271 val acc 0.58857\n",
            "--------------------------------------------------------------------------------\n",
            "Epochs 16  train loss 1.24073 train acc 0.64825 val loss 1.33165 val acc 0.60000\n",
            "--------------------------------------------------------------------------------\n",
            "Epochs 17  train loss 1.20565 train acc 0.66032 val loss 1.32197 val acc 0.60000\n",
            "--------------------------------------------------------------------------------\n",
            "Epochs 18  train loss 1.17501 train acc 0.66730 val loss 1.29478 val acc 0.59429\n",
            "--------------------------------------------------------------------------------\n",
            "Epochs 19  train loss 1.14775 train acc 0.67492 val loss 1.27746 val acc 0.60571\n",
            "--------------------------------------------------------------------------------\n",
            "Epochs 20  train loss 1.12190 train acc 0.68635 val loss 1.26769 val acc 0.60571\n",
            "--------------------------------------------------------------------------------\n",
            "Epochs 21  train loss 1.09784 train acc 0.69143 val loss 1.26155 val acc 0.61143\n",
            "--------------------------------------------------------------------------------\n",
            "Epochs 22  train loss 1.07365 train acc 0.68825 val loss 1.25524 val acc 0.60571\n",
            "--------------------------------------------------------------------------------\n",
            "Epochs 23  train loss 1.05370 train acc 0.69651 val loss 1.25660 val acc 0.60000\n",
            "--------------------------------------------------------------------------------\n",
            "Epochs 24  train loss 1.03708 train acc 0.69968 val loss 1.23843 val acc 0.61143\n",
            "--------------------------------------------------------------------------------\n",
            "Epochs 25  train loss 1.01577 train acc 0.70667 val loss 1.23784 val acc 0.61714\n",
            "--------------------------------------------------------------------------------\n",
            "Epochs 26  train loss 1.00204 train acc 0.71238 val loss 1.22788 val acc 0.62286\n",
            "--------------------------------------------------------------------------------\n",
            "Epochs 27  train loss 0.98566 train acc 0.72381 val loss 1.23417 val acc 0.61714\n",
            "--------------------------------------------------------------------------------\n",
            "Epochs 28  train loss 0.97400 train acc 0.72127 val loss 1.21641 val acc 0.62857\n",
            "--------------------------------------------------------------------------------\n",
            "Epochs 29  train loss 0.95536 train acc 0.72825 val loss 1.21547 val acc 0.61143\n",
            "--------------------------------------------------------------------------------\n",
            "Epochs 30  train loss 0.93947 train acc 0.73016 val loss 1.22266 val acc 0.61714\n",
            "--------------------------------------------------------------------------------\n",
            "Epochs 31  train loss 0.92465 train acc 0.73397 val loss 1.20880 val acc 0.61714\n",
            "--------------------------------------------------------------------------------\n",
            "Epochs 32  train loss 0.91898 train acc 0.73460 val loss 1.20844 val acc 0.62286\n",
            "--------------------------------------------------------------------------------\n",
            "Epochs 33  train loss 0.90500 train acc 0.73397 val loss 1.20133 val acc 0.63429\n",
            "--------------------------------------------------------------------------------\n",
            "Epochs 34  train loss 0.88775 train acc 0.74222 val loss 1.19599 val acc 0.61714\n",
            "--------------------------------------------------------------------------------\n",
            "Epochs 35  train loss 0.87457 train acc 0.74349 val loss 1.19905 val acc 0.64000\n",
            "--------------------------------------------------------------------------------\n",
            "Epochs 36  train loss 0.86471 train acc 0.74540 val loss 1.20344 val acc 0.61143\n",
            "--------------------------------------------------------------------------------\n",
            "Epochs 37  train loss 0.85343 train acc 0.74667 val loss 1.19225 val acc 0.62286\n",
            "--------------------------------------------------------------------------------\n",
            "Epochs 38  train loss 0.83871 train acc 0.75619 val loss 1.19430 val acc 0.63429\n",
            "--------------------------------------------------------------------------------\n",
            "Epochs 39  train loss 0.82996 train acc 0.75365 val loss 1.19172 val acc 0.61714\n",
            "--------------------------------------------------------------------------------\n",
            "Epochs 40  train loss 0.81836 train acc 0.75238 val loss 1.18810 val acc 0.64000\n",
            "--------------------------------------------------------------------------------\n",
            "Epochs 41  train loss 0.81165 train acc 0.75873 val loss 1.18712 val acc 0.62286\n",
            "--------------------------------------------------------------------------------\n",
            "Epochs 42  train loss 0.79560 train acc 0.76508 val loss 1.19238 val acc 0.63429\n",
            "--------------------------------------------------------------------------------\n",
            "Epochs 43  train loss 0.78826 train acc 0.76571 val loss 1.18436 val acc 0.62857\n",
            "--------------------------------------------------------------------------------\n",
            "Epochs 44  train loss 0.78080 train acc 0.77143 val loss 1.18360 val acc 0.61143\n",
            "--------------------------------------------------------------------------------\n",
            "Epochs 45  train loss 0.76796 train acc 0.77016 val loss 1.18132 val acc 0.62286\n",
            "--------------------------------------------------------------------------------\n",
            "Epochs 46  train loss 0.75790 train acc 0.77714 val loss 1.16840 val acc 0.62857\n",
            "--------------------------------------------------------------------------------\n",
            "Epochs 47  train loss 0.75024 train acc 0.78413 val loss 1.18242 val acc 0.61143\n",
            "--------------------------------------------------------------------------------\n",
            "Epochs 48  train loss 0.73749 train acc 0.78222 val loss 1.17450 val acc 0.61143\n",
            "--------------------------------------------------------------------------------\n",
            "Epochs 49  train loss 0.72936 train acc 0.79492 val loss 1.17382 val acc 0.60571\n",
            "--------------------------------------------------------------------------------\n",
            "Epochs 50  train loss 0.72220 train acc 0.79111 val loss 1.17265 val acc 0.62286\n",
            "--------------------------------------------------------------------------------\n"
          ]
        }
      ],
      "source": [
        "n_epoch = 50\n",
        "\n",
        "net = ThaiDigitNet() # Initialize the model\n",
        "loss_fn = nn.CrossEntropyLoss()\n",
        "optimizer = torch.optim.SGD(net.parameters(), lr=0.01)\n",
        "net, net_history = train(net, n_epoch, loss_fn, optimizer, train_loader, val_loader)"
      ]
    },
    {
      "cell_type": "code",
      "source": [
        "def plot_graph(history):\n",
        "    fig, (ax1, ax2) = plt.subplots(1, 2)\n",
        "    fig.set_figwidth(10)\n",
        "    fig.suptitle(\"Train vs Validation\")\n",
        "    ax1.plot(history[\"train_acc\"], label=\"Train\")\n",
        "    ax1.plot(history[\"val_acc\"], label=\"Validation\")\n",
        "    ax1.legend()\n",
        "    ax1.set_title(\"Accuracy\")\n",
        "\n",
        "    ax2.plot(history[\"train_loss\"], label=\"Train\")\n",
        "    ax2.plot(history[\"val_loss\"], label=\"Validation\")\n",
        "    ax2.legend()\n",
        "    ax2.set_title(\"Loss\")\n",
        "    fig.show()"
      ],
      "metadata": {
        "id": "YNzoalGUt-uu"
      },
      "id": "YNzoalGUt-uu",
      "execution_count": 35,
      "outputs": []
    },
    {
      "cell_type": "code",
      "source": [
        "plot_graph(net_history)"
      ],
      "metadata": {
        "id": "n0kDVdjvwqRG",
        "outputId": "764168cd-1bbb-4e80-bc6c-1242c672a060",
        "colab": {
          "base_uri": "https://localhost:8080/",
          "height": 294
        }
      },
      "id": "n0kDVdjvwqRG",
      "execution_count": 36,
      "outputs": [
        {
          "output_type": "display_data",
          "data": {
            "text/plain": [
              "<Figure size 720x288 with 2 Axes>"
            ],
            "image/png": "[encoded data removed]"
          },
          "metadata": {
            "needs_background": "light"
          }
        }
      ]
    },
    {
      "cell_type": "markdown",
      "id": "Z1KkTwVoob4f",
      "metadata": {
        "id": "Z1KkTwVoob4f"
      },
      "source": [
        "## **Save and load model**\n",
        "\n"
      ]
    },
    {
      "cell_type": "code",
      "execution_count": 27,
      "id": "m6eOWaxWobiw",
      "metadata": {
        "id": "m6eOWaxWobiw"
      },
      "outputs": [],
      "source": [
        "save_path = \"thai_digit.pth\"\n",
        "torch.save(net.state_dict(), save_path)  # save model parameters"
      ]
    },
    {
      "cell_type": "code",
      "execution_count": 28,
      "id": "Q9hqeg76o0Ng",
      "metadata": {
        "colab": {
          "base_uri": "https://localhost:8080/"
        },
        "id": "Q9hqeg76o0Ng",
        "outputId": "cdd23146-af8a-4ae1-82df-7df565b45023"
      },
      "outputs": [
        {
          "output_type": "execute_result",
          "data": {
            "text/plain": [
              "<All keys matched successfully>"
            ]
          },
          "metadata": {},
          "execution_count": 28
        }
      ],
      "source": [
        "model_path = \"thai_digit.pth\"\n",
        "model = ThaiDigitNet()  # initialize the model\n",
        "model.load_state_dict(torch.load(model_path))  # load the model weights"
      ]
    },
    {
      "cell_type": "markdown",
      "id": "2a0229f1",
      "metadata": {
        "id": "2a0229f1"
      },
      "source": [
        "## **Evaluate the model**"
      ]
    },
    {
      "cell_type": "code",
      "execution_count": 29,
      "id": "5b41a1c8",
      "metadata": {
        "id": "5b41a1c8"
      },
      "outputs": [],
      "source": [
        "# Create evaluation function for the model\n",
        "def evaluate(dataframe, model):\n",
        "    model.eval()\n",
        "    results = dataframe.copy()\n",
        "    predictions = []\n",
        "    for idx, row in results.iterrows():\n",
        "        img = transform(Image.open(row.path))\n",
        "        pred = model(1 - img)\n",
        "        predictions.append(pred.argmax(1).item())\n",
        "\n",
        "    results[\"prediction\"] = predictions\n",
        "    # Calculate accuracy\n",
        "    accuracy = len(results[results.prediction == results.text]) / len(results)\n",
        "    print(f\"Accuracy: {accuracy * 100:.2f}%\")\n",
        "    return results"
      ]
    },
    {
      "cell_type": "code",
      "execution_count": 30,
      "id": "mfQO7phtP3zU",
      "metadata": {
        "colab": {
          "base_uri": "https://localhost:8080/",
          "height": 441
        },
        "id": "mfQO7phtP3zU",
        "outputId": "ce3e1ad1-b9a4-4df2-feff-47425ee3d815"
      },
      "outputs": [
        {
          "output_type": "stream",
          "name": "stdout",
          "text": [
            "Accuracy: 62.29%\n"
          ]
        },
        {
          "output_type": "execute_result",
          "data": {
            "text/plain": [
              "                                                  path  text  prediction\n",
              "0    data/validation/8/44_9f2d7454-dd40-4c4a-916e-5...     8           8\n",
              "1    data/validation/8/c17a09d4-a8b0-40be-bcd1-4666...     8           7\n",
              "2    data/validation/8/504cd1fd-14d3-442a-b694-8da9...     8           8\n",
              "3    data/validation/8/8e0e0499-7e9c-42cc-8b1c-8d54...     8           9\n",
              "4    data/validation/8/ce169337-9ad4-423b-b185-eaf5...     8           8\n",
              "..                                                 ...   ...         ...\n",
              "170  data/validation/9/c2361c50-30ed-4420-b7b4-db0b...     9           4\n",
              "171  data/validation/9/96140adf-5a81-4d06-841d-d6db...     9           1\n",
              "172  data/validation/9/b6b40844-50cc-4847-8b83-9961...     9           9\n",
              "173  data/validation/9/21_0cce64ca-f6e6-4b77-99ec-f...     9           9\n",
              "174  data/validation/9/527f32ba-3c4a-4e47-be39-056d...     9           7\n",
              "\n",
              "[175 rows x 3 columns]"
            ],
            "text/html": [
              "\n",
              "  <div id=\"df-74a89be4-fb18-45d1-a0fe-5135d192c1d9\">\n",
              "    <div class=\"colab-df-container\">\n",
              "      <div>\n",
              "<style scoped>\n",
              "    .dataframe tbody tr th:only-of-type {\n",
              "        vertical-align: middle;\n",
              "    }\n",
              "\n",
              "    .dataframe tbody tr th {\n",
              "        vertical-align: top;\n",
              "    }\n",
              "\n",
              "    .dataframe thead th {\n",
              "        text-align: right;\n",
              "    }\n",
              "</style>\n",
              "<table border=\"1\" class=\"dataframe\">\n",
              "  <thead>\n",
              "    <tr style=\"text-align: right;\">\n",
              "      <th></th>\n",
              "      <th>path</th>\n",
              "      <th>text</th>\n",
              "      <th>prediction</th>\n",
              "    </tr>\n",
              "  </thead>\n",
              "  <tbody>\n",
              "    <tr>\n",
              "      <th>0</th>\n",
              "      <td>data/validation/8/44_9f2d7454-dd40-4c4a-916e-5...</td>\n",
              "      <td>8</td>\n",
              "      <td>8</td>\n",
              "    </tr>\n",
              "    <tr>\n",
              "      <th>1</th>\n",
              "      <td>data/validation/8/c17a09d4-a8b0-40be-bcd1-4666...</td>\n",
              "      <td>8</td>\n",
              "      <td>7</td>\n",
              "    </tr>\n",
              "    <tr>\n",
              "      <th>2</th>\n",
              "      <td>data/validation/8/504cd1fd-14d3-442a-b694-8da9...</td>\n",
              "      <td>8</td>\n",
              "      <td>8</td>\n",
              "    </tr>\n",
              "    <tr>\n",
              "      <th>3</th>\n",
              "      <td>data/validation/8/8e0e0499-7e9c-42cc-8b1c-8d54...</td>\n",
              "      <td>8</td>\n",
              "      <td>9</td>\n",
              "    </tr>\n",
              "    <tr>\n",
              "      <th>4</th>\n",
              "      <td>data/validation/8/ce169337-9ad4-423b-b185-eaf5...</td>\n",
              "      <td>8</td>\n",
              "      <td>8</td>\n",
              "    </tr>\n",
              "    <tr>\n",
              "      <th>...</th>\n",
              "      <td>...</td>\n",
              "      <td>...</td>\n",
              "      <td>...</td>\n",
              "    </tr>\n",
              "    <tr>\n",
              "      <th>170</th>\n",
              "      <td>data/validation/9/c2361c50-30ed-4420-b7b4-db0b...</td>\n",
              "      <td>9</td>\n",
              "      <td>4</td>\n",
              "    </tr>\n",
              "    <tr>\n",
              "      <th>171</th>\n",
              "      <td>data/validation/9/96140adf-5a81-4d06-841d-d6db...</td>\n",
              "      <td>9</td>\n",
              "      <td>1</td>\n",
              "    </tr>\n",
              "    <tr>\n",
              "      <th>172</th>\n",
              "      <td>data/validation/9/b6b40844-50cc-4847-8b83-9961...</td>\n",
              "      <td>9</td>\n",
              "      <td>9</td>\n",
              "    </tr>\n",
              "    <tr>\n",
              "      <th>173</th>\n",
              "      <td>data/validation/9/21_0cce64ca-f6e6-4b77-99ec-f...</td>\n",
              "      <td>9</td>\n",
              "      <td>9</td>\n",
              "    </tr>\n",
              "    <tr>\n",
              "      <th>174</th>\n",
              "      <td>data/validation/9/527f32ba-3c4a-4e47-be39-056d...</td>\n",
              "      <td>9</td>\n",
              "      <td>7</td>\n",
              "    </tr>\n",
              "  </tbody>\n",
              "</table>\n",
              "<p>175 rows × 3 columns</p>\n",
              "</div>\n",
              "      <button class=\"colab-df-convert\" onclick=\"convertToInteractive('df-74a89be4-fb18-45d1-a0fe-5135d192c1d9')\"\n",
              "              title=\"Convert this dataframe to an interactive table.\"\n",
              "              style=\"display:none;\">\n",
              "        \n",
              "  <svg xmlns=\"http://www.w3.org/2000/svg\" height=\"24px\"viewBox=\"0 0 24 24\"\n",
              "       width=\"24px\">\n",
              "    <path d=\"M0 0h24v24H0V0z\" fill=\"none\"/>\n",
              "    <path d=\"M18.56 5.44l.94 2.06.94-2.06 2.06-.94-2.06-.94-.94-2.06-.94 2.06-2.06.94zm-11 1L8.5 8.5l.94-2.06 2.06-.94-2.06-.94L8.5 2.5l-.94 2.06-2.06.94zm10 10l.94 2.06.94-2.06 2.06-.94-2.06-.94-.94-2.06-.94 2.06-2.06.94z\"/><path d=\"M17.41 7.96l-1.37-1.37c-.4-.4-.92-.59-1.43-.59-.52 0-1.04.2-1.43.59L10.3 9.45l-7.72 7.72c-.78.78-.78 2.05 0 2.83L4 21.41c.39.39.9.59 1.41.59.51 0 1.02-.2 1.41-.59l7.78-7.78 2.81-2.81c.8-.78.8-2.07 0-2.86zM5.41 20L4 18.59l7.72-7.72 1.47 1.35L5.41 20z\"/>\n",
              "  </svg>\n",
              "      </button>\n",
              "      \n",
              "  <style>\n",
              "    .colab-df-container {\n",
              "      display:flex;\n",
              "      flex-wrap:wrap;\n",
              "      gap: 12px;\n",
              "    }\n",
              "\n",
              "    .colab-df-convert {\n",
              "      background-color: #E8F0FE;\n",
              "      border: none;\n",
              "      border-radius: 50%;\n",
              "      cursor: pointer;\n",
              "      display: none;\n",
              "      fill: #1967D2;\n",
              "      height: 32px;\n",
              "      padding: 0 0 0 0;\n",
              "      width: 32px;\n",
              "    }\n",
              "\n",
              "    .colab-df-convert:hover {\n",
              "      background-color: #E2EBFA;\n",
              "      box-shadow: 0px 1px 2px rgba(60, 64, 67, 0.3), 0px 1px 3px 1px rgba(60, 64, 67, 0.15);\n",
              "      fill: #174EA6;\n",
              "    }\n",
              "\n",
              "    [theme=dark] .colab-df-convert {\n",
              "      background-color: #3B4455;\n",
              "      fill: #D2E3FC;\n",
              "    }\n",
              "\n",
              "    [theme=dark] .colab-df-convert:hover {\n",
              "      background-color: #434B5C;\n",
              "      box-shadow: 0px 1px 3px 1px rgba(0, 0, 0, 0.15);\n",
              "      filter: drop-shadow(0px 1px 2px rgba(0, 0, 0, 0.3));\n",
              "      fill: #FFFFFF;\n",
              "    }\n",
              "  </style>\n",
              "\n",
              "      <script>\n",
              "        const buttonEl =\n",
              "          document.querySelector('#df-74a89be4-fb18-45d1-a0fe-5135d192c1d9 button.colab-df-convert');\n",
              "        buttonEl.style.display =\n",
              "          google.colab.kernel.accessAllowed ? 'block' : 'none';\n",
              "\n",
              "        async function convertToInteractive(key) {\n",
              "          const element = document.querySelector('#df-74a89be4-fb18-45d1-a0fe-5135d192c1d9');\n",
              "          const dataTable =\n",
              "            await google.colab.kernel.invokeFunction('convertToInteractive',\n",
              "                                                     [key], {});\n",
              "          if (!dataTable) return;\n",
              "\n",
              "          const docLinkHtml = 'Like what you see? Visit the ' +\n",
              "            '<a target=\"_blank\" href=https://colab.research.google.com/notebooks/data_table.ipynb>data table notebook</a>'\n",
              "            + ' to learn more about interactive tables.';\n",
              "          element.innerHTML = '';\n",
              "          dataTable['output_type'] = 'display_data';\n",
              "          await google.colab.output.renderOutput(dataTable, element);\n",
              "          const docLink = document.createElement('div');\n",
              "          docLink.innerHTML = docLinkHtml;\n",
              "          element.appendChild(docLink);\n",
              "        }\n",
              "      </script>\n",
              "    </div>\n",
              "  </div>\n",
              "  "
            ]
          },
          "metadata": {},
          "execution_count": 30
        }
      ],
      "source": [
        "evaluate(val_df, model)"
      ]
    },
    {
      "cell_type": "code",
      "execution_count": 31,
      "id": "paULDzBOOkFl",
      "metadata": {
        "colab": {
          "base_uri": "https://localhost:8080/",
          "height": 281
        },
        "id": "paULDzBOOkFl",
        "outputId": "f1017ae3-0983-4653-fd1c-a96d0eceb940"
      },
      "outputs": [
        {
          "output_type": "display_data",
          "data": {
            "text/plain": [
              "<Figure size 432x288 with 1 Axes>"
            ],
            "image/png": "[encoded data removed]"
          },
          "metadata": {
            "needs_background": "light"
          }
        }
      ],
      "source": [
        "# Show some random images with their predicted number\n",
        "random_number = random.randint(0, len(val_df))\n",
        "img = Image.open(val_df.iloc[random_number].path)\n",
        "img = transform(img)\n",
        "transformed_img = 1 - img\n",
        "\n",
        "pred = model(transformed_img).argmax(1)\n",
        "plt.title(f\"Predicted class = {pred.numpy()[0]}\")\n",
        "plt.imshow(img.squeeze(0), cmap=\"gray\")\n",
        "plt.show()"
      ]
    },
    {
      "cell_type": "markdown",
      "id": "-F6H4tFLmUCG",
      "metadata": {
        "id": "-F6H4tFLmUCG"
      },
      "source": [
        "## **Train neural netowrk model with more layers**"
      ]
    },
    {
      "cell_type": "code",
      "execution_count": 32,
      "id": "IHMQhUJCg6QU",
      "metadata": {
        "id": "IHMQhUJCg6QU"
      },
      "outputs": [],
      "source": [
        "class ThaiDigitMoreLayers(nn.Module):\n",
        "    def __init__(self):\n",
        "        super(ThaiDigitMoreLayers, self).__init__()\n",
        "        self.layers = nn.Sequential(\n",
        "          \n",
        "          nn.Linear(28*28, 392),\n",
        "          nn.ReLU(),\n",
        "          nn.Linear(392, 196),\n",
        "          nn.ReLU(),\n",
        "          nn.Linear(196, 98),\n",
        "          nn.ReLU(),\n",
        "          nn.Linear(98, 10),\n",
        "        )\n",
        "\n",
        "    def forward(self, x):\n",
        "        x = x.view(-1, 28 * 28)\n",
        "        return self.layers(x)\n",
        "  "
      ]
    },
    {
      "cell_type": "code",
      "execution_count": 33,
      "id": "DzfL2z4tkrYb",
      "metadata": {
        "colab": {
          "base_uri": "https://localhost:8080/"
        },
        "id": "DzfL2z4tkrYb",
        "outputId": "0f7242ae-14e0-45a4-fad7-919cc36e82b5"
      },
      "outputs": [
        {
          "output_type": "stream",
          "name": "stdout",
          "text": [
            "--------------------------------------------------------------------------------\n",
            "Epochs 1   train loss 2.30202 train acc 0.10159 val loss 2.30347 val acc 0.08571\n",
            "--------------------------------------------------------------------------------\n",
            "Epochs 2   train loss 2.30023 train acc 0.10095 val loss 2.30205 val acc 0.08571\n",
            "--------------------------------------------------------------------------------\n",
            "Epochs 3   train loss 2.29851 train acc 0.10159 val loss 2.30055 val acc 0.09714\n",
            "--------------------------------------------------------------------------------\n",
            "Epochs 4   train loss 2.29667 train acc 0.10222 val loss 2.29889 val acc 0.09143\n",
            "--------------------------------------------------------------------------------\n",
            "Epochs 5   train loss 2.29451 train acc 0.10984 val loss 2.29703 val acc 0.09714\n",
            "--------------------------------------------------------------------------------\n",
            "Epochs 6   train loss 2.29197 train acc 0.12444 val loss 2.29481 val acc 0.11429\n",
            "--------------------------------------------------------------------------------\n",
            "Epochs 7   train loss 2.28928 train acc 0.16000 val loss 2.29214 val acc 0.12571\n",
            "--------------------------------------------------------------------------------\n",
            "Epochs 8   train loss 2.28581 train acc 0.19365 val loss 2.28899 val acc 0.16000\n",
            "--------------------------------------------------------------------------------\n",
            "Epochs 9   train loss 2.28146 train acc 0.24000 val loss 2.28487 val acc 0.19429\n",
            "--------------------------------------------------------------------------------\n",
            "Epochs 10  train loss 2.27657 train acc 0.23619 val loss 2.27946 val acc 0.22857\n",
            "--------------------------------------------------------------------------------\n",
            "Epochs 11  train loss 2.27024 train acc 0.28571 val loss 2.27268 val acc 0.25714\n",
            "--------------------------------------------------------------------------------\n",
            "Epochs 12  train loss 2.26189 train acc 0.35937 val loss 2.26348 val acc 0.30857\n",
            "--------------------------------------------------------------------------------\n",
            "Epochs 13  train loss 2.25074 train acc 0.40825 val loss 2.25113 val acc 0.33714\n",
            "--------------------------------------------------------------------------------\n",
            "Epochs 14  train loss 2.23523 train acc 0.36508 val loss 2.23408 val acc 0.34857\n",
            "--------------------------------------------------------------------------------\n",
            "Epochs 15  train loss 2.21369 train acc 0.36000 val loss 2.20729 val acc 0.37714\n",
            "--------------------------------------------------------------------------------\n",
            "Epochs 16  train loss 2.18229 train acc 0.36063 val loss 2.17146 val acc 0.37143\n",
            "--------------------------------------------------------------------------------\n",
            "Epochs 17  train loss 2.13571 train acc 0.38413 val loss 2.11626 val acc 0.35429\n",
            "--------------------------------------------------------------------------------\n",
            "Epochs 18  train loss 2.06859 train acc 0.36825 val loss 2.04127 val acc 0.35429\n",
            "--------------------------------------------------------------------------------\n",
            "Epochs 19  train loss 1.97724 train acc 0.37714 val loss 1.94209 val acc 0.37143\n",
            "--------------------------------------------------------------------------------\n",
            "Epochs 20  train loss 1.86547 train acc 0.38603 val loss 1.82139 val acc 0.41143\n",
            "--------------------------------------------------------------------------------\n",
            "Epochs 21  train loss 1.74461 train acc 0.40635 val loss 1.71002 val acc 0.44571\n",
            "--------------------------------------------------------------------------------\n",
            "Epochs 22  train loss 1.63289 train acc 0.45841 val loss 1.62763 val acc 0.46286\n",
            "--------------------------------------------------------------------------------\n",
            "Epochs 23  train loss 1.53199 train acc 0.48571 val loss 1.53250 val acc 0.51429\n",
            "--------------------------------------------------------------------------------\n",
            "Epochs 24  train loss 1.44931 train acc 0.52063 val loss 1.46460 val acc 0.53143\n",
            "--------------------------------------------------------------------------------\n",
            "Epochs 25  train loss 1.37634 train acc 0.53651 val loss 1.50178 val acc 0.44571\n",
            "--------------------------------------------------------------------------------\n",
            "Epochs 26  train loss 1.31092 train acc 0.57587 val loss 1.36055 val acc 0.58857\n",
            "--------------------------------------------------------------------------------\n",
            "Epochs 27  train loss 1.25546 train acc 0.59683 val loss 1.34762 val acc 0.56000\n",
            "--------------------------------------------------------------------------------\n",
            "Epochs 28  train loss 1.20735 train acc 0.60889 val loss 1.30166 val acc 0.54286\n",
            "--------------------------------------------------------------------------------\n",
            "Epochs 29  train loss 1.16013 train acc 0.62159 val loss 1.28727 val acc 0.58857\n",
            "--------------------------------------------------------------------------------\n",
            "Epochs 30  train loss 1.12347 train acc 0.64063 val loss 1.29493 val acc 0.57143\n",
            "--------------------------------------------------------------------------------\n",
            "Epochs 31  train loss 1.08278 train acc 0.66794 val loss 1.21866 val acc 0.61143\n",
            "--------------------------------------------------------------------------------\n",
            "Epochs 32  train loss 1.05006 train acc 0.66476 val loss 1.26630 val acc 0.59429\n",
            "--------------------------------------------------------------------------------\n",
            "Epochs 33  train loss 1.01758 train acc 0.67111 val loss 1.26173 val acc 0.61143\n",
            "--------------------------------------------------------------------------------\n",
            "Epochs 34  train loss 0.98887 train acc 0.68190 val loss 1.20669 val acc 0.60571\n",
            "--------------------------------------------------------------------------------\n",
            "Epochs 35  train loss 0.96352 train acc 0.69460 val loss 1.19281 val acc 0.62857\n",
            "--------------------------------------------------------------------------------\n",
            "Epochs 36  train loss 0.93843 train acc 0.70095 val loss 1.19903 val acc 0.61714\n",
            "--------------------------------------------------------------------------------\n",
            "Epochs 37  train loss 0.91090 train acc 0.71937 val loss 1.21434 val acc 0.62286\n",
            "--------------------------------------------------------------------------------\n",
            "Epochs 38  train loss 0.87666 train acc 0.71937 val loss 1.19156 val acc 0.64571\n",
            "--------------------------------------------------------------------------------\n",
            "Epochs 39  train loss 0.85864 train acc 0.73016 val loss 1.17363 val acc 0.64571\n",
            "--------------------------------------------------------------------------------\n",
            "Epochs 40  train loss 0.83530 train acc 0.74413 val loss 1.16152 val acc 0.61143\n",
            "--------------------------------------------------------------------------------\n",
            "Epochs 41  train loss 0.80690 train acc 0.75175 val loss 1.18845 val acc 0.63429\n",
            "--------------------------------------------------------------------------------\n",
            "Epochs 42  train loss 0.77566 train acc 0.75937 val loss 1.17930 val acc 0.63429\n",
            "--------------------------------------------------------------------------------\n",
            "Epochs 43  train loss 0.75106 train acc 0.77079 val loss 1.18958 val acc 0.64571\n",
            "--------------------------------------------------------------------------------\n",
            "Epochs 44  train loss 0.72602 train acc 0.78413 val loss 1.19686 val acc 0.64000\n",
            "--------------------------------------------------------------------------------\n",
            "Epochs 45  train loss 0.70049 train acc 0.78730 val loss 1.18276 val acc 0.64000\n",
            "--------------------------------------------------------------------------------\n",
            "Epochs 46  train loss 0.67658 train acc 0.78794 val loss 1.19629 val acc 0.61714\n",
            "--------------------------------------------------------------------------------\n",
            "Epochs 47  train loss 0.65126 train acc 0.80762 val loss 1.18947 val acc 0.64000\n",
            "--------------------------------------------------------------------------------\n",
            "Epochs 48  train loss 0.63383 train acc 0.81333 val loss 1.20128 val acc 0.65143\n",
            "--------------------------------------------------------------------------------\n",
            "Epochs 49  train loss 0.60623 train acc 0.81905 val loss 1.18661 val acc 0.62857\n",
            "--------------------------------------------------------------------------------\n",
            "Epochs 50  train loss 0.58106 train acc 0.83238 val loss 1.20019 val acc 0.64571\n",
            "--------------------------------------------------------------------------------\n"
          ]
        }
      ],
      "source": [
        "n_epochs = 50\n",
        "\n",
        "more_layers_model = ThaiDigitMoreLayers()\n",
        "loss_fn = nn.CrossEntropyLoss()\n",
        "optimizer = torch.optim.SGD(more_layers_model.parameters(), lr=0.01)\n",
        "\n",
        "more_layers_model, more_layers_model_history = train(\n",
        "    more_layers_model, n_epochs, loss_fn, optimizer, train_loader, val_loader\n",
        ")\n"
      ]
    },
    {
      "cell_type": "code",
      "execution_count": 34,
      "id": "bVYRwfYHkluE",
      "metadata": {
        "colab": {
          "base_uri": "https://localhost:8080/",
          "height": 441
        },
        "id": "bVYRwfYHkluE",
        "outputId": "48e4317e-4380-4a90-b948-9169d8e26046"
      },
      "outputs": [
        {
          "output_type": "stream",
          "name": "stdout",
          "text": [
            "Accuracy: 64.57%\n"
          ]
        },
        {
          "output_type": "execute_result",
          "data": {
            "text/plain": [
              "                                                  path  text  prediction\n",
              "0    data/validation/8/44_9f2d7454-dd40-4c4a-916e-5...     8           8\n",
              "1    data/validation/8/c17a09d4-a8b0-40be-bcd1-4666...     8           7\n",
              "2    data/validation/8/504cd1fd-14d3-442a-b694-8da9...     8           8\n",
              "3    data/validation/8/8e0e0499-7e9c-42cc-8b1c-8d54...     8           9\n",
              "4    data/validation/8/ce169337-9ad4-423b-b185-eaf5...     8           8\n",
              "..                                                 ...   ...         ...\n",
              "170  data/validation/9/c2361c50-30ed-4420-b7b4-db0b...     9           4\n",
              "171  data/validation/9/96140adf-5a81-4d06-841d-d6db...     9           9\n",
              "172  data/validation/9/b6b40844-50cc-4847-8b83-9961...     9           9\n",
              "173  data/validation/9/21_0cce64ca-f6e6-4b77-99ec-f...     9           9\n",
              "174  data/validation/9/527f32ba-3c4a-4e47-be39-056d...     9           9\n",
              "\n",
              "[175 rows x 3 columns]"
            ],
            "text/html": [
              "\n",
              "  <div id=\"df-d53a2a2c-480f-4e68-8e45-ac4b66192185\">\n",
              "    <div class=\"colab-df-container\">\n",
              "      <div>\n",
              "<style scoped>\n",
              "    .dataframe tbody tr th:only-of-type {\n",
              "        vertical-align: middle;\n",
              "    }\n",
              "\n",
              "    .dataframe tbody tr th {\n",
              "        vertical-align: top;\n",
              "    }\n",
              "\n",
              "    .dataframe thead th {\n",
              "        text-align: right;\n",
              "    }\n",
              "</style>\n",
              "<table border=\"1\" class=\"dataframe\">\n",
              "  <thead>\n",
              "    <tr style=\"text-align: right;\">\n",
              "      <th></th>\n",
              "      <th>path</th>\n",
              "      <th>text</th>\n",
              "      <th>prediction</th>\n",
              "    </tr>\n",
              "  </thead>\n",
              "  <tbody>\n",
              "    <tr>\n",
              "      <th>0</th>\n",
              "      <td>data/validation/8/44_9f2d7454-dd40-4c4a-916e-5...</td>\n",
              "      <td>8</td>\n",
              "      <td>8</td>\n",
              "    </tr>\n",
              "    <tr>\n",
              "      <th>1</th>\n",
              "      <td>data/validation/8/c17a09d4-a8b0-40be-bcd1-4666...</td>\n",
              "      <td>8</td>\n",
              "      <td>7</td>\n",
              "    </tr>\n",
              "    <tr>\n",
              "      <th>2</th>\n",
              "      <td>data/validation/8/504cd1fd-14d3-442a-b694-8da9...</td>\n",
              "      <td>8</td>\n",
              "      <td>8</td>\n",
              "    </tr>\n",
              "    <tr>\n",
              "      <th>3</th>\n",
              "      <td>data/validation/8/8e0e0499-7e9c-42cc-8b1c-8d54...</td>\n",
              "      <td>8</td>\n",
              "      <td>9</td>\n",
              "    </tr>\n",
              "    <tr>\n",
              "      <th>4</th>\n",
              "      <td>data/validation/8/ce169337-9ad4-423b-b185-eaf5...</td>\n",
              "      <td>8</td>\n",
              "      <td>8</td>\n",
              "    </tr>\n",
              "    <tr>\n",
              "      <th>...</th>\n",
              "      <td>...</td>\n",
              "      <td>...</td>\n",
              "      <td>...</td>\n",
              "    </tr>\n",
              "    <tr>\n",
              "      <th>170</th>\n",
              "      <td>data/validation/9/c2361c50-30ed-4420-b7b4-db0b...</td>\n",
              "      <td>9</td>\n",
              "      <td>4</td>\n",
              "    </tr>\n",
              "    <tr>\n",
              "      <th>171</th>\n",
              "      <td>data/validation/9/96140adf-5a81-4d06-841d-d6db...</td>\n",
              "      <td>9</td>\n",
              "      <td>9</td>\n",
              "    </tr>\n",
              "    <tr>\n",
              "      <th>172</th>\n",
              "      <td>data/validation/9/b6b40844-50cc-4847-8b83-9961...</td>\n",
              "      <td>9</td>\n",
              "      <td>9</td>\n",
              "    </tr>\n",
              "    <tr>\n",
              "      <th>173</th>\n",
              "      <td>data/validation/9/21_0cce64ca-f6e6-4b77-99ec-f...</td>\n",
              "      <td>9</td>\n",
              "      <td>9</td>\n",
              "    </tr>\n",
              "    <tr>\n",
              "      <th>174</th>\n",
              "      <td>data/validation/9/527f32ba-3c4a-4e47-be39-056d...</td>\n",
              "      <td>9</td>\n",
              "      <td>9</td>\n",
              "    </tr>\n",
              "  </tbody>\n",
              "</table>\n",
              "<p>175 rows × 3 columns</p>\n",
              "</div>\n",
              "      <button class=\"colab-df-convert\" onclick=\"convertToInteractive('df-d53a2a2c-480f-4e68-8e45-ac4b66192185')\"\n",
              "              title=\"Convert this dataframe to an interactive table.\"\n",
              "              style=\"display:none;\">\n",
              "        \n",
              "  <svg xmlns=\"http://www.w3.org/2000/svg\" height=\"24px\"viewBox=\"0 0 24 24\"\n",
              "       width=\"24px\">\n",
              "    <path d=\"M0 0h24v24H0V0z\" fill=\"none\"/>\n",
              "    <path d=\"M18.56 5.44l.94 2.06.94-2.06 2.06-.94-2.06-.94-.94-2.06-.94 2.06-2.06.94zm-11 1L8.5 8.5l.94-2.06 2.06-.94-2.06-.94L8.5 2.5l-.94 2.06-2.06.94zm10 10l.94 2.06.94-2.06 2.06-.94-2.06-.94-.94-2.06-.94 2.06-2.06.94z\"/><path d=\"M17.41 7.96l-1.37-1.37c-.4-.4-.92-.59-1.43-.59-.52 0-1.04.2-1.43.59L10.3 9.45l-7.72 7.72c-.78.78-.78 2.05 0 2.83L4 21.41c.39.39.9.59 1.41.59.51 0 1.02-.2 1.41-.59l7.78-7.78 2.81-2.81c.8-.78.8-2.07 0-2.86zM5.41 20L4 18.59l7.72-7.72 1.47 1.35L5.41 20z\"/>\n",
              "  </svg>\n",
              "      </button>\n",
              "      \n",
              "  <style>\n",
              "    .colab-df-container {\n",
              "      display:flex;\n",
              "      flex-wrap:wrap;\n",
              "      gap: 12px;\n",
              "    }\n",
              "\n",
              "    .colab-df-convert {\n",
              "      background-color: #E8F0FE;\n",
              "      border: none;\n",
              "      border-radius: 50%;\n",
              "      cursor: pointer;\n",
              "      display: none;\n",
              "      fill: #1967D2;\n",
              "      height: 32px;\n",
              "      padding: 0 0 0 0;\n",
              "      width: 32px;\n",
              "    }\n",
              "\n",
              "    .colab-df-convert:hover {\n",
              "      background-color: #E2EBFA;\n",
              "      box-shadow: 0px 1px 2px rgba(60, 64, 67, 0.3), 0px 1px 3px 1px rgba(60, 64, 67, 0.15);\n",
              "      fill: #174EA6;\n",
              "    }\n",
              "\n",
              "    [theme=dark] .colab-df-convert {\n",
              "      background-color: #3B4455;\n",
              "      fill: #D2E3FC;\n",
              "    }\n",
              "\n",
              "    [theme=dark] .colab-df-convert:hover {\n",
              "      background-color: #434B5C;\n",
              "      box-shadow: 0px 1px 3px 1px rgba(0, 0, 0, 0.15);\n",
              "      filter: drop-shadow(0px 1px 2px rgba(0, 0, 0, 0.3));\n",
              "      fill: #FFFFFF;\n",
              "    }\n",
              "  </style>\n",
              "\n",
              "      <script>\n",
              "        const buttonEl =\n",
              "          document.querySelector('#df-d53a2a2c-480f-4e68-8e45-ac4b66192185 button.colab-df-convert');\n",
              "        buttonEl.style.display =\n",
              "          google.colab.kernel.accessAllowed ? 'block' : 'none';\n",
              "\n",
              "        async function convertToInteractive(key) {\n",
              "          const element = document.querySelector('#df-d53a2a2c-480f-4e68-8e45-ac4b66192185');\n",
              "          const dataTable =\n",
              "            await google.colab.kernel.invokeFunction('convertToInteractive',\n",
              "                                                     [key], {});\n",
              "          if (!dataTable) return;\n",
              "\n",
              "          const docLinkHtml = 'Like what you see? Visit the ' +\n",
              "            '<a target=\"_blank\" href=https://colab.research.google.com/notebooks/data_table.ipynb>data table notebook</a>'\n",
              "            + ' to learn more about interactive tables.';\n",
              "          element.innerHTML = '';\n",
              "          dataTable['output_type'] = 'display_data';\n",
              "          await google.colab.output.renderOutput(dataTable, element);\n",
              "          const docLink = document.createElement('div');\n",
              "          docLink.innerHTML = docLinkHtml;\n",
              "          element.appendChild(docLink);\n",
              "        }\n",
              "      </script>\n",
              "    </div>\n",
              "  </div>\n",
              "  "
            ]
          },
          "metadata": {},
          "execution_count": 34
        }
      ],
      "source": [
        "evaluate(val_df, more_layers_model)"
      ]
    },
    {
      "cell_type": "markdown",
      "id": "D1TvQxG_mZSs",
      "metadata": {
        "id": "D1TvQxG_mZSs"
      },
      "source": [
        "## **Error analysis**"
      ]
    },
    {
      "cell_type": "code",
      "execution_count": 38,
      "id": "msBnIuLAmeAM",
      "metadata": {
        "colab": {
          "base_uri": "https://localhost:8080/",
          "height": 294
        },
        "id": "msBnIuLAmeAM",
        "outputId": "133a3385-73da-488c-e156-82bb32c62218"
      },
      "outputs": [
        {
          "output_type": "display_data",
          "data": {
            "text/plain": [
              "<Figure size 720x288 with 2 Axes>"
            ],
            "image/png": "[encoded data removed]"
          },
          "metadata": {
            "needs_background": "light"
          }
        }
      ],
      "source": [
        "plot_graph(net_history)"
      ]
    },
    {
      "cell_type": "code",
      "execution_count": 37,
      "id": "iBmb3HOYxwoP",
      "metadata": {
        "colab": {
          "base_uri": "https://localhost:8080/",
          "height": 294
        },
        "id": "iBmb3HOYxwoP",
        "outputId": "46eefe60-4c88-459b-c47c-32217d43d0ca"
      },
      "outputs": [
        {
          "output_type": "display_data",
          "data": {
            "text/plain": [
              "<Figure size 720x288 with 2 Axes>"
            ],
            "image/png": "[encoded data removed]"
          },
          "metadata": {
            "needs_background": "light"
          }
        }
      ],
      "source": [
        "plot_graph(more_layers_model_history)"
      ]
    },
    {
      "cell_type": "markdown",
      "id": "43ccb6fc",
      "metadata": {
        "id": "43ccb6fc"
      },
      "source": [
        "The training accuracy of the model is higher than the validation accuracy.\n",
        "This means that the model is overfitting the training data.\n",
        "We can try to reduce the overfitting by adding regularization ."
      ]
    },
    {
      "cell_type": "markdown",
      "id": "65fb58d7",
      "metadata": {
        "id": "65fb58d7"
      },
      "source": [
        "## **Regularization with Dropout**\n",
        "\n",
        "Dropout is one of the techniques used to prevent overfitting"
      ]
    },
    {
      "cell_type": "code",
      "execution_count": 45,
      "id": "a8e819c7",
      "metadata": {
        "id": "a8e819c7"
      },
      "outputs": [],
      "source": [
        "class DropoutThaiDigit(nn.Module):\n",
        "    def __init__(self):\n",
        "        super(DropoutThaiDigit, self).__init__()\n",
        "        self.layers = nn.Sequential(\n",
        "            nn.Linear(28*28, 392),\n",
        "            nn.ReLU(),\n",
        "            nn.Dropout(0.1),\n",
        "            nn.Linear(392, 196),\n",
        "            nn.ReLU(),\n",
        "            nn.Dropout(0.1),\n",
        "            nn.Linear(196, 98),\n",
        "            nn.ReLU(),\n",
        "            nn.Dropout(0.1),\n",
        "            nn.Linear(98, 10),\n",
        "        )\n",
        "\n",
        "    def forward(self, x):\n",
        "        x = x.view(-1, 28 * 28)\n",
        "        return self.layers(x)"
      ]
    },
    {
      "cell_type": "code",
      "execution_count": 46,
      "id": "a832fd9d",
      "metadata": {
        "colab": {
          "base_uri": "https://localhost:8080/"
        },
        "id": "a832fd9d",
        "outputId": "38badc52-3cfa-4ca9-eb64-46354f995c4c"
      },
      "outputs": [
        {
          "output_type": "stream",
          "name": "stdout",
          "text": [
            "--------------------------------------------------------------------------------\n",
            "Epochs 1   train loss 2.30428 train acc 0.09714 val loss 2.29954 val acc 0.10857\n",
            "--------------------------------------------------------------------------------\n",
            "Epochs 2   train loss 2.30184 train acc 0.12000 val loss 2.29921 val acc 0.12000\n",
            "--------------------------------------------------------------------------------\n",
            "Epochs 3   train loss 2.30059 train acc 0.11873 val loss 2.29859 val acc 0.13714\n",
            "--------------------------------------------------------------------------------\n",
            "Epochs 4   train loss 2.29907 train acc 0.13270 val loss 2.29785 val acc 0.14857\n",
            "--------------------------------------------------------------------------------\n",
            "Epochs 5   train loss 2.29699 train acc 0.15175 val loss 2.29687 val acc 0.17714\n",
            "--------------------------------------------------------------------------------\n",
            "Epochs 6   train loss 2.29518 train acc 0.16317 val loss 2.29553 val acc 0.17143\n",
            "--------------------------------------------------------------------------------\n",
            "Epochs 7   train loss 2.29337 train acc 0.18095 val loss 2.29380 val acc 0.20571\n",
            "--------------------------------------------------------------------------------\n",
            "Epochs 8   train loss 2.29092 train acc 0.19175 val loss 2.29187 val acc 0.23429\n",
            "--------------------------------------------------------------------------------\n",
            "Epochs 9   train loss 2.28816 train acc 0.19238 val loss 2.28940 val acc 0.25143\n",
            "--------------------------------------------------------------------------------\n",
            "Epochs 10  train loss 2.28419 train acc 0.23175 val loss 2.28589 val acc 0.28000\n",
            "--------------------------------------------------------------------------------\n",
            "Epochs 11  train loss 2.27963 train acc 0.30603 val loss 2.28151 val acc 0.30286\n",
            "--------------------------------------------------------------------------------\n",
            "Epochs 12  train loss 2.27409 train acc 0.29714 val loss 2.27557 val acc 0.32000\n",
            "--------------------------------------------------------------------------------\n",
            "Epochs 13  train loss 2.26661 train acc 0.31556 val loss 2.26747 val acc 0.33714\n",
            "--------------------------------------------------------------------------------\n",
            "Epochs 14  train loss 2.25651 train acc 0.33016 val loss 2.25669 val acc 0.33714\n",
            "--------------------------------------------------------------------------------\n",
            "Epochs 15  train loss 2.24299 train acc 0.31175 val loss 2.24118 val acc 0.31429\n",
            "--------------------------------------------------------------------------------\n",
            "Epochs 16  train loss 2.22461 train acc 0.31238 val loss 2.21943 val acc 0.30857\n",
            "--------------------------------------------------------------------------------\n",
            "Epochs 17  train loss 2.19550 train acc 0.30159 val loss 2.18823 val acc 0.30857\n",
            "--------------------------------------------------------------------------------\n",
            "Epochs 18  train loss 2.15840 train acc 0.28952 val loss 2.14443 val acc 0.32000\n",
            "--------------------------------------------------------------------------------\n",
            "Epochs 19  train loss 2.10230 train acc 0.31556 val loss 2.08254 val acc 0.27429\n",
            "--------------------------------------------------------------------------------\n",
            "Epochs 20  train loss 2.03195 train acc 0.31746 val loss 2.00299 val acc 0.29714\n",
            "--------------------------------------------------------------------------------\n",
            "Epochs 21  train loss 1.94206 train acc 0.34222 val loss 1.90828 val acc 0.35429\n",
            "--------------------------------------------------------------------------------\n",
            "Epochs 22  train loss 1.84043 train acc 0.35492 val loss 1.79852 val acc 0.39429\n",
            "--------------------------------------------------------------------------------\n",
            "Epochs 23  train loss 1.72599 train acc 0.41460 val loss 1.68588 val acc 0.42286\n",
            "--------------------------------------------------------------------------------\n",
            "Epochs 24  train loss 1.62411 train acc 0.43238 val loss 1.59005 val acc 0.48571\n",
            "--------------------------------------------------------------------------------\n",
            "Epochs 25  train loss 1.52957 train acc 0.46857 val loss 1.48393 val acc 0.53143\n",
            "--------------------------------------------------------------------------------\n",
            "Epochs 26  train loss 1.45771 train acc 0.49841 val loss 1.42031 val acc 0.54286\n",
            "--------------------------------------------------------------------------------\n",
            "Epochs 27  train loss 1.39051 train acc 0.53778 val loss 1.36565 val acc 0.54286\n",
            "--------------------------------------------------------------------------------\n",
            "Epochs 28  train loss 1.33465 train acc 0.55937 val loss 1.32065 val acc 0.58286\n",
            "--------------------------------------------------------------------------------\n",
            "Epochs 29  train loss 1.29335 train acc 0.55810 val loss 1.28916 val acc 0.61714\n",
            "--------------------------------------------------------------------------------\n",
            "Epochs 30  train loss 1.23503 train acc 0.58286 val loss 1.28895 val acc 0.61143\n",
            "--------------------------------------------------------------------------------\n",
            "Epochs 31  train loss 1.23803 train acc 0.58984 val loss 1.24770 val acc 0.60571\n",
            "--------------------------------------------------------------------------------\n",
            "Epochs 32  train loss 1.19137 train acc 0.61016 val loss 1.24935 val acc 0.58857\n",
            "--------------------------------------------------------------------------------\n",
            "Epochs 33  train loss 1.16304 train acc 0.61460 val loss 1.20922 val acc 0.64571\n",
            "--------------------------------------------------------------------------------\n",
            "Epochs 34  train loss 1.14159 train acc 0.62095 val loss 1.21751 val acc 0.63429\n",
            "--------------------------------------------------------------------------------\n",
            "Epochs 35  train loss 1.11226 train acc 0.63683 val loss 1.19547 val acc 0.64000\n",
            "--------------------------------------------------------------------------------\n",
            "Epochs 36  train loss 1.07694 train acc 0.65778 val loss 1.18569 val acc 0.65143\n",
            "--------------------------------------------------------------------------------\n",
            "Epochs 37  train loss 1.05359 train acc 0.66984 val loss 1.18216 val acc 0.65714\n",
            "--------------------------------------------------------------------------------\n",
            "Epochs 38  train loss 1.04240 train acc 0.65206 val loss 1.16465 val acc 0.66286\n",
            "--------------------------------------------------------------------------------\n",
            "Epochs 39  train loss 1.00985 train acc 0.66857 val loss 1.18134 val acc 0.62857\n",
            "--------------------------------------------------------------------------------\n",
            "Epochs 40  train loss 0.98481 train acc 0.67238 val loss 1.15171 val acc 0.64000\n",
            "--------------------------------------------------------------------------------\n",
            "Epochs 41  train loss 0.96670 train acc 0.67873 val loss 1.14967 val acc 0.63429\n",
            "--------------------------------------------------------------------------------\n",
            "Epochs 42  train loss 0.93322 train acc 0.69270 val loss 1.14063 val acc 0.63429\n",
            "--------------------------------------------------------------------------------\n",
            "Epochs 43  train loss 0.91024 train acc 0.71302 val loss 1.14455 val acc 0.62857\n",
            "--------------------------------------------------------------------------------\n",
            "Epochs 44  train loss 0.86902 train acc 0.71937 val loss 1.13259 val acc 0.67429\n",
            "--------------------------------------------------------------------------------\n",
            "Epochs 45  train loss 0.86318 train acc 0.72000 val loss 1.11877 val acc 0.65143\n",
            "--------------------------------------------------------------------------------\n",
            "Epochs 46  train loss 0.83328 train acc 0.73397 val loss 1.11680 val acc 0.64571\n",
            "--------------------------------------------------------------------------------\n",
            "Epochs 47  train loss 0.81584 train acc 0.73905 val loss 1.10891 val acc 0.64571\n",
            "--------------------------------------------------------------------------------\n",
            "Epochs 48  train loss 0.78865 train acc 0.74540 val loss 1.11279 val acc 0.62857\n",
            "--------------------------------------------------------------------------------\n",
            "Epochs 49  train loss 0.75250 train acc 0.74222 val loss 1.09284 val acc 0.65143\n",
            "--------------------------------------------------------------------------------\n",
            "Epochs 50  train loss 0.73293 train acc 0.76889 val loss 1.08806 val acc 0.65143\n",
            "--------------------------------------------------------------------------------\n"
          ]
        }
      ],
      "source": [
        "n_epochs = 50\n",
        "drop_model = DropoutThaiDigit()  # Initialize a model\n",
        "loss_fn = nn.CrossEntropyLoss()\n",
        "optimizer = torch.optim.SGD(drop_model.parameters(), lr=0.01)\n",
        "\n",
        "drop_model, drop_model_history = train(drop_model, n_epochs, loss_fn, optimizer, train_loader, val_loader)"
      ]
    },
    {
      "cell_type": "code",
      "execution_count": 47,
      "id": "fa154266",
      "metadata": {
        "colab": {
          "base_uri": "https://localhost:8080/"
        },
        "id": "fa154266",
        "outputId": "f35ab85d-a139-400e-f9fb-65c36d937db9"
      },
      "outputs": [
        {
          "output_type": "stream",
          "name": "stdout",
          "text": [
            "Accuracy: 65.14%\n"
          ]
        }
      ],
      "source": [
        "results = evaluate(val_df, drop_model)"
      ]
    },
    {
      "cell_type": "code",
      "execution_count": 48,
      "id": "kD2hDwhPzV9m",
      "metadata": {
        "colab": {
          "base_uri": "https://localhost:8080/",
          "height": 294
        },
        "id": "kD2hDwhPzV9m",
        "outputId": "047e98fa-c9f7-4708-e074-51c9cb2342ed"
      },
      "outputs": [
        {
          "output_type": "display_data",
          "data": {
            "text/plain": [
              "<Figure size 720x288 with 2 Axes>"
            ],
            "image/png": "[encoded data removed]"
          },
          "metadata": {
            "needs_background": "light"
          }
        }
      ],
      "source": [
        "plot_graph(drop_model_history)"
      ]
    },
    {
      "cell_type": "markdown",
      "id": "b611d20b",
      "metadata": {
        "id": "b611d20b"
      },
      "source": [
        "Now the gap between the training accuracy and validation accuracy is smaller than before."
      ]
    },
    {
      "cell_type": "markdown",
      "id": "_R305_c-sBGn",
      "metadata": {
        "id": "_R305_c-sBGn"
      },
      "source": [
        "## **Image Augmentation**\n",
        "\n",
        "Image augmentation is a technique used to artificially increase the size of a training dataset by creating modified versions of existing images."
      ]
    },
    {
      "cell_type": "code",
      "execution_count": 50,
      "id": "XS14ZI0b_Wla",
      "metadata": {
        "id": "XS14ZI0b_Wla"
      },
      "outputs": [],
      "source": [
        "# augment_transform is same as transform but add RandomAffine to the image\n",
        "\n",
        "train_transform = transforms.Compose([\n",
        "    transforms.Resize((28, 28)),\n",
        "    transforms.Grayscale(),\n",
        "    transforms.RandomAffine(degrees=(15, 30), translate=(0.05, 0.1), scale=(1, 1)),\n",
        "    transforms.ToTensor(),\n",
        "])\n",
        "\n",
        "val_transform = transforms.Compose([\n",
        "    transforms.Resize((28, 28)),\n",
        "    transforms.Grayscale(),\n",
        "    transforms.ToTensor(),\n",
        "])"
      ]
    },
    {
      "cell_type": "code",
      "execution_count": 51,
      "id": "d52dee8c",
      "metadata": {
        "id": "d52dee8c"
      },
      "outputs": [],
      "source": [
        "example_augment_data = ThaiDigitDataset(train_df, transform=train_transform)\n",
        "example_dataloader = DataLoader(example_augment_data, batch_size=16, shuffle=True)"
      ]
    },
    {
      "cell_type": "code",
      "execution_count": 53,
      "id": "663cd6b7",
      "metadata": {
        "colab": {
          "base_uri": "https://localhost:8080/",
          "height": 265
        },
        "id": "663cd6b7",
        "outputId": "992c7c9f-67d7-4e1f-caed-262351ffac6a"
      },
      "outputs": [
        {
          "output_type": "display_data",
          "data": {
            "text/plain": [
              "<Figure size 432x288 with 1 Axes>"
            ],
            "image/png": "[encoded data removed]"
          },
          "metadata": {
            "needs_background": "light"
          }
        }
      ],
      "source": [
        "# Example of augmented image\n",
        "img = (next(iter(example_dataloader))[0][1])\n",
        "transformed_img = 1 - img\n",
        "\n",
        "plt.imshow(transformed_img.squeeze(0), cmap=\"gray\")\n",
        "plt.show()"
      ]
    },
    {
      "cell_type": "code",
      "source": [
        "augmented_train_dataset = ThaiDigitDataset(train_df, transform=train_transform)\n",
        "val_dataset = ThaiDigitDataset(val_df, transform=val_transform)"
      ],
      "metadata": {
        "id": "qtpgbABlefBj"
      },
      "id": "qtpgbABlefBj",
      "execution_count": 54,
      "outputs": []
    },
    {
      "cell_type": "code",
      "source": [
        "train_dataset = ConcatDataset([train_thaidigit_dataset, augmented_train_dataset])"
      ],
      "metadata": {
        "id": "ybMkR3hoevDS"
      },
      "id": "ybMkR3hoevDS",
      "execution_count": 55,
      "outputs": []
    },
    {
      "cell_type": "code",
      "source": [
        "train_dataloader = DataLoader(train_dataset, batch_size=16, shuffle=True)\n",
        "val_dataloader = DataLoader(val_dataset, batch_size=16, shuffle=False)"
      ],
      "metadata": {
        "id": "DWmjYCRmfOfH"
      },
      "id": "DWmjYCRmfOfH",
      "execution_count": 56,
      "outputs": []
    },
    {
      "cell_type": "code",
      "execution_count": 57,
      "id": "acc729d5",
      "metadata": {
        "colab": {
          "base_uri": "https://localhost:8080/"
        },
        "id": "acc729d5",
        "outputId": "b3958e7c-7b20-4c80-8e5c-03efd7afd6e8"
      },
      "outputs": [
        {
          "output_type": "stream",
          "name": "stdout",
          "text": [
            "--------------------------------------------------------------------------------\n",
            "Epochs 1   train loss 2.30426 train acc 0.09683 val loss 2.30490 val acc 0.09714\n",
            "--------------------------------------------------------------------------------\n",
            "Epochs 2   train loss 2.30246 train acc 0.10222 val loss 2.30365 val acc 0.10857\n",
            "--------------------------------------------------------------------------------\n",
            "Epochs 3   train loss 2.30077 train acc 0.10603 val loss 2.30221 val acc 0.11429\n",
            "--------------------------------------------------------------------------------\n",
            "Epochs 4   train loss 2.29835 train acc 0.12540 val loss 2.30039 val acc 0.11429\n",
            "--------------------------------------------------------------------------------\n",
            "Epochs 5   train loss 2.29611 train acc 0.12984 val loss 2.29824 val acc 0.14286\n",
            "--------------------------------------------------------------------------------\n",
            "Epochs 6   train loss 2.29342 train acc 0.14254 val loss 2.29527 val acc 0.15429\n",
            "--------------------------------------------------------------------------------\n",
            "Epochs 7   train loss 2.29003 train acc 0.18032 val loss 2.29107 val acc 0.17143\n",
            "--------------------------------------------------------------------------------\n",
            "Epochs 8   train loss 2.28380 train acc 0.17429 val loss 2.28465 val acc 0.20000\n",
            "--------------------------------------------------------------------------------\n",
            "Epochs 9   train loss 2.27602 train acc 0.20222 val loss 2.27492 val acc 0.21143\n",
            "--------------------------------------------------------------------------------\n",
            "Epochs 10  train loss 2.26366 train acc 0.21587 val loss 2.25812 val acc 0.22857\n",
            "--------------------------------------------------------------------------------\n",
            "Epochs 11  train loss 2.24210 train acc 0.22127 val loss 2.22908 val acc 0.23429\n",
            "--------------------------------------------------------------------------------\n",
            "Epochs 12  train loss 2.20335 train acc 0.25714 val loss 2.17617 val acc 0.24571\n",
            "--------------------------------------------------------------------------------\n",
            "Epochs 13  train loss 2.13153 train acc 0.27238 val loss 2.08230 val acc 0.26857\n",
            "--------------------------------------------------------------------------------\n",
            "Epochs 14  train loss 2.02818 train acc 0.30413 val loss 1.94166 val acc 0.32571\n",
            "--------------------------------------------------------------------------------\n",
            "Epochs 15  train loss 1.88981 train acc 0.35746 val loss 1.77547 val acc 0.39429\n",
            "--------------------------------------------------------------------------------\n",
            "Epochs 16  train loss 1.74147 train acc 0.40254 val loss 1.62817 val acc 0.42286\n",
            "--------------------------------------------------------------------------------\n",
            "Epochs 17  train loss 1.64303 train acc 0.42889 val loss 1.51514 val acc 0.49714\n",
            "--------------------------------------------------------------------------------\n",
            "Epochs 18  train loss 1.55367 train acc 0.44857 val loss 1.46512 val acc 0.49143\n",
            "--------------------------------------------------------------------------------\n",
            "Epochs 19  train loss 1.51553 train acc 0.46159 val loss 1.42298 val acc 0.53714\n",
            "--------------------------------------------------------------------------------\n",
            "Epochs 20  train loss 1.46094 train acc 0.48762 val loss 1.38388 val acc 0.53714\n",
            "--------------------------------------------------------------------------------\n",
            "Epochs 21  train loss 1.40431 train acc 0.52286 val loss 1.35364 val acc 0.56000\n",
            "--------------------------------------------------------------------------------\n",
            "Epochs 22  train loss 1.36765 train acc 0.53524 val loss 1.30299 val acc 0.62286\n",
            "--------------------------------------------------------------------------------\n",
            "Epochs 23  train loss 1.32869 train acc 0.55746 val loss 1.31453 val acc 0.57714\n",
            "--------------------------------------------------------------------------------\n",
            "Epochs 24  train loss 1.28105 train acc 0.57111 val loss 1.26145 val acc 0.61714\n",
            "--------------------------------------------------------------------------------\n",
            "Epochs 25  train loss 1.24498 train acc 0.58889 val loss 1.25021 val acc 0.60000\n",
            "--------------------------------------------------------------------------------\n",
            "Epochs 26  train loss 1.19891 train acc 0.60635 val loss 1.20125 val acc 0.64000\n",
            "--------------------------------------------------------------------------------\n",
            "Epochs 27  train loss 1.15529 train acc 0.61968 val loss 1.19883 val acc 0.65143\n",
            "--------------------------------------------------------------------------------\n",
            "Epochs 28  train loss 1.14432 train acc 0.62349 val loss 1.15818 val acc 0.65143\n",
            "--------------------------------------------------------------------------------\n",
            "Epochs 29  train loss 1.09593 train acc 0.64762 val loss 1.14404 val acc 0.65714\n",
            "--------------------------------------------------------------------------------\n",
            "Epochs 30  train loss 1.05215 train acc 0.65778 val loss 1.14287 val acc 0.65143\n",
            "--------------------------------------------------------------------------------\n",
            "Epochs 31  train loss 1.01658 train acc 0.67492 val loss 1.14215 val acc 0.65143\n",
            "--------------------------------------------------------------------------------\n",
            "Epochs 32  train loss 0.99307 train acc 0.67079 val loss 1.09712 val acc 0.66857\n",
            "--------------------------------------------------------------------------------\n",
            "Epochs 33  train loss 0.96458 train acc 0.67714 val loss 1.06536 val acc 0.60000\n",
            "--------------------------------------------------------------------------------\n",
            "Epochs 34  train loss 0.94052 train acc 0.69810 val loss 1.07247 val acc 0.64571\n",
            "--------------------------------------------------------------------------------\n",
            "Epochs 35  train loss 0.90549 train acc 0.70286 val loss 1.07955 val acc 0.66286\n",
            "--------------------------------------------------------------------------------\n",
            "Epochs 36  train loss 0.90252 train acc 0.68952 val loss 1.05552 val acc 0.65714\n",
            "--------------------------------------------------------------------------------\n",
            "Epochs 37  train loss 0.87928 train acc 0.70476 val loss 1.05674 val acc 0.66857\n",
            "--------------------------------------------------------------------------------\n",
            "Epochs 38  train loss 0.84363 train acc 0.72476 val loss 1.06057 val acc 0.64000\n",
            "--------------------------------------------------------------------------------\n",
            "Epochs 39  train loss 0.82866 train acc 0.72825 val loss 1.01710 val acc 0.66286\n",
            "--------------------------------------------------------------------------------\n",
            "Epochs 40  train loss 0.80896 train acc 0.73143 val loss 1.00706 val acc 0.67429\n",
            "--------------------------------------------------------------------------------\n",
            "Epochs 41  train loss 0.78706 train acc 0.74444 val loss 1.02334 val acc 0.66286\n",
            "--------------------------------------------------------------------------------\n",
            "Epochs 42  train loss 0.79511 train acc 0.73587 val loss 0.99976 val acc 0.68571\n",
            "--------------------------------------------------------------------------------\n",
            "Epochs 43  train loss 0.76597 train acc 0.74984 val loss 1.01284 val acc 0.68571\n",
            "--------------------------------------------------------------------------------\n",
            "Epochs 44  train loss 0.72836 train acc 0.77111 val loss 1.02252 val acc 0.69714\n",
            "--------------------------------------------------------------------------------\n",
            "Epochs 45  train loss 0.73682 train acc 0.76127 val loss 1.01022 val acc 0.69714\n",
            "--------------------------------------------------------------------------------\n",
            "Epochs 46  train loss 0.71126 train acc 0.76317 val loss 0.99280 val acc 0.68571\n",
            "--------------------------------------------------------------------------------\n",
            "Epochs 47  train loss 0.70899 train acc 0.76952 val loss 0.99469 val acc 0.69143\n",
            "--------------------------------------------------------------------------------\n",
            "Epochs 48  train loss 0.69803 train acc 0.76889 val loss 0.97351 val acc 0.68000\n",
            "--------------------------------------------------------------------------------\n",
            "Epochs 49  train loss 0.67895 train acc 0.78571 val loss 0.97544 val acc 0.69143\n",
            "--------------------------------------------------------------------------------\n",
            "Epochs 50  train loss 0.65787 train acc 0.78444 val loss 0.99920 val acc 0.68000\n",
            "--------------------------------------------------------------------------------\n"
          ]
        }
      ],
      "source": [
        "# Let's train the model with augmented data\n",
        "n_epochs = 50\n",
        "augmented_model = DropoutThaiDigit()  # Initialize the model\n",
        "loss_fn = nn.CrossEntropyLoss()\n",
        "optimizer = torch.optim.SGD(augmented_model.parameters(), lr=0.01)\n",
        "\n",
        "augmented_model, augmented_model_history = train(\n",
        "    augmented_model, n_epochs, loss_fn, optimizer, train_dataloader, val_dataloader\n",
        ")"
      ]
    },
    {
      "cell_type": "code",
      "execution_count": 58,
      "id": "j4Z2ZXWnjqYt",
      "metadata": {
        "colab": {
          "base_uri": "https://localhost:8080/"
        },
        "id": "j4Z2ZXWnjqYt",
        "outputId": "ead79692-c28f-4866-84a2-97c346ac2656"
      },
      "outputs": [
        {
          "output_type": "stream",
          "name": "stdout",
          "text": [
            "Accuracy: 68.00%\n"
          ]
        }
      ],
      "source": [
        "# Evaluate the new model with old dataset.\n",
        "results = evaluate(val_df, augmented_model)"
      ]
    },
    {
      "cell_type": "code",
      "execution_count": 60,
      "id": "oI1CjNUMkXWv",
      "metadata": {
        "colab": {
          "base_uri": "https://localhost:8080/",
          "height": 294
        },
        "id": "oI1CjNUMkXWv",
        "outputId": "8e654ff4-73e4-4143-9329-ee7a98ff171c"
      },
      "outputs": [
        {
          "output_type": "display_data",
          "data": {
            "text/plain": [
              "<Figure size 720x288 with 2 Axes>"
            ],
            "image/png": "[encoded data removed]"
          },
          "metadata": {
            "needs_background": "light"
          }
        }
      ],
      "source": [
        "plot_graph(augmented_model_history)"
      ]
    },
    {
      "cell_type": "code",
      "source": [
        "# Confusion matrix\n",
        "cm = confusion_matrix(results.text, results.prediction, labels=range(10))\n",
        "display = ConfusionMatrixDisplay(confusion_matrix=cm, display_labels=range(10))\n",
        "display.plot()\n",
        "plt.show()"
      ],
      "metadata": {
        "colab": {
          "base_uri": "https://localhost:8080/",
          "height": 279
        },
        "id": "Ue8KJ1UhkQHe",
        "outputId": "b4284761-8153-43b1-c5ce-668bc30a0aca"
      },
      "id": "Ue8KJ1UhkQHe",
      "execution_count": 61,
      "outputs": [
        {
          "output_type": "display_data",
          "data": {
            "text/plain": [
              "<Figure size 432x288 with 2 Axes>"
            ],
            "image/png": "[encoded data removed]"
          },
          "metadata": {
            "needs_background": "light"
          }
        }
      ]
    }
  ],
  "metadata": {
    "colab": {
      "provenance": []
    },
    "gpuClass": "standard",
    "kernelspec": {
      "display_name": "Python 3 (ipykernel)",
      "language": "python",
      "name": "python3"
    },
    "language_info": {
      "codemirror_mode": {
        "name": "ipython",
        "version": 3
      },
      "file_extension": ".py",
      "mimetype": "text/x-python",
      "name": "python",
      "nbconvert_exporter": "python",
      "pygments_lexer": "ipython3",
      "version": "3.7.13"
    },
    "vscode": {
      "interpreter": {
        "hash": "63ce3f086f3d35aeaa98481dc3e6117e1ab6d0e955643b11e97a8ed761553864"
      }
    },
    "widgets": {
      "application/vnd.jupyter.widget-state+json": {
        "8f7855ac77b945c3ae4a1491e44fd690": {
          "model_module": "@jupyter-widgets/controls",
          "model_name": "HBoxModel",
          "model_module_version": "1.5.0",
          "state": {
            "_dom_classes": [],
            "_model_module": "@jupyter-widgets/controls",
            "_model_module_version": "1.5.0",
            "_model_name": "HBoxModel",
            "_view_count": null,
            "_view_module": "@jupyter-widgets/controls",
            "_view_module_version": "1.5.0",
            "_view_name": "HBoxView",
            "box_style": "",
            "children": [
              "IPY_MODEL_3060310cd9394269855b3e41520b27fd",
              "IPY_MODEL_d99b30c950034e6c99ef4f4e6626b08c",
              "IPY_MODEL_8e72355a6d7e4db7aae698e24488ea2c"
            ],
            "layout": "IPY_MODEL_e1fd0e30b42d4fc19c8dbda4a9985d38"
          }
        },
        "3060310cd9394269855b3e41520b27fd": {
          "model_module": "@jupyter-widgets/controls",
          "model_name": "HTMLModel",
          "model_module_version": "1.5.0",
          "state": {
            "_dom_classes": [],
            "_model_module": "@jupyter-widgets/controls",
            "_model_module_version": "1.5.0",
            "_model_name": "HTMLModel",
            "_view_count": null,
            "_view_module": "@jupyter-widgets/controls",
            "_view_module_version": "1.5.0",
            "_view_name": "HTMLView",
            "description": "",
            "description_tooltip": null,
            "layout": "IPY_MODEL_0f553e0af94c4a54aaa80783b5397aa5",
            "placeholder": "​",
            "style": "IPY_MODEL_a1c37ec8e07942778663affbf9851768",
            "value": "100%"
          }
        },
        "d99b30c950034e6c99ef4f4e6626b08c": {
          "model_module": "@jupyter-widgets/controls",
          "model_name": "FloatProgressModel",
          "model_module_version": "1.5.0",
          "state": {
            "_dom_classes": [],
            "_model_module": "@jupyter-widgets/controls",
            "_model_module_version": "1.5.0",
            "_model_name": "FloatProgressModel",
            "_view_count": null,
            "_view_module": "@jupyter-widgets/controls",
            "_view_module_version": "1.5.0",
            "_view_name": "ProgressView",
            "bar_style": "success",
            "description": "",
            "description_tooltip": null,
            "layout": "IPY_MODEL_ad2289d62c7946e0b8e8c88f5a9d7f96",
            "max": 1575,
            "min": 0,
            "orientation": "horizontal",
            "style": "IPY_MODEL_5e4002ecd7b04cd68c9be1bca5debf07",
            "value": 1575
          }
        },
        "8e72355a6d7e4db7aae698e24488ea2c": {
          "model_module": "@jupyter-widgets/controls",
          "model_name": "HTMLModel",
          "model_module_version": "1.5.0",
          "state": {
            "_dom_classes": [],
            "_model_module": "@jupyter-widgets/controls",
            "_model_module_version": "1.5.0",
            "_model_name": "HTMLModel",
            "_view_count": null,
            "_view_module": "@jupyter-widgets/controls",
            "_view_module_version": "1.5.0",
            "_view_name": "HTMLView",
            "description": "",
            "description_tooltip": null,
            "layout": "IPY_MODEL_c2f32fc4c1324d52ac57fdee894ea0c4",
            "placeholder": "​",
            "style": "IPY_MODEL_78599379280c41f9a96510777e2aa8eb",
            "value": " 1575/1575 [00:00&lt;00:00, 5397.43it/s]"
          }
        },
        "e1fd0e30b42d4fc19c8dbda4a9985d38": {
          "model_module": "@jupyter-widgets/base",
          "model_name": "LayoutModel",
          "model_module_version": "1.2.0",
          "state": {
            "_model_module": "@jupyter-widgets/base",
            "_model_module_version": "1.2.0",
            "_model_name": "LayoutModel",
            "_view_count": null,
            "_view_module": "@jupyter-widgets/base",
            "_view_module_version": "1.2.0",
            "_view_name": "LayoutView",
            "align_content": null,
            "align_items": null,
            "align_self": null,
            "border": null,
            "bottom": null,
            "display": null,
            "flex": null,
            "flex_flow": null,
            "grid_area": null,
            "grid_auto_columns": null,
            "grid_auto_flow": null,
            "grid_auto_rows": null,
            "grid_column": null,
            "grid_gap": null,
            "grid_row": null,
            "grid_template_areas": null,
            "grid_template_columns": null,
            "grid_template_rows": null,
            "height": null,
            "justify_content": null,
            "justify_items": null,
            "left": null,
            "margin": null,
            "max_height": null,
            "max_width": null,
            "min_height": null,
            "min_width": null,
            "object_fit": null,
            "object_position": null,
            "order": null,
            "overflow": null,
            "overflow_x": null,
            "overflow_y": null,
            "padding": null,
            "right": null,
            "top": null,
            "visibility": null,
            "width": null
          }
        },
        "0f553e0af94c4a54aaa80783b5397aa5": {
          "model_module": "@jupyter-widgets/base",
          "model_name": "LayoutModel",
          "model_module_version": "1.2.0",
          "state": {
            "_model_module": "@jupyter-widgets/base",
            "_model_module_version": "1.2.0",
            "_model_name": "LayoutModel",
            "_view_count": null,
            "_view_module": "@jupyter-widgets/base",
            "_view_module_version": "1.2.0",
            "_view_name": "LayoutView",
            "align_content": null,
            "align_items": null,
            "align_self": null,
            "border": null,
            "bottom": null,
            "display": null,
            "flex": null,
            "flex_flow": null,
            "grid_area": null,
            "grid_auto_columns": null,
            "grid_auto_flow": null,
            "grid_auto_rows": null,
            "grid_column": null,
            "grid_gap": null,
            "grid_row": null,
            "grid_template_areas": null,
            "grid_template_columns": null,
            "grid_template_rows": null,
            "height": null,
            "justify_content": null,
            "justify_items": null,
            "left": null,
            "margin": null,
            "max_height": null,
            "max_width": null,
            "min_height": null,
            "min_width": null,
            "object_fit": null,
            "object_position": null,
            "order": null,
            "overflow": null,
            "overflow_x": null,
            "overflow_y": null,
            "padding": null,
            "right": null,
            "top": null,
            "visibility": null,
            "width": null
          }
        },
        "a1c37ec8e07942778663affbf9851768": {
          "model_module": "@jupyter-widgets/controls",
          "model_name": "DescriptionStyleModel",
          "model_module_version": "1.5.0",
          "state": {
            "_model_module": "@jupyter-widgets/controls",
            "_model_module_version": "1.5.0",
            "_model_name": "DescriptionStyleModel",
            "_view_count": null,
            "_view_module": "@jupyter-widgets/base",
            "_view_module_version": "1.2.0",
            "_view_name": "StyleView",
            "description_width": ""
          }
        },
        "ad2289d62c7946e0b8e8c88f5a9d7f96": {
          "model_module": "@jupyter-widgets/base",
          "model_name": "LayoutModel",
          "model_module_version": "1.2.0",
          "state": {
            "_model_module": "@jupyter-widgets/base",
            "_model_module_version": "1.2.0",
            "_model_name": "LayoutModel",
            "_view_count": null,
            "_view_module": "@jupyter-widgets/base",
            "_view_module_version": "1.2.0",
            "_view_name": "LayoutView",
            "align_content": null,
            "align_items": null,
            "align_self": null,
            "border": null,
            "bottom": null,
            "display": null,
            "flex": null,
            "flex_flow": null,
            "grid_area": null,
            "grid_auto_columns": null,
            "grid_auto_flow": null,
            "grid_auto_rows": null,
            "grid_column": null,
            "grid_gap": null,
            "grid_row": null,
            "grid_template_areas": null,
            "grid_template_columns": null,
            "grid_template_rows": null,
            "height": null,
            "justify_content": null,
            "justify_items": null,
            "left": null,
            "margin": null,
            "max_height": null,
            "max_width": null,
            "min_height": null,
            "min_width": null,
            "object_fit": null,
            "object_position": null,
            "order": null,
            "overflow": null,
            "overflow_x": null,
            "overflow_y": null,
            "padding": null,
            "right": null,
            "top": null,
            "visibility": null,
            "width": null
          }
        },
        "5e4002ecd7b04cd68c9be1bca5debf07": {
          "model_module": "@jupyter-widgets/controls",
          "model_name": "ProgressStyleModel",
          "model_module_version": "1.5.0",
          "state": {
            "_model_module": "@jupyter-widgets/controls",
            "_model_module_version": "1.5.0",
            "_model_name": "ProgressStyleModel",
            "_view_count": null,
            "_view_module": "@jupyter-widgets/base",
            "_view_module_version": "1.2.0",
            "_view_name": "StyleView",
            "bar_color": null,
            "description_width": ""
          }
        },
        "c2f32fc4c1324d52ac57fdee894ea0c4": {
          "model_module": "@jupyter-widgets/base",
          "model_name": "LayoutModel",
          "model_module_version": "1.2.0",
          "state": {
            "_model_module": "@jupyter-widgets/base",
            "_model_module_version": "1.2.0",
            "_model_name": "LayoutModel",
            "_view_count": null,
            "_view_module": "@jupyter-widgets/base",
            "_view_module_version": "1.2.0",
            "_view_name": "LayoutView",
            "align_content": null,
            "align_items": null,
            "align_self": null,
            "border": null,
            "bottom": null,
            "display": null,
            "flex": null,
            "flex_flow": null,
            "grid_area": null,
            "grid_auto_columns": null,
            "grid_auto_flow": null,
            "grid_auto_rows": null,
            "grid_column": null,
            "grid_gap": null,
            "grid_row": null,
            "grid_template_areas": null,
            "grid_template_columns": null,
            "grid_template_rows": null,
            "height": null,
            "justify_content": null,
            "justify_items": null,
            "left": null,
            "margin": null,
            "max_height": null,
            "max_width": null,
            "min_height": null,
            "min_width": null,
            "object_fit": null,
            "object_position": null,
            "order": null,
            "overflow": null,
            "overflow_x": null,
            "overflow_y": null,
            "padding": null,
            "right": null,
            "top": null,
            "visibility": null,
            "width": null
          }
        },
        "78599379280c41f9a96510777e2aa8eb": {
          "model_module": "@jupyter-widgets/controls",
          "model_name": "DescriptionStyleModel",
          "model_module_version": "1.5.0",
          "state": {
            "_model_module": "@jupyter-widgets/controls",
            "_model_module_version": "1.5.0",
            "_model_name": "DescriptionStyleModel",
            "_view_count": null,
            "_view_module": "@jupyter-widgets/base",
            "_view_module_version": "1.2.0",
            "_view_name": "StyleView",
            "description_width": ""
          }
        },
        "1b61136b38ad4173904f02a7fe112446": {
          "model_module": "@jupyter-widgets/controls",
          "model_name": "HBoxModel",
          "model_module_version": "1.5.0",
          "state": {
            "_dom_classes": [],
            "_model_module": "@jupyter-widgets/controls",
            "_model_module_version": "1.5.0",
            "_model_name": "HBoxModel",
            "_view_count": null,
            "_view_module": "@jupyter-widgets/controls",
            "_view_module_version": "1.5.0",
            "_view_name": "HBoxView",
            "box_style": "",
            "children": [
              "IPY_MODEL_b6bd3ecd7ed945e9bd0d7b7e9643cac6",
              "IPY_MODEL_858da27ddece45fa99692bb83cea2f00",
              "IPY_MODEL_64f87b04f3b54a748f73646a834ead29"
            ],
            "layout": "IPY_MODEL_c806315ca35841e88a06e5da0d7a2873"
          }
        },
        "b6bd3ecd7ed945e9bd0d7b7e9643cac6": {
          "model_module": "@jupyter-widgets/controls",
          "model_name": "HTMLModel",
          "model_module_version": "1.5.0",
          "state": {
            "_dom_classes": [],
            "_model_module": "@jupyter-widgets/controls",
            "_model_module_version": "1.5.0",
            "_model_name": "HTMLModel",
            "_view_count": null,
            "_view_module": "@jupyter-widgets/controls",
            "_view_module_version": "1.5.0",
            "_view_name": "HTMLView",
            "description": "",
            "description_tooltip": null,
            "layout": "IPY_MODEL_3e2e4ca14eb44b068892f3e6606d6706",
            "placeholder": "​",
            "style": "IPY_MODEL_aa7c83df8479471d8ca4babf3af92358",
            "value": "100%"
          }
        },
        "858da27ddece45fa99692bb83cea2f00": {
          "model_module": "@jupyter-widgets/controls",
          "model_name": "FloatProgressModel",
          "model_module_version": "1.5.0",
          "state": {
            "_dom_classes": [],
            "_model_module": "@jupyter-widgets/controls",
            "_model_module_version": "1.5.0",
            "_model_name": "FloatProgressModel",
            "_view_count": null,
            "_view_module": "@jupyter-widgets/controls",
            "_view_module_version": "1.5.0",
            "_view_name": "ProgressView",
            "bar_style": "success",
            "description": "",
            "description_tooltip": null,
            "layout": "IPY_MODEL_67f3bed6013e4df394cd055375d1f67c",
            "max": 175,
            "min": 0,
            "orientation": "horizontal",
            "style": "IPY_MODEL_634ffed818a34cdc9ebf2f730cdf67ee",
            "value": 175
          }
        },
        "64f87b04f3b54a748f73646a834ead29": {
          "model_module": "@jupyter-widgets/controls",
          "model_name": "HTMLModel",
          "model_module_version": "1.5.0",
          "state": {
            "_dom_classes": [],
            "_model_module": "@jupyter-widgets/controls",
            "_model_module_version": "1.5.0",
            "_model_name": "HTMLModel",
            "_view_count": null,
            "_view_module": "@jupyter-widgets/controls",
            "_view_module_version": "1.5.0",
            "_view_name": "HTMLView",
            "description": "",
            "description_tooltip": null,
            "layout": "IPY_MODEL_10597e1de7ba4cdaa04ec20f3cb86e7f",
            "placeholder": "​",
            "style": "IPY_MODEL_2cab18f0a7154590b1af25c176a3e0ad",
            "value": " 175/175 [00:00&lt;00:00, 2672.02it/s]"
          }
        },
        "c806315ca35841e88a06e5da0d7a2873": {
          "model_module": "@jupyter-widgets/base",
          "model_name": "LayoutModel",
          "model_module_version": "1.2.0",
          "state": {
            "_model_module": "@jupyter-widgets/base",
            "_model_module_version": "1.2.0",
            "_model_name": "LayoutModel",
            "_view_count": null,
            "_view_module": "@jupyter-widgets/base",
            "_view_module_version": "1.2.0",
            "_view_name": "LayoutView",
            "align_content": null,
            "align_items": null,
            "align_self": null,
            "border": null,
            "bottom": null,
            "display": null,
            "flex": null,
            "flex_flow": null,
            "grid_area": null,
            "grid_auto_columns": null,
            "grid_auto_flow": null,
            "grid_auto_rows": null,
            "grid_column": null,
            "grid_gap": null,
            "grid_row": null,
            "grid_template_areas": null,
            "grid_template_columns": null,
            "grid_template_rows": null,
            "height": null,
            "justify_content": null,
            "justify_items": null,
            "left": null,
            "margin": null,
            "max_height": null,
            "max_width": null,
            "min_height": null,
            "min_width": null,
            "object_fit": null,
            "object_position": null,
            "order": null,
            "overflow": null,
            "overflow_x": null,
            "overflow_y": null,
            "padding": null,
            "right": null,
            "top": null,
            "visibility": null,
            "width": null
          }
        },
        "3e2e4ca14eb44b068892f3e6606d6706": {
          "model_module": "@jupyter-widgets/base",
          "model_name": "LayoutModel",
          "model_module_version": "1.2.0",
          "state": {
            "_model_module": "@jupyter-widgets/base",
            "_model_module_version": "1.2.0",
            "_model_name": "LayoutModel",
            "_view_count": null,
            "_view_module": "@jupyter-widgets/base",
            "_view_module_version": "1.2.0",
            "_view_name": "LayoutView",
            "align_content": null,
            "align_items": null,
            "align_self": null,
            "border": null,
            "bottom": null,
            "display": null,
            "flex": null,
            "flex_flow": null,
            "grid_area": null,
            "grid_auto_columns": null,
            "grid_auto_flow": null,
            "grid_auto_rows": null,
            "grid_column": null,
            "grid_gap": null,
            "grid_row": null,
            "grid_template_areas": null,
            "grid_template_columns": null,
            "grid_template_rows": null,
            "height": null,
            "justify_content": null,
            "justify_items": null,
            "left": null,
            "margin": null,
            "max_height": null,
            "max_width": null,
            "min_height": null,
            "min_width": null,
            "object_fit": null,
            "object_position": null,
            "order": null,
            "overflow": null,
            "overflow_x": null,
            "overflow_y": null,
            "padding": null,
            "right": null,
            "top": null,
            "visibility": null,
            "width": null
          }
        },
        "aa7c83df8479471d8ca4babf3af92358": {
          "model_module": "@jupyter-widgets/controls",
          "model_name": "DescriptionStyleModel",
          "model_module_version": "1.5.0",
          "state": {
            "_model_module": "@jupyter-widgets/controls",
            "_model_module_version": "1.5.0",
            "_model_name": "DescriptionStyleModel",
            "_view_count": null,
            "_view_module": "@jupyter-widgets/base",
            "_view_module_version": "1.2.0",
            "_view_name": "StyleView",
            "description_width": ""
          }
        },
        "67f3bed6013e4df394cd055375d1f67c": {
          "model_module": "@jupyter-widgets/base",
          "model_name": "LayoutModel",
          "model_module_version": "1.2.0",
          "state": {
            "_model_module": "@jupyter-widgets/base",
            "_model_module_version": "1.2.0",
            "_model_name": "LayoutModel",
            "_view_count": null,
            "_view_module": "@jupyter-widgets/base",
            "_view_module_version": "1.2.0",
            "_view_name": "LayoutView",
            "align_content": null,
            "align_items": null,
            "align_self": null,
            "border": null,
            "bottom": null,
            "display": null,
            "flex": null,
            "flex_flow": null,
            "grid_area": null,
            "grid_auto_columns": null,
            "grid_auto_flow": null,
            "grid_auto_rows": null,
            "grid_column": null,
            "grid_gap": null,
            "grid_row": null,
            "grid_template_areas": null,
            "grid_template_columns": null,
            "grid_template_rows": null,
            "height": null,
            "justify_content": null,
            "justify_items": null,
            "left": null,
            "margin": null,
            "max_height": null,
            "max_width": null,
            "min_height": null,
            "min_width": null,
            "object_fit": null,
            "object_position": null,
            "order": null,
            "overflow": null,
            "overflow_x": null,
            "overflow_y": null,
            "padding": null,
            "right": null,
            "top": null,
            "visibility": null,
            "width": null
          }
        },
        "634ffed818a34cdc9ebf2f730cdf67ee": {
          "model_module": "@jupyter-widgets/controls",
          "model_name": "ProgressStyleModel",
          "model_module_version": "1.5.0",
          "state": {
            "_model_module": "@jupyter-widgets/controls",
            "_model_module_version": "1.5.0",
            "_model_name": "ProgressStyleModel",
            "_view_count": null,
            "_view_module": "@jupyter-widgets/base",
            "_view_module_version": "1.2.0",
            "_view_name": "StyleView",
            "bar_color": null,
            "description_width": ""
          }
        },
        "10597e1de7ba4cdaa04ec20f3cb86e7f": {
          "model_module": "@jupyter-widgets/base",
          "model_name": "LayoutModel",
          "model_module_version": "1.2.0",
          "state": {
            "_model_module": "@jupyter-widgets/base",
            "_model_module_version": "1.2.0",
            "_model_name": "LayoutModel",
            "_view_count": null,
            "_view_module": "@jupyter-widgets/base",
            "_view_module_version": "1.2.0",
            "_view_name": "LayoutView",
            "align_content": null,
            "align_items": null,
            "align_self": null,
            "border": null,
            "bottom": null,
            "display": null,
            "flex": null,
            "flex_flow": null,
            "grid_area": null,
            "grid_auto_columns": null,
            "grid_auto_flow": null,
            "grid_auto_rows": null,
            "grid_column": null,
            "grid_gap": null,
            "grid_row": null,
            "grid_template_areas": null,
            "grid_template_columns": null,
            "grid_template_rows": null,
            "height": null,
            "justify_content": null,
            "justify_items": null,
            "left": null,
            "margin": null,
            "max_height": null,
            "max_width": null,
            "min_height": null,
            "min_width": null,
            "object_fit": null,
            "object_position": null,
            "order": null,
            "overflow": null,
            "overflow_x": null,
            "overflow_y": null,
            "padding": null,
            "right": null,
            "top": null,
            "visibility": null,
            "width": null
          }
        },
        "2cab18f0a7154590b1af25c176a3e0ad": {
          "model_module": "@jupyter-widgets/controls",
          "model_name": "DescriptionStyleModel",
          "model_module_version": "1.5.0",
          "state": {
            "_model_module": "@jupyter-widgets/controls",
            "_model_module_version": "1.5.0",
            "_model_name": "DescriptionStyleModel",
            "_view_count": null,
            "_view_module": "@jupyter-widgets/base",
            "_view_module_version": "1.2.0",
            "_view_name": "StyleView",
            "description_width": ""
          }
        }
      }
    }
  },
  "nbformat": 4,
  "nbformat_minor": 5
}