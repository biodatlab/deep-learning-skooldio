{
 "cells": [
  {
   "cell_type": "markdown",
   "id": "cfc52381",
   "metadata": {
    "id": "cfc52381"
   },
   "source": [
    "[![Open in Colab](https://colab.research.google.com/assets/colab-badge.svg)](https://colab.research.google.com/github/biodatlab/deep-learning-skooldio/blob/master/03_handwritten_recognition_explore.ipynb)\n",
    "\n",
    "## **Thai-digit handwritten classification with Pytorch: Exploration**\n",
    "\n",
    "This notebook contains exploration of the \"Thai-digit handwritten classification\" including\n",
    "- Customize model\n",
    "    - Adding layers\n",
    "    - Adding dropout layer\n",
    "- Adding data augmentation"
   ]
  },
  {
   "cell_type": "markdown",
   "id": "3aa56f94",
   "metadata": {
    "id": "3aa56f94"
   },
   "source": [
    "## **Download and clean the dataset from the repository**\n",
    "\n",
    "- We have downloaded the data from https://github.com/kittinan/thai-handwriting-number by cloning the repository\n",
    "- Remove files that have character mismatch (as suggested by the the creator)\n",
    "- Then, we put the cleaned data at https://github.com/biodatlab/deep-learning-skooldio"
   ]
  },
  {
   "cell_type": "code",
   "execution_count": 1,
   "id": "f7deb2f6",
   "metadata": {
    "colab": {
     "base_uri": "https://localhost:8080/"
    },
    "id": "f7deb2f6",
    "outputId": "b9eeaca3-892a-4866-bde8-fd91fca51446"
   },
   "outputs": [
    {
     "name": "stdout",
     "output_type": "stream",
     "text": [
      "Cloning into 'deep-learning-skooldio'...\n",
      "remote: Enumerating objects: 1834, done.\u001b[K\n",
      "remote: Counting objects: 100% (1834/1834), done.\u001b[K\n",
      "remote: Compressing objects: 100% (1794/1794), done.\u001b[K\n",
      "remote: Total 1834 (delta 74), reused 1792 (delta 40), pack-reused 0\u001b[K\n",
      "Receiving objects: 100% (1834/1834), 13.55 MiB | 13.53 MiB/s, done.\n",
      "Resolving deltas: 100% (74/74), done.\n"
     ]
    }
   ],
   "source": [
    "!git clone https://github.com/biodatlab/deep-learning-skooldio"
   ]
  },
  {
   "cell_type": "markdown",
   "id": "29268a34",
   "metadata": {},
   "source": [
    "After cloning the repository, check that `deep-learning-skooldio` should appear in the directory."
   ]
  },
  {
   "cell_type": "code",
   "execution_count": 2,
   "id": "2ad2a443",
   "metadata": {
    "id": "2ad2a443"
   },
   "outputs": [],
   "source": [
    "import os\n",
    "import os.path as op\n",
    "from glob import glob\n",
    "from pathlib import Path\n",
    "import random\n",
    "from PIL import Image\n",
    "from collections import Counter\n",
    "from torch.utils.data import ConcatDataset\n",
    "from sklearn.metrics import confusion_matrix, ConfusionMatrixDisplay"
   ]
  },
  {
   "cell_type": "code",
   "execution_count": 3,
   "id": "64ce2573",
   "metadata": {
    "colab": {
     "base_uri": "https://localhost:8080/"
    },
    "id": "64ce2573",
    "outputId": "b46e8e0a-f9a6-4006-aa5e-16f0baa61eff"
   },
   "outputs": [
    {
     "name": "stdout",
     "output_type": "stream",
     "text": [
      "Number of samples 1750\n"
     ]
    }
   ],
   "source": [
    "directory = \"deep-learning-skooldio/\"\n",
    "paths = glob(op.join(directory, \"thai-handwritten-dataset\", \"*\", \"*\"))\n",
    "num_samples = len(paths)\n",
    "print(\"Number of samples\", num_samples)"
   ]
  },
  {
   "cell_type": "code",
   "execution_count": 4,
   "id": "6aa0f5b4",
   "metadata": {
    "id": "6aa0f5b4"
   },
   "outputs": [],
   "source": [
    "from tqdm.auto import tqdm\n",
    "from sklearn.model_selection import train_test_split\n",
    "import shutil\n",
    "\n",
    "train_paths, test_paths = train_test_split(paths, test_size=0.1, random_state=42)\n",
    "for i in range(10):\n",
    "    os.makedirs(f\"data/train/{i}\", exist_ok=True)\n",
    "    os.makedirs(f\"data/validation/{i}\", exist_ok=True)"
   ]
  },
  {
   "cell_type": "code",
   "execution_count": 5,
   "id": "fe1d237b",
   "metadata": {
    "id": "fe1d237b"
   },
   "outputs": [],
   "source": [
    "def copy_to_destination(src_paths, dst_path: str = \"data/train/\"):\n",
    "    for path in tqdm(src_paths):\n",
    "        path = Path(path)\n",
    "        if path.parent.name == \"10\":\n",
    "            parent_dir = \"0\"\n",
    "        else:\n",
    "            parent_dir = path.parent.name\n",
    "        shutil.copy(path, op.join(dst_path, parent_dir, path.name))"
   ]
  },
  {
   "cell_type": "code",
   "execution_count": 6,
   "id": "af9064ae",
   "metadata": {
    "colab": {
     "base_uri": "https://localhost:8080/",
     "height": 81,
     "referenced_widgets": [
      "644531c592dc41d98599f6f472ae5902",
      "8cc2b594e630433d8731b3a597c22d16",
      "449a09c27c6e4426a399bdc615f06fa9",
      "56df89016dc245e0a85eb6c5ba7e8dba",
      "c222ae9ae89e4689b0389019f41d8f82",
      "646bd7eae6954e1c81b9f0d497b1fef0",
      "344b18e8fcdd4953875762a078b34df3",
      "8702829e983e4f8b9599d7a9bd316115",
      "3c720f063aab46318b7a0986358a9e50",
      "a7c77dc32bc6409282ee68fc508b158b",
      "65bf7fad9a0d4a8aa1608d393492ba6b",
      "16cb7a51c30645f9b969af65d5a99ead",
      "9639a4e75cad41b987fb195b2c8f32ea",
      "96d71adc6cc642ccb9068902877bef6b",
      "7fc48c2a7a764e319fb06397b364d38a",
      "2c8a6d76d68d4d2ba3fd26f184a3df3b",
      "85e17e52667241eda4523964fa03fbb1",
      "c2d7d130db6243ed92b00fbb92651fb3",
      "77d08cd81dd242ac8a409cf334804140",
      "093ceb7950a44cbdb3bf972478f6d47a",
      "b254a1401f2b4b03b92010e66bad2ff3",
      "b5e17b7ac1064b639547b00686616ed2"
     ]
    },
    "id": "af9064ae",
    "outputId": "0197cd3a-eed3-43bb-958c-5b0cf16dbd04"
   },
   "outputs": [
    {
     "data": {
      "application/vnd.jupyter.widget-view+json": {
       "model_id": "644531c592dc41d98599f6f472ae5902",
       "version_major": 2,
       "version_minor": 0
      },
      "text/plain": [
       "  0%|          | 0/1575 [00:00<?, ?it/s]"
      ]
     },
     "metadata": {},
     "output_type": "display_data"
    },
    {
     "data": {
      "application/vnd.jupyter.widget-view+json": {
       "model_id": "16cb7a51c30645f9b969af65d5a99ead",
       "version_major": 2,
       "version_minor": 0
      },
      "text/plain": [
       "  0%|          | 0/175 [00:00<?, ?it/s]"
      ]
     },
     "metadata": {},
     "output_type": "display_data"
    }
   ],
   "source": [
    "copy_to_destination(train_paths, \"data/train/\")\n",
    "copy_to_destination(test_paths, \"data/validation/\")"
   ]
  },
  {
   "cell_type": "markdown",
   "id": "ae55f494",
   "metadata": {
    "id": "ae55f494"
   },
   "source": [
    "## **Create a custom dataset and a dataloader**"
   ]
  },
  {
   "cell_type": "code",
   "execution_count": 7,
   "id": "d0b69d68",
   "metadata": {
    "id": "d0b69d68"
   },
   "outputs": [],
   "source": [
    "import torch\n",
    "from torch.utils.data import Dataset, DataLoader\n",
    "from torchvision import transforms\n",
    "import matplotlib.pyplot as plt\n",
    "import pandas as pd"
   ]
  },
  {
   "cell_type": "code",
   "execution_count": 8,
   "id": "2dbd4be3",
   "metadata": {
    "id": "2dbd4be3"
   },
   "outputs": [],
   "source": [
    "transform = transforms.Compose([\n",
    "    transforms.Resize((28, 28)),\n",
    "    transforms.Grayscale(),\n",
    "    transforms.ToTensor()\n",
    "])"
   ]
  },
  {
   "cell_type": "code",
   "execution_count": 9,
   "id": "yyAx23w8PFLU",
   "metadata": {
    "colab": {
     "base_uri": "https://localhost:8080/"
    },
    "id": "yyAx23w8PFLU",
    "outputId": "442c4cb0-0d4c-4366-ba52-cfb4da69e3f1"
   },
   "outputs": [
    {
     "name": "stdout",
     "output_type": "stream",
     "text": [
      "Number of train images = (1575, 2), number of validation images = (175, 2),\n"
     ]
    }
   ],
   "source": [
    "# Create dataframe\n",
    "train_df = pd.DataFrame({\"path\": glob(\"data/train/*/*\")})\n",
    "val_df = pd.DataFrame({\"path\": glob(\"data/validation/*/*\")})\n",
    "\n",
    "# Create text column from path\n",
    "train_df[\"text\"] = train_df[\"path\"].apply(lambda x: int(Path(x).parent.name))\n",
    "val_df[\"text\"] = val_df[\"path\"].apply(lambda x: int(Path(x).parent.name))\n",
    "\n",
    "# Shape of dataframe\n",
    "print(\"Number of train images = {}, number of validation images = {},\".format(train_df.shape, val_df.shape))"
   ]
  },
  {
   "cell_type": "code",
   "execution_count": 10,
   "id": "09eb4140",
   "metadata": {
    "id": "09eb4140"
   },
   "outputs": [],
   "source": [
    "class ThaiDigitDataset(Dataset):\n",
    "    def __init__(self, dataframe, transform=None):\n",
    "        self.transform = transform\n",
    "        self.dataframe = dataframe\n",
    "\n",
    "    def __len__(self):\n",
    "        return len(self.dataframe)\n",
    "\n",
    "    def __getitem__(self, idx):\n",
    "        label = int(self.dataframe['text'][idx])\n",
    "        image = Image.open(self.dataframe['path'][idx])\n",
    "        if self.transform:\n",
    "            image = 1 - self.transform(image)\n",
    "        return image, label"
   ]
  },
  {
   "cell_type": "code",
   "execution_count": 11,
   "id": "f1175f91",
   "metadata": {
    "id": "f1175f91"
   },
   "outputs": [],
   "source": [
    "train_thaidigit_dataset = ThaiDigitDataset(train_df, transform=transform)\n",
    "val_thaidigit_dataset = ThaiDigitDataset(val_df, transform=transform)"
   ]
  },
  {
   "cell_type": "code",
   "execution_count": 12,
   "id": "d4f83af9",
   "metadata": {
    "id": "d4f83af9"
   },
   "outputs": [],
   "source": [
    "train_loader = DataLoader(train_thaidigit_dataset, batch_size=16, shuffle=True)\n",
    "val_loader = DataLoader(val_thaidigit_dataset, batch_size=16, shuffle=False)"
   ]
  },
  {
   "cell_type": "markdown",
   "id": "275542ac",
   "metadata": {
    "id": "275542ac"
   },
   "source": [
    "## **Create the model**"
   ]
  },
  {
   "cell_type": "code",
   "execution_count": 13,
   "id": "abbd30d0",
   "metadata": {
    "id": "abbd30d0"
   },
   "outputs": [],
   "source": [
    "import torch.nn as nn\n",
    "import torch.nn.functional as F\n",
    "\n",
    "class ThaiDigitNet(nn.Module):\n",
    "    def __init__(self):\n",
    "        super(ThaiDigitNet, self).__init__()\n",
    "        self.fc1 = nn.Linear(28 * 28, 100)\n",
    "        self.fc2 = nn.Linear(100, 10)\n",
    "\n",
    "    def forward(self, x):\n",
    "        x = x.view(-1, 28 * 28)\n",
    "        x = self.fc1(x)\n",
    "        x = F.relu(x)\n",
    "        x = self.fc2(x)\n",
    "        return x"
   ]
  },
  {
   "cell_type": "markdown",
   "id": "f0455ef9",
   "metadata": {
    "id": "f0455ef9"
   },
   "source": [
    "## **Train the model**"
   ]
  },
  {
   "cell_type": "code",
   "execution_count": 14,
   "id": "r61vWix7nfgl",
   "metadata": {
    "id": "r61vWix7nfgl"
   },
   "outputs": [],
   "source": [
    "# Create training loop function\n",
    "def train(model, n_epochs, loss_function, optimizer, train_loader, validation_loader):\n",
    "    training_logs = {\"train_loss\": [],  \"train_acc\": [], \"val_loss\": [], \"val_acc\": []}\n",
    "    print(\"-\"*80)\n",
    "    for epoch in range(1, n_epochs+1):\n",
    "        # training\n",
    "        model.train()\n",
    "        train_loss, correct = 0, 0\n",
    "        for images, labels in train_loader:\n",
    "            pred = model(images)\n",
    "            loss = loss_function(pred, labels)\n",
    "\n",
    "            optimizer.zero_grad()\n",
    "            loss.backward()\n",
    "            optimizer.step()\n",
    "\n",
    "            train_loss += loss.item()\n",
    "            correct += (pred.argmax(1) == labels).float().sum().item()\n",
    "        # save training logs\n",
    "        training_logs[\"train_loss\"].append(train_loss/ len(train_loader))\n",
    "        training_logs[\"train_acc\"].append(correct / len(train_loader.dataset))\n",
    "\n",
    "        # validation\n",
    "        model.eval()\n",
    "        val_loss, correct = 0, 0\n",
    "        for images, labels in validation_loader:\n",
    "            pred = model(images)\n",
    "            val_loss += loss_function(pred, labels).item()\n",
    "            correct += (pred.argmax(1) == labels).float().sum().item()\n",
    "        # save validation logs\n",
    "        training_logs[\"val_loss\"].append(val_loss/ len(val_loader))\n",
    "        training_logs[\"val_acc\"].append(correct / len(validation_loader.dataset))\n",
    "\n",
    "        print(f\"Epochs {epoch}\".ljust(10), \n",
    "              f\"train loss {training_logs['train_loss'][-1]:.5f}\",\n",
    "              f\"train acc {training_logs['train_acc'][-1]:.5f}\",\n",
    "\n",
    "              f\"val loss {training_logs['val_loss'][-1]:.5f}\",\n",
    "              f\"val acc {training_logs['val_acc'][-1]:.5f}\",\n",
    "              )\n",
    "        print(\"-\"*80)\n",
    "    return model, training_logs\n",
    "        "
   ]
  },
  {
   "cell_type": "code",
   "execution_count": 15,
   "id": "amMGdYvkAg0c",
   "metadata": {
    "colab": {
     "base_uri": "https://localhost:8080/"
    },
    "id": "amMGdYvkAg0c",
    "outputId": "6842220d-0b34-4594-db90-cc6541bf26ed"
   },
   "outputs": [
    {
     "name": "stdout",
     "output_type": "stream",
     "text": [
      "--------------------------------------------------------------------------------\n",
      "Epochs 1   train loss 2.29232 train acc 0.14984 val loss 2.28345 val acc 0.18286\n",
      "--------------------------------------------------------------------------------\n",
      "Epochs 2   train loss 2.25674 train acc 0.24317 val loss 2.25334 val acc 0.21714\n",
      "--------------------------------------------------------------------------------\n",
      "Epochs 3   train loss 2.21156 train acc 0.29397 val loss 2.21239 val acc 0.27429\n",
      "--------------------------------------------------------------------------------\n",
      "Epochs 4   train loss 2.15289 train acc 0.38667 val loss 2.15880 val acc 0.32000\n",
      "--------------------------------------------------------------------------------\n",
      "Epochs 5   train loss 2.07810 train acc 0.41778 val loss 2.09046 val acc 0.35429\n",
      "--------------------------------------------------------------------------------\n",
      "Epochs 6   train loss 1.99068 train acc 0.45778 val loss 2.01215 val acc 0.38286\n",
      "--------------------------------------------------------------------------------\n",
      "Epochs 7   train loss 1.89347 train acc 0.47365 val loss 1.92613 val acc 0.41143\n",
      "--------------------------------------------------------------------------------\n",
      "Epochs 8   train loss 1.79342 train acc 0.51429 val loss 1.83515 val acc 0.42857\n",
      "--------------------------------------------------------------------------------\n",
      "Epochs 9   train loss 1.69261 train acc 0.53143 val loss 1.75183 val acc 0.45714\n",
      "--------------------------------------------------------------------------------\n",
      "Epochs 10  train loss 1.60320 train acc 0.55429 val loss 1.67563 val acc 0.48000\n",
      "--------------------------------------------------------------------------------\n",
      "Epochs 11  train loss 1.52269 train acc 0.57968 val loss 1.61435 val acc 0.47429\n",
      "--------------------------------------------------------------------------------\n",
      "Epochs 12  train loss 1.44816 train acc 0.60254 val loss 1.55261 val acc 0.49714\n",
      "--------------------------------------------------------------------------------\n",
      "Epochs 13  train loss 1.38837 train acc 0.61587 val loss 1.51925 val acc 0.47429\n",
      "--------------------------------------------------------------------------------\n",
      "Epochs 14  train loss 1.33265 train acc 0.62476 val loss 1.46972 val acc 0.50857\n",
      "--------------------------------------------------------------------------------\n",
      "Epochs 15  train loss 1.29192 train acc 0.63810 val loss 1.43405 val acc 0.52571\n",
      "--------------------------------------------------------------------------------\n",
      "Epochs 16  train loss 1.24814 train acc 0.64698 val loss 1.41586 val acc 0.51429\n",
      "--------------------------------------------------------------------------------\n",
      "Epochs 17  train loss 1.21731 train acc 0.65016 val loss 1.38440 val acc 0.54857\n",
      "--------------------------------------------------------------------------------\n",
      "Epochs 18  train loss 1.18104 train acc 0.65460 val loss 1.36604 val acc 0.54857\n",
      "--------------------------------------------------------------------------------\n",
      "Epochs 19  train loss 1.15381 train acc 0.66730 val loss 1.36082 val acc 0.54286\n",
      "--------------------------------------------------------------------------------\n",
      "Epochs 20  train loss 1.13192 train acc 0.67048 val loss 1.34047 val acc 0.54286\n",
      "--------------------------------------------------------------------------------\n",
      "Epochs 21  train loss 1.10766 train acc 0.68190 val loss 1.31614 val acc 0.56571\n",
      "--------------------------------------------------------------------------------\n",
      "Epochs 22  train loss 1.08669 train acc 0.68381 val loss 1.31245 val acc 0.55429\n",
      "--------------------------------------------------------------------------------\n",
      "Epochs 23  train loss 1.06500 train acc 0.69016 val loss 1.30050 val acc 0.57143\n",
      "--------------------------------------------------------------------------------\n",
      "Epochs 24  train loss 1.04976 train acc 0.70222 val loss 1.28200 val acc 0.58286\n",
      "--------------------------------------------------------------------------------\n",
      "Epochs 25  train loss 1.03045 train acc 0.70286 val loss 1.26836 val acc 0.58286\n",
      "--------------------------------------------------------------------------------\n",
      "Epochs 26  train loss 1.01577 train acc 0.70857 val loss 1.26580 val acc 0.56571\n",
      "--------------------------------------------------------------------------------\n",
      "Epochs 27  train loss 1.00198 train acc 0.71746 val loss 1.25897 val acc 0.57143\n",
      "--------------------------------------------------------------------------------\n",
      "Epochs 28  train loss 0.98335 train acc 0.71683 val loss 1.26034 val acc 0.58857\n",
      "--------------------------------------------------------------------------------\n",
      "Epochs 29  train loss 0.97183 train acc 0.72190 val loss 1.24897 val acc 0.58286\n",
      "--------------------------------------------------------------------------------\n",
      "Epochs 30  train loss 0.95706 train acc 0.72889 val loss 1.23987 val acc 0.58286\n",
      "--------------------------------------------------------------------------------\n",
      "Epochs 31  train loss 0.94106 train acc 0.73206 val loss 1.23527 val acc 0.59429\n",
      "--------------------------------------------------------------------------------\n",
      "Epochs 32  train loss 0.93147 train acc 0.73333 val loss 1.22780 val acc 0.57714\n",
      "--------------------------------------------------------------------------------\n",
      "Epochs 33  train loss 0.91785 train acc 0.73968 val loss 1.21921 val acc 0.58286\n",
      "--------------------------------------------------------------------------------\n",
      "Epochs 34  train loss 0.90330 train acc 0.73778 val loss 1.21709 val acc 0.60000\n",
      "--------------------------------------------------------------------------------\n",
      "Epochs 35  train loss 0.89359 train acc 0.73778 val loss 1.21523 val acc 0.58857\n",
      "--------------------------------------------------------------------------------\n",
      "Epochs 36  train loss 0.88003 train acc 0.74540 val loss 1.21051 val acc 0.58857\n",
      "--------------------------------------------------------------------------------\n",
      "Epochs 37  train loss 0.87082 train acc 0.74476 val loss 1.20030 val acc 0.58857\n",
      "--------------------------------------------------------------------------------\n",
      "Epochs 38  train loss 0.85621 train acc 0.74921 val loss 1.20733 val acc 0.59429\n",
      "--------------------------------------------------------------------------------\n",
      "Epochs 39  train loss 0.84635 train acc 0.75810 val loss 1.20441 val acc 0.58286\n",
      "--------------------------------------------------------------------------------\n",
      "Epochs 40  train loss 0.83719 train acc 0.75238 val loss 1.19815 val acc 0.58286\n",
      "--------------------------------------------------------------------------------\n",
      "Epochs 41  train loss 0.82398 train acc 0.76063 val loss 1.19695 val acc 0.59429\n",
      "--------------------------------------------------------------------------------\n",
      "Epochs 42  train loss 0.81358 train acc 0.76317 val loss 1.18644 val acc 0.58286\n",
      "--------------------------------------------------------------------------------\n",
      "Epochs 43  train loss 0.80764 train acc 0.76762 val loss 1.19101 val acc 0.58286\n",
      "--------------------------------------------------------------------------------\n",
      "Epochs 44  train loss 0.79862 train acc 0.77333 val loss 1.18629 val acc 0.58857\n",
      "--------------------------------------------------------------------------------\n",
      "Epochs 45  train loss 0.78683 train acc 0.77651 val loss 1.20113 val acc 0.57714\n",
      "--------------------------------------------------------------------------------\n",
      "Epochs 46  train loss 0.77401 train acc 0.77778 val loss 1.17843 val acc 0.59429\n",
      "--------------------------------------------------------------------------------\n",
      "Epochs 47  train loss 0.76514 train acc 0.78032 val loss 1.17758 val acc 0.58857\n",
      "--------------------------------------------------------------------------------\n",
      "Epochs 48  train loss 0.75812 train acc 0.78222 val loss 1.18222 val acc 0.59429\n",
      "--------------------------------------------------------------------------------\n",
      "Epochs 49  train loss 0.74708 train acc 0.78984 val loss 1.17440 val acc 0.60000\n",
      "--------------------------------------------------------------------------------\n",
      "Epochs 50  train loss 0.73795 train acc 0.78984 val loss 1.19748 val acc 0.58286\n",
      "--------------------------------------------------------------------------------\n"
     ]
    }
   ],
   "source": [
    "n_epoch = 50\n",
    "\n",
    "net = ThaiDigitNet() # Initialize the model\n",
    "loss_fn = nn.CrossEntropyLoss()\n",
    "optimizer = torch.optim.SGD(net.parameters(), lr=0.01)\n",
    "net, net_history = train(net, n_epoch, loss_fn, optimizer, train_loader, val_loader)"
   ]
  },
  {
   "cell_type": "code",
   "execution_count": 18,
   "id": "j__w3mymCPJh",
   "metadata": {
    "id": "j__w3mymCPJh"
   },
   "outputs": [],
   "source": [
    "def plot_graph(history):\n",
    "    fig, (ax1, ax2) = plt.subplots(1, 2)\n",
    "    fig.set_figwidth(10)\n",
    "    fig.suptitle(\"Train vs Validation\")\n",
    "    ax1.plot(history[\"train_acc\"], label=\"Train\")\n",
    "    ax1.plot(history[\"val_acc\"], label=\"Validation\")\n",
    "    ax1.legend()\n",
    "    ax1.set_title(\"Accuracy\")\n",
    "\n",
    "    ax2.plot(history[\"train_loss\"], label=\"Train\")\n",
    "    ax2.plot(history[\"val_loss\"], label=\"Validation\")\n",
    "    ax2.legend()\n",
    "    ax2.set_title(\"Loss\")\n",
    "    fig.show()"
   ]
  },
  {
   "cell_type": "code",
   "execution_count": 19,
   "id": "e8dAIHcnCIJA",
   "metadata": {
    "colab": {
     "base_uri": "https://localhost:8080/",
     "height": 294
    },
    "id": "e8dAIHcnCIJA",
    "outputId": "7c3a5a9d-1a2d-48cb-cba9-1f5b6c183a8b"
   },
   "outputs": [
    {
     "data": {
      "image/png": "[encoded data removed]",
      "text/plain": [
       "<Figure size 720x288 with 2 Axes>"
      ]
     },
     "metadata": {
      "needs_background": "light"
     },
     "output_type": "display_data"
    }
   ],
   "source": [
    "plot_graph(net_history)"
   ]
  },
  {
   "cell_type": "markdown",
   "id": "Z1KkTwVoob4f",
   "metadata": {
    "id": "Z1KkTwVoob4f"
   },
   "source": [
    "## **Save and load model**\n",
    "\n"
   ]
  },
  {
   "cell_type": "code",
   "execution_count": 20,
   "id": "m6eOWaxWobiw",
   "metadata": {
    "id": "m6eOWaxWobiw"
   },
   "outputs": [],
   "source": [
    "save_path = \"thai_digit.pth\"\n",
    "torch.save(net.state_dict(), save_path)  # save model parameters"
   ]
  },
  {
   "cell_type": "code",
   "execution_count": 21,
   "id": "Q9hqeg76o0Ng",
   "metadata": {
    "colab": {
     "base_uri": "https://localhost:8080/"
    },
    "id": "Q9hqeg76o0Ng",
    "outputId": "1f594ac2-f959-480a-973e-ef953875fded"
   },
   "outputs": [
    {
     "data": {
      "text/plain": [
       "<All keys matched successfully>"
      ]
     },
     "execution_count": 21,
     "metadata": {},
     "output_type": "execute_result"
    }
   ],
   "source": [
    "model_path = \"thai_digit.pth\"\n",
    "model = ThaiDigitNet()  # initialize the model\n",
    "model.load_state_dict(torch.load(model_path))  # load the model weights"
   ]
  },
  {
   "cell_type": "markdown",
   "id": "2a0229f1",
   "metadata": {
    "id": "2a0229f1"
   },
   "source": [
    "## **Evaluate the model**"
   ]
  },
  {
   "cell_type": "code",
   "execution_count": 22,
   "id": "5b41a1c8",
   "metadata": {
    "id": "5b41a1c8"
   },
   "outputs": [],
   "source": [
    "# Create evaluation function for the model\n",
    "def evaluate(dataframe, model):\n",
    "    model.eval()\n",
    "    results = dataframe.copy()\n",
    "    predictions = []\n",
    "    for idx, row in results.iterrows():\n",
    "        img = transform(Image.open(row.path))\n",
    "        pred = model(1 - img)\n",
    "        predictions.append(pred.argmax(1).item())\n",
    "\n",
    "    results[\"prediction\"] = predictions\n",
    "    # Calculate accuracy\n",
    "    accuracy = len(results[results.prediction == results.text]) / len(results)\n",
    "    print(f\"Accuracy: {accuracy * 100:.2f}%\")\n",
    "    return results"
   ]
  },
  {
   "cell_type": "code",
   "execution_count": 23,
   "id": "3WOPs_x_Amap",
   "metadata": {
    "colab": {
     "base_uri": "https://localhost:8080/",
     "height": 441
    },
    "id": "3WOPs_x_Amap",
    "outputId": "99575bec-bba3-44e7-cb66-a5b3c553c764"
   },
   "outputs": [
    {
     "name": "stdout",
     "output_type": "stream",
     "text": [
      "Accuracy: 58.29%\n"
     ]
    },
    {
     "data": {
      "text/html": [
       "\n",
       "  <div id=\"df-ad66490a-039c-4641-a801-afca54c10988\">\n",
       "    <div class=\"colab-df-container\">\n",
       "      <div>\n",
       "<style scoped>\n",
       "    .dataframe tbody tr th:only-of-type {\n",
       "        vertical-align: middle;\n",
       "    }\n",
       "\n",
       "    .dataframe tbody tr th {\n",
       "        vertical-align: top;\n",
       "    }\n",
       "\n",
       "    .dataframe thead th {\n",
       "        text-align: right;\n",
       "    }\n",
       "</style>\n",
       "<table border=\"1\" class=\"dataframe\">\n",
       "  <thead>\n",
       "    <tr style=\"text-align: right;\">\n",
       "      <th></th>\n",
       "      <th>path</th>\n",
       "      <th>text</th>\n",
       "      <th>prediction</th>\n",
       "    </tr>\n",
       "  </thead>\n",
       "  <tbody>\n",
       "    <tr>\n",
       "      <th>0</th>\n",
       "      <td>data/validation/7/cf5ffe38-3822-44d1-8c11-e04c...</td>\n",
       "      <td>7</td>\n",
       "      <td>7</td>\n",
       "    </tr>\n",
       "    <tr>\n",
       "      <th>1</th>\n",
       "      <td>data/validation/7/6ef7bb23-bbec-40fe-8f97-4bc2...</td>\n",
       "      <td>7</td>\n",
       "      <td>7</td>\n",
       "    </tr>\n",
       "    <tr>\n",
       "      <th>2</th>\n",
       "      <td>data/validation/7/d43229b0-faa7-498e-987f-0213...</td>\n",
       "      <td>7</td>\n",
       "      <td>7</td>\n",
       "    </tr>\n",
       "    <tr>\n",
       "      <th>3</th>\n",
       "      <td>data/validation/7/5f700dba-fecf-4a3f-b49a-2fad...</td>\n",
       "      <td>7</td>\n",
       "      <td>9</td>\n",
       "    </tr>\n",
       "    <tr>\n",
       "      <th>4</th>\n",
       "      <td>data/validation/7/98f01bd2-e214-433f-a848-ecf4...</td>\n",
       "      <td>7</td>\n",
       "      <td>3</td>\n",
       "    </tr>\n",
       "    <tr>\n",
       "      <th>...</th>\n",
       "      <td>...</td>\n",
       "      <td>...</td>\n",
       "      <td>...</td>\n",
       "    </tr>\n",
       "    <tr>\n",
       "      <th>170</th>\n",
       "      <td>data/validation/1/0b7155a7-4e52-4485-a675-d533...</td>\n",
       "      <td>1</td>\n",
       "      <td>2</td>\n",
       "    </tr>\n",
       "    <tr>\n",
       "      <th>171</th>\n",
       "      <td>data/validation/1/c04b59ea-0a6c-4dee-8e7c-45e3...</td>\n",
       "      <td>1</td>\n",
       "      <td>1</td>\n",
       "    </tr>\n",
       "    <tr>\n",
       "      <th>172</th>\n",
       "      <td>data/validation/1/ddfe8d4f-f032-4d2f-9248-9638...</td>\n",
       "      <td>1</td>\n",
       "      <td>0</td>\n",
       "    </tr>\n",
       "    <tr>\n",
       "      <th>173</th>\n",
       "      <td>data/validation/1/297b1457-bf0c-4d92-847d-69e1...</td>\n",
       "      <td>1</td>\n",
       "      <td>4</td>\n",
       "    </tr>\n",
       "    <tr>\n",
       "      <th>174</th>\n",
       "      <td>data/validation/1/72ab9f80-3341-44b0-bf64-8dac...</td>\n",
       "      <td>1</td>\n",
       "      <td>6</td>\n",
       "    </tr>\n",
       "  </tbody>\n",
       "</table>\n",
       "<p>175 rows × 3 columns</p>\n",
       "</div>\n",
       "      <button class=\"colab-df-convert\" onclick=\"convertToInteractive('df-ad66490a-039c-4641-a801-afca54c10988')\"\n",
       "              title=\"Convert this dataframe to an interactive table.\"\n",
       "              style=\"display:none;\">\n",
       "        \n",
       "  <svg xmlns=\"http://www.w3.org/2000/svg\" height=\"24px\"viewBox=\"0 0 24 24\"\n",
       "       width=\"24px\">\n",
       "    <path d=\"M0 0h24v24H0V0z\" fill=\"none\"/>\n",
       "    <path d=\"M18.56 5.44l.94 2.06.94-2.06 2.06-.94-2.06-.94-.94-2.06-.94 2.06-2.06.94zm-11 1L8.5 8.5l.94-2.06 2.06-.94-2.06-.94L8.5 2.5l-.94 2.06-2.06.94zm10 10l.94 2.06.94-2.06 2.06-.94-2.06-.94-.94-2.06-.94 2.06-2.06.94z\"/><path d=\"M17.41 7.96l-1.37-1.37c-.4-.4-.92-.59-1.43-.59-.52 0-1.04.2-1.43.59L10.3 9.45l-7.72 7.72c-.78.78-.78 2.05 0 2.83L4 21.41c.39.39.9.59 1.41.59.51 0 1.02-.2 1.41-.59l7.78-7.78 2.81-2.81c.8-.78.8-2.07 0-2.86zM5.41 20L4 18.59l7.72-7.72 1.47 1.35L5.41 20z\"/>\n",
       "  </svg>\n",
       "      </button>\n",
       "      \n",
       "  <style>\n",
       "    .colab-df-container {\n",
       "      display:flex;\n",
       "      flex-wrap:wrap;\n",
       "      gap: 12px;\n",
       "    }\n",
       "\n",
       "    .colab-df-convert {\n",
       "      background-color: #E8F0FE;\n",
       "      border: none;\n",
       "      border-radius: 50%;\n",
       "      cursor: pointer;\n",
       "      display: none;\n",
       "      fill: #1967D2;\n",
       "      height: 32px;\n",
       "      padding: 0 0 0 0;\n",
       "      width: 32px;\n",
       "    }\n",
       "\n",
       "    .colab-df-convert:hover {\n",
       "      background-color: #E2EBFA;\n",
       "      box-shadow: 0px 1px 2px rgba(60, 64, 67, 0.3), 0px 1px 3px 1px rgba(60, 64, 67, 0.15);\n",
       "      fill: #174EA6;\n",
       "    }\n",
       "\n",
       "    [theme=dark] .colab-df-convert {\n",
       "      background-color: #3B4455;\n",
       "      fill: #D2E3FC;\n",
       "    }\n",
       "\n",
       "    [theme=dark] .colab-df-convert:hover {\n",
       "      background-color: #434B5C;\n",
       "      box-shadow: 0px 1px 3px 1px rgba(0, 0, 0, 0.15);\n",
       "      filter: drop-shadow(0px 1px 2px rgba(0, 0, 0, 0.3));\n",
       "      fill: #FFFFFF;\n",
       "    }\n",
       "  </style>\n",
       "\n",
       "      <script>\n",
       "        const buttonEl =\n",
       "          document.querySelector('#df-ad66490a-039c-4641-a801-afca54c10988 button.colab-df-convert');\n",
       "        buttonEl.style.display =\n",
       "          google.colab.kernel.accessAllowed ? 'block' : 'none';\n",
       "\n",
       "        async function convertToInteractive(key) {\n",
       "          const element = document.querySelector('#df-ad66490a-039c-4641-a801-afca54c10988');\n",
       "          const dataTable =\n",
       "            await google.colab.kernel.invokeFunction('convertToInteractive',\n",
       "                                                     [key], {});\n",
       "          if (!dataTable) return;\n",
       "\n",
       "          const docLinkHtml = 'Like what you see? Visit the ' +\n",
       "            '<a target=\"_blank\" href=https://colab.research.google.com/notebooks/data_table.ipynb>data table notebook</a>'\n",
       "            + ' to learn more about interactive tables.';\n",
       "          element.innerHTML = '';\n",
       "          dataTable['output_type'] = 'display_data';\n",
       "          await google.colab.output.renderOutput(dataTable, element);\n",
       "          const docLink = document.createElement('div');\n",
       "          docLink.innerHTML = docLinkHtml;\n",
       "          element.appendChild(docLink);\n",
       "        }\n",
       "      </script>\n",
       "    </div>\n",
       "  </div>\n",
       "  "
      ],
      "text/plain": [
       "                                                  path  text  prediction\n",
       "0    data/validation/7/cf5ffe38-3822-44d1-8c11-e04c...     7           7\n",
       "1    data/validation/7/6ef7bb23-bbec-40fe-8f97-4bc2...     7           7\n",
       "2    data/validation/7/d43229b0-faa7-498e-987f-0213...     7           7\n",
       "3    data/validation/7/5f700dba-fecf-4a3f-b49a-2fad...     7           9\n",
       "4    data/validation/7/98f01bd2-e214-433f-a848-ecf4...     7           3\n",
       "..                                                 ...   ...         ...\n",
       "170  data/validation/1/0b7155a7-4e52-4485-a675-d533...     1           2\n",
       "171  data/validation/1/c04b59ea-0a6c-4dee-8e7c-45e3...     1           1\n",
       "172  data/validation/1/ddfe8d4f-f032-4d2f-9248-9638...     1           0\n",
       "173  data/validation/1/297b1457-bf0c-4d92-847d-69e1...     1           4\n",
       "174  data/validation/1/72ab9f80-3341-44b0-bf64-8dac...     1           6\n",
       "\n",
       "[175 rows x 3 columns]"
      ]
     },
     "execution_count": 23,
     "metadata": {},
     "output_type": "execute_result"
    }
   ],
   "source": [
    "evaluate(val_df, model)"
   ]
  },
  {
   "cell_type": "code",
   "execution_count": 24,
   "id": "goWDOiKlA0oA",
   "metadata": {
    "colab": {
     "base_uri": "https://localhost:8080/",
     "height": 281
    },
    "id": "goWDOiKlA0oA",
    "outputId": "9016c7c0-5c34-49ca-a0a7-079596a67e2c"
   },
   "outputs": [
    {
     "data": {
      "image/png": "[encoded data removed]",
      "text/plain": [
       "<Figure size 432x288 with 1 Axes>"
      ]
     },
     "metadata": {
      "needs_background": "light"
     },
     "output_type": "display_data"
    }
   ],
   "source": [
    "# Show some random images with their predicted number\n",
    "random_number = random.randint(0, len(val_df))\n",
    "img = Image.open(val_df.iloc[random_number].path)\n",
    "img = transform(img)\n",
    "transformed_img = 1 - img\n",
    "\n",
    "pred = model(transformed_img).argmax(1)\n",
    "plt.title(f\"Predicted class = {pred.numpy()[0]}\")\n",
    "plt.imshow(img.squeeze(0), cmap=\"gray\")\n",
    "plt.show()"
   ]
  },
  {
   "cell_type": "markdown",
   "id": "-F6H4tFLmUCG",
   "metadata": {
    "id": "-F6H4tFLmUCG"
   },
   "source": [
    "## **Train neural netowrk model with more layers**"
   ]
  },
  {
   "cell_type": "code",
   "execution_count": 26,
   "id": "IHMQhUJCg6QU",
   "metadata": {
    "id": "IHMQhUJCg6QU"
   },
   "outputs": [],
   "source": [
    "# TODO: Create neural network with more layers\n",
    "class ThaiDigitMoreLayers(nn.Module):\n",
    "    def __init__(self):\n",
    "        super(ThaiDigitMoreLayers, self).__init__()\n",
    "        self.fc1 = nn.Linear(28 * 28, 392)\n",
    "        self.relu = nn.ReLU()\n",
    "        self.fc2 = nn.Linear(392, 196)\n",
    "        self.fc3 = nn.Linear(196, 98)\n",
    "        self.fc4 = nn.Linear(98, 10)\n",
    "\n",
    "    def forward(self, x):\n",
    "        x = x.view(-1, 28 * 28)\n",
    "        x = self.fc1(x)\n",
    "        x = self.relu(x)\n",
    "        x = self.fc2(x)\n",
    "        x = self.relu(x)\n",
    "        x = self.fc3(x)\n",
    "        x = self.relu(x)\n",
    "        x = self.fc4(x)\n",
    "        return x"
   ]
  },
  {
   "cell_type": "code",
   "execution_count": 27,
   "id": "TyFPAWPCFzN7",
   "metadata": {
    "colab": {
     "base_uri": "https://localhost:8080/"
    },
    "id": "TyFPAWPCFzN7",
    "outputId": "8fbd7d71-6d67-4726-9201-f3b1f999b9af"
   },
   "outputs": [
    {
     "name": "stdout",
     "output_type": "stream",
     "text": [
      "--------------------------------------------------------------------------------\n",
      "Epochs 1   train loss 2.30556 train acc 0.10032 val loss 2.29968 val acc 0.09714\n",
      "--------------------------------------------------------------------------------\n",
      "Epochs 2   train loss 2.30369 train acc 0.10032 val loss 2.29956 val acc 0.09714\n",
      "--------------------------------------------------------------------------------\n",
      "Epochs 3   train loss 2.30186 train acc 0.10286 val loss 2.29929 val acc 0.09143\n",
      "--------------------------------------------------------------------------------\n",
      "Epochs 4   train loss 2.30050 train acc 0.11302 val loss 2.29897 val acc 0.10286\n",
      "--------------------------------------------------------------------------------\n",
      "Epochs 5   train loss 2.29885 train acc 0.10921 val loss 2.29862 val acc 0.13714\n",
      "--------------------------------------------------------------------------------\n",
      "Epochs 6   train loss 2.29732 train acc 0.13524 val loss 2.29799 val acc 0.15429\n",
      "--------------------------------------------------------------------------------\n",
      "Epochs 7   train loss 2.29552 train acc 0.15746 val loss 2.29700 val acc 0.15429\n",
      "--------------------------------------------------------------------------------\n",
      "Epochs 8   train loss 2.29365 train acc 0.17016 val loss 2.29581 val acc 0.15429\n",
      "--------------------------------------------------------------------------------\n",
      "Epochs 9   train loss 2.29146 train acc 0.18095 val loss 2.29416 val acc 0.17714\n",
      "--------------------------------------------------------------------------------\n",
      "Epochs 10  train loss 2.28885 train acc 0.20698 val loss 2.29240 val acc 0.20000\n",
      "--------------------------------------------------------------------------------\n",
      "Epochs 11  train loss 2.28579 train acc 0.24889 val loss 2.29014 val acc 0.24000\n",
      "--------------------------------------------------------------------------------\n",
      "Epochs 12  train loss 2.28199 train acc 0.30921 val loss 2.28711 val acc 0.29714\n",
      "--------------------------------------------------------------------------------\n",
      "Epochs 13  train loss 2.27756 train acc 0.33968 val loss 2.28325 val acc 0.30857\n",
      "--------------------------------------------------------------------------------\n",
      "Epochs 14  train loss 2.27185 train acc 0.36190 val loss 2.27812 val acc 0.36000\n",
      "--------------------------------------------------------------------------------\n",
      "Epochs 15  train loss 2.26416 train acc 0.37460 val loss 2.27165 val acc 0.34286\n",
      "--------------------------------------------------------------------------------\n",
      "Epochs 16  train loss 2.25447 train acc 0.38921 val loss 2.26248 val acc 0.35429\n",
      "--------------------------------------------------------------------------------\n",
      "Epochs 17  train loss 2.24115 train acc 0.38857 val loss 2.24956 val acc 0.34286\n",
      "--------------------------------------------------------------------------------\n",
      "Epochs 18  train loss 2.22299 train acc 0.39302 val loss 2.23261 val acc 0.34857\n",
      "--------------------------------------------------------------------------------\n",
      "Epochs 19  train loss 2.19686 train acc 0.38667 val loss 2.20647 val acc 0.33714\n",
      "--------------------------------------------------------------------------------\n",
      "Epochs 20  train loss 2.15908 train acc 0.36063 val loss 2.16878 val acc 0.33714\n",
      "--------------------------------------------------------------------------------\n",
      "Epochs 21  train loss 2.10299 train acc 0.39683 val loss 2.11003 val acc 0.29714\n",
      "--------------------------------------------------------------------------------\n",
      "Epochs 22  train loss 2.02281 train acc 0.37397 val loss 2.03195 val acc 0.30857\n",
      "--------------------------------------------------------------------------------\n",
      "Epochs 23  train loss 1.91563 train acc 0.39175 val loss 1.92546 val acc 0.34286\n",
      "--------------------------------------------------------------------------------\n",
      "Epochs 24  train loss 1.79337 train acc 0.40571 val loss 1.82372 val acc 0.33714\n",
      "--------------------------------------------------------------------------------\n",
      "Epochs 25  train loss 1.67519 train acc 0.43937 val loss 1.72329 val acc 0.34286\n",
      "--------------------------------------------------------------------------------\n",
      "Epochs 26  train loss 1.56541 train acc 0.45778 val loss 1.63072 val acc 0.40000\n",
      "--------------------------------------------------------------------------------\n",
      "Epochs 27  train loss 1.47876 train acc 0.49714 val loss 1.58745 val acc 0.38286\n",
      "--------------------------------------------------------------------------------\n",
      "Epochs 28  train loss 1.40534 train acc 0.53841 val loss 1.49575 val acc 0.44000\n",
      "--------------------------------------------------------------------------------\n",
      "Epochs 29  train loss 1.34009 train acc 0.55429 val loss 1.45181 val acc 0.47429\n",
      "--------------------------------------------------------------------------------\n",
      "Epochs 30  train loss 1.27935 train acc 0.57841 val loss 1.39563 val acc 0.49714\n",
      "--------------------------------------------------------------------------------\n",
      "Epochs 31  train loss 1.22523 train acc 0.61397 val loss 1.34644 val acc 0.53714\n",
      "--------------------------------------------------------------------------------\n",
      "Epochs 32  train loss 1.18507 train acc 0.64127 val loss 1.33136 val acc 0.49714\n",
      "--------------------------------------------------------------------------------\n",
      "Epochs 33  train loss 1.14300 train acc 0.64571 val loss 1.33341 val acc 0.50286\n",
      "--------------------------------------------------------------------------------\n",
      "Epochs 34  train loss 1.10835 train acc 0.65714 val loss 1.27233 val acc 0.54857\n",
      "--------------------------------------------------------------------------------\n",
      "Epochs 35  train loss 1.07430 train acc 0.66095 val loss 1.23664 val acc 0.54857\n",
      "--------------------------------------------------------------------------------\n",
      "Epochs 36  train loss 1.03703 train acc 0.67365 val loss 1.23792 val acc 0.53714\n",
      "--------------------------------------------------------------------------------\n",
      "Epochs 37  train loss 1.00936 train acc 0.68317 val loss 1.19932 val acc 0.57714\n",
      "--------------------------------------------------------------------------------\n",
      "Epochs 38  train loss 0.98041 train acc 0.69841 val loss 1.18682 val acc 0.60000\n",
      "--------------------------------------------------------------------------------\n",
      "Epochs 39  train loss 0.95502 train acc 0.70603 val loss 1.14454 val acc 0.59429\n",
      "--------------------------------------------------------------------------------\n",
      "Epochs 40  train loss 0.91857 train acc 0.70857 val loss 1.18155 val acc 0.54286\n",
      "--------------------------------------------------------------------------------\n",
      "Epochs 41  train loss 0.89257 train acc 0.72952 val loss 1.15456 val acc 0.58857\n",
      "--------------------------------------------------------------------------------\n",
      "Epochs 42  train loss 0.86632 train acc 0.73016 val loss 1.14671 val acc 0.57714\n",
      "--------------------------------------------------------------------------------\n",
      "Epochs 43  train loss 0.84334 train acc 0.73333 val loss 1.12836 val acc 0.57714\n",
      "--------------------------------------------------------------------------------\n",
      "Epochs 44  train loss 0.80938 train acc 0.74730 val loss 1.08330 val acc 0.61714\n",
      "--------------------------------------------------------------------------------\n",
      "Epochs 45  train loss 0.78691 train acc 0.75365 val loss 1.10396 val acc 0.61143\n",
      "--------------------------------------------------------------------------------\n",
      "Epochs 46  train loss 0.75866 train acc 0.76698 val loss 1.07153 val acc 0.62286\n",
      "--------------------------------------------------------------------------------\n",
      "Epochs 47  train loss 0.73184 train acc 0.77397 val loss 1.08896 val acc 0.61714\n",
      "--------------------------------------------------------------------------------\n",
      "Epochs 48  train loss 0.70654 train acc 0.77778 val loss 1.05411 val acc 0.63429\n",
      "--------------------------------------------------------------------------------\n",
      "Epochs 49  train loss 0.68386 train acc 0.78095 val loss 1.08687 val acc 0.61714\n",
      "--------------------------------------------------------------------------------\n",
      "Epochs 50  train loss 0.65962 train acc 0.80381 val loss 1.11933 val acc 0.59429\n",
      "--------------------------------------------------------------------------------\n"
     ]
    }
   ],
   "source": [
    "n_epochs = 50\n",
    "\n",
    "more_layers_model = ThaiDigitMoreLayers()\n",
    "loss_fn = nn.CrossEntropyLoss()\n",
    "optimizer = torch.optim.SGD(more_layers_model.parameters(), lr=0.01)\n",
    "\n",
    "more_layers_model, more_layers_model_history = train(\n",
    "    more_layers_model, n_epochs, loss_fn, optimizer, train_loader, val_loader\n",
    ")"
   ]
  },
  {
   "cell_type": "code",
   "execution_count": 31,
   "id": "xt-SoyPCHDH5",
   "metadata": {
    "colab": {
     "base_uri": "https://localhost:8080/",
     "height": 441
    },
    "id": "xt-SoyPCHDH5",
    "outputId": "fed46859-7b77-40f0-b1f5-e89fa88a6c4d"
   },
   "outputs": [
    {
     "name": "stdout",
     "output_type": "stream",
     "text": [
      "Accuracy: 59.43%\n"
     ]
    },
    {
     "data": {
      "text/html": [
       "\n",
       "  <div id=\"df-3d91c8dc-e97e-4ee4-ae34-5c8e8f072277\">\n",
       "    <div class=\"colab-df-container\">\n",
       "      <div>\n",
       "<style scoped>\n",
       "    .dataframe tbody tr th:only-of-type {\n",
       "        vertical-align: middle;\n",
       "    }\n",
       "\n",
       "    .dataframe tbody tr th {\n",
       "        vertical-align: top;\n",
       "    }\n",
       "\n",
       "    .dataframe thead th {\n",
       "        text-align: right;\n",
       "    }\n",
       "</style>\n",
       "<table border=\"1\" class=\"dataframe\">\n",
       "  <thead>\n",
       "    <tr style=\"text-align: right;\">\n",
       "      <th></th>\n",
       "      <th>path</th>\n",
       "      <th>text</th>\n",
       "      <th>prediction</th>\n",
       "    </tr>\n",
       "  </thead>\n",
       "  <tbody>\n",
       "    <tr>\n",
       "      <th>0</th>\n",
       "      <td>data/validation/7/cf5ffe38-3822-44d1-8c11-e04c...</td>\n",
       "      <td>7</td>\n",
       "      <td>7</td>\n",
       "    </tr>\n",
       "    <tr>\n",
       "      <th>1</th>\n",
       "      <td>data/validation/7/6ef7bb23-bbec-40fe-8f97-4bc2...</td>\n",
       "      <td>7</td>\n",
       "      <td>7</td>\n",
       "    </tr>\n",
       "    <tr>\n",
       "      <th>2</th>\n",
       "      <td>data/validation/7/d43229b0-faa7-498e-987f-0213...</td>\n",
       "      <td>7</td>\n",
       "      <td>7</td>\n",
       "    </tr>\n",
       "    <tr>\n",
       "      <th>3</th>\n",
       "      <td>data/validation/7/5f700dba-fecf-4a3f-b49a-2fad...</td>\n",
       "      <td>7</td>\n",
       "      <td>9</td>\n",
       "    </tr>\n",
       "    <tr>\n",
       "      <th>4</th>\n",
       "      <td>data/validation/7/98f01bd2-e214-433f-a848-ecf4...</td>\n",
       "      <td>7</td>\n",
       "      <td>3</td>\n",
       "    </tr>\n",
       "    <tr>\n",
       "      <th>...</th>\n",
       "      <td>...</td>\n",
       "      <td>...</td>\n",
       "      <td>...</td>\n",
       "    </tr>\n",
       "    <tr>\n",
       "      <th>170</th>\n",
       "      <td>data/validation/1/0b7155a7-4e52-4485-a675-d533...</td>\n",
       "      <td>1</td>\n",
       "      <td>2</td>\n",
       "    </tr>\n",
       "    <tr>\n",
       "      <th>171</th>\n",
       "      <td>data/validation/1/c04b59ea-0a6c-4dee-8e7c-45e3...</td>\n",
       "      <td>1</td>\n",
       "      <td>1</td>\n",
       "    </tr>\n",
       "    <tr>\n",
       "      <th>172</th>\n",
       "      <td>data/validation/1/ddfe8d4f-f032-4d2f-9248-9638...</td>\n",
       "      <td>1</td>\n",
       "      <td>4</td>\n",
       "    </tr>\n",
       "    <tr>\n",
       "      <th>173</th>\n",
       "      <td>data/validation/1/297b1457-bf0c-4d92-847d-69e1...</td>\n",
       "      <td>1</td>\n",
       "      <td>1</td>\n",
       "    </tr>\n",
       "    <tr>\n",
       "      <th>174</th>\n",
       "      <td>data/validation/1/72ab9f80-3341-44b0-bf64-8dac...</td>\n",
       "      <td>1</td>\n",
       "      <td>4</td>\n",
       "    </tr>\n",
       "  </tbody>\n",
       "</table>\n",
       "<p>175 rows × 3 columns</p>\n",
       "</div>\n",
       "      <button class=\"colab-df-convert\" onclick=\"convertToInteractive('df-3d91c8dc-e97e-4ee4-ae34-5c8e8f072277')\"\n",
       "              title=\"Convert this dataframe to an interactive table.\"\n",
       "              style=\"display:none;\">\n",
       "        \n",
       "  <svg xmlns=\"http://www.w3.org/2000/svg\" height=\"24px\"viewBox=\"0 0 24 24\"\n",
       "       width=\"24px\">\n",
       "    <path d=\"M0 0h24v24H0V0z\" fill=\"none\"/>\n",
       "    <path d=\"M18.56 5.44l.94 2.06.94-2.06 2.06-.94-2.06-.94-.94-2.06-.94 2.06-2.06.94zm-11 1L8.5 8.5l.94-2.06 2.06-.94-2.06-.94L8.5 2.5l-.94 2.06-2.06.94zm10 10l.94 2.06.94-2.06 2.06-.94-2.06-.94-.94-2.06-.94 2.06-2.06.94z\"/><path d=\"M17.41 7.96l-1.37-1.37c-.4-.4-.92-.59-1.43-.59-.52 0-1.04.2-1.43.59L10.3 9.45l-7.72 7.72c-.78.78-.78 2.05 0 2.83L4 21.41c.39.39.9.59 1.41.59.51 0 1.02-.2 1.41-.59l7.78-7.78 2.81-2.81c.8-.78.8-2.07 0-2.86zM5.41 20L4 18.59l7.72-7.72 1.47 1.35L5.41 20z\"/>\n",
       "  </svg>\n",
       "      </button>\n",
       "      \n",
       "  <style>\n",
       "    .colab-df-container {\n",
       "      display:flex;\n",
       "      flex-wrap:wrap;\n",
       "      gap: 12px;\n",
       "    }\n",
       "\n",
       "    .colab-df-convert {\n",
       "      background-color: #E8F0FE;\n",
       "      border: none;\n",
       "      border-radius: 50%;\n",
       "      cursor: pointer;\n",
       "      display: none;\n",
       "      fill: #1967D2;\n",
       "      height: 32px;\n",
       "      padding: 0 0 0 0;\n",
       "      width: 32px;\n",
       "    }\n",
       "\n",
       "    .colab-df-convert:hover {\n",
       "      background-color: #E2EBFA;\n",
       "      box-shadow: 0px 1px 2px rgba(60, 64, 67, 0.3), 0px 1px 3px 1px rgba(60, 64, 67, 0.15);\n",
       "      fill: #174EA6;\n",
       "    }\n",
       "\n",
       "    [theme=dark] .colab-df-convert {\n",
       "      background-color: #3B4455;\n",
       "      fill: #D2E3FC;\n",
       "    }\n",
       "\n",
       "    [theme=dark] .colab-df-convert:hover {\n",
       "      background-color: #434B5C;\n",
       "      box-shadow: 0px 1px 3px 1px rgba(0, 0, 0, 0.15);\n",
       "      filter: drop-shadow(0px 1px 2px rgba(0, 0, 0, 0.3));\n",
       "      fill: #FFFFFF;\n",
       "    }\n",
       "  </style>\n",
       "\n",
       "      <script>\n",
       "        const buttonEl =\n",
       "          document.querySelector('#df-3d91c8dc-e97e-4ee4-ae34-5c8e8f072277 button.colab-df-convert');\n",
       "        buttonEl.style.display =\n",
       "          google.colab.kernel.accessAllowed ? 'block' : 'none';\n",
       "\n",
       "        async function convertToInteractive(key) {\n",
       "          const element = document.querySelector('#df-3d91c8dc-e97e-4ee4-ae34-5c8e8f072277');\n",
       "          const dataTable =\n",
       "            await google.colab.kernel.invokeFunction('convertToInteractive',\n",
       "                                                     [key], {});\n",
       "          if (!dataTable) return;\n",
       "\n",
       "          const docLinkHtml = 'Like what you see? Visit the ' +\n",
       "            '<a target=\"_blank\" href=https://colab.research.google.com/notebooks/data_table.ipynb>data table notebook</a>'\n",
       "            + ' to learn more about interactive tables.';\n",
       "          element.innerHTML = '';\n",
       "          dataTable['output_type'] = 'display_data';\n",
       "          await google.colab.output.renderOutput(dataTable, element);\n",
       "          const docLink = document.createElement('div');\n",
       "          docLink.innerHTML = docLinkHtml;\n",
       "          element.appendChild(docLink);\n",
       "        }\n",
       "      </script>\n",
       "    </div>\n",
       "  </div>\n",
       "  "
      ],
      "text/plain": [
       "                                                  path  text  prediction\n",
       "0    data/validation/7/cf5ffe38-3822-44d1-8c11-e04c...     7           7\n",
       "1    data/validation/7/6ef7bb23-bbec-40fe-8f97-4bc2...     7           7\n",
       "2    data/validation/7/d43229b0-faa7-498e-987f-0213...     7           7\n",
       "3    data/validation/7/5f700dba-fecf-4a3f-b49a-2fad...     7           9\n",
       "4    data/validation/7/98f01bd2-e214-433f-a848-ecf4...     7           3\n",
       "..                                                 ...   ...         ...\n",
       "170  data/validation/1/0b7155a7-4e52-4485-a675-d533...     1           2\n",
       "171  data/validation/1/c04b59ea-0a6c-4dee-8e7c-45e3...     1           1\n",
       "172  data/validation/1/ddfe8d4f-f032-4d2f-9248-9638...     1           4\n",
       "173  data/validation/1/297b1457-bf0c-4d92-847d-69e1...     1           1\n",
       "174  data/validation/1/72ab9f80-3341-44b0-bf64-8dac...     1           4\n",
       "\n",
       "[175 rows x 3 columns]"
      ]
     },
     "execution_count": 31,
     "metadata": {},
     "output_type": "execute_result"
    }
   ],
   "source": [
    "evaluate(val_df, more_layers_model)"
   ]
  },
  {
   "cell_type": "code",
   "execution_count": 32,
   "id": "d_lJnAbRHBKf",
   "metadata": {
    "colab": {
     "base_uri": "https://localhost:8080/",
     "height": 294
    },
    "id": "d_lJnAbRHBKf",
    "outputId": "68eda82e-8fc4-4ead-d5e5-c6637c3de7eb"
   },
   "outputs": [
    {
     "data": {
      "image/png": "[encoded data removed]",
      "text/plain": [
       "<Figure size 720x288 with 2 Axes>"
      ]
     },
     "metadata": {
      "needs_background": "light"
     },
     "output_type": "display_data"
    }
   ],
   "source": [
    "plot_graph(net_history)"
   ]
  },
  {
   "cell_type": "code",
   "execution_count": 33,
   "id": "N5uZG7ekArVW",
   "metadata": {
    "colab": {
     "base_uri": "https://localhost:8080/",
     "height": 294
    },
    "id": "N5uZG7ekArVW",
    "outputId": "767bf6e3-2c0b-457f-d2a3-1dcc51691fa2"
   },
   "outputs": [
    {
     "data": {
      "image/png": "[encoded data removed]",
      "text/plain": [
       "<Figure size 720x288 with 2 Axes>"
      ]
     },
     "metadata": {
      "needs_background": "light"
     },
     "output_type": "display_data"
    }
   ],
   "source": [
    "plot_graph(more_layers_model_history)"
   ]
  },
  {
   "cell_type": "markdown",
   "id": "43ccb6fc",
   "metadata": {
    "id": "43ccb6fc"
   },
   "source": [
    "The training accuracy of the model is higher than the validation accuracy.\n",
    "This means that the model is overfitting the training data.\n",
    "We can try to reduce the overfitting by adding regularization ."
   ]
  },
  {
   "cell_type": "markdown",
   "id": "65fb58d7",
   "metadata": {
    "id": "65fb58d7"
   },
   "source": [
    "## **Regularization with Dropout**\n",
    "\n",
    "Dropout is one of the techniques used to prevent overfitting"
   ]
  },
  {
   "cell_type": "code",
   "execution_count": 34,
   "id": "a8e819c7",
   "metadata": {
    "id": "a8e819c7"
   },
   "outputs": [],
   "source": [
    "# TODO: Add Dropout layer to the previous neural network\n",
    "class DropoutThaiDigit(nn.Module):\n",
    "    def __init__(self):\n",
    "        super(DropoutThaiDigit, self).__init__()\n",
    "        self.fc1 = nn.Linear(28 * 28, 392)\n",
    "        self.relu = nn.ReLU()\n",
    "        self.fc2 = nn.Linear(392, 196)\n",
    "        self.fc3 = nn.Linear(196, 98)\n",
    "        self.fc4 = nn.Linear(98, 10)\n",
    "        self.dropout = nn.Dropout(0.1)\n",
    "\n",
    "    def forward(self, x):\n",
    "        x = x.view(-1, 28 * 28)\n",
    "        x = self.fc1(x)\n",
    "        x = self.relu(x)\n",
    "        x = self.dropout(x)\n",
    "        x = self.fc2(x)\n",
    "        x = self.relu(x)\n",
    "        x = self.dropout(x)\n",
    "        x = self.fc3(x)\n",
    "        x = self.relu(x)\n",
    "        x = self.dropout(x)\n",
    "        x = self.fc4(x)\n",
    "        return x"
   ]
  },
  {
   "cell_type": "code",
   "execution_count": 35,
   "id": "hG2gLwxzAstf",
   "metadata": {
    "colab": {
     "base_uri": "https://localhost:8080/"
    },
    "id": "hG2gLwxzAstf",
    "outputId": "f984e073-a541-4786-d9c1-5fedccaa8391"
   },
   "outputs": [
    {
     "name": "stdout",
     "output_type": "stream",
     "text": [
      "--------------------------------------------------------------------------------\n",
      "Epochs 1   train loss 2.30523 train acc 0.09905 val loss 2.29893 val acc 0.10286\n",
      "--------------------------------------------------------------------------------\n",
      "Epochs 2   train loss 2.30366 train acc 0.09524 val loss 2.29882 val acc 0.10286\n",
      "--------------------------------------------------------------------------------\n",
      "Epochs 3   train loss 2.30165 train acc 0.10032 val loss 2.29859 val acc 0.09714\n",
      "--------------------------------------------------------------------------------\n",
      "Epochs 4   train loss 2.30054 train acc 0.10476 val loss 2.29827 val acc 0.09714\n",
      "--------------------------------------------------------------------------------\n",
      "Epochs 5   train loss 2.29892 train acc 0.12000 val loss 2.29784 val acc 0.12000\n",
      "--------------------------------------------------------------------------------\n",
      "Epochs 6   train loss 2.29763 train acc 0.14222 val loss 2.29720 val acc 0.12571\n",
      "--------------------------------------------------------------------------------\n",
      "Epochs 7   train loss 2.29572 train acc 0.15937 val loss 2.29629 val acc 0.17143\n",
      "--------------------------------------------------------------------------------\n",
      "Epochs 8   train loss 2.29369 train acc 0.17968 val loss 2.29518 val acc 0.20571\n",
      "--------------------------------------------------------------------------------\n",
      "Epochs 9   train loss 2.29133 train acc 0.18603 val loss 2.29354 val acc 0.22286\n",
      "--------------------------------------------------------------------------------\n",
      "Epochs 10  train loss 2.28889 train acc 0.19429 val loss 2.29159 val acc 0.24000\n",
      "--------------------------------------------------------------------------------\n",
      "Epochs 11  train loss 2.28599 train acc 0.23683 val loss 2.28902 val acc 0.25714\n",
      "--------------------------------------------------------------------------------\n",
      "Epochs 12  train loss 2.28210 train acc 0.26857 val loss 2.28577 val acc 0.28571\n",
      "--------------------------------------------------------------------------------\n",
      "Epochs 13  train loss 2.27665 train acc 0.28889 val loss 2.28154 val acc 0.25714\n",
      "--------------------------------------------------------------------------------\n",
      "Epochs 14  train loss 2.27146 train acc 0.27238 val loss 2.27576 val acc 0.22857\n",
      "--------------------------------------------------------------------------------\n",
      "Epochs 15  train loss 2.26317 train acc 0.26540 val loss 2.26782 val acc 0.21714\n",
      "--------------------------------------------------------------------------------\n",
      "Epochs 16  train loss 2.25232 train acc 0.23619 val loss 2.25742 val acc 0.20000\n",
      "--------------------------------------------------------------------------------\n",
      "Epochs 17  train loss 2.23780 train acc 0.24762 val loss 2.24339 val acc 0.18286\n",
      "--------------------------------------------------------------------------------\n",
      "Epochs 18  train loss 2.21870 train acc 0.24635 val loss 2.22355 val acc 0.19429\n",
      "--------------------------------------------------------------------------------\n",
      "Epochs 19  train loss 2.19476 train acc 0.24698 val loss 2.19501 val acc 0.21714\n",
      "--------------------------------------------------------------------------------\n",
      "Epochs 20  train loss 2.15651 train acc 0.25460 val loss 2.15635 val acc 0.24000\n",
      "--------------------------------------------------------------------------------\n",
      "Epochs 21  train loss 2.10621 train acc 0.27937 val loss 2.10642 val acc 0.22857\n",
      "--------------------------------------------------------------------------------\n",
      "Epochs 22  train loss 2.04640 train acc 0.28952 val loss 2.04630 val acc 0.24571\n",
      "--------------------------------------------------------------------------------\n",
      "Epochs 23  train loss 1.98028 train acc 0.32825 val loss 1.97764 val acc 0.29143\n",
      "--------------------------------------------------------------------------------\n",
      "Epochs 24  train loss 1.90920 train acc 0.37460 val loss 1.90313 val acc 0.32571\n",
      "--------------------------------------------------------------------------------\n",
      "Epochs 25  train loss 1.81511 train acc 0.40317 val loss 1.81662 val acc 0.36000\n",
      "--------------------------------------------------------------------------------\n",
      "Epochs 26  train loss 1.73589 train acc 0.42032 val loss 1.72372 val acc 0.39429\n",
      "--------------------------------------------------------------------------------\n",
      "Epochs 27  train loss 1.63836 train acc 0.46222 val loss 1.64148 val acc 0.39429\n",
      "--------------------------------------------------------------------------------\n",
      "Epochs 28  train loss 1.53673 train acc 0.48698 val loss 1.54824 val acc 0.43429\n",
      "--------------------------------------------------------------------------------\n",
      "Epochs 29  train loss 1.46163 train acc 0.52317 val loss 1.48302 val acc 0.45143\n",
      "--------------------------------------------------------------------------------\n",
      "Epochs 30  train loss 1.38275 train acc 0.53206 val loss 1.41909 val acc 0.47429\n",
      "--------------------------------------------------------------------------------\n",
      "Epochs 31  train loss 1.31523 train acc 0.54794 val loss 1.37838 val acc 0.46857\n",
      "--------------------------------------------------------------------------------\n",
      "Epochs 32  train loss 1.28191 train acc 0.56063 val loss 1.32340 val acc 0.50857\n",
      "--------------------------------------------------------------------------------\n",
      "Epochs 33  train loss 1.22975 train acc 0.59175 val loss 1.30842 val acc 0.49714\n",
      "--------------------------------------------------------------------------------\n",
      "Epochs 34  train loss 1.19812 train acc 0.59937 val loss 1.28639 val acc 0.50286\n",
      "--------------------------------------------------------------------------------\n",
      "Epochs 35  train loss 1.17787 train acc 0.61524 val loss 1.26507 val acc 0.53714\n",
      "--------------------------------------------------------------------------------\n",
      "Epochs 36  train loss 1.14568 train acc 0.62159 val loss 1.25204 val acc 0.54286\n",
      "--------------------------------------------------------------------------------\n",
      "Epochs 37  train loss 1.11194 train acc 0.64825 val loss 1.22442 val acc 0.58286\n",
      "--------------------------------------------------------------------------------\n",
      "Epochs 38  train loss 1.08693 train acc 0.63556 val loss 1.20684 val acc 0.53714\n",
      "--------------------------------------------------------------------------------\n",
      "Epochs 39  train loss 1.05247 train acc 0.66984 val loss 1.19554 val acc 0.56000\n",
      "--------------------------------------------------------------------------------\n",
      "Epochs 40  train loss 1.02153 train acc 0.67492 val loss 1.19102 val acc 0.54857\n",
      "--------------------------------------------------------------------------------\n",
      "Epochs 41  train loss 1.00264 train acc 0.66476 val loss 1.15279 val acc 0.57143\n",
      "--------------------------------------------------------------------------------\n",
      "Epochs 42  train loss 0.97134 train acc 0.68762 val loss 1.14386 val acc 0.59429\n",
      "--------------------------------------------------------------------------------\n",
      "Epochs 43  train loss 0.95766 train acc 0.69524 val loss 1.14151 val acc 0.58286\n",
      "--------------------------------------------------------------------------------\n",
      "Epochs 44  train loss 0.92147 train acc 0.71175 val loss 1.17936 val acc 0.53714\n",
      "--------------------------------------------------------------------------------\n",
      "Epochs 45  train loss 0.91415 train acc 0.70159 val loss 1.13581 val acc 0.61714\n",
      "--------------------------------------------------------------------------------\n",
      "Epochs 46  train loss 0.88857 train acc 0.70984 val loss 1.12493 val acc 0.58286\n",
      "--------------------------------------------------------------------------------\n",
      "Epochs 47  train loss 0.86694 train acc 0.72000 val loss 1.08363 val acc 0.60000\n",
      "--------------------------------------------------------------------------------\n",
      "Epochs 48  train loss 0.83608 train acc 0.72127 val loss 1.07953 val acc 0.61143\n",
      "--------------------------------------------------------------------------------\n",
      "Epochs 49  train loss 0.80633 train acc 0.75175 val loss 1.05119 val acc 0.62857\n",
      "--------------------------------------------------------------------------------\n",
      "Epochs 50  train loss 0.78955 train acc 0.74603 val loss 1.10115 val acc 0.60000\n",
      "--------------------------------------------------------------------------------\n"
     ]
    }
   ],
   "source": [
    "n_epochs = 50\n",
    "drop_model = DropoutThaiDigit()  # Initialize a model\n",
    "loss_fn = nn.CrossEntropyLoss()\n",
    "optimizer = torch.optim.SGD(drop_model.parameters(), lr=0.01)\n",
    "\n",
    "drop_model, drop_model_history = train(drop_model, n_epochs, loss_fn, optimizer, train_loader, val_loader)"
   ]
  },
  {
   "cell_type": "code",
   "execution_count": 36,
   "id": "mNcSAyj2AuAC",
   "metadata": {
    "colab": {
     "base_uri": "https://localhost:8080/"
    },
    "id": "mNcSAyj2AuAC",
    "outputId": "7f4bcb29-ead7-4dd0-c1a6-e74dcae89e5e"
   },
   "outputs": [
    {
     "name": "stdout",
     "output_type": "stream",
     "text": [
      "Accuracy: 60.00%\n"
     ]
    }
   ],
   "source": [
    "results = evaluate(val_df, drop_model)"
   ]
  },
  {
   "cell_type": "code",
   "execution_count": 37,
   "id": "Ys7_0F5tIYnn",
   "metadata": {
    "colab": {
     "base_uri": "https://localhost:8080/",
     "height": 294
    },
    "id": "Ys7_0F5tIYnn",
    "outputId": "1154d46e-f3d3-47bd-89ac-52fb6815fd6d"
   },
   "outputs": [
    {
     "data": {
      "image/png": "[encoded data removed]",
      "text/plain": [
       "<Figure size 720x288 with 2 Axes>"
      ]
     },
     "metadata": {
      "needs_background": "light"
     },
     "output_type": "display_data"
    }
   ],
   "source": [
    "plot_graph(more_layers_model_history)"
   ]
  },
  {
   "cell_type": "code",
   "execution_count": 38,
   "id": "JmW9BZrBAvbh",
   "metadata": {
    "colab": {
     "base_uri": "https://localhost:8080/",
     "height": 294
    },
    "id": "JmW9BZrBAvbh",
    "outputId": "37a1fa4e-765b-464b-c480-fcd74e82e5eb"
   },
   "outputs": [
    {
     "data": {
      "image/png": "[encoded data removed]",
      "text/plain": [
       "<Figure size 720x288 with 2 Axes>"
      ]
     },
     "metadata": {
      "needs_background": "light"
     },
     "output_type": "display_data"
    }
   ],
   "source": [
    "plot_graph(drop_model_history)"
   ]
  },
  {
   "cell_type": "markdown",
   "id": "b611d20b",
   "metadata": {
    "id": "b611d20b"
   },
   "source": [
    "Now the gap between the training accuracy and validation accuracy is smaller than before."
   ]
  },
  {
   "cell_type": "markdown",
   "id": "_R305_c-sBGn",
   "metadata": {
    "id": "_R305_c-sBGn"
   },
   "source": [
    "## **Image Augmentation**\n",
    "\n",
    "Image augmentation is a technique used to artificially increase the size of a training dataset by creating modified versions of existing images."
   ]
  },
  {
   "cell_type": "code",
   "execution_count": 43,
   "id": "rKRgszrQNwPw",
   "metadata": {
    "id": "rKRgszrQNwPw"
   },
   "outputs": [],
   "source": [
    "# TODO: Add image augmentation in `train_transform`\n",
    "\n",
    "train_transform = transforms.Compose([\n",
    "    transforms.Resize((28, 28)),\n",
    "    transforms.Grayscale(),\n",
    "    # add here\n",
    "    transforms.RandomAffine(degrees=(-15, 15), translate=(0.05, 0.1), scale=(1, 1)),\n",
    "    transforms.ToTensor(),\n",
    "])\n",
    "\n",
    "val_transform = transforms.Compose([\n",
    "    transforms.Resize((28, 28)),\n",
    "    transforms.Grayscale(),\n",
    "    transforms.ToTensor(),\n",
    "])"
   ]
  },
  {
   "cell_type": "code",
   "execution_count": 47,
   "id": "PTsA7pkYKz4x",
   "metadata": {
    "colab": {
     "base_uri": "https://localhost:8080/",
     "height": 265
    },
    "id": "PTsA7pkYKz4x",
    "outputId": "883bf686-24a3-4001-c639-140aa1191dfa"
   },
   "outputs": [
    {
     "data": {
      "image/png": "[encoded data removed]",
      "text/plain": [
       "<Figure size 432x288 with 1 Axes>"
      ]
     },
     "metadata": {
      "needs_background": "light"
     },
     "output_type": "display_data"
    }
   ],
   "source": [
    "# TODO: Transform image using `train_transform`\n",
    "\n",
    "# Example of augmented image\n",
    "path = glob(\"deep-learning-skooldio/thai-handwritten-dataset/*/*\")[20]\n",
    "img = Image.open(path)\n",
    "\n",
    "tranformed_img = train_transform(img).squeeze(0)\n",
    "plt.imshow(tranformed_img, cmap=\"gray\")\n",
    "plt.show()"
   ]
  },
  {
   "cell_type": "code",
   "execution_count": 48,
   "id": "qtpgbABlefBj",
   "metadata": {
    "id": "qtpgbABlefBj"
   },
   "outputs": [],
   "source": [
    "augmented_train_dataset = ThaiDigitDataset(train_df, transform=train_transform)\n",
    "val_dataset = ThaiDigitDataset(val_df, transform=val_transform)"
   ]
  },
  {
   "cell_type": "code",
   "execution_count": 49,
   "id": "ybMkR3hoevDS",
   "metadata": {
    "id": "ybMkR3hoevDS"
   },
   "outputs": [],
   "source": [
    "train_dataset = ConcatDataset([train_thaidigit_dataset, augmented_train_dataset])"
   ]
  },
  {
   "cell_type": "code",
   "execution_count": 50,
   "id": "DWmjYCRmfOfH",
   "metadata": {
    "id": "DWmjYCRmfOfH"
   },
   "outputs": [],
   "source": [
    "train_dataloader = DataLoader(train_dataset, batch_size=16, shuffle=True)\n",
    "val_dataloader = DataLoader(val_dataset, batch_size=16, shuffle=False)"
   ]
  },
  {
   "cell_type": "code",
   "execution_count": 51,
   "id": "d0OHv65iJgHs",
   "metadata": {
    "colab": {
     "base_uri": "https://localhost:8080/"
    },
    "id": "d0OHv65iJgHs",
    "outputId": "5f57fe0a-23b3-42a3-fec4-accddaa59254"
   },
   "outputs": [
    {
     "name": "stdout",
     "output_type": "stream",
     "text": [
      "--------------------------------------------------------------------------------\n",
      "Epochs 1   train loss 2.30315 train acc 0.10381 val loss 2.30367 val acc 0.15429\n",
      "--------------------------------------------------------------------------------\n",
      "Epochs 2   train loss 2.30093 train acc 0.12571 val loss 2.30264 val acc 0.18857\n",
      "--------------------------------------------------------------------------------\n",
      "Epochs 3   train loss 2.29917 train acc 0.12794 val loss 2.30146 val acc 0.21143\n",
      "--------------------------------------------------------------------------------\n",
      "Epochs 4   train loss 2.29722 train acc 0.14000 val loss 2.29972 val acc 0.16571\n",
      "--------------------------------------------------------------------------------\n",
      "Epochs 5   train loss 2.29387 train acc 0.16317 val loss 2.29706 val acc 0.18286\n",
      "--------------------------------------------------------------------------------\n",
      "Epochs 6   train loss 2.29000 train acc 0.17175 val loss 2.29294 val acc 0.20571\n",
      "--------------------------------------------------------------------------------\n",
      "Epochs 7   train loss 2.28311 train acc 0.18413 val loss 2.28641 val acc 0.18286\n",
      "--------------------------------------------------------------------------------\n",
      "Epochs 8   train loss 2.27405 train acc 0.21270 val loss 2.27576 val acc 0.19429\n",
      "--------------------------------------------------------------------------------\n",
      "Epochs 9   train loss 2.25887 train acc 0.21873 val loss 2.25802 val acc 0.18857\n",
      "--------------------------------------------------------------------------------\n",
      "Epochs 10  train loss 2.23155 train acc 0.23397 val loss 2.22554 val acc 0.22857\n",
      "--------------------------------------------------------------------------------\n",
      "Epochs 11  train loss 2.18392 train acc 0.26635 val loss 2.16372 val acc 0.21714\n",
      "--------------------------------------------------------------------------------\n",
      "Epochs 12  train loss 2.09525 train acc 0.30095 val loss 2.05592 val acc 0.28571\n",
      "--------------------------------------------------------------------------------\n",
      "Epochs 13  train loss 1.95643 train acc 0.32921 val loss 1.89777 val acc 0.29714\n",
      "--------------------------------------------------------------------------------\n",
      "Epochs 14  train loss 1.78250 train acc 0.38889 val loss 1.70328 val acc 0.38857\n",
      "--------------------------------------------------------------------------------\n",
      "Epochs 15  train loss 1.63647 train acc 0.43397 val loss 1.56460 val acc 0.44000\n",
      "--------------------------------------------------------------------------------\n",
      "Epochs 16  train loss 1.53518 train acc 0.47714 val loss 1.47139 val acc 0.42857\n",
      "--------------------------------------------------------------------------------\n",
      "Epochs 17  train loss 1.47748 train acc 0.48635 val loss 1.40871 val acc 0.46286\n",
      "--------------------------------------------------------------------------------\n",
      "Epochs 18  train loss 1.42234 train acc 0.52508 val loss 1.40254 val acc 0.43429\n",
      "--------------------------------------------------------------------------------\n",
      "Epochs 19  train loss 1.40359 train acc 0.52730 val loss 1.32082 val acc 0.53143\n",
      "--------------------------------------------------------------------------------\n",
      "Epochs 20  train loss 1.34273 train acc 0.55238 val loss 1.30010 val acc 0.47429\n",
      "--------------------------------------------------------------------------------\n",
      "Epochs 21  train loss 1.29641 train acc 0.56857 val loss 1.24725 val acc 0.56571\n",
      "--------------------------------------------------------------------------------\n",
      "Epochs 22  train loss 1.27344 train acc 0.58317 val loss 1.24010 val acc 0.54286\n",
      "--------------------------------------------------------------------------------\n",
      "Epochs 23  train loss 1.22904 train acc 0.60317 val loss 1.20035 val acc 0.56000\n",
      "--------------------------------------------------------------------------------\n",
      "Epochs 24  train loss 1.16941 train acc 0.60984 val loss 1.18092 val acc 0.57714\n",
      "--------------------------------------------------------------------------------\n",
      "Epochs 25  train loss 1.13932 train acc 0.63302 val loss 1.10522 val acc 0.59429\n",
      "--------------------------------------------------------------------------------\n",
      "Epochs 26  train loss 1.12867 train acc 0.63587 val loss 1.09825 val acc 0.64000\n",
      "--------------------------------------------------------------------------------\n",
      "Epochs 27  train loss 1.08255 train acc 0.65238 val loss 1.07341 val acc 0.63429\n",
      "--------------------------------------------------------------------------------\n",
      "Epochs 28  train loss 1.04359 train acc 0.65968 val loss 1.02411 val acc 0.63429\n",
      "--------------------------------------------------------------------------------\n",
      "Epochs 29  train loss 1.01848 train acc 0.67016 val loss 1.01158 val acc 0.66857\n",
      "--------------------------------------------------------------------------------\n",
      "Epochs 30  train loss 0.99367 train acc 0.67619 val loss 0.98339 val acc 0.68571\n",
      "--------------------------------------------------------------------------------\n",
      "Epochs 31  train loss 0.96614 train acc 0.68349 val loss 0.97899 val acc 0.66286\n",
      "--------------------------------------------------------------------------------\n",
      "Epochs 32  train loss 0.94768 train acc 0.69270 val loss 0.95454 val acc 0.68000\n",
      "--------------------------------------------------------------------------------\n",
      "Epochs 33  train loss 0.90297 train acc 0.70413 val loss 0.91731 val acc 0.70286\n",
      "--------------------------------------------------------------------------------\n",
      "Epochs 34  train loss 0.86208 train acc 0.71556 val loss 0.92953 val acc 0.68000\n",
      "--------------------------------------------------------------------------------\n",
      "Epochs 35  train loss 0.87065 train acc 0.71556 val loss 0.93010 val acc 0.73143\n",
      "--------------------------------------------------------------------------------\n",
      "Epochs 36  train loss 0.83778 train acc 0.72127 val loss 0.92207 val acc 0.72000\n",
      "--------------------------------------------------------------------------------\n",
      "Epochs 37  train loss 0.82313 train acc 0.73111 val loss 0.90922 val acc 0.73143\n",
      "--------------------------------------------------------------------------------\n",
      "Epochs 38  train loss 0.79029 train acc 0.74381 val loss 0.88827 val acc 0.73143\n",
      "--------------------------------------------------------------------------------\n",
      "Epochs 39  train loss 0.77942 train acc 0.74667 val loss 0.83589 val acc 0.73714\n",
      "--------------------------------------------------------------------------------\n",
      "Epochs 40  train loss 0.76824 train acc 0.74444 val loss 0.85570 val acc 0.71429\n",
      "--------------------------------------------------------------------------------\n",
      "Epochs 41  train loss 0.74634 train acc 0.75111 val loss 0.86975 val acc 0.75429\n",
      "--------------------------------------------------------------------------------\n",
      "Epochs 42  train loss 0.74546 train acc 0.75810 val loss 0.86209 val acc 0.72000\n",
      "--------------------------------------------------------------------------------\n",
      "Epochs 43  train loss 0.71340 train acc 0.76921 val loss 0.84616 val acc 0.74286\n",
      "--------------------------------------------------------------------------------\n",
      "Epochs 44  train loss 0.69358 train acc 0.77587 val loss 0.83120 val acc 0.76000\n",
      "--------------------------------------------------------------------------------\n",
      "Epochs 45  train loss 0.67595 train acc 0.78349 val loss 0.80797 val acc 0.75429\n",
      "--------------------------------------------------------------------------------\n",
      "Epochs 46  train loss 0.66159 train acc 0.78254 val loss 0.88524 val acc 0.74286\n",
      "--------------------------------------------------------------------------------\n",
      "Epochs 47  train loss 0.64667 train acc 0.78794 val loss 0.84625 val acc 0.75429\n",
      "--------------------------------------------------------------------------------\n",
      "Epochs 48  train loss 0.64004 train acc 0.78952 val loss 0.78828 val acc 0.77714\n",
      "--------------------------------------------------------------------------------\n",
      "Epochs 49  train loss 0.63285 train acc 0.79524 val loss 0.85030 val acc 0.76000\n",
      "--------------------------------------------------------------------------------\n",
      "Epochs 50  train loss 0.60251 train acc 0.80444 val loss 0.80972 val acc 0.80000\n",
      "--------------------------------------------------------------------------------\n"
     ]
    }
   ],
   "source": [
    "# Let's train the model with augmented data\n",
    "n_epochs = 50\n",
    "augmented_model = DropoutThaiDigit()  # Initialize the model\n",
    "loss_fn = nn.CrossEntropyLoss()\n",
    "optimizer = torch.optim.SGD(augmented_model.parameters(), lr=0.01)\n",
    "\n",
    "augmented_model, augmented_model_history = train(\n",
    "    augmented_model, n_epochs, loss_fn, optimizer, train_dataloader, val_dataloader\n",
    ")"
   ]
  },
  {
   "cell_type": "code",
   "execution_count": 52,
   "id": "0_lbTJOXJheG",
   "metadata": {
    "colab": {
     "base_uri": "https://localhost:8080/"
    },
    "id": "0_lbTJOXJheG",
    "outputId": "80412e1f-d286-4717-8909-e4ea672c7080"
   },
   "outputs": [
    {
     "name": "stdout",
     "output_type": "stream",
     "text": [
      "Accuracy: 80.00%\n"
     ]
    }
   ],
   "source": [
    "# Evaluate the new model with old dataset.\n",
    "results = evaluate(val_df, augmented_model)"
   ]
  },
  {
   "cell_type": "code",
   "execution_count": 53,
   "id": "1kByhfphJi4M",
   "metadata": {
    "colab": {
     "base_uri": "https://localhost:8080/",
     "height": 294
    },
    "id": "1kByhfphJi4M",
    "outputId": "09c7969a-63c1-48a8-d36e-f412e993847a"
   },
   "outputs": [
    {
     "data": {
      "image/png": "[encoded data removed]",
      "text/plain": [
       "<Figure size 720x288 with 2 Axes>"
      ]
     },
     "metadata": {
      "needs_background": "light"
     },
     "output_type": "display_data"
    }
   ],
   "source": [
    "plot_graph(augmented_model_history)"
   ]
  },
  {
   "cell_type": "code",
   "execution_count": 54,
   "id": "GPwNfAB_Jj7L",
   "metadata": {
    "colab": {
     "base_uri": "https://localhost:8080/",
     "height": 279
    },
    "id": "GPwNfAB_Jj7L",
    "outputId": "48acf3a5-ee77-4f89-8da0-b932dd282152"
   },
   "outputs": [
    {
     "data": {
      "image/png": "[encoded data removed]",
      "text/plain": [
       "<Figure size 432x288 with 2 Axes>"
      ]
     },
     "metadata": {
      "needs_background": "light"
     },
     "output_type": "display_data"
    }
   ],
   "source": [
    "# Confusion matrix\n",
    "cm = confusion_matrix(results.text, results.prediction, labels=range(10))\n",
    "display = ConfusionMatrixDisplay(confusion_matrix=cm, display_labels=range(10))\n",
    "display.plot()\n",
    "plt.show()"
   ]
  }
 ],
 "metadata": {
  "accelerator": "GPU",
  "colab": {
   "provenance": []
  },
  "gpuClass": "standard",
  "kernelspec": {
   "display_name": "Python 3 (ipykernel)",
   "language": "python",
   "name": "python3"
  },
  "language_info": {
   "codemirror_mode": {
    "name": "ipython",
    "version": 3
   },
   "file_extension": ".py",
   "mimetype": "text/x-python",
   "name": "python",
   "nbconvert_exporter": "python",
   "pygments_lexer": "ipython3",
   "version": "3.7.13"
  },
  "vscode": {
   "interpreter": {
    "hash": "63ce3f086f3d35aeaa98481dc3e6117e1ab6d0e955643b11e97a8ed761553864"
   }
  },
  "widgets": {
   "application/vnd.jupyter.widget-state+json": {
    "093ceb7950a44cbdb3bf972478f6d47a": {
     "model_module": "@jupyter-widgets/controls",
     "model_module_version": "1.5.0",
     "model_name": "ProgressStyleModel",
     "state": {
      "_model_module": "@jupyter-widgets/controls",
      "_model_module_version": "1.5.0",
      "_model_name": "ProgressStyleModel",
      "_view_count": null,
      "_view_module": "@jupyter-widgets/base",
      "_view_module_version": "1.2.0",
      "_view_name": "StyleView",
      "bar_color": null,
      "description_width": ""
     }
    },
    "16cb7a51c30645f9b969af65d5a99ead": {
     "model_module": "@jupyter-widgets/controls",
     "model_module_version": "1.5.0",
     "model_name": "HBoxModel",
     "state": {
      "_dom_classes": [],
      "_model_module": "@jupyter-widgets/controls",
      "_model_module_version": "1.5.0",
      "_model_name": "HBoxModel",
      "_view_count": null,
      "_view_module": "@jupyter-widgets/controls",
      "_view_module_version": "1.5.0",
      "_view_name": "HBoxView",
      "box_style": "",
      "children": [
       "IPY_MODEL_9639a4e75cad41b987fb195b2c8f32ea",
       "IPY_MODEL_96d71adc6cc642ccb9068902877bef6b",
       "IPY_MODEL_7fc48c2a7a764e319fb06397b364d38a"
      ],
      "layout": "IPY_MODEL_2c8a6d76d68d4d2ba3fd26f184a3df3b"
     }
    },
    "2c8a6d76d68d4d2ba3fd26f184a3df3b": {
     "model_module": "@jupyter-widgets/base",
     "model_module_version": "1.2.0",
     "model_name": "LayoutModel",
     "state": {
      "_model_module": "@jupyter-widgets/base",
      "_model_module_version": "1.2.0",
      "_model_name": "LayoutModel",
      "_view_count": null,
      "_view_module": "@jupyter-widgets/base",
      "_view_module_version": "1.2.0",
      "_view_name": "LayoutView",
      "align_content": null,
      "align_items": null,
      "align_self": null,
      "border": null,
      "bottom": null,
      "display": null,
      "flex": null,
      "flex_flow": null,
      "grid_area": null,
      "grid_auto_columns": null,
      "grid_auto_flow": null,
      "grid_auto_rows": null,
      "grid_column": null,
      "grid_gap": null,
      "grid_row": null,
      "grid_template_areas": null,
      "grid_template_columns": null,
      "grid_template_rows": null,
      "height": null,
      "justify_content": null,
      "justify_items": null,
      "left": null,
      "margin": null,
      "max_height": null,
      "max_width": null,
      "min_height": null,
      "min_width": null,
      "object_fit": null,
      "object_position": null,
      "order": null,
      "overflow": null,
      "overflow_x": null,
      "overflow_y": null,
      "padding": null,
      "right": null,
      "top": null,
      "visibility": null,
      "width": null
     }
    },
    "344b18e8fcdd4953875762a078b34df3": {
     "model_module": "@jupyter-widgets/controls",
     "model_module_version": "1.5.0",
     "model_name": "DescriptionStyleModel",
     "state": {
      "_model_module": "@jupyter-widgets/controls",
      "_model_module_version": "1.5.0",
      "_model_name": "DescriptionStyleModel",
      "_view_count": null,
      "_view_module": "@jupyter-widgets/base",
      "_view_module_version": "1.2.0",
      "_view_name": "StyleView",
      "description_width": ""
     }
    },
    "3c720f063aab46318b7a0986358a9e50": {
     "model_module": "@jupyter-widgets/controls",
     "model_module_version": "1.5.0",
     "model_name": "ProgressStyleModel",
     "state": {
      "_model_module": "@jupyter-widgets/controls",
      "_model_module_version": "1.5.0",
      "_model_name": "ProgressStyleModel",
      "_view_count": null,
      "_view_module": "@jupyter-widgets/base",
      "_view_module_version": "1.2.0",
      "_view_name": "StyleView",
      "bar_color": null,
      "description_width": ""
     }
    },
    "449a09c27c6e4426a399bdc615f06fa9": {
     "model_module": "@jupyter-widgets/controls",
     "model_module_version": "1.5.0",
     "model_name": "FloatProgressModel",
     "state": {
      "_dom_classes": [],
      "_model_module": "@jupyter-widgets/controls",
      "_model_module_version": "1.5.0",
      "_model_name": "FloatProgressModel",
      "_view_count": null,
      "_view_module": "@jupyter-widgets/controls",
      "_view_module_version": "1.5.0",
      "_view_name": "ProgressView",
      "bar_style": "success",
      "description": "",
      "description_tooltip": null,
      "layout": "IPY_MODEL_8702829e983e4f8b9599d7a9bd316115",
      "max": 1575,
      "min": 0,
      "orientation": "horizontal",
      "style": "IPY_MODEL_3c720f063aab46318b7a0986358a9e50",
      "value": 1575
     }
    },
    "56df89016dc245e0a85eb6c5ba7e8dba": {
     "model_module": "@jupyter-widgets/controls",
     "model_module_version": "1.5.0",
     "model_name": "HTMLModel",
     "state": {
      "_dom_classes": [],
      "_model_module": "@jupyter-widgets/controls",
      "_model_module_version": "1.5.0",
      "_model_name": "HTMLModel",
      "_view_count": null,
      "_view_module": "@jupyter-widgets/controls",
      "_view_module_version": "1.5.0",
      "_view_name": "HTMLView",
      "description": "",
      "description_tooltip": null,
      "layout": "IPY_MODEL_a7c77dc32bc6409282ee68fc508b158b",
      "placeholder": "​",
      "style": "IPY_MODEL_65bf7fad9a0d4a8aa1608d393492ba6b",
      "value": " 1575/1575 [00:00&lt;00:00, 4063.18it/s]"
     }
    },
    "644531c592dc41d98599f6f472ae5902": {
     "model_module": "@jupyter-widgets/controls",
     "model_module_version": "1.5.0",
     "model_name": "HBoxModel",
     "state": {
      "_dom_classes": [],
      "_model_module": "@jupyter-widgets/controls",
      "_model_module_version": "1.5.0",
      "_model_name": "HBoxModel",
      "_view_count": null,
      "_view_module": "@jupyter-widgets/controls",
      "_view_module_version": "1.5.0",
      "_view_name": "HBoxView",
      "box_style": "",
      "children": [
       "IPY_MODEL_8cc2b594e630433d8731b3a597c22d16",
       "IPY_MODEL_449a09c27c6e4426a399bdc615f06fa9",
       "IPY_MODEL_56df89016dc245e0a85eb6c5ba7e8dba"
      ],
      "layout": "IPY_MODEL_c222ae9ae89e4689b0389019f41d8f82"
     }
    },
    "646bd7eae6954e1c81b9f0d497b1fef0": {
     "model_module": "@jupyter-widgets/base",
     "model_module_version": "1.2.0",
     "model_name": "LayoutModel",
     "state": {
      "_model_module": "@jupyter-widgets/base",
      "_model_module_version": "1.2.0",
      "_model_name": "LayoutModel",
      "_view_count": null,
      "_view_module": "@jupyter-widgets/base",
      "_view_module_version": "1.2.0",
      "_view_name": "LayoutView",
      "align_content": null,
      "align_items": null,
      "align_self": null,
      "border": null,
      "bottom": null,
      "display": null,
      "flex": null,
      "flex_flow": null,
      "grid_area": null,
      "grid_auto_columns": null,
      "grid_auto_flow": null,
      "grid_auto_rows": null,
      "grid_column": null,
      "grid_gap": null,
      "grid_row": null,
      "grid_template_areas": null,
      "grid_template_columns": null,
      "grid_template_rows": null,
      "height": null,
      "justify_content": null,
      "justify_items": null,
      "left": null,
      "margin": null,
      "max_height": null,
      "max_width": null,
      "min_height": null,
      "min_width": null,
      "object_fit": null,
      "object_position": null,
      "order": null,
      "overflow": null,
      "overflow_x": null,
      "overflow_y": null,
      "padding": null,
      "right": null,
      "top": null,
      "visibility": null,
      "width": null
     }
    },
    "65bf7fad9a0d4a8aa1608d393492ba6b": {
     "model_module": "@jupyter-widgets/controls",
     "model_module_version": "1.5.0",
     "model_name": "DescriptionStyleModel",
     "state": {
      "_model_module": "@jupyter-widgets/controls",
      "_model_module_version": "1.5.0",
      "_model_name": "DescriptionStyleModel",
      "_view_count": null,
      "_view_module": "@jupyter-widgets/base",
      "_view_module_version": "1.2.0",
      "_view_name": "StyleView",
      "description_width": ""
     }
    },
    "77d08cd81dd242ac8a409cf334804140": {
     "model_module": "@jupyter-widgets/base",
     "model_module_version": "1.2.0",
     "model_name": "LayoutModel",
     "state": {
      "_model_module": "@jupyter-widgets/base",
      "_model_module_version": "1.2.0",
      "_model_name": "LayoutModel",
      "_view_count": null,
      "_view_module": "@jupyter-widgets/base",
      "_view_module_version": "1.2.0",
      "_view_name": "LayoutView",
      "align_content": null,
      "align_items": null,
      "align_self": null,
      "border": null,
      "bottom": null,
      "display": null,
      "flex": null,
      "flex_flow": null,
      "grid_area": null,
      "grid_auto_columns": null,
      "grid_auto_flow": null,
      "grid_auto_rows": null,
      "grid_column": null,
      "grid_gap": null,
      "grid_row": null,
      "grid_template_areas": null,
      "grid_template_columns": null,
      "grid_template_rows": null,
      "height": null,
      "justify_content": null,
      "justify_items": null,
      "left": null,
      "margin": null,
      "max_height": null,
      "max_width": null,
      "min_height": null,
      "min_width": null,
      "object_fit": null,
      "object_position": null,
      "order": null,
      "overflow": null,
      "overflow_x": null,
      "overflow_y": null,
      "padding": null,
      "right": null,
      "top": null,
      "visibility": null,
      "width": null
     }
    },
    "7fc48c2a7a764e319fb06397b364d38a": {
     "model_module": "@jupyter-widgets/controls",
     "model_module_version": "1.5.0",
     "model_name": "HTMLModel",
     "state": {
      "_dom_classes": [],
      "_model_module": "@jupyter-widgets/controls",
      "_model_module_version": "1.5.0",
      "_model_name": "HTMLModel",
      "_view_count": null,
      "_view_module": "@jupyter-widgets/controls",
      "_view_module_version": "1.5.0",
      "_view_name": "HTMLView",
      "description": "",
      "description_tooltip": null,
      "layout": "IPY_MODEL_b254a1401f2b4b03b92010e66bad2ff3",
      "placeholder": "​",
      "style": "IPY_MODEL_b5e17b7ac1064b639547b00686616ed2",
      "value": " 175/175 [00:00&lt;00:00, 3253.63it/s]"
     }
    },
    "85e17e52667241eda4523964fa03fbb1": {
     "model_module": "@jupyter-widgets/base",
     "model_module_version": "1.2.0",
     "model_name": "LayoutModel",
     "state": {
      "_model_module": "@jupyter-widgets/base",
      "_model_module_version": "1.2.0",
      "_model_name": "LayoutModel",
      "_view_count": null,
      "_view_module": "@jupyter-widgets/base",
      "_view_module_version": "1.2.0",
      "_view_name": "LayoutView",
      "align_content": null,
      "align_items": null,
      "align_self": null,
      "border": null,
      "bottom": null,
      "display": null,
      "flex": null,
      "flex_flow": null,
      "grid_area": null,
      "grid_auto_columns": null,
      "grid_auto_flow": null,
      "grid_auto_rows": null,
      "grid_column": null,
      "grid_gap": null,
      "grid_row": null,
      "grid_template_areas": null,
      "grid_template_columns": null,
      "grid_template_rows": null,
      "height": null,
      "justify_content": null,
      "justify_items": null,
      "left": null,
      "margin": null,
      "max_height": null,
      "max_width": null,
      "min_height": null,
      "min_width": null,
      "object_fit": null,
      "object_position": null,
      "order": null,
      "overflow": null,
      "overflow_x": null,
      "overflow_y": null,
      "padding": null,
      "right": null,
      "top": null,
      "visibility": null,
      "width": null
     }
    },
    "8702829e983e4f8b9599d7a9bd316115": {
     "model_module": "@jupyter-widgets/base",
     "model_module_version": "1.2.0",
     "model_name": "LayoutModel",
     "state": {
      "_model_module": "@jupyter-widgets/base",
      "_model_module_version": "1.2.0",
      "_model_name": "LayoutModel",
      "_view_count": null,
      "_view_module": "@jupyter-widgets/base",
      "_view_module_version": "1.2.0",
      "_view_name": "LayoutView",
      "align_content": null,
      "align_items": null,
      "align_self": null,
      "border": null,
      "bottom": null,
      "display": null,
      "flex": null,
      "flex_flow": null,
      "grid_area": null,
      "grid_auto_columns": null,
      "grid_auto_flow": null,
      "grid_auto_rows": null,
      "grid_column": null,
      "grid_gap": null,
      "grid_row": null,
      "grid_template_areas": null,
      "grid_template_columns": null,
      "grid_template_rows": null,
      "height": null,
      "justify_content": null,
      "justify_items": null,
      "left": null,
      "margin": null,
      "max_height": null,
      "max_width": null,
      "min_height": null,
      "min_width": null,
      "object_fit": null,
      "object_position": null,
      "order": null,
      "overflow": null,
      "overflow_x": null,
      "overflow_y": null,
      "padding": null,
      "right": null,
      "top": null,
      "visibility": null,
      "width": null
     }
    },
    "8cc2b594e630433d8731b3a597c22d16": {
     "model_module": "@jupyter-widgets/controls",
     "model_module_version": "1.5.0",
     "model_name": "HTMLModel",
     "state": {
      "_dom_classes": [],
      "_model_module": "@jupyter-widgets/controls",
      "_model_module_version": "1.5.0",
      "_model_name": "HTMLModel",
      "_view_count": null,
      "_view_module": "@jupyter-widgets/controls",
      "_view_module_version": "1.5.0",
      "_view_name": "HTMLView",
      "description": "",
      "description_tooltip": null,
      "layout": "IPY_MODEL_646bd7eae6954e1c81b9f0d497b1fef0",
      "placeholder": "​",
      "style": "IPY_MODEL_344b18e8fcdd4953875762a078b34df3",
      "value": "100%"
     }
    },
    "9639a4e75cad41b987fb195b2c8f32ea": {
     "model_module": "@jupyter-widgets/controls",
     "model_module_version": "1.5.0",
     "model_name": "HTMLModel",
     "state": {
      "_dom_classes": [],
      "_model_module": "@jupyter-widgets/controls",
      "_model_module_version": "1.5.0",
      "_model_name": "HTMLModel",
      "_view_count": null,
      "_view_module": "@jupyter-widgets/controls",
      "_view_module_version": "1.5.0",
      "_view_name": "HTMLView",
      "description": "",
      "description_tooltip": null,
      "layout": "IPY_MODEL_85e17e52667241eda4523964fa03fbb1",
      "placeholder": "​",
      "style": "IPY_MODEL_c2d7d130db6243ed92b00fbb92651fb3",
      "value": "100%"
     }
    },
    "96d71adc6cc642ccb9068902877bef6b": {
     "model_module": "@jupyter-widgets/controls",
     "model_module_version": "1.5.0",
     "model_name": "FloatProgressModel",
     "state": {
      "_dom_classes": [],
      "_model_module": "@jupyter-widgets/controls",
      "_model_module_version": "1.5.0",
      "_model_name": "FloatProgressModel",
      "_view_count": null,
      "_view_module": "@jupyter-widgets/controls",
      "_view_module_version": "1.5.0",
      "_view_name": "ProgressView",
      "bar_style": "success",
      "description": "",
      "description_tooltip": null,
      "layout": "IPY_MODEL_77d08cd81dd242ac8a409cf334804140",
      "max": 175,
      "min": 0,
      "orientation": "horizontal",
      "style": "IPY_MODEL_093ceb7950a44cbdb3bf972478f6d47a",
      "value": 175
     }
    },
    "a7c77dc32bc6409282ee68fc508b158b": {
     "model_module": "@jupyter-widgets/base",
     "model_module_version": "1.2.0",
     "model_name": "LayoutModel",
     "state": {
      "_model_module": "@jupyter-widgets/base",
      "_model_module_version": "1.2.0",
      "_model_name": "LayoutModel",
      "_view_count": null,
      "_view_module": "@jupyter-widgets/base",
      "_view_module_version": "1.2.0",
      "_view_name": "LayoutView",
      "align_content": null,
      "align_items": null,
      "align_self": null,
      "border": null,
      "bottom": null,
      "display": null,
      "flex": null,
      "flex_flow": null,
      "grid_area": null,
      "grid_auto_columns": null,
      "grid_auto_flow": null,
      "grid_auto_rows": null,
      "grid_column": null,
      "grid_gap": null,
      "grid_row": null,
      "grid_template_areas": null,
      "grid_template_columns": null,
      "grid_template_rows": null,
      "height": null,
      "justify_content": null,
      "justify_items": null,
      "left": null,
      "margin": null,
      "max_height": null,
      "max_width": null,
      "min_height": null,
      "min_width": null,
      "object_fit": null,
      "object_position": null,
      "order": null,
      "overflow": null,
      "overflow_x": null,
      "overflow_y": null,
      "padding": null,
      "right": null,
      "top": null,
      "visibility": null,
      "width": null
     }
    },
    "b254a1401f2b4b03b92010e66bad2ff3": {
     "model_module": "@jupyter-widgets/base",
     "model_module_version": "1.2.0",
     "model_name": "LayoutModel",
     "state": {
      "_model_module": "@jupyter-widgets/base",
      "_model_module_version": "1.2.0",
      "_model_name": "LayoutModel",
      "_view_count": null,
      "_view_module": "@jupyter-widgets/base",
      "_view_module_version": "1.2.0",
      "_view_name": "LayoutView",
      "align_content": null,
      "align_items": null,
      "align_self": null,
      "border": null,
      "bottom": null,
      "display": null,
      "flex": null,
      "flex_flow": null,
      "grid_area": null,
      "grid_auto_columns": null,
      "grid_auto_flow": null,
      "grid_auto_rows": null,
      "grid_column": null,
      "grid_gap": null,
      "grid_row": null,
      "grid_template_areas": null,
      "grid_template_columns": null,
      "grid_template_rows": null,
      "height": null,
      "justify_content": null,
      "justify_items": null,
      "left": null,
      "margin": null,
      "max_height": null,
      "max_width": null,
      "min_height": null,
      "min_width": null,
      "object_fit": null,
      "object_position": null,
      "order": null,
      "overflow": null,
      "overflow_x": null,
      "overflow_y": null,
      "padding": null,
      "right": null,
      "top": null,
      "visibility": null,
      "width": null
     }
    },
    "b5e17b7ac1064b639547b00686616ed2": {
     "model_module": "@jupyter-widgets/controls",
     "model_module_version": "1.5.0",
     "model_name": "DescriptionStyleModel",
     "state": {
      "_model_module": "@jupyter-widgets/controls",
      "_model_module_version": "1.5.0",
      "_model_name": "DescriptionStyleModel",
      "_view_count": null,
      "_view_module": "@jupyter-widgets/base",
      "_view_module_version": "1.2.0",
      "_view_name": "StyleView",
      "description_width": ""
     }
    },
    "c222ae9ae89e4689b0389019f41d8f82": {
     "model_module": "@jupyter-widgets/base",
     "model_module_version": "1.2.0",
     "model_name": "LayoutModel",
     "state": {
      "_model_module": "@jupyter-widgets/base",
      "_model_module_version": "1.2.0",
      "_model_name": "LayoutModel",
      "_view_count": null,
      "_view_module": "@jupyter-widgets/base",
      "_view_module_version": "1.2.0",
      "_view_name": "LayoutView",
      "align_content": null,
      "align_items": null,
      "align_self": null,
      "border": null,
      "bottom": null,
      "display": null,
      "flex": null,
      "flex_flow": null,
      "grid_area": null,
      "grid_auto_columns": null,
      "grid_auto_flow": null,
      "grid_auto_rows": null,
      "grid_column": null,
      "grid_gap": null,
      "grid_row": null,
      "grid_template_areas": null,
      "grid_template_columns": null,
      "grid_template_rows": null,
      "height": null,
      "justify_content": null,
      "justify_items": null,
      "left": null,
      "margin": null,
      "max_height": null,
      "max_width": null,
      "min_height": null,
      "min_width": null,
      "object_fit": null,
      "object_position": null,
      "order": null,
      "overflow": null,
      "overflow_x": null,
      "overflow_y": null,
      "padding": null,
      "right": null,
      "top": null,
      "visibility": null,
      "width": null
     }
    },
    "c2d7d130db6243ed92b00fbb92651fb3": {
     "model_module": "@jupyter-widgets/controls",
     "model_module_version": "1.5.0",
     "model_name": "DescriptionStyleModel",
     "state": {
      "_model_module": "@jupyter-widgets/controls",
      "_model_module_version": "1.5.0",
      "_model_name": "DescriptionStyleModel",
      "_view_count": null,
      "_view_module": "@jupyter-widgets/base",
      "_view_module_version": "1.2.0",
      "_view_name": "StyleView",
      "description_width": ""
     }
    }
   }
  }
 },
 "nbformat": 4,
 "nbformat_minor": 5
}
