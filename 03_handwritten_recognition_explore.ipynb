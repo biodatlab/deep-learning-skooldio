{
  "cells": [
    {
      "cell_type": "markdown",
      "id": "cfc52381",
      "metadata": {
        "id": "cfc52381"
      },
      "source": [
        "[![Open in Colab](https://colab.research.google.com/assets/colab-badge.svg)](https://colab.research.google.com/github/biodatlab/deep-learning-skooldio/blob/master/03_handwritten_recognition_explore.ipynb)\n",
        "\n",
        "## **Thai-digit handwritten classification with Pytorch: Exploration**\n",
        "\n",
        "This notebook contains exploration of the \"Thai-digit handwritten classification\" including\n",
        "- Customize model\n",
        "    - Adding layers\n",
        "    - Adding dropout layer\n",
        "- Adding data augmentation"
      ]
    },
    {
      "cell_type": "markdown",
      "id": "3aa56f94",
      "metadata": {
        "id": "3aa56f94"
      },
      "source": [
        "## **Download and clean the dataset from the repository**\n",
        "\n",
        "- We have downloaded the data from https://github.com/kittinan/thai-handwriting-number by cloning the repository\n",
        "- Remove files that have character mismatch (as suggested by the the creator)\n",
        "- Then, we put the cleaned data at https://github.com/biodatlab/deep-learning-skooldio"
      ]
    },
    {
      "cell_type": "code",
      "execution_count": 1,
      "id": "f7deb2f6",
      "metadata": {
        "colab": {
          "base_uri": "https://localhost:8080/"
        },
        "id": "f7deb2f6",
        "outputId": "0e3be70b-94e5-475b-b37f-46da63f4ae42"
      },
      "outputs": [
        {
          "output_type": "stream",
          "name": "stdout",
          "text": [
            "Cloning into 'deep-learning-skooldio'...\n",
            "remote: Enumerating objects: 1787, done.\u001b[K\n",
            "remote: Counting objects: 100% (1787/1787), done.\u001b[K\n",
            "remote: Compressing objects: 100% (1759/1759), done.\u001b[K\n",
            "remote: Total 1787 (delta 48), reused 1761 (delta 28), pack-reused 0\u001b[K\n",
            "Receiving objects: 100% (1787/1787), 12.78 MiB | 25.87 MiB/s, done.\n",
            "Resolving deltas: 100% (48/48), done.\n"
          ]
        }
      ],
      "source": [
        "!git clone https://github.com/biodatlab/deep-learning-skooldio"
      ]
    },
    {
      "cell_type": "code",
      "execution_count": 155,
      "id": "2ad2a443",
      "metadata": {
        "id": "2ad2a443"
      },
      "outputs": [],
      "source": [
        "import os\n",
        "import os.path as op\n",
        "from glob import glob\n",
        "from pathlib import Path\n",
        "import random\n",
        "from PIL import Image\n",
        "from collections import Counter\n",
        "from torch.utils.data import ConcatDataset\n",
        "import seaborn\n",
        "from sklearn.metrics import confusion_matrix, ConfusionMatrixDisplay"
      ]
    },
    {
      "cell_type": "code",
      "execution_count": 3,
      "id": "64ce2573",
      "metadata": {
        "id": "64ce2573",
        "outputId": "cef7073e-812f-4f54-d899-26984b403d05",
        "colab": {
          "base_uri": "https://localhost:8080/"
        }
      },
      "outputs": [
        {
          "output_type": "stream",
          "name": "stdout",
          "text": [
            "Number of samples 1750\n"
          ]
        }
      ],
      "source": [
        "directory = \"deep-learning-skooldio/\"\n",
        "paths = glob(op.join(directory, \"thai-handwritten-dataset\", \"*\", \"*\"))\n",
        "num_samples = len(paths)\n",
        "print(\"Number of samples\", num_samples)"
      ]
    },
    {
      "cell_type": "code",
      "execution_count": 4,
      "id": "6aa0f5b4",
      "metadata": {
        "id": "6aa0f5b4"
      },
      "outputs": [],
      "source": [
        "from tqdm.auto import tqdm\n",
        "from sklearn.model_selection import train_test_split\n",
        "import shutil\n",
        "\n",
        "train_paths, test_paths = train_test_split(paths, test_size=0.1, random_state=42)\n",
        "for i in range(10):\n",
        "    os.makedirs(f\"data/train/{i}\", exist_ok=True)\n",
        "    os.makedirs(f\"data/validation/{i}\", exist_ok=True)"
      ]
    },
    {
      "cell_type": "code",
      "execution_count": 5,
      "id": "fe1d237b",
      "metadata": {
        "id": "fe1d237b"
      },
      "outputs": [],
      "source": [
        "def copy_to_destination(src_paths, dst_path: str = \"data/train/\"):\n",
        "    for path in tqdm(src_paths):\n",
        "        path = Path(path)\n",
        "        if path.parent.name == \"10\":\n",
        "            parent_dir = \"0\"\n",
        "        else:\n",
        "            parent_dir = path.parent.name\n",
        "        shutil.copy(path, op.join(dst_path, parent_dir, path.name))"
      ]
    },
    {
      "cell_type": "code",
      "execution_count": 6,
      "id": "af9064ae",
      "metadata": {
        "colab": {
          "base_uri": "https://localhost:8080/",
          "height": 81,
          "referenced_widgets": [
            "e6f929dde3a945d98d6151dede847e84",
            "29b35b1dec0a48d2be7dfce3c96d588d",
            "5c9b7df9012a4397a28fbf001cb75e02",
            "089d769f8bfe42e2956abf15f2e48372",
            "42ef46d64bc0415aafeb85f93a82fdac",
            "fa0d6404b19845af814a8ab9222649a3",
            "3bfc8f32f7814893ae05bb2c6bd1594f",
            "245f48165d4f4a73951ece1777d5bfde",
            "14628ef0cda843699000769bcbcfaefa",
            "73e4fa6dc28741c4890695a6bc944774",
            "3ead1d926af941f7809bbf223ee8df8a",
            "fab579920675419db8d1b2272ac6e709",
            "53d6a9db5c6e4e6cb9c1560d2b531eda",
            "3b8157a664a040a298d518ca73056526",
            "9bf33b709b8447da90506414e4a913d2",
            "7ead6fd44022492bb2cc1718fdf601aa",
            "3db91d2184334bb5b75bde4460830437",
            "ead97b43eb2f49359743f625d21fdff2",
            "65503cd6ff0f413a8f6adcd08d15d5ca",
            "f17c6a506f2c40ecbeb671aede620012",
            "b831eda84bbd449daf264434b65f7b4c",
            "f571eda995e340f8ad7cf87dcd79f099"
          ]
        },
        "id": "af9064ae",
        "outputId": "f4a59306-f441-4fab-9cfc-c91836dc42ce"
      },
      "outputs": [
        {
          "output_type": "display_data",
          "data": {
            "text/plain": [
              "  0%|          | 0/1575 [00:00<?, ?it/s]"
            ],
            "application/vnd.jupyter.widget-view+json": {
              "version_major": 2,
              "version_minor": 0,
              "model_id": "e6f929dde3a945d98d6151dede847e84"
            }
          },
          "metadata": {}
        },
        {
          "output_type": "display_data",
          "data": {
            "text/plain": [
              "  0%|          | 0/175 [00:00<?, ?it/s]"
            ],
            "application/vnd.jupyter.widget-view+json": {
              "version_major": 2,
              "version_minor": 0,
              "model_id": "fab579920675419db8d1b2272ac6e709"
            }
          },
          "metadata": {}
        }
      ],
      "source": [
        "copy_to_destination(train_paths, \"data/train/\")\n",
        "copy_to_destination(test_paths, \"data/validation/\")"
      ]
    },
    {
      "cell_type": "markdown",
      "id": "ae55f494",
      "metadata": {
        "id": "ae55f494"
      },
      "source": [
        "## **Create a custom dataset and a dataloader**"
      ]
    },
    {
      "cell_type": "code",
      "execution_count": 7,
      "id": "d0b69d68",
      "metadata": {
        "id": "d0b69d68"
      },
      "outputs": [],
      "source": [
        "import torch\n",
        "from torch.utils.data import Dataset, DataLoader\n",
        "from torchvision import transforms\n",
        "import matplotlib.pyplot as plt\n",
        "import pandas as pd\n",
        "import os"
      ]
    },
    {
      "cell_type": "code",
      "execution_count": 8,
      "id": "2dbd4be3",
      "metadata": {
        "id": "2dbd4be3"
      },
      "outputs": [],
      "source": [
        "transform = transforms.Compose([\n",
        "    transforms.Resize((28, 28)),\n",
        "    transforms.Grayscale(),\n",
        "    transforms.ToTensor()\n",
        "])"
      ]
    },
    {
      "cell_type": "code",
      "execution_count": 31,
      "id": "yyAx23w8PFLU",
      "metadata": {
        "id": "yyAx23w8PFLU",
        "outputId": "93c6c938-d59e-460d-e07a-431794e16a22",
        "colab": {
          "base_uri": "https://localhost:8080/"
        }
      },
      "outputs": [
        {
          "output_type": "stream",
          "name": "stdout",
          "text": [
            "Number of train images = (1575, 2), number of validation images = (175, 2),\n"
          ]
        }
      ],
      "source": [
        "# Create dataframe\n",
        "train_df = pd.DataFrame({\"path\": glob(\"data/train/*/*\")})\n",
        "val_df = pd.DataFrame({\"path\": glob(\"data/validation/*/*\")})\n",
        "\n",
        "# Create text column from path\n",
        "train_df[\"text\"] = train_df[\"path\"].apply(lambda x: int(Path(x).parent.name))\n",
        "val_df[\"text\"] = val_df[\"path\"].apply(lambda x: int(Path(x).parent.name))\n",
        "\n",
        "# Shape of dataframe\n",
        "print(\"Number of train images = {}, number of validation images = {},\".format(train_df.shape, val_df.shape))"
      ]
    },
    {
      "cell_type": "code",
      "execution_count": 32,
      "id": "09eb4140",
      "metadata": {
        "id": "09eb4140"
      },
      "outputs": [],
      "source": [
        "class ThaiDigitDataset(Dataset):\n",
        "    def __init__(self, dataframe, transform=None):\n",
        "        self.transform = transform\n",
        "        self.dataframe = dataframe\n",
        "\n",
        "    def __len__(self):\n",
        "        return len(self.dataframe)\n",
        "\n",
        "    def __getitem__(self, idx):\n",
        "        label = int(self.dataframe['text'][idx])\n",
        "        image = Image.open(self.dataframe['path'][idx])\n",
        "        if self.transform:\n",
        "            image = 1 - self.transform(image)\n",
        "        return image, label"
      ]
    },
    {
      "cell_type": "code",
      "execution_count": 124,
      "id": "f1175f91",
      "metadata": {
        "id": "f1175f91"
      },
      "outputs": [],
      "source": [
        "train_thaidigit_dataset = ThaiDigitDataset(train_df, transform=transform)\n",
        "val_thaidigit_dataset = ThaiDigitDataset(val_df, transform=transform)"
      ]
    },
    {
      "cell_type": "code",
      "execution_count": 125,
      "id": "d4f83af9",
      "metadata": {
        "id": "d4f83af9"
      },
      "outputs": [],
      "source": [
        "train_loader = DataLoader(train_thaidigit_dataset, batch_size=16, shuffle=True)\n",
        "val_loader = DataLoader(val_thaidigit_dataset, batch_size=16, shuffle=False)"
      ]
    },
    {
      "cell_type": "markdown",
      "id": "275542ac",
      "metadata": {
        "id": "275542ac"
      },
      "source": [
        "## **Create the model**"
      ]
    },
    {
      "cell_type": "code",
      "execution_count": 35,
      "id": "abbd30d0",
      "metadata": {
        "id": "abbd30d0"
      },
      "outputs": [],
      "source": [
        "import torch.nn as nn\n",
        "import torch.nn.functional as F\n",
        "\n",
        "class ThaiDigitNet(nn.Module):\n",
        "    def __init__(self):\n",
        "        super(ThaiDigitNet, self).__init__()\n",
        "        self.fc1 = nn.Linear(28 * 28, 100)\n",
        "        self.fc2 = nn.Linear(100, 10)\n",
        "\n",
        "    def forward(self, x):\n",
        "        x = x.view(-1, 28 * 28)\n",
        "        x = self.fc1(x)\n",
        "        x = F.relu(x)\n",
        "        x = self.fc2(x)\n",
        "        return x"
      ]
    },
    {
      "cell_type": "markdown",
      "id": "f0455ef9",
      "metadata": {
        "id": "f0455ef9"
      },
      "source": [
        "## **Train the model**"
      ]
    },
    {
      "cell_type": "code",
      "execution_count": 36,
      "id": "r61vWix7nfgl",
      "metadata": {
        "id": "r61vWix7nfgl"
      },
      "outputs": [],
      "source": [
        "# Create training loop function\n",
        "def train(model, n_epochs, loss_function, optimizer, train_loader, validation_loader):\n",
        "    training_logs = {\"train_loss\": [],  \"train_acc\": [], \"val_loss\": [], \"val_acc\": []}\n",
        "    print(\"-\"*80)\n",
        "    for epoch in range(1, n_epochs+1):\n",
        "        # training\n",
        "        model.train()\n",
        "        train_loss, correct = 0, 0\n",
        "        for images, labels in train_loader:\n",
        "            pred = model(images)\n",
        "            loss = loss_function(pred, labels)\n",
        "\n",
        "            optimizer.zero_grad()\n",
        "            loss.backward()\n",
        "            optimizer.step()\n",
        "\n",
        "            train_loss += loss.item()\n",
        "            correct += (pred.argmax(1) == labels).float().sum().item()\n",
        "        # save training logs\n",
        "        training_logs[\"train_loss\"].append(train_loss/ len(train_loader))\n",
        "        training_logs[\"train_acc\"].append(correct / len(train_loader.dataset))\n",
        "\n",
        "        # validation\n",
        "        model.eval()\n",
        "        val_loss, correct = 0, 0\n",
        "        for images, labels in validation_loader:\n",
        "            pred = model(images)\n",
        "            val_loss += loss_function(pred, labels).item()\n",
        "            correct += (pred.argmax(1) == labels).float().sum().item()\n",
        "        # save validation logs\n",
        "        training_logs[\"val_loss\"].append(val_loss/ len(val_loader))\n",
        "        training_logs[\"val_acc\"].append(correct / len(validation_loader.dataset))\n",
        "\n",
        "        print(f\"Epochs {epoch}\".ljust(10), \n",
        "              f\"train loss {training_logs['train_loss'][-1]:.5f}\",\n",
        "              f\"train acc {training_logs['train_acc'][-1]:.5f}\",\n",
        "\n",
        "              f\"val loss {training_logs['val_loss'][-1]:.5f}\",\n",
        "              f\"val acc {training_logs['val_acc'][-1]:.5f}\",\n",
        "              )\n",
        "        print(\"-\"*80)\n",
        "    return model, training_logs\n",
        "        "
      ]
    },
    {
      "cell_type": "code",
      "execution_count": 37,
      "id": "pKe0afyiq80F",
      "metadata": {
        "colab": {
          "base_uri": "https://localhost:8080/"
        },
        "id": "pKe0afyiq80F",
        "outputId": "83b495f1-3d8b-4bd6-b1e8-c30841215a21"
      },
      "outputs": [
        {
          "output_type": "stream",
          "name": "stdout",
          "text": [
            "--------------------------------------------------------------------------------\n",
            "Epochs 1   train loss 2.29900 train acc 0.12190 val loss 2.27554 val acc 0.18286\n",
            "--------------------------------------------------------------------------------\n",
            "Epochs 2   train loss 2.26179 train acc 0.23175 val loss 2.23735 val acc 0.28571\n",
            "--------------------------------------------------------------------------------\n",
            "Epochs 3   train loss 2.21460 train acc 0.29270 val loss 2.18480 val acc 0.34857\n",
            "--------------------------------------------------------------------------------\n",
            "Epochs 4   train loss 2.15257 train acc 0.38349 val loss 2.11770 val acc 0.40000\n",
            "--------------------------------------------------------------------------------\n",
            "Epochs 5   train loss 2.07735 train acc 0.41079 val loss 2.03751 val acc 0.42857\n",
            "--------------------------------------------------------------------------------\n",
            "Epochs 6   train loss 1.98797 train acc 0.45016 val loss 1.94642 val acc 0.46857\n",
            "--------------------------------------------------------------------------------\n",
            "Epochs 7   train loss 1.89210 train acc 0.49587 val loss 1.84732 val acc 0.49143\n",
            "--------------------------------------------------------------------------------\n",
            "Epochs 8   train loss 1.79097 train acc 0.51683 val loss 1.75532 val acc 0.54286\n",
            "--------------------------------------------------------------------------------\n",
            "Epochs 9   train loss 1.69628 train acc 0.54921 val loss 1.66948 val acc 0.52571\n",
            "--------------------------------------------------------------------------------\n",
            "Epochs 10  train loss 1.60704 train acc 0.57841 val loss 1.58423 val acc 0.55429\n",
            "--------------------------------------------------------------------------------\n",
            "Epochs 11  train loss 1.52610 train acc 0.58222 val loss 1.52142 val acc 0.57714\n",
            "--------------------------------------------------------------------------------\n",
            "Epochs 12  train loss 1.45919 train acc 0.60762 val loss 1.47359 val acc 0.59429\n",
            "--------------------------------------------------------------------------------\n",
            "Epochs 13  train loss 1.39718 train acc 0.61524 val loss 1.42403 val acc 0.58857\n",
            "--------------------------------------------------------------------------------\n",
            "Epochs 14  train loss 1.34383 train acc 0.62032 val loss 1.38998 val acc 0.58857\n",
            "--------------------------------------------------------------------------------\n",
            "Epochs 15  train loss 1.29794 train acc 0.63683 val loss 1.35698 val acc 0.58857\n",
            "--------------------------------------------------------------------------------\n",
            "Epochs 16  train loss 1.25767 train acc 0.64762 val loss 1.33280 val acc 0.60000\n",
            "--------------------------------------------------------------------------------\n",
            "Epochs 17  train loss 1.22307 train acc 0.65016 val loss 1.30963 val acc 0.60571\n",
            "--------------------------------------------------------------------------------\n",
            "Epochs 18  train loss 1.18747 train acc 0.66032 val loss 1.29279 val acc 0.60000\n",
            "--------------------------------------------------------------------------------\n",
            "Epochs 19  train loss 1.16132 train acc 0.66540 val loss 1.28439 val acc 0.61714\n",
            "--------------------------------------------------------------------------------\n",
            "Epochs 20  train loss 1.13514 train acc 0.67238 val loss 1.27039 val acc 0.61714\n",
            "--------------------------------------------------------------------------------\n",
            "Epochs 21  train loss 1.11009 train acc 0.67937 val loss 1.25666 val acc 0.62286\n",
            "--------------------------------------------------------------------------------\n",
            "Epochs 22  train loss 1.08677 train acc 0.68444 val loss 1.24884 val acc 0.61714\n",
            "--------------------------------------------------------------------------------\n",
            "Epochs 23  train loss 1.06651 train acc 0.69206 val loss 1.24683 val acc 0.62286\n",
            "--------------------------------------------------------------------------------\n",
            "Epochs 24  train loss 1.04717 train acc 0.69524 val loss 1.24453 val acc 0.60571\n",
            "--------------------------------------------------------------------------------\n",
            "Epochs 25  train loss 1.02809 train acc 0.69841 val loss 1.23382 val acc 0.61714\n",
            "--------------------------------------------------------------------------------\n",
            "Epochs 26  train loss 1.00954 train acc 0.70921 val loss 1.21544 val acc 0.61143\n",
            "--------------------------------------------------------------------------------\n",
            "Epochs 27  train loss 0.99457 train acc 0.70984 val loss 1.22782 val acc 0.61714\n",
            "--------------------------------------------------------------------------------\n",
            "Epochs 28  train loss 0.97549 train acc 0.70857 val loss 1.21682 val acc 0.62286\n",
            "--------------------------------------------------------------------------------\n",
            "Epochs 29  train loss 0.96032 train acc 0.71746 val loss 1.22339 val acc 0.61714\n",
            "--------------------------------------------------------------------------------\n",
            "Epochs 30  train loss 0.94855 train acc 0.71429 val loss 1.21824 val acc 0.60571\n",
            "--------------------------------------------------------------------------------\n",
            "Epochs 31  train loss 0.93238 train acc 0.72127 val loss 1.20727 val acc 0.62286\n",
            "--------------------------------------------------------------------------------\n",
            "Epochs 32  train loss 0.92029 train acc 0.72317 val loss 1.20359 val acc 0.62286\n",
            "--------------------------------------------------------------------------------\n",
            "Epochs 33  train loss 0.90972 train acc 0.73016 val loss 1.21960 val acc 0.62286\n",
            "--------------------------------------------------------------------------------\n",
            "Epochs 34  train loss 0.89284 train acc 0.72952 val loss 1.20258 val acc 0.62286\n",
            "--------------------------------------------------------------------------------\n",
            "Epochs 35  train loss 0.87859 train acc 0.74095 val loss 1.20972 val acc 0.63429\n",
            "--------------------------------------------------------------------------------\n",
            "Epochs 36  train loss 0.86769 train acc 0.74476 val loss 1.19804 val acc 0.62286\n",
            "--------------------------------------------------------------------------------\n",
            "Epochs 37  train loss 0.85677 train acc 0.74349 val loss 1.19059 val acc 0.62857\n",
            "--------------------------------------------------------------------------------\n",
            "Epochs 38  train loss 0.84382 train acc 0.74667 val loss 1.18918 val acc 0.62286\n",
            "--------------------------------------------------------------------------------\n",
            "Epochs 39  train loss 0.83495 train acc 0.75365 val loss 1.18687 val acc 0.61714\n",
            "--------------------------------------------------------------------------------\n",
            "Epochs 40  train loss 0.82034 train acc 0.75048 val loss 1.18910 val acc 0.62286\n",
            "--------------------------------------------------------------------------------\n",
            "Epochs 41  train loss 0.81125 train acc 0.75048 val loss 1.20178 val acc 0.61143\n",
            "--------------------------------------------------------------------------------\n",
            "Epochs 42  train loss 0.80249 train acc 0.75683 val loss 1.18530 val acc 0.60571\n",
            "--------------------------------------------------------------------------------\n",
            "Epochs 43  train loss 0.78775 train acc 0.76635 val loss 1.17749 val acc 0.62857\n",
            "--------------------------------------------------------------------------------\n",
            "Epochs 44  train loss 0.78033 train acc 0.76762 val loss 1.18822 val acc 0.62857\n",
            "--------------------------------------------------------------------------------\n",
            "Epochs 45  train loss 0.76890 train acc 0.76952 val loss 1.18060 val acc 0.61714\n",
            "--------------------------------------------------------------------------------\n",
            "Epochs 46  train loss 0.75946 train acc 0.77714 val loss 1.18057 val acc 0.61714\n",
            "--------------------------------------------------------------------------------\n",
            "Epochs 47  train loss 0.74841 train acc 0.77714 val loss 1.17949 val acc 0.61714\n",
            "--------------------------------------------------------------------------------\n",
            "Epochs 48  train loss 0.74263 train acc 0.78540 val loss 1.17864 val acc 0.60571\n",
            "--------------------------------------------------------------------------------\n",
            "Epochs 49  train loss 0.73068 train acc 0.78222 val loss 1.18669 val acc 0.61143\n",
            "--------------------------------------------------------------------------------\n",
            "Epochs 50  train loss 0.72064 train acc 0.79048 val loss 1.17164 val acc 0.62286\n",
            "--------------------------------------------------------------------------------\n"
          ]
        }
      ],
      "source": [
        "n_epoch = 50\n",
        "\n",
        "net = ThaiDigitNet() # Initialize the model\n",
        "loss_fn = nn.CrossEntropyLoss()\n",
        "optimizer = torch.optim.SGD(net.parameters(), lr=0.01)\n",
        "net, net_history = train(net, n_epoch, loss_fn, optimizer, train_loader, val_loader)"
      ]
    },
    {
      "cell_type": "code",
      "execution_count": 38,
      "id": "c1ab188c",
      "metadata": {
        "id": "c1ab188c",
        "outputId": "205031ef-5b1f-4373-b039-3dfbb6b9de51",
        "colab": {
          "base_uri": "https://localhost:8080/",
          "height": 281
        }
      },
      "outputs": [
        {
          "output_type": "display_data",
          "data": {
            "text/plain": [
              "<Figure size 432x288 with 1 Axes>"
            ],
            "image/png": "[encoded data removed]"
          },
          "metadata": {
            "needs_background": "light"
          }
        }
      ],
      "source": [
        "# Plot the training accuracy and validation accuracy\n",
        "plt.plot(net_history[\"train_acc\"], label=\"Train\")\n",
        "plt.plot(net_history[\"val_acc\"], label=\"Validation\")\n",
        "plt.legend()\n",
        "plt.title(\"Train accuracy vs Validation accuracy\")\n",
        "plt.show()"
      ]
    },
    {
      "cell_type": "markdown",
      "id": "Z1KkTwVoob4f",
      "metadata": {
        "id": "Z1KkTwVoob4f"
      },
      "source": [
        "## **Save and load model**\n",
        "\n"
      ]
    },
    {
      "cell_type": "code",
      "execution_count": 39,
      "id": "m6eOWaxWobiw",
      "metadata": {
        "id": "m6eOWaxWobiw"
      },
      "outputs": [],
      "source": [
        "save_path = \"thai_digit.pth\"\n",
        "torch.save(net.state_dict(), save_path)  # save model parameters"
      ]
    },
    {
      "cell_type": "code",
      "execution_count": 40,
      "id": "Q9hqeg76o0Ng",
      "metadata": {
        "colab": {
          "base_uri": "https://localhost:8080/"
        },
        "id": "Q9hqeg76o0Ng",
        "outputId": "1212127f-3e60-4aa1-e9c1-652522758163"
      },
      "outputs": [
        {
          "output_type": "execute_result",
          "data": {
            "text/plain": [
              "<All keys matched successfully>"
            ]
          },
          "metadata": {},
          "execution_count": 40
        }
      ],
      "source": [
        "model_path = \"thai_digit.pth\"\n",
        "model = ThaiDigitNet()  # initialize the model\n",
        "model.load_state_dict(torch.load(model_path))  # load the model weights"
      ]
    },
    {
      "cell_type": "markdown",
      "id": "2a0229f1",
      "metadata": {
        "id": "2a0229f1"
      },
      "source": [
        "## **Evaluate the model**"
      ]
    },
    {
      "cell_type": "code",
      "execution_count": 42,
      "id": "5b41a1c8",
      "metadata": {
        "id": "5b41a1c8"
      },
      "outputs": [],
      "source": [
        "# Create evaluation function for the model\n",
        "def evaluate(dataframe, model):\n",
        "    model.eval()\n",
        "    results = dataframe.copy()\n",
        "    predictions = []\n",
        "    for idx, row in results.iterrows():\n",
        "        img = transform(Image.open(row.path))\n",
        "        pred = model(1 - img)\n",
        "        predictions.append(pred.argmax(1).item())\n",
        "\n",
        "    results[\"prediction\"] = predictions\n",
        "    # Calculate accuracy\n",
        "    accuracy = len(results[results.prediction == results.text]) / len(results)\n",
        "    print(f\"Accuracy: {accuracy * 100:.2f}%\")\n",
        "    return results"
      ]
    },
    {
      "cell_type": "code",
      "execution_count": 43,
      "id": "mfQO7phtP3zU",
      "metadata": {
        "colab": {
          "base_uri": "https://localhost:8080/",
          "height": 441
        },
        "id": "mfQO7phtP3zU",
        "outputId": "d44e658e-dc79-4b2e-82c9-45c903a8ac79"
      },
      "outputs": [
        {
          "output_type": "stream",
          "name": "stdout",
          "text": [
            "Accuracy: 62.29%\n"
          ]
        },
        {
          "output_type": "execute_result",
          "data": {
            "text/plain": [
              "                                                  path  text  prediction\n",
              "0    data/validation/8/44_9f2d7454-dd40-4c4a-916e-5...     8           4\n",
              "1    data/validation/8/c17a09d4-a8b0-40be-bcd1-4666...     8           0\n",
              "2    data/validation/8/504cd1fd-14d3-442a-b694-8da9...     8           8\n",
              "3    data/validation/8/8e0e0499-7e9c-42cc-8b1c-8d54...     8           9\n",
              "4    data/validation/8/ce169337-9ad4-423b-b185-eaf5...     8           0\n",
              "..                                                 ...   ...         ...\n",
              "170  data/validation/9/c2361c50-30ed-4420-b7b4-db0b...     9           4\n",
              "171  data/validation/9/96140adf-5a81-4d06-841d-d6db...     9           1\n",
              "172  data/validation/9/b6b40844-50cc-4847-8b83-9961...     9           9\n",
              "173  data/validation/9/21_0cce64ca-f6e6-4b77-99ec-f...     9           9\n",
              "174  data/validation/9/527f32ba-3c4a-4e47-be39-056d...     9           7\n",
              "\n",
              "[175 rows x 3 columns]"
            ],
            "text/html": [
              "\n",
              "  <div id=\"df-6018ea6c-e204-459a-ace0-575daf6d806b\">\n",
              "    <div class=\"colab-df-container\">\n",
              "      <div>\n",
              "<style scoped>\n",
              "    .dataframe tbody tr th:only-of-type {\n",
              "        vertical-align: middle;\n",
              "    }\n",
              "\n",
              "    .dataframe tbody tr th {\n",
              "        vertical-align: top;\n",
              "    }\n",
              "\n",
              "    .dataframe thead th {\n",
              "        text-align: right;\n",
              "    }\n",
              "</style>\n",
              "<table border=\"1\" class=\"dataframe\">\n",
              "  <thead>\n",
              "    <tr style=\"text-align: right;\">\n",
              "      <th></th>\n",
              "      <th>path</th>\n",
              "      <th>text</th>\n",
              "      <th>prediction</th>\n",
              "    </tr>\n",
              "  </thead>\n",
              "  <tbody>\n",
              "    <tr>\n",
              "      <th>0</th>\n",
              "      <td>data/validation/8/44_9f2d7454-dd40-4c4a-916e-5...</td>\n",
              "      <td>8</td>\n",
              "      <td>4</td>\n",
              "    </tr>\n",
              "    <tr>\n",
              "      <th>1</th>\n",
              "      <td>data/validation/8/c17a09d4-a8b0-40be-bcd1-4666...</td>\n",
              "      <td>8</td>\n",
              "      <td>0</td>\n",
              "    </tr>\n",
              "    <tr>\n",
              "      <th>2</th>\n",
              "      <td>data/validation/8/504cd1fd-14d3-442a-b694-8da9...</td>\n",
              "      <td>8</td>\n",
              "      <td>8</td>\n",
              "    </tr>\n",
              "    <tr>\n",
              "      <th>3</th>\n",
              "      <td>data/validation/8/8e0e0499-7e9c-42cc-8b1c-8d54...</td>\n",
              "      <td>8</td>\n",
              "      <td>9</td>\n",
              "    </tr>\n",
              "    <tr>\n",
              "      <th>4</th>\n",
              "      <td>data/validation/8/ce169337-9ad4-423b-b185-eaf5...</td>\n",
              "      <td>8</td>\n",
              "      <td>0</td>\n",
              "    </tr>\n",
              "    <tr>\n",
              "      <th>...</th>\n",
              "      <td>...</td>\n",
              "      <td>...</td>\n",
              "      <td>...</td>\n",
              "    </tr>\n",
              "    <tr>\n",
              "      <th>170</th>\n",
              "      <td>data/validation/9/c2361c50-30ed-4420-b7b4-db0b...</td>\n",
              "      <td>9</td>\n",
              "      <td>4</td>\n",
              "    </tr>\n",
              "    <tr>\n",
              "      <th>171</th>\n",
              "      <td>data/validation/9/96140adf-5a81-4d06-841d-d6db...</td>\n",
              "      <td>9</td>\n",
              "      <td>1</td>\n",
              "    </tr>\n",
              "    <tr>\n",
              "      <th>172</th>\n",
              "      <td>data/validation/9/b6b40844-50cc-4847-8b83-9961...</td>\n",
              "      <td>9</td>\n",
              "      <td>9</td>\n",
              "    </tr>\n",
              "    <tr>\n",
              "      <th>173</th>\n",
              "      <td>data/validation/9/21_0cce64ca-f6e6-4b77-99ec-f...</td>\n",
              "      <td>9</td>\n",
              "      <td>9</td>\n",
              "    </tr>\n",
              "    <tr>\n",
              "      <th>174</th>\n",
              "      <td>data/validation/9/527f32ba-3c4a-4e47-be39-056d...</td>\n",
              "      <td>9</td>\n",
              "      <td>7</td>\n",
              "    </tr>\n",
              "  </tbody>\n",
              "</table>\n",
              "<p>175 rows × 3 columns</p>\n",
              "</div>\n",
              "      <button class=\"colab-df-convert\" onclick=\"convertToInteractive('df-6018ea6c-e204-459a-ace0-575daf6d806b')\"\n",
              "              title=\"Convert this dataframe to an interactive table.\"\n",
              "              style=\"display:none;\">\n",
              "        \n",
              "  <svg xmlns=\"http://www.w3.org/2000/svg\" height=\"24px\"viewBox=\"0 0 24 24\"\n",
              "       width=\"24px\">\n",
              "    <path d=\"M0 0h24v24H0V0z\" fill=\"none\"/>\n",
              "    <path d=\"M18.56 5.44l.94 2.06.94-2.06 2.06-.94-2.06-.94-.94-2.06-.94 2.06-2.06.94zm-11 1L8.5 8.5l.94-2.06 2.06-.94-2.06-.94L8.5 2.5l-.94 2.06-2.06.94zm10 10l.94 2.06.94-2.06 2.06-.94-2.06-.94-.94-2.06-.94 2.06-2.06.94z\"/><path d=\"M17.41 7.96l-1.37-1.37c-.4-.4-.92-.59-1.43-.59-.52 0-1.04.2-1.43.59L10.3 9.45l-7.72 7.72c-.78.78-.78 2.05 0 2.83L4 21.41c.39.39.9.59 1.41.59.51 0 1.02-.2 1.41-.59l7.78-7.78 2.81-2.81c.8-.78.8-2.07 0-2.86zM5.41 20L4 18.59l7.72-7.72 1.47 1.35L5.41 20z\"/>\n",
              "  </svg>\n",
              "      </button>\n",
              "      \n",
              "  <style>\n",
              "    .colab-df-container {\n",
              "      display:flex;\n",
              "      flex-wrap:wrap;\n",
              "      gap: 12px;\n",
              "    }\n",
              "\n",
              "    .colab-df-convert {\n",
              "      background-color: #E8F0FE;\n",
              "      border: none;\n",
              "      border-radius: 50%;\n",
              "      cursor: pointer;\n",
              "      display: none;\n",
              "      fill: #1967D2;\n",
              "      height: 32px;\n",
              "      padding: 0 0 0 0;\n",
              "      width: 32px;\n",
              "    }\n",
              "\n",
              "    .colab-df-convert:hover {\n",
              "      background-color: #E2EBFA;\n",
              "      box-shadow: 0px 1px 2px rgba(60, 64, 67, 0.3), 0px 1px 3px 1px rgba(60, 64, 67, 0.15);\n",
              "      fill: #174EA6;\n",
              "    }\n",
              "\n",
              "    [theme=dark] .colab-df-convert {\n",
              "      background-color: #3B4455;\n",
              "      fill: #D2E3FC;\n",
              "    }\n",
              "\n",
              "    [theme=dark] .colab-df-convert:hover {\n",
              "      background-color: #434B5C;\n",
              "      box-shadow: 0px 1px 3px 1px rgba(0, 0, 0, 0.15);\n",
              "      filter: drop-shadow(0px 1px 2px rgba(0, 0, 0, 0.3));\n",
              "      fill: #FFFFFF;\n",
              "    }\n",
              "  </style>\n",
              "\n",
              "      <script>\n",
              "        const buttonEl =\n",
              "          document.querySelector('#df-6018ea6c-e204-459a-ace0-575daf6d806b button.colab-df-convert');\n",
              "        buttonEl.style.display =\n",
              "          google.colab.kernel.accessAllowed ? 'block' : 'none';\n",
              "\n",
              "        async function convertToInteractive(key) {\n",
              "          const element = document.querySelector('#df-6018ea6c-e204-459a-ace0-575daf6d806b');\n",
              "          const dataTable =\n",
              "            await google.colab.kernel.invokeFunction('convertToInteractive',\n",
              "                                                     [key], {});\n",
              "          if (!dataTable) return;\n",
              "\n",
              "          const docLinkHtml = 'Like what you see? Visit the ' +\n",
              "            '<a target=\"_blank\" href=https://colab.research.google.com/notebooks/data_table.ipynb>data table notebook</a>'\n",
              "            + ' to learn more about interactive tables.';\n",
              "          element.innerHTML = '';\n",
              "          dataTable['output_type'] = 'display_data';\n",
              "          await google.colab.output.renderOutput(dataTable, element);\n",
              "          const docLink = document.createElement('div');\n",
              "          docLink.innerHTML = docLinkHtml;\n",
              "          element.appendChild(docLink);\n",
              "        }\n",
              "      </script>\n",
              "    </div>\n",
              "  </div>\n",
              "  "
            ]
          },
          "metadata": {},
          "execution_count": 43
        }
      ],
      "source": [
        "evaluate(val_df, model)"
      ]
    },
    {
      "cell_type": "code",
      "execution_count": 47,
      "id": "paULDzBOOkFl",
      "metadata": {
        "colab": {
          "base_uri": "https://localhost:8080/",
          "height": 281
        },
        "id": "paULDzBOOkFl",
        "outputId": "64a31bcf-a1eb-4414-d23a-82ba925e9333"
      },
      "outputs": [
        {
          "output_type": "display_data",
          "data": {
            "text/plain": [
              "<Figure size 432x288 with 1 Axes>"
            ],
            "image/png": "[encoded data removed]"
          },
          "metadata": {
            "needs_background": "light"
          }
        }
      ],
      "source": [
        "# Show some random images with their predicted number\n",
        "random_number = random.randint(0, len(val_df))\n",
        "img = Image.open(val_df.iloc[random_number].path)\n",
        "img = transform(img)\n",
        "transformed_img = 1 - img\n",
        "\n",
        "pred = model(transformed_img).argmax(1)\n",
        "plt.title(f\"Predicted class = {pred.numpy()[0]}\")\n",
        "plt.imshow(img.squeeze(0), cmap=\"gray\")\n",
        "plt.show()"
      ]
    },
    {
      "cell_type": "markdown",
      "id": "-F6H4tFLmUCG",
      "metadata": {
        "id": "-F6H4tFLmUCG"
      },
      "source": [
        "## **Train neural netowrk model with more layers**"
      ]
    },
    {
      "cell_type": "code",
      "execution_count": 48,
      "id": "IHMQhUJCg6QU",
      "metadata": {
        "id": "IHMQhUJCg6QU"
      },
      "outputs": [],
      "source": [
        "class ThaiDigitMoreLayers(nn.Module):\n",
        "    def __init__(self):\n",
        "        super(ThaiDigitMoreLayers, self).__init__()\n",
        "        self.layers = nn.Sequential(\n",
        "          \n",
        "          nn.Linear(28*28, 392),\n",
        "          nn.ReLU(),\n",
        "          nn.Linear(392, 196),\n",
        "          nn.ReLU(),\n",
        "          nn.Linear(196, 98),\n",
        "          nn.ReLU(),\n",
        "          nn.Linear(98, 10),\n",
        "        )\n",
        "\n",
        "    def forward(self, x):\n",
        "        x = x.view(-1, 28 * 28)\n",
        "        return self.layers(x)\n",
        "  "
      ]
    },
    {
      "cell_type": "code",
      "execution_count": 49,
      "id": "DzfL2z4tkrYb",
      "metadata": {
        "colab": {
          "base_uri": "https://localhost:8080/"
        },
        "id": "DzfL2z4tkrYb",
        "outputId": "4dc6af96-3034-4ace-db56-3e8bc5c5817d"
      },
      "outputs": [
        {
          "output_type": "stream",
          "name": "stdout",
          "text": [
            "--------------------------------------------------------------------------------\n",
            "Epochs 1   train loss 2.30289 train acc 0.10349 val loss 2.30183 val acc 0.06857\n",
            "--------------------------------------------------------------------------------\n",
            "Epochs 2   train loss 2.30127 train acc 0.10349 val loss 2.30078 val acc 0.06857\n",
            "--------------------------------------------------------------------------------\n",
            "Epochs 3   train loss 2.29937 train acc 0.10349 val loss 2.29966 val acc 0.06857\n",
            "--------------------------------------------------------------------------------\n",
            "Epochs 4   train loss 2.29750 train acc 0.10349 val loss 2.29844 val acc 0.06857\n",
            "--------------------------------------------------------------------------------\n",
            "Epochs 5   train loss 2.29545 train acc 0.10349 val loss 2.29689 val acc 0.06857\n",
            "--------------------------------------------------------------------------------\n",
            "Epochs 6   train loss 2.29316 train acc 0.10476 val loss 2.29525 val acc 0.06857\n",
            "--------------------------------------------------------------------------------\n",
            "Epochs 7   train loss 2.29073 train acc 0.10540 val loss 2.29295 val acc 0.06857\n",
            "--------------------------------------------------------------------------------\n",
            "Epochs 8   train loss 2.28763 train acc 0.11937 val loss 2.29042 val acc 0.08571\n",
            "--------------------------------------------------------------------------------\n",
            "Epochs 9   train loss 2.28421 train acc 0.14476 val loss 2.28703 val acc 0.10286\n",
            "--------------------------------------------------------------------------------\n",
            "Epochs 10  train loss 2.27982 train acc 0.18476 val loss 2.28232 val acc 0.13143\n",
            "--------------------------------------------------------------------------------\n",
            "Epochs 11  train loss 2.27432 train acc 0.23175 val loss 2.27632 val acc 0.13714\n",
            "--------------------------------------------------------------------------------\n",
            "Epochs 12  train loss 2.26705 train acc 0.25143 val loss 2.26831 val acc 0.22286\n",
            "--------------------------------------------------------------------------------\n",
            "Epochs 13  train loss 2.25817 train acc 0.30857 val loss 2.25782 val acc 0.29714\n",
            "--------------------------------------------------------------------------------\n",
            "Epochs 14  train loss 2.24599 train acc 0.32000 val loss 2.24370 val acc 0.30286\n",
            "--------------------------------------------------------------------------------\n",
            "Epochs 15  train loss 2.22868 train acc 0.34984 val loss 2.22439 val acc 0.34286\n",
            "--------------------------------------------------------------------------------\n",
            "Epochs 16  train loss 2.20410 train acc 0.34857 val loss 2.19569 val acc 0.33143\n",
            "--------------------------------------------------------------------------------\n",
            "Epochs 17  train loss 2.16844 train acc 0.36825 val loss 2.15418 val acc 0.33143\n",
            "--------------------------------------------------------------------------------\n",
            "Epochs 18  train loss 2.11886 train acc 0.34603 val loss 2.09944 val acc 0.33143\n",
            "--------------------------------------------------------------------------------\n",
            "Epochs 19  train loss 2.04913 train acc 0.35111 val loss 2.02637 val acc 0.37143\n",
            "--------------------------------------------------------------------------------\n",
            "Epochs 20  train loss 1.95921 train acc 0.37397 val loss 1.93471 val acc 0.35429\n",
            "--------------------------------------------------------------------------------\n",
            "Epochs 21  train loss 1.85688 train acc 0.38540 val loss 1.82845 val acc 0.38286\n",
            "--------------------------------------------------------------------------------\n",
            "Epochs 22  train loss 1.74817 train acc 0.41651 val loss 1.72284 val acc 0.42286\n",
            "--------------------------------------------------------------------------------\n",
            "Epochs 23  train loss 1.63346 train acc 0.47492 val loss 1.60930 val acc 0.48571\n",
            "--------------------------------------------------------------------------------\n",
            "Epochs 24  train loss 1.51889 train acc 0.50667 val loss 1.52173 val acc 0.49143\n",
            "--------------------------------------------------------------------------------\n",
            "Epochs 25  train loss 1.41625 train acc 0.56190 val loss 1.43047 val acc 0.53714\n",
            "--------------------------------------------------------------------------------\n",
            "Epochs 26  train loss 1.33493 train acc 0.56952 val loss 1.38021 val acc 0.49714\n",
            "--------------------------------------------------------------------------------\n",
            "Epochs 27  train loss 1.26900 train acc 0.59302 val loss 1.31869 val acc 0.55429\n",
            "--------------------------------------------------------------------------------\n",
            "Epochs 28  train loss 1.22128 train acc 0.61143 val loss 1.29712 val acc 0.57714\n",
            "--------------------------------------------------------------------------------\n",
            "Epochs 29  train loss 1.18070 train acc 0.63556 val loss 1.26477 val acc 0.63429\n",
            "--------------------------------------------------------------------------------\n",
            "Epochs 30  train loss 1.13695 train acc 0.64063 val loss 1.24600 val acc 0.58857\n",
            "--------------------------------------------------------------------------------\n",
            "Epochs 31  train loss 1.10550 train acc 0.64571 val loss 1.21448 val acc 0.62286\n",
            "--------------------------------------------------------------------------------\n",
            "Epochs 32  train loss 1.07832 train acc 0.66730 val loss 1.22002 val acc 0.61143\n",
            "--------------------------------------------------------------------------------\n",
            "Epochs 33  train loss 1.03970 train acc 0.67302 val loss 1.23449 val acc 0.58857\n",
            "--------------------------------------------------------------------------------\n",
            "Epochs 34  train loss 1.02132 train acc 0.67238 val loss 1.20965 val acc 0.64000\n",
            "--------------------------------------------------------------------------------\n",
            "Epochs 35  train loss 0.99374 train acc 0.69079 val loss 1.23003 val acc 0.61143\n",
            "--------------------------------------------------------------------------------\n",
            "Epochs 36  train loss 0.96308 train acc 0.69143 val loss 1.22111 val acc 0.61714\n",
            "--------------------------------------------------------------------------------\n",
            "Epochs 37  train loss 0.93687 train acc 0.70921 val loss 1.18152 val acc 0.65143\n",
            "--------------------------------------------------------------------------------\n",
            "Epochs 38  train loss 0.91043 train acc 0.70413 val loss 1.17427 val acc 0.66286\n",
            "--------------------------------------------------------------------------------\n",
            "Epochs 39  train loss 0.88145 train acc 0.71302 val loss 1.19781 val acc 0.62857\n",
            "--------------------------------------------------------------------------------\n",
            "Epochs 40  train loss 0.85903 train acc 0.72508 val loss 1.14806 val acc 0.64571\n",
            "--------------------------------------------------------------------------------\n",
            "Epochs 41  train loss 0.83020 train acc 0.73651 val loss 1.18909 val acc 0.61143\n",
            "--------------------------------------------------------------------------------\n",
            "Epochs 42  train loss 0.80786 train acc 0.74349 val loss 1.18178 val acc 0.61143\n",
            "--------------------------------------------------------------------------------\n",
            "Epochs 43  train loss 0.77590 train acc 0.76000 val loss 1.24861 val acc 0.64000\n",
            "--------------------------------------------------------------------------------\n",
            "Epochs 44  train loss 0.74924 train acc 0.75873 val loss 1.17322 val acc 0.61714\n",
            "--------------------------------------------------------------------------------\n",
            "Epochs 45  train loss 0.72923 train acc 0.76317 val loss 1.15994 val acc 0.65143\n",
            "--------------------------------------------------------------------------------\n",
            "Epochs 46  train loss 0.70428 train acc 0.78032 val loss 1.16671 val acc 0.62857\n",
            "--------------------------------------------------------------------------------\n",
            "Epochs 47  train loss 0.67590 train acc 0.78857 val loss 1.14323 val acc 0.65714\n",
            "--------------------------------------------------------------------------------\n",
            "Epochs 48  train loss 0.65173 train acc 0.80127 val loss 1.15151 val acc 0.65714\n",
            "--------------------------------------------------------------------------------\n",
            "Epochs 49  train loss 0.62376 train acc 0.81079 val loss 1.15977 val acc 0.65143\n",
            "--------------------------------------------------------------------------------\n",
            "Epochs 50  train loss 0.60279 train acc 0.82032 val loss 1.15207 val acc 0.64571\n",
            "--------------------------------------------------------------------------------\n"
          ]
        }
      ],
      "source": [
        "n_epochs = 50\n",
        "\n",
        "more_layers_model = ThaiDigitMoreLayers()\n",
        "loss_fn = nn.CrossEntropyLoss()\n",
        "optimizer = torch.optim.SGD(more_layers_model.parameters(), lr=0.01)\n",
        "\n",
        "more_layers_model, more_layers_model_history = train(\n",
        "    more_layers_model, n_epochs, loss_fn, optimizer, train_loader, val_loader\n",
        ")\n"
      ]
    },
    {
      "cell_type": "code",
      "execution_count": 50,
      "id": "bVYRwfYHkluE",
      "metadata": {
        "colab": {
          "base_uri": "https://localhost:8080/",
          "height": 441
        },
        "id": "bVYRwfYHkluE",
        "outputId": "8cb9f18d-f4c8-43e5-ced7-fa74163851c5"
      },
      "outputs": [
        {
          "output_type": "stream",
          "name": "stdout",
          "text": [
            "Accuracy: 64.57%\n"
          ]
        },
        {
          "output_type": "execute_result",
          "data": {
            "text/plain": [
              "                                                  path  text  prediction\n",
              "0    data/validation/8/44_9f2d7454-dd40-4c4a-916e-5...     8           8\n",
              "1    data/validation/8/c17a09d4-a8b0-40be-bcd1-4666...     8           7\n",
              "2    data/validation/8/504cd1fd-14d3-442a-b694-8da9...     8           8\n",
              "3    data/validation/8/8e0e0499-7e9c-42cc-8b1c-8d54...     8           9\n",
              "4    data/validation/8/ce169337-9ad4-423b-b185-eaf5...     8           8\n",
              "..                                                 ...   ...         ...\n",
              "170  data/validation/9/c2361c50-30ed-4420-b7b4-db0b...     9           8\n",
              "171  data/validation/9/96140adf-5a81-4d06-841d-d6db...     9           9\n",
              "172  data/validation/9/b6b40844-50cc-4847-8b83-9961...     9           9\n",
              "173  data/validation/9/21_0cce64ca-f6e6-4b77-99ec-f...     9           9\n",
              "174  data/validation/9/527f32ba-3c4a-4e47-be39-056d...     9           7\n",
              "\n",
              "[175 rows x 3 columns]"
            ],
            "text/html": [
              "\n",
              "  <div id=\"df-f743be17-f602-445a-a962-7ad468e0368d\">\n",
              "    <div class=\"colab-df-container\">\n",
              "      <div>\n",
              "<style scoped>\n",
              "    .dataframe tbody tr th:only-of-type {\n",
              "        vertical-align: middle;\n",
              "    }\n",
              "\n",
              "    .dataframe tbody tr th {\n",
              "        vertical-align: top;\n",
              "    }\n",
              "\n",
              "    .dataframe thead th {\n",
              "        text-align: right;\n",
              "    }\n",
              "</style>\n",
              "<table border=\"1\" class=\"dataframe\">\n",
              "  <thead>\n",
              "    <tr style=\"text-align: right;\">\n",
              "      <th></th>\n",
              "      <th>path</th>\n",
              "      <th>text</th>\n",
              "      <th>prediction</th>\n",
              "    </tr>\n",
              "  </thead>\n",
              "  <tbody>\n",
              "    <tr>\n",
              "      <th>0</th>\n",
              "      <td>data/validation/8/44_9f2d7454-dd40-4c4a-916e-5...</td>\n",
              "      <td>8</td>\n",
              "      <td>8</td>\n",
              "    </tr>\n",
              "    <tr>\n",
              "      <th>1</th>\n",
              "      <td>data/validation/8/c17a09d4-a8b0-40be-bcd1-4666...</td>\n",
              "      <td>8</td>\n",
              "      <td>7</td>\n",
              "    </tr>\n",
              "    <tr>\n",
              "      <th>2</th>\n",
              "      <td>data/validation/8/504cd1fd-14d3-442a-b694-8da9...</td>\n",
              "      <td>8</td>\n",
              "      <td>8</td>\n",
              "    </tr>\n",
              "    <tr>\n",
              "      <th>3</th>\n",
              "      <td>data/validation/8/8e0e0499-7e9c-42cc-8b1c-8d54...</td>\n",
              "      <td>8</td>\n",
              "      <td>9</td>\n",
              "    </tr>\n",
              "    <tr>\n",
              "      <th>4</th>\n",
              "      <td>data/validation/8/ce169337-9ad4-423b-b185-eaf5...</td>\n",
              "      <td>8</td>\n",
              "      <td>8</td>\n",
              "    </tr>\n",
              "    <tr>\n",
              "      <th>...</th>\n",
              "      <td>...</td>\n",
              "      <td>...</td>\n",
              "      <td>...</td>\n",
              "    </tr>\n",
              "    <tr>\n",
              "      <th>170</th>\n",
              "      <td>data/validation/9/c2361c50-30ed-4420-b7b4-db0b...</td>\n",
              "      <td>9</td>\n",
              "      <td>8</td>\n",
              "    </tr>\n",
              "    <tr>\n",
              "      <th>171</th>\n",
              "      <td>data/validation/9/96140adf-5a81-4d06-841d-d6db...</td>\n",
              "      <td>9</td>\n",
              "      <td>9</td>\n",
              "    </tr>\n",
              "    <tr>\n",
              "      <th>172</th>\n",
              "      <td>data/validation/9/b6b40844-50cc-4847-8b83-9961...</td>\n",
              "      <td>9</td>\n",
              "      <td>9</td>\n",
              "    </tr>\n",
              "    <tr>\n",
              "      <th>173</th>\n",
              "      <td>data/validation/9/21_0cce64ca-f6e6-4b77-99ec-f...</td>\n",
              "      <td>9</td>\n",
              "      <td>9</td>\n",
              "    </tr>\n",
              "    <tr>\n",
              "      <th>174</th>\n",
              "      <td>data/validation/9/527f32ba-3c4a-4e47-be39-056d...</td>\n",
              "      <td>9</td>\n",
              "      <td>7</td>\n",
              "    </tr>\n",
              "  </tbody>\n",
              "</table>\n",
              "<p>175 rows × 3 columns</p>\n",
              "</div>\n",
              "      <button class=\"colab-df-convert\" onclick=\"convertToInteractive('df-f743be17-f602-445a-a962-7ad468e0368d')\"\n",
              "              title=\"Convert this dataframe to an interactive table.\"\n",
              "              style=\"display:none;\">\n",
              "        \n",
              "  <svg xmlns=\"http://www.w3.org/2000/svg\" height=\"24px\"viewBox=\"0 0 24 24\"\n",
              "       width=\"24px\">\n",
              "    <path d=\"M0 0h24v24H0V0z\" fill=\"none\"/>\n",
              "    <path d=\"M18.56 5.44l.94 2.06.94-2.06 2.06-.94-2.06-.94-.94-2.06-.94 2.06-2.06.94zm-11 1L8.5 8.5l.94-2.06 2.06-.94-2.06-.94L8.5 2.5l-.94 2.06-2.06.94zm10 10l.94 2.06.94-2.06 2.06-.94-2.06-.94-.94-2.06-.94 2.06-2.06.94z\"/><path d=\"M17.41 7.96l-1.37-1.37c-.4-.4-.92-.59-1.43-.59-.52 0-1.04.2-1.43.59L10.3 9.45l-7.72 7.72c-.78.78-.78 2.05 0 2.83L4 21.41c.39.39.9.59 1.41.59.51 0 1.02-.2 1.41-.59l7.78-7.78 2.81-2.81c.8-.78.8-2.07 0-2.86zM5.41 20L4 18.59l7.72-7.72 1.47 1.35L5.41 20z\"/>\n",
              "  </svg>\n",
              "      </button>\n",
              "      \n",
              "  <style>\n",
              "    .colab-df-container {\n",
              "      display:flex;\n",
              "      flex-wrap:wrap;\n",
              "      gap: 12px;\n",
              "    }\n",
              "\n",
              "    .colab-df-convert {\n",
              "      background-color: #E8F0FE;\n",
              "      border: none;\n",
              "      border-radius: 50%;\n",
              "      cursor: pointer;\n",
              "      display: none;\n",
              "      fill: #1967D2;\n",
              "      height: 32px;\n",
              "      padding: 0 0 0 0;\n",
              "      width: 32px;\n",
              "    }\n",
              "\n",
              "    .colab-df-convert:hover {\n",
              "      background-color: #E2EBFA;\n",
              "      box-shadow: 0px 1px 2px rgba(60, 64, 67, 0.3), 0px 1px 3px 1px rgba(60, 64, 67, 0.15);\n",
              "      fill: #174EA6;\n",
              "    }\n",
              "\n",
              "    [theme=dark] .colab-df-convert {\n",
              "      background-color: #3B4455;\n",
              "      fill: #D2E3FC;\n",
              "    }\n",
              "\n",
              "    [theme=dark] .colab-df-convert:hover {\n",
              "      background-color: #434B5C;\n",
              "      box-shadow: 0px 1px 3px 1px rgba(0, 0, 0, 0.15);\n",
              "      filter: drop-shadow(0px 1px 2px rgba(0, 0, 0, 0.3));\n",
              "      fill: #FFFFFF;\n",
              "    }\n",
              "  </style>\n",
              "\n",
              "      <script>\n",
              "        const buttonEl =\n",
              "          document.querySelector('#df-f743be17-f602-445a-a962-7ad468e0368d button.colab-df-convert');\n",
              "        buttonEl.style.display =\n",
              "          google.colab.kernel.accessAllowed ? 'block' : 'none';\n",
              "\n",
              "        async function convertToInteractive(key) {\n",
              "          const element = document.querySelector('#df-f743be17-f602-445a-a962-7ad468e0368d');\n",
              "          const dataTable =\n",
              "            await google.colab.kernel.invokeFunction('convertToInteractive',\n",
              "                                                     [key], {});\n",
              "          if (!dataTable) return;\n",
              "\n",
              "          const docLinkHtml = 'Like what you see? Visit the ' +\n",
              "            '<a target=\"_blank\" href=https://colab.research.google.com/notebooks/data_table.ipynb>data table notebook</a>'\n",
              "            + ' to learn more about interactive tables.';\n",
              "          element.innerHTML = '';\n",
              "          dataTable['output_type'] = 'display_data';\n",
              "          await google.colab.output.renderOutput(dataTable, element);\n",
              "          const docLink = document.createElement('div');\n",
              "          docLink.innerHTML = docLinkHtml;\n",
              "          element.appendChild(docLink);\n",
              "        }\n",
              "      </script>\n",
              "    </div>\n",
              "  </div>\n",
              "  "
            ]
          },
          "metadata": {},
          "execution_count": 50
        }
      ],
      "source": [
        "evaluate(val_df, more_layers_model)"
      ]
    },
    {
      "cell_type": "markdown",
      "id": "D1TvQxG_mZSs",
      "metadata": {
        "id": "D1TvQxG_mZSs"
      },
      "source": [
        "## **Error analysis**"
      ]
    },
    {
      "cell_type": "code",
      "execution_count": 51,
      "id": "msBnIuLAmeAM",
      "metadata": {
        "colab": {
          "base_uri": "https://localhost:8080/",
          "height": 281
        },
        "id": "msBnIuLAmeAM",
        "outputId": "5e241dbf-6381-4a8b-e237-fd6661f0ef93"
      },
      "outputs": [
        {
          "output_type": "display_data",
          "data": {
            "text/plain": [
              "<Figure size 432x288 with 1 Axes>"
            ],
            "image/png": "[encoded data removed]"
          },
          "metadata": {
            "needs_background": "light"
          }
        }
      ],
      "source": [
        "# Plot the training accuracy and validation accuracy\n",
        "plt.plot(net_history[\"train_acc\"], label=\"Train\")\n",
        "plt.plot(net_history[\"val_acc\"], label=\"Validation\")\n",
        "plt.legend()\n",
        "plt.title(\"Train accuracy vs Validation accuracy\")\n",
        "plt.show()"
      ]
    },
    {
      "cell_type": "code",
      "execution_count": 52,
      "id": "iBmb3HOYxwoP",
      "metadata": {
        "colab": {
          "base_uri": "https://localhost:8080/",
          "height": 281
        },
        "id": "iBmb3HOYxwoP",
        "outputId": "e87a5a01-4631-4611-e4a3-4dc61f8ab4de"
      },
      "outputs": [
        {
          "output_type": "display_data",
          "data": {
            "text/plain": [
              "<Figure size 432x288 with 1 Axes>"
            ],
            "image/png": "[encoded data removed]"
          },
          "metadata": {
            "needs_background": "light"
          }
        }
      ],
      "source": [
        "# Plot the training loss and validation loss\n",
        "plt.plot(net_history[\"train_loss\"], label=\"Train\")\n",
        "plt.plot(net_history[\"val_loss\"], label=\"Validation\")\n",
        "plt.legend()\n",
        "plt.title(\"Train loss vs Validation loss\")\n",
        "plt.show()"
      ]
    },
    {
      "cell_type": "markdown",
      "id": "43ccb6fc",
      "metadata": {
        "id": "43ccb6fc"
      },
      "source": [
        "The training accuracy of the model is higher than the validation accuracy.\n",
        "This means that the model is overfitting the training data.\n",
        "We can try to reduce the overfitting by adding regularization ."
      ]
    },
    {
      "cell_type": "markdown",
      "id": "65fb58d7",
      "metadata": {
        "id": "65fb58d7"
      },
      "source": [
        "## **Regularization with Dropout**\n",
        "\n",
        "Dropout is one of the techniques used to prevent overfitting"
      ]
    },
    {
      "cell_type": "code",
      "execution_count": 53,
      "id": "a8e819c7",
      "metadata": {
        "id": "a8e819c7"
      },
      "outputs": [],
      "source": [
        "class DropoutThaiDigit(nn.Module):\n",
        "    def __init__(self):\n",
        "        super(DropoutThaiDigit, self).__init__()\n",
        "        self.fc1 = nn.Linear(28 * 28, 100)\n",
        "        self.fc2 = nn.Linear(100, 10)\n",
        "        self.dropout = nn.Dropout(0.25)\n",
        "\n",
        "    def forward(self, x):\n",
        "        x = x.view(-1, 28 * 28)\n",
        "        x = self.fc1(x)\n",
        "        x = F.relu(x)\n",
        "        x = self.dropout(x)\n",
        "        x = self.fc2(x)\n",
        "        return x"
      ]
    },
    {
      "cell_type": "code",
      "execution_count": 54,
      "id": "a832fd9d",
      "metadata": {
        "colab": {
          "base_uri": "https://localhost:8080/"
        },
        "id": "a832fd9d",
        "outputId": "351d9764-5a93-48f7-f07b-29d9801b1772"
      },
      "outputs": [
        {
          "output_type": "stream",
          "name": "stdout",
          "text": [
            "--------------------------------------------------------------------------------\n",
            "Epochs 1   train loss 2.28919 train acc 0.13079 val loss 2.27467 val acc 0.09714\n",
            "--------------------------------------------------------------------------------\n",
            "Epochs 2   train loss 2.25014 train acc 0.19492 val loss 2.24086 val acc 0.20571\n",
            "--------------------------------------------------------------------------------\n",
            "Epochs 3   train loss 2.20461 train acc 0.24635 val loss 2.19470 val acc 0.25714\n",
            "--------------------------------------------------------------------------------\n",
            "Epochs 4   train loss 2.15059 train acc 0.31048 val loss 2.13339 val acc 0.32571\n",
            "--------------------------------------------------------------------------------\n",
            "Epochs 5   train loss 2.08323 train acc 0.35492 val loss 2.05854 val acc 0.42286\n",
            "--------------------------------------------------------------------------------\n",
            "Epochs 6   train loss 2.00653 train acc 0.40698 val loss 1.97237 val acc 0.46857\n",
            "--------------------------------------------------------------------------------\n",
            "Epochs 7   train loss 1.91565 train acc 0.46921 val loss 1.88025 val acc 0.52000\n",
            "--------------------------------------------------------------------------------\n",
            "Epochs 8   train loss 1.82146 train acc 0.48000 val loss 1.79145 val acc 0.52000\n",
            "--------------------------------------------------------------------------------\n",
            "Epochs 9   train loss 1.74098 train acc 0.50857 val loss 1.70699 val acc 0.55429\n",
            "--------------------------------------------------------------------------------\n",
            "Epochs 10  train loss 1.65312 train acc 0.52952 val loss 1.62792 val acc 0.57714\n",
            "--------------------------------------------------------------------------------\n",
            "Epochs 11  train loss 1.56835 train acc 0.55111 val loss 1.56338 val acc 0.56571\n",
            "--------------------------------------------------------------------------------\n",
            "Epochs 12  train loss 1.51244 train acc 0.57841 val loss 1.50496 val acc 0.57714\n",
            "--------------------------------------------------------------------------------\n",
            "Epochs 13  train loss 1.45132 train acc 0.57905 val loss 1.46336 val acc 0.58286\n",
            "--------------------------------------------------------------------------------\n",
            "Epochs 14  train loss 1.40074 train acc 0.58984 val loss 1.41705 val acc 0.59429\n",
            "--------------------------------------------------------------------------------\n",
            "Epochs 15  train loss 1.36548 train acc 0.58984 val loss 1.38814 val acc 0.58286\n",
            "--------------------------------------------------------------------------------\n",
            "Epochs 16  train loss 1.32295 train acc 0.62032 val loss 1.35850 val acc 0.58857\n",
            "--------------------------------------------------------------------------------\n",
            "Epochs 17  train loss 1.28713 train acc 0.62349 val loss 1.33015 val acc 0.60000\n",
            "--------------------------------------------------------------------------------\n",
            "Epochs 18  train loss 1.25675 train acc 0.64127 val loss 1.30881 val acc 0.60000\n",
            "--------------------------------------------------------------------------------\n",
            "Epochs 19  train loss 1.23033 train acc 0.63619 val loss 1.30410 val acc 0.58857\n",
            "--------------------------------------------------------------------------------\n",
            "Epochs 20  train loss 1.19565 train acc 0.64571 val loss 1.28163 val acc 0.59429\n",
            "--------------------------------------------------------------------------------\n",
            "Epochs 21  train loss 1.18014 train acc 0.64063 val loss 1.27809 val acc 0.58286\n",
            "--------------------------------------------------------------------------------\n",
            "Epochs 22  train loss 1.15335 train acc 0.66349 val loss 1.26760 val acc 0.60571\n",
            "--------------------------------------------------------------------------------\n",
            "Epochs 23  train loss 1.14210 train acc 0.65905 val loss 1.25516 val acc 0.58857\n",
            "--------------------------------------------------------------------------------\n",
            "Epochs 24  train loss 1.12899 train acc 0.65460 val loss 1.25426 val acc 0.60000\n",
            "--------------------------------------------------------------------------------\n",
            "Epochs 25  train loss 1.09330 train acc 0.68127 val loss 1.25094 val acc 0.62286\n",
            "--------------------------------------------------------------------------------\n",
            "Epochs 26  train loss 1.08956 train acc 0.67429 val loss 1.23823 val acc 0.62286\n",
            "--------------------------------------------------------------------------------\n",
            "Epochs 27  train loss 1.05938 train acc 0.66921 val loss 1.22910 val acc 0.60000\n",
            "--------------------------------------------------------------------------------\n",
            "Epochs 28  train loss 1.05706 train acc 0.67810 val loss 1.22645 val acc 0.61714\n",
            "--------------------------------------------------------------------------------\n",
            "Epochs 29  train loss 1.02991 train acc 0.69079 val loss 1.22634 val acc 0.62286\n",
            "--------------------------------------------------------------------------------\n",
            "Epochs 30  train loss 1.02516 train acc 0.68952 val loss 1.21877 val acc 0.61143\n",
            "--------------------------------------------------------------------------------\n",
            "Epochs 31  train loss 1.00898 train acc 0.68381 val loss 1.22062 val acc 0.61714\n",
            "--------------------------------------------------------------------------------\n",
            "Epochs 32  train loss 0.98154 train acc 0.70667 val loss 1.21225 val acc 0.62286\n",
            "--------------------------------------------------------------------------------\n",
            "Epochs 33  train loss 0.98973 train acc 0.70349 val loss 1.20851 val acc 0.62286\n",
            "--------------------------------------------------------------------------------\n",
            "Epochs 34  train loss 0.96442 train acc 0.71238 val loss 1.21085 val acc 0.63429\n",
            "--------------------------------------------------------------------------------\n",
            "Epochs 35  train loss 0.95326 train acc 0.71111 val loss 1.20270 val acc 0.62857\n",
            "--------------------------------------------------------------------------------\n",
            "Epochs 36  train loss 0.93392 train acc 0.72190 val loss 1.19980 val acc 0.62857\n",
            "--------------------------------------------------------------------------------\n",
            "Epochs 37  train loss 0.94181 train acc 0.71111 val loss 1.19904 val acc 0.60571\n",
            "--------------------------------------------------------------------------------\n",
            "Epochs 38  train loss 0.93296 train acc 0.71238 val loss 1.19551 val acc 0.60000\n",
            "--------------------------------------------------------------------------------\n",
            "Epochs 39  train loss 0.92369 train acc 0.72444 val loss 1.20648 val acc 0.62286\n",
            "--------------------------------------------------------------------------------\n",
            "Epochs 40  train loss 0.89526 train acc 0.73079 val loss 1.19416 val acc 0.62286\n",
            "--------------------------------------------------------------------------------\n",
            "Epochs 41  train loss 0.89686 train acc 0.72000 val loss 1.18957 val acc 0.61714\n",
            "--------------------------------------------------------------------------------\n",
            "Epochs 42  train loss 0.87222 train acc 0.73206 val loss 1.19272 val acc 0.60000\n",
            "--------------------------------------------------------------------------------\n",
            "Epochs 43  train loss 0.86262 train acc 0.73333 val loss 1.18775 val acc 0.60571\n",
            "--------------------------------------------------------------------------------\n",
            "Epochs 44  train loss 0.86046 train acc 0.74222 val loss 1.18878 val acc 0.60000\n",
            "--------------------------------------------------------------------------------\n",
            "Epochs 45  train loss 0.85606 train acc 0.74603 val loss 1.18334 val acc 0.61714\n",
            "--------------------------------------------------------------------------------\n",
            "Epochs 46  train loss 0.84351 train acc 0.75111 val loss 1.18817 val acc 0.61143\n",
            "--------------------------------------------------------------------------------\n",
            "Epochs 47  train loss 0.81675 train acc 0.75429 val loss 1.18535 val acc 0.61143\n",
            "--------------------------------------------------------------------------------\n",
            "Epochs 48  train loss 0.82559 train acc 0.76190 val loss 1.18355 val acc 0.60000\n",
            "--------------------------------------------------------------------------------\n",
            "Epochs 49  train loss 0.80232 train acc 0.75302 val loss 1.18361 val acc 0.61714\n",
            "--------------------------------------------------------------------------------\n",
            "Epochs 50  train loss 0.81526 train acc 0.75048 val loss 1.17914 val acc 0.61714\n",
            "--------------------------------------------------------------------------------\n"
          ]
        }
      ],
      "source": [
        "n_epochs = 50\n",
        "drop_model = DropoutThaiDigit()  # Initialize a model\n",
        "loss_fn = nn.CrossEntropyLoss()\n",
        "optimizer = torch.optim.SGD(drop_model.parameters(), lr=0.01)\n",
        "\n",
        "drop_model, drop_model_history = train(drop_model, n_epochs, loss_fn, optimizer, train_loader, val_loader)"
      ]
    },
    {
      "cell_type": "code",
      "execution_count": 55,
      "id": "fa154266",
      "metadata": {
        "colab": {
          "base_uri": "https://localhost:8080/",
          "height": 441
        },
        "id": "fa154266",
        "outputId": "7c8a2af0-3082-4229-a73b-b06b27c1c65b"
      },
      "outputs": [
        {
          "output_type": "stream",
          "name": "stdout",
          "text": [
            "Accuracy: 61.71%\n"
          ]
        },
        {
          "output_type": "execute_result",
          "data": {
            "text/plain": [
              "                                                  path  text  prediction\n",
              "0    data/validation/8/44_9f2d7454-dd40-4c4a-916e-5...     8           8\n",
              "1    data/validation/8/c17a09d4-a8b0-40be-bcd1-4666...     8           7\n",
              "2    data/validation/8/504cd1fd-14d3-442a-b694-8da9...     8           8\n",
              "3    data/validation/8/8e0e0499-7e9c-42cc-8b1c-8d54...     8           9\n",
              "4    data/validation/8/ce169337-9ad4-423b-b185-eaf5...     8           8\n",
              "..                                                 ...   ...         ...\n",
              "170  data/validation/9/c2361c50-30ed-4420-b7b4-db0b...     9           4\n",
              "171  data/validation/9/96140adf-5a81-4d06-841d-d6db...     9           1\n",
              "172  data/validation/9/b6b40844-50cc-4847-8b83-9961...     9           9\n",
              "173  data/validation/9/21_0cce64ca-f6e6-4b77-99ec-f...     9           9\n",
              "174  data/validation/9/527f32ba-3c4a-4e47-be39-056d...     9           7\n",
              "\n",
              "[175 rows x 3 columns]"
            ],
            "text/html": [
              "\n",
              "  <div id=\"df-dde1a4a2-31f8-4e2b-afe8-12ea28208464\">\n",
              "    <div class=\"colab-df-container\">\n",
              "      <div>\n",
              "<style scoped>\n",
              "    .dataframe tbody tr th:only-of-type {\n",
              "        vertical-align: middle;\n",
              "    }\n",
              "\n",
              "    .dataframe tbody tr th {\n",
              "        vertical-align: top;\n",
              "    }\n",
              "\n",
              "    .dataframe thead th {\n",
              "        text-align: right;\n",
              "    }\n",
              "</style>\n",
              "<table border=\"1\" class=\"dataframe\">\n",
              "  <thead>\n",
              "    <tr style=\"text-align: right;\">\n",
              "      <th></th>\n",
              "      <th>path</th>\n",
              "      <th>text</th>\n",
              "      <th>prediction</th>\n",
              "    </tr>\n",
              "  </thead>\n",
              "  <tbody>\n",
              "    <tr>\n",
              "      <th>0</th>\n",
              "      <td>data/validation/8/44_9f2d7454-dd40-4c4a-916e-5...</td>\n",
              "      <td>8</td>\n",
              "      <td>8</td>\n",
              "    </tr>\n",
              "    <tr>\n",
              "      <th>1</th>\n",
              "      <td>data/validation/8/c17a09d4-a8b0-40be-bcd1-4666...</td>\n",
              "      <td>8</td>\n",
              "      <td>7</td>\n",
              "    </tr>\n",
              "    <tr>\n",
              "      <th>2</th>\n",
              "      <td>data/validation/8/504cd1fd-14d3-442a-b694-8da9...</td>\n",
              "      <td>8</td>\n",
              "      <td>8</td>\n",
              "    </tr>\n",
              "    <tr>\n",
              "      <th>3</th>\n",
              "      <td>data/validation/8/8e0e0499-7e9c-42cc-8b1c-8d54...</td>\n",
              "      <td>8</td>\n",
              "      <td>9</td>\n",
              "    </tr>\n",
              "    <tr>\n",
              "      <th>4</th>\n",
              "      <td>data/validation/8/ce169337-9ad4-423b-b185-eaf5...</td>\n",
              "      <td>8</td>\n",
              "      <td>8</td>\n",
              "    </tr>\n",
              "    <tr>\n",
              "      <th>...</th>\n",
              "      <td>...</td>\n",
              "      <td>...</td>\n",
              "      <td>...</td>\n",
              "    </tr>\n",
              "    <tr>\n",
              "      <th>170</th>\n",
              "      <td>data/validation/9/c2361c50-30ed-4420-b7b4-db0b...</td>\n",
              "      <td>9</td>\n",
              "      <td>4</td>\n",
              "    </tr>\n",
              "    <tr>\n",
              "      <th>171</th>\n",
              "      <td>data/validation/9/96140adf-5a81-4d06-841d-d6db...</td>\n",
              "      <td>9</td>\n",
              "      <td>1</td>\n",
              "    </tr>\n",
              "    <tr>\n",
              "      <th>172</th>\n",
              "      <td>data/validation/9/b6b40844-50cc-4847-8b83-9961...</td>\n",
              "      <td>9</td>\n",
              "      <td>9</td>\n",
              "    </tr>\n",
              "    <tr>\n",
              "      <th>173</th>\n",
              "      <td>data/validation/9/21_0cce64ca-f6e6-4b77-99ec-f...</td>\n",
              "      <td>9</td>\n",
              "      <td>9</td>\n",
              "    </tr>\n",
              "    <tr>\n",
              "      <th>174</th>\n",
              "      <td>data/validation/9/527f32ba-3c4a-4e47-be39-056d...</td>\n",
              "      <td>9</td>\n",
              "      <td>7</td>\n",
              "    </tr>\n",
              "  </tbody>\n",
              "</table>\n",
              "<p>175 rows × 3 columns</p>\n",
              "</div>\n",
              "      <button class=\"colab-df-convert\" onclick=\"convertToInteractive('df-dde1a4a2-31f8-4e2b-afe8-12ea28208464')\"\n",
              "              title=\"Convert this dataframe to an interactive table.\"\n",
              "              style=\"display:none;\">\n",
              "        \n",
              "  <svg xmlns=\"http://www.w3.org/2000/svg\" height=\"24px\"viewBox=\"0 0 24 24\"\n",
              "       width=\"24px\">\n",
              "    <path d=\"M0 0h24v24H0V0z\" fill=\"none\"/>\n",
              "    <path d=\"M18.56 5.44l.94 2.06.94-2.06 2.06-.94-2.06-.94-.94-2.06-.94 2.06-2.06.94zm-11 1L8.5 8.5l.94-2.06 2.06-.94-2.06-.94L8.5 2.5l-.94 2.06-2.06.94zm10 10l.94 2.06.94-2.06 2.06-.94-2.06-.94-.94-2.06-.94 2.06-2.06.94z\"/><path d=\"M17.41 7.96l-1.37-1.37c-.4-.4-.92-.59-1.43-.59-.52 0-1.04.2-1.43.59L10.3 9.45l-7.72 7.72c-.78.78-.78 2.05 0 2.83L4 21.41c.39.39.9.59 1.41.59.51 0 1.02-.2 1.41-.59l7.78-7.78 2.81-2.81c.8-.78.8-2.07 0-2.86zM5.41 20L4 18.59l7.72-7.72 1.47 1.35L5.41 20z\"/>\n",
              "  </svg>\n",
              "      </button>\n",
              "      \n",
              "  <style>\n",
              "    .colab-df-container {\n",
              "      display:flex;\n",
              "      flex-wrap:wrap;\n",
              "      gap: 12px;\n",
              "    }\n",
              "\n",
              "    .colab-df-convert {\n",
              "      background-color: #E8F0FE;\n",
              "      border: none;\n",
              "      border-radius: 50%;\n",
              "      cursor: pointer;\n",
              "      display: none;\n",
              "      fill: #1967D2;\n",
              "      height: 32px;\n",
              "      padding: 0 0 0 0;\n",
              "      width: 32px;\n",
              "    }\n",
              "\n",
              "    .colab-df-convert:hover {\n",
              "      background-color: #E2EBFA;\n",
              "      box-shadow: 0px 1px 2px rgba(60, 64, 67, 0.3), 0px 1px 3px 1px rgba(60, 64, 67, 0.15);\n",
              "      fill: #174EA6;\n",
              "    }\n",
              "\n",
              "    [theme=dark] .colab-df-convert {\n",
              "      background-color: #3B4455;\n",
              "      fill: #D2E3FC;\n",
              "    }\n",
              "\n",
              "    [theme=dark] .colab-df-convert:hover {\n",
              "      background-color: #434B5C;\n",
              "      box-shadow: 0px 1px 3px 1px rgba(0, 0, 0, 0.15);\n",
              "      filter: drop-shadow(0px 1px 2px rgba(0, 0, 0, 0.3));\n",
              "      fill: #FFFFFF;\n",
              "    }\n",
              "  </style>\n",
              "\n",
              "      <script>\n",
              "        const buttonEl =\n",
              "          document.querySelector('#df-dde1a4a2-31f8-4e2b-afe8-12ea28208464 button.colab-df-convert');\n",
              "        buttonEl.style.display =\n",
              "          google.colab.kernel.accessAllowed ? 'block' : 'none';\n",
              "\n",
              "        async function convertToInteractive(key) {\n",
              "          const element = document.querySelector('#df-dde1a4a2-31f8-4e2b-afe8-12ea28208464');\n",
              "          const dataTable =\n",
              "            await google.colab.kernel.invokeFunction('convertToInteractive',\n",
              "                                                     [key], {});\n",
              "          if (!dataTable) return;\n",
              "\n",
              "          const docLinkHtml = 'Like what you see? Visit the ' +\n",
              "            '<a target=\"_blank\" href=https://colab.research.google.com/notebooks/data_table.ipynb>data table notebook</a>'\n",
              "            + ' to learn more about interactive tables.';\n",
              "          element.innerHTML = '';\n",
              "          dataTable['output_type'] = 'display_data';\n",
              "          await google.colab.output.renderOutput(dataTable, element);\n",
              "          const docLink = document.createElement('div');\n",
              "          docLink.innerHTML = docLinkHtml;\n",
              "          element.appendChild(docLink);\n",
              "        }\n",
              "      </script>\n",
              "    </div>\n",
              "  </div>\n",
              "  "
            ]
          },
          "metadata": {},
          "execution_count": 55
        }
      ],
      "source": [
        "evaluate(val_df, drop_model)"
      ]
    },
    {
      "cell_type": "code",
      "execution_count": 56,
      "id": "kD2hDwhPzV9m",
      "metadata": {
        "colab": {
          "base_uri": "https://localhost:8080/",
          "height": 281
        },
        "id": "kD2hDwhPzV9m",
        "outputId": "9079e432-1441-4e02-b116-77d03da58668"
      },
      "outputs": [
        {
          "output_type": "display_data",
          "data": {
            "text/plain": [
              "<Figure size 432x288 with 1 Axes>"
            ],
            "image/png": "[encoded data removed]"
          },
          "metadata": {
            "needs_background": "light"
          }
        }
      ],
      "source": [
        "# Plot the training accuracy and validation accuracy\n",
        "plt.plot(drop_model_history[\"train_acc\"], label=\"Train\")\n",
        "plt.plot(drop_model_history[\"val_acc\"], label=\"Validation\")\n",
        "plt.legend()\n",
        "plt.title(\"Train accuracy vs Validation accuracy\")\n",
        "plt.show()"
      ]
    },
    {
      "cell_type": "code",
      "execution_count": 57,
      "id": "tl09bEbwzWv9",
      "metadata": {
        "colab": {
          "base_uri": "https://localhost:8080/",
          "height": 281
        },
        "id": "tl09bEbwzWv9",
        "outputId": "1965a9a7-706c-455a-e921-51c217fe7fb9"
      },
      "outputs": [
        {
          "output_type": "display_data",
          "data": {
            "text/plain": [
              "<Figure size 432x288 with 1 Axes>"
            ],
            "image/png": "[encoded data removed]"
          },
          "metadata": {
            "needs_background": "light"
          }
        }
      ],
      "source": [
        "# Plot the training loss and validation loss\n",
        "plt.plot(drop_model_history[\"train_loss\"], label=\"Train\")\n",
        "plt.plot(drop_model_history[\"val_loss\"], label=\"Validation\")\n",
        "plt.legend()\n",
        "plt.title(\"Train loss vs Validation loss\")\n",
        "plt.show()"
      ]
    },
    {
      "cell_type": "markdown",
      "id": "b611d20b",
      "metadata": {
        "id": "b611d20b"
      },
      "source": [
        "Now the gap between the training accuracy and validation accuracy is smaller than before."
      ]
    },
    {
      "cell_type": "markdown",
      "id": "_R305_c-sBGn",
      "metadata": {
        "id": "_R305_c-sBGn"
      },
      "source": [
        "## **Image Augmentation**\n",
        "\n",
        "Image augmentation is a technique used to artificially increase the size of a training dataset by creating modified versions of existing images."
      ]
    },
    {
      "cell_type": "code",
      "execution_count": 102,
      "id": "XS14ZI0b_Wla",
      "metadata": {
        "id": "XS14ZI0b_Wla"
      },
      "outputs": [],
      "source": [
        "# augment_transform is same as transform but add RandomAffine to the image\n",
        "\n",
        "train_transform = transforms.Compose([\n",
        "    transforms.Resize((28, 28)),\n",
        "    transforms.Grayscale(),\n",
        "    transforms.RandomAffine(degrees=(15, 30), translate=(0.05, 0.1), scale=(1, 1)),\n",
        "    transforms.ToTensor(),\n",
        "])\n",
        "\n",
        "val_transform = transforms.Compose([\n",
        "    transforms.Resize((28, 28)),\n",
        "    transforms.Grayscale(),\n",
        "    transforms.ToTensor(),\n",
        "])"
      ]
    },
    {
      "cell_type": "code",
      "execution_count": 107,
      "id": "d52dee8c",
      "metadata": {
        "id": "d52dee8c"
      },
      "outputs": [],
      "source": [
        "example_augment_data = ThaiDigitDataset(train_df, transform=train_transform)\n",
        "example_dataloader = DataLoader(example_augment_data, batch_size=16, shuffle=True)"
      ]
    },
    {
      "cell_type": "code",
      "execution_count": 134,
      "id": "663cd6b7",
      "metadata": {
        "colab": {
          "base_uri": "https://localhost:8080/",
          "height": 265
        },
        "id": "663cd6b7",
        "outputId": "4444bc07-40dc-48fb-9341-f7276111d874"
      },
      "outputs": [
        {
          "output_type": "display_data",
          "data": {
            "text/plain": [
              "<Figure size 432x288 with 1 Axes>"
            ],
            "image/png": "[encoded data removed]"
          },
          "metadata": {
            "needs_background": "light"
          }
        }
      ],
      "source": [
        "# Example of augmented image\n",
        "img = (next(iter(example_dataloader))[0][1])\n",
        "transformed_img = 1 - img\n",
        "\n",
        "plt.imshow(transformed_img.squeeze(0), cmap=\"gray\")\n",
        "plt.show()"
      ]
    },
    {
      "cell_type": "code",
      "source": [
        "augmented_train_dataset = ThaiDigitDataset(train_df, transform=train_transform)\n",
        "val_dataset = ThaiDigitDataset(val_df, transform=val_transform)"
      ],
      "metadata": {
        "id": "qtpgbABlefBj"
      },
      "id": "qtpgbABlefBj",
      "execution_count": 126,
      "outputs": []
    },
    {
      "cell_type": "code",
      "source": [
        "train_dataset = ConcatDataset([train_thaidigit_dataset, augmented_train_dataset])"
      ],
      "metadata": {
        "id": "ybMkR3hoevDS"
      },
      "id": "ybMkR3hoevDS",
      "execution_count": 127,
      "outputs": []
    },
    {
      "cell_type": "code",
      "source": [
        "train_dataloader = DataLoader(train_dataset, batch_size=16, shuffle=True)\n",
        "val_dataloader = DataLoader(val_dataset, batch_size=16, shuffle=False)"
      ],
      "metadata": {
        "id": "DWmjYCRmfOfH"
      },
      "id": "DWmjYCRmfOfH",
      "execution_count": 128,
      "outputs": []
    },
    {
      "cell_type": "code",
      "execution_count": 135,
      "id": "acc729d5",
      "metadata": {
        "colab": {
          "base_uri": "https://localhost:8080/"
        },
        "id": "acc729d5",
        "outputId": "f90813ce-672d-4ead-a35b-c4423cfea0f0"
      },
      "outputs": [
        {
          "output_type": "stream",
          "name": "stdout",
          "text": [
            "--------------------------------------------------------------------------------\n",
            "Epochs 1   train loss 2.28667 train acc 0.13460 val loss 2.24654 val acc 0.26286\n",
            "--------------------------------------------------------------------------------\n",
            "Epochs 2   train loss 2.23130 train acc 0.21619 val loss 2.17375 val acc 0.31429\n",
            "--------------------------------------------------------------------------------\n",
            "Epochs 3   train loss 2.14558 train acc 0.29492 val loss 2.06870 val acc 0.39429\n",
            "--------------------------------------------------------------------------------\n",
            "Epochs 4   train loss 2.04261 train acc 0.35175 val loss 1.93413 val acc 0.41714\n",
            "--------------------------------------------------------------------------------\n",
            "Epochs 5   train loss 1.91392 train acc 0.40317 val loss 1.79244 val acc 0.44571\n",
            "--------------------------------------------------------------------------------\n",
            "Epochs 6   train loss 1.80532 train acc 0.42667 val loss 1.67800 val acc 0.46857\n",
            "--------------------------------------------------------------------------------\n",
            "Epochs 7   train loss 1.70829 train acc 0.45111 val loss 1.58066 val acc 0.51429\n",
            "--------------------------------------------------------------------------------\n",
            "Epochs 8   train loss 1.64000 train acc 0.47714 val loss 1.51693 val acc 0.52000\n",
            "--------------------------------------------------------------------------------\n",
            "Epochs 9   train loss 1.58825 train acc 0.48381 val loss 1.47263 val acc 0.53714\n",
            "--------------------------------------------------------------------------------\n",
            "Epochs 10  train loss 1.54315 train acc 0.50603 val loss 1.42816 val acc 0.59429\n",
            "--------------------------------------------------------------------------------\n",
            "Epochs 11  train loss 1.50098 train acc 0.53143 val loss 1.40583 val acc 0.58857\n",
            "--------------------------------------------------------------------------------\n",
            "Epochs 12  train loss 1.46388 train acc 0.53365 val loss 1.37961 val acc 0.59429\n",
            "--------------------------------------------------------------------------------\n",
            "Epochs 13  train loss 1.44833 train acc 0.53524 val loss 1.35508 val acc 0.60000\n",
            "--------------------------------------------------------------------------------\n",
            "Epochs 14  train loss 1.41724 train acc 0.53968 val loss 1.33450 val acc 0.61143\n",
            "--------------------------------------------------------------------------------\n",
            "Epochs 15  train loss 1.39183 train acc 0.55619 val loss 1.31939 val acc 0.63429\n",
            "--------------------------------------------------------------------------------\n",
            "Epochs 16  train loss 1.35984 train acc 0.56190 val loss 1.32155 val acc 0.60000\n",
            "--------------------------------------------------------------------------------\n",
            "Epochs 17  train loss 1.34072 train acc 0.57397 val loss 1.29130 val acc 0.63429\n",
            "--------------------------------------------------------------------------------\n",
            "Epochs 18  train loss 1.31798 train acc 0.57079 val loss 1.28542 val acc 0.62286\n",
            "--------------------------------------------------------------------------------\n",
            "Epochs 19  train loss 1.31159 train acc 0.58889 val loss 1.27824 val acc 0.61143\n",
            "--------------------------------------------------------------------------------\n",
            "Epochs 20  train loss 1.28944 train acc 0.59238 val loss 1.26924 val acc 0.61714\n",
            "--------------------------------------------------------------------------------\n",
            "Epochs 21  train loss 1.26038 train acc 0.58730 val loss 1.26618 val acc 0.61143\n",
            "--------------------------------------------------------------------------------\n",
            "Epochs 22  train loss 1.25707 train acc 0.59270 val loss 1.25509 val acc 0.61143\n",
            "--------------------------------------------------------------------------------\n",
            "Epochs 23  train loss 1.23398 train acc 0.60635 val loss 1.25741 val acc 0.60571\n",
            "--------------------------------------------------------------------------------\n",
            "Epochs 24  train loss 1.20877 train acc 0.61397 val loss 1.24237 val acc 0.61714\n",
            "--------------------------------------------------------------------------------\n",
            "Epochs 25  train loss 1.21884 train acc 0.61714 val loss 1.22545 val acc 0.61714\n",
            "--------------------------------------------------------------------------------\n",
            "Epochs 26  train loss 1.18645 train acc 0.61587 val loss 1.22569 val acc 0.60571\n",
            "--------------------------------------------------------------------------------\n",
            "Epochs 27  train loss 1.16084 train acc 0.63460 val loss 1.21283 val acc 0.61143\n",
            "--------------------------------------------------------------------------------\n",
            "Epochs 28  train loss 1.14798 train acc 0.63873 val loss 1.20696 val acc 0.62286\n",
            "--------------------------------------------------------------------------------\n",
            "Epochs 29  train loss 1.12955 train acc 0.64063 val loss 1.19624 val acc 0.61143\n",
            "--------------------------------------------------------------------------------\n",
            "Epochs 30  train loss 1.12450 train acc 0.64984 val loss 1.19037 val acc 0.63429\n",
            "--------------------------------------------------------------------------------\n",
            "Epochs 31  train loss 1.11954 train acc 0.65302 val loss 1.17923 val acc 0.64571\n",
            "--------------------------------------------------------------------------------\n",
            "Epochs 32  train loss 1.08893 train acc 0.66032 val loss 1.18820 val acc 0.63429\n",
            "--------------------------------------------------------------------------------\n",
            "Epochs 33  train loss 1.09232 train acc 0.65619 val loss 1.17092 val acc 0.65143\n",
            "--------------------------------------------------------------------------------\n",
            "Epochs 34  train loss 1.08260 train acc 0.66984 val loss 1.17188 val acc 0.62857\n",
            "--------------------------------------------------------------------------------\n",
            "Epochs 35  train loss 1.07496 train acc 0.65810 val loss 1.15926 val acc 0.65143\n",
            "--------------------------------------------------------------------------------\n",
            "Epochs 36  train loss 1.05873 train acc 0.66921 val loss 1.15393 val acc 0.64571\n",
            "--------------------------------------------------------------------------------\n",
            "Epochs 37  train loss 1.05046 train acc 0.66444 val loss 1.14273 val acc 0.63429\n",
            "--------------------------------------------------------------------------------\n",
            "Epochs 38  train loss 1.02615 train acc 0.68635 val loss 1.15095 val acc 0.63429\n",
            "--------------------------------------------------------------------------------\n",
            "Epochs 39  train loss 1.02521 train acc 0.67524 val loss 1.14466 val acc 0.64000\n",
            "--------------------------------------------------------------------------------\n",
            "Epochs 40  train loss 1.02698 train acc 0.67905 val loss 1.13617 val acc 0.64000\n",
            "--------------------------------------------------------------------------------\n",
            "Epochs 41  train loss 1.00159 train acc 0.68889 val loss 1.13149 val acc 0.63429\n",
            "--------------------------------------------------------------------------------\n",
            "Epochs 42  train loss 0.99705 train acc 0.68317 val loss 1.11236 val acc 0.63429\n",
            "--------------------------------------------------------------------------------\n",
            "Epochs 43  train loss 0.98902 train acc 0.69079 val loss 1.10407 val acc 0.62286\n",
            "--------------------------------------------------------------------------------\n",
            "Epochs 44  train loss 0.97653 train acc 0.69683 val loss 1.10804 val acc 0.62857\n",
            "--------------------------------------------------------------------------------\n",
            "Epochs 45  train loss 0.96527 train acc 0.69429 val loss 1.10887 val acc 0.62857\n",
            "--------------------------------------------------------------------------------\n",
            "Epochs 46  train loss 0.95916 train acc 0.69587 val loss 1.10430 val acc 0.64571\n",
            "--------------------------------------------------------------------------------\n",
            "Epochs 47  train loss 0.94852 train acc 0.71111 val loss 1.10068 val acc 0.62286\n",
            "--------------------------------------------------------------------------------\n",
            "Epochs 48  train loss 0.92958 train acc 0.70921 val loss 1.11034 val acc 0.64571\n",
            "--------------------------------------------------------------------------------\n",
            "Epochs 49  train loss 0.93802 train acc 0.70635 val loss 1.09625 val acc 0.64000\n",
            "--------------------------------------------------------------------------------\n",
            "Epochs 50  train loss 0.93660 train acc 0.70603 val loss 1.08654 val acc 0.62857\n",
            "--------------------------------------------------------------------------------\n"
          ]
        }
      ],
      "source": [
        "# Let's train the model with augmented data\n",
        "n_epochs = 50\n",
        "augmented_model = DropoutThaiDigit()  # Initialize the model\n",
        "loss_fn = nn.CrossEntropyLoss()\n",
        "optimizer = torch.optim.SGD(augmented_model.parameters(), lr=0.01)\n",
        "\n",
        "augmented_model, augmented_model_history = train(\n",
        "    augmented_model, n_epochs, loss_fn, optimizer, train_dataloader, val_dataloader\n",
        ")"
      ]
    },
    {
      "cell_type": "code",
      "execution_count": 139,
      "id": "j4Z2ZXWnjqYt",
      "metadata": {
        "colab": {
          "base_uri": "https://localhost:8080/"
        },
        "id": "j4Z2ZXWnjqYt",
        "outputId": "70b7a8a1-8e8d-48d9-f259-50e62b48423e"
      },
      "outputs": [
        {
          "output_type": "stream",
          "name": "stdout",
          "text": [
            "Accuracy: 62.86%\n"
          ]
        }
      ],
      "source": [
        "# Evaluate the new model with old dataset.\n",
        "results = evaluate(val_df, augmented_model)"
      ]
    },
    {
      "cell_type": "code",
      "execution_count": 137,
      "id": "oI1CjNUMkXWv",
      "metadata": {
        "colab": {
          "base_uri": "https://localhost:8080/",
          "height": 281
        },
        "id": "oI1CjNUMkXWv",
        "outputId": "c11e64e4-8974-4cf1-f64e-af701a0e63e8"
      },
      "outputs": [
        {
          "output_type": "display_data",
          "data": {
            "text/plain": [
              "<Figure size 432x288 with 1 Axes>"
            ],
            "image/png": "[encoded data removed]"
          },
          "metadata": {
            "needs_background": "light"
          }
        }
      ],
      "source": [
        "# Plot the training accuracy and validation accuracy\n",
        "plt.plot(augmented_model_history[\"train_acc\"], label=\"Train\")\n",
        "plt.plot(augmented_model_history[\"val_acc\"], label=\"Validation\")\n",
        "plt.legend()\n",
        "plt.title(\"Train accuracy vs Validation accuracy\")\n",
        "plt.show()"
      ]
    },
    {
      "cell_type": "code",
      "execution_count": 138,
      "id": "PZOLVuqF2N3m",
      "metadata": {
        "colab": {
          "base_uri": "https://localhost:8080/",
          "height": 281
        },
        "id": "PZOLVuqF2N3m",
        "outputId": "01249ef7-751b-4707-c8ba-f5820b6f685b"
      },
      "outputs": [
        {
          "output_type": "display_data",
          "data": {
            "text/plain": [
              "<Figure size 432x288 with 1 Axes>"
            ],
            "image/png": "[encoded data removed]"
          },
          "metadata": {
            "needs_background": "light"
          }
        }
      ],
      "source": [
        "# Plot the training loss and validation loss\n",
        "plt.plot(augmented_model_history[\"train_loss\"], label=\"Train\")\n",
        "plt.plot(augmented_model_history[\"val_loss\"], label=\"Validation\")\n",
        "plt.legend()\n",
        "plt.title(\"Train loss vs Validation loss\")\n",
        "plt.show()"
      ]
    },
    {
      "cell_type": "code",
      "source": [
        "# Confusion matrix\n",
        "cm = confusion_matrix(results.text, results.prediction, labels=range(10))\n",
        "display = ConfusionMatrixDisplay(confusion_matrix=cm, display_labels=range(10))\n",
        "display.plot()\n",
        "plt.show()"
      ],
      "metadata": {
        "id": "Ue8KJ1UhkQHe",
        "outputId": "1120c405-9989-447e-d0bd-50078d3927a2",
        "colab": {
          "base_uri": "https://localhost:8080/",
          "height": 283
        }
      },
      "id": "Ue8KJ1UhkQHe",
      "execution_count": 154,
      "outputs": [
        {
          "output_type": "display_data",
          "data": {
            "text/plain": [
              "<Figure size 432x288 with 2 Axes>"
            ],
            "image/png": "[encoded data removed]"
          },
          "metadata": {
            "needs_background": "light"
          }
        }
      ]
    }
  ],
  "metadata": {
    "colab": {
      "provenance": []
    },
    "gpuClass": "standard",
    "kernelspec": {
      "display_name": "Python 3 (ipykernel)",
      "language": "python",
      "name": "python3"
    },
    "language_info": {
      "codemirror_mode": {
        "name": "ipython",
        "version": 3
      },
      "file_extension": ".py",
      "mimetype": "text/x-python",
      "name": "python",
      "nbconvert_exporter": "python",
      "pygments_lexer": "ipython3",
      "version": "3.7.13"
    },
    "vscode": {
      "interpreter": {
        "hash": "63ce3f086f3d35aeaa98481dc3e6117e1ab6d0e955643b11e97a8ed761553864"
      }
    },
    "widgets": {
      "application/vnd.jupyter.widget-state+json": {
        "e6f929dde3a945d98d6151dede847e84": {
          "model_module": "@jupyter-widgets/controls",
          "model_name": "HBoxModel",
          "model_module_version": "1.5.0",
          "state": {
            "_dom_classes": [],
            "_model_module": "@jupyter-widgets/controls",
            "_model_module_version": "1.5.0",
            "_model_name": "HBoxModel",
            "_view_count": null,
            "_view_module": "@jupyter-widgets/controls",
            "_view_module_version": "1.5.0",
            "_view_name": "HBoxView",
            "box_style": "",
            "children": [
              "IPY_MODEL_29b35b1dec0a48d2be7dfce3c96d588d",
              "IPY_MODEL_5c9b7df9012a4397a28fbf001cb75e02",
              "IPY_MODEL_089d769f8bfe42e2956abf15f2e48372"
            ],
            "layout": "IPY_MODEL_42ef46d64bc0415aafeb85f93a82fdac"
          }
        },
        "29b35b1dec0a48d2be7dfce3c96d588d": {
          "model_module": "@jupyter-widgets/controls",
          "model_name": "HTMLModel",
          "model_module_version": "1.5.0",
          "state": {
            "_dom_classes": [],
            "_model_module": "@jupyter-widgets/controls",
            "_model_module_version": "1.5.0",
            "_model_name": "HTMLModel",
            "_view_count": null,
            "_view_module": "@jupyter-widgets/controls",
            "_view_module_version": "1.5.0",
            "_view_name": "HTMLView",
            "description": "",
            "description_tooltip": null,
            "layout": "IPY_MODEL_fa0d6404b19845af814a8ab9222649a3",
            "placeholder": "​",
            "style": "IPY_MODEL_3bfc8f32f7814893ae05bb2c6bd1594f",
            "value": "100%"
          }
        },
        "5c9b7df9012a4397a28fbf001cb75e02": {
          "model_module": "@jupyter-widgets/controls",
          "model_name": "FloatProgressModel",
          "model_module_version": "1.5.0",
          "state": {
            "_dom_classes": [],
            "_model_module": "@jupyter-widgets/controls",
            "_model_module_version": "1.5.0",
            "_model_name": "FloatProgressModel",
            "_view_count": null,
            "_view_module": "@jupyter-widgets/controls",
            "_view_module_version": "1.5.0",
            "_view_name": "ProgressView",
            "bar_style": "success",
            "description": "",
            "description_tooltip": null,
            "layout": "IPY_MODEL_245f48165d4f4a73951ece1777d5bfde",
            "max": 1575,
            "min": 0,
            "orientation": "horizontal",
            "style": "IPY_MODEL_14628ef0cda843699000769bcbcfaefa",
            "value": 1575
          }
        },
        "089d769f8bfe42e2956abf15f2e48372": {
          "model_module": "@jupyter-widgets/controls",
          "model_name": "HTMLModel",
          "model_module_version": "1.5.0",
          "state": {
            "_dom_classes": [],
            "_model_module": "@jupyter-widgets/controls",
            "_model_module_version": "1.5.0",
            "_model_name": "HTMLModel",
            "_view_count": null,
            "_view_module": "@jupyter-widgets/controls",
            "_view_module_version": "1.5.0",
            "_view_name": "HTMLView",
            "description": "",
            "description_tooltip": null,
            "layout": "IPY_MODEL_73e4fa6dc28741c4890695a6bc944774",
            "placeholder": "​",
            "style": "IPY_MODEL_3ead1d926af941f7809bbf223ee8df8a",
            "value": " 1575/1575 [00:00&lt;00:00, 5438.29it/s]"
          }
        },
        "42ef46d64bc0415aafeb85f93a82fdac": {
          "model_module": "@jupyter-widgets/base",
          "model_name": "LayoutModel",
          "model_module_version": "1.2.0",
          "state": {
            "_model_module": "@jupyter-widgets/base",
            "_model_module_version": "1.2.0",
            "_model_name": "LayoutModel",
            "_view_count": null,
            "_view_module": "@jupyter-widgets/base",
            "_view_module_version": "1.2.0",
            "_view_name": "LayoutView",
            "align_content": null,
            "align_items": null,
            "align_self": null,
            "border": null,
            "bottom": null,
            "display": null,
            "flex": null,
            "flex_flow": null,
            "grid_area": null,
            "grid_auto_columns": null,
            "grid_auto_flow": null,
            "grid_auto_rows": null,
            "grid_column": null,
            "grid_gap": null,
            "grid_row": null,
            "grid_template_areas": null,
            "grid_template_columns": null,
            "grid_template_rows": null,
            "height": null,
            "justify_content": null,
            "justify_items": null,
            "left": null,
            "margin": null,
            "max_height": null,
            "max_width": null,
            "min_height": null,
            "min_width": null,
            "object_fit": null,
            "object_position": null,
            "order": null,
            "overflow": null,
            "overflow_x": null,
            "overflow_y": null,
            "padding": null,
            "right": null,
            "top": null,
            "visibility": null,
            "width": null
          }
        },
        "fa0d6404b19845af814a8ab9222649a3": {
          "model_module": "@jupyter-widgets/base",
          "model_name": "LayoutModel",
          "model_module_version": "1.2.0",
          "state": {
            "_model_module": "@jupyter-widgets/base",
            "_model_module_version": "1.2.0",
            "_model_name": "LayoutModel",
            "_view_count": null,
            "_view_module": "@jupyter-widgets/base",
            "_view_module_version": "1.2.0",
            "_view_name": "LayoutView",
            "align_content": null,
            "align_items": null,
            "align_self": null,
            "border": null,
            "bottom": null,
            "display": null,
            "flex": null,
            "flex_flow": null,
            "grid_area": null,
            "grid_auto_columns": null,
            "grid_auto_flow": null,
            "grid_auto_rows": null,
            "grid_column": null,
            "grid_gap": null,
            "grid_row": null,
            "grid_template_areas": null,
            "grid_template_columns": null,
            "grid_template_rows": null,
            "height": null,
            "justify_content": null,
            "justify_items": null,
            "left": null,
            "margin": null,
            "max_height": null,
            "max_width": null,
            "min_height": null,
            "min_width": null,
            "object_fit": null,
            "object_position": null,
            "order": null,
            "overflow": null,
            "overflow_x": null,
            "overflow_y": null,
            "padding": null,
            "right": null,
            "top": null,
            "visibility": null,
            "width": null
          }
        },
        "3bfc8f32f7814893ae05bb2c6bd1594f": {
          "model_module": "@jupyter-widgets/controls",
          "model_name": "DescriptionStyleModel",
          "model_module_version": "1.5.0",
          "state": {
            "_model_module": "@jupyter-widgets/controls",
            "_model_module_version": "1.5.0",
            "_model_name": "DescriptionStyleModel",
            "_view_count": null,
            "_view_module": "@jupyter-widgets/base",
            "_view_module_version": "1.2.0",
            "_view_name": "StyleView",
            "description_width": ""
          }
        },
        "245f48165d4f4a73951ece1777d5bfde": {
          "model_module": "@jupyter-widgets/base",
          "model_name": "LayoutModel",
          "model_module_version": "1.2.0",
          "state": {
            "_model_module": "@jupyter-widgets/base",
            "_model_module_version": "1.2.0",
            "_model_name": "LayoutModel",
            "_view_count": null,
            "_view_module": "@jupyter-widgets/base",
            "_view_module_version": "1.2.0",
            "_view_name": "LayoutView",
            "align_content": null,
            "align_items": null,
            "align_self": null,
            "border": null,
            "bottom": null,
            "display": null,
            "flex": null,
            "flex_flow": null,
            "grid_area": null,
            "grid_auto_columns": null,
            "grid_auto_flow": null,
            "grid_auto_rows": null,
            "grid_column": null,
            "grid_gap": null,
            "grid_row": null,
            "grid_template_areas": null,
            "grid_template_columns": null,
            "grid_template_rows": null,
            "height": null,
            "justify_content": null,
            "justify_items": null,
            "left": null,
            "margin": null,
            "max_height": null,
            "max_width": null,
            "min_height": null,
            "min_width": null,
            "object_fit": null,
            "object_position": null,
            "order": null,
            "overflow": null,
            "overflow_x": null,
            "overflow_y": null,
            "padding": null,
            "right": null,
            "top": null,
            "visibility": null,
            "width": null
          }
        },
        "14628ef0cda843699000769bcbcfaefa": {
          "model_module": "@jupyter-widgets/controls",
          "model_name": "ProgressStyleModel",
          "model_module_version": "1.5.0",
          "state": {
            "_model_module": "@jupyter-widgets/controls",
            "_model_module_version": "1.5.0",
            "_model_name": "ProgressStyleModel",
            "_view_count": null,
            "_view_module": "@jupyter-widgets/base",
            "_view_module_version": "1.2.0",
            "_view_name": "StyleView",
            "bar_color": null,
            "description_width": ""
          }
        },
        "73e4fa6dc28741c4890695a6bc944774": {
          "model_module": "@jupyter-widgets/base",
          "model_name": "LayoutModel",
          "model_module_version": "1.2.0",
          "state": {
            "_model_module": "@jupyter-widgets/base",
            "_model_module_version": "1.2.0",
            "_model_name": "LayoutModel",
            "_view_count": null,
            "_view_module": "@jupyter-widgets/base",
            "_view_module_version": "1.2.0",
            "_view_name": "LayoutView",
            "align_content": null,
            "align_items": null,
            "align_self": null,
            "border": null,
            "bottom": null,
            "display": null,
            "flex": null,
            "flex_flow": null,
            "grid_area": null,
            "grid_auto_columns": null,
            "grid_auto_flow": null,
            "grid_auto_rows": null,
            "grid_column": null,
            "grid_gap": null,
            "grid_row": null,
            "grid_template_areas": null,
            "grid_template_columns": null,
            "grid_template_rows": null,
            "height": null,
            "justify_content": null,
            "justify_items": null,
            "left": null,
            "margin": null,
            "max_height": null,
            "max_width": null,
            "min_height": null,
            "min_width": null,
            "object_fit": null,
            "object_position": null,
            "order": null,
            "overflow": null,
            "overflow_x": null,
            "overflow_y": null,
            "padding": null,
            "right": null,
            "top": null,
            "visibility": null,
            "width": null
          }
        },
        "3ead1d926af941f7809bbf223ee8df8a": {
          "model_module": "@jupyter-widgets/controls",
          "model_name": "DescriptionStyleModel",
          "model_module_version": "1.5.0",
          "state": {
            "_model_module": "@jupyter-widgets/controls",
            "_model_module_version": "1.5.0",
            "_model_name": "DescriptionStyleModel",
            "_view_count": null,
            "_view_module": "@jupyter-widgets/base",
            "_view_module_version": "1.2.0",
            "_view_name": "StyleView",
            "description_width": ""
          }
        },
        "fab579920675419db8d1b2272ac6e709": {
          "model_module": "@jupyter-widgets/controls",
          "model_name": "HBoxModel",
          "model_module_version": "1.5.0",
          "state": {
            "_dom_classes": [],
            "_model_module": "@jupyter-widgets/controls",
            "_model_module_version": "1.5.0",
            "_model_name": "HBoxModel",
            "_view_count": null,
            "_view_module": "@jupyter-widgets/controls",
            "_view_module_version": "1.5.0",
            "_view_name": "HBoxView",
            "box_style": "",
            "children": [
              "IPY_MODEL_53d6a9db5c6e4e6cb9c1560d2b531eda",
              "IPY_MODEL_3b8157a664a040a298d518ca73056526",
              "IPY_MODEL_9bf33b709b8447da90506414e4a913d2"
            ],
            "layout": "IPY_MODEL_7ead6fd44022492bb2cc1718fdf601aa"
          }
        },
        "53d6a9db5c6e4e6cb9c1560d2b531eda": {
          "model_module": "@jupyter-widgets/controls",
          "model_name": "HTMLModel",
          "model_module_version": "1.5.0",
          "state": {
            "_dom_classes": [],
            "_model_module": "@jupyter-widgets/controls",
            "_model_module_version": "1.5.0",
            "_model_name": "HTMLModel",
            "_view_count": null,
            "_view_module": "@jupyter-widgets/controls",
            "_view_module_version": "1.5.0",
            "_view_name": "HTMLView",
            "description": "",
            "description_tooltip": null,
            "layout": "IPY_MODEL_3db91d2184334bb5b75bde4460830437",
            "placeholder": "​",
            "style": "IPY_MODEL_ead97b43eb2f49359743f625d21fdff2",
            "value": "100%"
          }
        },
        "3b8157a664a040a298d518ca73056526": {
          "model_module": "@jupyter-widgets/controls",
          "model_name": "FloatProgressModel",
          "model_module_version": "1.5.0",
          "state": {
            "_dom_classes": [],
            "_model_module": "@jupyter-widgets/controls",
            "_model_module_version": "1.5.0",
            "_model_name": "FloatProgressModel",
            "_view_count": null,
            "_view_module": "@jupyter-widgets/controls",
            "_view_module_version": "1.5.0",
            "_view_name": "ProgressView",
            "bar_style": "success",
            "description": "",
            "description_tooltip": null,
            "layout": "IPY_MODEL_65503cd6ff0f413a8f6adcd08d15d5ca",
            "max": 175,
            "min": 0,
            "orientation": "horizontal",
            "style": "IPY_MODEL_f17c6a506f2c40ecbeb671aede620012",
            "value": 175
          }
        },
        "9bf33b709b8447da90506414e4a913d2": {
          "model_module": "@jupyter-widgets/controls",
          "model_name": "HTMLModel",
          "model_module_version": "1.5.0",
          "state": {
            "_dom_classes": [],
            "_model_module": "@jupyter-widgets/controls",
            "_model_module_version": "1.5.0",
            "_model_name": "HTMLModel",
            "_view_count": null,
            "_view_module": "@jupyter-widgets/controls",
            "_view_module_version": "1.5.0",
            "_view_name": "HTMLView",
            "description": "",
            "description_tooltip": null,
            "layout": "IPY_MODEL_b831eda84bbd449daf264434b65f7b4c",
            "placeholder": "​",
            "style": "IPY_MODEL_f571eda995e340f8ad7cf87dcd79f099",
            "value": " 175/175 [00:00&lt;00:00, 2462.30it/s]"
          }
        },
        "7ead6fd44022492bb2cc1718fdf601aa": {
          "model_module": "@jupyter-widgets/base",
          "model_name": "LayoutModel",
          "model_module_version": "1.2.0",
          "state": {
            "_model_module": "@jupyter-widgets/base",
            "_model_module_version": "1.2.0",
            "_model_name": "LayoutModel",
            "_view_count": null,
            "_view_module": "@jupyter-widgets/base",
            "_view_module_version": "1.2.0",
            "_view_name": "LayoutView",
            "align_content": null,
            "align_items": null,
            "align_self": null,
            "border": null,
            "bottom": null,
            "display": null,
            "flex": null,
            "flex_flow": null,
            "grid_area": null,
            "grid_auto_columns": null,
            "grid_auto_flow": null,
            "grid_auto_rows": null,
            "grid_column": null,
            "grid_gap": null,
            "grid_row": null,
            "grid_template_areas": null,
            "grid_template_columns": null,
            "grid_template_rows": null,
            "height": null,
            "justify_content": null,
            "justify_items": null,
            "left": null,
            "margin": null,
            "max_height": null,
            "max_width": null,
            "min_height": null,
            "min_width": null,
            "object_fit": null,
            "object_position": null,
            "order": null,
            "overflow": null,
            "overflow_x": null,
            "overflow_y": null,
            "padding": null,
            "right": null,
            "top": null,
            "visibility": null,
            "width": null
          }
        },
        "3db91d2184334bb5b75bde4460830437": {
          "model_module": "@jupyter-widgets/base",
          "model_name": "LayoutModel",
          "model_module_version": "1.2.0",
          "state": {
            "_model_module": "@jupyter-widgets/base",
            "_model_module_version": "1.2.0",
            "_model_name": "LayoutModel",
            "_view_count": null,
            "_view_module": "@jupyter-widgets/base",
            "_view_module_version": "1.2.0",
            "_view_name": "LayoutView",
            "align_content": null,
            "align_items": null,
            "align_self": null,
            "border": null,
            "bottom": null,
            "display": null,
            "flex": null,
            "flex_flow": null,
            "grid_area": null,
            "grid_auto_columns": null,
            "grid_auto_flow": null,
            "grid_auto_rows": null,
            "grid_column": null,
            "grid_gap": null,
            "grid_row": null,
            "grid_template_areas": null,
            "grid_template_columns": null,
            "grid_template_rows": null,
            "height": null,
            "justify_content": null,
            "justify_items": null,
            "left": null,
            "margin": null,
            "max_height": null,
            "max_width": null,
            "min_height": null,
            "min_width": null,
            "object_fit": null,
            "object_position": null,
            "order": null,
            "overflow": null,
            "overflow_x": null,
            "overflow_y": null,
            "padding": null,
            "right": null,
            "top": null,
            "visibility": null,
            "width": null
          }
        },
        "ead97b43eb2f49359743f625d21fdff2": {
          "model_module": "@jupyter-widgets/controls",
          "model_name": "DescriptionStyleModel",
          "model_module_version": "1.5.0",
          "state": {
            "_model_module": "@jupyter-widgets/controls",
            "_model_module_version": "1.5.0",
            "_model_name": "DescriptionStyleModel",
            "_view_count": null,
            "_view_module": "@jupyter-widgets/base",
            "_view_module_version": "1.2.0",
            "_view_name": "StyleView",
            "description_width": ""
          }
        },
        "65503cd6ff0f413a8f6adcd08d15d5ca": {
          "model_module": "@jupyter-widgets/base",
          "model_name": "LayoutModel",
          "model_module_version": "1.2.0",
          "state": {
            "_model_module": "@jupyter-widgets/base",
            "_model_module_version": "1.2.0",
            "_model_name": "LayoutModel",
            "_view_count": null,
            "_view_module": "@jupyter-widgets/base",
            "_view_module_version": "1.2.0",
            "_view_name": "LayoutView",
            "align_content": null,
            "align_items": null,
            "align_self": null,
            "border": null,
            "bottom": null,
            "display": null,
            "flex": null,
            "flex_flow": null,
            "grid_area": null,
            "grid_auto_columns": null,
            "grid_auto_flow": null,
            "grid_auto_rows": null,
            "grid_column": null,
            "grid_gap": null,
            "grid_row": null,
            "grid_template_areas": null,
            "grid_template_columns": null,
            "grid_template_rows": null,
            "height": null,
            "justify_content": null,
            "justify_items": null,
            "left": null,
            "margin": null,
            "max_height": null,
            "max_width": null,
            "min_height": null,
            "min_width": null,
            "object_fit": null,
            "object_position": null,
            "order": null,
            "overflow": null,
            "overflow_x": null,
            "overflow_y": null,
            "padding": null,
            "right": null,
            "top": null,
            "visibility": null,
            "width": null
          }
        },
        "f17c6a506f2c40ecbeb671aede620012": {
          "model_module": "@jupyter-widgets/controls",
          "model_name": "ProgressStyleModel",
          "model_module_version": "1.5.0",
          "state": {
            "_model_module": "@jupyter-widgets/controls",
            "_model_module_version": "1.5.0",
            "_model_name": "ProgressStyleModel",
            "_view_count": null,
            "_view_module": "@jupyter-widgets/base",
            "_view_module_version": "1.2.0",
            "_view_name": "StyleView",
            "bar_color": null,
            "description_width": ""
          }
        },
        "b831eda84bbd449daf264434b65f7b4c": {
          "model_module": "@jupyter-widgets/base",
          "model_name": "LayoutModel",
          "model_module_version": "1.2.0",
          "state": {
            "_model_module": "@jupyter-widgets/base",
            "_model_module_version": "1.2.0",
            "_model_name": "LayoutModel",
            "_view_count": null,
            "_view_module": "@jupyter-widgets/base",
            "_view_module_version": "1.2.0",
            "_view_name": "LayoutView",
            "align_content": null,
            "align_items": null,
            "align_self": null,
            "border": null,
            "bottom": null,
            "display": null,
            "flex": null,
            "flex_flow": null,
            "grid_area": null,
            "grid_auto_columns": null,
            "grid_auto_flow": null,
            "grid_auto_rows": null,
            "grid_column": null,
            "grid_gap": null,
            "grid_row": null,
            "grid_template_areas": null,
            "grid_template_columns": null,
            "grid_template_rows": null,
            "height": null,
            "justify_content": null,
            "justify_items": null,
            "left": null,
            "margin": null,
            "max_height": null,
            "max_width": null,
            "min_height": null,
            "min_width": null,
            "object_fit": null,
            "object_position": null,
            "order": null,
            "overflow": null,
            "overflow_x": null,
            "overflow_y": null,
            "padding": null,
            "right": null,
            "top": null,
            "visibility": null,
            "width": null
          }
        },
        "f571eda995e340f8ad7cf87dcd79f099": {
          "model_module": "@jupyter-widgets/controls",
          "model_name": "DescriptionStyleModel",
          "model_module_version": "1.5.0",
          "state": {
            "_model_module": "@jupyter-widgets/controls",
            "_model_module_version": "1.5.0",
            "_model_name": "DescriptionStyleModel",
            "_view_count": null,
            "_view_module": "@jupyter-widgets/base",
            "_view_module_version": "1.2.0",
            "_view_name": "StyleView",
            "description_width": ""
          }
        }
      }
    }
  },
  "nbformat": 4,
  "nbformat_minor": 5
}