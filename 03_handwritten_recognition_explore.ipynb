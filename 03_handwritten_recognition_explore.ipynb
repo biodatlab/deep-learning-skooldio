{
 "cells": [
  {
   "cell_type": "markdown",
   "id": "cfc52381",
   "metadata": {
    "id": "cfc52381"
   },
   "source": [
    "[![Open in Colab](https://colab.research.google.com/assets/colab-badge.svg)](https://colab.research.google.com/github/biodatlab/deep-learning-skooldio/blob/master/03_handwritten_recognition_explore.ipynb)\n",
    "\n",
    "## **Thai-digit handwritten classification with Pytorch: Exploration**\n",
    "\n",
    "This notebook contains exploration of the \"Thai-digit handwritten classification\" including\n",
    "- Customize model\n",
    "    - Adding layers\n",
    "    - Adding dropout layer\n",
    "- Adding data augmentation"
   ]
  },
  {
   "cell_type": "markdown",
   "id": "3aa56f94",
   "metadata": {
    "id": "3aa56f94"
   },
   "source": [
    "## **Download and clean the dataset from the repository**\n",
    "\n",
    "- We have downloaded the data from https://github.com/kittinan/thai-handwriting-number by cloning the repository\n",
    "- Remove files that have character mismatch (as suggested by the the creator)\n",
    "- Then, we put the cleaned data at https://github.com/biodatlab/deep-learning-skooldio"
   ]
  },
  {
   "cell_type": "code",
   "execution_count": 2,
   "id": "f7deb2f6",
   "metadata": {
    "colab": {
     "base_uri": "https://localhost:8080/"
    },
    "id": "f7deb2f6",
    "outputId": "86005c26-04aa-4093-8625-2be093613406"
   },
   "outputs": [
    {
     "name": "stdout",
     "output_type": "stream",
     "text": [
      "Cloning into 'deep-learning-skooldio'...\n",
      "remote: Enumerating objects: 1735, done.\u001b[K\n",
      "remote: Counting objects: 100% (1735/1735), done.\u001b[K\n",
      "remote: Compressing objects: 100% (1720/1720), done.\u001b[K\n",
      "remote: Total 1735 (delta 23), reused 1725 (delta 15), pack-reused 0\u001b[K\n",
      "Receiving objects: 100% (1735/1735), 12.01 MiB | 29.99 MiB/s, done.\n",
      "Resolving deltas: 100% (23/23), done.\n"
     ]
    }
   ],
   "source": [
    "!git clone https://github.com/biodatlab/deep-learning-skooldio"
   ]
  },
  {
   "cell_type": "code",
   "execution_count": 3,
   "id": "2ad2a443",
   "metadata": {
    "id": "2ad2a443"
   },
   "outputs": [],
   "source": [
    "import os\n",
    "import os.path as op\n",
    "from glob import glob\n",
    "from pathlib import Path\n",
    "import random\n",
    "from PIL import Image\n",
    "from collections import Counter"
   ]
  },
  {
   "cell_type": "code",
   "execution_count": 4,
   "id": "64ce2573",
   "metadata": {
    "id": "64ce2573"
   },
   "outputs": [],
   "source": [
    "directory = \"deep-learning-skooldio/\"\n",
    "paths = glob(op.join(directory, \"thai-handwritten-dataset\", \"*\", \"*\"))\n",
    "num_samples = len(paths)\n",
    "print(\"Number of samples\", num_samples)"
   ]
  },
  {
   "cell_type": "code",
   "execution_count": 8,
   "id": "6aa0f5b4",
   "metadata": {
    "id": "6aa0f5b4"
   },
   "outputs": [],
   "source": [
    "from tqdm.auto import tqdm\n",
    "from sklearn.model_selection import train_test_split\n",
    "import shutil\n",
    "\n",
    "train_paths, test_paths = train_test_split(paths, test_size=0.1, random_state=42)\n",
    "for i in range(10):\n",
    "    os.makedirs(f\"data/train/{i}\", exist_ok=True)\n",
    "    os.makedirs(f\"data/validation/{i}\", exist_ok=True)"
   ]
  },
  {
   "cell_type": "code",
   "execution_count": 10,
   "id": "fe1d237b",
   "metadata": {
    "id": "fe1d237b"
   },
   "outputs": [],
   "source": [
    "def copy_to_destination(src_paths, dst_path: str = \"data/train/\"):\n",
    "    for path in tqdm(src_paths):\n",
    "        path = Path(path)\n",
    "        if path.parent.name == \"10\":\n",
    "            parent_dir = \"0\"\n",
    "        else:\n",
    "            parent_dir = path.parent.name\n",
    "        shutil.copy(path, op.join(dst_path, parent_dir, path.name))"
   ]
  },
  {
   "cell_type": "code",
   "execution_count": 11,
   "id": "af9064ae",
   "metadata": {
    "colab": {
     "base_uri": "https://localhost:8080/",
     "height": 81,
     "referenced_widgets": [
      "e858baf2768140eeafbd4b7707665501",
      "50b658ffca854732949a76fdf2731ae1",
      "3b6308b484dc4091afc0122584fd0fbd",
      "490ac6cb34484d9d9d78c0f897d219ab",
      "303faa4e8a664ebcb13d22c7ca16e15e",
      "2037ea69553245b0920d02afddb3401f",
      "0e4c2c5b3e1549998e1371e1a1c72a8c",
      "bf5bae4eb5f24929ac770d57fca959c5",
      "2022542a655f40668c58214e8751ae50",
      "94d1a086d21b497d9642965f8885081a",
      "4ba21bcbcb6e4497a1c34d337ac7b8a7",
      "7b61e8b031c648e5987e1809926e0a22",
      "7c898ada9e7242218830916b481cf30e",
      "6c1fe540d6d34be684cb03ed8d266e0c",
      "4f9807909c9b4aa59b6a54dabb96192e",
      "a038a0a0938842649dd92e289ccc261c",
      "4fe77181385d4bda901b5dac4b973ffa",
      "b47434e14a3047a8b4fc68f27b8c7cf6",
      "2b440195183548b59a6a8063cc4b97bd",
      "fd877471149b496bac44aed939c11291",
      "eb26f3ab4af04117a01cb6d5123a34a2",
      "b1bdcc572d31424da742a46af8b0e2d6"
     ]
    },
    "id": "af9064ae",
    "outputId": "d7efb051-257f-4fce-e32a-6b15d3cfecb2"
   },
   "outputs": [
    {
     "data": {
      "application/vnd.jupyter.widget-view+json": {
       "model_id": "e858baf2768140eeafbd4b7707665501",
       "version_major": 2,
       "version_minor": 0
      },
      "text/plain": [
       "  0%|          | 0/1575 [00:00<?, ?it/s]"
      ]
     },
     "metadata": {},
     "output_type": "display_data"
    },
    {
     "data": {
      "application/vnd.jupyter.widget-view+json": {
       "model_id": "7b61e8b031c648e5987e1809926e0a22",
       "version_major": 2,
       "version_minor": 0
      },
      "text/plain": [
       "  0%|          | 0/175 [00:00<?, ?it/s]"
      ]
     },
     "metadata": {},
     "output_type": "display_data"
    }
   ],
   "source": [
    "copy_to_destination(train_paths, \"data/train/\")\n",
    "copy_to_destination(test_paths, \"data/validation/\")"
   ]
  },
  {
   "cell_type": "markdown",
   "id": "ae55f494",
   "metadata": {
    "id": "ae55f494"
   },
   "source": [
    "## **Create a custom dataset and a dataloader**"
   ]
  },
  {
   "cell_type": "code",
   "execution_count": 12,
   "id": "d0b69d68",
   "metadata": {
    "id": "d0b69d68"
   },
   "outputs": [],
   "source": [
    "import torch\n",
    "from torch.utils.data import Dataset, DataLoader\n",
    "from torchvision import transforms\n",
    "import matplotlib.pyplot as plt\n",
    "import pandas as pd\n",
    "import os"
   ]
  },
  {
   "cell_type": "code",
   "execution_count": 13,
   "id": "2dbd4be3",
   "metadata": {
    "id": "2dbd4be3"
   },
   "outputs": [],
   "source": [
    "transform = transforms.Compose([\n",
    "    transforms.Resize((28, 28)),\n",
    "    transforms.Grayscale(),\n",
    "    transforms.ToTensor()\n",
    "])"
   ]
  },
  {
   "cell_type": "code",
   "execution_count": 14,
   "id": "yyAx23w8PFLU",
   "metadata": {
    "id": "yyAx23w8PFLU"
   },
   "outputs": [],
   "source": [
    "# Create dataframe\n",
    "train_df = pd.DataFrame({\"path\": glob(\"data/train/*/*\")})\n",
    "val_df = pd.DataFrame({\"path\": glob(\"data/validation/*/*\")})\n",
    "\n",
    "# Create text column from path\n",
    "train_df[\"text\"] = train_df[\"path\"].apply(lambda x: Path(x).parent.name)\n",
    "val_df[\"text\"] = val_df[\"path\"].apply(lambda x: Path(x).parent.name)\n",
    "\n",
    "# Shape of dataframe\n",
    "print(\"Number of train images = {}, number of validation images = {},\".format(train_df.shape, val_df.shape))"
   ]
  },
  {
   "cell_type": "code",
   "execution_count": 19,
   "id": "09eb4140",
   "metadata": {
    "id": "09eb4140"
   },
   "outputs": [],
   "source": [
    "class ThaiDigitDataset(Dataset):\n",
    "    def __init__(self, dataframe, transform=None):\n",
    "        self.transform = transform\n",
    "        self.dataframe = dataframe\n",
    "\n",
    "    def __len__(self):\n",
    "        return len(self.dataframe)\n",
    "\n",
    "    def __getitem__(self, idx):\n",
    "        label = int(self.dataframe['text'][idx])\n",
    "        image = Image.open(self.dataframe['path'][idx])\n",
    "        if self.transform:\n",
    "            image = 1 - self.transform(image)\n",
    "        return image, label"
   ]
  },
  {
   "cell_type": "code",
   "execution_count": 20,
   "id": "f1175f91",
   "metadata": {
    "id": "f1175f91"
   },
   "outputs": [],
   "source": [
    "train_thaidigit_dataset = ThaiDigitDataset(train_df, transform=transform)\n",
    "val_thaidigit_dataset = ThaiDigitDataset(val_df, transform=transform)"
   ]
  },
  {
   "cell_type": "code",
   "execution_count": 53,
   "id": "d4f83af9",
   "metadata": {
    "id": "d4f83af9"
   },
   "outputs": [],
   "source": [
    "train_loader = DataLoader(train_thaidigit_dataset, batch_size=16, shuffle=True)\n",
    "val_loader = DataLoader(val_thaidigit_dataset, batch_size=16, shuffle=False)"
   ]
  },
  {
   "cell_type": "markdown",
   "id": "275542ac",
   "metadata": {
    "id": "275542ac"
   },
   "source": [
    "## **Create the model**"
   ]
  },
  {
   "cell_type": "code",
   "execution_count": 61,
   "id": "abbd30d0",
   "metadata": {
    "id": "abbd30d0"
   },
   "outputs": [],
   "source": [
    "import torch.nn as nn\n",
    "import torch.nn.functional as F\n",
    "\n",
    "class ThaiDigitNet(nn.Module):\n",
    "    def __init__(self):\n",
    "        super(ThaiDigitNet, self).__init__()\n",
    "        self.fc1 = nn.Linear(28 * 28, 100)\n",
    "        self.fc2 = nn.Linear(100, 10)\n",
    "\n",
    "    def forward(self, x):\n",
    "        x = x.view(-1, 28 * 28)\n",
    "        x = self.fc1(x)\n",
    "        x = F.relu(x)\n",
    "        x = self.fc2(x)\n",
    "        return x"
   ]
  },
  {
   "cell_type": "markdown",
   "id": "f0455ef9",
   "metadata": {
    "id": "f0455ef9"
   },
   "source": [
    "## **Train the model**"
   ]
  },
  {
   "cell_type": "code",
   "execution_count": 1,
   "id": "r61vWix7nfgl",
   "metadata": {
    "id": "r61vWix7nfgl"
   },
   "outputs": [],
   "source": [
    "# Create training loop function\n",
    "def train(model, n_epochs, loss_function, optimizer, train_loader, validation_loader):\n",
    "    training_logs = {\"train_loss\": [],  \"train_acc\": [], \"val_loss\": [], \"val_acc\": []}\n",
    "    print(\"-\"*80)\n",
    "    for epoch in range(1, n_epochs+1):\n",
    "        # training\n",
    "        model.train()\n",
    "        train_loss, correct = 0, 0\n",
    "        for images, labels in train_loader:\n",
    "            pred = model(images)\n",
    "            loss = loss_function(pred, labels)\n",
    "\n",
    "            optimizer.zero_grad()\n",
    "            loss.backward()\n",
    "            optimizer.step()\n",
    "\n",
    "            train_loss += loss.item()\n",
    "            correct += (pred.argmax(1) == labels).float().sum().item()\n",
    "        # save training logs\n",
    "        training_logs[\"train_loss\"].append(train_loss/ len(train_loader))\n",
    "        training_logs[\"train_acc\"].append(correct / len(train_loader.dataset))\n",
    "\n",
    "        # validation\n",
    "        model.eval()\n",
    "        val_loss, correct = 0, 0\n",
    "        for images, labels in validation_loader:\n",
    "            pred = model(images)\n",
    "            val_loss += loss_function(pred, labels).item()\n",
    "            correct += (pred.argmax(1) == labels).float().sum().item()\n",
    "        # save validation logs\n",
    "        training_logs[\"val_loss\"].append(val_loss/ len(val_loader))\n",
    "        training_logs[\"val_acc\"].append(correct / len(validation_loader.dataset))\n",
    "\n",
    "        print(f\"Epochs {epoch}\".ljust(10), \n",
    "              f\"train loss {training_logs['train_loss'][-1]:.5f}\",\n",
    "              f\"train acc {training_logs['train_acc'][-1]:.5f}\",\n",
    "\n",
    "              f\"val loss {training_logs['val_loss'][-1]:.5f}\",\n",
    "              f\"val acc {training_logs['val_acc'][-1]:.5f}\",\n",
    "              )\n",
    "        print(\"-\"*80)\n",
    "    return model, training_logs\n",
    "        "
   ]
  },
  {
   "cell_type": "code",
   "execution_count": 67,
   "id": "pKe0afyiq80F",
   "metadata": {
    "colab": {
     "base_uri": "https://localhost:8080/"
    },
    "id": "pKe0afyiq80F",
    "outputId": "81776229-19e2-434e-b230-5c103302ca25"
   },
   "outputs": [
    {
     "name": "stdout",
     "output_type": "stream",
     "text": [
      "--------------------------------------------------------------------------------\n",
      "Epochs 1   train loss 2.29240 train acc 0.13841 val loss 2.27477 val acc 0.17714\n",
      "--------------------------------------------------------------------------------\n",
      "Epochs 2   train loss 2.25609 train acc 0.22095 val loss 2.23657 val acc 0.20571\n",
      "--------------------------------------------------------------------------------\n",
      "Epochs 3   train loss 2.21034 train acc 0.33206 val loss 2.18560 val acc 0.32000\n",
      "--------------------------------------------------------------------------------\n",
      "Epochs 4   train loss 2.15199 train acc 0.37270 val loss 2.12028 val acc 0.38286\n",
      "--------------------------------------------------------------------------------\n",
      "Epochs 5   train loss 2.07987 train acc 0.42730 val loss 2.04272 val acc 0.43429\n",
      "--------------------------------------------------------------------------------\n",
      "Epochs 6   train loss 1.99532 train acc 0.47746 val loss 1.95542 val acc 0.45143\n",
      "--------------------------------------------------------------------------------\n",
      "Epochs 7   train loss 1.89921 train acc 0.49270 val loss 1.86258 val acc 0.46286\n",
      "--------------------------------------------------------------------------------\n",
      "Epochs 8   train loss 1.79986 train acc 0.52825 val loss 1.77054 val acc 0.52571\n",
      "--------------------------------------------------------------------------------\n",
      "Epochs 9   train loss 1.70379 train acc 0.54476 val loss 1.68743 val acc 0.53714\n",
      "--------------------------------------------------------------------------------\n",
      "Epochs 10  train loss 1.60817 train acc 0.57841 val loss 1.61140 val acc 0.54857\n",
      "--------------------------------------------------------------------------------\n",
      "Epochs 11  train loss 1.52612 train acc 0.57016 val loss 1.54825 val acc 0.57143\n",
      "--------------------------------------------------------------------------------\n",
      "Epochs 12  train loss 1.45429 train acc 0.60825 val loss 1.48338 val acc 0.58857\n",
      "--------------------------------------------------------------------------------\n",
      "Epochs 13  train loss 1.39150 train acc 0.61079 val loss 1.44376 val acc 0.59429\n",
      "--------------------------------------------------------------------------------\n",
      "Epochs 14  train loss 1.33743 train acc 0.62794 val loss 1.40429 val acc 0.59429\n",
      "--------------------------------------------------------------------------------\n",
      "Epochs 15  train loss 1.29013 train acc 0.63175 val loss 1.37349 val acc 0.60000\n",
      "--------------------------------------------------------------------------------\n",
      "Epochs 16  train loss 1.24962 train acc 0.64762 val loss 1.34811 val acc 0.60571\n",
      "--------------------------------------------------------------------------------\n",
      "Epochs 17  train loss 1.21523 train acc 0.65841 val loss 1.32279 val acc 0.61143\n",
      "--------------------------------------------------------------------------------\n",
      "Epochs 18  train loss 1.18329 train acc 0.66349 val loss 1.30730 val acc 0.62286\n",
      "--------------------------------------------------------------------------------\n",
      "Epochs 19  train loss 1.15254 train acc 0.67175 val loss 1.28398 val acc 0.63429\n",
      "--------------------------------------------------------------------------------\n",
      "Epochs 20  train loss 1.12542 train acc 0.68571 val loss 1.27295 val acc 0.63429\n",
      "--------------------------------------------------------------------------------\n",
      "Epochs 21  train loss 1.10263 train acc 0.68952 val loss 1.25438 val acc 0.63429\n",
      "--------------------------------------------------------------------------------\n",
      "Epochs 22  train loss 1.08019 train acc 0.68825 val loss 1.24599 val acc 0.63429\n",
      "--------------------------------------------------------------------------------\n",
      "Epochs 23  train loss 1.06394 train acc 0.69714 val loss 1.23980 val acc 0.64571\n",
      "--------------------------------------------------------------------------------\n",
      "Epochs 24  train loss 1.03868 train acc 0.70095 val loss 1.22460 val acc 0.64000\n",
      "--------------------------------------------------------------------------------\n",
      "Epochs 25  train loss 1.02626 train acc 0.69968 val loss 1.22230 val acc 0.63429\n",
      "--------------------------------------------------------------------------------\n",
      "Epochs 26  train loss 1.01126 train acc 0.70667 val loss 1.20642 val acc 0.65143\n",
      "--------------------------------------------------------------------------------\n",
      "Epochs 27  train loss 0.99066 train acc 0.70921 val loss 1.20363 val acc 0.64571\n",
      "--------------------------------------------------------------------------------\n",
      "Epochs 28  train loss 0.97234 train acc 0.71810 val loss 1.19202 val acc 0.64571\n",
      "--------------------------------------------------------------------------------\n",
      "Epochs 29  train loss 0.96080 train acc 0.71873 val loss 1.19324 val acc 0.63429\n",
      "--------------------------------------------------------------------------------\n",
      "Epochs 30  train loss 0.94555 train acc 0.72317 val loss 1.18001 val acc 0.64571\n",
      "--------------------------------------------------------------------------------\n",
      "Epochs 31  train loss 0.93002 train acc 0.72444 val loss 1.18235 val acc 0.64000\n",
      "--------------------------------------------------------------------------------\n",
      "Epochs 32  train loss 0.91838 train acc 0.73333 val loss 1.17700 val acc 0.64000\n",
      "--------------------------------------------------------------------------------\n",
      "Epochs 33  train loss 0.90311 train acc 0.73333 val loss 1.16853 val acc 0.62857\n",
      "--------------------------------------------------------------------------------\n",
      "Epochs 34  train loss 0.89661 train acc 0.74032 val loss 1.16657 val acc 0.63429\n",
      "--------------------------------------------------------------------------------\n",
      "Epochs 35  train loss 0.88222 train acc 0.74032 val loss 1.16325 val acc 0.65143\n",
      "--------------------------------------------------------------------------------\n",
      "Epochs 36  train loss 0.87188 train acc 0.74667 val loss 1.15945 val acc 0.64000\n",
      "--------------------------------------------------------------------------------\n",
      "Epochs 37  train loss 0.86203 train acc 0.74857 val loss 1.16028 val acc 0.64000\n",
      "--------------------------------------------------------------------------------\n",
      "Epochs 38  train loss 0.84608 train acc 0.75365 val loss 1.15297 val acc 0.64000\n",
      "--------------------------------------------------------------------------------\n",
      "Epochs 39  train loss 0.83600 train acc 0.75873 val loss 1.14915 val acc 0.64000\n",
      "--------------------------------------------------------------------------------\n",
      "Epochs 40  train loss 0.82586 train acc 0.75111 val loss 1.14983 val acc 0.65714\n",
      "--------------------------------------------------------------------------------\n",
      "Epochs 41  train loss 0.81553 train acc 0.76190 val loss 1.14509 val acc 0.64000\n",
      "--------------------------------------------------------------------------------\n",
      "Epochs 42  train loss 0.80653 train acc 0.77016 val loss 1.14846 val acc 0.62857\n",
      "--------------------------------------------------------------------------------\n",
      "Epochs 43  train loss 0.79463 train acc 0.76825 val loss 1.14337 val acc 0.63429\n",
      "--------------------------------------------------------------------------------\n",
      "Epochs 44  train loss 0.78369 train acc 0.77397 val loss 1.14188 val acc 0.65714\n",
      "--------------------------------------------------------------------------------\n",
      "Epochs 45  train loss 0.77581 train acc 0.77841 val loss 1.13556 val acc 0.64000\n",
      "--------------------------------------------------------------------------------\n",
      "Epochs 46  train loss 0.76730 train acc 0.77397 val loss 1.13649 val acc 0.65714\n",
      "--------------------------------------------------------------------------------\n",
      "Epochs 47  train loss 0.75664 train acc 0.77905 val loss 1.12998 val acc 0.65143\n",
      "--------------------------------------------------------------------------------\n",
      "Epochs 48  train loss 0.74618 train acc 0.78857 val loss 1.13590 val acc 0.66286\n",
      "--------------------------------------------------------------------------------\n",
      "Epochs 49  train loss 0.73914 train acc 0.78730 val loss 1.13161 val acc 0.65714\n",
      "--------------------------------------------------------------------------------\n",
      "Epochs 50  train loss 0.72854 train acc 0.78921 val loss 1.13648 val acc 0.66286\n",
      "--------------------------------------------------------------------------------\n"
     ]
    }
   ],
   "source": [
    "n_epoch = 50\n",
    "\n",
    "net = ThaiDigitNet() # Initialize the model\n",
    "loss_fn = nn.CrossEntropyLoss()\n",
    "optimizer = torch.optim.SGD(net.parameters(), lr=0.01)\n",
    "net, net_history = train(net, n_epoch, loss_fn, optimizer, train_loader, val_loader)"
   ]
  },
  {
   "cell_type": "code",
   "execution_count": null,
   "id": "c1ab188c",
   "metadata": {},
   "outputs": [],
   "source": [
    "# Plot the training accuracy and validation accuracy\n",
    "plt.plot(net_history[\"train_acc\"], label=\"Train\")\n",
    "plt.plot(net_history[\"val_acc\"], label=\"Validation\")\n",
    "plt.legend()\n",
    "plt.title(\"Train accuracy vs Validation accuracy\")\n",
    "plt.show()"
   ]
  },
  {
   "cell_type": "markdown",
   "id": "Z1KkTwVoob4f",
   "metadata": {
    "id": "Z1KkTwVoob4f"
   },
   "source": [
    "## **Save and load model**\n",
    "\n"
   ]
  },
  {
   "cell_type": "code",
   "execution_count": 68,
   "id": "m6eOWaxWobiw",
   "metadata": {
    "id": "m6eOWaxWobiw"
   },
   "outputs": [],
   "source": [
    "save_path = \"thai_digit.pth\"\n",
    "torch.save(net.state_dict(), save_path)  # save model parameters"
   ]
  },
  {
   "cell_type": "code",
   "execution_count": 69,
   "id": "Q9hqeg76o0Ng",
   "metadata": {
    "colab": {
     "base_uri": "https://localhost:8080/"
    },
    "id": "Q9hqeg76o0Ng",
    "outputId": "98e22404-095a-4d41-c57b-4421584f42f1"
   },
   "outputs": [
    {
     "data": {
      "text/plain": [
       "<All keys matched successfully>"
      ]
     },
     "execution_count": 69,
     "metadata": {},
     "output_type": "execute_result"
    }
   ],
   "source": [
    "model_path = \"thai_digit.pth\"\n",
    "model = ThaiDigitNet()  # initialize the model\n",
    "model.load_state_dict(torch.load(model_path))  # load the model weights"
   ]
  },
  {
   "cell_type": "markdown",
   "id": "2a0229f1",
   "metadata": {
    "id": "2a0229f1"
   },
   "source": [
    "## **Evaluate the model**"
   ]
  },
  {
   "cell_type": "code",
   "execution_count": 70,
   "id": "5b41a1c8",
   "metadata": {
    "id": "5b41a1c8"
   },
   "outputs": [],
   "source": [
    "# Create evaluation function for the model\n",
    "def evaluate(dataframe, model):\n",
    "    model.eval()\n",
    "    results = dataframe.copy()\n",
    "    predictions = []\n",
    "    for idx, row in results.iterrows():\n",
    "        img = transform(Image.open(row.path))\n",
    "        pred = model(1 - img)\n",
    "        predictions.append(pred.argmax(1).item())\n",
    "\n",
    "    results[\"prediction\"] = predictions\n",
    "    \n",
    "    # Calculate accuracy\n",
    "    accuracy = len(results[results.prediction == results.text]) / len(results)\n",
    "    print(f\"Accuracy: {accuracy * 100:.2f}%\")\n",
    "    return results"
   ]
  },
  {
   "cell_type": "code",
   "execution_count": 71,
   "id": "mfQO7phtP3zU",
   "metadata": {
    "colab": {
     "base_uri": "https://localhost:8080/",
     "height": 441
    },
    "id": "mfQO7phtP3zU",
    "outputId": "d7f07956-15b1-4196-9e72-7da80cc754bb"
   },
   "outputs": [
    {
     "name": "stdout",
     "output_type": "stream",
     "text": [
      "Accuracy: 66.29%\n"
     ]
    },
    {
     "data": {
      "text/html": [
       "\n",
       "  <div id=\"df-a85143e0-646a-4bd3-82e0-5ecea2811d85\">\n",
       "    <div class=\"colab-df-container\">\n",
       "      <div>\n",
       "<style scoped>\n",
       "    .dataframe tbody tr th:only-of-type {\n",
       "        vertical-align: middle;\n",
       "    }\n",
       "\n",
       "    .dataframe tbody tr th {\n",
       "        vertical-align: top;\n",
       "    }\n",
       "\n",
       "    .dataframe thead th {\n",
       "        text-align: right;\n",
       "    }\n",
       "</style>\n",
       "<table border=\"1\" class=\"dataframe\">\n",
       "  <thead>\n",
       "    <tr style=\"text-align: right;\">\n",
       "      <th></th>\n",
       "      <th>path</th>\n",
       "      <th>text</th>\n",
       "      <th>prediction</th>\n",
       "    </tr>\n",
       "  </thead>\n",
       "  <tbody>\n",
       "    <tr>\n",
       "      <th>0</th>\n",
       "      <td>data/validation/9/40_a69be344-cfe6-4b09-af57-0...</td>\n",
       "      <td>9</td>\n",
       "      <td>9</td>\n",
       "    </tr>\n",
       "    <tr>\n",
       "      <th>1</th>\n",
       "      <td>data/validation/9/445a454e-435a-4e7a-bf57-63ef...</td>\n",
       "      <td>9</td>\n",
       "      <td>9</td>\n",
       "    </tr>\n",
       "    <tr>\n",
       "      <th>2</th>\n",
       "      <td>data/validation/9/5f700dba-fecf-4a3f-b49a-2fad...</td>\n",
       "      <td>9</td>\n",
       "      <td>9</td>\n",
       "    </tr>\n",
       "    <tr>\n",
       "      <th>3</th>\n",
       "      <td>data/validation/9/1fd3d350-d79b-420e-8052-b2a0...</td>\n",
       "      <td>9</td>\n",
       "      <td>4</td>\n",
       "    </tr>\n",
       "    <tr>\n",
       "      <th>4</th>\n",
       "      <td>data/validation/9/f893756e-ed08-47e0-8ed0-4145...</td>\n",
       "      <td>9</td>\n",
       "      <td>9</td>\n",
       "    </tr>\n",
       "    <tr>\n",
       "      <th>...</th>\n",
       "      <td>...</td>\n",
       "      <td>...</td>\n",
       "      <td>...</td>\n",
       "    </tr>\n",
       "    <tr>\n",
       "      <th>170</th>\n",
       "      <td>data/validation/7/fb7a1f69-8fee-46dc-a14c-91ee...</td>\n",
       "      <td>7</td>\n",
       "      <td>9</td>\n",
       "    </tr>\n",
       "    <tr>\n",
       "      <th>171</th>\n",
       "      <td>data/validation/7/376b5857-d33b-4eab-9491-1c34...</td>\n",
       "      <td>7</td>\n",
       "      <td>7</td>\n",
       "    </tr>\n",
       "    <tr>\n",
       "      <th>172</th>\n",
       "      <td>data/validation/7/29_5a1c9814-68a2-418c-b73d-a...</td>\n",
       "      <td>7</td>\n",
       "      <td>7</td>\n",
       "    </tr>\n",
       "    <tr>\n",
       "      <th>173</th>\n",
       "      <td>data/validation/7/37_a78b761e-2039-4755-b5ec-8...</td>\n",
       "      <td>7</td>\n",
       "      <td>7</td>\n",
       "    </tr>\n",
       "    <tr>\n",
       "      <th>174</th>\n",
       "      <td>data/validation/7/37_e88da3e6-11d9-44bc-9021-3...</td>\n",
       "      <td>7</td>\n",
       "      <td>7</td>\n",
       "    </tr>\n",
       "  </tbody>\n",
       "</table>\n",
       "<p>175 rows × 3 columns</p>\n",
       "</div>\n",
       "      <button class=\"colab-df-convert\" onclick=\"convertToInteractive('df-a85143e0-646a-4bd3-82e0-5ecea2811d85')\"\n",
       "              title=\"Convert this dataframe to an interactive table.\"\n",
       "              style=\"display:none;\">\n",
       "        \n",
       "  <svg xmlns=\"http://www.w3.org/2000/svg\" height=\"24px\"viewBox=\"0 0 24 24\"\n",
       "       width=\"24px\">\n",
       "    <path d=\"M0 0h24v24H0V0z\" fill=\"none\"/>\n",
       "    <path d=\"M18.56 5.44l.94 2.06.94-2.06 2.06-.94-2.06-.94-.94-2.06-.94 2.06-2.06.94zm-11 1L8.5 8.5l.94-2.06 2.06-.94-2.06-.94L8.5 2.5l-.94 2.06-2.06.94zm10 10l.94 2.06.94-2.06 2.06-.94-2.06-.94-.94-2.06-.94 2.06-2.06.94z\"/><path d=\"M17.41 7.96l-1.37-1.37c-.4-.4-.92-.59-1.43-.59-.52 0-1.04.2-1.43.59L10.3 9.45l-7.72 7.72c-.78.78-.78 2.05 0 2.83L4 21.41c.39.39.9.59 1.41.59.51 0 1.02-.2 1.41-.59l7.78-7.78 2.81-2.81c.8-.78.8-2.07 0-2.86zM5.41 20L4 18.59l7.72-7.72 1.47 1.35L5.41 20z\"/>\n",
       "  </svg>\n",
       "      </button>\n",
       "      \n",
       "  <style>\n",
       "    .colab-df-container {\n",
       "      display:flex;\n",
       "      flex-wrap:wrap;\n",
       "      gap: 12px;\n",
       "    }\n",
       "\n",
       "    .colab-df-convert {\n",
       "      background-color: #E8F0FE;\n",
       "      border: none;\n",
       "      border-radius: 50%;\n",
       "      cursor: pointer;\n",
       "      display: none;\n",
       "      fill: #1967D2;\n",
       "      height: 32px;\n",
       "      padding: 0 0 0 0;\n",
       "      width: 32px;\n",
       "    }\n",
       "\n",
       "    .colab-df-convert:hover {\n",
       "      background-color: #E2EBFA;\n",
       "      box-shadow: 0px 1px 2px rgba(60, 64, 67, 0.3), 0px 1px 3px 1px rgba(60, 64, 67, 0.15);\n",
       "      fill: #174EA6;\n",
       "    }\n",
       "\n",
       "    [theme=dark] .colab-df-convert {\n",
       "      background-color: #3B4455;\n",
       "      fill: #D2E3FC;\n",
       "    }\n",
       "\n",
       "    [theme=dark] .colab-df-convert:hover {\n",
       "      background-color: #434B5C;\n",
       "      box-shadow: 0px 1px 3px 1px rgba(0, 0, 0, 0.15);\n",
       "      filter: drop-shadow(0px 1px 2px rgba(0, 0, 0, 0.3));\n",
       "      fill: #FFFFFF;\n",
       "    }\n",
       "  </style>\n",
       "\n",
       "      <script>\n",
       "        const buttonEl =\n",
       "          document.querySelector('#df-a85143e0-646a-4bd3-82e0-5ecea2811d85 button.colab-df-convert');\n",
       "        buttonEl.style.display =\n",
       "          google.colab.kernel.accessAllowed ? 'block' : 'none';\n",
       "\n",
       "        async function convertToInteractive(key) {\n",
       "          const element = document.querySelector('#df-a85143e0-646a-4bd3-82e0-5ecea2811d85');\n",
       "          const dataTable =\n",
       "            await google.colab.kernel.invokeFunction('convertToInteractive',\n",
       "                                                     [key], {});\n",
       "          if (!dataTable) return;\n",
       "\n",
       "          const docLinkHtml = 'Like what you see? Visit the ' +\n",
       "            '<a target=\"_blank\" href=https://colab.research.google.com/notebooks/data_table.ipynb>data table notebook</a>'\n",
       "            + ' to learn more about interactive tables.';\n",
       "          element.innerHTML = '';\n",
       "          dataTable['output_type'] = 'display_data';\n",
       "          await google.colab.output.renderOutput(dataTable, element);\n",
       "          const docLink = document.createElement('div');\n",
       "          docLink.innerHTML = docLinkHtml;\n",
       "          element.appendChild(docLink);\n",
       "        }\n",
       "      </script>\n",
       "    </div>\n",
       "  </div>\n",
       "  "
      ],
      "text/plain": [
       "                                                  path  text  prediction\n",
       "0    data/validation/9/40_a69be344-cfe6-4b09-af57-0...     9           9\n",
       "1    data/validation/9/445a454e-435a-4e7a-bf57-63ef...     9           9\n",
       "2    data/validation/9/5f700dba-fecf-4a3f-b49a-2fad...     9           9\n",
       "3    data/validation/9/1fd3d350-d79b-420e-8052-b2a0...     9           4\n",
       "4    data/validation/9/f893756e-ed08-47e0-8ed0-4145...     9           9\n",
       "..                                                 ...   ...         ...\n",
       "170  data/validation/7/fb7a1f69-8fee-46dc-a14c-91ee...     7           9\n",
       "171  data/validation/7/376b5857-d33b-4eab-9491-1c34...     7           7\n",
       "172  data/validation/7/29_5a1c9814-68a2-418c-b73d-a...     7           7\n",
       "173  data/validation/7/37_a78b761e-2039-4755-b5ec-8...     7           7\n",
       "174  data/validation/7/37_e88da3e6-11d9-44bc-9021-3...     7           7\n",
       "\n",
       "[175 rows x 3 columns]"
      ]
     },
     "execution_count": 71,
     "metadata": {},
     "output_type": "execute_result"
    }
   ],
   "source": [
    "evaluate(val_df, model)"
   ]
  },
  {
   "cell_type": "code",
   "execution_count": 73,
   "id": "paULDzBOOkFl",
   "metadata": {
    "colab": {
     "base_uri": "https://localhost:8080/",
     "height": 281
    },
    "id": "paULDzBOOkFl",
    "outputId": "96dce0e6-ce42-45b8-f77a-dd547cbbd92c"
   },
   "outputs": [
    {
     "data": {
      "image/png": "[encoded data removed]",
      "text/plain": [
       "<Figure size 432x288 with 1 Axes>"
      ]
     },
     "metadata": {
      "needs_background": "light"
     },
     "output_type": "display_data"
    }
   ],
   "source": [
    "# Show some random images with their predicted number\n",
    "random_number = random.randint(0, len(val_df))\n",
    "img = Image.open(val_df.iloc[random_number].path)\n",
    "img = transform(img)\n",
    "transformed_img = 1 - img\n",
    "\n",
    "pred = model(transformed_img).argmax(1)\n",
    "plt.title(f\"Predicted class = {pred.numpy()[0]}\")\n",
    "plt.imshow(img.squeeze(0), cmap=\"gray\")\n",
    "plt.show()"
   ]
  },
  {
   "cell_type": "markdown",
   "id": "-F6H4tFLmUCG",
   "metadata": {
    "id": "-F6H4tFLmUCG"
   },
   "source": [
    "## **Train neural netowrk model with more layers**"
   ]
  },
  {
   "cell_type": "code",
   "execution_count": 74,
   "id": "IHMQhUJCg6QU",
   "metadata": {
    "id": "IHMQhUJCg6QU"
   },
   "outputs": [],
   "source": [
    "class ThaiDigitMoreLayers(nn.Module):\n",
    "    def __init__(self):\n",
    "        super(ThaiDigitMoreLayers, self).__init__()\n",
    "        self.layers = nn.Sequential(\n",
    "          \n",
    "          nn.Linear(28*28, 392),\n",
    "          nn.ReLU(),\n",
    "          nn.Linear(392, 196),\n",
    "          nn.ReLU(),\n",
    "          nn.Linear(196, 98),\n",
    "          nn.ReLU(),\n",
    "          nn.Linear(98, 10),\n",
    "        )\n",
    "\n",
    "    def forward(self, x):\n",
    "        x = x.view(-1, 28 * 28)\n",
    "        return self.layers(x)\n",
    "  "
   ]
  },
  {
   "cell_type": "code",
   "execution_count": 78,
   "id": "DzfL2z4tkrYb",
   "metadata": {
    "colab": {
     "base_uri": "https://localhost:8080/"
    },
    "id": "DzfL2z4tkrYb",
    "outputId": "4eeb1771-c3d0-4b92-906b-017e3be419b0"
   },
   "outputs": [
    {
     "name": "stdout",
     "output_type": "stream",
     "text": [
      "--------------------------------------------------------------------------------\n",
      "Epochs 1   train loss 2.30362 train acc 0.12571 val loss 2.29841 val acc 0.12000\n",
      "--------------------------------------------------------------------------------\n",
      "Epochs 2   train loss 2.30173 train acc 0.12825 val loss 2.29756 val acc 0.14857\n",
      "--------------------------------------------------------------------------------\n",
      "Epochs 3   train loss 2.29981 train acc 0.14603 val loss 2.29643 val acc 0.14857\n",
      "--------------------------------------------------------------------------------\n",
      "Epochs 4   train loss 2.29796 train acc 0.14984 val loss 2.29513 val acc 0.14857\n",
      "--------------------------------------------------------------------------------\n",
      "Epochs 5   train loss 2.29569 train acc 0.16190 val loss 2.29342 val acc 0.15429\n",
      "--------------------------------------------------------------------------------\n",
      "Epochs 6   train loss 2.29332 train acc 0.15492 val loss 2.29164 val acc 0.16000\n",
      "--------------------------------------------------------------------------------\n",
      "Epochs 7   train loss 2.29047 train acc 0.16508 val loss 2.28920 val acc 0.18286\n",
      "--------------------------------------------------------------------------------\n",
      "Epochs 8   train loss 2.28711 train acc 0.19873 val loss 2.28605 val acc 0.20000\n",
      "--------------------------------------------------------------------------------\n",
      "Epochs 9   train loss 2.28325 train acc 0.23619 val loss 2.28199 val acc 0.22286\n",
      "--------------------------------------------------------------------------------\n",
      "Epochs 10  train loss 2.27801 train acc 0.28508 val loss 2.27661 val acc 0.28571\n",
      "--------------------------------------------------------------------------------\n",
      "Epochs 11  train loss 2.27158 train acc 0.33397 val loss 2.26927 val acc 0.36000\n",
      "--------------------------------------------------------------------------------\n",
      "Epochs 12  train loss 2.26289 train acc 0.37714 val loss 2.25982 val acc 0.37714\n",
      "--------------------------------------------------------------------------------\n",
      "Epochs 13  train loss 2.25172 train acc 0.37968 val loss 2.24643 val acc 0.38286\n",
      "--------------------------------------------------------------------------------\n",
      "Epochs 14  train loss 2.23605 train acc 0.37587 val loss 2.22810 val acc 0.38286\n",
      "--------------------------------------------------------------------------------\n",
      "Epochs 15  train loss 2.21373 train acc 0.35746 val loss 2.20186 val acc 0.33714\n",
      "--------------------------------------------------------------------------------\n",
      "Epochs 16  train loss 2.18237 train acc 0.34857 val loss 2.16474 val acc 0.30857\n",
      "--------------------------------------------------------------------------------\n",
      "Epochs 17  train loss 2.13668 train acc 0.33397 val loss 2.11258 val acc 0.29714\n",
      "--------------------------------------------------------------------------------\n",
      "Epochs 18  train loss 2.07610 train acc 0.33524 val loss 2.04524 val acc 0.32000\n",
      "--------------------------------------------------------------------------------\n",
      "Epochs 19  train loss 1.99917 train acc 0.33143 val loss 1.96747 val acc 0.34857\n",
      "--------------------------------------------------------------------------------\n",
      "Epochs 20  train loss 1.91526 train acc 0.34603 val loss 1.88712 val acc 0.35429\n",
      "--------------------------------------------------------------------------------\n",
      "Epochs 21  train loss 1.82501 train acc 0.38286 val loss 1.79596 val acc 0.41714\n",
      "--------------------------------------------------------------------------------\n",
      "Epochs 22  train loss 1.73200 train acc 0.42222 val loss 1.71702 val acc 0.46286\n",
      "--------------------------------------------------------------------------------\n",
      "Epochs 23  train loss 1.63083 train acc 0.46730 val loss 1.61292 val acc 0.50286\n",
      "--------------------------------------------------------------------------------\n",
      "Epochs 24  train loss 1.52218 train acc 0.51810 val loss 1.51535 val acc 0.52571\n",
      "--------------------------------------------------------------------------------\n",
      "Epochs 25  train loss 1.42411 train acc 0.54984 val loss 1.45125 val acc 0.54286\n",
      "--------------------------------------------------------------------------------\n",
      "Epochs 26  train loss 1.34029 train acc 0.58095 val loss 1.39335 val acc 0.54857\n",
      "--------------------------------------------------------------------------------\n",
      "Epochs 27  train loss 1.27122 train acc 0.60127 val loss 1.33853 val acc 0.57143\n",
      "--------------------------------------------------------------------------------\n",
      "Epochs 28  train loss 1.21507 train acc 0.62159 val loss 1.30490 val acc 0.57714\n",
      "--------------------------------------------------------------------------------\n",
      "Epochs 29  train loss 1.17131 train acc 0.63175 val loss 1.30518 val acc 0.57143\n",
      "--------------------------------------------------------------------------------\n",
      "Epochs 30  train loss 1.13304 train acc 0.63429 val loss 1.26801 val acc 0.59429\n",
      "--------------------------------------------------------------------------------\n",
      "Epochs 31  train loss 1.10050 train acc 0.66667 val loss 1.24704 val acc 0.60571\n",
      "--------------------------------------------------------------------------------\n",
      "Epochs 32  train loss 1.06965 train acc 0.65778 val loss 1.23957 val acc 0.61714\n",
      "--------------------------------------------------------------------------------\n",
      "Epochs 33  train loss 1.03687 train acc 0.67937 val loss 1.22421 val acc 0.59429\n",
      "--------------------------------------------------------------------------------\n",
      "Epochs 34  train loss 1.01212 train acc 0.66857 val loss 1.19948 val acc 0.61714\n",
      "--------------------------------------------------------------------------------\n",
      "Epochs 35  train loss 0.97846 train acc 0.68698 val loss 1.18283 val acc 0.65143\n",
      "--------------------------------------------------------------------------------\n",
      "Epochs 36  train loss 0.94620 train acc 0.69397 val loss 1.23315 val acc 0.62857\n",
      "--------------------------------------------------------------------------------\n",
      "Epochs 37  train loss 0.92121 train acc 0.70794 val loss 1.16338 val acc 0.66857\n",
      "--------------------------------------------------------------------------------\n",
      "Epochs 38  train loss 0.89380 train acc 0.71302 val loss 1.17176 val acc 0.64571\n",
      "--------------------------------------------------------------------------------\n",
      "Epochs 39  train loss 0.87197 train acc 0.71683 val loss 1.14382 val acc 0.66857\n",
      "--------------------------------------------------------------------------------\n",
      "Epochs 40  train loss 0.83793 train acc 0.73397 val loss 1.13484 val acc 0.66857\n",
      "--------------------------------------------------------------------------------\n",
      "Epochs 41  train loss 0.81246 train acc 0.73460 val loss 1.13809 val acc 0.66286\n",
      "--------------------------------------------------------------------------------\n",
      "Epochs 42  train loss 0.78549 train acc 0.75238 val loss 1.12325 val acc 0.63429\n",
      "--------------------------------------------------------------------------------\n",
      "Epochs 43  train loss 0.76191 train acc 0.75746 val loss 1.11431 val acc 0.65143\n",
      "--------------------------------------------------------------------------------\n",
      "Epochs 44  train loss 0.72783 train acc 0.76952 val loss 1.13234 val acc 0.65714\n",
      "--------------------------------------------------------------------------------\n",
      "Epochs 45  train loss 0.70800 train acc 0.77651 val loss 1.09403 val acc 0.68571\n",
      "--------------------------------------------------------------------------------\n",
      "Epochs 46  train loss 0.68768 train acc 0.78984 val loss 1.09761 val acc 0.68571\n",
      "--------------------------------------------------------------------------------\n",
      "Epochs 47  train loss 0.65449 train acc 0.80063 val loss 1.07903 val acc 0.68000\n",
      "--------------------------------------------------------------------------------\n",
      "Epochs 48  train loss 0.63643 train acc 0.79683 val loss 1.12184 val acc 0.68000\n",
      "--------------------------------------------------------------------------------\n",
      "Epochs 49  train loss 0.61128 train acc 0.80571 val loss 1.17746 val acc 0.66286\n",
      "--------------------------------------------------------------------------------\n",
      "Epochs 50  train loss 0.59027 train acc 0.81841 val loss 1.16937 val acc 0.66286\n",
      "--------------------------------------------------------------------------------\n"
     ]
    }
   ],
   "source": [
    "n_epochs = 50\n",
    "\n",
    "more_layers_model = ThaiDigitMoreLayers()\n",
    "loss_fn = nn.CrossEntropyLoss()\n",
    "optimizer = torch.optim.SGD(more_layers_model.parameters(), lr=0.01)\n",
    "\n",
    "more_layers_model, more_layers_model_history = train(\n",
    "    more_layers_model, n_epochs, loss_fn, optimizer, train_loader, val_loader\n",
    ")\n"
   ]
  },
  {
   "cell_type": "code",
   "execution_count": 80,
   "id": "bVYRwfYHkluE",
   "metadata": {
    "colab": {
     "base_uri": "https://localhost:8080/",
     "height": 441
    },
    "id": "bVYRwfYHkluE",
    "outputId": "5a22e4e8-da70-4bb1-891b-3d1515f4f7c2"
   },
   "outputs": [
    {
     "name": "stdout",
     "output_type": "stream",
     "text": [
      "Accuracy: 66.29%\n"
     ]
    },
    {
     "data": {
      "text/html": [
       "\n",
       "  <div id=\"df-290b94aa-a5c8-4ad9-9cc7-749d755dd2d4\">\n",
       "    <div class=\"colab-df-container\">\n",
       "      <div>\n",
       "<style scoped>\n",
       "    .dataframe tbody tr th:only-of-type {\n",
       "        vertical-align: middle;\n",
       "    }\n",
       "\n",
       "    .dataframe tbody tr th {\n",
       "        vertical-align: top;\n",
       "    }\n",
       "\n",
       "    .dataframe thead th {\n",
       "        text-align: right;\n",
       "    }\n",
       "</style>\n",
       "<table border=\"1\" class=\"dataframe\">\n",
       "  <thead>\n",
       "    <tr style=\"text-align: right;\">\n",
       "      <th></th>\n",
       "      <th>path</th>\n",
       "      <th>text</th>\n",
       "      <th>prediction</th>\n",
       "    </tr>\n",
       "  </thead>\n",
       "  <tbody>\n",
       "    <tr>\n",
       "      <th>0</th>\n",
       "      <td>data/validation/9/40_a69be344-cfe6-4b09-af57-0...</td>\n",
       "      <td>9</td>\n",
       "      <td>9</td>\n",
       "    </tr>\n",
       "    <tr>\n",
       "      <th>1</th>\n",
       "      <td>data/validation/9/445a454e-435a-4e7a-bf57-63ef...</td>\n",
       "      <td>9</td>\n",
       "      <td>9</td>\n",
       "    </tr>\n",
       "    <tr>\n",
       "      <th>2</th>\n",
       "      <td>data/validation/9/5f700dba-fecf-4a3f-b49a-2fad...</td>\n",
       "      <td>9</td>\n",
       "      <td>9</td>\n",
       "    </tr>\n",
       "    <tr>\n",
       "      <th>3</th>\n",
       "      <td>data/validation/9/1fd3d350-d79b-420e-8052-b2a0...</td>\n",
       "      <td>9</td>\n",
       "      <td>4</td>\n",
       "    </tr>\n",
       "    <tr>\n",
       "      <th>4</th>\n",
       "      <td>data/validation/9/f893756e-ed08-47e0-8ed0-4145...</td>\n",
       "      <td>9</td>\n",
       "      <td>9</td>\n",
       "    </tr>\n",
       "    <tr>\n",
       "      <th>...</th>\n",
       "      <td>...</td>\n",
       "      <td>...</td>\n",
       "      <td>...</td>\n",
       "    </tr>\n",
       "    <tr>\n",
       "      <th>170</th>\n",
       "      <td>data/validation/7/fb7a1f69-8fee-46dc-a14c-91ee...</td>\n",
       "      <td>7</td>\n",
       "      <td>9</td>\n",
       "    </tr>\n",
       "    <tr>\n",
       "      <th>171</th>\n",
       "      <td>data/validation/7/376b5857-d33b-4eab-9491-1c34...</td>\n",
       "      <td>7</td>\n",
       "      <td>7</td>\n",
       "    </tr>\n",
       "    <tr>\n",
       "      <th>172</th>\n",
       "      <td>data/validation/7/29_5a1c9814-68a2-418c-b73d-a...</td>\n",
       "      <td>7</td>\n",
       "      <td>7</td>\n",
       "    </tr>\n",
       "    <tr>\n",
       "      <th>173</th>\n",
       "      <td>data/validation/7/37_a78b761e-2039-4755-b5ec-8...</td>\n",
       "      <td>7</td>\n",
       "      <td>7</td>\n",
       "    </tr>\n",
       "    <tr>\n",
       "      <th>174</th>\n",
       "      <td>data/validation/7/37_e88da3e6-11d9-44bc-9021-3...</td>\n",
       "      <td>7</td>\n",
       "      <td>7</td>\n",
       "    </tr>\n",
       "  </tbody>\n",
       "</table>\n",
       "<p>175 rows × 3 columns</p>\n",
       "</div>\n",
       "      <button class=\"colab-df-convert\" onclick=\"convertToInteractive('df-290b94aa-a5c8-4ad9-9cc7-749d755dd2d4')\"\n",
       "              title=\"Convert this dataframe to an interactive table.\"\n",
       "              style=\"display:none;\">\n",
       "        \n",
       "  <svg xmlns=\"http://www.w3.org/2000/svg\" height=\"24px\"viewBox=\"0 0 24 24\"\n",
       "       width=\"24px\">\n",
       "    <path d=\"M0 0h24v24H0V0z\" fill=\"none\"/>\n",
       "    <path d=\"M18.56 5.44l.94 2.06.94-2.06 2.06-.94-2.06-.94-.94-2.06-.94 2.06-2.06.94zm-11 1L8.5 8.5l.94-2.06 2.06-.94-2.06-.94L8.5 2.5l-.94 2.06-2.06.94zm10 10l.94 2.06.94-2.06 2.06-.94-2.06-.94-.94-2.06-.94 2.06-2.06.94z\"/><path d=\"M17.41 7.96l-1.37-1.37c-.4-.4-.92-.59-1.43-.59-.52 0-1.04.2-1.43.59L10.3 9.45l-7.72 7.72c-.78.78-.78 2.05 0 2.83L4 21.41c.39.39.9.59 1.41.59.51 0 1.02-.2 1.41-.59l7.78-7.78 2.81-2.81c.8-.78.8-2.07 0-2.86zM5.41 20L4 18.59l7.72-7.72 1.47 1.35L5.41 20z\"/>\n",
       "  </svg>\n",
       "      </button>\n",
       "      \n",
       "  <style>\n",
       "    .colab-df-container {\n",
       "      display:flex;\n",
       "      flex-wrap:wrap;\n",
       "      gap: 12px;\n",
       "    }\n",
       "\n",
       "    .colab-df-convert {\n",
       "      background-color: #E8F0FE;\n",
       "      border: none;\n",
       "      border-radius: 50%;\n",
       "      cursor: pointer;\n",
       "      display: none;\n",
       "      fill: #1967D2;\n",
       "      height: 32px;\n",
       "      padding: 0 0 0 0;\n",
       "      width: 32px;\n",
       "    }\n",
       "\n",
       "    .colab-df-convert:hover {\n",
       "      background-color: #E2EBFA;\n",
       "      box-shadow: 0px 1px 2px rgba(60, 64, 67, 0.3), 0px 1px 3px 1px rgba(60, 64, 67, 0.15);\n",
       "      fill: #174EA6;\n",
       "    }\n",
       "\n",
       "    [theme=dark] .colab-df-convert {\n",
       "      background-color: #3B4455;\n",
       "      fill: #D2E3FC;\n",
       "    }\n",
       "\n",
       "    [theme=dark] .colab-df-convert:hover {\n",
       "      background-color: #434B5C;\n",
       "      box-shadow: 0px 1px 3px 1px rgba(0, 0, 0, 0.15);\n",
       "      filter: drop-shadow(0px 1px 2px rgba(0, 0, 0, 0.3));\n",
       "      fill: #FFFFFF;\n",
       "    }\n",
       "  </style>\n",
       "\n",
       "      <script>\n",
       "        const buttonEl =\n",
       "          document.querySelector('#df-290b94aa-a5c8-4ad9-9cc7-749d755dd2d4 button.colab-df-convert');\n",
       "        buttonEl.style.display =\n",
       "          google.colab.kernel.accessAllowed ? 'block' : 'none';\n",
       "\n",
       "        async function convertToInteractive(key) {\n",
       "          const element = document.querySelector('#df-290b94aa-a5c8-4ad9-9cc7-749d755dd2d4');\n",
       "          const dataTable =\n",
       "            await google.colab.kernel.invokeFunction('convertToInteractive',\n",
       "                                                     [key], {});\n",
       "          if (!dataTable) return;\n",
       "\n",
       "          const docLinkHtml = 'Like what you see? Visit the ' +\n",
       "            '<a target=\"_blank\" href=https://colab.research.google.com/notebooks/data_table.ipynb>data table notebook</a>'\n",
       "            + ' to learn more about interactive tables.';\n",
       "          element.innerHTML = '';\n",
       "          dataTable['output_type'] = 'display_data';\n",
       "          await google.colab.output.renderOutput(dataTable, element);\n",
       "          const docLink = document.createElement('div');\n",
       "          docLink.innerHTML = docLinkHtml;\n",
       "          element.appendChild(docLink);\n",
       "        }\n",
       "      </script>\n",
       "    </div>\n",
       "  </div>\n",
       "  "
      ],
      "text/plain": [
       "                                                  path  text  prediction\n",
       "0    data/validation/9/40_a69be344-cfe6-4b09-af57-0...     9           9\n",
       "1    data/validation/9/445a454e-435a-4e7a-bf57-63ef...     9           9\n",
       "2    data/validation/9/5f700dba-fecf-4a3f-b49a-2fad...     9           9\n",
       "3    data/validation/9/1fd3d350-d79b-420e-8052-b2a0...     9           4\n",
       "4    data/validation/9/f893756e-ed08-47e0-8ed0-4145...     9           9\n",
       "..                                                 ...   ...         ...\n",
       "170  data/validation/7/fb7a1f69-8fee-46dc-a14c-91ee...     7           9\n",
       "171  data/validation/7/376b5857-d33b-4eab-9491-1c34...     7           7\n",
       "172  data/validation/7/29_5a1c9814-68a2-418c-b73d-a...     7           7\n",
       "173  data/validation/7/37_a78b761e-2039-4755-b5ec-8...     7           7\n",
       "174  data/validation/7/37_e88da3e6-11d9-44bc-9021-3...     7           7\n",
       "\n",
       "[175 rows x 3 columns]"
      ]
     },
     "execution_count": 80,
     "metadata": {},
     "output_type": "execute_result"
    }
   ],
   "source": [
    "evaluate(val_df, more_layers_model)"
   ]
  },
  {
   "cell_type": "markdown",
   "id": "D1TvQxG_mZSs",
   "metadata": {
    "id": "D1TvQxG_mZSs"
   },
   "source": [
    "## **Error analysis**"
   ]
  },
  {
   "cell_type": "code",
   "execution_count": 100,
   "id": "msBnIuLAmeAM",
   "metadata": {
    "colab": {
     "base_uri": "https://localhost:8080/",
     "height": 281
    },
    "id": "msBnIuLAmeAM",
    "outputId": "6c78a4ba-05c0-4993-c00b-043778a66e1b"
   },
   "outputs": [
    {
     "data": {
      "image/png": "[encoded data removed]",
      "text/plain": [
       "<Figure size 432x288 with 1 Axes>"
      ]
     },
     "metadata": {
      "needs_background": "light"
     },
     "output_type": "display_data"
    }
   ],
   "source": [
    "# Plot the training accuracy and validation accuracy\n",
    "plt.plot(net_history[\"train_acc\"], label=\"Train\")\n",
    "plt.plot(net_history[\"val_acc\"], label=\"Validation\")\n",
    "plt.legend()\n",
    "plt.title(\"Train accuracy vs Validation accuracy\")\n",
    "plt.show()"
   ]
  },
  {
   "cell_type": "code",
   "execution_count": 102,
   "id": "iBmb3HOYxwoP",
   "metadata": {
    "colab": {
     "base_uri": "https://localhost:8080/",
     "height": 281
    },
    "id": "iBmb3HOYxwoP",
    "outputId": "6a744072-3421-427e-a8fa-858e9d5481be"
   },
   "outputs": [
    {
     "data": {
      "image/png": "[encoded data removed]",
      "text/plain": [
       "<Figure size 432x288 with 1 Axes>"
      ]
     },
     "metadata": {
      "needs_background": "light"
     },
     "output_type": "display_data"
    }
   ],
   "source": [
    "# Plot the training loss and validation loss\n",
    "plt.plot(net_history[\"train_loss\"], label=\"Train\")\n",
    "plt.plot(net_history[\"val_loss\"], label=\"Validation\")\n",
    "plt.legend()\n",
    "plt.title(\"Train loss vs Validation loss\")\n",
    "plt.show()"
   ]
  },
  {
   "cell_type": "markdown",
   "id": "43ccb6fc",
   "metadata": {},
   "source": [
    "The training accuracy of the model is higher than the validation accuracy.\n",
    "This means that the model is overfitting the training data.\n",
    "We can try to reduce the overfitting by adding regularization ."
   ]
  },
  {
   "cell_type": "markdown",
   "id": "65fb58d7",
   "metadata": {
    "id": "65fb58d7"
   },
   "source": [
    "## **Regularization with Dropout**\n",
    "\n",
    "Dropout is one of the techniques used to prevent overfitting"
   ]
  },
  {
   "cell_type": "code",
   "execution_count": 103,
   "id": "a8e819c7",
   "metadata": {
    "id": "a8e819c7"
   },
   "outputs": [],
   "source": [
    "class DropoutThaiDigit(nn.Module):\n",
    "    def __init__(self):\n",
    "        super(DropoutThaiDigit, self).__init__()\n",
    "        self.fc1 = nn.Linear(28 * 28, 100)\n",
    "        self.fc2 = nn.Linear(100, 10)\n",
    "        self.dropout = nn.Dropout(0.25)\n",
    "\n",
    "    def forward(self, x):\n",
    "        x = x.view(-1, 28 * 28)\n",
    "        x = self.fc1(x)\n",
    "        x = F.relu(x)\n",
    "        x = self.dropout(x)\n",
    "        x = self.fc2(x)\n",
    "        return x"
   ]
  },
  {
   "cell_type": "code",
   "execution_count": 105,
   "id": "a832fd9d",
   "metadata": {
    "colab": {
     "base_uri": "https://localhost:8080/"
    },
    "id": "a832fd9d",
    "outputId": "fb293904-8ace-49a4-9ed3-888c9290db63"
   },
   "outputs": [
    {
     "name": "stdout",
     "output_type": "stream",
     "text": [
      "--------------------------------------------------------------------------------\n",
      "Epochs 1   train loss 2.29184 train acc 0.13016 val loss 2.27692 val acc 0.18286\n",
      "--------------------------------------------------------------------------------\n",
      "Epochs 2   train loss 2.25714 train acc 0.22921 val loss 2.24391 val acc 0.30286\n",
      "--------------------------------------------------------------------------------\n",
      "Epochs 3   train loss 2.21415 train acc 0.29333 val loss 2.20136 val acc 0.33714\n",
      "--------------------------------------------------------------------------------\n",
      "Epochs 4   train loss 2.16099 train acc 0.34857 val loss 2.14693 val acc 0.34857\n",
      "--------------------------------------------------------------------------------\n",
      "Epochs 5   train loss 2.09564 train acc 0.37714 val loss 2.08029 val acc 0.37714\n",
      "--------------------------------------------------------------------------------\n",
      "Epochs 6   train loss 2.02149 train acc 0.41524 val loss 2.00248 val acc 0.41714\n",
      "--------------------------------------------------------------------------------\n",
      "Epochs 7   train loss 1.93522 train acc 0.46413 val loss 1.91672 val acc 0.48000\n",
      "--------------------------------------------------------------------------------\n",
      "Epochs 8   train loss 1.84586 train acc 0.47937 val loss 1.83370 val acc 0.49143\n",
      "--------------------------------------------------------------------------------\n",
      "Epochs 9   train loss 1.75847 train acc 0.51175 val loss 1.74918 val acc 0.53143\n",
      "--------------------------------------------------------------------------------\n",
      "Epochs 10  train loss 1.67561 train acc 0.52698 val loss 1.67305 val acc 0.53714\n",
      "--------------------------------------------------------------------------------\n",
      "Epochs 11  train loss 1.60361 train acc 0.52698 val loss 1.61090 val acc 0.57143\n",
      "--------------------------------------------------------------------------------\n",
      "Epochs 12  train loss 1.53661 train acc 0.55556 val loss 1.55605 val acc 0.56000\n",
      "--------------------------------------------------------------------------------\n",
      "Epochs 13  train loss 1.46601 train acc 0.57841 val loss 1.50296 val acc 0.57143\n",
      "--------------------------------------------------------------------------------\n",
      "Epochs 14  train loss 1.41623 train acc 0.58603 val loss 1.46108 val acc 0.57714\n",
      "--------------------------------------------------------------------------------\n",
      "Epochs 15  train loss 1.38280 train acc 0.58921 val loss 1.42806 val acc 0.61714\n",
      "--------------------------------------------------------------------------------\n",
      "Epochs 16  train loss 1.33583 train acc 0.61143 val loss 1.39294 val acc 0.61143\n",
      "--------------------------------------------------------------------------------\n",
      "Epochs 17  train loss 1.29930 train acc 0.61397 val loss 1.36927 val acc 0.63429\n",
      "--------------------------------------------------------------------------------\n",
      "Epochs 18  train loss 1.27010 train acc 0.62349 val loss 1.34995 val acc 0.61714\n",
      "--------------------------------------------------------------------------------\n",
      "Epochs 19  train loss 1.24387 train acc 0.62794 val loss 1.32495 val acc 0.61143\n",
      "--------------------------------------------------------------------------------\n",
      "Epochs 20  train loss 1.21161 train acc 0.64571 val loss 1.31407 val acc 0.61714\n",
      "--------------------------------------------------------------------------------\n",
      "Epochs 21  train loss 1.19689 train acc 0.64190 val loss 1.29884 val acc 0.62286\n",
      "--------------------------------------------------------------------------------\n",
      "Epochs 22  train loss 1.17324 train acc 0.64381 val loss 1.27912 val acc 0.61714\n",
      "--------------------------------------------------------------------------------\n",
      "Epochs 23  train loss 1.14787 train acc 0.65714 val loss 1.26543 val acc 0.63429\n",
      "--------------------------------------------------------------------------------\n",
      "Epochs 24  train loss 1.13495 train acc 0.65333 val loss 1.25348 val acc 0.63429\n",
      "--------------------------------------------------------------------------------\n",
      "Epochs 25  train loss 1.12406 train acc 0.66349 val loss 1.24668 val acc 0.63429\n",
      "--------------------------------------------------------------------------------\n",
      "Epochs 26  train loss 1.09984 train acc 0.66603 val loss 1.23956 val acc 0.62857\n",
      "--------------------------------------------------------------------------------\n",
      "Epochs 27  train loss 1.07030 train acc 0.67746 val loss 1.23045 val acc 0.64000\n",
      "--------------------------------------------------------------------------------\n",
      "Epochs 28  train loss 1.05902 train acc 0.67365 val loss 1.22115 val acc 0.64571\n",
      "--------------------------------------------------------------------------------\n",
      "Epochs 29  train loss 1.05429 train acc 0.67429 val loss 1.21123 val acc 0.64571\n",
      "--------------------------------------------------------------------------------\n",
      "Epochs 30  train loss 1.04967 train acc 0.67810 val loss 1.20092 val acc 0.64000\n",
      "--------------------------------------------------------------------------------\n",
      "Epochs 31  train loss 1.03306 train acc 0.67746 val loss 1.20027 val acc 0.63429\n",
      "--------------------------------------------------------------------------------\n",
      "Epochs 32  train loss 1.00822 train acc 0.69714 val loss 1.19071 val acc 0.63429\n",
      "--------------------------------------------------------------------------------\n",
      "Epochs 33  train loss 0.99221 train acc 0.70349 val loss 1.18892 val acc 0.64571\n",
      "--------------------------------------------------------------------------------\n",
      "Epochs 34  train loss 0.97236 train acc 0.70921 val loss 1.17485 val acc 0.64571\n",
      "--------------------------------------------------------------------------------\n",
      "Epochs 35  train loss 0.95377 train acc 0.71365 val loss 1.17575 val acc 0.64000\n",
      "--------------------------------------------------------------------------------\n",
      "Epochs 36  train loss 0.96397 train acc 0.70603 val loss 1.16456 val acc 0.64000\n",
      "--------------------------------------------------------------------------------\n",
      "Epochs 37  train loss 0.95536 train acc 0.71238 val loss 1.15983 val acc 0.65143\n",
      "--------------------------------------------------------------------------------\n",
      "Epochs 38  train loss 0.94455 train acc 0.71556 val loss 1.15501 val acc 0.64571\n",
      "--------------------------------------------------------------------------------\n",
      "Epochs 39  train loss 0.91509 train acc 0.72762 val loss 1.15513 val acc 0.64000\n",
      "--------------------------------------------------------------------------------\n",
      "Epochs 40  train loss 0.90280 train acc 0.72952 val loss 1.14478 val acc 0.64571\n",
      "--------------------------------------------------------------------------------\n",
      "Epochs 41  train loss 0.90340 train acc 0.73460 val loss 1.14751 val acc 0.64571\n",
      "--------------------------------------------------------------------------------\n",
      "Epochs 42  train loss 0.88860 train acc 0.72952 val loss 1.13500 val acc 0.64571\n",
      "--------------------------------------------------------------------------------\n",
      "Epochs 43  train loss 0.88228 train acc 0.73397 val loss 1.13134 val acc 0.64571\n",
      "--------------------------------------------------------------------------------\n",
      "Epochs 44  train loss 0.87756 train acc 0.74476 val loss 1.13212 val acc 0.64000\n",
      "--------------------------------------------------------------------------------\n",
      "Epochs 45  train loss 0.86761 train acc 0.73651 val loss 1.12470 val acc 0.65143\n",
      "--------------------------------------------------------------------------------\n",
      "Epochs 46  train loss 0.85080 train acc 0.74286 val loss 1.12624 val acc 0.65143\n",
      "--------------------------------------------------------------------------------\n",
      "Epochs 47  train loss 0.84829 train acc 0.74222 val loss 1.12211 val acc 0.66286\n",
      "--------------------------------------------------------------------------------\n",
      "Epochs 48  train loss 0.83438 train acc 0.74921 val loss 1.11932 val acc 0.65714\n",
      "--------------------------------------------------------------------------------\n",
      "Epochs 49  train loss 0.83641 train acc 0.74794 val loss 1.11811 val acc 0.66286\n",
      "--------------------------------------------------------------------------------\n",
      "Epochs 50  train loss 0.80935 train acc 0.75619 val loss 1.11572 val acc 0.65714\n",
      "--------------------------------------------------------------------------------\n"
     ]
    }
   ],
   "source": [
    "n_epochs = 50\n",
    "drop_model = DropoutThaiDigit()  # Initialize a model\n",
    "loss_fn = nn.CrossEntropyLoss()\n",
    "optimizer = torch.optim.SGD(drop_model.parameters(), lr=0.01)\n",
    "\n",
    "drop_model, drop_model_history = train(drop_model, n_epochs, loss_fn, optimizer, train_loader, val_loader)"
   ]
  },
  {
   "cell_type": "code",
   "execution_count": 106,
   "id": "fa154266",
   "metadata": {
    "colab": {
     "base_uri": "https://localhost:8080/",
     "height": 441
    },
    "id": "fa154266",
    "outputId": "c428b184-656d-4bf1-ae94-fcd16e5d26b2"
   },
   "outputs": [
    {
     "name": "stdout",
     "output_type": "stream",
     "text": [
      "Accuracy: 65.71%\n"
     ]
    },
    {
     "data": {
      "text/html": [
       "\n",
       "  <div id=\"df-c974e7b7-62cd-49b5-b7f0-0b2920b6e3c7\">\n",
       "    <div class=\"colab-df-container\">\n",
       "      <div>\n",
       "<style scoped>\n",
       "    .dataframe tbody tr th:only-of-type {\n",
       "        vertical-align: middle;\n",
       "    }\n",
       "\n",
       "    .dataframe tbody tr th {\n",
       "        vertical-align: top;\n",
       "    }\n",
       "\n",
       "    .dataframe thead th {\n",
       "        text-align: right;\n",
       "    }\n",
       "</style>\n",
       "<table border=\"1\" class=\"dataframe\">\n",
       "  <thead>\n",
       "    <tr style=\"text-align: right;\">\n",
       "      <th></th>\n",
       "      <th>path</th>\n",
       "      <th>text</th>\n",
       "      <th>prediction</th>\n",
       "    </tr>\n",
       "  </thead>\n",
       "  <tbody>\n",
       "    <tr>\n",
       "      <th>0</th>\n",
       "      <td>data/validation/9/40_a69be344-cfe6-4b09-af57-0...</td>\n",
       "      <td>9</td>\n",
       "      <td>9</td>\n",
       "    </tr>\n",
       "    <tr>\n",
       "      <th>1</th>\n",
       "      <td>data/validation/9/445a454e-435a-4e7a-bf57-63ef...</td>\n",
       "      <td>9</td>\n",
       "      <td>9</td>\n",
       "    </tr>\n",
       "    <tr>\n",
       "      <th>2</th>\n",
       "      <td>data/validation/9/5f700dba-fecf-4a3f-b49a-2fad...</td>\n",
       "      <td>9</td>\n",
       "      <td>9</td>\n",
       "    </tr>\n",
       "    <tr>\n",
       "      <th>3</th>\n",
       "      <td>data/validation/9/1fd3d350-d79b-420e-8052-b2a0...</td>\n",
       "      <td>9</td>\n",
       "      <td>4</td>\n",
       "    </tr>\n",
       "    <tr>\n",
       "      <th>4</th>\n",
       "      <td>data/validation/9/f893756e-ed08-47e0-8ed0-4145...</td>\n",
       "      <td>9</td>\n",
       "      <td>9</td>\n",
       "    </tr>\n",
       "    <tr>\n",
       "      <th>...</th>\n",
       "      <td>...</td>\n",
       "      <td>...</td>\n",
       "      <td>...</td>\n",
       "    </tr>\n",
       "    <tr>\n",
       "      <th>170</th>\n",
       "      <td>data/validation/7/fb7a1f69-8fee-46dc-a14c-91ee...</td>\n",
       "      <td>7</td>\n",
       "      <td>9</td>\n",
       "    </tr>\n",
       "    <tr>\n",
       "      <th>171</th>\n",
       "      <td>data/validation/7/376b5857-d33b-4eab-9491-1c34...</td>\n",
       "      <td>7</td>\n",
       "      <td>7</td>\n",
       "    </tr>\n",
       "    <tr>\n",
       "      <th>172</th>\n",
       "      <td>data/validation/7/29_5a1c9814-68a2-418c-b73d-a...</td>\n",
       "      <td>7</td>\n",
       "      <td>7</td>\n",
       "    </tr>\n",
       "    <tr>\n",
       "      <th>173</th>\n",
       "      <td>data/validation/7/37_a78b761e-2039-4755-b5ec-8...</td>\n",
       "      <td>7</td>\n",
       "      <td>7</td>\n",
       "    </tr>\n",
       "    <tr>\n",
       "      <th>174</th>\n",
       "      <td>data/validation/7/37_e88da3e6-11d9-44bc-9021-3...</td>\n",
       "      <td>7</td>\n",
       "      <td>8</td>\n",
       "    </tr>\n",
       "  </tbody>\n",
       "</table>\n",
       "<p>175 rows × 3 columns</p>\n",
       "</div>\n",
       "      <button class=\"colab-df-convert\" onclick=\"convertToInteractive('df-c974e7b7-62cd-49b5-b7f0-0b2920b6e3c7')\"\n",
       "              title=\"Convert this dataframe to an interactive table.\"\n",
       "              style=\"display:none;\">\n",
       "        \n",
       "  <svg xmlns=\"http://www.w3.org/2000/svg\" height=\"24px\"viewBox=\"0 0 24 24\"\n",
       "       width=\"24px\">\n",
       "    <path d=\"M0 0h24v24H0V0z\" fill=\"none\"/>\n",
       "    <path d=\"M18.56 5.44l.94 2.06.94-2.06 2.06-.94-2.06-.94-.94-2.06-.94 2.06-2.06.94zm-11 1L8.5 8.5l.94-2.06 2.06-.94-2.06-.94L8.5 2.5l-.94 2.06-2.06.94zm10 10l.94 2.06.94-2.06 2.06-.94-2.06-.94-.94-2.06-.94 2.06-2.06.94z\"/><path d=\"M17.41 7.96l-1.37-1.37c-.4-.4-.92-.59-1.43-.59-.52 0-1.04.2-1.43.59L10.3 9.45l-7.72 7.72c-.78.78-.78 2.05 0 2.83L4 21.41c.39.39.9.59 1.41.59.51 0 1.02-.2 1.41-.59l7.78-7.78 2.81-2.81c.8-.78.8-2.07 0-2.86zM5.41 20L4 18.59l7.72-7.72 1.47 1.35L5.41 20z\"/>\n",
       "  </svg>\n",
       "      </button>\n",
       "      \n",
       "  <style>\n",
       "    .colab-df-container {\n",
       "      display:flex;\n",
       "      flex-wrap:wrap;\n",
       "      gap: 12px;\n",
       "    }\n",
       "\n",
       "    .colab-df-convert {\n",
       "      background-color: #E8F0FE;\n",
       "      border: none;\n",
       "      border-radius: 50%;\n",
       "      cursor: pointer;\n",
       "      display: none;\n",
       "      fill: #1967D2;\n",
       "      height: 32px;\n",
       "      padding: 0 0 0 0;\n",
       "      width: 32px;\n",
       "    }\n",
       "\n",
       "    .colab-df-convert:hover {\n",
       "      background-color: #E2EBFA;\n",
       "      box-shadow: 0px 1px 2px rgba(60, 64, 67, 0.3), 0px 1px 3px 1px rgba(60, 64, 67, 0.15);\n",
       "      fill: #174EA6;\n",
       "    }\n",
       "\n",
       "    [theme=dark] .colab-df-convert {\n",
       "      background-color: #3B4455;\n",
       "      fill: #D2E3FC;\n",
       "    }\n",
       "\n",
       "    [theme=dark] .colab-df-convert:hover {\n",
       "      background-color: #434B5C;\n",
       "      box-shadow: 0px 1px 3px 1px rgba(0, 0, 0, 0.15);\n",
       "      filter: drop-shadow(0px 1px 2px rgba(0, 0, 0, 0.3));\n",
       "      fill: #FFFFFF;\n",
       "    }\n",
       "  </style>\n",
       "\n",
       "      <script>\n",
       "        const buttonEl =\n",
       "          document.querySelector('#df-c974e7b7-62cd-49b5-b7f0-0b2920b6e3c7 button.colab-df-convert');\n",
       "        buttonEl.style.display =\n",
       "          google.colab.kernel.accessAllowed ? 'block' : 'none';\n",
       "\n",
       "        async function convertToInteractive(key) {\n",
       "          const element = document.querySelector('#df-c974e7b7-62cd-49b5-b7f0-0b2920b6e3c7');\n",
       "          const dataTable =\n",
       "            await google.colab.kernel.invokeFunction('convertToInteractive',\n",
       "                                                     [key], {});\n",
       "          if (!dataTable) return;\n",
       "\n",
       "          const docLinkHtml = 'Like what you see? Visit the ' +\n",
       "            '<a target=\"_blank\" href=https://colab.research.google.com/notebooks/data_table.ipynb>data table notebook</a>'\n",
       "            + ' to learn more about interactive tables.';\n",
       "          element.innerHTML = '';\n",
       "          dataTable['output_type'] = 'display_data';\n",
       "          await google.colab.output.renderOutput(dataTable, element);\n",
       "          const docLink = document.createElement('div');\n",
       "          docLink.innerHTML = docLinkHtml;\n",
       "          element.appendChild(docLink);\n",
       "        }\n",
       "      </script>\n",
       "    </div>\n",
       "  </div>\n",
       "  "
      ],
      "text/plain": [
       "                                                  path  text  prediction\n",
       "0    data/validation/9/40_a69be344-cfe6-4b09-af57-0...     9           9\n",
       "1    data/validation/9/445a454e-435a-4e7a-bf57-63ef...     9           9\n",
       "2    data/validation/9/5f700dba-fecf-4a3f-b49a-2fad...     9           9\n",
       "3    data/validation/9/1fd3d350-d79b-420e-8052-b2a0...     9           4\n",
       "4    data/validation/9/f893756e-ed08-47e0-8ed0-4145...     9           9\n",
       "..                                                 ...   ...         ...\n",
       "170  data/validation/7/fb7a1f69-8fee-46dc-a14c-91ee...     7           9\n",
       "171  data/validation/7/376b5857-d33b-4eab-9491-1c34...     7           7\n",
       "172  data/validation/7/29_5a1c9814-68a2-418c-b73d-a...     7           7\n",
       "173  data/validation/7/37_a78b761e-2039-4755-b5ec-8...     7           7\n",
       "174  data/validation/7/37_e88da3e6-11d9-44bc-9021-3...     7           8\n",
       "\n",
       "[175 rows x 3 columns]"
      ]
     },
     "execution_count": 106,
     "metadata": {},
     "output_type": "execute_result"
    }
   ],
   "source": [
    "evaluate(val_df, drop_model)"
   ]
  },
  {
   "cell_type": "code",
   "execution_count": 107,
   "id": "kD2hDwhPzV9m",
   "metadata": {
    "colab": {
     "base_uri": "https://localhost:8080/",
     "height": 281
    },
    "id": "kD2hDwhPzV9m",
    "outputId": "f552e96b-9ff9-48f2-b942-37d82721d605"
   },
   "outputs": [
    {
     "data": {
      "image/png": "[encoded data removed]",
      "text/plain": [
       "<Figure size 432x288 with 1 Axes>"
      ]
     },
     "metadata": {
      "needs_background": "light"
     },
     "output_type": "display_data"
    }
   ],
   "source": [
    "# Plot the training accuracy and validation accuracy\n",
    "plt.plot(drop_model_history[\"train_acc\"], label=\"Train\")\n",
    "plt.plot(drop_model_history[\"val_acc\"], label=\"Validation\")\n",
    "plt.legend()\n",
    "plt.title(\"Train accuracy vs Validation accuracy\")\n",
    "plt.show()"
   ]
  },
  {
   "cell_type": "code",
   "execution_count": 108,
   "id": "tl09bEbwzWv9",
   "metadata": {
    "colab": {
     "base_uri": "https://localhost:8080/",
     "height": 281
    },
    "id": "tl09bEbwzWv9",
    "outputId": "8131ece6-7627-4653-c98b-41889b9898f6"
   },
   "outputs": [
    {
     "data": {
      "image/png": "[encoded data removed]",
      "text/plain": [
       "<Figure size 432x288 with 1 Axes>"
      ]
     },
     "metadata": {
      "needs_background": "light"
     },
     "output_type": "display_data"
    }
   ],
   "source": [
    "# Plot the training loss and validation loss\n",
    "plt.plot(drop_model_history[\"train_loss\"], label=\"Train\")\n",
    "plt.plot(drop_model_history[\"val_loss\"], label=\"Validation\")\n",
    "plt.legend()\n",
    "plt.title(\"Train loss vs Validation loss\")\n",
    "plt.show()"
   ]
  },
  {
   "cell_type": "markdown",
   "id": "b611d20b",
   "metadata": {},
   "source": [
    "Now the gap between the training accuracy and validation accuracy is smaller than before."
   ]
  },
  {
   "cell_type": "markdown",
   "id": "_R305_c-sBGn",
   "metadata": {
    "id": "_R305_c-sBGn"
   },
   "source": [
    "## **Image Augmentation**\n",
    "\n",
    "Image augmentation is a technique used to artificially increase the size of a training dataset by creating modified versions of existing images."
   ]
  },
  {
   "cell_type": "code",
   "execution_count": 119,
   "id": "XS14ZI0b_Wla",
   "metadata": {
    "id": "XS14ZI0b_Wla"
   },
   "outputs": [],
   "source": [
    "# augment_transform is same as transform but add RandomAffine to the image\n",
    "\n",
    "train_transform = transforms.Compose([\n",
    "    transforms.Resize((28, 28)),\n",
    "    transforms.Grayscale(),\n",
    "    transforms.RandomAffine(degrees=(15, 30), translate=(0.05, 0.1), scale=(1, 1)),\n",
    "    transforms.ToTensor(),\n",
    "])\n",
    "\n",
    "val_transform = transforms.Compose([\n",
    "    transforms.Resize((28, 28)),\n",
    "    transforms.Grayscale(),\n",
    "    transforms.ToTensor(),\n",
    "])"
   ]
  },
  {
   "cell_type": "code",
   "execution_count": 120,
   "id": "d52dee8c",
   "metadata": {
    "id": "d52dee8c"
   },
   "outputs": [],
   "source": [
    "train_thaidigit_dataset = ThaiDigitDataset(train_df, transform=train_transform)\n",
    "val_thaidigit_dataset = ThaiDigitDataset(val_df, transform=val_transform)"
   ]
  },
  {
   "cell_type": "code",
   "execution_count": 121,
   "id": "c7c34620",
   "metadata": {
    "id": "c7c34620"
   },
   "outputs": [],
   "source": [
    "train_dataloader = DataLoader(train_thaidigit_dataset, batch_size=16, shuffle=True)\n",
    "val_dataloader = DataLoader(val_thaidigit_dataset, batch_size=16, shuffle=False)"
   ]
  },
  {
   "cell_type": "code",
   "execution_count": 122,
   "id": "663cd6b7",
   "metadata": {
    "colab": {
     "base_uri": "https://localhost:8080/",
     "height": 265
    },
    "id": "663cd6b7",
    "outputId": "dcf45f50-981c-4283-b8e0-f97d736983a6"
   },
   "outputs": [
    {
     "data": {
      "image/png": "[encoded data removed]",
      "text/plain": [
       "<Figure size 432x288 with 1 Axes>"
      ]
     },
     "metadata": {
      "needs_background": "light"
     },
     "output_type": "display_data"
    }
   ],
   "source": [
    "# Example of augmented image\n",
    "img = (next(iter(train_dataloader))[0][1])\n",
    "transformed_img = 1 - img\n",
    "\n",
    "plt.imshow(transformed_img.squeeze(0), cmap=\"gray\")\n",
    "plt.show()"
   ]
  },
  {
   "cell_type": "code",
   "execution_count": 126,
   "id": "acc729d5",
   "metadata": {
    "colab": {
     "base_uri": "https://localhost:8080/"
    },
    "id": "acc729d5",
    "outputId": "301d4036-2908-47c6-cb9a-88f0585c3974"
   },
   "outputs": [
    {
     "name": "stdout",
     "output_type": "stream",
     "text": [
      "--------------------------------------------------------------------------------\n",
      "Epochs 1   train loss 2.28832 train acc 0.12667 val loss 4.52587 val acc 0.19429\n",
      "--------------------------------------------------------------------------------\n",
      "Epochs 2   train loss 2.23943 train acc 0.20921 val loss 4.42089 val acc 0.24571\n",
      "--------------------------------------------------------------------------------\n",
      "Epochs 3   train loss 2.16621 train acc 0.27143 val loss 4.21919 val acc 0.32000\n",
      "--------------------------------------------------------------------------------\n",
      "Epochs 4   train loss 2.06932 train acc 0.32222 val loss 4.00617 val acc 0.38286\n",
      "--------------------------------------------------------------------------------\n",
      "Epochs 5   train loss 1.94918 train acc 0.38095 val loss 3.72546 val acc 0.44571\n",
      "--------------------------------------------------------------------------------\n",
      "Epochs 6   train loss 1.84236 train acc 0.40190 val loss 3.56098 val acc 0.43714\n",
      "--------------------------------------------------------------------------------\n",
      "Epochs 7   train loss 1.73488 train acc 0.44063 val loss 3.43464 val acc 0.45143\n",
      "--------------------------------------------------------------------------------\n",
      "Epochs 8   train loss 1.66138 train acc 0.44857 val loss 3.28004 val acc 0.48000\n",
      "--------------------------------------------------------------------------------\n",
      "Epochs 9   train loss 1.60983 train acc 0.47556 val loss 3.16314 val acc 0.50571\n",
      "--------------------------------------------------------------------------------\n",
      "Epochs 10  train loss 1.56220 train acc 0.48952 val loss 3.03758 val acc 0.50857\n",
      "--------------------------------------------------------------------------------\n",
      "Epochs 11  train loss 1.52342 train acc 0.50000 val loss 3.05521 val acc 0.52857\n",
      "--------------------------------------------------------------------------------\n",
      "Epochs 12  train loss 1.47875 train acc 0.52730 val loss 2.94346 val acc 0.53714\n",
      "--------------------------------------------------------------------------------\n",
      "Epochs 13  train loss 1.45375 train acc 0.53016 val loss 2.90382 val acc 0.55714\n",
      "--------------------------------------------------------------------------------\n",
      "Epochs 14  train loss 1.42893 train acc 0.54254 val loss 2.86894 val acc 0.56286\n",
      "--------------------------------------------------------------------------------\n",
      "Epochs 15  train loss 1.39625 train acc 0.54889 val loss 2.85803 val acc 0.55429\n",
      "--------------------------------------------------------------------------------\n",
      "Epochs 16  train loss 1.37144 train acc 0.57238 val loss 2.82131 val acc 0.54857\n",
      "--------------------------------------------------------------------------------\n",
      "Epochs 17  train loss 1.36415 train acc 0.56571 val loss 2.80962 val acc 0.55714\n",
      "--------------------------------------------------------------------------------\n",
      "Epochs 18  train loss 1.34586 train acc 0.56222 val loss 2.74737 val acc 0.55714\n",
      "--------------------------------------------------------------------------------\n",
      "Epochs 19  train loss 1.32586 train acc 0.58508 val loss 2.72758 val acc 0.57143\n",
      "--------------------------------------------------------------------------------\n",
      "Epochs 20  train loss 1.29655 train acc 0.58825 val loss 2.77900 val acc 0.56286\n",
      "--------------------------------------------------------------------------------\n",
      "Epochs 21  train loss 1.29712 train acc 0.58159 val loss 2.68005 val acc 0.58857\n",
      "--------------------------------------------------------------------------------\n",
      "Epochs 22  train loss 1.26418 train acc 0.59143 val loss 2.68172 val acc 0.58000\n",
      "--------------------------------------------------------------------------------\n",
      "Epochs 23  train loss 1.25816 train acc 0.59841 val loss 2.66719 val acc 0.56571\n",
      "--------------------------------------------------------------------------------\n",
      "Epochs 24  train loss 1.23690 train acc 0.61206 val loss 2.57524 val acc 0.60286\n",
      "--------------------------------------------------------------------------------\n",
      "Epochs 25  train loss 1.21551 train acc 0.61048 val loss 2.60518 val acc 0.62000\n",
      "--------------------------------------------------------------------------------\n",
      "Epochs 26  train loss 1.21323 train acc 0.61968 val loss 2.57664 val acc 0.60571\n",
      "--------------------------------------------------------------------------------\n",
      "Epochs 27  train loss 1.18546 train acc 0.62254 val loss 2.56666 val acc 0.60571\n",
      "--------------------------------------------------------------------------------\n",
      "Epochs 28  train loss 1.17918 train acc 0.62635 val loss 2.53794 val acc 0.59429\n",
      "--------------------------------------------------------------------------------\n",
      "Epochs 29  train loss 1.16448 train acc 0.62698 val loss 2.46335 val acc 0.63429\n",
      "--------------------------------------------------------------------------------\n",
      "Epochs 30  train loss 1.15183 train acc 0.63460 val loss 2.44276 val acc 0.61143\n",
      "--------------------------------------------------------------------------------\n",
      "Epochs 31  train loss 1.15072 train acc 0.63651 val loss 2.39671 val acc 0.65714\n",
      "--------------------------------------------------------------------------------\n",
      "Epochs 32  train loss 1.13858 train acc 0.63683 val loss 2.53480 val acc 0.61714\n",
      "--------------------------------------------------------------------------------\n",
      "Epochs 33  train loss 1.12137 train acc 0.65143 val loss 2.38324 val acc 0.64000\n",
      "--------------------------------------------------------------------------------\n",
      "Epochs 34  train loss 1.10438 train acc 0.64444 val loss 2.35537 val acc 0.63714\n",
      "--------------------------------------------------------------------------------\n",
      "Epochs 35  train loss 1.10570 train acc 0.64952 val loss 2.39242 val acc 0.64571\n",
      "--------------------------------------------------------------------------------\n",
      "Epochs 36  train loss 1.07437 train acc 0.66349 val loss 2.42207 val acc 0.65714\n",
      "--------------------------------------------------------------------------------\n",
      "Epochs 37  train loss 1.06910 train acc 0.66381 val loss 2.40787 val acc 0.64000\n",
      "--------------------------------------------------------------------------------\n",
      "Epochs 38  train loss 1.05187 train acc 0.66413 val loss 2.39174 val acc 0.63429\n",
      "--------------------------------------------------------------------------------\n",
      "Epochs 39  train loss 1.03954 train acc 0.66889 val loss 2.32055 val acc 0.64000\n",
      "--------------------------------------------------------------------------------\n",
      "Epochs 40  train loss 1.04676 train acc 0.67778 val loss 2.28315 val acc 0.67143\n",
      "--------------------------------------------------------------------------------\n",
      "Epochs 41  train loss 1.04055 train acc 0.67048 val loss 2.32288 val acc 0.65429\n",
      "--------------------------------------------------------------------------------\n",
      "Epochs 42  train loss 1.01987 train acc 0.68349 val loss 2.27796 val acc 0.64286\n",
      "--------------------------------------------------------------------------------\n",
      "Epochs 43  train loss 0.99815 train acc 0.68508 val loss 2.19422 val acc 0.67429\n",
      "--------------------------------------------------------------------------------\n",
      "Epochs 44  train loss 1.00039 train acc 0.67937 val loss 2.24380 val acc 0.65429\n",
      "--------------------------------------------------------------------------------\n",
      "Epochs 45  train loss 0.98503 train acc 0.69524 val loss 2.23879 val acc 0.65143\n",
      "--------------------------------------------------------------------------------\n",
      "Epochs 46  train loss 0.97070 train acc 0.69333 val loss 2.20198 val acc 0.67714\n",
      "--------------------------------------------------------------------------------\n",
      "Epochs 47  train loss 0.95954 train acc 0.69746 val loss 2.21111 val acc 0.65429\n",
      "--------------------------------------------------------------------------------\n",
      "Epochs 48  train loss 0.94832 train acc 0.70127 val loss 2.21367 val acc 0.66571\n",
      "--------------------------------------------------------------------------------\n",
      "Epochs 49  train loss 0.93925 train acc 0.71111 val loss 2.23680 val acc 0.64857\n",
      "--------------------------------------------------------------------------------\n",
      "Epochs 50  train loss 0.94353 train acc 0.70381 val loss 2.10923 val acc 0.68857\n",
      "--------------------------------------------------------------------------------\n"
     ]
    }
   ],
   "source": [
    "# Let's train the model with augmented data\n",
    "n_epochs = 50\n",
    "augmented_model = DropoutThaiDigit()  # Initialize the model\n",
    "loss_fn = nn.CrossEntropyLoss()\n",
    "optimizer = torch.optim.SGD(augmented_model.parameters(), lr=0.01)\n",
    "\n",
    "augmented_model, augmented_model_history = train(\n",
    "    augmented_model, n_epochs, loss_fn, optimizer, train_dataloader, val_dataloader\n",
    ")"
   ]
  },
  {
   "cell_type": "code",
   "execution_count": 130,
   "id": "j4Z2ZXWnjqYt",
   "metadata": {
    "colab": {
     "base_uri": "https://localhost:8080/",
     "height": 441
    },
    "id": "j4Z2ZXWnjqYt",
    "outputId": "3f09bf79-d371-4c04-e398-04540acbadd3"
   },
   "outputs": [
    {
     "name": "stdout",
     "output_type": "stream",
     "text": [
      "Accuracy: 70.86%\n"
     ]
    },
    {
     "data": {
      "text/html": [
       "\n",
       "  <div id=\"df-981151e2-cddf-4b06-b0e1-fd7d157136c4\">\n",
       "    <div class=\"colab-df-container\">\n",
       "      <div>\n",
       "<style scoped>\n",
       "    .dataframe tbody tr th:only-of-type {\n",
       "        vertical-align: middle;\n",
       "    }\n",
       "\n",
       "    .dataframe tbody tr th {\n",
       "        vertical-align: top;\n",
       "    }\n",
       "\n",
       "    .dataframe thead th {\n",
       "        text-align: right;\n",
       "    }\n",
       "</style>\n",
       "<table border=\"1\" class=\"dataframe\">\n",
       "  <thead>\n",
       "    <tr style=\"text-align: right;\">\n",
       "      <th></th>\n",
       "      <th>path</th>\n",
       "      <th>text</th>\n",
       "      <th>prediction</th>\n",
       "    </tr>\n",
       "  </thead>\n",
       "  <tbody>\n",
       "    <tr>\n",
       "      <th>0</th>\n",
       "      <td>data/validation/9/40_a69be344-cfe6-4b09-af57-0...</td>\n",
       "      <td>9</td>\n",
       "      <td>9</td>\n",
       "    </tr>\n",
       "    <tr>\n",
       "      <th>1</th>\n",
       "      <td>data/validation/9/445a454e-435a-4e7a-bf57-63ef...</td>\n",
       "      <td>9</td>\n",
       "      <td>9</td>\n",
       "    </tr>\n",
       "    <tr>\n",
       "      <th>2</th>\n",
       "      <td>data/validation/9/5f700dba-fecf-4a3f-b49a-2fad...</td>\n",
       "      <td>9</td>\n",
       "      <td>9</td>\n",
       "    </tr>\n",
       "    <tr>\n",
       "      <th>3</th>\n",
       "      <td>data/validation/9/1fd3d350-d79b-420e-8052-b2a0...</td>\n",
       "      <td>9</td>\n",
       "      <td>4</td>\n",
       "    </tr>\n",
       "    <tr>\n",
       "      <th>4</th>\n",
       "      <td>data/validation/9/f893756e-ed08-47e0-8ed0-4145...</td>\n",
       "      <td>9</td>\n",
       "      <td>9</td>\n",
       "    </tr>\n",
       "    <tr>\n",
       "      <th>...</th>\n",
       "      <td>...</td>\n",
       "      <td>...</td>\n",
       "      <td>...</td>\n",
       "    </tr>\n",
       "    <tr>\n",
       "      <th>170</th>\n",
       "      <td>data/validation/7/fb7a1f69-8fee-46dc-a14c-91ee...</td>\n",
       "      <td>7</td>\n",
       "      <td>9</td>\n",
       "    </tr>\n",
       "    <tr>\n",
       "      <th>171</th>\n",
       "      <td>data/validation/7/376b5857-d33b-4eab-9491-1c34...</td>\n",
       "      <td>7</td>\n",
       "      <td>7</td>\n",
       "    </tr>\n",
       "    <tr>\n",
       "      <th>172</th>\n",
       "      <td>data/validation/7/29_5a1c9814-68a2-418c-b73d-a...</td>\n",
       "      <td>7</td>\n",
       "      <td>7</td>\n",
       "    </tr>\n",
       "    <tr>\n",
       "      <th>173</th>\n",
       "      <td>data/validation/7/37_a78b761e-2039-4755-b5ec-8...</td>\n",
       "      <td>7</td>\n",
       "      <td>7</td>\n",
       "    </tr>\n",
       "    <tr>\n",
       "      <th>174</th>\n",
       "      <td>data/validation/7/37_e88da3e6-11d9-44bc-9021-3...</td>\n",
       "      <td>7</td>\n",
       "      <td>7</td>\n",
       "    </tr>\n",
       "  </tbody>\n",
       "</table>\n",
       "<p>175 rows × 3 columns</p>\n",
       "</div>\n",
       "      <button class=\"colab-df-convert\" onclick=\"convertToInteractive('df-981151e2-cddf-4b06-b0e1-fd7d157136c4')\"\n",
       "              title=\"Convert this dataframe to an interactive table.\"\n",
       "              style=\"display:none;\">\n",
       "        \n",
       "  <svg xmlns=\"http://www.w3.org/2000/svg\" height=\"24px\"viewBox=\"0 0 24 24\"\n",
       "       width=\"24px\">\n",
       "    <path d=\"M0 0h24v24H0V0z\" fill=\"none\"/>\n",
       "    <path d=\"M18.56 5.44l.94 2.06.94-2.06 2.06-.94-2.06-.94-.94-2.06-.94 2.06-2.06.94zm-11 1L8.5 8.5l.94-2.06 2.06-.94-2.06-.94L8.5 2.5l-.94 2.06-2.06.94zm10 10l.94 2.06.94-2.06 2.06-.94-2.06-.94-.94-2.06-.94 2.06-2.06.94z\"/><path d=\"M17.41 7.96l-1.37-1.37c-.4-.4-.92-.59-1.43-.59-.52 0-1.04.2-1.43.59L10.3 9.45l-7.72 7.72c-.78.78-.78 2.05 0 2.83L4 21.41c.39.39.9.59 1.41.59.51 0 1.02-.2 1.41-.59l7.78-7.78 2.81-2.81c.8-.78.8-2.07 0-2.86zM5.41 20L4 18.59l7.72-7.72 1.47 1.35L5.41 20z\"/>\n",
       "  </svg>\n",
       "      </button>\n",
       "      \n",
       "  <style>\n",
       "    .colab-df-container {\n",
       "      display:flex;\n",
       "      flex-wrap:wrap;\n",
       "      gap: 12px;\n",
       "    }\n",
       "\n",
       "    .colab-df-convert {\n",
       "      background-color: #E8F0FE;\n",
       "      border: none;\n",
       "      border-radius: 50%;\n",
       "      cursor: pointer;\n",
       "      display: none;\n",
       "      fill: #1967D2;\n",
       "      height: 32px;\n",
       "      padding: 0 0 0 0;\n",
       "      width: 32px;\n",
       "    }\n",
       "\n",
       "    .colab-df-convert:hover {\n",
       "      background-color: #E2EBFA;\n",
       "      box-shadow: 0px 1px 2px rgba(60, 64, 67, 0.3), 0px 1px 3px 1px rgba(60, 64, 67, 0.15);\n",
       "      fill: #174EA6;\n",
       "    }\n",
       "\n",
       "    [theme=dark] .colab-df-convert {\n",
       "      background-color: #3B4455;\n",
       "      fill: #D2E3FC;\n",
       "    }\n",
       "\n",
       "    [theme=dark] .colab-df-convert:hover {\n",
       "      background-color: #434B5C;\n",
       "      box-shadow: 0px 1px 3px 1px rgba(0, 0, 0, 0.15);\n",
       "      filter: drop-shadow(0px 1px 2px rgba(0, 0, 0, 0.3));\n",
       "      fill: #FFFFFF;\n",
       "    }\n",
       "  </style>\n",
       "\n",
       "      <script>\n",
       "        const buttonEl =\n",
       "          document.querySelector('#df-981151e2-cddf-4b06-b0e1-fd7d157136c4 button.colab-df-convert');\n",
       "        buttonEl.style.display =\n",
       "          google.colab.kernel.accessAllowed ? 'block' : 'none';\n",
       "\n",
       "        async function convertToInteractive(key) {\n",
       "          const element = document.querySelector('#df-981151e2-cddf-4b06-b0e1-fd7d157136c4');\n",
       "          const dataTable =\n",
       "            await google.colab.kernel.invokeFunction('convertToInteractive',\n",
       "                                                     [key], {});\n",
       "          if (!dataTable) return;\n",
       "\n",
       "          const docLinkHtml = 'Like what you see? Visit the ' +\n",
       "            '<a target=\"_blank\" href=https://colab.research.google.com/notebooks/data_table.ipynb>data table notebook</a>'\n",
       "            + ' to learn more about interactive tables.';\n",
       "          element.innerHTML = '';\n",
       "          dataTable['output_type'] = 'display_data';\n",
       "          await google.colab.output.renderOutput(dataTable, element);\n",
       "          const docLink = document.createElement('div');\n",
       "          docLink.innerHTML = docLinkHtml;\n",
       "          element.appendChild(docLink);\n",
       "        }\n",
       "      </script>\n",
       "    </div>\n",
       "  </div>\n",
       "  "
      ],
      "text/plain": [
       "                                                  path  text  prediction\n",
       "0    data/validation/9/40_a69be344-cfe6-4b09-af57-0...     9           9\n",
       "1    data/validation/9/445a454e-435a-4e7a-bf57-63ef...     9           9\n",
       "2    data/validation/9/5f700dba-fecf-4a3f-b49a-2fad...     9           9\n",
       "3    data/validation/9/1fd3d350-d79b-420e-8052-b2a0...     9           4\n",
       "4    data/validation/9/f893756e-ed08-47e0-8ed0-4145...     9           9\n",
       "..                                                 ...   ...         ...\n",
       "170  data/validation/7/fb7a1f69-8fee-46dc-a14c-91ee...     7           9\n",
       "171  data/validation/7/376b5857-d33b-4eab-9491-1c34...     7           7\n",
       "172  data/validation/7/29_5a1c9814-68a2-418c-b73d-a...     7           7\n",
       "173  data/validation/7/37_a78b761e-2039-4755-b5ec-8...     7           7\n",
       "174  data/validation/7/37_e88da3e6-11d9-44bc-9021-3...     7           7\n",
       "\n",
       "[175 rows x 3 columns]"
      ]
     },
     "execution_count": 130,
     "metadata": {},
     "output_type": "execute_result"
    }
   ],
   "source": [
    "# Evaluate the new model with old dataset.\n",
    "evaluate(val_df, augmented_model)"
   ]
  },
  {
   "cell_type": "code",
   "execution_count": 132,
   "id": "oI1CjNUMkXWv",
   "metadata": {
    "colab": {
     "base_uri": "https://localhost:8080/",
     "height": 281
    },
    "id": "oI1CjNUMkXWv",
    "outputId": "9659c134-855e-4e11-ce1f-3e0bd8cd2aa3"
   },
   "outputs": [
    {
     "data": {
      "image/png": "[encoded data removed]",
      "text/plain": [
       "<Figure size 432x288 with 1 Axes>"
      ]
     },
     "metadata": {
      "needs_background": "light"
     },
     "output_type": "display_data"
    }
   ],
   "source": [
    "# Plot the training accuracy and validation accuracy\n",
    "plt.plot(augmented_model_history[\"train_acc\"], label=\"Train\")\n",
    "plt.plot(augmented_model_history[\"val_acc\"], label=\"Validation\")\n",
    "plt.legend()\n",
    "plt.title(\"Train accuracy vs Validation accuracy\")\n",
    "plt.show()"
   ]
  },
  {
   "cell_type": "code",
   "execution_count": 131,
   "id": "PZOLVuqF2N3m",
   "metadata": {
    "colab": {
     "base_uri": "https://localhost:8080/",
     "height": 281
    },
    "id": "PZOLVuqF2N3m",
    "outputId": "75858304-668f-42c4-9956-4a8bba8d1f74"
   },
   "outputs": [
    {
     "data": {
      "image/png": "[encoded data removed]",
      "text/plain": [
       "<Figure size 432x288 with 1 Axes>"
      ]
     },
     "metadata": {
      "needs_background": "light"
     },
     "output_type": "display_data"
    }
   ],
   "source": [
    "# Plot the training loss and validation loss\n",
    "plt.plot(augmented_model_history[\"train_loss\"], label=\"Train\")\n",
    "plt.plot(augmented_model_history[\"val_loss\"], label=\"Validation\")\n",
    "plt.legend()\n",
    "plt.title(\"Train loss vs Validation loss\")\n",
    "plt.show()"
   ]
  }
 ],
 "metadata": {
  "colab": {
   "provenance": []
  },
  "gpuClass": "standard",
  "kernelspec": {
   "display_name": "Python 3 (ipykernel)",
   "language": "python",
   "name": "python3"
  },
  "language_info": {
   "codemirror_mode": {
    "name": "ipython",
    "version": 3
   },
   "file_extension": ".py",
   "mimetype": "text/x-python",
   "name": "python",
   "nbconvert_exporter": "python",
   "pygments_lexer": "ipython3",
   "version": "3.7.13"
  },
  "vscode": {
   "interpreter": {
    "hash": "63ce3f086f3d35aeaa98481dc3e6117e1ab6d0e955643b11e97a8ed761553864"
   }
  },
  "widgets": {
   "application/vnd.jupyter.widget-state+json": {
    "0e4c2c5b3e1549998e1371e1a1c72a8c": {
     "model_module": "@jupyter-widgets/controls",
     "model_module_version": "1.5.0",
     "model_name": "DescriptionStyleModel",
     "state": {
      "_model_module": "@jupyter-widgets/controls",
      "_model_module_version": "1.5.0",
      "_model_name": "DescriptionStyleModel",
      "_view_count": null,
      "_view_module": "@jupyter-widgets/base",
      "_view_module_version": "1.2.0",
      "_view_name": "StyleView",
      "description_width": ""
     }
    },
    "2022542a655f40668c58214e8751ae50": {
     "model_module": "@jupyter-widgets/controls",
     "model_module_version": "1.5.0",
     "model_name": "ProgressStyleModel",
     "state": {
      "_model_module": "@jupyter-widgets/controls",
      "_model_module_version": "1.5.0",
      "_model_name": "ProgressStyleModel",
      "_view_count": null,
      "_view_module": "@jupyter-widgets/base",
      "_view_module_version": "1.2.0",
      "_view_name": "StyleView",
      "bar_color": null,
      "description_width": ""
     }
    },
    "2037ea69553245b0920d02afddb3401f": {
     "model_module": "@jupyter-widgets/base",
     "model_module_version": "1.2.0",
     "model_name": "LayoutModel",
     "state": {
      "_model_module": "@jupyter-widgets/base",
      "_model_module_version": "1.2.0",
      "_model_name": "LayoutModel",
      "_view_count": null,
      "_view_module": "@jupyter-widgets/base",
      "_view_module_version": "1.2.0",
      "_view_name": "LayoutView",
      "align_content": null,
      "align_items": null,
      "align_self": null,
      "border": null,
      "bottom": null,
      "display": null,
      "flex": null,
      "flex_flow": null,
      "grid_area": null,
      "grid_auto_columns": null,
      "grid_auto_flow": null,
      "grid_auto_rows": null,
      "grid_column": null,
      "grid_gap": null,
      "grid_row": null,
      "grid_template_areas": null,
      "grid_template_columns": null,
      "grid_template_rows": null,
      "height": null,
      "justify_content": null,
      "justify_items": null,
      "left": null,
      "margin": null,
      "max_height": null,
      "max_width": null,
      "min_height": null,
      "min_width": null,
      "object_fit": null,
      "object_position": null,
      "order": null,
      "overflow": null,
      "overflow_x": null,
      "overflow_y": null,
      "padding": null,
      "right": null,
      "top": null,
      "visibility": null,
      "width": null
     }
    },
    "2b440195183548b59a6a8063cc4b97bd": {
     "model_module": "@jupyter-widgets/base",
     "model_module_version": "1.2.0",
     "model_name": "LayoutModel",
     "state": {
      "_model_module": "@jupyter-widgets/base",
      "_model_module_version": "1.2.0",
      "_model_name": "LayoutModel",
      "_view_count": null,
      "_view_module": "@jupyter-widgets/base",
      "_view_module_version": "1.2.0",
      "_view_name": "LayoutView",
      "align_content": null,
      "align_items": null,
      "align_self": null,
      "border": null,
      "bottom": null,
      "display": null,
      "flex": null,
      "flex_flow": null,
      "grid_area": null,
      "grid_auto_columns": null,
      "grid_auto_flow": null,
      "grid_auto_rows": null,
      "grid_column": null,
      "grid_gap": null,
      "grid_row": null,
      "grid_template_areas": null,
      "grid_template_columns": null,
      "grid_template_rows": null,
      "height": null,
      "justify_content": null,
      "justify_items": null,
      "left": null,
      "margin": null,
      "max_height": null,
      "max_width": null,
      "min_height": null,
      "min_width": null,
      "object_fit": null,
      "object_position": null,
      "order": null,
      "overflow": null,
      "overflow_x": null,
      "overflow_y": null,
      "padding": null,
      "right": null,
      "top": null,
      "visibility": null,
      "width": null
     }
    },
    "303faa4e8a664ebcb13d22c7ca16e15e": {
     "model_module": "@jupyter-widgets/base",
     "model_module_version": "1.2.0",
     "model_name": "LayoutModel",
     "state": {
      "_model_module": "@jupyter-widgets/base",
      "_model_module_version": "1.2.0",
      "_model_name": "LayoutModel",
      "_view_count": null,
      "_view_module": "@jupyter-widgets/base",
      "_view_module_version": "1.2.0",
      "_view_name": "LayoutView",
      "align_content": null,
      "align_items": null,
      "align_self": null,
      "border": null,
      "bottom": null,
      "display": null,
      "flex": null,
      "flex_flow": null,
      "grid_area": null,
      "grid_auto_columns": null,
      "grid_auto_flow": null,
      "grid_auto_rows": null,
      "grid_column": null,
      "grid_gap": null,
      "grid_row": null,
      "grid_template_areas": null,
      "grid_template_columns": null,
      "grid_template_rows": null,
      "height": null,
      "justify_content": null,
      "justify_items": null,
      "left": null,
      "margin": null,
      "max_height": null,
      "max_width": null,
      "min_height": null,
      "min_width": null,
      "object_fit": null,
      "object_position": null,
      "order": null,
      "overflow": null,
      "overflow_x": null,
      "overflow_y": null,
      "padding": null,
      "right": null,
      "top": null,
      "visibility": null,
      "width": null
     }
    },
    "3b6308b484dc4091afc0122584fd0fbd": {
     "model_module": "@jupyter-widgets/controls",
     "model_module_version": "1.5.0",
     "model_name": "FloatProgressModel",
     "state": {
      "_dom_classes": [],
      "_model_module": "@jupyter-widgets/controls",
      "_model_module_version": "1.5.0",
      "_model_name": "FloatProgressModel",
      "_view_count": null,
      "_view_module": "@jupyter-widgets/controls",
      "_view_module_version": "1.5.0",
      "_view_name": "ProgressView",
      "bar_style": "success",
      "description": "",
      "description_tooltip": null,
      "layout": "IPY_MODEL_bf5bae4eb5f24929ac770d57fca959c5",
      "max": 1575,
      "min": 0,
      "orientation": "horizontal",
      "style": "IPY_MODEL_2022542a655f40668c58214e8751ae50",
      "value": 1575
     }
    },
    "490ac6cb34484d9d9d78c0f897d219ab": {
     "model_module": "@jupyter-widgets/controls",
     "model_module_version": "1.5.0",
     "model_name": "HTMLModel",
     "state": {
      "_dom_classes": [],
      "_model_module": "@jupyter-widgets/controls",
      "_model_module_version": "1.5.0",
      "_model_name": "HTMLModel",
      "_view_count": null,
      "_view_module": "@jupyter-widgets/controls",
      "_view_module_version": "1.5.0",
      "_view_name": "HTMLView",
      "description": "",
      "description_tooltip": null,
      "layout": "IPY_MODEL_94d1a086d21b497d9642965f8885081a",
      "placeholder": "​",
      "style": "IPY_MODEL_4ba21bcbcb6e4497a1c34d337ac7b8a7",
      "value": " 1575/1575 [00:00&lt;00:00, 5236.20it/s]"
     }
    },
    "4ba21bcbcb6e4497a1c34d337ac7b8a7": {
     "model_module": "@jupyter-widgets/controls",
     "model_module_version": "1.5.0",
     "model_name": "DescriptionStyleModel",
     "state": {
      "_model_module": "@jupyter-widgets/controls",
      "_model_module_version": "1.5.0",
      "_model_name": "DescriptionStyleModel",
      "_view_count": null,
      "_view_module": "@jupyter-widgets/base",
      "_view_module_version": "1.2.0",
      "_view_name": "StyleView",
      "description_width": ""
     }
    },
    "4f9807909c9b4aa59b6a54dabb96192e": {
     "model_module": "@jupyter-widgets/controls",
     "model_module_version": "1.5.0",
     "model_name": "HTMLModel",
     "state": {
      "_dom_classes": [],
      "_model_module": "@jupyter-widgets/controls",
      "_model_module_version": "1.5.0",
      "_model_name": "HTMLModel",
      "_view_count": null,
      "_view_module": "@jupyter-widgets/controls",
      "_view_module_version": "1.5.0",
      "_view_name": "HTMLView",
      "description": "",
      "description_tooltip": null,
      "layout": "IPY_MODEL_eb26f3ab4af04117a01cb6d5123a34a2",
      "placeholder": "​",
      "style": "IPY_MODEL_b1bdcc572d31424da742a46af8b0e2d6",
      "value": " 175/175 [00:00&lt;00:00, 2629.37it/s]"
     }
    },
    "4fe77181385d4bda901b5dac4b973ffa": {
     "model_module": "@jupyter-widgets/base",
     "model_module_version": "1.2.0",
     "model_name": "LayoutModel",
     "state": {
      "_model_module": "@jupyter-widgets/base",
      "_model_module_version": "1.2.0",
      "_model_name": "LayoutModel",
      "_view_count": null,
      "_view_module": "@jupyter-widgets/base",
      "_view_module_version": "1.2.0",
      "_view_name": "LayoutView",
      "align_content": null,
      "align_items": null,
      "align_self": null,
      "border": null,
      "bottom": null,
      "display": null,
      "flex": null,
      "flex_flow": null,
      "grid_area": null,
      "grid_auto_columns": null,
      "grid_auto_flow": null,
      "grid_auto_rows": null,
      "grid_column": null,
      "grid_gap": null,
      "grid_row": null,
      "grid_template_areas": null,
      "grid_template_columns": null,
      "grid_template_rows": null,
      "height": null,
      "justify_content": null,
      "justify_items": null,
      "left": null,
      "margin": null,
      "max_height": null,
      "max_width": null,
      "min_height": null,
      "min_width": null,
      "object_fit": null,
      "object_position": null,
      "order": null,
      "overflow": null,
      "overflow_x": null,
      "overflow_y": null,
      "padding": null,
      "right": null,
      "top": null,
      "visibility": null,
      "width": null
     }
    },
    "50b658ffca854732949a76fdf2731ae1": {
     "model_module": "@jupyter-widgets/controls",
     "model_module_version": "1.5.0",
     "model_name": "HTMLModel",
     "state": {
      "_dom_classes": [],
      "_model_module": "@jupyter-widgets/controls",
      "_model_module_version": "1.5.0",
      "_model_name": "HTMLModel",
      "_view_count": null,
      "_view_module": "@jupyter-widgets/controls",
      "_view_module_version": "1.5.0",
      "_view_name": "HTMLView",
      "description": "",
      "description_tooltip": null,
      "layout": "IPY_MODEL_2037ea69553245b0920d02afddb3401f",
      "placeholder": "​",
      "style": "IPY_MODEL_0e4c2c5b3e1549998e1371e1a1c72a8c",
      "value": "100%"
     }
    },
    "6c1fe540d6d34be684cb03ed8d266e0c": {
     "model_module": "@jupyter-widgets/controls",
     "model_module_version": "1.5.0",
     "model_name": "FloatProgressModel",
     "state": {
      "_dom_classes": [],
      "_model_module": "@jupyter-widgets/controls",
      "_model_module_version": "1.5.0",
      "_model_name": "FloatProgressModel",
      "_view_count": null,
      "_view_module": "@jupyter-widgets/controls",
      "_view_module_version": "1.5.0",
      "_view_name": "ProgressView",
      "bar_style": "success",
      "description": "",
      "description_tooltip": null,
      "layout": "IPY_MODEL_2b440195183548b59a6a8063cc4b97bd",
      "max": 175,
      "min": 0,
      "orientation": "horizontal",
      "style": "IPY_MODEL_fd877471149b496bac44aed939c11291",
      "value": 175
     }
    },
    "7b61e8b031c648e5987e1809926e0a22": {
     "model_module": "@jupyter-widgets/controls",
     "model_module_version": "1.5.0",
     "model_name": "HBoxModel",
     "state": {
      "_dom_classes": [],
      "_model_module": "@jupyter-widgets/controls",
      "_model_module_version": "1.5.0",
      "_model_name": "HBoxModel",
      "_view_count": null,
      "_view_module": "@jupyter-widgets/controls",
      "_view_module_version": "1.5.0",
      "_view_name": "HBoxView",
      "box_style": "",
      "children": [
       "IPY_MODEL_7c898ada9e7242218830916b481cf30e",
       "IPY_MODEL_6c1fe540d6d34be684cb03ed8d266e0c",
       "IPY_MODEL_4f9807909c9b4aa59b6a54dabb96192e"
      ],
      "layout": "IPY_MODEL_a038a0a0938842649dd92e289ccc261c"
     }
    },
    "7c898ada9e7242218830916b481cf30e": {
     "model_module": "@jupyter-widgets/controls",
     "model_module_version": "1.5.0",
     "model_name": "HTMLModel",
     "state": {
      "_dom_classes": [],
      "_model_module": "@jupyter-widgets/controls",
      "_model_module_version": "1.5.0",
      "_model_name": "HTMLModel",
      "_view_count": null,
      "_view_module": "@jupyter-widgets/controls",
      "_view_module_version": "1.5.0",
      "_view_name": "HTMLView",
      "description": "",
      "description_tooltip": null,
      "layout": "IPY_MODEL_4fe77181385d4bda901b5dac4b973ffa",
      "placeholder": "​",
      "style": "IPY_MODEL_b47434e14a3047a8b4fc68f27b8c7cf6",
      "value": "100%"
     }
    },
    "94d1a086d21b497d9642965f8885081a": {
     "model_module": "@jupyter-widgets/base",
     "model_module_version": "1.2.0",
     "model_name": "LayoutModel",
     "state": {
      "_model_module": "@jupyter-widgets/base",
      "_model_module_version": "1.2.0",
      "_model_name": "LayoutModel",
      "_view_count": null,
      "_view_module": "@jupyter-widgets/base",
      "_view_module_version": "1.2.0",
      "_view_name": "LayoutView",
      "align_content": null,
      "align_items": null,
      "align_self": null,
      "border": null,
      "bottom": null,
      "display": null,
      "flex": null,
      "flex_flow": null,
      "grid_area": null,
      "grid_auto_columns": null,
      "grid_auto_flow": null,
      "grid_auto_rows": null,
      "grid_column": null,
      "grid_gap": null,
      "grid_row": null,
      "grid_template_areas": null,
      "grid_template_columns": null,
      "grid_template_rows": null,
      "height": null,
      "justify_content": null,
      "justify_items": null,
      "left": null,
      "margin": null,
      "max_height": null,
      "max_width": null,
      "min_height": null,
      "min_width": null,
      "object_fit": null,
      "object_position": null,
      "order": null,
      "overflow": null,
      "overflow_x": null,
      "overflow_y": null,
      "padding": null,
      "right": null,
      "top": null,
      "visibility": null,
      "width": null
     }
    },
    "a038a0a0938842649dd92e289ccc261c": {
     "model_module": "@jupyter-widgets/base",
     "model_module_version": "1.2.0",
     "model_name": "LayoutModel",
     "state": {
      "_model_module": "@jupyter-widgets/base",
      "_model_module_version": "1.2.0",
      "_model_name": "LayoutModel",
      "_view_count": null,
      "_view_module": "@jupyter-widgets/base",
      "_view_module_version": "1.2.0",
      "_view_name": "LayoutView",
      "align_content": null,
      "align_items": null,
      "align_self": null,
      "border": null,
      "bottom": null,
      "display": null,
      "flex": null,
      "flex_flow": null,
      "grid_area": null,
      "grid_auto_columns": null,
      "grid_auto_flow": null,
      "grid_auto_rows": null,
      "grid_column": null,
      "grid_gap": null,
      "grid_row": null,
      "grid_template_areas": null,
      "grid_template_columns": null,
      "grid_template_rows": null,
      "height": null,
      "justify_content": null,
      "justify_items": null,
      "left": null,
      "margin": null,
      "max_height": null,
      "max_width": null,
      "min_height": null,
      "min_width": null,
      "object_fit": null,
      "object_position": null,
      "order": null,
      "overflow": null,
      "overflow_x": null,
      "overflow_y": null,
      "padding": null,
      "right": null,
      "top": null,
      "visibility": null,
      "width": null
     }
    },
    "b1bdcc572d31424da742a46af8b0e2d6": {
     "model_module": "@jupyter-widgets/controls",
     "model_module_version": "1.5.0",
     "model_name": "DescriptionStyleModel",
     "state": {
      "_model_module": "@jupyter-widgets/controls",
      "_model_module_version": "1.5.0",
      "_model_name": "DescriptionStyleModel",
      "_view_count": null,
      "_view_module": "@jupyter-widgets/base",
      "_view_module_version": "1.2.0",
      "_view_name": "StyleView",
      "description_width": ""
     }
    },
    "b47434e14a3047a8b4fc68f27b8c7cf6": {
     "model_module": "@jupyter-widgets/controls",
     "model_module_version": "1.5.0",
     "model_name": "DescriptionStyleModel",
     "state": {
      "_model_module": "@jupyter-widgets/controls",
      "_model_module_version": "1.5.0",
      "_model_name": "DescriptionStyleModel",
      "_view_count": null,
      "_view_module": "@jupyter-widgets/base",
      "_view_module_version": "1.2.0",
      "_view_name": "StyleView",
      "description_width": ""
     }
    },
    "bf5bae4eb5f24929ac770d57fca959c5": {
     "model_module": "@jupyter-widgets/base",
     "model_module_version": "1.2.0",
     "model_name": "LayoutModel",
     "state": {
      "_model_module": "@jupyter-widgets/base",
      "_model_module_version": "1.2.0",
      "_model_name": "LayoutModel",
      "_view_count": null,
      "_view_module": "@jupyter-widgets/base",
      "_view_module_version": "1.2.0",
      "_view_name": "LayoutView",
      "align_content": null,
      "align_items": null,
      "align_self": null,
      "border": null,
      "bottom": null,
      "display": null,
      "flex": null,
      "flex_flow": null,
      "grid_area": null,
      "grid_auto_columns": null,
      "grid_auto_flow": null,
      "grid_auto_rows": null,
      "grid_column": null,
      "grid_gap": null,
      "grid_row": null,
      "grid_template_areas": null,
      "grid_template_columns": null,
      "grid_template_rows": null,
      "height": null,
      "justify_content": null,
      "justify_items": null,
      "left": null,
      "margin": null,
      "max_height": null,
      "max_width": null,
      "min_height": null,
      "min_width": null,
      "object_fit": null,
      "object_position": null,
      "order": null,
      "overflow": null,
      "overflow_x": null,
      "overflow_y": null,
      "padding": null,
      "right": null,
      "top": null,
      "visibility": null,
      "width": null
     }
    },
    "e858baf2768140eeafbd4b7707665501": {
     "model_module": "@jupyter-widgets/controls",
     "model_module_version": "1.5.0",
     "model_name": "HBoxModel",
     "state": {
      "_dom_classes": [],
      "_model_module": "@jupyter-widgets/controls",
      "_model_module_version": "1.5.0",
      "_model_name": "HBoxModel",
      "_view_count": null,
      "_view_module": "@jupyter-widgets/controls",
      "_view_module_version": "1.5.0",
      "_view_name": "HBoxView",
      "box_style": "",
      "children": [
       "IPY_MODEL_50b658ffca854732949a76fdf2731ae1",
       "IPY_MODEL_3b6308b484dc4091afc0122584fd0fbd",
       "IPY_MODEL_490ac6cb34484d9d9d78c0f897d219ab"
      ],
      "layout": "IPY_MODEL_303faa4e8a664ebcb13d22c7ca16e15e"
     }
    },
    "eb26f3ab4af04117a01cb6d5123a34a2": {
     "model_module": "@jupyter-widgets/base",
     "model_module_version": "1.2.0",
     "model_name": "LayoutModel",
     "state": {
      "_model_module": "@jupyter-widgets/base",
      "_model_module_version": "1.2.0",
      "_model_name": "LayoutModel",
      "_view_count": null,
      "_view_module": "@jupyter-widgets/base",
      "_view_module_version": "1.2.0",
      "_view_name": "LayoutView",
      "align_content": null,
      "align_items": null,
      "align_self": null,
      "border": null,
      "bottom": null,
      "display": null,
      "flex": null,
      "flex_flow": null,
      "grid_area": null,
      "grid_auto_columns": null,
      "grid_auto_flow": null,
      "grid_auto_rows": null,
      "grid_column": null,
      "grid_gap": null,
      "grid_row": null,
      "grid_template_areas": null,
      "grid_template_columns": null,
      "grid_template_rows": null,
      "height": null,
      "justify_content": null,
      "justify_items": null,
      "left": null,
      "margin": null,
      "max_height": null,
      "max_width": null,
      "min_height": null,
      "min_width": null,
      "object_fit": null,
      "object_position": null,
      "order": null,
      "overflow": null,
      "overflow_x": null,
      "overflow_y": null,
      "padding": null,
      "right": null,
      "top": null,
      "visibility": null,
      "width": null
     }
    },
    "fd877471149b496bac44aed939c11291": {
     "model_module": "@jupyter-widgets/controls",
     "model_module_version": "1.5.0",
     "model_name": "ProgressStyleModel",
     "state": {
      "_model_module": "@jupyter-widgets/controls",
      "_model_module_version": "1.5.0",
      "_model_name": "ProgressStyleModel",
      "_view_count": null,
      "_view_module": "@jupyter-widgets/base",
      "_view_module_version": "1.2.0",
      "_view_name": "StyleView",
      "bar_color": null,
      "description_width": ""
     }
    }
   }
  }
 },
 "nbformat": 4,
 "nbformat_minor": 5
}
