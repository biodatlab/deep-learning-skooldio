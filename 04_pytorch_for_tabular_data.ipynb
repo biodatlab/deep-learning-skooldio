{
 "cells": [
  {
   "cell_type": "markdown",
   "metadata": {
    "id": "YF2zLg6ZasDW"
   },
   "source": [
    "[![Open in Colab](https://colab.research.google.com/assets/colab-badge.svg)](https://colab.research.google.com/github/biodatlab/deep-learning-skooldio/blob/master/04_pytorch_for_tabular_data.ipynb)\n",
    "\n",
    "\n",
    "## **Predicting second hand car price from Rodkaidee: Regression**\n",
    "\n",
    "This notebook contains the following steps for predicting second hand car price from [Rodkaidee website](https://rod.kaidee.com/)\n",
    "\n",
    "- Import libraries\n",
    "- Prepare data: Categorical and numerical features\n",
    "- Train linear regression model\n",
    "- Train one-layer neural network model for regression (equivalent to linear regression)\n",
    "- Train multi-layer neural network model for regression"
   ]
  },
  {
   "cell_type": "code",
   "execution_count": 1,
   "metadata": {
    "id": "zxcAGilIZI0C"
   },
   "outputs": [],
   "source": [
    "import os\n",
    "import os.path as op\n",
    "\n",
    "import pandas as pd\n",
    "import numpy as np\n",
    "from tqdm.auto import tqdm\n",
    "import matplotlib.pyplot as plt\n",
    "\n",
    "import torch\n",
    "import torch.nn as nn\n",
    "import torch.nn.functional as F\n",
    "\n",
    "from sklearn.linear_model import LinearRegression\n",
    "from sklearn.model_selection import train_test_split\n",
    "from sklearn.preprocessing import OneHotEncoder, MinMaxScaler\n",
    "from sklearn.metrics import mean_squared_error\n",
    "import joblib"
   ]
  },
  {
   "cell_type": "markdown",
   "metadata": {
    "id": "1aoH2TxDZI0E"
   },
   "source": [
    "## **Data Preparation**\n",
    "\n",
    "- Download data from [`github.com/biodatlab/deep-learning-skooldio`](https://github.com/biodatlab/deep-learning-skooldio)\n",
    "- Clean and split data"
   ]
  },
  {
   "cell_type": "code",
   "execution_count": 2,
   "metadata": {
    "colab": {
     "base_uri": "https://localhost:8080/"
    },
    "id": "gsG2yzF-asDd",
    "outputId": "de0c93ca-60b1-4b92-a659-a773c47ae7cb"
   },
   "outputs": [
    {
     "name": "stdout",
     "output_type": "stream",
     "text": [
      "Cloning into 'deep-learning-skooldio'...\n",
      "remote: Enumerating objects: 1834, done.\u001b[K\n",
      "remote: Counting objects: 100% (1834/1834), done.\u001b[K\n",
      "remote: Compressing objects: 100% (1794/1794), done.\u001b[K\n",
      "remote: Total 1834 (delta 74), reused 1792 (delta 40), pack-reused 0\u001b[K\n",
      "Receiving objects: 100% (1834/1834), 13.55 MiB | 14.38 MiB/s, done.\n",
      "Resolving deltas: 100% (74/74), done.\n"
     ]
    }
   ],
   "source": [
    "!git clone https://github.com/biodatlab/deep-learning-skooldio"
   ]
  },
  {
   "cell_type": "code",
   "execution_count": 3,
   "metadata": {
    "colab": {
     "base_uri": "https://localhost:8080/",
     "height": 206
    },
    "id": "wCZuVhV7ZI0F",
    "outputId": "595636a2-afe7-487f-83fe-2df450639fc6"
   },
   "outputs": [
    {
     "data": {
      "text/html": [
       "\n",
       "  <div id=\"df-fb35a251-9734-42e2-a678-fbbe8d708467\">\n",
       "    <div class=\"colab-df-container\">\n",
       "      <div>\n",
       "<style scoped>\n",
       "    .dataframe tbody tr th:only-of-type {\n",
       "        vertical-align: middle;\n",
       "    }\n",
       "\n",
       "    .dataframe tbody tr th {\n",
       "        vertical-align: top;\n",
       "    }\n",
       "\n",
       "    .dataframe thead th {\n",
       "        text-align: right;\n",
       "    }\n",
       "</style>\n",
       "<table border=\"1\" class=\"dataframe\">\n",
       "  <thead>\n",
       "    <tr style=\"text-align: right;\">\n",
       "      <th></th>\n",
       "      <th>Brand</th>\n",
       "      <th>Model</th>\n",
       "      <th>Engine</th>\n",
       "      <th>Segment</th>\n",
       "      <th>Year</th>\n",
       "      <th>Mileage</th>\n",
       "      <th>Province</th>\n",
       "      <th>Price</th>\n",
       "      <th>Color</th>\n",
       "    </tr>\n",
       "  </thead>\n",
       "  <tbody>\n",
       "    <tr>\n",
       "      <th>0</th>\n",
       "      <td>Mazda</td>\n",
       "      <td>Mazda2</td>\n",
       "      <td>1.3</td>\n",
       "      <td>B-Segment</td>\n",
       "      <td>2022</td>\n",
       "      <td>15,640</td>\n",
       "      <td>กรุงเทพมหานคร</td>\n",
       "      <td>499,000</td>\n",
       "      <td>Gray</td>\n",
       "    </tr>\n",
       "    <tr>\n",
       "      <th>1</th>\n",
       "      <td>Suzuki</td>\n",
       "      <td>Celerio</td>\n",
       "      <td>1.0</td>\n",
       "      <td>Eco Car</td>\n",
       "      <td>2021</td>\n",
       "      <td>9,545</td>\n",
       "      <td>กรุงเทพมหานคร</td>\n",
       "      <td>315,000</td>\n",
       "      <td>White</td>\n",
       "    </tr>\n",
       "    <tr>\n",
       "      <th>2</th>\n",
       "      <td>Mitsubishi</td>\n",
       "      <td>Mirage</td>\n",
       "      <td>1.2</td>\n",
       "      <td>Eco Car</td>\n",
       "      <td>2021</td>\n",
       "      <td>10,900</td>\n",
       "      <td>นนทบุรี</td>\n",
       "      <td>335,000</td>\n",
       "      <td>Gray</td>\n",
       "    </tr>\n",
       "    <tr>\n",
       "      <th>3</th>\n",
       "      <td>Nissan</td>\n",
       "      <td>March</td>\n",
       "      <td>1.2</td>\n",
       "      <td>Eco Car</td>\n",
       "      <td>2021</td>\n",
       "      <td>12,000</td>\n",
       "      <td>กรุงเทพมหานคร</td>\n",
       "      <td>339,000</td>\n",
       "      <td>Silver</td>\n",
       "    </tr>\n",
       "    <tr>\n",
       "      <th>4</th>\n",
       "      <td>Mitsubishi</td>\n",
       "      <td>Attrage</td>\n",
       "      <td>1.2</td>\n",
       "      <td>Eco Car</td>\n",
       "      <td>2021</td>\n",
       "      <td>25,706</td>\n",
       "      <td>กาญจนบุรี</td>\n",
       "      <td>350,000</td>\n",
       "      <td>Gray</td>\n",
       "    </tr>\n",
       "  </tbody>\n",
       "</table>\n",
       "</div>\n",
       "      <button class=\"colab-df-convert\" onclick=\"convertToInteractive('df-fb35a251-9734-42e2-a678-fbbe8d708467')\"\n",
       "              title=\"Convert this dataframe to an interactive table.\"\n",
       "              style=\"display:none;\">\n",
       "        \n",
       "  <svg xmlns=\"http://www.w3.org/2000/svg\" height=\"24px\"viewBox=\"0 0 24 24\"\n",
       "       width=\"24px\">\n",
       "    <path d=\"M0 0h24v24H0V0z\" fill=\"none\"/>\n",
       "    <path d=\"M18.56 5.44l.94 2.06.94-2.06 2.06-.94-2.06-.94-.94-2.06-.94 2.06-2.06.94zm-11 1L8.5 8.5l.94-2.06 2.06-.94-2.06-.94L8.5 2.5l-.94 2.06-2.06.94zm10 10l.94 2.06.94-2.06 2.06-.94-2.06-.94-.94-2.06-.94 2.06-2.06.94z\"/><path d=\"M17.41 7.96l-1.37-1.37c-.4-.4-.92-.59-1.43-.59-.52 0-1.04.2-1.43.59L10.3 9.45l-7.72 7.72c-.78.78-.78 2.05 0 2.83L4 21.41c.39.39.9.59 1.41.59.51 0 1.02-.2 1.41-.59l7.78-7.78 2.81-2.81c.8-.78.8-2.07 0-2.86zM5.41 20L4 18.59l7.72-7.72 1.47 1.35L5.41 20z\"/>\n",
       "  </svg>\n",
       "      </button>\n",
       "      \n",
       "  <style>\n",
       "    .colab-df-container {\n",
       "      display:flex;\n",
       "      flex-wrap:wrap;\n",
       "      gap: 12px;\n",
       "    }\n",
       "\n",
       "    .colab-df-convert {\n",
       "      background-color: #E8F0FE;\n",
       "      border: none;\n",
       "      border-radius: 50%;\n",
       "      cursor: pointer;\n",
       "      display: none;\n",
       "      fill: #1967D2;\n",
       "      height: 32px;\n",
       "      padding: 0 0 0 0;\n",
       "      width: 32px;\n",
       "    }\n",
       "\n",
       "    .colab-df-convert:hover {\n",
       "      background-color: #E2EBFA;\n",
       "      box-shadow: 0px 1px 2px rgba(60, 64, 67, 0.3), 0px 1px 3px 1px rgba(60, 64, 67, 0.15);\n",
       "      fill: #174EA6;\n",
       "    }\n",
       "\n",
       "    [theme=dark] .colab-df-convert {\n",
       "      background-color: #3B4455;\n",
       "      fill: #D2E3FC;\n",
       "    }\n",
       "\n",
       "    [theme=dark] .colab-df-convert:hover {\n",
       "      background-color: #434B5C;\n",
       "      box-shadow: 0px 1px 3px 1px rgba(0, 0, 0, 0.15);\n",
       "      filter: drop-shadow(0px 1px 2px rgba(0, 0, 0, 0.3));\n",
       "      fill: #FFFFFF;\n",
       "    }\n",
       "  </style>\n",
       "\n",
       "      <script>\n",
       "        const buttonEl =\n",
       "          document.querySelector('#df-fb35a251-9734-42e2-a678-fbbe8d708467 button.colab-df-convert');\n",
       "        buttonEl.style.display =\n",
       "          google.colab.kernel.accessAllowed ? 'block' : 'none';\n",
       "\n",
       "        async function convertToInteractive(key) {\n",
       "          const element = document.querySelector('#df-fb35a251-9734-42e2-a678-fbbe8d708467');\n",
       "          const dataTable =\n",
       "            await google.colab.kernel.invokeFunction('convertToInteractive',\n",
       "                                                     [key], {});\n",
       "          if (!dataTable) return;\n",
       "\n",
       "          const docLinkHtml = 'Like what you see? Visit the ' +\n",
       "            '<a target=\"_blank\" href=https://colab.research.google.com/notebooks/data_table.ipynb>data table notebook</a>'\n",
       "            + ' to learn more about interactive tables.';\n",
       "          element.innerHTML = '';\n",
       "          dataTable['output_type'] = 'display_data';\n",
       "          await google.colab.output.renderOutput(dataTable, element);\n",
       "          const docLink = document.createElement('div');\n",
       "          docLink.innerHTML = docLinkHtml;\n",
       "          element.appendChild(docLink);\n",
       "        }\n",
       "      </script>\n",
       "    </div>\n",
       "  </div>\n",
       "  "
      ],
      "text/plain": [
       "        Brand    Model  Engine    Segment  Year Mileage       Province  \\\n",
       "0       Mazda   Mazda2     1.3  B-Segment  2022  15,640  กรุงเทพมหานคร   \n",
       "1      Suzuki  Celerio     1.0    Eco Car  2021   9,545  กรุงเทพมหานคร   \n",
       "2  Mitsubishi   Mirage     1.2    Eco Car  2021  10,900        นนทบุรี   \n",
       "3      Nissan    March     1.2    Eco Car  2021  12,000  กรุงเทพมหานคร   \n",
       "4  Mitsubishi  Attrage     1.2    Eco Car  2021  25,706      กาญจนบุรี   \n",
       "\n",
       "     Price   Color  \n",
       "0  499,000    Gray  \n",
       "1  315,000   White  \n",
       "2  335,000    Gray  \n",
       "3  339,000  Silver  \n",
       "4  350,000    Gray  "
      ]
     },
     "execution_count": 3,
     "metadata": {},
     "output_type": "execute_result"
    }
   ],
   "source": [
    "df = pd.read_csv(op.join(\"deep-learning-skooldio\", \"rodkaidee-dataset\", \"Rodkaidee Data.csv\"))\n",
    "df.head(5)"
   ]
  },
  {
   "cell_type": "markdown",
   "metadata": {
    "id": "yO2x_5EWasDd"
   },
   "source": [
    "## Clean and split data "
   ]
  },
  {
   "cell_type": "code",
   "execution_count": 4,
   "metadata": {
    "id": "H9ytZhjKasDe"
   },
   "outputs": [],
   "source": [
    "import os.path as op\n",
    "\n",
    "# TODOs: Clean price and mileage from string to float\n",
    "df[\"Mileage\"] = df[\"Mileage\"].apply(lambda x: float(x.replace(\",\", \"\")))\n",
    "df[\"Price\"] = df[\"Price\"].apply(lambda x: float(x.replace(\",\", \"\")))\n",
    "\n",
    "df_train, df_val = train_test_split(df, test_size=0.2, random_state=42)"
   ]
  },
  {
   "cell_type": "code",
   "execution_count": 5,
   "metadata": {
    "colab": {
     "base_uri": "https://localhost:8080/",
     "height": 206
    },
    "id": "VpXUeGsebc5f",
    "outputId": "7723e19d-c80a-4fcd-ae34-bbe844afff1a"
   },
   "outputs": [
    {
     "data": {
      "text/html": [
       "\n",
       "  <div id=\"df-caf3a55c-b5c2-4e37-9fb3-e084ce429257\">\n",
       "    <div class=\"colab-df-container\">\n",
       "      <div>\n",
       "<style scoped>\n",
       "    .dataframe tbody tr th:only-of-type {\n",
       "        vertical-align: middle;\n",
       "    }\n",
       "\n",
       "    .dataframe tbody tr th {\n",
       "        vertical-align: top;\n",
       "    }\n",
       "\n",
       "    .dataframe thead th {\n",
       "        text-align: right;\n",
       "    }\n",
       "</style>\n",
       "<table border=\"1\" class=\"dataframe\">\n",
       "  <thead>\n",
       "    <tr style=\"text-align: right;\">\n",
       "      <th></th>\n",
       "      <th>Brand</th>\n",
       "      <th>Model</th>\n",
       "      <th>Engine</th>\n",
       "      <th>Segment</th>\n",
       "      <th>Year</th>\n",
       "      <th>Mileage</th>\n",
       "      <th>Province</th>\n",
       "      <th>Price</th>\n",
       "      <th>Color</th>\n",
       "    </tr>\n",
       "  </thead>\n",
       "  <tbody>\n",
       "    <tr>\n",
       "      <th>6370</th>\n",
       "      <td>Toyota</td>\n",
       "      <td>Vios</td>\n",
       "      <td>1.5</td>\n",
       "      <td>B-Segment</td>\n",
       "      <td>2008</td>\n",
       "      <td>150000.0</td>\n",
       "      <td>สงขลา</td>\n",
       "      <td>259000.0</td>\n",
       "      <td>Gray</td>\n",
       "    </tr>\n",
       "    <tr>\n",
       "      <th>3915</th>\n",
       "      <td>Toyota</td>\n",
       "      <td>Altis</td>\n",
       "      <td>1.8</td>\n",
       "      <td>C-Segment</td>\n",
       "      <td>2013</td>\n",
       "      <td>101266.0</td>\n",
       "      <td>กรุงเทพมหานคร</td>\n",
       "      <td>299000.0</td>\n",
       "      <td>Black</td>\n",
       "    </tr>\n",
       "    <tr>\n",
       "      <th>7194</th>\n",
       "      <td>Honda</td>\n",
       "      <td>Civic</td>\n",
       "      <td>1.7</td>\n",
       "      <td>C-Segment</td>\n",
       "      <td>2003</td>\n",
       "      <td>280000.0</td>\n",
       "      <td>สระบุรี</td>\n",
       "      <td>119000.0</td>\n",
       "      <td>Gold</td>\n",
       "    </tr>\n",
       "    <tr>\n",
       "      <th>2318</th>\n",
       "      <td>Mazda</td>\n",
       "      <td>Mazda3</td>\n",
       "      <td>2.0</td>\n",
       "      <td>C-Segment</td>\n",
       "      <td>2016</td>\n",
       "      <td>74111.0</td>\n",
       "      <td>กรุงเทพมหานคร</td>\n",
       "      <td>430000.0</td>\n",
       "      <td>Silver</td>\n",
       "    </tr>\n",
       "    <tr>\n",
       "      <th>6677</th>\n",
       "      <td>Toyota</td>\n",
       "      <td>Camry</td>\n",
       "      <td>2.0</td>\n",
       "      <td>D-Segment</td>\n",
       "      <td>2007</td>\n",
       "      <td>263489.0</td>\n",
       "      <td>กรุงเทพมหานคร</td>\n",
       "      <td>288000.0</td>\n",
       "      <td>Brown</td>\n",
       "    </tr>\n",
       "  </tbody>\n",
       "</table>\n",
       "</div>\n",
       "      <button class=\"colab-df-convert\" onclick=\"convertToInteractive('df-caf3a55c-b5c2-4e37-9fb3-e084ce429257')\"\n",
       "              title=\"Convert this dataframe to an interactive table.\"\n",
       "              style=\"display:none;\">\n",
       "        \n",
       "  <svg xmlns=\"http://www.w3.org/2000/svg\" height=\"24px\"viewBox=\"0 0 24 24\"\n",
       "       width=\"24px\">\n",
       "    <path d=\"M0 0h24v24H0V0z\" fill=\"none\"/>\n",
       "    <path d=\"M18.56 5.44l.94 2.06.94-2.06 2.06-.94-2.06-.94-.94-2.06-.94 2.06-2.06.94zm-11 1L8.5 8.5l.94-2.06 2.06-.94-2.06-.94L8.5 2.5l-.94 2.06-2.06.94zm10 10l.94 2.06.94-2.06 2.06-.94-2.06-.94-.94-2.06-.94 2.06-2.06.94z\"/><path d=\"M17.41 7.96l-1.37-1.37c-.4-.4-.92-.59-1.43-.59-.52 0-1.04.2-1.43.59L10.3 9.45l-7.72 7.72c-.78.78-.78 2.05 0 2.83L4 21.41c.39.39.9.59 1.41.59.51 0 1.02-.2 1.41-.59l7.78-7.78 2.81-2.81c.8-.78.8-2.07 0-2.86zM5.41 20L4 18.59l7.72-7.72 1.47 1.35L5.41 20z\"/>\n",
       "  </svg>\n",
       "      </button>\n",
       "      \n",
       "  <style>\n",
       "    .colab-df-container {\n",
       "      display:flex;\n",
       "      flex-wrap:wrap;\n",
       "      gap: 12px;\n",
       "    }\n",
       "\n",
       "    .colab-df-convert {\n",
       "      background-color: #E8F0FE;\n",
       "      border: none;\n",
       "      border-radius: 50%;\n",
       "      cursor: pointer;\n",
       "      display: none;\n",
       "      fill: #1967D2;\n",
       "      height: 32px;\n",
       "      padding: 0 0 0 0;\n",
       "      width: 32px;\n",
       "    }\n",
       "\n",
       "    .colab-df-convert:hover {\n",
       "      background-color: #E2EBFA;\n",
       "      box-shadow: 0px 1px 2px rgba(60, 64, 67, 0.3), 0px 1px 3px 1px rgba(60, 64, 67, 0.15);\n",
       "      fill: #174EA6;\n",
       "    }\n",
       "\n",
       "    [theme=dark] .colab-df-convert {\n",
       "      background-color: #3B4455;\n",
       "      fill: #D2E3FC;\n",
       "    }\n",
       "\n",
       "    [theme=dark] .colab-df-convert:hover {\n",
       "      background-color: #434B5C;\n",
       "      box-shadow: 0px 1px 3px 1px rgba(0, 0, 0, 0.15);\n",
       "      filter: drop-shadow(0px 1px 2px rgba(0, 0, 0, 0.3));\n",
       "      fill: #FFFFFF;\n",
       "    }\n",
       "  </style>\n",
       "\n",
       "      <script>\n",
       "        const buttonEl =\n",
       "          document.querySelector('#df-caf3a55c-b5c2-4e37-9fb3-e084ce429257 button.colab-df-convert');\n",
       "        buttonEl.style.display =\n",
       "          google.colab.kernel.accessAllowed ? 'block' : 'none';\n",
       "\n",
       "        async function convertToInteractive(key) {\n",
       "          const element = document.querySelector('#df-caf3a55c-b5c2-4e37-9fb3-e084ce429257');\n",
       "          const dataTable =\n",
       "            await google.colab.kernel.invokeFunction('convertToInteractive',\n",
       "                                                     [key], {});\n",
       "          if (!dataTable) return;\n",
       "\n",
       "          const docLinkHtml = 'Like what you see? Visit the ' +\n",
       "            '<a target=\"_blank\" href=https://colab.research.google.com/notebooks/data_table.ipynb>data table notebook</a>'\n",
       "            + ' to learn more about interactive tables.';\n",
       "          element.innerHTML = '';\n",
       "          dataTable['output_type'] = 'display_data';\n",
       "          await google.colab.output.renderOutput(dataTable, element);\n",
       "          const docLink = document.createElement('div');\n",
       "          docLink.innerHTML = docLinkHtml;\n",
       "          element.appendChild(docLink);\n",
       "        }\n",
       "      </script>\n",
       "    </div>\n",
       "  </div>\n",
       "  "
      ],
      "text/plain": [
       "       Brand   Model  Engine    Segment  Year   Mileage       Province  \\\n",
       "6370  Toyota    Vios     1.5  B-Segment  2008  150000.0          สงขลา   \n",
       "3915  Toyota   Altis     1.8  C-Segment  2013  101266.0  กรุงเทพมหานคร   \n",
       "7194   Honda   Civic     1.7  C-Segment  2003  280000.0        สระบุรี   \n",
       "2318   Mazda  Mazda3     2.0  C-Segment  2016   74111.0  กรุงเทพมหานคร   \n",
       "6677  Toyota   Camry     2.0  D-Segment  2007  263489.0  กรุงเทพมหานคร   \n",
       "\n",
       "         Price   Color  \n",
       "6370  259000.0    Gray  \n",
       "3915  299000.0   Black  \n",
       "7194  119000.0    Gold  \n",
       "2318  430000.0  Silver  \n",
       "6677  288000.0   Brown  "
      ]
     },
     "execution_count": 5,
     "metadata": {},
     "output_type": "execute_result"
    }
   ],
   "source": [
    "df_train.head()"
   ]
  },
  {
   "cell_type": "code",
   "execution_count": 6,
   "metadata": {
    "colab": {
     "base_uri": "https://localhost:8080/"
    },
    "id": "5d1SgM7Ebhme",
    "outputId": "a1b87b9a-2295-4a40-e910-77e88ffc2ff1"
   },
   "outputs": [
    {
     "data": {
      "text/plain": [
       "(5916, 1480)"
      ]
     },
     "execution_count": 6,
     "metadata": {},
     "output_type": "execute_result"
    }
   ],
   "source": [
    "len(df_train), len(df_val)"
   ]
  },
  {
   "cell_type": "markdown",
   "metadata": {
    "id": "JFqqEkUUZI0G"
   },
   "source": [
    "## Apply One-hot Encoding to categorical values\n",
    "\n",
    "For example, if a column has three unique values 'A', 'B', and 'C', rows that contain 'C' will be transformed to [0, 0, 1]."
   ]
  },
  {
   "cell_type": "code",
   "execution_count": 12,
   "metadata": {
    "id": "UVGQx_osasDf"
   },
   "outputs": [],
   "source": [
    "# TODOs: Create one-hot encoder for categorical columns\n",
    "CAT_COLUMNS = [\"Brand\", \"Model\", \"Engine\", \"Segment\", \"Province\", \"Color\"]\n",
    "\n",
    "ohe = OneHotEncoder(handle_unknown=\"ignore\", sparse=False)\n",
    "cat_train_array = ohe.fit_transform(df_train[CAT_COLUMNS])"
   ]
  },
  {
   "cell_type": "code",
   "execution_count": 13,
   "metadata": {
    "id": "IxG2lFoCcPD1"
   },
   "outputs": [],
   "source": [
    "cat_val_array = ohe.transform(df_val[CAT_COLUMNS])"
   ]
  },
  {
   "cell_type": "code",
   "execution_count": 16,
   "metadata": {
    "colab": {
     "base_uri": "https://localhost:8080/"
    },
    "id": "Sxm-kcWbccJh",
    "outputId": "ef3ddb93-21cb-43d1-d20e-dfa03b6b2c60"
   },
   "outputs": [
    {
     "data": {
      "text/plain": [
       "((5916, 136), (1480, 136))"
      ]
     },
     "execution_count": 16,
     "metadata": {},
     "output_type": "execute_result"
    }
   ],
   "source": [
    "cat_train_array.shape, cat_val_array.shape"
   ]
  },
  {
   "cell_type": "markdown",
   "metadata": {
    "id": "TWBWpadpZI0I"
   },
   "source": [
    "## Normalize continuous values\n",
    "\n",
    "We will use `MinMaxScaler` to normalize continuous value.\n",
    "For example, column X has values from 0 to 1000000, so we need to normalize them to 0 to 1.\n",
    "Alternatively `StandardScaler` is also an option."
   ]
  },
  {
   "cell_type": "code",
   "execution_count": 21,
   "metadata": {
    "id": "2zc0NpePZI0I"
   },
   "outputs": [],
   "source": [
    "# TODOs: Create MinMaxScaler for numerical (continuous) columns\n",
    "year_scaler = MinMaxScaler()\n",
    "mileage_scaler = MinMaxScaler()\n",
    "price_scaler = MinMaxScaler()"
   ]
  },
  {
   "cell_type": "code",
   "execution_count": 22,
   "metadata": {
    "id": "2n9gbMzafEN8"
   },
   "outputs": [],
   "source": [
    "scaled_year = year_scaler.fit_transform(df_train[[\"Year\"]])\n",
    "scaled_mileage = mileage_scaler.fit_transform(df_train[[\"Mileage\"]])\n",
    "scaled_price = price_scaler.fit_transform(df_train[[\"Price\"]])"
   ]
  },
  {
   "cell_type": "markdown",
   "metadata": {
    "id": "XrcO5iI9asDg"
   },
   "source": [
    "## Apply one-hot encoding and normalization to create train and teset dataset"
   ]
  },
  {
   "cell_type": "code",
   "execution_count": 25,
   "metadata": {
    "id": "Vh4JhhrHasDh"
   },
   "outputs": [],
   "source": [
    "# TODOs: Apply one-hot encoder and MinMaxScaler to the training and validation dataframe \n",
    "X_train = np.hstack([\n",
    "    ohe.transform(df_train[CAT_COLUMNS]),\n",
    "    year_scaler.transform(df_train[[\"Year\"]]),\n",
    "    mileage_scaler.transform(df_train[[\"Mileage\"]])\n",
    "])\n",
    "y_train = price_scaler.transform(df_train[[\"Price\"]])\n",
    "\n",
    "X_val = np.hstack([\n",
    "    ohe.transform(df_val[CAT_COLUMNS]),\n",
    "    year_scaler.transform(df_val[[\"Year\"]]),\n",
    "    mileage_scaler.transform(df_val[[\"Mileage\"]])\n",
    "])\n",
    "y_val = price_scaler.transform(df_val[[\"Price\"]])"
   ]
  },
  {
   "cell_type": "code",
   "execution_count": 26,
   "metadata": {
    "colab": {
     "base_uri": "https://localhost:8080/"
    },
    "id": "ePU5U-tVhSMN",
    "outputId": "c9568372-3e0a-4221-dc49-dce3c84953a6"
   },
   "outputs": [
    {
     "data": {
      "text/plain": [
       "((5916, 138), (5916, 1), (1480, 138), (1480, 1))"
      ]
     },
     "execution_count": 26,
     "metadata": {},
     "output_type": "execute_result"
    }
   ],
   "source": [
    "X_train.shape, y_train.shape, X_val.shape, y_val.shape"
   ]
  },
  {
   "cell_type": "code",
   "execution_count": 27,
   "metadata": {
    "colab": {
     "base_uri": "https://localhost:8080/"
    },
    "id": "fgOFl7HdasDh",
    "outputId": "1c760e50-8da1-4c9e-fb1d-27fa4e6e177e"
   },
   "outputs": [
    {
     "data": {
      "text/plain": [
       "['trained_models/price_scaler.joblib']"
      ]
     },
     "execution_count": 27,
     "metadata": {},
     "output_type": "execute_result"
    }
   ],
   "source": [
    "# save one-hot encoder and scaler objects with joblib\n",
    "save_dir = \"trained_models\"\n",
    "os.makedirs(save_dir, exist_ok=True)\n",
    "joblib.dump(ohe, op.join(save_dir, \"one_hot_encoder.joblib\"))\n",
    "joblib.dump(year_scaler, op.join(save_dir, \"year_scaler.joblib\"))\n",
    "joblib.dump(mileage_scaler, op.join(save_dir, \"mileage_scaler.joblib\"))\n",
    "joblib.dump(price_scaler, op.join(save_dir, \"price_scaler.joblib\"))"
   ]
  },
  {
   "cell_type": "markdown",
   "metadata": {
    "id": "YN3Ax68RZI0I"
   },
   "source": [
    "## **Train a Linear Regression Model**"
   ]
  },
  {
   "cell_type": "code",
   "execution_count": 28,
   "metadata": {
    "colab": {
     "base_uri": "https://localhost:8080/"
    },
    "id": "QUxSUR6yZI0J",
    "outputId": "c70dc868-6221-4564-d2ac-71d2d7593aad"
   },
   "outputs": [
    {
     "data": {
      "text/plain": [
       "LinearRegression()"
      ]
     },
     "execution_count": 28,
     "metadata": {},
     "output_type": "execute_result"
    }
   ],
   "source": [
    "# TODO: create a linear regression model and fit to the training data.\n",
    "lr_model = LinearRegression()\n",
    "lr_model.fit(X_train, y_train)"
   ]
  },
  {
   "cell_type": "code",
   "execution_count": 29,
   "metadata": {
    "colab": {
     "base_uri": "https://localhost:8080/"
    },
    "id": "33zmOTtJinN-",
    "outputId": "dd9f5357-f6f0-442e-8e11-e9eb68b34ccd"
   },
   "outputs": [
    {
     "data": {
      "text/plain": [
       "(1480, 1)"
      ]
     },
     "execution_count": 29,
     "metadata": {},
     "output_type": "execute_result"
    }
   ],
   "source": [
    "y_pred_lr = lr_model.predict(X_val)\n",
    "y_pred_lr.shape"
   ]
  },
  {
   "cell_type": "code",
   "execution_count": 31,
   "metadata": {
    "id": "XbhleAldizkW"
   },
   "outputs": [],
   "source": [
    "df_val[\"Predicted_Price_LR\"] = price_scaler.inverse_transform(y_pred_lr).ravel()"
   ]
  },
  {
   "cell_type": "code",
   "execution_count": 32,
   "metadata": {
    "colab": {
     "base_uri": "https://localhost:8080/",
     "height": 424
    },
    "id": "0lQ7NN7wjDno",
    "outputId": "9e02ae46-2d8d-4a44-e771-e379f4200a9c"
   },
   "outputs": [
    {
     "data": {
      "text/html": [
       "\n",
       "  <div id=\"df-1de9e2f8-40d2-44d4-97d9-01dcced180dc\">\n",
       "    <div class=\"colab-df-container\">\n",
       "      <div>\n",
       "<style scoped>\n",
       "    .dataframe tbody tr th:only-of-type {\n",
       "        vertical-align: middle;\n",
       "    }\n",
       "\n",
       "    .dataframe tbody tr th {\n",
       "        vertical-align: top;\n",
       "    }\n",
       "\n",
       "    .dataframe thead th {\n",
       "        text-align: right;\n",
       "    }\n",
       "</style>\n",
       "<table border=\"1\" class=\"dataframe\">\n",
       "  <thead>\n",
       "    <tr style=\"text-align: right;\">\n",
       "      <th></th>\n",
       "      <th>Brand</th>\n",
       "      <th>Model</th>\n",
       "      <th>Engine</th>\n",
       "      <th>Segment</th>\n",
       "      <th>Year</th>\n",
       "      <th>Mileage</th>\n",
       "      <th>Province</th>\n",
       "      <th>Price</th>\n",
       "      <th>Color</th>\n",
       "      <th>Predicted_Price_LR</th>\n",
       "    </tr>\n",
       "  </thead>\n",
       "  <tbody>\n",
       "    <tr>\n",
       "      <th>2759</th>\n",
       "      <td>Toyota</td>\n",
       "      <td>Vios</td>\n",
       "      <td>1.5</td>\n",
       "      <td>B-Segment</td>\n",
       "      <td>2015</td>\n",
       "      <td>62639.0</td>\n",
       "      <td>กรุงเทพมหานคร</td>\n",
       "      <td>338000.0</td>\n",
       "      <td>Gray</td>\n",
       "      <td>380511.901855</td>\n",
       "    </tr>\n",
       "    <tr>\n",
       "      <th>2846</th>\n",
       "      <td>Toyota</td>\n",
       "      <td>Altis</td>\n",
       "      <td>1.6</td>\n",
       "      <td>C-Segment</td>\n",
       "      <td>2015</td>\n",
       "      <td>65615.0</td>\n",
       "      <td>สงขลา</td>\n",
       "      <td>385000.0</td>\n",
       "      <td>Silver</td>\n",
       "      <td>421315.979004</td>\n",
       "    </tr>\n",
       "    <tr>\n",
       "      <th>6682</th>\n",
       "      <td>Honda</td>\n",
       "      <td>Civic</td>\n",
       "      <td>2.0</td>\n",
       "      <td>C-Segment</td>\n",
       "      <td>2007</td>\n",
       "      <td>203000.0</td>\n",
       "      <td>สิงห์บุรี</td>\n",
       "      <td>295000.0</td>\n",
       "      <td>Gray</td>\n",
       "      <td>265464.721680</td>\n",
       "    </tr>\n",
       "    <tr>\n",
       "      <th>3262</th>\n",
       "      <td>Toyota</td>\n",
       "      <td>Yaris</td>\n",
       "      <td>1.2</td>\n",
       "      <td>Eco Car</td>\n",
       "      <td>2014</td>\n",
       "      <td>124007.0</td>\n",
       "      <td>ราชบุรี</td>\n",
       "      <td>339000.0</td>\n",
       "      <td>White</td>\n",
       "      <td>294501.647949</td>\n",
       "    </tr>\n",
       "    <tr>\n",
       "      <th>486</th>\n",
       "      <td>Mazda</td>\n",
       "      <td>Mazda2</td>\n",
       "      <td>1.3</td>\n",
       "      <td>B-Segment</td>\n",
       "      <td>2019</td>\n",
       "      <td>51957.0</td>\n",
       "      <td>กรุงเทพมหานคร</td>\n",
       "      <td>439000.0</td>\n",
       "      <td>Blue</td>\n",
       "      <td>447559.265137</td>\n",
       "    </tr>\n",
       "    <tr>\n",
       "      <th>...</th>\n",
       "      <td>...</td>\n",
       "      <td>...</td>\n",
       "      <td>...</td>\n",
       "      <td>...</td>\n",
       "      <td>...</td>\n",
       "      <td>...</td>\n",
       "      <td>...</td>\n",
       "      <td>...</td>\n",
       "      <td>...</td>\n",
       "      <td>...</td>\n",
       "    </tr>\n",
       "    <tr>\n",
       "      <th>6782</th>\n",
       "      <td>Toyota</td>\n",
       "      <td>Yaris</td>\n",
       "      <td>1.5</td>\n",
       "      <td>Eco Car</td>\n",
       "      <td>2006</td>\n",
       "      <td>156479.0</td>\n",
       "      <td>กรุงเทพมหานคร</td>\n",
       "      <td>185000.0</td>\n",
       "      <td>Gray</td>\n",
       "      <td>107497.070312</td>\n",
       "    </tr>\n",
       "    <tr>\n",
       "      <th>110</th>\n",
       "      <td>Mitsubishi</td>\n",
       "      <td>Attrage</td>\n",
       "      <td>1.2</td>\n",
       "      <td>Eco Car</td>\n",
       "      <td>2020</td>\n",
       "      <td>13000.0</td>\n",
       "      <td>สระบุรี</td>\n",
       "      <td>385000.0</td>\n",
       "      <td>White</td>\n",
       "      <td>425294.799805</td>\n",
       "    </tr>\n",
       "    <tr>\n",
       "      <th>51</th>\n",
       "      <td>Toyota</td>\n",
       "      <td>Yaris</td>\n",
       "      <td>1.2</td>\n",
       "      <td>Eco Car</td>\n",
       "      <td>2021</td>\n",
       "      <td>2000.0</td>\n",
       "      <td>นนทบุรี</td>\n",
       "      <td>519000.0</td>\n",
       "      <td>White</td>\n",
       "      <td>528151.550293</td>\n",
       "    </tr>\n",
       "    <tr>\n",
       "      <th>1109</th>\n",
       "      <td>Toyota</td>\n",
       "      <td>Altis</td>\n",
       "      <td>1.6</td>\n",
       "      <td>C-Segment</td>\n",
       "      <td>2018</td>\n",
       "      <td>94970.0</td>\n",
       "      <td>นนทบุรี</td>\n",
       "      <td>477000.0</td>\n",
       "      <td>Gray</td>\n",
       "      <td>488871.276855</td>\n",
       "    </tr>\n",
       "    <tr>\n",
       "      <th>3745</th>\n",
       "      <td>Toyota</td>\n",
       "      <td>Vios</td>\n",
       "      <td>1.5</td>\n",
       "      <td>B-Segment</td>\n",
       "      <td>2013</td>\n",
       "      <td>120000.0</td>\n",
       "      <td>กรุงเทพมหานคร</td>\n",
       "      <td>260080.0</td>\n",
       "      <td>White</td>\n",
       "      <td>320490.966797</td>\n",
       "    </tr>\n",
       "  </tbody>\n",
       "</table>\n",
       "<p>1480 rows × 10 columns</p>\n",
       "</div>\n",
       "      <button class=\"colab-df-convert\" onclick=\"convertToInteractive('df-1de9e2f8-40d2-44d4-97d9-01dcced180dc')\"\n",
       "              title=\"Convert this dataframe to an interactive table.\"\n",
       "              style=\"display:none;\">\n",
       "        \n",
       "  <svg xmlns=\"http://www.w3.org/2000/svg\" height=\"24px\"viewBox=\"0 0 24 24\"\n",
       "       width=\"24px\">\n",
       "    <path d=\"M0 0h24v24H0V0z\" fill=\"none\"/>\n",
       "    <path d=\"M18.56 5.44l.94 2.06.94-2.06 2.06-.94-2.06-.94-.94-2.06-.94 2.06-2.06.94zm-11 1L8.5 8.5l.94-2.06 2.06-.94-2.06-.94L8.5 2.5l-.94 2.06-2.06.94zm10 10l.94 2.06.94-2.06 2.06-.94-2.06-.94-.94-2.06-.94 2.06-2.06.94z\"/><path d=\"M17.41 7.96l-1.37-1.37c-.4-.4-.92-.59-1.43-.59-.52 0-1.04.2-1.43.59L10.3 9.45l-7.72 7.72c-.78.78-.78 2.05 0 2.83L4 21.41c.39.39.9.59 1.41.59.51 0 1.02-.2 1.41-.59l7.78-7.78 2.81-2.81c.8-.78.8-2.07 0-2.86zM5.41 20L4 18.59l7.72-7.72 1.47 1.35L5.41 20z\"/>\n",
       "  </svg>\n",
       "      </button>\n",
       "      \n",
       "  <style>\n",
       "    .colab-df-container {\n",
       "      display:flex;\n",
       "      flex-wrap:wrap;\n",
       "      gap: 12px;\n",
       "    }\n",
       "\n",
       "    .colab-df-convert {\n",
       "      background-color: #E8F0FE;\n",
       "      border: none;\n",
       "      border-radius: 50%;\n",
       "      cursor: pointer;\n",
       "      display: none;\n",
       "      fill: #1967D2;\n",
       "      height: 32px;\n",
       "      padding: 0 0 0 0;\n",
       "      width: 32px;\n",
       "    }\n",
       "\n",
       "    .colab-df-convert:hover {\n",
       "      background-color: #E2EBFA;\n",
       "      box-shadow: 0px 1px 2px rgba(60, 64, 67, 0.3), 0px 1px 3px 1px rgba(60, 64, 67, 0.15);\n",
       "      fill: #174EA6;\n",
       "    }\n",
       "\n",
       "    [theme=dark] .colab-df-convert {\n",
       "      background-color: #3B4455;\n",
       "      fill: #D2E3FC;\n",
       "    }\n",
       "\n",
       "    [theme=dark] .colab-df-convert:hover {\n",
       "      background-color: #434B5C;\n",
       "      box-shadow: 0px 1px 3px 1px rgba(0, 0, 0, 0.15);\n",
       "      filter: drop-shadow(0px 1px 2px rgba(0, 0, 0, 0.3));\n",
       "      fill: #FFFFFF;\n",
       "    }\n",
       "  </style>\n",
       "\n",
       "      <script>\n",
       "        const buttonEl =\n",
       "          document.querySelector('#df-1de9e2f8-40d2-44d4-97d9-01dcced180dc button.colab-df-convert');\n",
       "        buttonEl.style.display =\n",
       "          google.colab.kernel.accessAllowed ? 'block' : 'none';\n",
       "\n",
       "        async function convertToInteractive(key) {\n",
       "          const element = document.querySelector('#df-1de9e2f8-40d2-44d4-97d9-01dcced180dc');\n",
       "          const dataTable =\n",
       "            await google.colab.kernel.invokeFunction('convertToInteractive',\n",
       "                                                     [key], {});\n",
       "          if (!dataTable) return;\n",
       "\n",
       "          const docLinkHtml = 'Like what you see? Visit the ' +\n",
       "            '<a target=\"_blank\" href=https://colab.research.google.com/notebooks/data_table.ipynb>data table notebook</a>'\n",
       "            + ' to learn more about interactive tables.';\n",
       "          element.innerHTML = '';\n",
       "          dataTable['output_type'] = 'display_data';\n",
       "          await google.colab.output.renderOutput(dataTable, element);\n",
       "          const docLink = document.createElement('div');\n",
       "          docLink.innerHTML = docLinkHtml;\n",
       "          element.appendChild(docLink);\n",
       "        }\n",
       "      </script>\n",
       "    </div>\n",
       "  </div>\n",
       "  "
      ],
      "text/plain": [
       "           Brand    Model  Engine    Segment  Year   Mileage       Province  \\\n",
       "2759      Toyota     Vios     1.5  B-Segment  2015   62639.0  กรุงเทพมหานคร   \n",
       "2846      Toyota    Altis     1.6  C-Segment  2015   65615.0          สงขลา   \n",
       "6682       Honda    Civic     2.0  C-Segment  2007  203000.0      สิงห์บุรี   \n",
       "3262      Toyota    Yaris     1.2    Eco Car  2014  124007.0        ราชบุรี   \n",
       "486        Mazda   Mazda2     1.3  B-Segment  2019   51957.0  กรุงเทพมหานคร   \n",
       "...          ...      ...     ...        ...   ...       ...            ...   \n",
       "6782      Toyota    Yaris     1.5    Eco Car  2006  156479.0  กรุงเทพมหานคร   \n",
       "110   Mitsubishi  Attrage     1.2    Eco Car  2020   13000.0        สระบุรี   \n",
       "51        Toyota    Yaris     1.2    Eco Car  2021    2000.0        นนทบุรี   \n",
       "1109      Toyota    Altis     1.6  C-Segment  2018   94970.0        นนทบุรี   \n",
       "3745      Toyota     Vios     1.5  B-Segment  2013  120000.0  กรุงเทพมหานคร   \n",
       "\n",
       "         Price   Color  Predicted_Price_LR  \n",
       "2759  338000.0    Gray       380511.901855  \n",
       "2846  385000.0  Silver       421315.979004  \n",
       "6682  295000.0    Gray       265464.721680  \n",
       "3262  339000.0   White       294501.647949  \n",
       "486   439000.0    Blue       447559.265137  \n",
       "...        ...     ...                 ...  \n",
       "6782  185000.0    Gray       107497.070312  \n",
       "110   385000.0   White       425294.799805  \n",
       "51    519000.0   White       528151.550293  \n",
       "1109  477000.0    Gray       488871.276855  \n",
       "3745  260080.0   White       320490.966797  \n",
       "\n",
       "[1480 rows x 10 columns]"
      ]
     },
     "execution_count": 32,
     "metadata": {},
     "output_type": "execute_result"
    }
   ],
   "source": [
    "df_val"
   ]
  },
  {
   "cell_type": "markdown",
   "metadata": {
    "id": "by3rYB_zasDi"
   },
   "source": [
    "## **Evaluate and plot relationship between actual and predicted values**"
   ]
  },
  {
   "cell_type": "code",
   "execution_count": 33,
   "metadata": {
    "colab": {
     "base_uri": "https://localhost:8080/"
    },
    "id": "n3KLO5lvasDi",
    "outputId": "5f3f26b7-e435-4eb0-fb5f-21b8c12b5bd5"
   },
   "outputs": [
    {
     "name": "stdout",
     "output_type": "stream",
     "text": [
      "MSE =  0.003126228558529542\n",
      "MSE (scikit learn) =  0.003126228558529542\n"
     ]
    }
   ],
   "source": [
    "# Calculate the mean squared error between actual value and prediction\n",
    "\n",
    "# Create your own\n",
    "print(\"MSE = \", ((y_val - y_pred_lr)**2).sum() / len(y_val))\n",
    "\n",
    "# Use `mean_squared_error` from scikit learn\n",
    "print(\"MSE (scikit learn) = \", mean_squared_error(y_val, y_pred_lr))"
   ]
  },
  {
   "cell_type": "code",
   "execution_count": 35,
   "metadata": {
    "colab": {
     "base_uri": "https://localhost:8080/",
     "height": 295
    },
    "id": "qbxZv9PhkPbu",
    "outputId": "458bd929-19df-41e9-d817-e93be16698a4"
   },
   "outputs": [
    {
     "data": {
      "image/png": "[encoded data removed]",
      "text/plain": [
       "<Figure size 432x288 with 1 Axes>"
      ]
     },
     "metadata": {
      "needs_background": "light"
     },
     "output_type": "display_data"
    }
   ],
   "source": [
    "# Plot a perfect prediction line.\n",
    "plt.plot([0, 1], [0, 1],  \"--\", color=\"black\",)\n",
    "# Plot the predictions vs the actual values.\n",
    "plt.Figure(figsize=(10, 10))\n",
    "plt.scatter(y_pred_lr, y_val, alpha=0.2)\n",
    "\n",
    "plt.xlabel(\"Predictions value\")\n",
    "plt.ylabel(\"Actual value\")\n",
    "plt.title(\"Predictions vs Actual\")\n",
    "plt.xlim(0, 1)\n",
    "plt.ylim(0, 1)\n",
    "plt.show()"
   ]
  },
  {
   "cell_type": "code",
   "execution_count": 36,
   "metadata": {
    "colab": {
     "base_uri": "https://localhost:8080/"
    },
    "id": "ITn65lMiasDj",
    "outputId": "e20db353-c906-48c4-8b9c-2c8f50f314d5"
   },
   "outputs": [
    {
     "data": {
      "text/plain": [
       "['trained_models/carprice_model_linear_regression.joblib']"
      ]
     },
     "execution_count": 36,
     "metadata": {},
     "output_type": "execute_result"
    }
   ],
   "source": [
    "joblib.dump(lr_model, \"trained_models/carprice_model_linear_regression.joblib\")"
   ]
  },
  {
   "cell_type": "markdown",
   "metadata": {
    "id": "3wvVjwnkZI0K"
   },
   "source": [
    "## **Train a Neural Network to predict car price**"
   ]
  },
  {
   "cell_type": "code",
   "execution_count": 37,
   "metadata": {
    "id": "cRVX8bSxZI0L"
   },
   "outputs": [],
   "source": [
    "from torch.utils.data import Dataset, DataLoader\n",
    "\n",
    "# TODO: Create dataset from numpy array X, y\n",
    "class CarPriceDataset(Dataset):\n",
    "    def __init__(self, X, y = None):\n",
    "        self.X = X\n",
    "        if y is not None:\n",
    "            self.y = y\n",
    "        else:\n",
    "            self.y = None\n",
    "\n",
    "    def __len__(self):\n",
    "        return len(self.X)\n",
    "\n",
    "    def __getitem__(self, idx):\n",
    "        if self.y is not None:\n",
    "            return self.X[idx], self.y[idx]\n",
    "        else:\n",
    "            return self.X[idx]"
   ]
  },
  {
   "cell_type": "code",
   "execution_count": 41,
   "metadata": {
    "colab": {
     "base_uri": "https://localhost:8080/"
    },
    "id": "gMqdQ4mam3V6",
    "outputId": "30aa5d0b-6234-41a5-e26f-644577d08f5c"
   },
   "outputs": [
    {
     "data": {
      "text/plain": [
       "(torch.Size([32, 138]), torch.Size([32, 1]))"
      ]
     },
     "execution_count": 41,
     "metadata": {},
     "output_type": "execute_result"
    }
   ],
   "source": [
    "# TODO: Create dataset and dataloader\n",
    "train_dataset = CarPriceDataset(X_train, y_train)\n",
    "val_dataset = CarPriceDataset(X_val, y_val)\n",
    "\n",
    "train_dataloader = DataLoader(train_dataset, batch_size=32, shuffle=True)\n",
    "val_dataloader = DataLoader(val_dataset, batch_size=32, shuffle=False)\n",
    "\n",
    "x_sample, y_sample = next(iter(train_dataloader))\n",
    "x_sample.shape, y_sample.shape"
   ]
  },
  {
   "cell_type": "code",
   "execution_count": 42,
   "metadata": {
    "id": "zSvDE-GjZI0L"
   },
   "outputs": [],
   "source": [
    "class CarPriceModel(nn.Module):\n",
    "    def __init__(self, input_size, output_size):\n",
    "        super().__init__()\n",
    "        # TODO: create a linear layer with input_size and output_size\n",
    "        self.linear = nn.Linear(input_size, output_size)\n",
    "\n",
    "    def forward(self, x):\n",
    "        x = self.linear(x)\n",
    "        return x"
   ]
  },
  {
   "cell_type": "code",
   "execution_count": 43,
   "metadata": {
    "colab": {
     "base_uri": "https://localhost:8080/"
    },
    "id": "YXdDQUJXZI0L",
    "outputId": "6c1fbbba-8c63-40b3-dcb9-01be98f8e889"
   },
   "outputs": [
    {
     "name": "stdout",
     "output_type": "stream",
     "text": [
      "138\n"
     ]
    },
    {
     "data": {
      "text/plain": [
       "CarPriceModel(\n",
       "  (linear): Linear(in_features=138, out_features=1, bias=True)\n",
       ")"
      ]
     },
     "execution_count": 43,
     "metadata": {},
     "output_type": "execute_result"
    }
   ],
   "source": [
    "n_features, n_output = X_train.shape[1], y_train.shape[1]\n",
    "print(n_features)\n",
    "model = CarPriceModel(input_size=n_features, output_size=n_output)\n",
    "model"
   ]
  },
  {
   "cell_type": "code",
   "execution_count": 44,
   "metadata": {
    "id": "et7X7qfaasDk"
   },
   "outputs": [],
   "source": [
    "def train(\n",
    "    model,\n",
    "    train_dataloader,\n",
    "    test_dataloader,\n",
    "    optimizer,\n",
    "    loss_fn = nn.MSELoss(reduction='mean'),\n",
    "    num_epochs = 100,\n",
    "    update_frequency = 10,\n",
    "):\n",
    "    for epoch in tqdm(range(num_epochs)):\n",
    "        # Set the model to training mode.\n",
    "        model.train()\n",
    "        for x, y in train_dataloader:\n",
    "            # Forward pass.\n",
    "            y_pred = model(x.float())\n",
    "            # Calculate the loss.\n",
    "            loss = loss_fn(y_pred, y.float())\n",
    "            # Backward pass.\n",
    "            loss.backward()\n",
    "            # Update the model parameters.\n",
    "            optimizer.step()\n",
    "            # Reset the gradients.\n",
    "            optimizer.zero_grad()\n",
    "\n",
    "        # Set the model to evaluation mode and calculate the test loss at the end of each epoch.\n",
    "        model.eval()\n",
    "        with torch.no_grad():\n",
    "            for x, y in test_dataloader:\n",
    "                # Forward pass.\n",
    "                y_pred = model(x.float())\n",
    "                # Calculate the loss.\n",
    "                loss = loss_fn(y_pred, y.float())\n",
    "\n",
    "            # Print the loss if the epoch is a multiple of 10.\n",
    "            if epoch % update_frequency == 0:\n",
    "                print(f\"Epoch {epoch}: {loss.item()}\")"
   ]
  },
  {
   "cell_type": "code",
   "execution_count": 45,
   "metadata": {
    "colab": {
     "base_uri": "https://localhost:8080/",
     "height": 257,
     "referenced_widgets": [
      "c968faef3c0248a8826179d5b5ccee81",
      "4fadfad6b6cc42568e01ba7a1403e5fe",
      "c973addeba1c4ab4a29ac8c7036b4f0b",
      "dc7b8ef6f3fd4795b34b3fb9d98e38b6",
      "b4b07bc5407f4db0a8493aa1220d0dd5",
      "2fe6fb9ee13741d28b7869e11160a6fa",
      "78f0d4af7a504cf886c7893d42f3ef05",
      "0c1b1ff1cf504aa9b5d533678698b2ec",
      "956832aa361747ab921938b3cfcb9dba",
      "8e300989409348068d76fed0e542cd60",
      "adb020859324475fb43319268abecd0f"
     ]
    },
    "id": "KUPnOccyZI0M",
    "outputId": "a4eea589-f257-475d-f6b5-50b37ad58c6e"
   },
   "outputs": [
    {
     "data": {
      "application/vnd.jupyter.widget-view+json": {
       "model_id": "c968faef3c0248a8826179d5b5ccee81",
       "version_major": 2,
       "version_minor": 0
      },
      "text/plain": [
       "  0%|          | 0/120 [00:00<?, ?it/s]"
      ]
     },
     "metadata": {},
     "output_type": "display_data"
    },
    {
     "name": "stdout",
     "output_type": "stream",
     "text": [
      "Epoch 0: 0.0067148092202842236\n",
      "Epoch 10: 0.0006556630250997841\n",
      "Epoch 20: 0.0007373413536697626\n",
      "Epoch 30: 0.0008062653942033648\n",
      "Epoch 40: 0.0008457532385364175\n",
      "Epoch 50: 0.0008968344191089272\n",
      "Epoch 60: 0.0012189785484224558\n",
      "Epoch 70: 0.0007877585012465715\n",
      "Epoch 80: 0.0009485146729275584\n",
      "Epoch 90: 0.0009711619350127876\n",
      "Epoch 100: 0.0009599439799785614\n",
      "Epoch 110: 0.0008504953002557158\n"
     ]
    }
   ],
   "source": [
    "# Define the loss function and the optimizer.\n",
    "learning_rate = 1e-3\n",
    "loss_fn = nn.MSELoss(reduction=\"mean\")\n",
    "optimizer = torch.optim.Adam(model.parameters(), lr=learning_rate)\n",
    "\n",
    "# Train the model.\n",
    "num_epochs = 120\n",
    "update_frequency = 10\n",
    "\n",
    "train(\n",
    "    model = model,\n",
    "    train_dataloader = train_dataloader,\n",
    "    test_dataloader = val_dataloader,\n",
    "    optimizer = optimizer,\n",
    "    loss_fn = loss_fn,\n",
    "    num_epochs = num_epochs,\n",
    "    update_frequency = update_frequency,\n",
    ")"
   ]
  },
  {
   "cell_type": "markdown",
   "metadata": {
    "id": "lIYyFW3QZI0M"
   },
   "source": [
    "### Evaluate the model on the test set with Mean Squared Error"
   ]
  },
  {
   "cell_type": "code",
   "execution_count": 46,
   "metadata": {
    "id": "1x-0cE0nodyT"
   },
   "outputs": [],
   "source": [
    "def predict(model, test_dataloader):\n",
    "    model.eval()\n",
    "    y_pred_list = []\n",
    "    y_true_list = []\n",
    "    for x, y in test_dataloader:\n",
    "        y_pred = model(x.float())\n",
    "        prediction = y_pred.detach().numpy()\n",
    "        y = y.numpy()\n",
    "        y_pred_list.extend(prediction)\n",
    "        y_true_list.extend(y)\n",
    "    y_pred_list = np.concatenate(y_pred_list)\n",
    "    y_true_list = np.concatenate(y_true_list)\n",
    "    return y_pred_list, y_true_list"
   ]
  },
  {
   "cell_type": "code",
   "execution_count": 47,
   "metadata": {
    "id": "pbGtQYsRZI0M"
   },
   "outputs": [],
   "source": [
    "# Get the predictions for the test set\n",
    "y_pred, y_true = predict(model, val_dataloader)"
   ]
  },
  {
   "cell_type": "code",
   "execution_count": 48,
   "metadata": {
    "colab": {
     "base_uri": "https://localhost:8080/"
    },
    "id": "BmcaecNgZI0M",
    "outputId": "c7c5a5bc-48f5-410b-b863-f03f2d2d5b13"
   },
   "outputs": [
    {
     "data": {
      "text/plain": [
       "0.0031721954056437938"
      ]
     },
     "execution_count": 48,
     "metadata": {},
     "output_type": "execute_result"
    }
   ],
   "source": [
    "mean_squared_error(y_true, y_pred)"
   ]
  },
  {
   "cell_type": "code",
   "execution_count": 49,
   "metadata": {
    "colab": {
     "base_uri": "https://localhost:8080/",
     "height": 295
    },
    "id": "S6AvZKUvZI0N",
    "outputId": "1992492c-5441-4d10-c8e7-6982b3e8251d"
   },
   "outputs": [
    {
     "data": {
      "image/png": "[encoded data removed]",
      "text/plain": [
       "<Figure size 432x288 with 1 Axes>"
      ]
     },
     "metadata": {
      "needs_background": "light"
     },
     "output_type": "display_data"
    }
   ],
   "source": [
    "# Plot a perfect prediction line.\n",
    "plt.plot([0, 1], [0, 1],  \"--\", color=\"black\",)\n",
    "# Plot the predictions vs the actual values.\n",
    "plt.scatter(y_pred, y_true, alpha=0.2)\n",
    "\n",
    "plt.xlabel(\"Predictions\")\n",
    "plt.ylabel(\"Actual\")\n",
    "plt.title(\"Predictions vs Actual\")\n",
    "plt.xlim(0, 1)\n",
    "plt.ylim(0, 1)\n",
    "plt.show()"
   ]
  },
  {
   "cell_type": "code",
   "execution_count": 50,
   "metadata": {
    "id": "iWE1ndGHasDm"
   },
   "outputs": [],
   "source": [
    "torch.save(model.state_dict(), \"trained_models/carprice_model_mse_0003.pth\")"
   ]
  },
  {
   "cell_type": "markdown",
   "metadata": {
    "id": "EIn0DJhqasDm"
   },
   "source": [
    "## **Train a Neural Network with multiple layers (MLP)**"
   ]
  },
  {
   "cell_type": "code",
   "execution_count": 52,
   "metadata": {
    "colab": {
     "base_uri": "https://localhost:8080/"
    },
    "id": "7otfrnLFasDm",
    "outputId": "880011a3-6148-4c3d-8d79-8b919172d5c2"
   },
   "outputs": [
    {
     "data": {
      "text/plain": [
       "CarPriceTwoLayerModel(\n",
       "  (linear1): Linear(in_features=138, out_features=10, bias=True)\n",
       "  (linear2): Linear(in_features=10, out_features=1, bias=True)\n",
       "  (relu): ReLU()\n",
       ")"
      ]
     },
     "execution_count": 52,
     "metadata": {},
     "output_type": "execute_result"
    }
   ],
   "source": [
    "class CarPriceTwoLayerModel(nn.Module):\n",
    "    def __init__(self, input_size, output_size, intermediate_dim = 10):\n",
    "        super().__init__()\n",
    "        # TODOs: Create two layers neural network\n",
    "        self.linear1 = nn.Linear(input_size, intermediate_dim)\n",
    "        self.linear2 = nn.Linear(intermediate_dim, output_size)\n",
    "        self.relu = nn.ReLU()\n",
    "\n",
    "    def forward(self, x):\n",
    "        x = self.linear1(x)\n",
    "        x = self.relu(x)\n",
    "        x = self.linear2(x)\n",
    "        return x\n",
    "\n",
    "model_two_layers = CarPriceTwoLayerModel(input_size=n_features, output_size=n_output)\n",
    "model_two_layers"
   ]
  },
  {
   "cell_type": "code",
   "execution_count": 53,
   "metadata": {
    "colab": {
     "base_uri": "https://localhost:8080/",
     "height": 257,
     "referenced_widgets": [
      "ee31ae76c96e416bbe247fa2df1d3d15",
      "f8f365879a3b4d17b10f5ff447a0aa75",
      "99c7afa520cc41b5a915585c7411741a",
      "2552918692a641308cc3cdf03b95db92",
      "2b1a0c7a1b494d5c9139b9dd3e8d34a7",
      "5f4b2d3435a5435a91349a624eef9806",
      "ff294ce6d6e945249112f590a41c15d2",
      "d2bf80fdbac94611a8c45c90787583bf",
      "3bfed75ee32c4272bddddb0b9bd13fc1",
      "aedecc52b775442e909dde41b11041a7",
      "47772db7a200407985342cb56177250d"
     ]
    },
    "id": "YIYMMQxTasDm",
    "outputId": "ae564cce-f444-45c9-f905-560b6905511e"
   },
   "outputs": [
    {
     "data": {
      "application/vnd.jupyter.widget-view+json": {
       "model_id": "ee31ae76c96e416bbe247fa2df1d3d15",
       "version_major": 2,
       "version_minor": 0
      },
      "text/plain": [
       "  0%|          | 0/120 [00:00<?, ?it/s]"
      ]
     },
     "metadata": {},
     "output_type": "display_data"
    },
    {
     "name": "stdout",
     "output_type": "stream",
     "text": [
      "Epoch 0: 0.005196358077228069\n",
      "Epoch 10: 0.0006574511062353849\n",
      "Epoch 20: 0.00026034205802716315\n",
      "Epoch 30: 0.00021963345352560282\n",
      "Epoch 40: 0.00013818910520058125\n",
      "Epoch 50: 0.0003826949105132371\n",
      "Epoch 60: 0.0007690826314501464\n",
      "Epoch 70: 0.00037014545523561537\n",
      "Epoch 80: 0.0003313032793812454\n",
      "Epoch 90: 0.0006878391723148525\n",
      "Epoch 100: 0.0006697083008475602\n",
      "Epoch 110: 0.000481513881823048\n"
     ]
    }
   ],
   "source": [
    "# Define the loss function and the optimizer.\n",
    "learning_rate = 1e-3 # = 0.001\n",
    "loss_fn = nn.MSELoss(reduction=\"mean\")\n",
    "optimizer = torch.optim.Adam(model_two_layers.parameters(), lr=learning_rate)\n",
    "\n",
    "# Train the model.\n",
    "num_epochs = 120\n",
    "update_frequency = 10\n",
    "\n",
    "train(\n",
    "    model=model_two_layers,\n",
    "    train_dataloader=train_dataloader,\n",
    "    test_dataloader=val_dataloader,\n",
    "    optimizer=optimizer,\n",
    "    loss_fn=loss_fn,\n",
    "    num_epochs=num_epochs,\n",
    "    update_frequency=update_frequency,\n",
    ")"
   ]
  },
  {
   "cell_type": "code",
   "execution_count": 54,
   "metadata": {
    "colab": {
     "base_uri": "https://localhost:8080/"
    },
    "id": "eouJy8H1asDn",
    "outputId": "1901b616-83ef-496e-a905-da6ec0d03a6a"
   },
   "outputs": [
    {
     "data": {
      "text/plain": [
       "0.001550862382728419"
      ]
     },
     "execution_count": 54,
     "metadata": {},
     "output_type": "execute_result"
    }
   ],
   "source": [
    "y_test, y_true_dl = predict(model_two_layers, val_dataloader)\n",
    "mse_score = mean_squared_error(y_test, y_true_dl)\n",
    "mse_score"
   ]
  },
  {
   "cell_type": "code",
   "execution_count": 55,
   "metadata": {
    "colab": {
     "base_uri": "https://localhost:8080/",
     "height": 295
    },
    "id": "iZNJqNbLasDn",
    "outputId": "f8703590-013e-4413-d03a-5068ec87e7a6"
   },
   "outputs": [
    {
     "data": {
      "image/png": "[encoded data removed]",
      "text/plain": [
       "<Figure size 432x288 with 1 Axes>"
      ]
     },
     "metadata": {
      "needs_background": "light"
     },
     "output_type": "display_data"
    }
   ],
   "source": [
    "# Plot a perfect prediction line.\n",
    "plt.plot([0, 1], [0, 1],  \"--\", color=\"black\",)\n",
    "# Plot the predictions vs the actual values.\n",
    "plt.scatter(y_true_dl, y_test, alpha=0.2)\n",
    "\n",
    "plt.xlabel(\"Predictions value\")\n",
    "plt.ylabel(\"Actual value\")\n",
    "plt.title(\"Predictions vs Actual\")\n",
    "plt.xlim(0, 1)\n",
    "plt.ylim(0, 1)\n",
    "plt.show()"
   ]
  },
  {
   "cell_type": "code",
   "execution_count": 57,
   "metadata": {
    "id": "jp_I9m55asDn"
   },
   "outputs": [],
   "source": [
    "torch.save(model_two_layers.state_dict(), f\"trained_models/carprice_two_layer_model_mse_00015.pth\")"
   ]
  },
  {
   "cell_type": "markdown",
   "metadata": {
    "id": "NgiMit2wZI0N"
   },
   "source": [
    "## **Use the models to predict on new data**\n",
    "\n",
    "- Create a model\n",
    "- Load one-hot-encoder and scaler\n",
    "- Transform dataframe\n",
    "- Predict"
   ]
  },
  {
   "cell_type": "code",
   "execution_count": 62,
   "metadata": {
    "id": "olXauxcfasDn"
   },
   "outputs": [],
   "source": [
    "import joblib\n",
    "import numpy as np\n",
    "import pandas as pd\n",
    "import torch.nn as nn\n",
    "from sklearn.model_selection import train_test_split\n",
    "from torch.utils.data import Dataset, DataLoader"
   ]
  },
  {
   "cell_type": "code",
   "execution_count": 63,
   "metadata": {
    "id": "2BJM047_asDo"
   },
   "outputs": [],
   "source": [
    "# load data (similar to previous code)\n",
    "\n",
    "df = pd.read_csv(op.join(\"deep-learning-skooldio\", \"rodkaidee-dataset\", \"Rodkaidee Data.csv\"))\n",
    "df[\"Price\"] = df[\"Price\"].apply(lambda x: float(x.replace(\",\", \"\")))\n",
    "df[\"Mileage\"] = df[\"Mileage\"].apply(lambda x: float(x.replace(\",\", \"\")))\n",
    "\n",
    "_, df_test = train_test_split(df, test_size=0.2, random_state=42)"
   ]
  },
  {
   "cell_type": "code",
   "execution_count": 64,
   "metadata": {
    "colab": {
     "base_uri": "https://localhost:8080/"
    },
    "id": "IClYA-JbtP0n",
    "outputId": "66bcc57a-711e-42e7-8c1b-c70ef41fea2c"
   },
   "outputs": [
    {
     "data": {
      "text/plain": [
       "<All keys matched successfully>"
      ]
     },
     "execution_count": 64,
     "metadata": {},
     "output_type": "execute_result"
    }
   ],
   "source": [
    "# create model and load trained weights\n",
    "class CarPriceTwoLayerModel(nn.Module):\n",
    "    def __init__(self, input_size, output_size, intermediate_dim = 10):\n",
    "        super().__init__()\n",
    "        self.linear1 = nn.Linear(input_size, intermediate_dim)\n",
    "        self.linear2 = nn.Linear(intermediate_dim, output_size)\n",
    "        self.relu = nn.ReLU()\n",
    "\n",
    "    def forward(self, x):\n",
    "        x = self.linear1(x)\n",
    "        x = self.relu(x)\n",
    "        x = self.linear2(x)\n",
    "        return x\n",
    "\n",
    "model = CarPriceTwoLayerModel(138, 1)\n",
    "# TODO: load trained weights\n",
    "model.load_state_dict(torch.load(\"trained_models/carprice_two_layer_model_mse_00015.pth\"))"
   ]
  },
  {
   "cell_type": "code",
   "execution_count": 65,
   "metadata": {
    "id": "z4_GxCbbasDo"
   },
   "outputs": [],
   "source": [
    "# load one-hot encoder \n",
    "one_hot_encoder_path = \"trained_models/one_hot_encoder.joblib\"\n",
    "year_scaler_path = \"trained_models/year_scaler.joblib\"\n",
    "mileage_scaler_path = \"trained_models/mileage_scaler.joblib\"\n",
    "price_scaler_path = \"trained_models/price_scaler.joblib\"\n",
    "\n",
    "# TODO: Load one-hot encoder and scaler\n",
    "ohe = joblib.load(one_hot_encoder_path)\n",
    "year_scaler = joblib.load(year_scaler_path)\n",
    "mileage_scaler = joblib.load(mileage_scaler_path)\n",
    "price_scaler = joblib.load(price_scaler_path)"
   ]
  },
  {
   "cell_type": "code",
   "execution_count": 66,
   "metadata": {
    "id": "LLCV-RmuasDo"
   },
   "outputs": [],
   "source": [
    "class CarPriceDataset(Dataset):\n",
    "    def __init__(self, X, y = None):\n",
    "        self.X = X\n",
    "        if y is not None:\n",
    "            self.y = y\n",
    "        else:\n",
    "            self.y = None\n",
    "\n",
    "    def __len__(self):\n",
    "        return len(self.X)\n",
    "\n",
    "    def __getitem__(self, idx):\n",
    "        if self.y is not None:\n",
    "            return self.X[idx], self.y[idx]\n",
    "        else:\n",
    "            return self.X[idx]"
   ]
  },
  {
   "cell_type": "code",
   "execution_count": 67,
   "metadata": {
    "id": "XGoaR1KaasDp"
   },
   "outputs": [],
   "source": [
    "# prepare test dataset\n",
    "CAT_COLUMNS = [\"Brand\", \"Model\", \"Engine\", \"Segment\", \"Province\", \"Color\"]\n",
    "X_test = np.hstack([\n",
    "    ohe.transform(df_test[CAT_COLUMNS]),\n",
    "    year_scaler.transform(df_test[[\"Year\"]]),\n",
    "    mileage_scaler.transform(df_test[[\"Mileage\"]]),\n",
    "])\n",
    "test_dataset = CarPriceDataset(X_test)\n",
    "test_dataloader = DataLoader(test_dataset, batch_size=32, shuffle=False)"
   ]
  },
  {
   "cell_type": "code",
   "execution_count": 68,
   "metadata": {
    "id": "NWA9iijjasDp"
   },
   "outputs": [],
   "source": [
    "def predict(model, test_dataloader):\n",
    "    model.eval()\n",
    "    y_pred_list = []\n",
    "    for x in test_dataloader:\n",
    "        y_pred = model(x.float())\n",
    "        prediction = y_pred.detach().numpy()\n",
    "        y_pred_list.extend(prediction)\n",
    "    y_pred_list = np.concatenate(y_pred_list)\n",
    "    return y_pred_list"
   ]
  },
  {
   "cell_type": "code",
   "execution_count": 69,
   "metadata": {
    "id": "awuQ8PPnasDp"
   },
   "outputs": [],
   "source": [
    "y_pred = predict(model, test_dataloader)\n",
    "y_pred_price = price_scaler.inverse_transform(y_pred.reshape(-1, 1))"
   ]
  },
  {
   "cell_type": "code",
   "execution_count": 72,
   "metadata": {
    "id": "giMidbY3asDp"
   },
   "outputs": [],
   "source": [
    "df_test[\"Pred_Price\"] = y_pred_price"
   ]
  },
  {
   "cell_type": "code",
   "execution_count": 73,
   "metadata": {
    "colab": {
     "base_uri": "https://localhost:8080/",
     "height": 363
    },
    "id": "etbPTcCqasDp",
    "outputId": "6a9a2dec-eca1-470b-d5e4-b1f8ce1bd3ed"
   },
   "outputs": [
    {
     "data": {
      "text/html": [
       "\n",
       "  <div id=\"df-9619f90e-5537-482f-bf92-c1b6c4490b06\">\n",
       "    <div class=\"colab-df-container\">\n",
       "      <div>\n",
       "<style scoped>\n",
       "    .dataframe tbody tr th:only-of-type {\n",
       "        vertical-align: middle;\n",
       "    }\n",
       "\n",
       "    .dataframe tbody tr th {\n",
       "        vertical-align: top;\n",
       "    }\n",
       "\n",
       "    .dataframe thead th {\n",
       "        text-align: right;\n",
       "    }\n",
       "</style>\n",
       "<table border=\"1\" class=\"dataframe\">\n",
       "  <thead>\n",
       "    <tr style=\"text-align: right;\">\n",
       "      <th></th>\n",
       "      <th>Brand</th>\n",
       "      <th>Model</th>\n",
       "      <th>Engine</th>\n",
       "      <th>Segment</th>\n",
       "      <th>Year</th>\n",
       "      <th>Mileage</th>\n",
       "      <th>Province</th>\n",
       "      <th>Price</th>\n",
       "      <th>Color</th>\n",
       "      <th>Pred_Price</th>\n",
       "    </tr>\n",
       "  </thead>\n",
       "  <tbody>\n",
       "    <tr>\n",
       "      <th>2759</th>\n",
       "      <td>Toyota</td>\n",
       "      <td>Vios</td>\n",
       "      <td>1.5</td>\n",
       "      <td>B-Segment</td>\n",
       "      <td>2015</td>\n",
       "      <td>62639.0</td>\n",
       "      <td>กรุงเทพมหานคร</td>\n",
       "      <td>338000.0</td>\n",
       "      <td>Gray</td>\n",
       "      <td>347095.562500</td>\n",
       "    </tr>\n",
       "    <tr>\n",
       "      <th>2846</th>\n",
       "      <td>Toyota</td>\n",
       "      <td>Altis</td>\n",
       "      <td>1.6</td>\n",
       "      <td>C-Segment</td>\n",
       "      <td>2015</td>\n",
       "      <td>65615.0</td>\n",
       "      <td>สงขลา</td>\n",
       "      <td>385000.0</td>\n",
       "      <td>Silver</td>\n",
       "      <td>378758.031250</td>\n",
       "    </tr>\n",
       "    <tr>\n",
       "      <th>6682</th>\n",
       "      <td>Honda</td>\n",
       "      <td>Civic</td>\n",
       "      <td>2.0</td>\n",
       "      <td>C-Segment</td>\n",
       "      <td>2007</td>\n",
       "      <td>203000.0</td>\n",
       "      <td>สิงห์บุรี</td>\n",
       "      <td>295000.0</td>\n",
       "      <td>Gray</td>\n",
       "      <td>281043.000000</td>\n",
       "    </tr>\n",
       "    <tr>\n",
       "      <th>3262</th>\n",
       "      <td>Toyota</td>\n",
       "      <td>Yaris</td>\n",
       "      <td>1.2</td>\n",
       "      <td>Eco Car</td>\n",
       "      <td>2014</td>\n",
       "      <td>124007.0</td>\n",
       "      <td>ราชบุรี</td>\n",
       "      <td>339000.0</td>\n",
       "      <td>White</td>\n",
       "      <td>331448.281250</td>\n",
       "    </tr>\n",
       "    <tr>\n",
       "      <th>486</th>\n",
       "      <td>Mazda</td>\n",
       "      <td>Mazda2</td>\n",
       "      <td>1.3</td>\n",
       "      <td>B-Segment</td>\n",
       "      <td>2019</td>\n",
       "      <td>51957.0</td>\n",
       "      <td>กรุงเทพมหานคร</td>\n",
       "      <td>439000.0</td>\n",
       "      <td>Blue</td>\n",
       "      <td>411042.468750</td>\n",
       "    </tr>\n",
       "    <tr>\n",
       "      <th>3616</th>\n",
       "      <td>Nissan</td>\n",
       "      <td>Sylphy</td>\n",
       "      <td>1.6</td>\n",
       "      <td>C-Segment</td>\n",
       "      <td>2013</td>\n",
       "      <td>120000.0</td>\n",
       "      <td>นนทบุรี</td>\n",
       "      <td>219000.0</td>\n",
       "      <td>Black</td>\n",
       "      <td>285597.656250</td>\n",
       "    </tr>\n",
       "    <tr>\n",
       "      <th>3590</th>\n",
       "      <td>Nissan</td>\n",
       "      <td>Almera</td>\n",
       "      <td>1.2</td>\n",
       "      <td>Eco Car</td>\n",
       "      <td>2013</td>\n",
       "      <td>130000.0</td>\n",
       "      <td>เชียงใหม่</td>\n",
       "      <td>199000.0</td>\n",
       "      <td>Black</td>\n",
       "      <td>217759.531250</td>\n",
       "    </tr>\n",
       "    <tr>\n",
       "      <th>3246</th>\n",
       "      <td>Toyota</td>\n",
       "      <td>Vios</td>\n",
       "      <td>1.5</td>\n",
       "      <td>B-Segment</td>\n",
       "      <td>2014</td>\n",
       "      <td>80000.0</td>\n",
       "      <td>เชียงใหม่</td>\n",
       "      <td>329000.0</td>\n",
       "      <td>Black</td>\n",
       "      <td>318516.625000</td>\n",
       "    </tr>\n",
       "    <tr>\n",
       "      <th>6503</th>\n",
       "      <td>Nissan</td>\n",
       "      <td>Tiida</td>\n",
       "      <td>1.6</td>\n",
       "      <td>C-Segment</td>\n",
       "      <td>2007</td>\n",
       "      <td>140000.0</td>\n",
       "      <td>นนทบุรี</td>\n",
       "      <td>128000.0</td>\n",
       "      <td>Black</td>\n",
       "      <td>127120.734375</td>\n",
       "    </tr>\n",
       "    <tr>\n",
       "      <th>7209</th>\n",
       "      <td>Honda</td>\n",
       "      <td>City</td>\n",
       "      <td>1.5</td>\n",
       "      <td>B-Segment</td>\n",
       "      <td>2003</td>\n",
       "      <td>166508.0</td>\n",
       "      <td>นครศรีธรรมราช</td>\n",
       "      <td>129000.0</td>\n",
       "      <td>Gold</td>\n",
       "      <td>124967.789062</td>\n",
       "    </tr>\n",
       "  </tbody>\n",
       "</table>\n",
       "</div>\n",
       "      <button class=\"colab-df-convert\" onclick=\"convertToInteractive('df-9619f90e-5537-482f-bf92-c1b6c4490b06')\"\n",
       "              title=\"Convert this dataframe to an interactive table.\"\n",
       "              style=\"display:none;\">\n",
       "        \n",
       "  <svg xmlns=\"http://www.w3.org/2000/svg\" height=\"24px\"viewBox=\"0 0 24 24\"\n",
       "       width=\"24px\">\n",
       "    <path d=\"M0 0h24v24H0V0z\" fill=\"none\"/>\n",
       "    <path d=\"M18.56 5.44l.94 2.06.94-2.06 2.06-.94-2.06-.94-.94-2.06-.94 2.06-2.06.94zm-11 1L8.5 8.5l.94-2.06 2.06-.94-2.06-.94L8.5 2.5l-.94 2.06-2.06.94zm10 10l.94 2.06.94-2.06 2.06-.94-2.06-.94-.94-2.06-.94 2.06-2.06.94z\"/><path d=\"M17.41 7.96l-1.37-1.37c-.4-.4-.92-.59-1.43-.59-.52 0-1.04.2-1.43.59L10.3 9.45l-7.72 7.72c-.78.78-.78 2.05 0 2.83L4 21.41c.39.39.9.59 1.41.59.51 0 1.02-.2 1.41-.59l7.78-7.78 2.81-2.81c.8-.78.8-2.07 0-2.86zM5.41 20L4 18.59l7.72-7.72 1.47 1.35L5.41 20z\"/>\n",
       "  </svg>\n",
       "      </button>\n",
       "      \n",
       "  <style>\n",
       "    .colab-df-container {\n",
       "      display:flex;\n",
       "      flex-wrap:wrap;\n",
       "      gap: 12px;\n",
       "    }\n",
       "\n",
       "    .colab-df-convert {\n",
       "      background-color: #E8F0FE;\n",
       "      border: none;\n",
       "      border-radius: 50%;\n",
       "      cursor: pointer;\n",
       "      display: none;\n",
       "      fill: #1967D2;\n",
       "      height: 32px;\n",
       "      padding: 0 0 0 0;\n",
       "      width: 32px;\n",
       "    }\n",
       "\n",
       "    .colab-df-convert:hover {\n",
       "      background-color: #E2EBFA;\n",
       "      box-shadow: 0px 1px 2px rgba(60, 64, 67, 0.3), 0px 1px 3px 1px rgba(60, 64, 67, 0.15);\n",
       "      fill: #174EA6;\n",
       "    }\n",
       "\n",
       "    [theme=dark] .colab-df-convert {\n",
       "      background-color: #3B4455;\n",
       "      fill: #D2E3FC;\n",
       "    }\n",
       "\n",
       "    [theme=dark] .colab-df-convert:hover {\n",
       "      background-color: #434B5C;\n",
       "      box-shadow: 0px 1px 3px 1px rgba(0, 0, 0, 0.15);\n",
       "      filter: drop-shadow(0px 1px 2px rgba(0, 0, 0, 0.3));\n",
       "      fill: #FFFFFF;\n",
       "    }\n",
       "  </style>\n",
       "\n",
       "      <script>\n",
       "        const buttonEl =\n",
       "          document.querySelector('#df-9619f90e-5537-482f-bf92-c1b6c4490b06 button.colab-df-convert');\n",
       "        buttonEl.style.display =\n",
       "          google.colab.kernel.accessAllowed ? 'block' : 'none';\n",
       "\n",
       "        async function convertToInteractive(key) {\n",
       "          const element = document.querySelector('#df-9619f90e-5537-482f-bf92-c1b6c4490b06');\n",
       "          const dataTable =\n",
       "            await google.colab.kernel.invokeFunction('convertToInteractive',\n",
       "                                                     [key], {});\n",
       "          if (!dataTable) return;\n",
       "\n",
       "          const docLinkHtml = 'Like what you see? Visit the ' +\n",
       "            '<a target=\"_blank\" href=https://colab.research.google.com/notebooks/data_table.ipynb>data table notebook</a>'\n",
       "            + ' to learn more about interactive tables.';\n",
       "          element.innerHTML = '';\n",
       "          dataTable['output_type'] = 'display_data';\n",
       "          await google.colab.output.renderOutput(dataTable, element);\n",
       "          const docLink = document.createElement('div');\n",
       "          docLink.innerHTML = docLinkHtml;\n",
       "          element.appendChild(docLink);\n",
       "        }\n",
       "      </script>\n",
       "    </div>\n",
       "  </div>\n",
       "  "
      ],
      "text/plain": [
       "       Brand   Model  Engine    Segment  Year   Mileage       Province  \\\n",
       "2759  Toyota    Vios     1.5  B-Segment  2015   62639.0  กรุงเทพมหานคร   \n",
       "2846  Toyota   Altis     1.6  C-Segment  2015   65615.0          สงขลา   \n",
       "6682   Honda   Civic     2.0  C-Segment  2007  203000.0      สิงห์บุรี   \n",
       "3262  Toyota   Yaris     1.2    Eco Car  2014  124007.0        ราชบุรี   \n",
       "486    Mazda  Mazda2     1.3  B-Segment  2019   51957.0  กรุงเทพมหานคร   \n",
       "3616  Nissan  Sylphy     1.6  C-Segment  2013  120000.0        นนทบุรี   \n",
       "3590  Nissan  Almera     1.2    Eco Car  2013  130000.0      เชียงใหม่   \n",
       "3246  Toyota    Vios     1.5  B-Segment  2014   80000.0      เชียงใหม่   \n",
       "6503  Nissan   Tiida     1.6  C-Segment  2007  140000.0        นนทบุรี   \n",
       "7209   Honda    City     1.5  B-Segment  2003  166508.0  นครศรีธรรมราช   \n",
       "\n",
       "         Price   Color     Pred_Price  \n",
       "2759  338000.0    Gray  347095.562500  \n",
       "2846  385000.0  Silver  378758.031250  \n",
       "6682  295000.0    Gray  281043.000000  \n",
       "3262  339000.0   White  331448.281250  \n",
       "486   439000.0    Blue  411042.468750  \n",
       "3616  219000.0   Black  285597.656250  \n",
       "3590  199000.0   Black  217759.531250  \n",
       "3246  329000.0   Black  318516.625000  \n",
       "6503  128000.0   Black  127120.734375  \n",
       "7209  129000.0    Gold  124967.789062  "
      ]
     },
     "execution_count": 73,
     "metadata": {},
     "output_type": "execute_result"
    }
   ],
   "source": [
    "df_test.head(10)"
   ]
  },
  {
   "cell_type": "code",
   "execution_count": 74,
   "metadata": {
    "colab": {
     "base_uri": "https://localhost:8080/",
     "height": 295
    },
    "id": "WK_dglLwasDp",
    "outputId": "0c806ea3-0e17-45bd-da67-cd43604bab8e"
   },
   "outputs": [
    {
     "data": {
      "image/png": "[encoded data removed]",
      "text/plain": [
       "<Figure size 432x288 with 1 Axes>"
      ]
     },
     "metadata": {
      "needs_background": "light"
     },
     "output_type": "display_data"
    }
   ],
   "source": [
    "plt.plot([0, 1_000_000], [0, 1_000_000], color=\"black\", alpha=0.5, linestyle=\"--\")\n",
    "\n",
    "plt.scatter(df_test[\"Pred_Price\"].values, df_test[\"Price\"], alpha=0.2)\n",
    "plt.xlabel(\"Predictions (Baht)\")\n",
    "plt.ylabel(\"Actual (Baht)\")\n",
    "plt.title(\"Predictions vs Actual\")\n",
    "\n",
    "plt.xlim(0, 1_000_000)\n",
    "plt.ylim(0, 1_000_000)\n",
    "plt.show()"
   ]
  },
  {
   "cell_type": "code",
   "execution_count": null,
   "metadata": {
    "id": "FNAgg_88vBfr"
   },
   "outputs": [],
   "source": []
  }
 ],
 "metadata": {
  "accelerator": "GPU",
  "colab": {
   "provenance": []
  },
  "gpuClass": "standard",
  "kernelspec": {
   "display_name": "Python 3 (ipykernel)",
   "language": "python",
   "name": "python3"
  },
  "language_info": {
   "codemirror_mode": {
    "name": "ipython",
    "version": 3
   },
   "file_extension": ".py",
   "mimetype": "text/x-python",
   "name": "python",
   "nbconvert_exporter": "python",
   "pygments_lexer": "ipython3",
   "version": "3.7.5"
  },
  "vscode": {
   "interpreter": {
    "hash": "94499b8ebe41d82c56ca741edd2212fa3535c1025402838f7d8b62fb6e0f95b1"
   }
  },
  "widgets": {
   "application/vnd.jupyter.widget-state+json": {
    "0c1b1ff1cf504aa9b5d533678698b2ec": {
     "model_module": "@jupyter-widgets/base",
     "model_module_version": "1.2.0",
     "model_name": "LayoutModel",
     "state": {
      "_model_module": "@jupyter-widgets/base",
      "_model_module_version": "1.2.0",
      "_model_name": "LayoutModel",
      "_view_count": null,
      "_view_module": "@jupyter-widgets/base",
      "_view_module_version": "1.2.0",
      "_view_name": "LayoutView",
      "align_content": null,
      "align_items": null,
      "align_self": null,
      "border": null,
      "bottom": null,
      "display": null,
      "flex": null,
      "flex_flow": null,
      "grid_area": null,
      "grid_auto_columns": null,
      "grid_auto_flow": null,
      "grid_auto_rows": null,
      "grid_column": null,
      "grid_gap": null,
      "grid_row": null,
      "grid_template_areas": null,
      "grid_template_columns": null,
      "grid_template_rows": null,
      "height": null,
      "justify_content": null,
      "justify_items": null,
      "left": null,
      "margin": null,
      "max_height": null,
      "max_width": null,
      "min_height": null,
      "min_width": null,
      "object_fit": null,
      "object_position": null,
      "order": null,
      "overflow": null,
      "overflow_x": null,
      "overflow_y": null,
      "padding": null,
      "right": null,
      "top": null,
      "visibility": null,
      "width": null
     }
    },
    "2552918692a641308cc3cdf03b95db92": {
     "model_module": "@jupyter-widgets/controls",
     "model_module_version": "1.5.0",
     "model_name": "HTMLModel",
     "state": {
      "_dom_classes": [],
      "_model_module": "@jupyter-widgets/controls",
      "_model_module_version": "1.5.0",
      "_model_name": "HTMLModel",
      "_view_count": null,
      "_view_module": "@jupyter-widgets/controls",
      "_view_module_version": "1.5.0",
      "_view_name": "HTMLView",
      "description": "",
      "description_tooltip": null,
      "layout": "IPY_MODEL_aedecc52b775442e909dde41b11041a7",
      "placeholder": "​",
      "style": "IPY_MODEL_47772db7a200407985342cb56177250d",
      "value": " 120/120 [00:28&lt;00:00,  4.16it/s]"
     }
    },
    "2b1a0c7a1b494d5c9139b9dd3e8d34a7": {
     "model_module": "@jupyter-widgets/base",
     "model_module_version": "1.2.0",
     "model_name": "LayoutModel",
     "state": {
      "_model_module": "@jupyter-widgets/base",
      "_model_module_version": "1.2.0",
      "_model_name": "LayoutModel",
      "_view_count": null,
      "_view_module": "@jupyter-widgets/base",
      "_view_module_version": "1.2.0",
      "_view_name": "LayoutView",
      "align_content": null,
      "align_items": null,
      "align_self": null,
      "border": null,
      "bottom": null,
      "display": null,
      "flex": null,
      "flex_flow": null,
      "grid_area": null,
      "grid_auto_columns": null,
      "grid_auto_flow": null,
      "grid_auto_rows": null,
      "grid_column": null,
      "grid_gap": null,
      "grid_row": null,
      "grid_template_areas": null,
      "grid_template_columns": null,
      "grid_template_rows": null,
      "height": null,
      "justify_content": null,
      "justify_items": null,
      "left": null,
      "margin": null,
      "max_height": null,
      "max_width": null,
      "min_height": null,
      "min_width": null,
      "object_fit": null,
      "object_position": null,
      "order": null,
      "overflow": null,
      "overflow_x": null,
      "overflow_y": null,
      "padding": null,
      "right": null,
      "top": null,
      "visibility": null,
      "width": null
     }
    },
    "2fe6fb9ee13741d28b7869e11160a6fa": {
     "model_module": "@jupyter-widgets/base",
     "model_module_version": "1.2.0",
     "model_name": "LayoutModel",
     "state": {
      "_model_module": "@jupyter-widgets/base",
      "_model_module_version": "1.2.0",
      "_model_name": "LayoutModel",
      "_view_count": null,
      "_view_module": "@jupyter-widgets/base",
      "_view_module_version": "1.2.0",
      "_view_name": "LayoutView",
      "align_content": null,
      "align_items": null,
      "align_self": null,
      "border": null,
      "bottom": null,
      "display": null,
      "flex": null,
      "flex_flow": null,
      "grid_area": null,
      "grid_auto_columns": null,
      "grid_auto_flow": null,
      "grid_auto_rows": null,
      "grid_column": null,
      "grid_gap": null,
      "grid_row": null,
      "grid_template_areas": null,
      "grid_template_columns": null,
      "grid_template_rows": null,
      "height": null,
      "justify_content": null,
      "justify_items": null,
      "left": null,
      "margin": null,
      "max_height": null,
      "max_width": null,
      "min_height": null,
      "min_width": null,
      "object_fit": null,
      "object_position": null,
      "order": null,
      "overflow": null,
      "overflow_x": null,
      "overflow_y": null,
      "padding": null,
      "right": null,
      "top": null,
      "visibility": null,
      "width": null
     }
    },
    "3bfed75ee32c4272bddddb0b9bd13fc1": {
     "model_module": "@jupyter-widgets/controls",
     "model_module_version": "1.5.0",
     "model_name": "ProgressStyleModel",
     "state": {
      "_model_module": "@jupyter-widgets/controls",
      "_model_module_version": "1.5.0",
      "_model_name": "ProgressStyleModel",
      "_view_count": null,
      "_view_module": "@jupyter-widgets/base",
      "_view_module_version": "1.2.0",
      "_view_name": "StyleView",
      "bar_color": null,
      "description_width": ""
     }
    },
    "47772db7a200407985342cb56177250d": {
     "model_module": "@jupyter-widgets/controls",
     "model_module_version": "1.5.0",
     "model_name": "DescriptionStyleModel",
     "state": {
      "_model_module": "@jupyter-widgets/controls",
      "_model_module_version": "1.5.0",
      "_model_name": "DescriptionStyleModel",
      "_view_count": null,
      "_view_module": "@jupyter-widgets/base",
      "_view_module_version": "1.2.0",
      "_view_name": "StyleView",
      "description_width": ""
     }
    },
    "4fadfad6b6cc42568e01ba7a1403e5fe": {
     "model_module": "@jupyter-widgets/controls",
     "model_module_version": "1.5.0",
     "model_name": "HTMLModel",
     "state": {
      "_dom_classes": [],
      "_model_module": "@jupyter-widgets/controls",
      "_model_module_version": "1.5.0",
      "_model_name": "HTMLModel",
      "_view_count": null,
      "_view_module": "@jupyter-widgets/controls",
      "_view_module_version": "1.5.0",
      "_view_name": "HTMLView",
      "description": "",
      "description_tooltip": null,
      "layout": "IPY_MODEL_2fe6fb9ee13741d28b7869e11160a6fa",
      "placeholder": "​",
      "style": "IPY_MODEL_78f0d4af7a504cf886c7893d42f3ef05",
      "value": "100%"
     }
    },
    "5f4b2d3435a5435a91349a624eef9806": {
     "model_module": "@jupyter-widgets/base",
     "model_module_version": "1.2.0",
     "model_name": "LayoutModel",
     "state": {
      "_model_module": "@jupyter-widgets/base",
      "_model_module_version": "1.2.0",
      "_model_name": "LayoutModel",
      "_view_count": null,
      "_view_module": "@jupyter-widgets/base",
      "_view_module_version": "1.2.0",
      "_view_name": "LayoutView",
      "align_content": null,
      "align_items": null,
      "align_self": null,
      "border": null,
      "bottom": null,
      "display": null,
      "flex": null,
      "flex_flow": null,
      "grid_area": null,
      "grid_auto_columns": null,
      "grid_auto_flow": null,
      "grid_auto_rows": null,
      "grid_column": null,
      "grid_gap": null,
      "grid_row": null,
      "grid_template_areas": null,
      "grid_template_columns": null,
      "grid_template_rows": null,
      "height": null,
      "justify_content": null,
      "justify_items": null,
      "left": null,
      "margin": null,
      "max_height": null,
      "max_width": null,
      "min_height": null,
      "min_width": null,
      "object_fit": null,
      "object_position": null,
      "order": null,
      "overflow": null,
      "overflow_x": null,
      "overflow_y": null,
      "padding": null,
      "right": null,
      "top": null,
      "visibility": null,
      "width": null
     }
    },
    "78f0d4af7a504cf886c7893d42f3ef05": {
     "model_module": "@jupyter-widgets/controls",
     "model_module_version": "1.5.0",
     "model_name": "DescriptionStyleModel",
     "state": {
      "_model_module": "@jupyter-widgets/controls",
      "_model_module_version": "1.5.0",
      "_model_name": "DescriptionStyleModel",
      "_view_count": null,
      "_view_module": "@jupyter-widgets/base",
      "_view_module_version": "1.2.0",
      "_view_name": "StyleView",
      "description_width": ""
     }
    },
    "8e300989409348068d76fed0e542cd60": {
     "model_module": "@jupyter-widgets/base",
     "model_module_version": "1.2.0",
     "model_name": "LayoutModel",
     "state": {
      "_model_module": "@jupyter-widgets/base",
      "_model_module_version": "1.2.0",
      "_model_name": "LayoutModel",
      "_view_count": null,
      "_view_module": "@jupyter-widgets/base",
      "_view_module_version": "1.2.0",
      "_view_name": "LayoutView",
      "align_content": null,
      "align_items": null,
      "align_self": null,
      "border": null,
      "bottom": null,
      "display": null,
      "flex": null,
      "flex_flow": null,
      "grid_area": null,
      "grid_auto_columns": null,
      "grid_auto_flow": null,
      "grid_auto_rows": null,
      "grid_column": null,
      "grid_gap": null,
      "grid_row": null,
      "grid_template_areas": null,
      "grid_template_columns": null,
      "grid_template_rows": null,
      "height": null,
      "justify_content": null,
      "justify_items": null,
      "left": null,
      "margin": null,
      "max_height": null,
      "max_width": null,
      "min_height": null,
      "min_width": null,
      "object_fit": null,
      "object_position": null,
      "order": null,
      "overflow": null,
      "overflow_x": null,
      "overflow_y": null,
      "padding": null,
      "right": null,
      "top": null,
      "visibility": null,
      "width": null
     }
    },
    "956832aa361747ab921938b3cfcb9dba": {
     "model_module": "@jupyter-widgets/controls",
     "model_module_version": "1.5.0",
     "model_name": "ProgressStyleModel",
     "state": {
      "_model_module": "@jupyter-widgets/controls",
      "_model_module_version": "1.5.0",
      "_model_name": "ProgressStyleModel",
      "_view_count": null,
      "_view_module": "@jupyter-widgets/base",
      "_view_module_version": "1.2.0",
      "_view_name": "StyleView",
      "bar_color": null,
      "description_width": ""
     }
    },
    "99c7afa520cc41b5a915585c7411741a": {
     "model_module": "@jupyter-widgets/controls",
     "model_module_version": "1.5.0",
     "model_name": "FloatProgressModel",
     "state": {
      "_dom_classes": [],
      "_model_module": "@jupyter-widgets/controls",
      "_model_module_version": "1.5.0",
      "_model_name": "FloatProgressModel",
      "_view_count": null,
      "_view_module": "@jupyter-widgets/controls",
      "_view_module_version": "1.5.0",
      "_view_name": "ProgressView",
      "bar_style": "success",
      "description": "",
      "description_tooltip": null,
      "layout": "IPY_MODEL_d2bf80fdbac94611a8c45c90787583bf",
      "max": 120,
      "min": 0,
      "orientation": "horizontal",
      "style": "IPY_MODEL_3bfed75ee32c4272bddddb0b9bd13fc1",
      "value": 120
     }
    },
    "adb020859324475fb43319268abecd0f": {
     "model_module": "@jupyter-widgets/controls",
     "model_module_version": "1.5.0",
     "model_name": "DescriptionStyleModel",
     "state": {
      "_model_module": "@jupyter-widgets/controls",
      "_model_module_version": "1.5.0",
      "_model_name": "DescriptionStyleModel",
      "_view_count": null,
      "_view_module": "@jupyter-widgets/base",
      "_view_module_version": "1.2.0",
      "_view_name": "StyleView",
      "description_width": ""
     }
    },
    "aedecc52b775442e909dde41b11041a7": {
     "model_module": "@jupyter-widgets/base",
     "model_module_version": "1.2.0",
     "model_name": "LayoutModel",
     "state": {
      "_model_module": "@jupyter-widgets/base",
      "_model_module_version": "1.2.0",
      "_model_name": "LayoutModel",
      "_view_count": null,
      "_view_module": "@jupyter-widgets/base",
      "_view_module_version": "1.2.0",
      "_view_name": "LayoutView",
      "align_content": null,
      "align_items": null,
      "align_self": null,
      "border": null,
      "bottom": null,
      "display": null,
      "flex": null,
      "flex_flow": null,
      "grid_area": null,
      "grid_auto_columns": null,
      "grid_auto_flow": null,
      "grid_auto_rows": null,
      "grid_column": null,
      "grid_gap": null,
      "grid_row": null,
      "grid_template_areas": null,
      "grid_template_columns": null,
      "grid_template_rows": null,
      "height": null,
      "justify_content": null,
      "justify_items": null,
      "left": null,
      "margin": null,
      "max_height": null,
      "max_width": null,
      "min_height": null,
      "min_width": null,
      "object_fit": null,
      "object_position": null,
      "order": null,
      "overflow": null,
      "overflow_x": null,
      "overflow_y": null,
      "padding": null,
      "right": null,
      "top": null,
      "visibility": null,
      "width": null
     }
    },
    "b4b07bc5407f4db0a8493aa1220d0dd5": {
     "model_module": "@jupyter-widgets/base",
     "model_module_version": "1.2.0",
     "model_name": "LayoutModel",
     "state": {
      "_model_module": "@jupyter-widgets/base",
      "_model_module_version": "1.2.0",
      "_model_name": "LayoutModel",
      "_view_count": null,
      "_view_module": "@jupyter-widgets/base",
      "_view_module_version": "1.2.0",
      "_view_name": "LayoutView",
      "align_content": null,
      "align_items": null,
      "align_self": null,
      "border": null,
      "bottom": null,
      "display": null,
      "flex": null,
      "flex_flow": null,
      "grid_area": null,
      "grid_auto_columns": null,
      "grid_auto_flow": null,
      "grid_auto_rows": null,
      "grid_column": null,
      "grid_gap": null,
      "grid_row": null,
      "grid_template_areas": null,
      "grid_template_columns": null,
      "grid_template_rows": null,
      "height": null,
      "justify_content": null,
      "justify_items": null,
      "left": null,
      "margin": null,
      "max_height": null,
      "max_width": null,
      "min_height": null,
      "min_width": null,
      "object_fit": null,
      "object_position": null,
      "order": null,
      "overflow": null,
      "overflow_x": null,
      "overflow_y": null,
      "padding": null,
      "right": null,
      "top": null,
      "visibility": null,
      "width": null
     }
    },
    "c968faef3c0248a8826179d5b5ccee81": {
     "model_module": "@jupyter-widgets/controls",
     "model_module_version": "1.5.0",
     "model_name": "HBoxModel",
     "state": {
      "_dom_classes": [],
      "_model_module": "@jupyter-widgets/controls",
      "_model_module_version": "1.5.0",
      "_model_name": "HBoxModel",
      "_view_count": null,
      "_view_module": "@jupyter-widgets/controls",
      "_view_module_version": "1.5.0",
      "_view_name": "HBoxView",
      "box_style": "",
      "children": [
       "IPY_MODEL_4fadfad6b6cc42568e01ba7a1403e5fe",
       "IPY_MODEL_c973addeba1c4ab4a29ac8c7036b4f0b",
       "IPY_MODEL_dc7b8ef6f3fd4795b34b3fb9d98e38b6"
      ],
      "layout": "IPY_MODEL_b4b07bc5407f4db0a8493aa1220d0dd5"
     }
    },
    "c973addeba1c4ab4a29ac8c7036b4f0b": {
     "model_module": "@jupyter-widgets/controls",
     "model_module_version": "1.5.0",
     "model_name": "FloatProgressModel",
     "state": {
      "_dom_classes": [],
      "_model_module": "@jupyter-widgets/controls",
      "_model_module_version": "1.5.0",
      "_model_name": "FloatProgressModel",
      "_view_count": null,
      "_view_module": "@jupyter-widgets/controls",
      "_view_module_version": "1.5.0",
      "_view_name": "ProgressView",
      "bar_style": "success",
      "description": "",
      "description_tooltip": null,
      "layout": "IPY_MODEL_0c1b1ff1cf504aa9b5d533678698b2ec",
      "max": 120,
      "min": 0,
      "orientation": "horizontal",
      "style": "IPY_MODEL_956832aa361747ab921938b3cfcb9dba",
      "value": 120
     }
    },
    "d2bf80fdbac94611a8c45c90787583bf": {
     "model_module": "@jupyter-widgets/base",
     "model_module_version": "1.2.0",
     "model_name": "LayoutModel",
     "state": {
      "_model_module": "@jupyter-widgets/base",
      "_model_module_version": "1.2.0",
      "_model_name": "LayoutModel",
      "_view_count": null,
      "_view_module": "@jupyter-widgets/base",
      "_view_module_version": "1.2.0",
      "_view_name": "LayoutView",
      "align_content": null,
      "align_items": null,
      "align_self": null,
      "border": null,
      "bottom": null,
      "display": null,
      "flex": null,
      "flex_flow": null,
      "grid_area": null,
      "grid_auto_columns": null,
      "grid_auto_flow": null,
      "grid_auto_rows": null,
      "grid_column": null,
      "grid_gap": null,
      "grid_row": null,
      "grid_template_areas": null,
      "grid_template_columns": null,
      "grid_template_rows": null,
      "height": null,
      "justify_content": null,
      "justify_items": null,
      "left": null,
      "margin": null,
      "max_height": null,
      "max_width": null,
      "min_height": null,
      "min_width": null,
      "object_fit": null,
      "object_position": null,
      "order": null,
      "overflow": null,
      "overflow_x": null,
      "overflow_y": null,
      "padding": null,
      "right": null,
      "top": null,
      "visibility": null,
      "width": null
     }
    },
    "dc7b8ef6f3fd4795b34b3fb9d98e38b6": {
     "model_module": "@jupyter-widgets/controls",
     "model_module_version": "1.5.0",
     "model_name": "HTMLModel",
     "state": {
      "_dom_classes": [],
      "_model_module": "@jupyter-widgets/controls",
      "_model_module_version": "1.5.0",
      "_model_name": "HTMLModel",
      "_view_count": null,
      "_view_module": "@jupyter-widgets/controls",
      "_view_module_version": "1.5.0",
      "_view_name": "HTMLView",
      "description": "",
      "description_tooltip": null,
      "layout": "IPY_MODEL_8e300989409348068d76fed0e542cd60",
      "placeholder": "​",
      "style": "IPY_MODEL_adb020859324475fb43319268abecd0f",
      "value": " 120/120 [00:21&lt;00:00,  5.65it/s]"
     }
    },
    "ee31ae76c96e416bbe247fa2df1d3d15": {
     "model_module": "@jupyter-widgets/controls",
     "model_module_version": "1.5.0",
     "model_name": "HBoxModel",
     "state": {
      "_dom_classes": [],
      "_model_module": "@jupyter-widgets/controls",
      "_model_module_version": "1.5.0",
      "_model_name": "HBoxModel",
      "_view_count": null,
      "_view_module": "@jupyter-widgets/controls",
      "_view_module_version": "1.5.0",
      "_view_name": "HBoxView",
      "box_style": "",
      "children": [
       "IPY_MODEL_f8f365879a3b4d17b10f5ff447a0aa75",
       "IPY_MODEL_99c7afa520cc41b5a915585c7411741a",
       "IPY_MODEL_2552918692a641308cc3cdf03b95db92"
      ],
      "layout": "IPY_MODEL_2b1a0c7a1b494d5c9139b9dd3e8d34a7"
     }
    },
    "f8f365879a3b4d17b10f5ff447a0aa75": {
     "model_module": "@jupyter-widgets/controls",
     "model_module_version": "1.5.0",
     "model_name": "HTMLModel",
     "state": {
      "_dom_classes": [],
      "_model_module": "@jupyter-widgets/controls",
      "_model_module_version": "1.5.0",
      "_model_name": "HTMLModel",
      "_view_count": null,
      "_view_module": "@jupyter-widgets/controls",
      "_view_module_version": "1.5.0",
      "_view_name": "HTMLView",
      "description": "",
      "description_tooltip": null,
      "layout": "IPY_MODEL_5f4b2d3435a5435a91349a624eef9806",
      "placeholder": "​",
      "style": "IPY_MODEL_ff294ce6d6e945249112f590a41c15d2",
      "value": "100%"
     }
    },
    "ff294ce6d6e945249112f590a41c15d2": {
     "model_module": "@jupyter-widgets/controls",
     "model_module_version": "1.5.0",
     "model_name": "DescriptionStyleModel",
     "state": {
      "_model_module": "@jupyter-widgets/controls",
      "_model_module_version": "1.5.0",
      "_model_name": "DescriptionStyleModel",
      "_view_count": null,
      "_view_module": "@jupyter-widgets/base",
      "_view_module_version": "1.2.0",
      "_view_name": "StyleView",
      "description_width": ""
     }
    }
   }
  }
 },
 "nbformat": 4,
 "nbformat_minor": 1
}
