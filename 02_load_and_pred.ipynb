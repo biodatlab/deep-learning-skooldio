{
 "cells": [
  {
   "attachments": {},
   "cell_type": "markdown",
   "metadata": {},
   "source": [
    "[![Open in Colab](https://colab.research.google.com/assets/colab-badge.svg)](https://colab.research.google.com/github/biodatlab/deep-learning-skooldio/blob/master/02_load_and_pred.ipynb)\n",
    "\n",
    "\n",
    "# Load trained model and predict on a sample image\n",
    "\n",
    "In this notebook, we will load the trained model parameter from `02_handwritten_recognition.ipynb` and use it to predict on a sample image.\n",
    "To do that, we need to\n",
    "- Create the model\n",
    "- Upload the model weight to Colab\n",
    "- Then use it to predict on a sample image."
   ]
  },
  {
   "cell_type": "code",
   "execution_count": null,
   "metadata": {},
   "outputs": [],
   "source": [
    "!git clone https://github.com/biodatlab/deep-learning-skooldio"
   ]
  },
  {
   "cell_type": "code",
   "execution_count": null,
   "metadata": {},
   "outputs": [],
   "source": [
    "import torch\n",
    "from pathlib import Path\n",
    "import torch.nn as nn\n",
    "import torch.nn.functional as F\n",
    "from PIL import Image\n",
    "import matplotlib.pyplot as plt\n",
    "from torchvision import transforms\n",
    "\n",
    "transform = transforms.Compose([\n",
    "    transforms.Resize((28, 28)),\n",
    "    transforms.Grayscale(),\n",
    "    transforms.ToTensor()\n",
    "])\n",
    "\n",
    "# Load model using DropoutThaiDigit instead\n",
    "class DropoutThaiDigit(nn.Module):\n",
    "    def __init__(self):\n",
    "        super(DropoutThaiDigit, self).__init__()\n",
    "        self.fc1 = nn.Linear(28 * 28, 392)\n",
    "        self.fc2 = nn.Linear(392, 196)\n",
    "        self.fc3 = nn.Linear(196, 98)\n",
    "        self.fc4 = nn.Linear(98, 10)\n",
    "        self.dropout = nn.Dropout(0.1)\n",
    "        \n",
    "    def forward(self, x):\n",
    "        x = x.view(-1, 28 * 28)\n",
    "        x = self.fc1(x)\n",
    "        x = F.relu(x)\n",
    "        x = self.dropout(x)\n",
    "        x = self.fc2(x)\n",
    "        x = F.relu(x)\n",
    "        x = self.dropout(x)\n",
    "        x = self.fc3(x)\n",
    "        x = F.relu(x)\n",
    "        x = self.dropout(x)\n",
    "        x = self.fc4(x)\n",
    "        return x"
   ]
  },
  {
   "cell_type": "code",
   "execution_count": null,
   "metadata": {},
   "outputs": [],
   "source": [
    "# TODO: Create model instance, upload trained weight to Colab, and load trained model parameters from ``thai_digit_net.pth``\n",
    "model = DropoutThaiDigit()\n",
    "model.load_state_dict(torch.load(\"deep-learning-skooldio/saved_model/thai_digit_net.pth\"))\n",
    "model.eval()"
   ]
  },
  {
   "cell_type": "code",
   "execution_count": null,
   "metadata": {},
   "outputs": [],
   "source": [
    "from glob import glob\n",
    "\n",
    "sample_path = glob(\"deep-learning-skooldio/thai-handwritten-dataset/*/*.png\")[50]\n",
    "img = Image.open(sample_path)\n",
    "y_true = Path(sample_path).parent.name\n",
    "\n",
    "img = 1 - transform(img)\n",
    "y_pred = model(img)\n",
    "y_pred = y_pred.argmax(dim=1)\n",
    "\n",
    "plt.title(\"Predicted class = {}, True class = {}\".format(y_pred, y_true))\n",
    "plt.imshow(img.squeeze(0), cmap=\"gray\")\n",
    "plt.show()"
   ]
  },
  {
   "attachments": {},
   "cell_type": "markdown",
   "metadata": {},
   "source": [
    "## Using gradio for predicting on a sample image\n",
    "\n",
    "[Gradio](https://gradio.app/) is a python library that allows you to create a web app for your machine learning model. Here, we will create a prediction app for our model with Gradio. To create a gradio application, we need\n",
    "\n",
    "- Predict function\n",
    "- Input component as a sketch pad\n",
    "- Output component as a list of label"
   ]
  },
  {
   "cell_type": "code",
   "execution_count": null,
   "metadata": {},
   "outputs": [],
   "source": [
    "!pip install gradio  # install gradio"
   ]
  },
  {
   "cell_type": "code",
   "execution_count": 2,
   "metadata": {},
   "outputs": [],
   "source": [
    "import numpy as np\n",
    "\n",
    "labels = [\"๐ (ศูนย์)\", \"๑ (หนึ่ง)\", \"๒ (สอง)\", \"๓ (สาม)\", \"๔ (สี่)\", \"๕ (ห้า)\", \"๖ (หก)\", \"๗ (เจ็ด)\", \"๘ (แปด)\", \"๙ (เก้า)\"]\n",
    "LABELS = {i:k for i, k in enumerate(labels)} # dictionary of index and label\n",
    "\n",
    "def predict(img):\n",
    "    \"\"\"\n",
    "    Predict function takes image and return top 5 predictions\n",
    "    as a dictionary:\n",
    "\n",
    "        {label: confidence, label: confidence, ...}\n",
    "    \"\"\"\n",
    "    if img is None:\n",
    "        return None\n",
    "    img = transform(img)  # do not need to use 1 - transform(img) because gradio already do it\n",
    "    probs = model(img).softmax(dim=1).ravel()\n",
    "    probs, indices = torch.topk(probs, 5)  # select top 5\n",
    "    probs, indices = probs.tolist(), indices.tolist()  # transform to list\n",
    "    confidences = {LABELS[i]: v for i, v in zip(indices, probs)}\n",
    "    return confidences"
   ]
  },
  {
   "cell_type": "code",
   "execution_count": null,
   "metadata": {},
   "outputs": [],
   "source": [
    "import gradio as gr\n",
    "\n",
    "gr.Interface(\n",
    "    fn=predict, \n",
    "    inputs=gr.Sketchpad(label=\"Draw Here\", brush_radius=5, type=\"pil\", shape=(120, 120)), \n",
    "    outputs=gr.Label(label=\"Guess\"), \n",
    "    live=True\n",
    ").launch()"
   ]
  }
 ],
 "metadata": {
  "kernelspec": {
   "display_name": "Python 3 (ipykernel)",
   "language": "python",
   "name": "python3"
  },
  "language_info": {
   "codemirror_mode": {
    "name": "ipython",
    "version": 3
   },
   "file_extension": ".py",
   "mimetype": "text/x-python",
   "name": "python",
   "nbconvert_exporter": "python",
   "pygments_lexer": "ipython3",
   "version": "3.7.13"
  },
  "vscode": {
   "interpreter": {
    "hash": "31f2aee4e71d21fbe5cf8b01ff0e069b9275f58929596ceb00d14d90e3e16cd6"
   }
  }
 },
 "nbformat": 4,
 "nbformat_minor": 2
}
