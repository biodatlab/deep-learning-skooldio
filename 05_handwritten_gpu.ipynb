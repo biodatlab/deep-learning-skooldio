{
  "cells": [
    {
      "cell_type": "markdown",
      "id": "cfc52381",
      "metadata": {
        "id": "cfc52381"
      },
      "source": [
        "[![Open in Colab](https://colab.research.google.com/assets/colab-badge.svg)](https://colab.research.google.com/github/biodatlab/deep-learning-skooldio/blob/master/03_handwritten_recognition_explore.ipynb)\n",
        "\n",
        "## **Thai-digit handwritten classification with Pytorch: Exploration**\n",
        "\n",
        "This notebook contains exploration of the \"Thai-digit handwritten classification\" including\n",
        "- Customize model\n",
        "    - Adding layers\n",
        "    - Adding dropout layer\n",
        "- Adding data augmentation"
      ]
    },
    {
      "cell_type": "markdown",
      "id": "3aa56f94",
      "metadata": {
        "id": "3aa56f94"
      },
      "source": [
        "## **Download and clean the dataset from the repository**\n",
        "\n",
        "- We have downloaded the data from https://github.com/kittinan/thai-handwriting-number by cloning the repository\n",
        "- Remove files that have character mismatch (as suggested by the the creator)\n",
        "- Then, we put the cleaned data at https://github.com/biodatlab/deep-learning-skooldio"
      ]
    },
    {
      "cell_type": "code",
      "execution_count": 1,
      "id": "f7deb2f6",
      "metadata": {
        "colab": {
          "base_uri": "https://localhost:8080/"
        },
        "id": "f7deb2f6",
        "outputId": "d9960ca0-3f46-43f7-b555-ba4bc84d07c8"
      },
      "outputs": [
        {
          "name": "stdout",
          "output_type": "stream",
          "text": [
            "Cloning into 'deep-learning-skooldio'...\n",
            "remote: Enumerating objects: 1877, done.\u001b[K\n",
            "remote: Counting objects: 100% (1877/1877), done.\u001b[K\n",
            "remote: Compressing objects: 100% (1820/1820), done.\u001b[K\n",
            "remote: Total 1877 (delta 92), reused 1829 (delta 52), pack-reused 0\u001b[K\n",
            "Receiving objects: 100% (1877/1877), 14.05 MiB | 14.61 MiB/s, done.\n",
            "Resolving deltas: 100% (92/92), done.\n"
          ]
        }
      ],
      "source": [
        "!git clone https://github.com/biodatlab/deep-learning-skooldio"
      ]
    },
    {
      "cell_type": "code",
      "execution_count": 2,
      "id": "2ad2a443",
      "metadata": {
        "id": "2ad2a443"
      },
      "outputs": [],
      "source": [
        "import os\n",
        "import os.path as op\n",
        "from glob import glob\n",
        "from pathlib import Path\n",
        "import random\n",
        "from PIL import Image\n",
        "from collections import Counter\n",
        "\n",
        "from sklearn.metrics import confusion_matrix, ConfusionMatrixDisplay\n",
        "import matplotlib.pyplot as plt\n",
        "import pandas as pd"
      ]
    },
    {
      "cell_type": "code",
      "execution_count": 3,
      "id": "6wAWDTP7SN4X",
      "metadata": {
        "id": "6wAWDTP7SN4X"
      },
      "outputs": [],
      "source": [
        "import torch\n",
        "import torch.nn as nn\n",
        "import torch.nn.functional as F\n",
        "from torch.utils.data import Dataset, DataLoader, ConcatDataset\n",
        "from torchvision import transforms"
      ]
    },
    {
      "cell_type": "code",
      "execution_count": 5,
      "id": "64ce2573",
      "metadata": {
        "colab": {
          "base_uri": "https://localhost:8080/"
        },
        "id": "64ce2573",
        "outputId": "3253aa7f-fa17-4e98-bb50-53012f4d4050"
      },
      "outputs": [
        {
          "name": "stdout",
          "output_type": "stream",
          "text": [
            "Number of samples 1750\n"
          ]
        }
      ],
      "source": [
        "directory = \"deep-learning-skooldio/\"\n",
        "paths = glob(op.join(directory, \"thai-handwritten-dataset\", \"*\", \"*\"))\n",
        "num_samples = len(paths)\n",
        "print(\"Number of samples\", num_samples)"
      ]
    },
    {
      "cell_type": "code",
      "execution_count": 6,
      "id": "6aa0f5b4",
      "metadata": {
        "id": "6aa0f5b4"
      },
      "outputs": [],
      "source": [
        "from tqdm.auto import tqdm\n",
        "from sklearn.model_selection import train_test_split\n",
        "import shutil\n",
        "\n",
        "train_paths, test_paths = train_test_split(paths, test_size=0.1, random_state=42)\n",
        "for i in range(10):\n",
        "    os.makedirs(f\"data/train/{i}\", exist_ok=True)\n",
        "    os.makedirs(f\"data/validation/{i}\", exist_ok=True)"
      ]
    },
    {
      "cell_type": "code",
      "execution_count": 7,
      "id": "fe1d237b",
      "metadata": {
        "id": "fe1d237b"
      },
      "outputs": [],
      "source": [
        "def copy_to_destination(src_paths, dst_path: str = \"data/train/\"):\n",
        "    for path in tqdm(src_paths):\n",
        "        path = Path(path)\n",
        "        if path.parent.name == \"10\":\n",
        "            parent_dir = \"0\"\n",
        "        else:\n",
        "            parent_dir = path.parent.name\n",
        "        shutil.copy(path, op.join(dst_path, parent_dir, path.name))"
      ]
    },
    {
      "cell_type": "code",
      "execution_count": 8,
      "id": "af9064ae",
      "metadata": {
        "colab": {
          "base_uri": "https://localhost:8080/",
          "height": 0,
          "referenced_widgets": [
            "23245535f13c4a749876f453c3959973",
            "80bc230fdb1a4c2d982ef2a087847433",
            "5e9ad8dac99240b8abe2a5b652e13c63",
            "74c06a9c1dd542d68c44165beb3c6124",
            "85d10e44c182494b9d5b7390a90ee123",
            "b236696061584786b82a5f0c12a2926d",
            "6d1ebc759c7e46b1b82bde9a15420576",
            "dcd1c8de36e94cd78eece2bf7ac6f9f9",
            "934884908b824d018ba3fb1f1b08096c",
            "a1f34bc701f14ce8a1786cf5249f2606",
            "c9e9816785bd49e0bf1fc7b29bfaef50",
            "d48093081ece42dc8772b154758cf57d",
            "e6e459539e4940d9b2cbc4242286167b",
            "e632a6c347124bb784a88e6ac1d0138e",
            "69246f18755d4d968f7e1008b43663ab",
            "1cc197bae55a4bde984707dcbd9c4381",
            "048a101e952c46e49567455c5afb427c",
            "9292363fdd7b405fa3d2d26ea5695aa7",
            "ea691ba722bb4c0ca82cf355734c1fbb",
            "6e285b3248764d2a950cd36fd5ea64fd",
            "a549f3e548c74dd38a3d1b3751dfb537",
            "36a5301812af4ca9a29d34c6e60c5902"
          ]
        },
        "id": "af9064ae",
        "outputId": "731ade45-1782-4ab7-ce9a-71574ebdda22"
      },
      "outputs": [
        {
          "data": {
            "application/vnd.jupyter.widget-view+json": {
              "model_id": "23245535f13c4a749876f453c3959973",
              "version_major": 2,
              "version_minor": 0
            },
            "text/plain": [
              "  0%|          | 0/1575 [00:00<?, ?it/s]"
            ]
          },
          "metadata": {},
          "output_type": "display_data"
        },
        {
          "data": {
            "application/vnd.jupyter.widget-view+json": {
              "model_id": "d48093081ece42dc8772b154758cf57d",
              "version_major": 2,
              "version_minor": 0
            },
            "text/plain": [
              "  0%|          | 0/175 [00:00<?, ?it/s]"
            ]
          },
          "metadata": {},
          "output_type": "display_data"
        }
      ],
      "source": [
        "copy_to_destination(train_paths, \"data/train/\")\n",
        "copy_to_destination(test_paths, \"data/validation/\")"
      ]
    },
    {
      "cell_type": "markdown",
      "id": "ae55f494",
      "metadata": {
        "id": "ae55f494"
      },
      "source": [
        "## **Create a custom dataset and a dataloader**"
      ]
    },
    {
      "cell_type": "code",
      "execution_count": 49,
      "id": "2dbd4be3",
      "metadata": {
        "id": "2dbd4be3"
      },
      "outputs": [],
      "source": [
        "transform = transforms.Compose([\n",
        "    transforms.Resize((28, 28)),\n",
        "    transforms.Grayscale(),\n",
        "    transforms.ToTensor()\n",
        "])"
      ]
    },
    {
      "cell_type": "code",
      "execution_count": 50,
      "id": "yyAx23w8PFLU",
      "metadata": {
        "colab": {
          "base_uri": "https://localhost:8080/"
        },
        "id": "yyAx23w8PFLU",
        "outputId": "3e7f3020-1624-4337-fa3c-088f7caa0969"
      },
      "outputs": [
        {
          "name": "stdout",
          "output_type": "stream",
          "text": [
            "Number of train images = (1575, 2), number of validation images = (175, 2),\n"
          ]
        }
      ],
      "source": [
        "# Create dataframe\n",
        "train_df = pd.DataFrame({\"path\": glob(\"data/train/*/*\")})\n",
        "val_df = pd.DataFrame({\"path\": glob(\"data/validation/*/*\")})\n",
        "\n",
        "# Create text column from path\n",
        "train_df[\"text\"] = train_df[\"path\"].apply(lambda x: int(Path(x).parent.name))\n",
        "val_df[\"text\"] = val_df[\"path\"].apply(lambda x: int(Path(x).parent.name))\n",
        "\n",
        "# Shape of dataframe\n",
        "print(\"Number of train images = {}, number of validation images = {},\".format(train_df.shape, val_df.shape))"
      ]
    },
    {
      "cell_type": "code",
      "execution_count": 51,
      "id": "09eb4140",
      "metadata": {
        "id": "09eb4140"
      },
      "outputs": [],
      "source": [
        "class ThaiDigitDataset(Dataset):\n",
        "    def __init__(self, dataframe, transform=None):\n",
        "        self.transform = transform\n",
        "        self.dataframe = dataframe\n",
        "\n",
        "    def __len__(self):\n",
        "        return len(self.dataframe)\n",
        "\n",
        "    def __getitem__(self, idx):\n",
        "        label = int(self.dataframe['text'][idx])\n",
        "        image = Image.open(self.dataframe['path'][idx])\n",
        "        if self.transform:\n",
        "            image = 1 - self.transform(image)\n",
        "        return image, label"
      ]
    },
    {
      "cell_type": "code",
      "execution_count": 52,
      "id": "f1175f91",
      "metadata": {
        "id": "f1175f91"
      },
      "outputs": [],
      "source": [
        "train_thaidigit_dataset = ThaiDigitDataset(train_df, transform=transform)\n",
        "val_thaidigit_dataset = ThaiDigitDataset(val_df, transform=transform)"
      ]
    },
    {
      "cell_type": "code",
      "execution_count": 53,
      "id": "d4f83af9",
      "metadata": {
        "id": "d4f83af9"
      },
      "outputs": [],
      "source": [
        "train_loader = DataLoader(train_thaidigit_dataset, batch_size=16, shuffle=True)\n",
        "val_loader = DataLoader(val_thaidigit_dataset, batch_size=16, shuffle=False)"
      ]
    },
    {
      "cell_type": "markdown",
      "id": "f0455ef9",
      "metadata": {
        "id": "f0455ef9"
      },
      "source": [
        "## **Functions and utilities**"
      ]
    },
    {
      "cell_type": "code",
      "execution_count": 43,
      "id": "r61vWix7nfgl",
      "metadata": {
        "id": "r61vWix7nfgl"
      },
      "outputs": [],
      "source": [
        "# Train function code from previous exercise\n",
        "def train(model, n_epochs, loss_function, optimizer, train_loader, validation_loader, device):\n",
        "    training_logs = {\"train_loss\": [],  \"train_acc\": [], \"val_loss\": [], \"val_acc\": []}\n",
        "    print(\"-\"*80)\n",
        "    for epoch in range(1, n_epochs+1):\n",
        "        # training\n",
        "        model.train()\n",
        "        train_loss, correct = 0, 0\n",
        "        for images, labels in train_loader:\n",
        "            pred = model(images)\n",
        "            loss = loss_function(pred, labels)\n",
        "\n",
        "            optimizer.zero_grad()\n",
        "            loss.backward()\n",
        "            optimizer.step()\n",
        "\n",
        "            train_loss += loss.item()\n",
        "            correct += (pred.argmax(1) == labels).float().sum().item()\n",
        "        # save training logs\n",
        "        training_logs[\"train_loss\"].append(train_loss/ len(train_loader))\n",
        "        training_logs[\"train_acc\"].append(correct / len(train_loader.dataset))\n",
        "\n",
        "        # validation\n",
        "        model.eval()\n",
        "        val_loss, correct = 0, 0\n",
        "        for images, labels in validation_loader:\n",
        "            pred = model(images)\n",
        "            val_loss += loss_function(pred, labels).item()\n",
        "            correct += (pred.argmax(1) == labels).float().sum().item()\n",
        "        # save validation logs\n",
        "        training_logs[\"val_loss\"].append(val_loss/ len(val_loader))\n",
        "        training_logs[\"val_acc\"].append(correct / len(validation_loader.dataset))\n",
        "\n",
        "        print(f\"Epochs {epoch}\".ljust(10), \n",
        "              f\"train loss {training_logs['train_loss'][-1]:.5f}\",\n",
        "              f\"train acc {training_logs['train_acc'][-1]:.5f}\",\n",
        "\n",
        "              f\"val loss {training_logs['val_loss'][-1]:.5f}\",\n",
        "              f\"val acc {training_logs['val_acc'][-1]:.5f}\",\n",
        "              )\n",
        "        print(\"-\"*80)\n",
        "    return model, training_logs\n",
        "        "
      ]
    },
    {
      "cell_type": "code",
      "execution_count": 55,
      "id": "_10LDBPaW9pv",
      "metadata": {
        "id": "_10LDBPaW9pv"
      },
      "outputs": [],
      "source": [
        "# evaluate function code from previous exercise\n",
        "def evaluate(dataframe, model):\n",
        "    model.eval()\n",
        "    results = dataframe.copy()\n",
        "    predictions = []\n",
        "    for idx, row in results.iterrows():\n",
        "        img = transform(Image.open(row.path))\n",
        "        pred = model(1 - img)\n",
        "        predictions.append(pred.argmax(1).item())\n",
        "\n",
        "    results[\"prediction\"] = predictions\n",
        "    # Calculate accuracy\n",
        "    accuracy = len(results[results.prediction == results.text]) / len(results)\n",
        "    print(f\"Accuracy: {accuracy * 100:.2f}%\")\n",
        "    return results"
      ]
    },
    {
      "cell_type": "code",
      "execution_count": 54,
      "id": "YNzoalGUt-uu",
      "metadata": {
        "id": "YNzoalGUt-uu"
      },
      "outputs": [],
      "source": [
        "def plot_graph(history):\n",
        "    fig, (ax1, ax2) = plt.subplots(1, 2)\n",
        "    fig.set_figwidth(10)\n",
        "    fig.suptitle(\"Train vs Validation\")\n",
        "    ax1.plot(history[\"train_acc\"], label=\"Train\")\n",
        "    ax1.plot(history[\"val_acc\"], label=\"Validation\")\n",
        "    ax1.legend()\n",
        "    ax1.set_title(\"Accuracy\")\n",
        "\n",
        "    ax2.plot(history[\"train_loss\"], label=\"Train\")\n",
        "    ax2.plot(history[\"val_loss\"], label=\"Validation\")\n",
        "    ax2.legend()\n",
        "    ax2.set_title(\"Loss\")\n",
        "    fig.show()"
      ]
    },
    {
      "cell_type": "markdown",
      "id": "65fb58d7",
      "metadata": {
        "id": "65fb58d7"
      },
      "source": [
        "## **Create model**\n",
        "\n",
        "Dropout is one of the techniques used to prevent overfitting"
      ]
    },
    {
      "cell_type": "code",
      "execution_count": 22,
      "id": "a8e819c7",
      "metadata": {
        "id": "a8e819c7"
      },
      "outputs": [],
      "source": [
        "class DropoutThaiDigit(nn.Module):\n",
        "    def __init__(self):\n",
        "        super(DropoutThaiDigit, self).__init__()\n",
        "        self.layers = nn.Sequential(\n",
        "            nn.Linear(28*28, 392),\n",
        "            nn.ReLU(),\n",
        "            nn.Dropout(0.1),\n",
        "            nn.Linear(392, 196),\n",
        "            nn.ReLU(),\n",
        "            nn.Dropout(0.1),\n",
        "            nn.Linear(196, 98),\n",
        "            nn.ReLU(),\n",
        "            nn.Dropout(0.1),\n",
        "            nn.Linear(98, 10),\n",
        "        )\n",
        "\n",
        "    def forward(self, x):\n",
        "        x = x.view(-1, 28 * 28)\n",
        "        return self.layers(x)"
      ]
    },
    {
      "cell_type": "markdown",
      "id": "_R305_c-sBGn",
      "metadata": {
        "id": "_R305_c-sBGn"
      },
      "source": [
        "## **Image Augmentation with CUDA**\n",
        "\n",
        "Image augmentation is a technique used to artificially increase the size of a training dataset by creating modified versions of existing images."
      ]
    },
    {
      "cell_type": "code",
      "execution_count": 14,
      "id": "XS14ZI0b_Wla",
      "metadata": {
        "id": "XS14ZI0b_Wla"
      },
      "outputs": [],
      "source": [
        "# augment_transform is same as transform but add RandomAffine to the image\n",
        "\n",
        "train_transform = transforms.Compose([\n",
        "    transforms.Resize((28, 28)),\n",
        "    transforms.Grayscale(),\n",
        "    transforms.RandomAffine(degrees=(-15, 15), translate=(0.05, 0.1), scale=(1, 1)),\n",
        "    transforms.ToTensor(),\n",
        "])\n",
        "\n",
        "val_transform = transforms.Compose([\n",
        "    transforms.Resize((28, 28)),\n",
        "    transforms.Grayscale(),\n",
        "    transforms.ToTensor(),\n",
        "])"
      ]
    },
    {
      "cell_type": "code",
      "execution_count": 15,
      "id": "d52dee8c",
      "metadata": {
        "id": "d52dee8c"
      },
      "outputs": [],
      "source": [
        "example_augment_data = ThaiDigitDataset(train_df, transform=train_transform)\n",
        "example_dataloader = DataLoader(example_augment_data, batch_size=16, shuffle=True)"
      ]
    },
    {
      "cell_type": "code",
      "execution_count": 16,
      "id": "663cd6b7",
      "metadata": {
        "colab": {
          "base_uri": "https://localhost:8080/",
          "height": 265
        },
        "id": "663cd6b7",
        "outputId": "6c99dcb4-5240-4c57-b98a-419b994a6e84"
      },
      "outputs": [
        {
          "data": {
            "image/png": "[encoded data removed]",
            "text/plain": [
              "<Figure size 432x288 with 1 Axes>"
            ]
          },
          "metadata": {
            "needs_background": "light"
          },
          "output_type": "display_data"
        }
      ],
      "source": [
        "# Example of augmented image\n",
        "img = (next(iter(example_dataloader))[0][1])\n",
        "transformed_img = 1 - img\n",
        "\n",
        "plt.imshow(transformed_img.squeeze(0), cmap=\"gray\")\n",
        "plt.show()"
      ]
    },
    {
      "cell_type": "code",
      "execution_count": 17,
      "id": "qtpgbABlefBj",
      "metadata": {
        "id": "qtpgbABlefBj"
      },
      "outputs": [],
      "source": [
        "augmented_train_dataset = ThaiDigitDataset(train_df, transform=train_transform)\n",
        "val_dataset = ThaiDigitDataset(val_df, transform=val_transform)"
      ]
    },
    {
      "cell_type": "code",
      "execution_count": 19,
      "id": "DWmjYCRmfOfH",
      "metadata": {
        "id": "DWmjYCRmfOfH"
      },
      "outputs": [],
      "source": [
        "train_dataset = ConcatDataset([train_thaidigit_dataset, augmented_train_dataset])\n",
        "train_dataloader = DataLoader(train_dataset, batch_size=16, shuffle=True)\n",
        "val_dataloader = DataLoader(val_dataset, batch_size=16, shuffle=False)"
      ]
    },
    {
      "attachments": {},
      "cell_type": "markdown",
      "id": "52b5f7dd",
      "metadata": {},
      "source": [
        "In this time we will train model using GPU (CUDA). <br /> We can check if cuda is available or not by using torch.cuda.is_available()."
      ]
    },
    {
      "cell_type": "code",
      "execution_count": 71,
      "id": "PkfbHxr5ShnW",
      "metadata": {
        "colab": {
          "base_uri": "https://localhost:8080/",
          "height": 35
        },
        "id": "PkfbHxr5ShnW",
        "outputId": "782fe268-db29-435c-f75d-6aba0720fe9f"
      },
      "outputs": [
        {
          "data": {
            "application/vnd.google.colaboratory.intrinsic+json": {
              "type": "string"
            },
            "text/plain": [
              "'cuda'"
            ]
          },
          "execution_count": 71,
          "metadata": {},
          "output_type": "execute_result"
        }
      ],
      "source": [
        "# Set device equal to cuda if available\n",
        "device = \"cuda\" if torch.cuda.is_available() else \"cpu\"\n",
        "device"
      ]
    },
    {
      "cell_type": "code",
      "execution_count": 74,
      "id": "gJ-DLc1eSeDf",
      "metadata": {
        "id": "gJ-DLc1eSeDf"
      },
      "outputs": [],
      "source": [
        "n_epochs = 50\n",
        "loss_fn = nn.CrossEntropyLoss()\n",
        "\n",
        "augmented_model = DropoutThaiDigit()  # Initialize the model\n",
        "augmented_model = augmented_model.to(device)\n",
        "\n",
        "optimizer = torch.optim.SGD(augmented_model.parameters(), lr=0.01)"
      ]
    },
    {
      "cell_type": "code",
      "execution_count": 58,
      "id": "acc729d5",
      "metadata": {
        "colab": {
          "base_uri": "https://localhost:8080/",
          "height": 381
        },
        "id": "acc729d5",
        "outputId": "beab87a1-9731-4913-df67-8c3c3d399cd8"
      },
      "outputs": [
        {
          "name": "stdout",
          "output_type": "stream",
          "text": [
            "--------------------------------------------------------------------------------\n"
          ]
        },
        {
          "ename": "RuntimeError",
          "evalue": "ignored",
          "output_type": "error",
          "traceback": [
            "\u001b[0;31m---------------------------------------------------------------------------\u001b[0m",
            "\u001b[0;31mRuntimeError\u001b[0m                              Traceback (most recent call last)",
            "\u001b[0;32m<ipython-input-58-c18c482ca7b2>\u001b[0m in \u001b[0;36m<module>\u001b[0;34m\u001b[0m\n\u001b[0;32m----> 1\u001b[0;31m augmented_model, augmented_model_history = train(\n\u001b[0m\u001b[1;32m      2\u001b[0m     \u001b[0maugmented_model\u001b[0m\u001b[0;34m,\u001b[0m \u001b[0mn_epochs\u001b[0m\u001b[0;34m,\u001b[0m \u001b[0mloss_fn\u001b[0m\u001b[0;34m,\u001b[0m \u001b[0moptimizer\u001b[0m\u001b[0;34m,\u001b[0m \u001b[0mtrain_dataloader\u001b[0m\u001b[0;34m,\u001b[0m \u001b[0mval_dataloader\u001b[0m\u001b[0;34m,\u001b[0m \u001b[0mdevice\u001b[0m\u001b[0;34m\u001b[0m\u001b[0;34m\u001b[0m\u001b[0m\n\u001b[1;32m      3\u001b[0m )\n",
            "\u001b[0;32m<ipython-input-43-321570300061>\u001b[0m in \u001b[0;36mtrain\u001b[0;34m(model, n_epochs, loss_function, optimizer, train_loader, validation_loader, device)\u001b[0m\n\u001b[1;32m      8\u001b[0m         \u001b[0mtrain_loss\u001b[0m\u001b[0;34m,\u001b[0m \u001b[0mcorrect\u001b[0m \u001b[0;34m=\u001b[0m \u001b[0;36m0\u001b[0m\u001b[0;34m,\u001b[0m \u001b[0;36m0\u001b[0m\u001b[0;34m\u001b[0m\u001b[0;34m\u001b[0m\u001b[0m\n\u001b[1;32m      9\u001b[0m         \u001b[0;32mfor\u001b[0m \u001b[0mimages\u001b[0m\u001b[0;34m,\u001b[0m \u001b[0mlabels\u001b[0m \u001b[0;32min\u001b[0m \u001b[0mtrain_loader\u001b[0m\u001b[0;34m:\u001b[0m\u001b[0;34m\u001b[0m\u001b[0;34m\u001b[0m\u001b[0m\n\u001b[0;32m---> 10\u001b[0;31m             \u001b[0mpred\u001b[0m \u001b[0;34m=\u001b[0m \u001b[0mmodel\u001b[0m\u001b[0;34m(\u001b[0m\u001b[0mimages\u001b[0m\u001b[0;34m)\u001b[0m\u001b[0;34m\u001b[0m\u001b[0;34m\u001b[0m\u001b[0m\n\u001b[0m\u001b[1;32m     11\u001b[0m             \u001b[0mloss\u001b[0m \u001b[0;34m=\u001b[0m \u001b[0mloss_function\u001b[0m\u001b[0;34m(\u001b[0m\u001b[0mpred\u001b[0m\u001b[0;34m,\u001b[0m \u001b[0mlabels\u001b[0m\u001b[0;34m)\u001b[0m\u001b[0;34m\u001b[0m\u001b[0;34m\u001b[0m\u001b[0m\n\u001b[1;32m     12\u001b[0m \u001b[0;34m\u001b[0m\u001b[0m\n",
            "\u001b[0;32m/usr/local/lib/python3.8/dist-packages/torch/nn/modules/module.py\u001b[0m in \u001b[0;36m_call_impl\u001b[0;34m(self, *input, **kwargs)\u001b[0m\n\u001b[1;32m   1192\u001b[0m         if not (self._backward_hooks or self._forward_hooks or self._forward_pre_hooks or _global_backward_hooks\n\u001b[1;32m   1193\u001b[0m                 or _global_forward_hooks or _global_forward_pre_hooks):\n\u001b[0;32m-> 1194\u001b[0;31m             \u001b[0;32mreturn\u001b[0m \u001b[0mforward_call\u001b[0m\u001b[0;34m(\u001b[0m\u001b[0;34m*\u001b[0m\u001b[0minput\u001b[0m\u001b[0;34m,\u001b[0m \u001b[0;34m**\u001b[0m\u001b[0mkwargs\u001b[0m\u001b[0;34m)\u001b[0m\u001b[0;34m\u001b[0m\u001b[0;34m\u001b[0m\u001b[0m\n\u001b[0m\u001b[1;32m   1195\u001b[0m         \u001b[0;31m# Do not call functions when jit is used\u001b[0m\u001b[0;34m\u001b[0m\u001b[0;34m\u001b[0m\u001b[0;34m\u001b[0m\u001b[0m\n\u001b[1;32m   1196\u001b[0m         \u001b[0mfull_backward_hooks\u001b[0m\u001b[0;34m,\u001b[0m \u001b[0mnon_full_backward_hooks\u001b[0m \u001b[0;34m=\u001b[0m \u001b[0;34m[\u001b[0m\u001b[0;34m]\u001b[0m\u001b[0;34m,\u001b[0m \u001b[0;34m[\u001b[0m\u001b[0;34m]\u001b[0m\u001b[0;34m\u001b[0m\u001b[0;34m\u001b[0m\u001b[0m\n",
            "\u001b[0;32m<ipython-input-22-511bfe9df0c8>\u001b[0m in \u001b[0;36mforward\u001b[0;34m(self, x)\u001b[0m\n\u001b[1;32m     17\u001b[0m     \u001b[0;32mdef\u001b[0m \u001b[0mforward\u001b[0m\u001b[0;34m(\u001b[0m\u001b[0mself\u001b[0m\u001b[0;34m,\u001b[0m \u001b[0mx\u001b[0m\u001b[0;34m)\u001b[0m\u001b[0;34m:\u001b[0m\u001b[0;34m\u001b[0m\u001b[0;34m\u001b[0m\u001b[0m\n\u001b[1;32m     18\u001b[0m         \u001b[0mx\u001b[0m \u001b[0;34m=\u001b[0m \u001b[0mx\u001b[0m\u001b[0;34m.\u001b[0m\u001b[0mview\u001b[0m\u001b[0;34m(\u001b[0m\u001b[0;34m-\u001b[0m\u001b[0;36m1\u001b[0m\u001b[0;34m,\u001b[0m \u001b[0;36m28\u001b[0m \u001b[0;34m*\u001b[0m \u001b[0;36m28\u001b[0m\u001b[0;34m)\u001b[0m\u001b[0;34m\u001b[0m\u001b[0;34m\u001b[0m\u001b[0m\n\u001b[0;32m---> 19\u001b[0;31m         \u001b[0;32mreturn\u001b[0m \u001b[0mself\u001b[0m\u001b[0;34m.\u001b[0m\u001b[0mlayers\u001b[0m\u001b[0;34m(\u001b[0m\u001b[0mx\u001b[0m\u001b[0;34m)\u001b[0m\u001b[0;34m\u001b[0m\u001b[0;34m\u001b[0m\u001b[0m\n\u001b[0m",
            "\u001b[0;32m/usr/local/lib/python3.8/dist-packages/torch/nn/modules/module.py\u001b[0m in \u001b[0;36m_call_impl\u001b[0;34m(self, *input, **kwargs)\u001b[0m\n\u001b[1;32m   1192\u001b[0m         if not (self._backward_hooks or self._forward_hooks or self._forward_pre_hooks or _global_backward_hooks\n\u001b[1;32m   1193\u001b[0m                 or _global_forward_hooks or _global_forward_pre_hooks):\n\u001b[0;32m-> 1194\u001b[0;31m             \u001b[0;32mreturn\u001b[0m \u001b[0mforward_call\u001b[0m\u001b[0;34m(\u001b[0m\u001b[0;34m*\u001b[0m\u001b[0minput\u001b[0m\u001b[0;34m,\u001b[0m \u001b[0;34m**\u001b[0m\u001b[0mkwargs\u001b[0m\u001b[0;34m)\u001b[0m\u001b[0;34m\u001b[0m\u001b[0;34m\u001b[0m\u001b[0m\n\u001b[0m\u001b[1;32m   1195\u001b[0m         \u001b[0;31m# Do not call functions when jit is used\u001b[0m\u001b[0;34m\u001b[0m\u001b[0;34m\u001b[0m\u001b[0;34m\u001b[0m\u001b[0m\n\u001b[1;32m   1196\u001b[0m         \u001b[0mfull_backward_hooks\u001b[0m\u001b[0;34m,\u001b[0m \u001b[0mnon_full_backward_hooks\u001b[0m \u001b[0;34m=\u001b[0m \u001b[0;34m[\u001b[0m\u001b[0;34m]\u001b[0m\u001b[0;34m,\u001b[0m \u001b[0;34m[\u001b[0m\u001b[0;34m]\u001b[0m\u001b[0;34m\u001b[0m\u001b[0;34m\u001b[0m\u001b[0m\n",
            "\u001b[0;32m/usr/local/lib/python3.8/dist-packages/torch/nn/modules/container.py\u001b[0m in \u001b[0;36mforward\u001b[0;34m(self, input)\u001b[0m\n\u001b[1;32m    202\u001b[0m     \u001b[0;32mdef\u001b[0m \u001b[0mforward\u001b[0m\u001b[0;34m(\u001b[0m\u001b[0mself\u001b[0m\u001b[0;34m,\u001b[0m \u001b[0minput\u001b[0m\u001b[0;34m)\u001b[0m\u001b[0;34m:\u001b[0m\u001b[0;34m\u001b[0m\u001b[0;34m\u001b[0m\u001b[0m\n\u001b[1;32m    203\u001b[0m         \u001b[0;32mfor\u001b[0m \u001b[0mmodule\u001b[0m \u001b[0;32min\u001b[0m \u001b[0mself\u001b[0m\u001b[0;34m:\u001b[0m\u001b[0;34m\u001b[0m\u001b[0;34m\u001b[0m\u001b[0m\n\u001b[0;32m--> 204\u001b[0;31m             \u001b[0minput\u001b[0m \u001b[0;34m=\u001b[0m \u001b[0mmodule\u001b[0m\u001b[0;34m(\u001b[0m\u001b[0minput\u001b[0m\u001b[0;34m)\u001b[0m\u001b[0;34m\u001b[0m\u001b[0;34m\u001b[0m\u001b[0m\n\u001b[0m\u001b[1;32m    205\u001b[0m         \u001b[0;32mreturn\u001b[0m \u001b[0minput\u001b[0m\u001b[0;34m\u001b[0m\u001b[0;34m\u001b[0m\u001b[0m\n\u001b[1;32m    206\u001b[0m \u001b[0;34m\u001b[0m\u001b[0m\n",
            "\u001b[0;32m/usr/local/lib/python3.8/dist-packages/torch/nn/modules/module.py\u001b[0m in \u001b[0;36m_call_impl\u001b[0;34m(self, *input, **kwargs)\u001b[0m\n\u001b[1;32m   1192\u001b[0m         if not (self._backward_hooks or self._forward_hooks or self._forward_pre_hooks or _global_backward_hooks\n\u001b[1;32m   1193\u001b[0m                 or _global_forward_hooks or _global_forward_pre_hooks):\n\u001b[0;32m-> 1194\u001b[0;31m             \u001b[0;32mreturn\u001b[0m \u001b[0mforward_call\u001b[0m\u001b[0;34m(\u001b[0m\u001b[0;34m*\u001b[0m\u001b[0minput\u001b[0m\u001b[0;34m,\u001b[0m \u001b[0;34m**\u001b[0m\u001b[0mkwargs\u001b[0m\u001b[0;34m)\u001b[0m\u001b[0;34m\u001b[0m\u001b[0;34m\u001b[0m\u001b[0m\n\u001b[0m\u001b[1;32m   1195\u001b[0m         \u001b[0;31m# Do not call functions when jit is used\u001b[0m\u001b[0;34m\u001b[0m\u001b[0;34m\u001b[0m\u001b[0;34m\u001b[0m\u001b[0m\n\u001b[1;32m   1196\u001b[0m         \u001b[0mfull_backward_hooks\u001b[0m\u001b[0;34m,\u001b[0m \u001b[0mnon_full_backward_hooks\u001b[0m \u001b[0;34m=\u001b[0m \u001b[0;34m[\u001b[0m\u001b[0;34m]\u001b[0m\u001b[0;34m,\u001b[0m \u001b[0;34m[\u001b[0m\u001b[0;34m]\u001b[0m\u001b[0;34m\u001b[0m\u001b[0;34m\u001b[0m\u001b[0m\n",
            "\u001b[0;32m/usr/local/lib/python3.8/dist-packages/torch/nn/modules/linear.py\u001b[0m in \u001b[0;36mforward\u001b[0;34m(self, input)\u001b[0m\n\u001b[1;32m    112\u001b[0m \u001b[0;34m\u001b[0m\u001b[0m\n\u001b[1;32m    113\u001b[0m     \u001b[0;32mdef\u001b[0m \u001b[0mforward\u001b[0m\u001b[0;34m(\u001b[0m\u001b[0mself\u001b[0m\u001b[0;34m,\u001b[0m \u001b[0minput\u001b[0m\u001b[0;34m:\u001b[0m \u001b[0mTensor\u001b[0m\u001b[0;34m)\u001b[0m \u001b[0;34m->\u001b[0m \u001b[0mTensor\u001b[0m\u001b[0;34m:\u001b[0m\u001b[0;34m\u001b[0m\u001b[0;34m\u001b[0m\u001b[0m\n\u001b[0;32m--> 114\u001b[0;31m         \u001b[0;32mreturn\u001b[0m \u001b[0mF\u001b[0m\u001b[0;34m.\u001b[0m\u001b[0mlinear\u001b[0m\u001b[0;34m(\u001b[0m\u001b[0minput\u001b[0m\u001b[0;34m,\u001b[0m \u001b[0mself\u001b[0m\u001b[0;34m.\u001b[0m\u001b[0mweight\u001b[0m\u001b[0;34m,\u001b[0m \u001b[0mself\u001b[0m\u001b[0;34m.\u001b[0m\u001b[0mbias\u001b[0m\u001b[0;34m)\u001b[0m\u001b[0;34m\u001b[0m\u001b[0;34m\u001b[0m\u001b[0m\n\u001b[0m\u001b[1;32m    115\u001b[0m \u001b[0;34m\u001b[0m\u001b[0m\n\u001b[1;32m    116\u001b[0m     \u001b[0;32mdef\u001b[0m \u001b[0mextra_repr\u001b[0m\u001b[0;34m(\u001b[0m\u001b[0mself\u001b[0m\u001b[0;34m)\u001b[0m \u001b[0;34m->\u001b[0m \u001b[0mstr\u001b[0m\u001b[0;34m:\u001b[0m\u001b[0;34m\u001b[0m\u001b[0;34m\u001b[0m\u001b[0m\n",
            "\u001b[0;31mRuntimeError\u001b[0m: Expected all tensors to be on the same device, but found at least two devices, cuda:0 and cpu! (when checking argument for argument mat1 in method wrapper_addmm)"
          ]
        }
      ],
      "source": [
        "# Let's see what happens if we train the model with cuda\n",
        "augmented_model, augmented_model_history = train(\n",
        "    augmented_model, n_epochs, loss_fn, optimizer, train_dataloader, val_dataloader, device\n",
        ")"
      ]
    },
    {
      "attachments": {},
      "cell_type": "markdown",
      "id": "f78ee59f",
      "metadata": {},
      "source": [
        "There is a error in the code but why? <br />\n",
        "Because the in train function, the data is not transfer to cuda device. <br />\n",
        "So, we need to modify the train function to transfer the data to cuda device."
      ]
    },
    {
      "cell_type": "code",
      "execution_count": 73,
      "id": "8YWi_yaOWMD3",
      "metadata": {
        "id": "8YWi_yaOWMD3"
      },
      "outputs": [],
      "source": [
        "# Modify the train function to train with cuda.\n",
        "# And this time we will save the model with the lowest validation loss.\n",
        "def train_with_cuda(model, n_epochs, loss_function, optimizer, train_loader, validation_loader):\n",
        "    training_logs = {\"train_loss\": [],  \"train_acc\": [], \"val_loss\": [], \"val_acc\": []}\n",
        "    print(\"-\"*80)\n",
        "    for epoch in range(1, n_epochs+1):\n",
        "        # training\n",
        "        model.train()\n",
        "        train_loss, correct = 0, 0\n",
        "        for images, labels in train_loader:\n",
        "\n",
        "            #!! Change device to cuda\n",
        "            images = images.to(\"cuda\")\n",
        "            labels = labels.to(\"cuda\") \n",
        "            pred = model(images)\n",
        "            loss = loss_function(pred, labels)\n",
        "\n",
        "            optimizer.zero_grad()\n",
        "            loss.backward()\n",
        "            optimizer.step()\n",
        "\n",
        "            train_loss += loss.item()\n",
        "            correct += (pred.argmax(1) == labels).float().sum().item()\n",
        "        # save training logs\n",
        "        training_logs[\"train_loss\"].append(train_loss/ len(train_loader))\n",
        "        training_logs[\"train_acc\"].append(correct / len(train_loader.dataset))\n",
        "\n",
        "        # validation\n",
        "        model.eval()\n",
        "        val_loss, correct = 0, 0\n",
        "        for images, labels in validation_loader:\n",
        "\n",
        "            #!! Change device to cuda\n",
        "            images = images.to(\"cuda\")\n",
        "            labels = labels.to(\"cuda\") \n",
        "            pred = model(images)\n",
        "            val_loss += loss_function(pred, labels).item()\n",
        "            correct += (pred.argmax(1) == labels).float().sum().item()\n",
        "\n",
        "        #!! Save best model\n",
        "        # If training_logs[\"val_loss\"] is not empty\n",
        "        if len(training_logs[\"val_loss\"]):\n",
        "            # If the current validation loss is lower than the previous validation loss\n",
        "            # So we save the model\n",
        "            if min(training_logs[\"val_loss\"]) > (val_loss/ len(val_loader)):\n",
        "                save_path = \"thai_digit.pth\"\n",
        "                torch.save(model.state_dict(), save_path)  # save model parameters\n",
        "  \n",
        "        # save validation logs\n",
        "        training_logs[\"val_loss\"].append(val_loss/ len(val_loader))\n",
        "        training_logs[\"val_acc\"].append(correct / len(validation_loader.dataset))\n",
        "\n",
        "        print(f\"Epochs {epoch}\".ljust(10), \n",
        "              f\"train loss {training_logs['train_loss'][-1]:.5f}\",\n",
        "              f\"train acc {training_logs['train_acc'][-1]:.5f}\",\n",
        "\n",
        "              f\"val loss {training_logs['val_loss'][-1]:.5f}\",\n",
        "              f\"val acc {training_logs['val_acc'][-1]:.5f}\",\n",
        "              )\n",
        "        print(\"-\"*80)\n",
        "    return model, training_logs"
      ]
    },
    {
      "attachments": {},
      "cell_type": "markdown",
      "id": "8c58bf85",
      "metadata": {},
      "source": [
        "And the rest is the same as before"
      ]
    },
    {
      "cell_type": "code",
      "execution_count": 75,
      "id": "QbQ8mYRAWeJO",
      "metadata": {
        "colab": {
          "base_uri": "https://localhost:8080/"
        },
        "id": "QbQ8mYRAWeJO",
        "outputId": "17849668-7cb4-4b03-9a47-1fba6897791f"
      },
      "outputs": [
        {
          "name": "stdout",
          "output_type": "stream",
          "text": [
            "--------------------------------------------------------------------------------\n",
            "Epochs 1   train loss 2.30558 train acc 0.09683 val loss 2.30042 val acc 0.10286\n",
            "--------------------------------------------------------------------------------\n",
            "Epochs 2   train loss 2.30358 train acc 0.09968 val loss 2.30063 val acc 0.09143\n",
            "--------------------------------------------------------------------------------\n",
            "Epochs 3   train loss 2.30155 train acc 0.11333 val loss 2.30038 val acc 0.08571\n",
            "--------------------------------------------------------------------------------\n",
            "Epochs 4   train loss 2.29986 train acc 0.11016 val loss 2.29956 val acc 0.09143\n",
            "--------------------------------------------------------------------------------\n",
            "Epochs 5   train loss 2.29790 train acc 0.11968 val loss 2.29834 val acc 0.10857\n",
            "--------------------------------------------------------------------------------\n",
            "Epochs 6   train loss 2.29566 train acc 0.15079 val loss 2.29619 val acc 0.15429\n",
            "--------------------------------------------------------------------------------\n",
            "Epochs 7   train loss 2.29192 train acc 0.18381 val loss 2.29288 val acc 0.20000\n",
            "--------------------------------------------------------------------------------\n",
            "Epochs 8   train loss 2.28768 train acc 0.19460 val loss 2.28802 val acc 0.21714\n",
            "--------------------------------------------------------------------------------\n",
            "Epochs 9   train loss 2.28090 train acc 0.19714 val loss 2.27993 val acc 0.22286\n",
            "--------------------------------------------------------------------------------\n",
            "Epochs 10  train loss 2.27048 train acc 0.20540 val loss 2.26743 val acc 0.23429\n",
            "--------------------------------------------------------------------------------\n",
            "Epochs 11  train loss 2.25295 train acc 0.22095 val loss 2.24645 val acc 0.26857\n",
            "--------------------------------------------------------------------------------\n",
            "Epochs 12  train loss 2.22013 train acc 0.24254 val loss 2.20793 val acc 0.23429\n",
            "--------------------------------------------------------------------------------\n",
            "Epochs 13  train loss 2.16230 train acc 0.26095 val loss 2.13348 val acc 0.30286\n",
            "--------------------------------------------------------------------------------\n",
            "Epochs 14  train loss 2.05747 train acc 0.29524 val loss 2.01473 val acc 0.31429\n",
            "--------------------------------------------------------------------------------\n",
            "Epochs 15  train loss 1.91274 train acc 0.33524 val loss 1.87322 val acc 0.33143\n",
            "--------------------------------------------------------------------------------\n",
            "Epochs 16  train loss 1.77151 train acc 0.38730 val loss 1.72784 val acc 0.39429\n",
            "--------------------------------------------------------------------------------\n",
            "Epochs 17  train loss 1.63706 train acc 0.43111 val loss 1.60407 val acc 0.43429\n",
            "--------------------------------------------------------------------------------\n",
            "Epochs 18  train loss 1.52518 train acc 0.46762 val loss 1.51116 val acc 0.49714\n",
            "--------------------------------------------------------------------------------\n",
            "Epochs 19  train loss 1.45907 train acc 0.50222 val loss 1.43587 val acc 0.52000\n",
            "--------------------------------------------------------------------------------\n",
            "Epochs 20  train loss 1.41602 train acc 0.52063 val loss 1.39828 val acc 0.52571\n",
            "--------------------------------------------------------------------------------\n",
            "Epochs 21  train loss 1.35545 train acc 0.53587 val loss 1.34891 val acc 0.53143\n",
            "--------------------------------------------------------------------------------\n",
            "Epochs 22  train loss 1.33156 train acc 0.54317 val loss 1.32774 val acc 0.54286\n",
            "--------------------------------------------------------------------------------\n",
            "Epochs 23  train loss 1.28472 train acc 0.57048 val loss 1.28294 val acc 0.55429\n",
            "--------------------------------------------------------------------------------\n",
            "Epochs 24  train loss 1.25445 train acc 0.57746 val loss 1.23857 val acc 0.56000\n",
            "--------------------------------------------------------------------------------\n",
            "Epochs 25  train loss 1.21804 train acc 0.60286 val loss 1.21084 val acc 0.56571\n",
            "--------------------------------------------------------------------------------\n",
            "Epochs 26  train loss 1.18392 train acc 0.60730 val loss 1.17935 val acc 0.59429\n",
            "--------------------------------------------------------------------------------\n",
            "Epochs 27  train loss 1.15687 train acc 0.61937 val loss 1.13327 val acc 0.61143\n",
            "--------------------------------------------------------------------------------\n",
            "Epochs 28  train loss 1.11743 train acc 0.62794 val loss 1.13495 val acc 0.58286\n",
            "--------------------------------------------------------------------------------\n",
            "Epochs 29  train loss 1.07818 train acc 0.63460 val loss 1.09832 val acc 0.60571\n",
            "--------------------------------------------------------------------------------\n",
            "Epochs 30  train loss 1.05084 train acc 0.66000 val loss 1.05555 val acc 0.61714\n",
            "--------------------------------------------------------------------------------\n",
            "Epochs 31  train loss 1.01019 train acc 0.67238 val loss 1.03302 val acc 0.64571\n",
            "--------------------------------------------------------------------------------\n",
            "Epochs 32  train loss 0.99702 train acc 0.66921 val loss 1.01011 val acc 0.60571\n",
            "--------------------------------------------------------------------------------\n",
            "Epochs 33  train loss 0.96090 train acc 0.69429 val loss 0.96910 val acc 0.64571\n",
            "--------------------------------------------------------------------------------\n",
            "Epochs 34  train loss 0.92863 train acc 0.70286 val loss 0.93561 val acc 0.62857\n",
            "--------------------------------------------------------------------------------\n",
            "Epochs 35  train loss 0.91470 train acc 0.70000 val loss 0.93321 val acc 0.65143\n",
            "--------------------------------------------------------------------------------\n",
            "Epochs 36  train loss 0.89180 train acc 0.72000 val loss 0.90502 val acc 0.63429\n",
            "--------------------------------------------------------------------------------\n",
            "Epochs 37  train loss 0.87744 train acc 0.70984 val loss 0.88219 val acc 0.67429\n",
            "--------------------------------------------------------------------------------\n",
            "Epochs 38  train loss 0.84614 train acc 0.72921 val loss 0.85830 val acc 0.68571\n",
            "--------------------------------------------------------------------------------\n",
            "Epochs 39  train loss 0.82682 train acc 0.73619 val loss 0.88435 val acc 0.70286\n",
            "--------------------------------------------------------------------------------\n",
            "Epochs 40  train loss 0.80276 train acc 0.73937 val loss 0.86301 val acc 0.66286\n",
            "--------------------------------------------------------------------------------\n",
            "Epochs 41  train loss 0.76871 train acc 0.74476 val loss 0.82657 val acc 0.70857\n",
            "--------------------------------------------------------------------------------\n",
            "Epochs 42  train loss 0.76594 train acc 0.74540 val loss 0.83277 val acc 0.69714\n",
            "--------------------------------------------------------------------------------\n",
            "Epochs 43  train loss 0.75700 train acc 0.75143 val loss 0.78469 val acc 0.69714\n",
            "--------------------------------------------------------------------------------\n",
            "Epochs 44  train loss 0.71930 train acc 0.76762 val loss 0.79709 val acc 0.70857\n",
            "--------------------------------------------------------------------------------\n",
            "Epochs 45  train loss 0.69848 train acc 0.77397 val loss 0.76648 val acc 0.74857\n",
            "--------------------------------------------------------------------------------\n",
            "Epochs 46  train loss 0.71003 train acc 0.77397 val loss 0.77931 val acc 0.70857\n",
            "--------------------------------------------------------------------------------\n",
            "Epochs 47  train loss 0.69334 train acc 0.77778 val loss 0.73356 val acc 0.72571\n",
            "--------------------------------------------------------------------------------\n",
            "Epochs 48  train loss 0.66821 train acc 0.78921 val loss 0.76363 val acc 0.72000\n",
            "--------------------------------------------------------------------------------\n",
            "Epochs 49  train loss 0.65822 train acc 0.79238 val loss 0.72709 val acc 0.73714\n",
            "--------------------------------------------------------------------------------\n",
            "Epochs 50  train loss 0.63720 train acc 0.79619 val loss 0.71998 val acc 0.74286\n",
            "--------------------------------------------------------------------------------\n"
          ]
        }
      ],
      "source": [
        "# Let's train the model with augmented data\n",
        "augmented_model, augmented_model_history = train_with_cuda(\n",
        "    augmented_model, n_epochs, loss_fn, optimizer, train_dataloader, val_dataloader\n",
        ")"
      ]
    },
    {
      "cell_type": "markdown",
      "id": "DTSwaZjKXs2-",
      "metadata": {
        "id": "DTSwaZjKXs2-"
      },
      "source": [
        "## **Error analysis**"
      ]
    },
    {
      "cell_type": "code",
      "execution_count": 78,
      "id": "6V6E-8xxbR0A",
      "metadata": {
        "colab": {
          "base_uri": "https://localhost:8080/"
        },
        "id": "6V6E-8xxbR0A",
        "outputId": "91ec882c-5aa1-45cb-ae41-b2e7fc6467be"
      },
      "outputs": [
        {
          "data": {
            "text/plain": [
              "<All keys matched successfully>"
            ]
          },
          "execution_count": 78,
          "metadata": {},
          "output_type": "execute_result"
        }
      ],
      "source": [
        "# Load best model\n",
        "model_path = \"thai_digit.pth\"\n",
        "model = DropoutThaiDigit()  # initialize the model\n",
        "model.load_state_dict(torch.load(model_path))  # load the model weights"
      ]
    },
    {
      "cell_type": "code",
      "execution_count": 79,
      "id": "j4Z2ZXWnjqYt",
      "metadata": {
        "colab": {
          "base_uri": "https://localhost:8080/"
        },
        "id": "j4Z2ZXWnjqYt",
        "outputId": "22e9716d-6f67-43c3-99ef-cf7ddfd001e7"
      },
      "outputs": [
        {
          "name": "stdout",
          "output_type": "stream",
          "text": [
            "Accuracy: 74.29%\n"
          ]
        }
      ],
      "source": [
        "# Evaluate the new model with old dataset.\n",
        "results = evaluate(val_df, model)"
      ]
    },
    {
      "cell_type": "code",
      "execution_count": 80,
      "id": "oI1CjNUMkXWv",
      "metadata": {
        "colab": {
          "base_uri": "https://localhost:8080/",
          "height": 294
        },
        "id": "oI1CjNUMkXWv",
        "outputId": "30dc7eb7-82e8-40f9-ccfc-66cf74741f16"
      },
      "outputs": [
        {
          "data": {
            "image/png": "[encoded data removed]",
            "text/plain": [
              "<Figure size 720x288 with 2 Axes>"
            ]
          },
          "metadata": {
            "needs_background": "light"
          },
          "output_type": "display_data"
        }
      ],
      "source": [
        "plot_graph(augmented_model_history)"
      ]
    },
    {
      "cell_type": "code",
      "execution_count": 81,
      "id": "Ue8KJ1UhkQHe",
      "metadata": {
        "colab": {
          "base_uri": "https://localhost:8080/",
          "height": 279
        },
        "id": "Ue8KJ1UhkQHe",
        "outputId": "84934d08-d735-4a7c-988b-54fe7c7bc73d"
      },
      "outputs": [
        {
          "data": {
            "image/png": "[encoded data removed]",
            "text/plain": [
              "<Figure size 432x288 with 2 Axes>"
            ]
          },
          "metadata": {
            "needs_background": "light"
          },
          "output_type": "display_data"
        }
      ],
      "source": [
        "# Confusion matrix\n",
        "cm = confusion_matrix(results.text, results.prediction, labels=range(10))\n",
        "display = ConfusionMatrixDisplay(confusion_matrix=cm, display_labels=range(10))\n",
        "display.plot()\n",
        "plt.show()"
      ]
    }
  ],
  "metadata": {
    "accelerator": "GPU",
    "colab": {
      "collapsed_sections": [
        "3aa56f94",
        "ae55f494",
        "65fb58d7"
      ],
      "provenance": []
    },
    "gpuClass": "standard",
    "kernelspec": {
      "display_name": "Python 3 (ipykernel)",
      "language": "python",
      "name": "python3"
    },
    "language_info": {
      "codemirror_mode": {
        "name": "ipython",
        "version": 3
      },
      "file_extension": ".py",
      "mimetype": "text/x-python",
      "name": "python",
      "nbconvert_exporter": "python",
      "pygments_lexer": "ipython3",
      "version": "3.7.13"
    },
    "vscode": {
      "interpreter": {
        "hash": "63ce3f086f3d35aeaa98481dc3e6117e1ab6d0e955643b11e97a8ed761553864"
      }
    },
    "widgets": {
      "application/vnd.jupyter.widget-state+json": {
        "048a101e952c46e49567455c5afb427c": {
          "model_module": "@jupyter-widgets/base",
          "model_module_version": "1.2.0",
          "model_name": "LayoutModel",
          "state": {
            "_model_module": "@jupyter-widgets/base",
            "_model_module_version": "1.2.0",
            "_model_name": "LayoutModel",
            "_view_count": null,
            "_view_module": "@jupyter-widgets/base",
            "_view_module_version": "1.2.0",
            "_view_name": "LayoutView",
            "align_content": null,
            "align_items": null,
            "align_self": null,
            "border": null,
            "bottom": null,
            "display": null,
            "flex": null,
            "flex_flow": null,
            "grid_area": null,
            "grid_auto_columns": null,
            "grid_auto_flow": null,
            "grid_auto_rows": null,
            "grid_column": null,
            "grid_gap": null,
            "grid_row": null,
            "grid_template_areas": null,
            "grid_template_columns": null,
            "grid_template_rows": null,
            "height": null,
            "justify_content": null,
            "justify_items": null,
            "left": null,
            "margin": null,
            "max_height": null,
            "max_width": null,
            "min_height": null,
            "min_width": null,
            "object_fit": null,
            "object_position": null,
            "order": null,
            "overflow": null,
            "overflow_x": null,
            "overflow_y": null,
            "padding": null,
            "right": null,
            "top": null,
            "visibility": null,
            "width": null
          }
        },
        "1cc197bae55a4bde984707dcbd9c4381": {
          "model_module": "@jupyter-widgets/base",
          "model_module_version": "1.2.0",
          "model_name": "LayoutModel",
          "state": {
            "_model_module": "@jupyter-widgets/base",
            "_model_module_version": "1.2.0",
            "_model_name": "LayoutModel",
            "_view_count": null,
            "_view_module": "@jupyter-widgets/base",
            "_view_module_version": "1.2.0",
            "_view_name": "LayoutView",
            "align_content": null,
            "align_items": null,
            "align_self": null,
            "border": null,
            "bottom": null,
            "display": null,
            "flex": null,
            "flex_flow": null,
            "grid_area": null,
            "grid_auto_columns": null,
            "grid_auto_flow": null,
            "grid_auto_rows": null,
            "grid_column": null,
            "grid_gap": null,
            "grid_row": null,
            "grid_template_areas": null,
            "grid_template_columns": null,
            "grid_template_rows": null,
            "height": null,
            "justify_content": null,
            "justify_items": null,
            "left": null,
            "margin": null,
            "max_height": null,
            "max_width": null,
            "min_height": null,
            "min_width": null,
            "object_fit": null,
            "object_position": null,
            "order": null,
            "overflow": null,
            "overflow_x": null,
            "overflow_y": null,
            "padding": null,
            "right": null,
            "top": null,
            "visibility": null,
            "width": null
          }
        },
        "23245535f13c4a749876f453c3959973": {
          "model_module": "@jupyter-widgets/controls",
          "model_module_version": "1.5.0",
          "model_name": "HBoxModel",
          "state": {
            "_dom_classes": [],
            "_model_module": "@jupyter-widgets/controls",
            "_model_module_version": "1.5.0",
            "_model_name": "HBoxModel",
            "_view_count": null,
            "_view_module": "@jupyter-widgets/controls",
            "_view_module_version": "1.5.0",
            "_view_name": "HBoxView",
            "box_style": "",
            "children": [
              "IPY_MODEL_80bc230fdb1a4c2d982ef2a087847433",
              "IPY_MODEL_5e9ad8dac99240b8abe2a5b652e13c63",
              "IPY_MODEL_74c06a9c1dd542d68c44165beb3c6124"
            ],
            "layout": "IPY_MODEL_85d10e44c182494b9d5b7390a90ee123"
          }
        },
        "36a5301812af4ca9a29d34c6e60c5902": {
          "model_module": "@jupyter-widgets/controls",
          "model_module_version": "1.5.0",
          "model_name": "DescriptionStyleModel",
          "state": {
            "_model_module": "@jupyter-widgets/controls",
            "_model_module_version": "1.5.0",
            "_model_name": "DescriptionStyleModel",
            "_view_count": null,
            "_view_module": "@jupyter-widgets/base",
            "_view_module_version": "1.2.0",
            "_view_name": "StyleView",
            "description_width": ""
          }
        },
        "5e9ad8dac99240b8abe2a5b652e13c63": {
          "model_module": "@jupyter-widgets/controls",
          "model_module_version": "1.5.0",
          "model_name": "FloatProgressModel",
          "state": {
            "_dom_classes": [],
            "_model_module": "@jupyter-widgets/controls",
            "_model_module_version": "1.5.0",
            "_model_name": "FloatProgressModel",
            "_view_count": null,
            "_view_module": "@jupyter-widgets/controls",
            "_view_module_version": "1.5.0",
            "_view_name": "ProgressView",
            "bar_style": "success",
            "description": "",
            "description_tooltip": null,
            "layout": "IPY_MODEL_dcd1c8de36e94cd78eece2bf7ac6f9f9",
            "max": 1575,
            "min": 0,
            "orientation": "horizontal",
            "style": "IPY_MODEL_934884908b824d018ba3fb1f1b08096c",
            "value": 1575
          }
        },
        "69246f18755d4d968f7e1008b43663ab": {
          "model_module": "@jupyter-widgets/controls",
          "model_module_version": "1.5.0",
          "model_name": "HTMLModel",
          "state": {
            "_dom_classes": [],
            "_model_module": "@jupyter-widgets/controls",
            "_model_module_version": "1.5.0",
            "_model_name": "HTMLModel",
            "_view_count": null,
            "_view_module": "@jupyter-widgets/controls",
            "_view_module_version": "1.5.0",
            "_view_name": "HTMLView",
            "description": "",
            "description_tooltip": null,
            "layout": "IPY_MODEL_a549f3e548c74dd38a3d1b3751dfb537",
            "placeholder": "​",
            "style": "IPY_MODEL_36a5301812af4ca9a29d34c6e60c5902",
            "value": " 175/175 [00:00&lt;00:00, 3067.54it/s]"
          }
        },
        "6d1ebc759c7e46b1b82bde9a15420576": {
          "model_module": "@jupyter-widgets/controls",
          "model_module_version": "1.5.0",
          "model_name": "DescriptionStyleModel",
          "state": {
            "_model_module": "@jupyter-widgets/controls",
            "_model_module_version": "1.5.0",
            "_model_name": "DescriptionStyleModel",
            "_view_count": null,
            "_view_module": "@jupyter-widgets/base",
            "_view_module_version": "1.2.0",
            "_view_name": "StyleView",
            "description_width": ""
          }
        },
        "6e285b3248764d2a950cd36fd5ea64fd": {
          "model_module": "@jupyter-widgets/controls",
          "model_module_version": "1.5.0",
          "model_name": "ProgressStyleModel",
          "state": {
            "_model_module": "@jupyter-widgets/controls",
            "_model_module_version": "1.5.0",
            "_model_name": "ProgressStyleModel",
            "_view_count": null,
            "_view_module": "@jupyter-widgets/base",
            "_view_module_version": "1.2.0",
            "_view_name": "StyleView",
            "bar_color": null,
            "description_width": ""
          }
        },
        "74c06a9c1dd542d68c44165beb3c6124": {
          "model_module": "@jupyter-widgets/controls",
          "model_module_version": "1.5.0",
          "model_name": "HTMLModel",
          "state": {
            "_dom_classes": [],
            "_model_module": "@jupyter-widgets/controls",
            "_model_module_version": "1.5.0",
            "_model_name": "HTMLModel",
            "_view_count": null,
            "_view_module": "@jupyter-widgets/controls",
            "_view_module_version": "1.5.0",
            "_view_name": "HTMLView",
            "description": "",
            "description_tooltip": null,
            "layout": "IPY_MODEL_a1f34bc701f14ce8a1786cf5249f2606",
            "placeholder": "​",
            "style": "IPY_MODEL_c9e9816785bd49e0bf1fc7b29bfaef50",
            "value": " 1575/1575 [00:00&lt;00:00, 6704.71it/s]"
          }
        },
        "80bc230fdb1a4c2d982ef2a087847433": {
          "model_module": "@jupyter-widgets/controls",
          "model_module_version": "1.5.0",
          "model_name": "HTMLModel",
          "state": {
            "_dom_classes": [],
            "_model_module": "@jupyter-widgets/controls",
            "_model_module_version": "1.5.0",
            "_model_name": "HTMLModel",
            "_view_count": null,
            "_view_module": "@jupyter-widgets/controls",
            "_view_module_version": "1.5.0",
            "_view_name": "HTMLView",
            "description": "",
            "description_tooltip": null,
            "layout": "IPY_MODEL_b236696061584786b82a5f0c12a2926d",
            "placeholder": "​",
            "style": "IPY_MODEL_6d1ebc759c7e46b1b82bde9a15420576",
            "value": "100%"
          }
        },
        "85d10e44c182494b9d5b7390a90ee123": {
          "model_module": "@jupyter-widgets/base",
          "model_module_version": "1.2.0",
          "model_name": "LayoutModel",
          "state": {
            "_model_module": "@jupyter-widgets/base",
            "_model_module_version": "1.2.0",
            "_model_name": "LayoutModel",
            "_view_count": null,
            "_view_module": "@jupyter-widgets/base",
            "_view_module_version": "1.2.0",
            "_view_name": "LayoutView",
            "align_content": null,
            "align_items": null,
            "align_self": null,
            "border": null,
            "bottom": null,
            "display": null,
            "flex": null,
            "flex_flow": null,
            "grid_area": null,
            "grid_auto_columns": null,
            "grid_auto_flow": null,
            "grid_auto_rows": null,
            "grid_column": null,
            "grid_gap": null,
            "grid_row": null,
            "grid_template_areas": null,
            "grid_template_columns": null,
            "grid_template_rows": null,
            "height": null,
            "justify_content": null,
            "justify_items": null,
            "left": null,
            "margin": null,
            "max_height": null,
            "max_width": null,
            "min_height": null,
            "min_width": null,
            "object_fit": null,
            "object_position": null,
            "order": null,
            "overflow": null,
            "overflow_x": null,
            "overflow_y": null,
            "padding": null,
            "right": null,
            "top": null,
            "visibility": null,
            "width": null
          }
        },
        "9292363fdd7b405fa3d2d26ea5695aa7": {
          "model_module": "@jupyter-widgets/controls",
          "model_module_version": "1.5.0",
          "model_name": "DescriptionStyleModel",
          "state": {
            "_model_module": "@jupyter-widgets/controls",
            "_model_module_version": "1.5.0",
            "_model_name": "DescriptionStyleModel",
            "_view_count": null,
            "_view_module": "@jupyter-widgets/base",
            "_view_module_version": "1.2.0",
            "_view_name": "StyleView",
            "description_width": ""
          }
        },
        "934884908b824d018ba3fb1f1b08096c": {
          "model_module": "@jupyter-widgets/controls",
          "model_module_version": "1.5.0",
          "model_name": "ProgressStyleModel",
          "state": {
            "_model_module": "@jupyter-widgets/controls",
            "_model_module_version": "1.5.0",
            "_model_name": "ProgressStyleModel",
            "_view_count": null,
            "_view_module": "@jupyter-widgets/base",
            "_view_module_version": "1.2.0",
            "_view_name": "StyleView",
            "bar_color": null,
            "description_width": ""
          }
        },
        "a1f34bc701f14ce8a1786cf5249f2606": {
          "model_module": "@jupyter-widgets/base",
          "model_module_version": "1.2.0",
          "model_name": "LayoutModel",
          "state": {
            "_model_module": "@jupyter-widgets/base",
            "_model_module_version": "1.2.0",
            "_model_name": "LayoutModel",
            "_view_count": null,
            "_view_module": "@jupyter-widgets/base",
            "_view_module_version": "1.2.0",
            "_view_name": "LayoutView",
            "align_content": null,
            "align_items": null,
            "align_self": null,
            "border": null,
            "bottom": null,
            "display": null,
            "flex": null,
            "flex_flow": null,
            "grid_area": null,
            "grid_auto_columns": null,
            "grid_auto_flow": null,
            "grid_auto_rows": null,
            "grid_column": null,
            "grid_gap": null,
            "grid_row": null,
            "grid_template_areas": null,
            "grid_template_columns": null,
            "grid_template_rows": null,
            "height": null,
            "justify_content": null,
            "justify_items": null,
            "left": null,
            "margin": null,
            "max_height": null,
            "max_width": null,
            "min_height": null,
            "min_width": null,
            "object_fit": null,
            "object_position": null,
            "order": null,
            "overflow": null,
            "overflow_x": null,
            "overflow_y": null,
            "padding": null,
            "right": null,
            "top": null,
            "visibility": null,
            "width": null
          }
        },
        "a549f3e548c74dd38a3d1b3751dfb537": {
          "model_module": "@jupyter-widgets/base",
          "model_module_version": "1.2.0",
          "model_name": "LayoutModel",
          "state": {
            "_model_module": "@jupyter-widgets/base",
            "_model_module_version": "1.2.0",
            "_model_name": "LayoutModel",
            "_view_count": null,
            "_view_module": "@jupyter-widgets/base",
            "_view_module_version": "1.2.0",
            "_view_name": "LayoutView",
            "align_content": null,
            "align_items": null,
            "align_self": null,
            "border": null,
            "bottom": null,
            "display": null,
            "flex": null,
            "flex_flow": null,
            "grid_area": null,
            "grid_auto_columns": null,
            "grid_auto_flow": null,
            "grid_auto_rows": null,
            "grid_column": null,
            "grid_gap": null,
            "grid_row": null,
            "grid_template_areas": null,
            "grid_template_columns": null,
            "grid_template_rows": null,
            "height": null,
            "justify_content": null,
            "justify_items": null,
            "left": null,
            "margin": null,
            "max_height": null,
            "max_width": null,
            "min_height": null,
            "min_width": null,
            "object_fit": null,
            "object_position": null,
            "order": null,
            "overflow": null,
            "overflow_x": null,
            "overflow_y": null,
            "padding": null,
            "right": null,
            "top": null,
            "visibility": null,
            "width": null
          }
        },
        "b236696061584786b82a5f0c12a2926d": {
          "model_module": "@jupyter-widgets/base",
          "model_module_version": "1.2.0",
          "model_name": "LayoutModel",
          "state": {
            "_model_module": "@jupyter-widgets/base",
            "_model_module_version": "1.2.0",
            "_model_name": "LayoutModel",
            "_view_count": null,
            "_view_module": "@jupyter-widgets/base",
            "_view_module_version": "1.2.0",
            "_view_name": "LayoutView",
            "align_content": null,
            "align_items": null,
            "align_self": null,
            "border": null,
            "bottom": null,
            "display": null,
            "flex": null,
            "flex_flow": null,
            "grid_area": null,
            "grid_auto_columns": null,
            "grid_auto_flow": null,
            "grid_auto_rows": null,
            "grid_column": null,
            "grid_gap": null,
            "grid_row": null,
            "grid_template_areas": null,
            "grid_template_columns": null,
            "grid_template_rows": null,
            "height": null,
            "justify_content": null,
            "justify_items": null,
            "left": null,
            "margin": null,
            "max_height": null,
            "max_width": null,
            "min_height": null,
            "min_width": null,
            "object_fit": null,
            "object_position": null,
            "order": null,
            "overflow": null,
            "overflow_x": null,
            "overflow_y": null,
            "padding": null,
            "right": null,
            "top": null,
            "visibility": null,
            "width": null
          }
        },
        "c9e9816785bd49e0bf1fc7b29bfaef50": {
          "model_module": "@jupyter-widgets/controls",
          "model_module_version": "1.5.0",
          "model_name": "DescriptionStyleModel",
          "state": {
            "_model_module": "@jupyter-widgets/controls",
            "_model_module_version": "1.5.0",
            "_model_name": "DescriptionStyleModel",
            "_view_count": null,
            "_view_module": "@jupyter-widgets/base",
            "_view_module_version": "1.2.0",
            "_view_name": "StyleView",
            "description_width": ""
          }
        },
        "d48093081ece42dc8772b154758cf57d": {
          "model_module": "@jupyter-widgets/controls",
          "model_module_version": "1.5.0",
          "model_name": "HBoxModel",
          "state": {
            "_dom_classes": [],
            "_model_module": "@jupyter-widgets/controls",
            "_model_module_version": "1.5.0",
            "_model_name": "HBoxModel",
            "_view_count": null,
            "_view_module": "@jupyter-widgets/controls",
            "_view_module_version": "1.5.0",
            "_view_name": "HBoxView",
            "box_style": "",
            "children": [
              "IPY_MODEL_e6e459539e4940d9b2cbc4242286167b",
              "IPY_MODEL_e632a6c347124bb784a88e6ac1d0138e",
              "IPY_MODEL_69246f18755d4d968f7e1008b43663ab"
            ],
            "layout": "IPY_MODEL_1cc197bae55a4bde984707dcbd9c4381"
          }
        },
        "dcd1c8de36e94cd78eece2bf7ac6f9f9": {
          "model_module": "@jupyter-widgets/base",
          "model_module_version": "1.2.0",
          "model_name": "LayoutModel",
          "state": {
            "_model_module": "@jupyter-widgets/base",
            "_model_module_version": "1.2.0",
            "_model_name": "LayoutModel",
            "_view_count": null,
            "_view_module": "@jupyter-widgets/base",
            "_view_module_version": "1.2.0",
            "_view_name": "LayoutView",
            "align_content": null,
            "align_items": null,
            "align_self": null,
            "border": null,
            "bottom": null,
            "display": null,
            "flex": null,
            "flex_flow": null,
            "grid_area": null,
            "grid_auto_columns": null,
            "grid_auto_flow": null,
            "grid_auto_rows": null,
            "grid_column": null,
            "grid_gap": null,
            "grid_row": null,
            "grid_template_areas": null,
            "grid_template_columns": null,
            "grid_template_rows": null,
            "height": null,
            "justify_content": null,
            "justify_items": null,
            "left": null,
            "margin": null,
            "max_height": null,
            "max_width": null,
            "min_height": null,
            "min_width": null,
            "object_fit": null,
            "object_position": null,
            "order": null,
            "overflow": null,
            "overflow_x": null,
            "overflow_y": null,
            "padding": null,
            "right": null,
            "top": null,
            "visibility": null,
            "width": null
          }
        },
        "e632a6c347124bb784a88e6ac1d0138e": {
          "model_module": "@jupyter-widgets/controls",
          "model_module_version": "1.5.0",
          "model_name": "FloatProgressModel",
          "state": {
            "_dom_classes": [],
            "_model_module": "@jupyter-widgets/controls",
            "_model_module_version": "1.5.0",
            "_model_name": "FloatProgressModel",
            "_view_count": null,
            "_view_module": "@jupyter-widgets/controls",
            "_view_module_version": "1.5.0",
            "_view_name": "ProgressView",
            "bar_style": "success",
            "description": "",
            "description_tooltip": null,
            "layout": "IPY_MODEL_ea691ba722bb4c0ca82cf355734c1fbb",
            "max": 175,
            "min": 0,
            "orientation": "horizontal",
            "style": "IPY_MODEL_6e285b3248764d2a950cd36fd5ea64fd",
            "value": 175
          }
        },
        "e6e459539e4940d9b2cbc4242286167b": {
          "model_module": "@jupyter-widgets/controls",
          "model_module_version": "1.5.0",
          "model_name": "HTMLModel",
          "state": {
            "_dom_classes": [],
            "_model_module": "@jupyter-widgets/controls",
            "_model_module_version": "1.5.0",
            "_model_name": "HTMLModel",
            "_view_count": null,
            "_view_module": "@jupyter-widgets/controls",
            "_view_module_version": "1.5.0",
            "_view_name": "HTMLView",
            "description": "",
            "description_tooltip": null,
            "layout": "IPY_MODEL_048a101e952c46e49567455c5afb427c",
            "placeholder": "​",
            "style": "IPY_MODEL_9292363fdd7b405fa3d2d26ea5695aa7",
            "value": "100%"
          }
        },
        "ea691ba722bb4c0ca82cf355734c1fbb": {
          "model_module": "@jupyter-widgets/base",
          "model_module_version": "1.2.0",
          "model_name": "LayoutModel",
          "state": {
            "_model_module": "@jupyter-widgets/base",
            "_model_module_version": "1.2.0",
            "_model_name": "LayoutModel",
            "_view_count": null,
            "_view_module": "@jupyter-widgets/base",
            "_view_module_version": "1.2.0",
            "_view_name": "LayoutView",
            "align_content": null,
            "align_items": null,
            "align_self": null,
            "border": null,
            "bottom": null,
            "display": null,
            "flex": null,
            "flex_flow": null,
            "grid_area": null,
            "grid_auto_columns": null,
            "grid_auto_flow": null,
            "grid_auto_rows": null,
            "grid_column": null,
            "grid_gap": null,
            "grid_row": null,
            "grid_template_areas": null,
            "grid_template_columns": null,
            "grid_template_rows": null,
            "height": null,
            "justify_content": null,
            "justify_items": null,
            "left": null,
            "margin": null,
            "max_height": null,
            "max_width": null,
            "min_height": null,
            "min_width": null,
            "object_fit": null,
            "object_position": null,
            "order": null,
            "overflow": null,
            "overflow_x": null,
            "overflow_y": null,
            "padding": null,
            "right": null,
            "top": null,
            "visibility": null,
            "width": null
          }
        }
      }
    }
  },
  "nbformat": 4,
  "nbformat_minor": 5
}
