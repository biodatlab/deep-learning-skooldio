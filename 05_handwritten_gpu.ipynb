{
  "cells": [
    {
      "cell_type": "markdown",
      "id": "cfc52381",
      "metadata": {
        "id": "cfc52381"
      },
      "source": [
        "[![Open in Colab](https://colab.research.google.com/assets/colab-badge.svg)](https://colab.research.google.com/github/biodatlab/deep-learning-skooldio/blob/master/05_handwritten_gpu.ipynb)\n",
        "\n",
        "## **Thai-digit handwritten classification with Pytorch: Exploration**\n",
        "\n",
        "This notebook takes the previous classification code and implements the following:\n",
        "- Training the model on GPU\n",
        "- Save best validation model"
      ]
    },
    {
      "cell_type": "markdown",
      "id": "3aa56f94",
      "metadata": {
        "id": "3aa56f94"
      },
      "source": [
        "## **Download and clean the dataset from the repository**\n",
        "\n",
        "- We have downloaded the data from https://github.com/kittinan/thai-handwriting-number by cloning the repository\n",
        "- Remove files that have character mismatch (as suggested by the the creator)\n",
        "- Then, we put the cleaned data at https://github.com/biodatlab/deep-learning-skooldio"
      ]
    },
    {
      "cell_type": "code",
      "source": [
        "!git clone https://github.com/biodatlab/deep-learning-skooldio"
      ],
      "metadata": {
        "id": "SVgrt8iQN2bO"
      },
      "id": "SVgrt8iQN2bO",
      "execution_count": 1,
      "outputs": []
    },
    {
      "cell_type": "code",
      "execution_count": 2,
      "id": "2ad2a443",
      "metadata": {
        "id": "2ad2a443"
      },
      "outputs": [],
      "source": [
        "import os\n",
        "import os.path as op\n",
        "from glob import glob\n",
        "from pathlib import Path\n",
        "import random\n",
        "from PIL import Image\n",
        "from collections import Counter\n",
        "\n",
        "from sklearn.metrics import confusion_matrix, ConfusionMatrixDisplay\n",
        "import matplotlib.pyplot as plt\n",
        "import pandas as pd"
      ]
    },
    {
      "cell_type": "code",
      "execution_count": 3,
      "id": "6wAWDTP7SN4X",
      "metadata": {
        "id": "6wAWDTP7SN4X"
      },
      "outputs": [],
      "source": [
        "import torch\n",
        "import torch.nn as nn\n",
        "import torch.nn.functional as F\n",
        "from torch.utils.data import Dataset, DataLoader, ConcatDataset\n",
        "from torchvision import transforms"
      ]
    },
    {
      "cell_type": "code",
      "execution_count": 4,
      "id": "64ce2573",
      "metadata": {
        "colab": {
          "base_uri": "https://localhost:8080/"
        },
        "id": "64ce2573",
        "outputId": "d52bae21-018b-44d9-96fe-e4b400ab931f"
      },
      "outputs": [
        {
          "output_type": "stream",
          "name": "stdout",
          "text": [
            "Number of samples 1750\n"
          ]
        }
      ],
      "source": [
        "directory = \"deep-learning-skooldio/\"\n",
        "paths = glob(op.join(directory, \"thai-handwritten-dataset\", \"*\", \"*\"))\n",
        "num_samples = len(paths)\n",
        "print(\"Number of samples\", num_samples)"
      ]
    },
    {
      "cell_type": "code",
      "execution_count": 5,
      "id": "6aa0f5b4",
      "metadata": {
        "id": "6aa0f5b4"
      },
      "outputs": [],
      "source": [
        "from tqdm.auto import tqdm\n",
        "from sklearn.model_selection import train_test_split\n",
        "import shutil\n",
        "\n",
        "train_paths, test_paths = train_test_split(paths, test_size=0.1, random_state=42)\n",
        "for i in range(10):\n",
        "    os.makedirs(f\"data/train/{i}\", exist_ok=True)\n",
        "    os.makedirs(f\"data/validation/{i}\", exist_ok=True)"
      ]
    },
    {
      "cell_type": "code",
      "execution_count": 6,
      "id": "fe1d237b",
      "metadata": {
        "id": "fe1d237b"
      },
      "outputs": [],
      "source": [
        "def copy_to_destination(src_paths, dst_path: str = \"data/train/\"):\n",
        "    for path in tqdm(src_paths):\n",
        "        path = Path(path)\n",
        "        if path.parent.name == \"10\":\n",
        "            parent_dir = \"0\"\n",
        "        else:\n",
        "            parent_dir = path.parent.name\n",
        "        shutil.copy(path, op.join(dst_path, parent_dir, path.name))"
      ]
    },
    {
      "cell_type": "code",
      "execution_count": 7,
      "id": "af9064ae",
      "metadata": {
        "colab": {
          "base_uri": "https://localhost:8080/",
          "height": 81,
          "referenced_widgets": [
            "8e8cfef143c24944adf23441bf65a675",
            "94437975a3794c76949fe244fef71ba5",
            "816e84c7eb184d0693317d382671f4b2",
            "7d0f9ca3dc8048be9b7c601a4ab16b1d",
            "95c43f440965460c9f0e09a844f15903",
            "db20aca93535462ba7ce32000fcff06e",
            "a8a1b1be957e453da21fc2b76bc76b1d",
            "c284c7e92dca4309800b70ac14241eb0",
            "e84302c233ee4a119360fdd654843bb0",
            "e900624930344de5aa2a9c04cf474b5e",
            "e946606dec4b4340812f47a581451c33",
            "2f19ceef695d4966b2a1fce204a85c02",
            "2be8077411184497b531a11a528070b8",
            "4d6482deed9e446fbfa6678fe544b8a5",
            "28b7a1d67e2945dea14eee767a80c437",
            "33ae4e12018e46d8b52fd63c0d332dfa",
            "e327e1314b63471db635297d8df553a8",
            "1230aa5410d8422ea543c912a410d384",
            "f9e276aabdbc4c3dbf8e164d9390fe13",
            "8b3542b89c3941d396ddd9d712bd53ae",
            "3dcd073aad9f46279745975a7b2972c4",
            "1ac0d65924cd44c098bb183622a88e73"
          ]
        },
        "id": "af9064ae",
        "outputId": "4770776e-eb60-4c0e-9365-29bea0883948"
      },
      "outputs": [
        {
          "output_type": "display_data",
          "data": {
            "text/plain": [
              "  0%|          | 0/1575 [00:00<?, ?it/s]"
            ],
            "application/vnd.jupyter.widget-view+json": {
              "version_major": 2,
              "version_minor": 0,
              "model_id": "8e8cfef143c24944adf23441bf65a675"
            }
          },
          "metadata": {}
        },
        {
          "output_type": "display_data",
          "data": {
            "text/plain": [
              "  0%|          | 0/175 [00:00<?, ?it/s]"
            ],
            "application/vnd.jupyter.widget-view+json": {
              "version_major": 2,
              "version_minor": 0,
              "model_id": "2f19ceef695d4966b2a1fce204a85c02"
            }
          },
          "metadata": {}
        }
      ],
      "source": [
        "copy_to_destination(train_paths, \"data/train/\")\n",
        "copy_to_destination(test_paths, \"data/validation/\")"
      ]
    },
    {
      "cell_type": "markdown",
      "id": "ae55f494",
      "metadata": {
        "id": "ae55f494"
      },
      "source": [
        "## **Create a custom dataset and a dataloader**"
      ]
    },
    {
      "cell_type": "code",
      "execution_count": 8,
      "id": "yyAx23w8PFLU",
      "metadata": {
        "colab": {
          "base_uri": "https://localhost:8080/"
        },
        "id": "yyAx23w8PFLU",
        "outputId": "95480259-d537-4928-8c7d-03b8b4183cf7"
      },
      "outputs": [
        {
          "output_type": "stream",
          "name": "stdout",
          "text": [
            "Number of train images = (1575, 2), number of validation images = (175, 2),\n"
          ]
        }
      ],
      "source": [
        "# Create dataframe\n",
        "train_df = pd.DataFrame({\"path\": glob(\"data/train/*/*\")})\n",
        "val_df = pd.DataFrame({\"path\": glob(\"data/validation/*/*\")})\n",
        "\n",
        "# Create text column from path\n",
        "train_df[\"text\"] = train_df[\"path\"].apply(lambda x: int(Path(x).parent.name))\n",
        "val_df[\"text\"] = val_df[\"path\"].apply(lambda x: int(Path(x).parent.name))\n",
        "\n",
        "# Shape of dataframe\n",
        "print(\"Number of train images = {}, number of validation images = {},\".format(train_df.shape, val_df.shape))"
      ]
    },
    {
      "cell_type": "code",
      "execution_count": 9,
      "id": "09eb4140",
      "metadata": {
        "id": "09eb4140"
      },
      "outputs": [],
      "source": [
        "class ThaiDigitDataset(Dataset):\n",
        "    def __init__(self, dataframe, transform=None):\n",
        "        self.transform = transform\n",
        "        self.dataframe = dataframe\n",
        "\n",
        "    def __len__(self):\n",
        "        return len(self.dataframe)\n",
        "\n",
        "    def __getitem__(self, idx):\n",
        "        label = int(self.dataframe['text'][idx])\n",
        "        image = Image.open(self.dataframe['path'][idx])\n",
        "        if self.transform:\n",
        "            image = 1 - self.transform(image)\n",
        "        return image, label"
      ]
    },
    {
      "cell_type": "code",
      "source": [
        "train_transform = transforms.Compose([\n",
        "    transforms.Resize((28, 28)),\n",
        "    transforms.Grayscale(),\n",
        "    transforms.RandomAffine(degrees=(-15, 15), translate=(0.05, 0.1), scale=(1, 1)),\n",
        "    transforms.ToTensor(),\n",
        "])\n",
        "\n",
        "val_transform = transforms.Compose([\n",
        "    transforms.Resize((28, 28)),\n",
        "    transforms.Grayscale(),\n",
        "    transforms.ToTensor(),\n",
        "])"
      ],
      "metadata": {
        "id": "fVep0nqyC2dJ"
      },
      "id": "fVep0nqyC2dJ",
      "execution_count": 10,
      "outputs": []
    },
    {
      "cell_type": "code",
      "execution_count": 11,
      "id": "f1175f91",
      "metadata": {
        "id": "f1175f91"
      },
      "outputs": [],
      "source": [
        "train_thaidigit_dataset = ThaiDigitDataset(train_df, transform=val_transform)\n",
        "augmented_train_dataset = ThaiDigitDataset(train_df, transform=train_transform)\n",
        "train_dataset = ConcatDataset([train_thaidigit_dataset, augmented_train_dataset])\n",
        "val_dataset = ThaiDigitDataset(val_df, transform=val_transform)"
      ]
    },
    {
      "cell_type": "code",
      "execution_count": 12,
      "id": "d4f83af9",
      "metadata": {
        "id": "d4f83af9"
      },
      "outputs": [],
      "source": [
        "train_dataloader = DataLoader(train_dataset, batch_size=16, shuffle=True)\n",
        "val_dataloader = DataLoader(val_dataset, batch_size=16, shuffle=False)"
      ]
    },
    {
      "cell_type": "markdown",
      "source": [
        "In this time we will train model using GPU (CUDA). We can check if cuda is available or not by using `torch.cuda.is_available()`."
      ],
      "metadata": {
        "id": "B9o4RAtbFV-a"
      },
      "id": "B9o4RAtbFV-a"
    },
    {
      "cell_type": "code",
      "source": [
        "device = \"cuda\" if torch.cuda.is_available() else \"cpu\"\n",
        "device"
      ],
      "metadata": {
        "id": "GGt2B56zCuPX",
        "outputId": "fb0e6bba-dfe0-48fd-b010-dceb42d95805",
        "colab": {
          "base_uri": "https://localhost:8080/",
          "height": 36
        }
      },
      "id": "GGt2B56zCuPX",
      "execution_count": 13,
      "outputs": [
        {
          "output_type": "execute_result",
          "data": {
            "text/plain": [
              "'cuda'"
            ],
            "application/vnd.google.colaboratory.intrinsic+json": {
              "type": "string"
            }
          },
          "metadata": {},
          "execution_count": 13
        }
      ]
    },
    {
      "cell_type": "code",
      "execution_count": 14,
      "id": "r61vWix7nfgl",
      "metadata": {
        "id": "r61vWix7nfgl"
      },
      "outputs": [],
      "source": [
        "# Modify the train function to train with cuda\n",
        "def train(model, n_epochs, loss_function, optimizer, train_loader, validation_loader):\n",
        "    training_logs = {\"train_loss\": [],  \"train_acc\": [], \"val_loss\": [], \"val_acc\": []}\n",
        "    print(\"-\"*80)\n",
        "    model.train()\n",
        "    device = \"cuda\" if torch.cuda.is_available() else \"cpu\"\n",
        "    model.to(device) # move model to GPU\n",
        "    for epoch in range(1, n_epochs+1):\n",
        "        # training\n",
        "        train_loss, correct = 0, 0\n",
        "        for images, labels in train_loader:\n",
        "            # Change device to cuda!\n",
        "            # Move the data to GPU\n",
        "            images, labels = images.to(device), labels.to(device) \n",
        "            pred = model(images)\n",
        "            loss = loss_function(pred, labels)\n",
        "\n",
        "            optimizer.zero_grad()\n",
        "            loss.backward()\n",
        "            optimizer.step()\n",
        "\n",
        "            train_loss += loss.item()\n",
        "            correct += (pred.argmax(1) == labels).float().sum().item()\n",
        "        # save training logs\n",
        "        training_logs[\"train_loss\"].append(train_loss/ len(train_loader))\n",
        "        training_logs[\"train_acc\"].append(correct / len(train_loader.dataset))\n",
        "\n",
        "        # validation\n",
        "        model.eval()\n",
        "        val_loss, correct = 0, 0\n",
        "        for images, labels in validation_loader:\n",
        "\n",
        "            #!! Change device to cuda\n",
        "            images = images.to(\"cuda\")\n",
        "            labels = labels.to(\"cuda\") \n",
        "            pred = model(images)\n",
        "            val_loss += loss_function(pred, labels).item()\n",
        "            correct += (pred.argmax(1) == labels).float().sum().item()\n",
        "\n",
        "        #!! Save best model\n",
        "        # If training_logs[\"val_loss\"] is not empty\n",
        "        if len(training_logs[\"val_loss\"]):\n",
        "            # If the current validation loss is lower than the previous validation loss\n",
        "            # So we save the model\n",
        "            if min(training_logs[\"val_loss\"]) > (val_loss/ len(validation_loader)):\n",
        "                save_path = \"thai_digit.pth\"\n",
        "                torch.save(model.state_dict(), save_path)  # save model parameters\n",
        "  \n",
        "        # save validation logs\n",
        "        training_logs[\"val_loss\"].append(val_loss/ len(validation_loader))\n",
        "        training_logs[\"val_acc\"].append(correct / len(validation_loader.dataset))\n",
        "\n",
        "        print(f\"Epochs {epoch}\".ljust(10), \n",
        "              f\"train loss {training_logs['train_loss'][-1]:.5f}\",\n",
        "              f\"train acc {training_logs['train_acc'][-1]:.5f}\",\n",
        "\n",
        "              f\"val loss {training_logs['val_loss'][-1]:.5f}\",\n",
        "              f\"val acc {training_logs['val_acc'][-1]:.5f}\",\n",
        "              )\n",
        "        print(\"-\"*80)\n",
        "    return model, training_logs"
      ]
    },
    {
      "cell_type": "code",
      "execution_count": 15,
      "id": "_10LDBPaW9pv",
      "metadata": {
        "id": "_10LDBPaW9pv"
      },
      "outputs": [],
      "source": [
        "# evaluate function code from previous exercise\n",
        "def evaluate(dataframe, model):\n",
        "    model.eval()\n",
        "    results = dataframe.copy()\n",
        "    predictions = []\n",
        "    for idx, row in results.iterrows():\n",
        "        img = val_transform(Image.open(row.path))\n",
        "        pred = model(1 - img)\n",
        "        predictions.append(pred.argmax(1).item())\n",
        "\n",
        "    results[\"prediction\"] = predictions\n",
        "    # Calculate accuracy\n",
        "    accuracy = len(results[results.prediction == results.text]) / len(results)\n",
        "    print(f\"Accuracy: {accuracy * 100:.2f}%\")\n",
        "    return results"
      ]
    },
    {
      "cell_type": "code",
      "execution_count": 16,
      "id": "a8e819c7",
      "metadata": {
        "id": "a8e819c7"
      },
      "outputs": [],
      "source": [
        "class DropoutThaiDigit(nn.Module):\n",
        "    def __init__(self):\n",
        "        super(DropoutThaiDigit, self).__init__()\n",
        "        self.layers = nn.Sequential(\n",
        "            nn.Linear(28*28, 392),\n",
        "            nn.ReLU(),\n",
        "            nn.Dropout(0.1),\n",
        "            nn.Linear(392, 196),\n",
        "            nn.ReLU(),\n",
        "            nn.Dropout(0.1),\n",
        "            nn.Linear(196, 98),\n",
        "            nn.ReLU(),\n",
        "            nn.Dropout(0.1),\n",
        "            nn.Linear(98, 10),\n",
        "        )\n",
        "\n",
        "    def forward(self, x):\n",
        "        x = x.view(-1, 28 * 28)\n",
        "        return self.layers(x)"
      ]
    },
    {
      "cell_type": "code",
      "execution_count": 17,
      "id": "gJ-DLc1eSeDf",
      "metadata": {
        "id": "gJ-DLc1eSeDf"
      },
      "outputs": [],
      "source": [
        "n_epochs = 40\n",
        "loss_fn = nn.CrossEntropyLoss()\n",
        "model = DropoutThaiDigit()  # Initialize the model\n",
        "optimizer = torch.optim.SGD(model.parameters(), lr=0.01)"
      ]
    },
    {
      "cell_type": "code",
      "source": [
        "model, augmented_model_history = train(\n",
        "    model, n_epochs, loss_fn, optimizer, train_dataloader, val_dataloader\n",
        ")"
      ],
      "metadata": {
        "id": "7Lh0XIxZFCOf",
        "outputId": "1e7f1d28-9d2f-48be-e2ae-6bbe648bc2d3",
        "colab": {
          "base_uri": "https://localhost:8080/"
        }
      },
      "id": "7Lh0XIxZFCOf",
      "execution_count": 18,
      "outputs": [
        {
          "output_type": "stream",
          "name": "stdout",
          "text": [
            "--------------------------------------------------------------------------------\n",
            "Epochs 1   train loss 2.30333 train acc 0.10063 val loss 2.30091 val acc 0.08571\n",
            "--------------------------------------------------------------------------------\n",
            "Epochs 2   train loss 2.30085 train acc 0.10222 val loss 2.29964 val acc 0.08571\n",
            "--------------------------------------------------------------------------------\n",
            "Epochs 3   train loss 2.29849 train acc 0.10667 val loss 2.29778 val acc 0.08571\n",
            "--------------------------------------------------------------------------------\n",
            "Epochs 4   train loss 2.29594 train acc 0.11619 val loss 2.29533 val acc 0.09714\n",
            "--------------------------------------------------------------------------------\n",
            "Epochs 5   train loss 2.29303 train acc 0.15524 val loss 2.29186 val acc 0.16000\n",
            "--------------------------------------------------------------------------------\n",
            "Epochs 6   train loss 2.28861 train acc 0.18952 val loss 2.28710 val acc 0.23429\n",
            "--------------------------------------------------------------------------------\n",
            "Epochs 7   train loss 2.28237 train acc 0.28349 val loss 2.27893 val acc 0.28000\n",
            "--------------------------------------------------------------------------------\n",
            "Epochs 8   train loss 2.27361 train acc 0.29302 val loss 2.26643 val acc 0.32000\n",
            "--------------------------------------------------------------------------------\n",
            "Epochs 9   train loss 2.25870 train acc 0.32286 val loss 2.24535 val acc 0.33143\n",
            "--------------------------------------------------------------------------------\n",
            "Epochs 10  train loss 2.23202 train acc 0.30000 val loss 2.20414 val acc 0.37143\n",
            "--------------------------------------------------------------------------------\n",
            "Epochs 11  train loss 2.18615 train acc 0.32857 val loss 2.13222 val acc 0.32000\n",
            "--------------------------------------------------------------------------------\n",
            "Epochs 12  train loss 2.10358 train acc 0.32762 val loss 2.01146 val acc 0.35429\n",
            "--------------------------------------------------------------------------------\n",
            "Epochs 13  train loss 1.97573 train acc 0.34730 val loss 1.85161 val acc 0.38857\n",
            "--------------------------------------------------------------------------------\n",
            "Epochs 14  train loss 1.80912 train acc 0.41937 val loss 1.65928 val acc 0.47429\n",
            "--------------------------------------------------------------------------------\n",
            "Epochs 15  train loss 1.64248 train acc 0.46476 val loss 1.48721 val acc 0.57714\n",
            "--------------------------------------------------------------------------------\n",
            "Epochs 16  train loss 1.52305 train acc 0.49841 val loss 1.36937 val acc 0.53714\n",
            "--------------------------------------------------------------------------------\n",
            "Epochs 17  train loss 1.43397 train acc 0.52889 val loss 1.27882 val acc 0.61143\n",
            "--------------------------------------------------------------------------------\n",
            "Epochs 18  train loss 1.37680 train acc 0.54381 val loss 1.22762 val acc 0.62857\n",
            "--------------------------------------------------------------------------------\n",
            "Epochs 19  train loss 1.31239 train acc 0.57524 val loss 1.17972 val acc 0.62857\n",
            "--------------------------------------------------------------------------------\n",
            "Epochs 20  train loss 1.28122 train acc 0.58857 val loss 1.12135 val acc 0.65143\n",
            "--------------------------------------------------------------------------------\n",
            "Epochs 21  train loss 1.22483 train acc 0.60317 val loss 1.11931 val acc 0.66857\n",
            "--------------------------------------------------------------------------------\n",
            "Epochs 22  train loss 1.20518 train acc 0.61048 val loss 1.05354 val acc 0.68000\n",
            "--------------------------------------------------------------------------------\n",
            "Epochs 23  train loss 1.11834 train acc 0.64698 val loss 1.02350 val acc 0.68571\n",
            "--------------------------------------------------------------------------------\n",
            "Epochs 24  train loss 1.09563 train acc 0.65111 val loss 0.97775 val acc 0.69143\n",
            "--------------------------------------------------------------------------------\n",
            "Epochs 25  train loss 1.07570 train acc 0.65079 val loss 1.02364 val acc 0.66857\n",
            "--------------------------------------------------------------------------------\n",
            "Epochs 26  train loss 1.01836 train acc 0.67873 val loss 0.90618 val acc 0.69714\n",
            "--------------------------------------------------------------------------------\n",
            "Epochs 27  train loss 0.99224 train acc 0.67619 val loss 0.90364 val acc 0.74286\n",
            "--------------------------------------------------------------------------------\n",
            "Epochs 28  train loss 0.94465 train acc 0.69270 val loss 0.86513 val acc 0.73143\n",
            "--------------------------------------------------------------------------------\n",
            "Epochs 29  train loss 0.92141 train acc 0.70603 val loss 0.82772 val acc 0.73714\n",
            "--------------------------------------------------------------------------------\n",
            "Epochs 30  train loss 0.88462 train acc 0.71587 val loss 0.81996 val acc 0.75429\n",
            "--------------------------------------------------------------------------------\n",
            "Epochs 31  train loss 0.84907 train acc 0.72603 val loss 0.79524 val acc 0.73714\n",
            "--------------------------------------------------------------------------------\n",
            "Epochs 32  train loss 0.83500 train acc 0.73175 val loss 0.79796 val acc 0.73143\n",
            "--------------------------------------------------------------------------------\n",
            "Epochs 33  train loss 0.81315 train acc 0.73968 val loss 0.75976 val acc 0.76000\n",
            "--------------------------------------------------------------------------------\n",
            "Epochs 34  train loss 0.78410 train acc 0.74794 val loss 0.73278 val acc 0.76000\n",
            "--------------------------------------------------------------------------------\n",
            "Epochs 35  train loss 0.74909 train acc 0.75365 val loss 0.77461 val acc 0.73714\n",
            "--------------------------------------------------------------------------------\n",
            "Epochs 36  train loss 0.73126 train acc 0.76921 val loss 0.73700 val acc 0.77143\n",
            "--------------------------------------------------------------------------------\n",
            "Epochs 37  train loss 0.70599 train acc 0.77683 val loss 0.74383 val acc 0.77143\n",
            "--------------------------------------------------------------------------------\n",
            "Epochs 38  train loss 0.68694 train acc 0.78159 val loss 0.73999 val acc 0.78857\n",
            "--------------------------------------------------------------------------------\n",
            "Epochs 39  train loss 0.67895 train acc 0.78032 val loss 0.68544 val acc 0.77714\n",
            "--------------------------------------------------------------------------------\n",
            "Epochs 40  train loss 0.66209 train acc 0.79460 val loss 0.68865 val acc 0.76571\n",
            "--------------------------------------------------------------------------------\n"
          ]
        }
      ]
    },
    {
      "cell_type": "code",
      "source": [
        "torch.save(model.state_dict(), \"thai_digit.pth\")"
      ],
      "metadata": {
        "id": "nZkGkkWlIDDU"
      },
      "id": "nZkGkkWlIDDU",
      "execution_count": 19,
      "outputs": []
    },
    {
      "cell_type": "markdown",
      "source": [
        "## Use the model\n",
        "\n",
        "- You can use a similar inference as the CPU version\n",
        "- However, do not forget to move the model and data to the same device (CPU or GPU)"
      ],
      "metadata": {
        "id": "L9QPc2C1FgHH"
      },
      "id": "L9QPc2C1FgHH"
    },
    {
      "cell_type": "code",
      "source": [
        "img = Image.open(paths[100])\n",
        "img = (1 - val_transform(img))\n",
        "plt.title(\"Number: {}\".format(Path(paths[100]).parent.name))\n",
        "plt.imshow(img.squeeze(0), cmap=\"gray\")\n",
        "plt.show()"
      ],
      "metadata": {
        "id": "Wk5yqUX_FkhQ",
        "outputId": "bf329a0a-ccc5-4297-af50-7b1107871084",
        "colab": {
          "base_uri": "https://localhost:8080/",
          "height": 281
        }
      },
      "id": "Wk5yqUX_FkhQ",
      "execution_count": 20,
      "outputs": [
        {
          "output_type": "display_data",
          "data": {
            "text/plain": [
              "<Figure size 432x288 with 1 Axes>"
            ],
            "image/png": "[encoded data removed]"
          },
          "metadata": {
            "needs_background": "light"
          }
        }
      ]
    },
    {
      "cell_type": "code",
      "source": [
        "# Error since the data is not on the same device as the model\n",
        "model(img)"
      ],
      "metadata": {
        "id": "_uJTPdkwII3G",
        "outputId": "3955fe94-1b06-443d-ab9c-b0ea64c6eb24",
        "colab": {
          "base_uri": "https://localhost:8080/",
          "height": 415
        }
      },
      "id": "_uJTPdkwII3G",
      "execution_count": 21,
      "outputs": [
        {
          "output_type": "error",
          "ename": "RuntimeError",
          "evalue": "ignored",
          "traceback": [
            "\u001b[0;31m---------------------------------------------------------------------------\u001b[0m",
            "\u001b[0;31mRuntimeError\u001b[0m                              Traceback (most recent call last)",
            "\u001b[0;32m<ipython-input-21-f043c4fd102b>\u001b[0m in \u001b[0;36m<module>\u001b[0;34m\u001b[0m\n\u001b[1;32m      1\u001b[0m \u001b[0;31m# Error since the data is not on the same device as the model\u001b[0m\u001b[0;34m\u001b[0m\u001b[0;34m\u001b[0m\u001b[0;34m\u001b[0m\u001b[0m\n\u001b[0;32m----> 2\u001b[0;31m \u001b[0mmodel\u001b[0m\u001b[0;34m(\u001b[0m\u001b[0mimg\u001b[0m\u001b[0;34m)\u001b[0m\u001b[0;34m\u001b[0m\u001b[0;34m\u001b[0m\u001b[0m\n\u001b[0m",
            "\u001b[0;32m/usr/local/lib/python3.8/dist-packages/torch/nn/modules/module.py\u001b[0m in \u001b[0;36m_call_impl\u001b[0;34m(self, *input, **kwargs)\u001b[0m\n\u001b[1;32m   1192\u001b[0m         if not (self._backward_hooks or self._forward_hooks or self._forward_pre_hooks or _global_backward_hooks\n\u001b[1;32m   1193\u001b[0m                 or _global_forward_hooks or _global_forward_pre_hooks):\n\u001b[0;32m-> 1194\u001b[0;31m             \u001b[0;32mreturn\u001b[0m \u001b[0mforward_call\u001b[0m\u001b[0;34m(\u001b[0m\u001b[0;34m*\u001b[0m\u001b[0minput\u001b[0m\u001b[0;34m,\u001b[0m \u001b[0;34m**\u001b[0m\u001b[0mkwargs\u001b[0m\u001b[0;34m)\u001b[0m\u001b[0;34m\u001b[0m\u001b[0;34m\u001b[0m\u001b[0m\n\u001b[0m\u001b[1;32m   1195\u001b[0m         \u001b[0;31m# Do not call functions when jit is used\u001b[0m\u001b[0;34m\u001b[0m\u001b[0;34m\u001b[0m\u001b[0;34m\u001b[0m\u001b[0m\n\u001b[1;32m   1196\u001b[0m         \u001b[0mfull_backward_hooks\u001b[0m\u001b[0;34m,\u001b[0m \u001b[0mnon_full_backward_hooks\u001b[0m \u001b[0;34m=\u001b[0m \u001b[0;34m[\u001b[0m\u001b[0;34m]\u001b[0m\u001b[0;34m,\u001b[0m \u001b[0;34m[\u001b[0m\u001b[0;34m]\u001b[0m\u001b[0;34m\u001b[0m\u001b[0;34m\u001b[0m\u001b[0m\n",
            "\u001b[0;32m<ipython-input-16-511bfe9df0c8>\u001b[0m in \u001b[0;36mforward\u001b[0;34m(self, x)\u001b[0m\n\u001b[1;32m     17\u001b[0m     \u001b[0;32mdef\u001b[0m \u001b[0mforward\u001b[0m\u001b[0;34m(\u001b[0m\u001b[0mself\u001b[0m\u001b[0;34m,\u001b[0m \u001b[0mx\u001b[0m\u001b[0;34m)\u001b[0m\u001b[0;34m:\u001b[0m\u001b[0;34m\u001b[0m\u001b[0;34m\u001b[0m\u001b[0m\n\u001b[1;32m     18\u001b[0m         \u001b[0mx\u001b[0m \u001b[0;34m=\u001b[0m \u001b[0mx\u001b[0m\u001b[0;34m.\u001b[0m\u001b[0mview\u001b[0m\u001b[0;34m(\u001b[0m\u001b[0;34m-\u001b[0m\u001b[0;36m1\u001b[0m\u001b[0;34m,\u001b[0m \u001b[0;36m28\u001b[0m \u001b[0;34m*\u001b[0m \u001b[0;36m28\u001b[0m\u001b[0;34m)\u001b[0m\u001b[0;34m\u001b[0m\u001b[0;34m\u001b[0m\u001b[0m\n\u001b[0;32m---> 19\u001b[0;31m         \u001b[0;32mreturn\u001b[0m \u001b[0mself\u001b[0m\u001b[0;34m.\u001b[0m\u001b[0mlayers\u001b[0m\u001b[0;34m(\u001b[0m\u001b[0mx\u001b[0m\u001b[0;34m)\u001b[0m\u001b[0;34m\u001b[0m\u001b[0;34m\u001b[0m\u001b[0m\n\u001b[0m",
            "\u001b[0;32m/usr/local/lib/python3.8/dist-packages/torch/nn/modules/module.py\u001b[0m in \u001b[0;36m_call_impl\u001b[0;34m(self, *input, **kwargs)\u001b[0m\n\u001b[1;32m   1192\u001b[0m         if not (self._backward_hooks or self._forward_hooks or self._forward_pre_hooks or _global_backward_hooks\n\u001b[1;32m   1193\u001b[0m                 or _global_forward_hooks or _global_forward_pre_hooks):\n\u001b[0;32m-> 1194\u001b[0;31m             \u001b[0;32mreturn\u001b[0m \u001b[0mforward_call\u001b[0m\u001b[0;34m(\u001b[0m\u001b[0;34m*\u001b[0m\u001b[0minput\u001b[0m\u001b[0;34m,\u001b[0m \u001b[0;34m**\u001b[0m\u001b[0mkwargs\u001b[0m\u001b[0;34m)\u001b[0m\u001b[0;34m\u001b[0m\u001b[0;34m\u001b[0m\u001b[0m\n\u001b[0m\u001b[1;32m   1195\u001b[0m         \u001b[0;31m# Do not call functions when jit is used\u001b[0m\u001b[0;34m\u001b[0m\u001b[0;34m\u001b[0m\u001b[0;34m\u001b[0m\u001b[0m\n\u001b[1;32m   1196\u001b[0m         \u001b[0mfull_backward_hooks\u001b[0m\u001b[0;34m,\u001b[0m \u001b[0mnon_full_backward_hooks\u001b[0m \u001b[0;34m=\u001b[0m \u001b[0;34m[\u001b[0m\u001b[0;34m]\u001b[0m\u001b[0;34m,\u001b[0m \u001b[0;34m[\u001b[0m\u001b[0;34m]\u001b[0m\u001b[0;34m\u001b[0m\u001b[0;34m\u001b[0m\u001b[0m\n",
            "\u001b[0;32m/usr/local/lib/python3.8/dist-packages/torch/nn/modules/container.py\u001b[0m in \u001b[0;36mforward\u001b[0;34m(self, input)\u001b[0m\n\u001b[1;32m    202\u001b[0m     \u001b[0;32mdef\u001b[0m \u001b[0mforward\u001b[0m\u001b[0;34m(\u001b[0m\u001b[0mself\u001b[0m\u001b[0;34m,\u001b[0m \u001b[0minput\u001b[0m\u001b[0;34m)\u001b[0m\u001b[0;34m:\u001b[0m\u001b[0;34m\u001b[0m\u001b[0;34m\u001b[0m\u001b[0m\n\u001b[1;32m    203\u001b[0m         \u001b[0;32mfor\u001b[0m \u001b[0mmodule\u001b[0m \u001b[0;32min\u001b[0m \u001b[0mself\u001b[0m\u001b[0;34m:\u001b[0m\u001b[0;34m\u001b[0m\u001b[0;34m\u001b[0m\u001b[0m\n\u001b[0;32m--> 204\u001b[0;31m             \u001b[0minput\u001b[0m \u001b[0;34m=\u001b[0m \u001b[0mmodule\u001b[0m\u001b[0;34m(\u001b[0m\u001b[0minput\u001b[0m\u001b[0;34m)\u001b[0m\u001b[0;34m\u001b[0m\u001b[0;34m\u001b[0m\u001b[0m\n\u001b[0m\u001b[1;32m    205\u001b[0m         \u001b[0;32mreturn\u001b[0m \u001b[0minput\u001b[0m\u001b[0;34m\u001b[0m\u001b[0;34m\u001b[0m\u001b[0m\n\u001b[1;32m    206\u001b[0m \u001b[0;34m\u001b[0m\u001b[0m\n",
            "\u001b[0;32m/usr/local/lib/python3.8/dist-packages/torch/nn/modules/module.py\u001b[0m in \u001b[0;36m_call_impl\u001b[0;34m(self, *input, **kwargs)\u001b[0m\n\u001b[1;32m   1192\u001b[0m         if not (self._backward_hooks or self._forward_hooks or self._forward_pre_hooks or _global_backward_hooks\n\u001b[1;32m   1193\u001b[0m                 or _global_forward_hooks or _global_forward_pre_hooks):\n\u001b[0;32m-> 1194\u001b[0;31m             \u001b[0;32mreturn\u001b[0m \u001b[0mforward_call\u001b[0m\u001b[0;34m(\u001b[0m\u001b[0;34m*\u001b[0m\u001b[0minput\u001b[0m\u001b[0;34m,\u001b[0m \u001b[0;34m**\u001b[0m\u001b[0mkwargs\u001b[0m\u001b[0;34m)\u001b[0m\u001b[0;34m\u001b[0m\u001b[0;34m\u001b[0m\u001b[0m\n\u001b[0m\u001b[1;32m   1195\u001b[0m         \u001b[0;31m# Do not call functions when jit is used\u001b[0m\u001b[0;34m\u001b[0m\u001b[0;34m\u001b[0m\u001b[0;34m\u001b[0m\u001b[0m\n\u001b[1;32m   1196\u001b[0m         \u001b[0mfull_backward_hooks\u001b[0m\u001b[0;34m,\u001b[0m \u001b[0mnon_full_backward_hooks\u001b[0m \u001b[0;34m=\u001b[0m \u001b[0;34m[\u001b[0m\u001b[0;34m]\u001b[0m\u001b[0;34m,\u001b[0m \u001b[0;34m[\u001b[0m\u001b[0;34m]\u001b[0m\u001b[0;34m\u001b[0m\u001b[0;34m\u001b[0m\u001b[0m\n",
            "\u001b[0;32m/usr/local/lib/python3.8/dist-packages/torch/nn/modules/linear.py\u001b[0m in \u001b[0;36mforward\u001b[0;34m(self, input)\u001b[0m\n\u001b[1;32m    112\u001b[0m \u001b[0;34m\u001b[0m\u001b[0m\n\u001b[1;32m    113\u001b[0m     \u001b[0;32mdef\u001b[0m \u001b[0mforward\u001b[0m\u001b[0;34m(\u001b[0m\u001b[0mself\u001b[0m\u001b[0;34m,\u001b[0m \u001b[0minput\u001b[0m\u001b[0;34m:\u001b[0m \u001b[0mTensor\u001b[0m\u001b[0;34m)\u001b[0m \u001b[0;34m->\u001b[0m \u001b[0mTensor\u001b[0m\u001b[0;34m:\u001b[0m\u001b[0;34m\u001b[0m\u001b[0;34m\u001b[0m\u001b[0m\n\u001b[0;32m--> 114\u001b[0;31m         \u001b[0;32mreturn\u001b[0m \u001b[0mF\u001b[0m\u001b[0;34m.\u001b[0m\u001b[0mlinear\u001b[0m\u001b[0;34m(\u001b[0m\u001b[0minput\u001b[0m\u001b[0;34m,\u001b[0m \u001b[0mself\u001b[0m\u001b[0;34m.\u001b[0m\u001b[0mweight\u001b[0m\u001b[0;34m,\u001b[0m \u001b[0mself\u001b[0m\u001b[0;34m.\u001b[0m\u001b[0mbias\u001b[0m\u001b[0;34m)\u001b[0m\u001b[0;34m\u001b[0m\u001b[0;34m\u001b[0m\u001b[0m\n\u001b[0m\u001b[1;32m    115\u001b[0m \u001b[0;34m\u001b[0m\u001b[0m\n\u001b[1;32m    116\u001b[0m     \u001b[0;32mdef\u001b[0m \u001b[0mextra_repr\u001b[0m\u001b[0;34m(\u001b[0m\u001b[0mself\u001b[0m\u001b[0;34m)\u001b[0m \u001b[0;34m->\u001b[0m \u001b[0mstr\u001b[0m\u001b[0;34m:\u001b[0m\u001b[0;34m\u001b[0m\u001b[0;34m\u001b[0m\u001b[0m\n",
            "\u001b[0;31mRuntimeError\u001b[0m: Expected all tensors to be on the same device, but found at least two devices, cuda:0 and cpu! (when checking argument for argument mat1 in method wrapper_addmm)"
          ]
        }
      ]
    },
    {
      "cell_type": "markdown",
      "source": [
        "There is a error in the code but why? <br />\n",
        "Because the in train function, the data is not transfer to cuda device. <br />\n",
        "So, we need to modify the train function to transfer the data to cuda device."
      ],
      "metadata": {
        "id": "bTUAEBkvLzIz"
      },
      "id": "bTUAEBkvLzIz"
    },
    {
      "cell_type": "code",
      "source": [
        "pred = model(img.to(device))\n",
        "# pred = int(pred.argmax(dim=1))"
      ],
      "metadata": {
        "id": "gDirc7WHITlN"
      },
      "id": "gDirc7WHITlN",
      "execution_count": 22,
      "outputs": []
    },
    {
      "cell_type": "code",
      "source": [
        "int(pred.detach().cpu().argmax(dim=1)) # detach from GPU"
      ],
      "metadata": {
        "id": "iYnfka0yIruW",
        "outputId": "6b63577a-cf2c-4955-b837-4a8183fd898e",
        "colab": {
          "base_uri": "https://localhost:8080/"
        }
      },
      "id": "iYnfka0yIruW",
      "execution_count": 23,
      "outputs": [
        {
          "output_type": "execute_result",
          "data": {
            "text/plain": [
              "2"
            ]
          },
          "metadata": {},
          "execution_count": 23
        }
      ]
    },
    {
      "cell_type": "markdown",
      "id": "8c58bf85",
      "metadata": {
        "id": "8c58bf85"
      },
      "source": [
        "And the rest is the same as before"
      ]
    },
    {
      "cell_type": "markdown",
      "id": "DTSwaZjKXs2-",
      "metadata": {
        "id": "DTSwaZjKXs2-"
      },
      "source": [
        "## **Load model and specify device**\n",
        "\n",
        "Use `map_location` to specify the location of loaded parameters\n",
        "\n",
        "```py\n",
        "model.load_state_dict(torch.load(model_path, map_location=torch.device(\"cuda\")))\n",
        "```"
      ]
    },
    {
      "cell_type": "code",
      "execution_count": 35,
      "id": "6V6E-8xxbR0A",
      "metadata": {
        "colab": {
          "base_uri": "https://localhost:8080/"
        },
        "id": "6V6E-8xxbR0A",
        "outputId": "0c9798a5-98a1-4fe4-d44b-3913f42de551"
      },
      "outputs": [
        {
          "output_type": "execute_result",
          "data": {
            "text/plain": [
              "<All keys matched successfully>"
            ]
          },
          "metadata": {},
          "execution_count": 35
        }
      ],
      "source": [
        "# Load best model\n",
        "model_path = \"thai_digit.pth\"\n",
        "model = DropoutThaiDigit().cuda()  # initialize the model\n",
        "# load the model weights, specifying the device to cuda\n",
        "model.load_state_dict(\n",
        "    torch.load(model_path, map_location=torch.device(\"cuda\"))\n",
        ")"
      ]
    },
    {
      "cell_type": "code",
      "source": [
        "pred = model(img.to(device))"
      ],
      "metadata": {
        "id": "jBv9MCwMKVHw"
      },
      "id": "jBv9MCwMKVHw",
      "execution_count": 36,
      "outputs": []
    },
    {
      "cell_type": "code",
      "source": [
        "int(pred.detach().cpu().argmax(dim=1)) # detach from GPU"
      ],
      "metadata": {
        "id": "-iWxRRTbKXxf",
        "outputId": "ca9d139a-3c0a-40e5-931f-0d1bab95863c",
        "colab": {
          "base_uri": "https://localhost:8080/"
        }
      },
      "id": "-iWxRRTbKXxf",
      "execution_count": 37,
      "outputs": [
        {
          "output_type": "execute_result",
          "data": {
            "text/plain": [
              "3"
            ]
          },
          "metadata": {},
          "execution_count": 37
        }
      ]
    },
    {
      "cell_type": "code",
      "source": [
        "# Alternatively, load on CPU\n",
        "model.cpu()\n",
        "model.load_state_dict(torch.load(model_path, map_location=torch.device(\"cpu\")))\n",
        "pred = model(img)\n",
        "int(pred.detach().cpu().argmax(dim=1)) # detach from GPU"
      ],
      "metadata": {
        "id": "6zFn2z3dLjLk",
        "outputId": "c4b2ce99-a869-44fe-b772-a9b438d6ecd8",
        "colab": {
          "base_uri": "https://localhost:8080/"
        }
      },
      "id": "6zFn2z3dLjLk",
      "execution_count": 38,
      "outputs": [
        {
          "output_type": "execute_result",
          "data": {
            "text/plain": [
              "2"
            ]
          },
          "metadata": {},
          "execution_count": 38
        }
      ]
    }
  ],
  "metadata": {
    "accelerator": "GPU",
    "colab": {
      "collapsed_sections": [
        "3aa56f94",
        "ae55f494",
        "65fb58d7"
      ],
      "provenance": []
    },
    "gpuClass": "standard",
    "kernelspec": {
      "display_name": "Python 3 (ipykernel)",
      "language": "python",
      "name": "python3"
    },
    "language_info": {
      "codemirror_mode": {
        "name": "ipython",
        "version": 3
      },
      "file_extension": ".py",
      "mimetype": "text/x-python",
      "name": "python",
      "nbconvert_exporter": "python",
      "pygments_lexer": "ipython3",
      "version": "3.7.13"
    },
    "vscode": {
      "interpreter": {
        "hash": "63ce3f086f3d35aeaa98481dc3e6117e1ab6d0e955643b11e97a8ed761553864"
      }
    },
    "widgets": {
      "application/vnd.jupyter.widget-state+json": {
        "8e8cfef143c24944adf23441bf65a675": {
          "model_module": "@jupyter-widgets/controls",
          "model_name": "HBoxModel",
          "model_module_version": "1.5.0",
          "state": {
            "_dom_classes": [],
            "_model_module": "@jupyter-widgets/controls",
            "_model_module_version": "1.5.0",
            "_model_name": "HBoxModel",
            "_view_count": null,
            "_view_module": "@jupyter-widgets/controls",
            "_view_module_version": "1.5.0",
            "_view_name": "HBoxView",
            "box_style": "",
            "children": [
              "IPY_MODEL_94437975a3794c76949fe244fef71ba5",
              "IPY_MODEL_816e84c7eb184d0693317d382671f4b2",
              "IPY_MODEL_7d0f9ca3dc8048be9b7c601a4ab16b1d"
            ],
            "layout": "IPY_MODEL_95c43f440965460c9f0e09a844f15903"
          }
        },
        "94437975a3794c76949fe244fef71ba5": {
          "model_module": "@jupyter-widgets/controls",
          "model_name": "HTMLModel",
          "model_module_version": "1.5.0",
          "state": {
            "_dom_classes": [],
            "_model_module": "@jupyter-widgets/controls",
            "_model_module_version": "1.5.0",
            "_model_name": "HTMLModel",
            "_view_count": null,
            "_view_module": "@jupyter-widgets/controls",
            "_view_module_version": "1.5.0",
            "_view_name": "HTMLView",
            "description": "",
            "description_tooltip": null,
            "layout": "IPY_MODEL_db20aca93535462ba7ce32000fcff06e",
            "placeholder": "​",
            "style": "IPY_MODEL_a8a1b1be957e453da21fc2b76bc76b1d",
            "value": "100%"
          }
        },
        "816e84c7eb184d0693317d382671f4b2": {
          "model_module": "@jupyter-widgets/controls",
          "model_name": "FloatProgressModel",
          "model_module_version": "1.5.0",
          "state": {
            "_dom_classes": [],
            "_model_module": "@jupyter-widgets/controls",
            "_model_module_version": "1.5.0",
            "_model_name": "FloatProgressModel",
            "_view_count": null,
            "_view_module": "@jupyter-widgets/controls",
            "_view_module_version": "1.5.0",
            "_view_name": "ProgressView",
            "bar_style": "success",
            "description": "",
            "description_tooltip": null,
            "layout": "IPY_MODEL_c284c7e92dca4309800b70ac14241eb0",
            "max": 1575,
            "min": 0,
            "orientation": "horizontal",
            "style": "IPY_MODEL_e84302c233ee4a119360fdd654843bb0",
            "value": 1575
          }
        },
        "7d0f9ca3dc8048be9b7c601a4ab16b1d": {
          "model_module": "@jupyter-widgets/controls",
          "model_name": "HTMLModel",
          "model_module_version": "1.5.0",
          "state": {
            "_dom_classes": [],
            "_model_module": "@jupyter-widgets/controls",
            "_model_module_version": "1.5.0",
            "_model_name": "HTMLModel",
            "_view_count": null,
            "_view_module": "@jupyter-widgets/controls",
            "_view_module_version": "1.5.0",
            "_view_name": "HTMLView",
            "description": "",
            "description_tooltip": null,
            "layout": "IPY_MODEL_e900624930344de5aa2a9c04cf474b5e",
            "placeholder": "​",
            "style": "IPY_MODEL_e946606dec4b4340812f47a581451c33",
            "value": " 1575/1575 [00:00&lt;00:00, 3625.28it/s]"
          }
        },
        "95c43f440965460c9f0e09a844f15903": {
          "model_module": "@jupyter-widgets/base",
          "model_name": "LayoutModel",
          "model_module_version": "1.2.0",
          "state": {
            "_model_module": "@jupyter-widgets/base",
            "_model_module_version": "1.2.0",
            "_model_name": "LayoutModel",
            "_view_count": null,
            "_view_module": "@jupyter-widgets/base",
            "_view_module_version": "1.2.0",
            "_view_name": "LayoutView",
            "align_content": null,
            "align_items": null,
            "align_self": null,
            "border": null,
            "bottom": null,
            "display": null,
            "flex": null,
            "flex_flow": null,
            "grid_area": null,
            "grid_auto_columns": null,
            "grid_auto_flow": null,
            "grid_auto_rows": null,
            "grid_column": null,
            "grid_gap": null,
            "grid_row": null,
            "grid_template_areas": null,
            "grid_template_columns": null,
            "grid_template_rows": null,
            "height": null,
            "justify_content": null,
            "justify_items": null,
            "left": null,
            "margin": null,
            "max_height": null,
            "max_width": null,
            "min_height": null,
            "min_width": null,
            "object_fit": null,
            "object_position": null,
            "order": null,
            "overflow": null,
            "overflow_x": null,
            "overflow_y": null,
            "padding": null,
            "right": null,
            "top": null,
            "visibility": null,
            "width": null
          }
        },
        "db20aca93535462ba7ce32000fcff06e": {
          "model_module": "@jupyter-widgets/base",
          "model_name": "LayoutModel",
          "model_module_version": "1.2.0",
          "state": {
            "_model_module": "@jupyter-widgets/base",
            "_model_module_version": "1.2.0",
            "_model_name": "LayoutModel",
            "_view_count": null,
            "_view_module": "@jupyter-widgets/base",
            "_view_module_version": "1.2.0",
            "_view_name": "LayoutView",
            "align_content": null,
            "align_items": null,
            "align_self": null,
            "border": null,
            "bottom": null,
            "display": null,
            "flex": null,
            "flex_flow": null,
            "grid_area": null,
            "grid_auto_columns": null,
            "grid_auto_flow": null,
            "grid_auto_rows": null,
            "grid_column": null,
            "grid_gap": null,
            "grid_row": null,
            "grid_template_areas": null,
            "grid_template_columns": null,
            "grid_template_rows": null,
            "height": null,
            "justify_content": null,
            "justify_items": null,
            "left": null,
            "margin": null,
            "max_height": null,
            "max_width": null,
            "min_height": null,
            "min_width": null,
            "object_fit": null,
            "object_position": null,
            "order": null,
            "overflow": null,
            "overflow_x": null,
            "overflow_y": null,
            "padding": null,
            "right": null,
            "top": null,
            "visibility": null,
            "width": null
          }
        },
        "a8a1b1be957e453da21fc2b76bc76b1d": {
          "model_module": "@jupyter-widgets/controls",
          "model_name": "DescriptionStyleModel",
          "model_module_version": "1.5.0",
          "state": {
            "_model_module": "@jupyter-widgets/controls",
            "_model_module_version": "1.5.0",
            "_model_name": "DescriptionStyleModel",
            "_view_count": null,
            "_view_module": "@jupyter-widgets/base",
            "_view_module_version": "1.2.0",
            "_view_name": "StyleView",
            "description_width": ""
          }
        },
        "c284c7e92dca4309800b70ac14241eb0": {
          "model_module": "@jupyter-widgets/base",
          "model_name": "LayoutModel",
          "model_module_version": "1.2.0",
          "state": {
            "_model_module": "@jupyter-widgets/base",
            "_model_module_version": "1.2.0",
            "_model_name": "LayoutModel",
            "_view_count": null,
            "_view_module": "@jupyter-widgets/base",
            "_view_module_version": "1.2.0",
            "_view_name": "LayoutView",
            "align_content": null,
            "align_items": null,
            "align_self": null,
            "border": null,
            "bottom": null,
            "display": null,
            "flex": null,
            "flex_flow": null,
            "grid_area": null,
            "grid_auto_columns": null,
            "grid_auto_flow": null,
            "grid_auto_rows": null,
            "grid_column": null,
            "grid_gap": null,
            "grid_row": null,
            "grid_template_areas": null,
            "grid_template_columns": null,
            "grid_template_rows": null,
            "height": null,
            "justify_content": null,
            "justify_items": null,
            "left": null,
            "margin": null,
            "max_height": null,
            "max_width": null,
            "min_height": null,
            "min_width": null,
            "object_fit": null,
            "object_position": null,
            "order": null,
            "overflow": null,
            "overflow_x": null,
            "overflow_y": null,
            "padding": null,
            "right": null,
            "top": null,
            "visibility": null,
            "width": null
          }
        },
        "e84302c233ee4a119360fdd654843bb0": {
          "model_module": "@jupyter-widgets/controls",
          "model_name": "ProgressStyleModel",
          "model_module_version": "1.5.0",
          "state": {
            "_model_module": "@jupyter-widgets/controls",
            "_model_module_version": "1.5.0",
            "_model_name": "ProgressStyleModel",
            "_view_count": null,
            "_view_module": "@jupyter-widgets/base",
            "_view_module_version": "1.2.0",
            "_view_name": "StyleView",
            "bar_color": null,
            "description_width": ""
          }
        },
        "e900624930344de5aa2a9c04cf474b5e": {
          "model_module": "@jupyter-widgets/base",
          "model_name": "LayoutModel",
          "model_module_version": "1.2.0",
          "state": {
            "_model_module": "@jupyter-widgets/base",
            "_model_module_version": "1.2.0",
            "_model_name": "LayoutModel",
            "_view_count": null,
            "_view_module": "@jupyter-widgets/base",
            "_view_module_version": "1.2.0",
            "_view_name": "LayoutView",
            "align_content": null,
            "align_items": null,
            "align_self": null,
            "border": null,
            "bottom": null,
            "display": null,
            "flex": null,
            "flex_flow": null,
            "grid_area": null,
            "grid_auto_columns": null,
            "grid_auto_flow": null,
            "grid_auto_rows": null,
            "grid_column": null,
            "grid_gap": null,
            "grid_row": null,
            "grid_template_areas": null,
            "grid_template_columns": null,
            "grid_template_rows": null,
            "height": null,
            "justify_content": null,
            "justify_items": null,
            "left": null,
            "margin": null,
            "max_height": null,
            "max_width": null,
            "min_height": null,
            "min_width": null,
            "object_fit": null,
            "object_position": null,
            "order": null,
            "overflow": null,
            "overflow_x": null,
            "overflow_y": null,
            "padding": null,
            "right": null,
            "top": null,
            "visibility": null,
            "width": null
          }
        },
        "e946606dec4b4340812f47a581451c33": {
          "model_module": "@jupyter-widgets/controls",
          "model_name": "DescriptionStyleModel",
          "model_module_version": "1.5.0",
          "state": {
            "_model_module": "@jupyter-widgets/controls",
            "_model_module_version": "1.5.0",
            "_model_name": "DescriptionStyleModel",
            "_view_count": null,
            "_view_module": "@jupyter-widgets/base",
            "_view_module_version": "1.2.0",
            "_view_name": "StyleView",
            "description_width": ""
          }
        },
        "2f19ceef695d4966b2a1fce204a85c02": {
          "model_module": "@jupyter-widgets/controls",
          "model_name": "HBoxModel",
          "model_module_version": "1.5.0",
          "state": {
            "_dom_classes": [],
            "_model_module": "@jupyter-widgets/controls",
            "_model_module_version": "1.5.0",
            "_model_name": "HBoxModel",
            "_view_count": null,
            "_view_module": "@jupyter-widgets/controls",
            "_view_module_version": "1.5.0",
            "_view_name": "HBoxView",
            "box_style": "",
            "children": [
              "IPY_MODEL_2be8077411184497b531a11a528070b8",
              "IPY_MODEL_4d6482deed9e446fbfa6678fe544b8a5",
              "IPY_MODEL_28b7a1d67e2945dea14eee767a80c437"
            ],
            "layout": "IPY_MODEL_33ae4e12018e46d8b52fd63c0d332dfa"
          }
        },
        "2be8077411184497b531a11a528070b8": {
          "model_module": "@jupyter-widgets/controls",
          "model_name": "HTMLModel",
          "model_module_version": "1.5.0",
          "state": {
            "_dom_classes": [],
            "_model_module": "@jupyter-widgets/controls",
            "_model_module_version": "1.5.0",
            "_model_name": "HTMLModel",
            "_view_count": null,
            "_view_module": "@jupyter-widgets/controls",
            "_view_module_version": "1.5.0",
            "_view_name": "HTMLView",
            "description": "",
            "description_tooltip": null,
            "layout": "IPY_MODEL_e327e1314b63471db635297d8df553a8",
            "placeholder": "​",
            "style": "IPY_MODEL_1230aa5410d8422ea543c912a410d384",
            "value": "100%"
          }
        },
        "4d6482deed9e446fbfa6678fe544b8a5": {
          "model_module": "@jupyter-widgets/controls",
          "model_name": "FloatProgressModel",
          "model_module_version": "1.5.0",
          "state": {
            "_dom_classes": [],
            "_model_module": "@jupyter-widgets/controls",
            "_model_module_version": "1.5.0",
            "_model_name": "FloatProgressModel",
            "_view_count": null,
            "_view_module": "@jupyter-widgets/controls",
            "_view_module_version": "1.5.0",
            "_view_name": "ProgressView",
            "bar_style": "success",
            "description": "",
            "description_tooltip": null,
            "layout": "IPY_MODEL_f9e276aabdbc4c3dbf8e164d9390fe13",
            "max": 175,
            "min": 0,
            "orientation": "horizontal",
            "style": "IPY_MODEL_8b3542b89c3941d396ddd9d712bd53ae",
            "value": 175
          }
        },
        "28b7a1d67e2945dea14eee767a80c437": {
          "model_module": "@jupyter-widgets/controls",
          "model_name": "HTMLModel",
          "model_module_version": "1.5.0",
          "state": {
            "_dom_classes": [],
            "_model_module": "@jupyter-widgets/controls",
            "_model_module_version": "1.5.0",
            "_model_name": "HTMLModel",
            "_view_count": null,
            "_view_module": "@jupyter-widgets/controls",
            "_view_module_version": "1.5.0",
            "_view_name": "HTMLView",
            "description": "",
            "description_tooltip": null,
            "layout": "IPY_MODEL_3dcd073aad9f46279745975a7b2972c4",
            "placeholder": "​",
            "style": "IPY_MODEL_1ac0d65924cd44c098bb183622a88e73",
            "value": " 175/175 [00:00&lt;00:00, 1788.36it/s]"
          }
        },
        "33ae4e12018e46d8b52fd63c0d332dfa": {
          "model_module": "@jupyter-widgets/base",
          "model_name": "LayoutModel",
          "model_module_version": "1.2.0",
          "state": {
            "_model_module": "@jupyter-widgets/base",
            "_model_module_version": "1.2.0",
            "_model_name": "LayoutModel",
            "_view_count": null,
            "_view_module": "@jupyter-widgets/base",
            "_view_module_version": "1.2.0",
            "_view_name": "LayoutView",
            "align_content": null,
            "align_items": null,
            "align_self": null,
            "border": null,
            "bottom": null,
            "display": null,
            "flex": null,
            "flex_flow": null,
            "grid_area": null,
            "grid_auto_columns": null,
            "grid_auto_flow": null,
            "grid_auto_rows": null,
            "grid_column": null,
            "grid_gap": null,
            "grid_row": null,
            "grid_template_areas": null,
            "grid_template_columns": null,
            "grid_template_rows": null,
            "height": null,
            "justify_content": null,
            "justify_items": null,
            "left": null,
            "margin": null,
            "max_height": null,
            "max_width": null,
            "min_height": null,
            "min_width": null,
            "object_fit": null,
            "object_position": null,
            "order": null,
            "overflow": null,
            "overflow_x": null,
            "overflow_y": null,
            "padding": null,
            "right": null,
            "top": null,
            "visibility": null,
            "width": null
          }
        },
        "e327e1314b63471db635297d8df553a8": {
          "model_module": "@jupyter-widgets/base",
          "model_name": "LayoutModel",
          "model_module_version": "1.2.0",
          "state": {
            "_model_module": "@jupyter-widgets/base",
            "_model_module_version": "1.2.0",
            "_model_name": "LayoutModel",
            "_view_count": null,
            "_view_module": "@jupyter-widgets/base",
            "_view_module_version": "1.2.0",
            "_view_name": "LayoutView",
            "align_content": null,
            "align_items": null,
            "align_self": null,
            "border": null,
            "bottom": null,
            "display": null,
            "flex": null,
            "flex_flow": null,
            "grid_area": null,
            "grid_auto_columns": null,
            "grid_auto_flow": null,
            "grid_auto_rows": null,
            "grid_column": null,
            "grid_gap": null,
            "grid_row": null,
            "grid_template_areas": null,
            "grid_template_columns": null,
            "grid_template_rows": null,
            "height": null,
            "justify_content": null,
            "justify_items": null,
            "left": null,
            "margin": null,
            "max_height": null,
            "max_width": null,
            "min_height": null,
            "min_width": null,
            "object_fit": null,
            "object_position": null,
            "order": null,
            "overflow": null,
            "overflow_x": null,
            "overflow_y": null,
            "padding": null,
            "right": null,
            "top": null,
            "visibility": null,
            "width": null
          }
        },
        "1230aa5410d8422ea543c912a410d384": {
          "model_module": "@jupyter-widgets/controls",
          "model_name": "DescriptionStyleModel",
          "model_module_version": "1.5.0",
          "state": {
            "_model_module": "@jupyter-widgets/controls",
            "_model_module_version": "1.5.0",
            "_model_name": "DescriptionStyleModel",
            "_view_count": null,
            "_view_module": "@jupyter-widgets/base",
            "_view_module_version": "1.2.0",
            "_view_name": "StyleView",
            "description_width": ""
          }
        },
        "f9e276aabdbc4c3dbf8e164d9390fe13": {
          "model_module": "@jupyter-widgets/base",
          "model_name": "LayoutModel",
          "model_module_version": "1.2.0",
          "state": {
            "_model_module": "@jupyter-widgets/base",
            "_model_module_version": "1.2.0",
            "_model_name": "LayoutModel",
            "_view_count": null,
            "_view_module": "@jupyter-widgets/base",
            "_view_module_version": "1.2.0",
            "_view_name": "LayoutView",
            "align_content": null,
            "align_items": null,
            "align_self": null,
            "border": null,
            "bottom": null,
            "display": null,
            "flex": null,
            "flex_flow": null,
            "grid_area": null,
            "grid_auto_columns": null,
            "grid_auto_flow": null,
            "grid_auto_rows": null,
            "grid_column": null,
            "grid_gap": null,
            "grid_row": null,
            "grid_template_areas": null,
            "grid_template_columns": null,
            "grid_template_rows": null,
            "height": null,
            "justify_content": null,
            "justify_items": null,
            "left": null,
            "margin": null,
            "max_height": null,
            "max_width": null,
            "min_height": null,
            "min_width": null,
            "object_fit": null,
            "object_position": null,
            "order": null,
            "overflow": null,
            "overflow_x": null,
            "overflow_y": null,
            "padding": null,
            "right": null,
            "top": null,
            "visibility": null,
            "width": null
          }
        },
        "8b3542b89c3941d396ddd9d712bd53ae": {
          "model_module": "@jupyter-widgets/controls",
          "model_name": "ProgressStyleModel",
          "model_module_version": "1.5.0",
          "state": {
            "_model_module": "@jupyter-widgets/controls",
            "_model_module_version": "1.5.0",
            "_model_name": "ProgressStyleModel",
            "_view_count": null,
            "_view_module": "@jupyter-widgets/base",
            "_view_module_version": "1.2.0",
            "_view_name": "StyleView",
            "bar_color": null,
            "description_width": ""
          }
        },
        "3dcd073aad9f46279745975a7b2972c4": {
          "model_module": "@jupyter-widgets/base",
          "model_name": "LayoutModel",
          "model_module_version": "1.2.0",
          "state": {
            "_model_module": "@jupyter-widgets/base",
            "_model_module_version": "1.2.0",
            "_model_name": "LayoutModel",
            "_view_count": null,
            "_view_module": "@jupyter-widgets/base",
            "_view_module_version": "1.2.0",
            "_view_name": "LayoutView",
            "align_content": null,
            "align_items": null,
            "align_self": null,
            "border": null,
            "bottom": null,
            "display": null,
            "flex": null,
            "flex_flow": null,
            "grid_area": null,
            "grid_auto_columns": null,
            "grid_auto_flow": null,
            "grid_auto_rows": null,
            "grid_column": null,
            "grid_gap": null,
            "grid_row": null,
            "grid_template_areas": null,
            "grid_template_columns": null,
            "grid_template_rows": null,
            "height": null,
            "justify_content": null,
            "justify_items": null,
            "left": null,
            "margin": null,
            "max_height": null,
            "max_width": null,
            "min_height": null,
            "min_width": null,
            "object_fit": null,
            "object_position": null,
            "order": null,
            "overflow": null,
            "overflow_x": null,
            "overflow_y": null,
            "padding": null,
            "right": null,
            "top": null,
            "visibility": null,
            "width": null
          }
        },
        "1ac0d65924cd44c098bb183622a88e73": {
          "model_module": "@jupyter-widgets/controls",
          "model_name": "DescriptionStyleModel",
          "model_module_version": "1.5.0",
          "state": {
            "_model_module": "@jupyter-widgets/controls",
            "_model_module_version": "1.5.0",
            "_model_name": "DescriptionStyleModel",
            "_view_count": null,
            "_view_module": "@jupyter-widgets/base",
            "_view_module_version": "1.2.0",
            "_view_name": "StyleView",
            "description_width": ""
          }
        }
      }
    }
  },
  "nbformat": 4,
  "nbformat_minor": 5
}