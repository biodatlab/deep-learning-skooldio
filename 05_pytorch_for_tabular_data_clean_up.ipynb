{
 "cells": [
  {
   "cell_type": "markdown",
   "metadata": {},
   "source": [
    "[![Open in Colab](https://colab.research.google.com/assets/colab-badge.svg)](https://colab.research.google.com/github/biodatlab/deep-learning-skooldio/blob/master/04_pytorch_for_tabular_data.ipynb)\n",
    "\n",
    "\n",
    "## **Predicting second hand car price from Rodkaidee: Regression**\n",
    "\n",
    "This notebook contains the following steps for predicting second hand car price from [Rodkaidee website](https://rod.kaidee.com/)\n",
    "\n",
    "- Import libraries\n",
    "- Prepare data: Categorical and numerical features\n",
    "- Train linear regression model\n",
    "- Train one-layer neural network model for regression (equivalent to linear regression)\n",
    "- Train multi-layer neural network model for regression"
   ]
  },
  {
   "cell_type": "code",
   "execution_count": 1,
   "metadata": {
    "id": "zxcAGilIZI0C"
   },
   "outputs": [
    {
     "name": "stderr",
     "output_type": "stream",
     "text": [
      "c:\\Anaconda3\\envs\\ocr\\lib\\site-packages\\numpy\\_distributor_init.py:30: UserWarning: loaded more than 1 DLL from .libs:\n",
      "c:\\Anaconda3\\envs\\ocr\\lib\\site-packages\\numpy\\.libs\\libopenblas.EL2C6PLE4ZYW3ECEVIV3OXXGRN2NRFM2.gfortran-win_amd64.dll\n",
      "c:\\Anaconda3\\envs\\ocr\\lib\\site-packages\\numpy\\.libs\\libopenblas.FB5AE2TYXYH2IJRDKGDGQ3XBKLKTF43H.gfortran-win_amd64.dll\n",
      "  warnings.warn(\"loaded more than 1 DLL from .libs:\"\n"
     ]
    }
   ],
   "source": [
    "import pandas as pd\n",
    "import numpy as np\n",
    "from tqdm.auto import tqdm\n",
    "import matplotlib.pyplot as plt\n",
    "\n",
    "import torch\n",
    "import torch.nn as nn\n",
    "import torch.nn.functional as F\n",
    "\n",
    "from sklearn.linear_model import LinearRegression\n",
    "from sklearn.model_selection import train_test_split\n",
    "from sklearn.metrics import mean_squared_error\n",
    "import joblib"
   ]
  },
  {
   "cell_type": "markdown",
   "metadata": {
    "id": "1aoH2TxDZI0E"
   },
   "source": [
    "## **Data Preparation**"
   ]
  },
  {
   "cell_type": "code",
   "execution_count": 35,
   "metadata": {
    "colab": {
     "base_uri": "https://localhost:8080/",
     "height": 206
    },
    "id": "wCZuVhV7ZI0F",
    "outputId": "cd33d78c-5c63-43b3-a2a0-9eb7e1aae827"
   },
   "outputs": [
    {
     "data": {
      "text/html": [
       "<div>\n",
       "<style scoped>\n",
       "    .dataframe tbody tr th:only-of-type {\n",
       "        vertical-align: middle;\n",
       "    }\n",
       "\n",
       "    .dataframe tbody tr th {\n",
       "        vertical-align: top;\n",
       "    }\n",
       "\n",
       "    .dataframe thead th {\n",
       "        text-align: right;\n",
       "    }\n",
       "</style>\n",
       "<table border=\"1\" class=\"dataframe\">\n",
       "  <thead>\n",
       "    <tr style=\"text-align: right;\">\n",
       "      <th></th>\n",
       "      <th>Brand</th>\n",
       "      <th>Model</th>\n",
       "      <th>Engine</th>\n",
       "      <th>Segment</th>\n",
       "      <th>Year</th>\n",
       "      <th>Mileage</th>\n",
       "      <th>Province</th>\n",
       "      <th>Price</th>\n",
       "      <th>Color</th>\n",
       "    </tr>\n",
       "  </thead>\n",
       "  <tbody>\n",
       "    <tr>\n",
       "      <th>0</th>\n",
       "      <td>Mazda</td>\n",
       "      <td>Mazda2</td>\n",
       "      <td>1.3</td>\n",
       "      <td>B-Segment</td>\n",
       "      <td>2022</td>\n",
       "      <td>15,640</td>\n",
       "      <td>กรุงเทพมหานคร</td>\n",
       "      <td>499,000</td>\n",
       "      <td>Gray</td>\n",
       "    </tr>\n",
       "    <tr>\n",
       "      <th>1</th>\n",
       "      <td>Suzuki</td>\n",
       "      <td>Celerio</td>\n",
       "      <td>1.0</td>\n",
       "      <td>Eco Car</td>\n",
       "      <td>2021</td>\n",
       "      <td>9,545</td>\n",
       "      <td>กรุงเทพมหานคร</td>\n",
       "      <td>315,000</td>\n",
       "      <td>White</td>\n",
       "    </tr>\n",
       "    <tr>\n",
       "      <th>2</th>\n",
       "      <td>Mitsubishi</td>\n",
       "      <td>Mirage</td>\n",
       "      <td>1.2</td>\n",
       "      <td>Eco Car</td>\n",
       "      <td>2021</td>\n",
       "      <td>10,900</td>\n",
       "      <td>นนทบุรี</td>\n",
       "      <td>335,000</td>\n",
       "      <td>Gray</td>\n",
       "    </tr>\n",
       "    <tr>\n",
       "      <th>3</th>\n",
       "      <td>Nissan</td>\n",
       "      <td>March</td>\n",
       "      <td>1.2</td>\n",
       "      <td>Eco Car</td>\n",
       "      <td>2021</td>\n",
       "      <td>12,000</td>\n",
       "      <td>กรุงเทพมหานคร</td>\n",
       "      <td>339,000</td>\n",
       "      <td>Silver</td>\n",
       "    </tr>\n",
       "    <tr>\n",
       "      <th>4</th>\n",
       "      <td>Mitsubishi</td>\n",
       "      <td>Attrage</td>\n",
       "      <td>1.2</td>\n",
       "      <td>Eco Car</td>\n",
       "      <td>2021</td>\n",
       "      <td>25,706</td>\n",
       "      <td>กาญจนบุรี</td>\n",
       "      <td>350,000</td>\n",
       "      <td>Gray</td>\n",
       "    </tr>\n",
       "  </tbody>\n",
       "</table>\n",
       "</div>"
      ],
      "text/plain": [
       "        Brand    Model  Engine    Segment  Year Mileage       Province  \\\n",
       "0       Mazda   Mazda2     1.3  B-Segment  2022  15,640  กรุงเทพมหานคร   \n",
       "1      Suzuki  Celerio     1.0    Eco Car  2021   9,545  กรุงเทพมหานคร   \n",
       "2  Mitsubishi   Mirage     1.2    Eco Car  2021  10,900        นนทบุรี   \n",
       "3      Nissan    March     1.2    Eco Car  2021  12,000  กรุงเทพมหานคร   \n",
       "4  Mitsubishi  Attrage     1.2    Eco Car  2021  25,706      กาญจนบุรี   \n",
       "\n",
       "     Price   Color  \n",
       "0  499,000    Gray  \n",
       "1  315,000   White  \n",
       "2  335,000    Gray  \n",
       "3  339,000  Silver  \n",
       "4  350,000    Gray  "
      ]
     },
     "execution_count": 35,
     "metadata": {},
     "output_type": "execute_result"
    }
   ],
   "source": [
    "# !pip install openpyxl\n",
    "\n",
    "# df = pd.read_excel(\"Rodkaidee Data.xlsx\", engine=\"openpyxl\")\n",
    "df = pd.read_csv(\"Rodkaidee Data.csv\")\n",
    "df.head(5)"
   ]
  },
  {
   "cell_type": "markdown",
   "metadata": {
    "id": "JFqqEkUUZI0G"
   },
   "source": [
    "**Apply One-hot Encoding to categorical values**\n",
    "\n",
    "For example, if a column has three unique values 'A', 'B', and 'C', rows that contain 'C' will be transformed to [0, 0, 1] ."
   ]
  },
  {
   "cell_type": "code",
   "execution_count": 36,
   "metadata": {},
   "outputs": [],
   "source": [
    "from sklearn.preprocessing import OneHotEncoder\n",
    "\n",
    "CATEGORICAL_COLUMNS = [\"Brand\", \"Model\", \"Engine\", \"Segment\", \"Province\", \"Color\"]\n",
    "NUMERIC_COLUMNS = [\"Year\", \"Mileage\"]\n",
    "\n",
    "ohe = OneHotEncoder(handle_unknown='ignore', sparse=False)\n",
    "\n",
    "cat_train_array = ohe.fit_transform(df[CATEGORICAL_COLUMNS])\n",
    "cat_test_array = ohe.transform(df[CATEGORICAL_COLUMNS])"
   ]
  },
  {
   "cell_type": "markdown",
   "metadata": {
    "id": "TWBWpadpZI0I"
   },
   "source": [
    "**Normalize continuous values**\n",
    "\n",
    "For example, column X has values from 0 to 1000000, so we need to normalize them to 0 to 1"
   ]
  },
  {
   "cell_type": "code",
   "execution_count": 37,
   "metadata": {
    "id": "2zc0NpePZI0I"
   },
   "outputs": [],
   "source": [
    "from sklearn.preprocessing import MinMaxScaler\n",
    "\n",
    "df[\"Price\"] = df[\"Price\"].apply(lambda x: float(x.replace(\",\", \"\")))\n",
    "df[\"Mileage\"] = df[\"Mileage\"].apply(lambda x: float(x.replace(\",\", \"\")))\n",
    "\n",
    "\n",
    "year_scaler = MinMaxScaler()\n",
    "mileage_scaler = MinMaxScaler()\n",
    "price_scaler = MinMaxScaler()\n",
    "\n",
    "df[\"Year\"] = year_scaler.fit_transform(df[[\"Year\"]])\n",
    "df[\"Mileage\"] = mileage_scaler.fit_transform(df[[\"Mileage\"]])\n",
    "df[\"Price\"] = price_scaler.fit_transform(df[[\"Price\"]])"
   ]
  },
  {
   "cell_type": "markdown",
   "metadata": {},
   "source": [
    "### Wrap everything up as a single function"
   ]
  },
  {
   "cell_type": "code",
   "execution_count": 61,
   "metadata": {},
   "outputs": [],
   "source": [
    "CATEGORICAL_COLUMNS = [\"Brand\", \"Model\", \"Engine\", \"Segment\", \"Province\", \"Color\"]\n",
    "NUMERIC_COLUMNS = [\"Year\", \"Mileage\"]\n",
    "\n",
    "def preprocess_dataframe(\n",
    "    dataframe: pd.DataFrame,\n",
    "    one_hot_encoder: OneHotEncoder,\n",
    "    scaler_dictionary: dict = None,\n",
    "    ) -> pd.DataFrame:\n",
    "\n",
    "    cat_feature_array = one_hot_encoder.transform(dataframe[CATEGORICAL_COLUMNS])\n",
    "\n",
    "    scaled_feature_list = []\n",
    "    for col in NUMERIC_COLUMNS:\n",
    "        scaled_feature_array = scaler_dictionary[col].transform(dataframe[[col]])\n",
    "        scaled_feature_list.append(scaled_feature_array)\n",
    "    numeric_feature_array = np.hstack(scaled_feature_list)\n",
    "\n",
    "    preprocessed_feature_array = np.hstack((cat_feature_array, numeric_feature_array))\n",
    "    return preprocessed_feature_array"
   ]
  },
  {
   "cell_type": "markdown",
   "metadata": {
    "id": "YN3Ax68RZI0I"
   },
   "source": [
    "## **Train a simple Linear Regression Model**"
   ]
  },
  {
   "cell_type": "code",
   "execution_count": 124,
   "metadata": {
    "id": "IDp9vLKhZI0J"
   },
   "outputs": [],
   "source": [
    "import os.path as op\n",
    "# Split the data into train and test sets.\n",
    "data_path = \"Rodkaidee Data.csv\"\n",
    "df = pd.read_csv(data_path)\n",
    "df[\"Price\"] = df[\"Price\"].apply(lambda x: float(x.replace(\",\", \"\")))\n",
    "df[\"Mileage\"] = df[\"Mileage\"].apply(lambda x: float(x.replace(\",\", \"\")))\n",
    "\n",
    "df_train, df_test = train_test_split(df, test_size=0.2, random_state=42)"
   ]
  },
  {
   "cell_type": "code",
   "execution_count": 125,
   "metadata": {},
   "outputs": [
    {
     "data": {
      "text/plain": [
       "['trained_models\\\\price_scaler.joblib']"
      ]
     },
     "execution_count": 125,
     "metadata": {},
     "output_type": "execute_result"
    }
   ],
   "source": [
    "# Create the encoder and scaler objects. These should actually be fitted only on the training data.\n",
    "ohe = OneHotEncoder(handle_unknown='ignore', sparse=False)\n",
    "year_scaler = MinMaxScaler()\n",
    "mileage_scaler = MinMaxScaler()\n",
    "price_scaler = MinMaxScaler()\n",
    "\n",
    "# Fit the encoder and scaler objects on the training data.\n",
    "ohe.fit(df[CATEGORICAL_COLUMNS])\n",
    "year_scaler.fit(df_train[[\"Year\"]])\n",
    "mileage_scaler.fit(df_train[[\"Mileage\"]])\n",
    "price_scaler.fit(df_train[[\"Price\"]])\n",
    "\n",
    "# Save the encoder and scaler objects.\n",
    "save_dir = \"trained_models\"\n",
    "os.makedirs(save_dir, exist_ok=True)\n",
    "joblib.dump(ohe, op.join(save_dir, \"one_hot_encoder.joblib\"))\n",
    "joblib.dump(year_scaler, op.join(save_dir, \"year_scaler.joblib\"))\n",
    "joblib.dump(mileage_scaler, op.join(save_dir, \"mileage_scaler.joblib\"))\n",
    "joblib.dump(price_scaler, op.join(save_dir, \"price_scaler.joblib\"))"
   ]
  },
  {
   "cell_type": "code",
   "execution_count": 126,
   "metadata": {},
   "outputs": [],
   "source": [
    "scaler_dict = {\n",
    "    \"Year\": year_scaler,\n",
    "    \"Mileage\": mileage_scaler,\n",
    "    \"Price\": price_scaler,\n",
    "}\n",
    "\n",
    "x_train = preprocess_dataframe(df_train, one_hot_encoder=ohe, scaler_dictionary = scaler_dict)\n",
    "y_train = scaler_dict[\"Price\"].transform(df_train[[\"Price\"]])"
   ]
  },
  {
   "cell_type": "code",
   "execution_count": 127,
   "metadata": {
    "colab": {
     "base_uri": "https://localhost:8080/"
    },
    "id": "QUxSUR6yZI0J",
    "outputId": "591066f8-dd56-4204-a042-9c9adccdd6d4"
   },
   "outputs": [
    {
     "data": {
      "text/html": [
       "<style>#sk-container-id-5 {color: black;background-color: white;}#sk-container-id-5 pre{padding: 0;}#sk-container-id-5 div.sk-toggleable {background-color: white;}#sk-container-id-5 label.sk-toggleable__label {cursor: pointer;display: block;width: 100%;margin-bottom: 0;padding: 0.3em;box-sizing: border-box;text-align: center;}#sk-container-id-5 label.sk-toggleable__label-arrow:before {content: \"▸\";float: left;margin-right: 0.25em;color: #696969;}#sk-container-id-5 label.sk-toggleable__label-arrow:hover:before {color: black;}#sk-container-id-5 div.sk-estimator:hover label.sk-toggleable__label-arrow:before {color: black;}#sk-container-id-5 div.sk-toggleable__content {max-height: 0;max-width: 0;overflow: hidden;text-align: left;background-color: #f0f8ff;}#sk-container-id-5 div.sk-toggleable__content pre {margin: 0.2em;color: black;border-radius: 0.25em;background-color: #f0f8ff;}#sk-container-id-5 input.sk-toggleable__control:checked~div.sk-toggleable__content {max-height: 200px;max-width: 100%;overflow: auto;}#sk-container-id-5 input.sk-toggleable__control:checked~label.sk-toggleable__label-arrow:before {content: \"▾\";}#sk-container-id-5 div.sk-estimator input.sk-toggleable__control:checked~label.sk-toggleable__label {background-color: #d4ebff;}#sk-container-id-5 div.sk-label input.sk-toggleable__control:checked~label.sk-toggleable__label {background-color: #d4ebff;}#sk-container-id-5 input.sk-hidden--visually {border: 0;clip: rect(1px 1px 1px 1px);clip: rect(1px, 1px, 1px, 1px);height: 1px;margin: -1px;overflow: hidden;padding: 0;position: absolute;width: 1px;}#sk-container-id-5 div.sk-estimator {font-family: monospace;background-color: #f0f8ff;border: 1px dotted black;border-radius: 0.25em;box-sizing: border-box;margin-bottom: 0.5em;}#sk-container-id-5 div.sk-estimator:hover {background-color: #d4ebff;}#sk-container-id-5 div.sk-parallel-item::after {content: \"\";width: 100%;border-bottom: 1px solid gray;flex-grow: 1;}#sk-container-id-5 div.sk-label:hover label.sk-toggleable__label {background-color: #d4ebff;}#sk-container-id-5 div.sk-serial::before {content: \"\";position: absolute;border-left: 1px solid gray;box-sizing: border-box;top: 0;bottom: 0;left: 50%;z-index: 0;}#sk-container-id-5 div.sk-serial {display: flex;flex-direction: column;align-items: center;background-color: white;padding-right: 0.2em;padding-left: 0.2em;position: relative;}#sk-container-id-5 div.sk-item {position: relative;z-index: 1;}#sk-container-id-5 div.sk-parallel {display: flex;align-items: stretch;justify-content: center;background-color: white;position: relative;}#sk-container-id-5 div.sk-item::before, #sk-container-id-5 div.sk-parallel-item::before {content: \"\";position: absolute;border-left: 1px solid gray;box-sizing: border-box;top: 0;bottom: 0;left: 50%;z-index: -1;}#sk-container-id-5 div.sk-parallel-item {display: flex;flex-direction: column;z-index: 1;position: relative;background-color: white;}#sk-container-id-5 div.sk-parallel-item:first-child::after {align-self: flex-end;width: 50%;}#sk-container-id-5 div.sk-parallel-item:last-child::after {align-self: flex-start;width: 50%;}#sk-container-id-5 div.sk-parallel-item:only-child::after {width: 0;}#sk-container-id-5 div.sk-dashed-wrapped {border: 1px dashed gray;margin: 0 0.4em 0.5em 0.4em;box-sizing: border-box;padding-bottom: 0.4em;background-color: white;}#sk-container-id-5 div.sk-label label {font-family: monospace;font-weight: bold;display: inline-block;line-height: 1.2em;}#sk-container-id-5 div.sk-label-container {text-align: center;}#sk-container-id-5 div.sk-container {/* jupyter's `normalize.less` sets `[hidden] { display: none; }` but bootstrap.min.css set `[hidden] { display: none !important; }` so we also need the `!important` here to be able to override the default hidden behavior on the sphinx rendered scikit-learn.org. See: https://github.com/scikit-learn/scikit-learn/issues/21755 */display: inline-block !important;position: relative;}#sk-container-id-5 div.sk-text-repr-fallback {display: none;}</style><div id=\"sk-container-id-5\" class=\"sk-top-container\"><div class=\"sk-text-repr-fallback\"><pre>LinearRegression()</pre><b>In a Jupyter environment, please rerun this cell to show the HTML representation or trust the notebook. <br />On GitHub, the HTML representation is unable to render, please try loading this page with nbviewer.org.</b></div><div class=\"sk-container\" hidden><div class=\"sk-item\"><div class=\"sk-estimator sk-toggleable\"><input class=\"sk-toggleable__control sk-hidden--visually\" id=\"sk-estimator-id-5\" type=\"checkbox\" checked><label for=\"sk-estimator-id-5\" class=\"sk-toggleable__label sk-toggleable__label-arrow\">LinearRegression</label><div class=\"sk-toggleable__content\"><pre>LinearRegression()</pre></div></div></div></div></div>"
      ],
      "text/plain": [
       "LinearRegression()"
      ]
     },
     "execution_count": 127,
     "metadata": {},
     "output_type": "execute_result"
    }
   ],
   "source": [
    "# Fit a linear regression model to the training data.\n",
    "lr_model = LinearRegression()\n",
    "lr_model.fit(x_train, y_train)"
   ]
  },
  {
   "cell_type": "code",
   "execution_count": 128,
   "metadata": {
    "colab": {
     "base_uri": "https://localhost:8080/"
    },
    "id": "FsWLgpDOZI0J",
    "outputId": "5ebbfe36-2de2-4416-ac1d-289670f3eb43"
   },
   "outputs": [
    {
     "data": {
      "text/plain": [
       "(1480, 1)"
      ]
     },
     "execution_count": 128,
     "metadata": {},
     "output_type": "execute_result"
    }
   ],
   "source": [
    "x_test = preprocess_dataframe(df_test, one_hot_encoder=ohe, scaler_dictionary = scaler_dict)\n",
    "y_test = scaler_dict[\"Price\"].transform(df_test[[\"Price\"]])\n",
    "\n",
    "predictions = lr_model.predict(x_test)\n",
    "predictions.shape"
   ]
  },
  {
   "cell_type": "markdown",
   "metadata": {
    "id": "XARKHyLhZI0K"
   },
   "source": [
    "### Evaluate the model on the test set with Mean Squared Error"
   ]
  },
  {
   "cell_type": "code",
   "execution_count": 129,
   "metadata": {
    "colab": {
     "base_uri": "https://localhost:8080/"
    },
    "id": "YSb64m6tZI0K",
    "outputId": "0958dde6-5f7d-4d19-855e-96613c9c70ee"
   },
   "outputs": [
    {
     "data": {
      "text/plain": [
       "1.9338031533663199e+18"
      ]
     },
     "execution_count": 129,
     "metadata": {},
     "output_type": "execute_result"
    }
   ],
   "source": [
    "# Calculate the mean squared error.\n",
    "mean_squared_error(predictions, y_test)"
   ]
  },
  {
   "cell_type": "code",
   "execution_count": 130,
   "metadata": {
    "colab": {
     "base_uri": "https://localhost:8080/",
     "height": 279
    },
    "id": "R2rPon4CZI0K",
    "outputId": "333c5872-0eb6-4755-fdff-07ebd632c0e9"
   },
   "outputs": [
    {
     "data": {
      "image/png": "[encoded data removed]",
      "text/plain": [
       "<Figure size 432x288 with 1 Axes>"
      ]
     },
     "metadata": {
      "needs_background": "light"
     },
     "output_type": "display_data"
    }
   ],
   "source": [
    "# Plot a perfect prediction line.\n",
    "plt.plot([0, 1], [0, 1],  \"--\", color=\"black\",)\n",
    "# Plot the predictions vs the actual values.\n",
    "plt.Figure(figsize=(10, 10))\n",
    "plt.scatter(predictions, y_test, alpha=0.2)\n",
    "\n",
    "plt.xlabel(\"Predictions value\")\n",
    "plt.ylabel(\"Actual value\")\n",
    "plt.title(\"Predictions vs Actual\")\n",
    "plt.xlim(0, 1)\n",
    "plt.ylim(0, 1)\n",
    "plt.show()"
   ]
  },
  {
   "cell_type": "code",
   "execution_count": 131,
   "metadata": {},
   "outputs": [
    {
     "data": {
      "text/plain": [
       "['trained_models/carprice_model_linear_regression.joblib']"
      ]
     },
     "execution_count": 131,
     "metadata": {},
     "output_type": "execute_result"
    }
   ],
   "source": [
    "joblib.dump(lr_model, \"trained_models/carprice_model_linear_regression.joblib\")"
   ]
  },
  {
   "cell_type": "markdown",
   "metadata": {
    "id": "3wvVjwnkZI0K"
   },
   "source": [
    "## **Train a simple Neural Network**"
   ]
  },
  {
   "cell_type": "code",
   "execution_count": 74,
   "metadata": {
    "id": "cRVX8bSxZI0L"
   },
   "outputs": [],
   "source": [
    "from torch.utils.data import Dataset, DataLoader\n",
    "\n",
    "class CarPriceDataset(Dataset):\n",
    "    def __init__(self, X, y):\n",
    "        self.X = X\n",
    "        if y is not None:\n",
    "            self.y = y\n",
    "        else:\n",
    "            self.y = None\n",
    "\n",
    "    def __len__(self):\n",
    "        return len(self.X)\n",
    "\n",
    "    def __getitem__(self, idx):\n",
    "        if self.y is not None:\n",
    "            return self.X[idx], self.y[idx]\n",
    "        else:\n",
    "            return self.X[idx]"
   ]
  },
  {
   "cell_type": "code",
   "execution_count": 77,
   "metadata": {
    "id": "vGYGTD0RZI0L"
   },
   "outputs": [],
   "source": [
    "data_path = \"Rodkaidee Data.csv\"\n",
    "one_hot_encoder_path = \"trained_models/one_hot_encoder.joblib\"\n",
    "one_hot_encoder = joblib.load(one_hot_encoder_path)\n",
    "\n",
    "scaler_dict = {\n",
    "    \"Year\": joblib.load(\"trained_models/year_scaler.joblib\"),\n",
    "    \"Mileage\": joblib.load(\"trained_models/mileage_scaler.joblib\"),\n",
    "    \"Price\": joblib.load(\"trained_models/price_scaler.joblib\"),\n",
    "}"
   ]
  },
  {
   "cell_type": "code",
   "execution_count": 79,
   "metadata": {},
   "outputs": [
    {
     "name": "stdout",
     "output_type": "stream",
     "text": [
      "(5918, 139) (5918, 1)\n"
     ]
    }
   ],
   "source": [
    "df = pd.read_csv(data_path)\n",
    "df[\"Price\"] = df[\"Price\"].apply(lambda x: float(x.replace(\",\", \"\")))\n",
    "df[\"Mileage\"] = df[\"Mileage\"].apply(lambda x: float(x.replace(\",\", \"\")))\n",
    "df_train, df_test = train_test_split(df, test_size=0.2, random_state=42)\n",
    "\n",
    "x_train = preprocess_dataframe(\n",
    "    df_train,\n",
    "    one_hot_encoder = one_hot_encoder,\n",
    "    scaler_dictionary = scaler_dict,\n",
    "    )\n",
    "y_train = scaler_dict[\"Price\"].transform(df_train[[\"Price\"]])\n",
    "y_train = y_train.reshape(-1, 1)\n",
    "\n",
    "x_test = preprocess_dataframe(\n",
    "    df_test,\n",
    "    one_hot_encoder = one_hot_encoder,\n",
    "    scaler_dictionary = scaler_dict,\n",
    ")\n",
    "y_test = scaler_dict[\"Price\"].transform(df_test[[\"Price\"]])\n",
    "y_test = y_test.reshape(-1, 1)\n",
    "print(x_train.shape, y_train.shape)"
   ]
  },
  {
   "cell_type": "code",
   "execution_count": 80,
   "metadata": {},
   "outputs": [],
   "source": [
    "train_dataset = CarPriceDataset(x_train, y_train)\n",
    "test_dataset = CarPriceDataset(x_test, y_test)\n",
    "\n",
    "train_dataloader = DataLoader(train_dataset, batch_size=32, shuffle=True)\n",
    "test_dataloader = DataLoader(test_dataset, batch_size=32, shuffle=False)\n",
    "\n",
    "# x_sample, y_sample = next(iter(train_dataloader))\n",
    "# x_sample, y_sample"
   ]
  },
  {
   "cell_type": "code",
   "execution_count": 81,
   "metadata": {
    "id": "zSvDE-GjZI0L"
   },
   "outputs": [],
   "source": [
    "class CarPriceModel(nn.Module):\n",
    "    def __init__(self, input_size, output_size):\n",
    "        super().__init__()\n",
    "        self.linear = nn.Linear(input_size, output_size)\n",
    "\n",
    "    def forward(self, x):\n",
    "        out = self.linear(x)\n",
    "        return out"
   ]
  },
  {
   "cell_type": "code",
   "execution_count": 82,
   "metadata": {
    "colab": {
     "base_uri": "https://localhost:8080/"
    },
    "id": "YXdDQUJXZI0L",
    "outputId": "90207a30-2e2d-4a54-c7db-a5be651b9814"
   },
   "outputs": [
    {
     "data": {
      "text/plain": [
       "CarPriceModel(\n",
       "  (linear): Linear(in_features=139, out_features=1, bias=True)\n",
       ")"
      ]
     },
     "execution_count": 82,
     "metadata": {},
     "output_type": "execute_result"
    }
   ],
   "source": [
    "model = CarPriceModel(input_size=x_train.shape[1], output_size=y_train.shape[1])\n",
    "model"
   ]
  },
  {
   "cell_type": "code",
   "execution_count": 85,
   "metadata": {},
   "outputs": [],
   "source": [
    "def train(\n",
    "    model,\n",
    "    train_dataloader,\n",
    "    test_dataloader,\n",
    "    optimizer,\n",
    "    loss_fn = nn.MSELoss(reduction='mean'),\n",
    "    num_epochs = 100,\n",
    "    update_frequency = 10,\n",
    "    ):\n",
    "    for epoch in tqdm(range(num_epochs)):\n",
    "        # Set the model to training mode.\n",
    "        model.train()\n",
    "        for x, y in train_dataloader:\n",
    "            # Forward pass.\n",
    "            y_pred = model(x.float())\n",
    "            # Calculate the loss.\n",
    "            loss = loss_fn(y_pred, y.float())\n",
    "            # Backward pass.\n",
    "            loss.backward()\n",
    "            # Update the model parameters.\n",
    "            optimizer.step()\n",
    "            # Reset the gradients.\n",
    "            optimizer.zero_grad()\n",
    "\n",
    "        # Set the model to evaluation mode and calculate the test loss at the end of each epoch.\n",
    "        model.eval()\n",
    "        with torch.no_grad():\n",
    "            for x, y in test_dataloader:\n",
    "                # Forward pass.\n",
    "                y_pred = model(x.float())\n",
    "                # Calculate the loss.\n",
    "                loss = loss_fn(y_pred, y.float())\n",
    "\n",
    "            # Print the loss if the epoch is a multiple of 10.\n",
    "            if epoch % update_frequency == 0:\n",
    "                print(f\"Epoch {epoch}: {loss.item()}\")\n",
    "\n",
    "def predict(model, test_dataloader):\n",
    "    model.eval()\n",
    "    prediction_list = []\n",
    "    actual_y_list = []\n",
    "    for x, y in test_dataloader:\n",
    "        y_pred = model(x.float())\n",
    "        prediction = y_pred.detach().numpy()\n",
    "        y = y.numpy()\n",
    "        prediction_list.append(prediction)\n",
    "        actual_y_list.append(y)\n",
    "    return prediction_list, actual_y_list"
   ]
  },
  {
   "cell_type": "code",
   "execution_count": 86,
   "metadata": {
    "colab": {
     "base_uri": "https://localhost:8080/",
     "height": 257,
     "referenced_widgets": [
      "7fe8e4c2acef4adea2cf9fef39795c5e",
      "d9839160a7c2408696d83767c13c651c",
      "18aaab3bd8ba48c9b533fe256fc39d82",
      "817c8d5cdab74e59a13f39e1996e4d89",
      "9aacca6b17e4468f9692fbb15780b579",
      "5a6e75a00ec9490497ac5eb820fdc9e8",
      "fbe80d8dafd0475d8b530f4356a36350",
      "f4b59508c0554f9198dbd1be61e02b27",
      "e426086a0edd48099e1eb39e8c1f1550",
      "14c540053b324b83a58d665d53b695c9",
      "3805565dc03c44b89127ec2b8d499e7b"
     ]
    },
    "id": "KUPnOccyZI0M",
    "outputId": "8e49f91e-6ecb-40af-b57b-46123977c0d9"
   },
   "outputs": [
    {
     "data": {
      "application/vnd.jupyter.widget-view+json": {
       "model_id": "7a02eb9571424c508cc626d8efd40c16",
       "version_major": 2,
       "version_minor": 0
      },
      "text/plain": [
       "  0%|          | 0/120 [00:00<?, ?it/s]"
      ]
     },
     "metadata": {},
     "output_type": "display_data"
    },
    {
     "name": "stdout",
     "output_type": "stream",
     "text": [
      "Epoch 0: 0.003363352967426181\n",
      "Epoch 10: 0.001201561070047319\n",
      "Epoch 20: 0.0009836956160143018\n",
      "Epoch 30: 0.0019843983463943005\n",
      "Epoch 40: 0.001322674797847867\n",
      "Epoch 50: 0.0017028943402692676\n",
      "Epoch 60: 0.0012213578447699547\n",
      "Epoch 70: 0.0016371775418519974\n",
      "Epoch 80: 0.0016547015402466059\n",
      "Epoch 90: 0.001410448458045721\n",
      "Epoch 100: 0.0015030113281682134\n",
      "Epoch 110: 0.0012209414271637797\n"
     ]
    }
   ],
   "source": [
    "# Define the loss function and the optimizer.\n",
    "learning_rate = 1e-3 # = 0.001\n",
    "loss_fn = nn.MSELoss(reduction=\"mean\")\n",
    "optimizer = torch.optim.Adam(model.parameters(), lr=learning_rate)\n",
    "\n",
    "# Train the model.\n",
    "num_epochs = 120\n",
    "update_frequency = 10\n",
    "\n",
    "train(\n",
    "    model = model,\n",
    "    train_dataloader = train_dataloader,\n",
    "    test_dataloader = test_dataloader,\n",
    "    optimizer = optimizer,\n",
    "    loss_fn = loss_fn,\n",
    "    num_epochs = num_epochs,\n",
    "    update_frequency = update_frequency,\n",
    "    )"
   ]
  },
  {
   "cell_type": "markdown",
   "metadata": {
    "id": "lIYyFW3QZI0M"
   },
   "source": [
    "### Evaluate the model on the test set with Mean Squared Error"
   ]
  },
  {
   "cell_type": "code",
   "execution_count": 87,
   "metadata": {
    "id": "pbGtQYsRZI0M"
   },
   "outputs": [],
   "source": [
    "# Get the predictions for the test set.\n",
    "prediction_list, actual_y_list = predict(model, test_dataloader)"
   ]
  },
  {
   "cell_type": "code",
   "execution_count": 88,
   "metadata": {
    "colab": {
     "base_uri": "https://localhost:8080/"
    },
    "id": "BmcaecNgZI0M",
    "outputId": "14d03db8-9c01-4451-df5d-1ac018ec5f8b"
   },
   "outputs": [
    {
     "data": {
      "text/plain": [
       "0.0032026244920527664"
      ]
     },
     "execution_count": 88,
     "metadata": {},
     "output_type": "execute_result"
    }
   ],
   "source": [
    "actual_y_array = np.concatenate(actual_y_list)\n",
    "prediction_array = np.concatenate(prediction_list)\n",
    "mean_squared_error(prediction_array, actual_y_array)"
   ]
  },
  {
   "cell_type": "code",
   "execution_count": 99,
   "metadata": {
    "colab": {
     "base_uri": "https://localhost:8080/",
     "height": 279
    },
    "id": "S6AvZKUvZI0N",
    "outputId": "c6bda80a-64a0-43a9-fe2b-fc4215541c7d"
   },
   "outputs": [
    {
     "data": {
      "image/png": "[encoded data removed]",
      "text/plain": [
       "<Figure size 432x288 with 1 Axes>"
      ]
     },
     "metadata": {
      "needs_background": "light"
     },
     "output_type": "display_data"
    }
   ],
   "source": [
    "# Plot a perfect prediction line.\n",
    "plt.plot([0, 1], [0, 1],  \"--\", color=\"black\",)\n",
    "# Plot the predictions vs the actual values.\n",
    "plt.scatter(prediction_array, actual_y_array, alpha=0.2)\n",
    "\n",
    "plt.xlabel(\"Predictions\")\n",
    "plt.ylabel(\"Actual\")\n",
    "plt.title(\"Predictions vs Actual\")\n",
    "plt.xlim(0, 1)\n",
    "plt.ylim(0, 1)\n",
    "plt.show()"
   ]
  },
  {
   "cell_type": "code",
   "execution_count": 100,
   "metadata": {},
   "outputs": [],
   "source": [
    "torch.save(model.state_dict(), \"trained_models/carprice_model_mse_003.pth\")"
   ]
  },
  {
   "cell_type": "markdown",
   "metadata": {},
   "source": [
    "## **Train a Neural Network with multiple layers (MLP)**"
   ]
  },
  {
   "cell_type": "code",
   "execution_count": 101,
   "metadata": {},
   "outputs": [],
   "source": [
    "class CarPriceDoubleModel(nn.Module):\n",
    "    def __init__(self, input_size, output_size, intermediate_dim = 10):\n",
    "        super().__init__()\n",
    "        self.linear1 = nn.Linear(input_size, intermediate_dim)\n",
    "        self.linear2 = nn.Linear(intermediate_dim, output_size)\n",
    "        self.relu = nn.ReLU()\n",
    "\n",
    "    def forward(self, x):\n",
    "        x = self.linear1(x)\n",
    "        x = self.relu(x)\n",
    "        x = self.linear2(x)\n",
    "        return x\n",
    "\n",
    "double_model = CarPriceDoubleModel(input_size=x_train.shape[1], output_size=y_train.shape[1])"
   ]
  },
  {
   "cell_type": "code",
   "execution_count": 102,
   "metadata": {},
   "outputs": [
    {
     "data": {
      "application/vnd.jupyter.widget-view+json": {
       "model_id": "a65ec5add72f407aba3f118837778c71",
       "version_major": 2,
       "version_minor": 0
      },
      "text/plain": [
       "  0%|          | 0/120 [00:00<?, ?it/s]"
      ]
     },
     "metadata": {},
     "output_type": "display_data"
    },
    {
     "name": "stdout",
     "output_type": "stream",
     "text": [
      "Epoch 0: 0.019071556627750397\n",
      "Epoch 10: 0.0020865602418780327\n",
      "Epoch 20: 0.0015041530132293701\n",
      "Epoch 30: 0.0011783149093389511\n",
      "Epoch 40: 0.001694084145128727\n",
      "Epoch 50: 0.0007723381859250367\n",
      "Epoch 60: 0.001313975197263062\n",
      "Epoch 70: 0.0013191686011850834\n",
      "Epoch 80: 0.00105943507514894\n",
      "Epoch 90: 0.0014375465689226985\n",
      "Epoch 100: 0.0012544584460556507\n",
      "Epoch 110: 0.0012795061338692904\n"
     ]
    }
   ],
   "source": [
    "# Define the loss function and the optimizer.\n",
    "learning_rate = 1e-3 # = 0.001\n",
    "loss_fn = nn.MSELoss(reduction=\"mean\")\n",
    "optimizer = torch.optim.Adam(double_model.parameters(), lr=learning_rate)\n",
    "\n",
    "# Train the model.\n",
    "num_epochs = 120\n",
    "update_frequency = 10\n",
    "\n",
    "train(\n",
    "    model = double_model,\n",
    "    train_dataloader = train_dataloader,\n",
    "    test_dataloader = test_dataloader,\n",
    "    optimizer = optimizer,\n",
    "    loss_fn = loss_fn,\n",
    "    num_epochs = num_epochs,\n",
    "    update_frequency = update_frequency,\n",
    "    )"
   ]
  },
  {
   "cell_type": "code",
   "execution_count": 104,
   "metadata": {},
   "outputs": [
    {
     "data": {
      "text/plain": [
       "0.0022745948065439883"
      ]
     },
     "execution_count": 104,
     "metadata": {},
     "output_type": "execute_result"
    }
   ],
   "source": [
    "prediction_list, actual_y_list = predict(double_model, test_dataloader)\n",
    "prediction_array = np.concatenate(prediction_list)\n",
    "actual_y_array = np.concatenate(actual_y_list)\n",
    "mse_score = mean_squared_error(prediction_array, actual_y_array)\n",
    "mse_score"
   ]
  },
  {
   "cell_type": "code",
   "execution_count": 105,
   "metadata": {},
   "outputs": [
    {
     "data": {
      "image/png": "[encoded data removed]",
      "text/plain": [
       "<Figure size 432x288 with 1 Axes>"
      ]
     },
     "metadata": {
      "needs_background": "light"
     },
     "output_type": "display_data"
    }
   ],
   "source": [
    "# Plot a perfect prediction line.\n",
    "plt.plot([0, 1], [0, 1],  \"--\", color=\"black\",)\n",
    "# Plot the predictions vs the actual values.\n",
    "plt.scatter(prediction_array, actual_y_array, alpha=0.2)\n",
    "\n",
    "plt.xlabel(\"Predictions value\")\n",
    "plt.ylabel(\"Actual value\")\n",
    "plt.title(\"Predictions vs Actual\")\n",
    "plt.xlim(0, 1)\n",
    "plt.ylim(0, 1)\n",
    "plt.show()"
   ]
  },
  {
   "cell_type": "code",
   "execution_count": 107,
   "metadata": {},
   "outputs": [],
   "source": [
    "mse_identifier = round(mse_score, 5)\n",
    "mse_identifier = str(mse_identifier).replace(\".\", \"\")\n",
    "\n",
    "torch.save(double_model.state_dict(), f\"trained_models/carprice_double_model_mse_{mse_identifier}.pth\")"
   ]
  },
  {
   "cell_type": "markdown",
   "metadata": {
    "id": "NgiMit2wZI0N"
   },
   "source": [
    "## **Use the models to predict on new data**"
   ]
  },
  {
   "cell_type": "code",
   "execution_count": 113,
   "metadata": {},
   "outputs": [],
   "source": [
    "CATEGORICAL_COLUMNS = [\"Brand\", \"Model\", \"Engine\", \"Segment\", \"Province\", \"Color\"]\n",
    "NUMERIC_COLUMNS = [\"Year\", \"Mileage\"]\n",
    "\n",
    "class CarPriceModel(nn.Module):\n",
    "    def __init__(self, input_size, output_size):\n",
    "        super().__init__()\n",
    "        self.linear = nn.Linear(input_size, output_size)\n",
    "\n",
    "    def forward(self, x):\n",
    "        out = self.linear(x)\n",
    "        return out\n",
    "\n",
    "def preprocess_dataframe(\n",
    "    dataframe: pd.DataFrame,\n",
    "    one_hot_encoder : OneHotEncoder,\n",
    "    scaler_dictionary: dict,\n",
    "    ) -> pd.DataFrame:\n",
    "    \"\"\"\n",
    "    Preprocesses a dataframe by applying one-hot encoding to the categorical columns and scaling the numeric columns.\n",
    "    \"\"\"\n",
    "    # Apply one-hot encoding to categorical columns.\n",
    "    cat_feature_array = one_hot_encoder.transform(dataframe[CATEGORICAL_COLUMNS])\n",
    "\n",
    "    # Scale numeric values to be between 0 and 1.\n",
    "    scaled_feature_list = []\n",
    "    for col in NUMERIC_COLUMNS:\n",
    "        scaled_feature_array = scaler_dictionary[col].transform(dataframe[[col]])\n",
    "        scaled_feature_list.append(scaled_feature_array)\n",
    "    # Concatenate the numeric features.\n",
    "    numeric_feature_array = np.hstack(scaled_feature_list)\n",
    "\n",
    "    # Concatenate the categorical features and the numeric features.\n",
    "    preprocessed_feature_array = np.hstack((cat_feature_array, numeric_feature_array))\n",
    "    return preprocessed_feature_array\n",
    "\n",
    "@torch.no_grad()\n",
    "def pytorch_predict_car_price(\n",
    "    dataframe: pd.DataFrame,\n",
    "    model: CarPriceModel,\n",
    "    one_hot_encoder : OneHotEncoder,\n",
    "    scaler_dictionary: dict,\n",
    "    ) -> float:\n",
    "    \"\"\"\n",
    "    Predicts car price from a dataframe with the given pytorch model.\n",
    "    \"\"\"\n",
    "    model.eval()\n",
    "    preprocessed_feature_array = preprocess_dataframe(\n",
    "        dataframe = dataframe,\n",
    "        one_hot_encoder=one_hot_encoder,\n",
    "        scaler_dictionary=scaler_dictionary,\n",
    "        )\n",
    "    preprocessed_feature_tensor = torch.from_numpy(preprocessed_feature_array)\n",
    "    prediction_tensor = model(preprocessed_feature_tensor.float())\n",
    "    prediction_array = prediction_tensor.detach().numpy()\n",
    "    # Scale the prediction back to the original scale.\n",
    "    prediction_array = scaler_dictionary[\"Price\"].inverse_transform(prediction_array)\n",
    "    return prediction_array\n",
    "\n",
    "\n",
    "def sklearn_predict_car_price(\n",
    "    dataframe: pd.DataFrame,\n",
    "    sklearn_model: LinearRegression,\n",
    "    one_hot_encoder : OneHotEncoder,\n",
    "    scaler_dictionary: dict,\n",
    "    ) -> float:\n",
    "    \"\"\"\n",
    "    Predicts car price from a dataframe with the given sklearn model.\n",
    "    \"\"\"\n",
    "    preprocessed_feature_array = preprocess_dataframe(\n",
    "        dataframe = dataframe,\n",
    "        one_hot_encoder=one_hot_encoder,\n",
    "        scaler_dictionary=scaler_dictionary,\n",
    "        )\n",
    "    prediction_array = sklearn_model.predict(preprocessed_feature_array)\n",
    "    # Scale the prediction back to the original scale.\n",
    "    prediction_array = scaler_dictionary[\"Price\"].inverse_transform(prediction_array)\n",
    "    return prediction_array"
   ]
  },
  {
   "cell_type": "code",
   "execution_count": 114,
   "metadata": {},
   "outputs": [],
   "source": [
    "data_path = \"Rodkaidee Data.csv\"\n",
    "one_hot_encoder_path = \"trained_models/one_hot_encoder.joblib\"\n",
    "year_scaler_path = \"trained_models/year_scaler.joblib\"\n",
    "mileage_scaler_path = \"trained_models/mileage_scaler.joblib\"\n",
    "price_scaler_path = \"trained_models/price_scaler.joblib\"\n",
    "\n",
    "one_hot_encoder = joblib.load(one_hot_encoder_path)\n",
    "scaler_dict = {\n",
    "    \"Year\": joblib.load(year_scaler_path),\n",
    "    \"Mileage\": joblib.load(mileage_scaler_path),\n",
    "    \"Price\": joblib.load(price_scaler_path),\n",
    "}"
   ]
  },
  {
   "cell_type": "markdown",
   "metadata": {},
   "source": [
    "Using Pytorch model to predict car price"
   ]
  },
  {
   "cell_type": "code",
   "execution_count": 118,
   "metadata": {},
   "outputs": [],
   "source": [
    "model = CarPriceModel(139, 1)\n",
    "model.load_state_dict(torch.load(\"trained_models/carprice_model_mse_003.pth\"))\n",
    "\n",
    "df = pd.read_csv(data_path)\n",
    "df[\"Price\"] = df[\"Price\"].apply(lambda x: float(x.replace(\",\", \"\")))\n",
    "df[\"Mileage\"] = df[\"Mileage\"].apply(lambda x: float(x.replace(\",\", \"\")))\n",
    "\n",
    "_, df_test = train_test_split(df, test_size=0.2, random_state=42)\n",
    "\n",
    "predictions = pytorch_predict_car_price(\n",
    "    dataframe=df_test,\n",
    "    model=model,\n",
    "    one_hot_encoder = one_hot_encoder,\n",
    "    scaler_dictionary=scaler_dict,\n",
    ")"
   ]
  },
  {
   "cell_type": "markdown",
   "metadata": {},
   "source": [
    "Using scikit-learn to predict car price"
   ]
  },
  {
   "cell_type": "code",
   "execution_count": 132,
   "metadata": {},
   "outputs": [],
   "source": [
    "lr_model = joblib.load(\"trained_models/carprice_model_linear_regression.joblib\")\n",
    "\n",
    "df = pd.read_csv(data_path)\n",
    "df[\"Price\"] = df[\"Price\"].apply(lambda x: float(x.replace(\",\", \"\")))\n",
    "df[\"Mileage\"] = df[\"Mileage\"].apply(lambda x: float(x.replace(\",\", \"\")))\n",
    "\n",
    "_, df_test = train_test_split(df, test_size=0.2, random_state=42)\n",
    "\n",
    "predictions = sklearn_predict_car_price(\n",
    "    dataframe=df_test,\n",
    "    sklearn_model=lr_model,\n",
    "    one_hot_encoder = one_hot_encoder,\n",
    "    scaler_dictionary=scaler_dict,\n",
    ")"
   ]
  },
  {
   "cell_type": "markdown",
   "metadata": {},
   "source": [
    "## Step-by-step guide to model usage"
   ]
  },
  {
   "cell_type": "code",
   "execution_count": 133,
   "metadata": {},
   "outputs": [],
   "source": [
    "data_path = \"Rodkaidee Data.csv\"\n",
    "one_hot_encoder_path = \"trained_models/one_hot_encoder.joblib\"\n",
    "year_scaler_path = \"trained_models/year_scaler.joblib\"\n",
    "mileage_scaler_path = \"trained_models/mileage_scaler.joblib\"\n",
    "price_scaler_path = \"trained_models/price_scaler.joblib\"\n",
    "\n",
    "one_hot_encoder = joblib.load(one_hot_encoder_path)\n",
    "scaler_dict = {\n",
    "    \"Year\": joblib.load(year_scaler_path),\n",
    "    \"Mileage\": joblib.load(mileage_scaler_path),\n",
    "    \"Price\": joblib.load(price_scaler_path),\n",
    "}"
   ]
  },
  {
   "cell_type": "code",
   "execution_count": 159,
   "metadata": {},
   "outputs": [],
   "source": [
    "df = pd.read_csv(data_path)\n",
    "df[\"Price\"] = df[\"Price\"].apply(lambda x: float(x.replace(\",\", \"\")))\n",
    "df[\"Mileage\"] = df[\"Mileage\"].apply(lambda x: float(x.replace(\",\", \"\")))\n",
    "\n",
    "_, df_test = train_test_split(df, test_size=0.2, random_state=42)"
   ]
  },
  {
   "cell_type": "code",
   "execution_count": 169,
   "metadata": {},
   "outputs": [],
   "source": [
    "# Apply one-hot encoding to categorical columns.\n",
    "cat_feature_array = one_hot_encoder.transform(df_test[CATEGORICAL_COLUMNS])\n",
    "\n",
    "# Scale numeric values to be between 0 and 1.\n",
    "scaled_feature_list = []\n",
    "for col in NUMERIC_COLUMNS:\n",
    "    scaled_feature_array = scaler_dict[col].transform(df_test[[col]])\n",
    "    scaled_feature_list.append(scaled_feature_array)\n",
    "\n",
    "# Concatenate the numeric features.\n",
    "numeric_feature_array = np.hstack(scaled_feature_list)\n",
    "\n",
    "# Concatenate the categorical features and the numeric features.\n",
    "preprocessed_feature_array = np.hstack((cat_feature_array, numeric_feature_array))"
   ]
  },
  {
   "cell_type": "code",
   "execution_count": 174,
   "metadata": {},
   "outputs": [],
   "source": [
    "model = CarPriceModel(139, 1)\n",
    "model.load_state_dict(torch.load(\"trained_models/carprice_model_mse_003.pth\"))\n",
    "model.eval()\n",
    "\n",
    "carprice_dataset = CarPriceDataset(X=preprocessed_feature_array, y=None)\n",
    "carprice_dataloader = DataLoader(carprice_dataset, batch_size=32, shuffle=False)"
   ]
  },
  {
   "cell_type": "code",
   "execution_count": 178,
   "metadata": {},
   "outputs": [],
   "source": [
    "preprocessed_feature_tensor = torch.from_numpy(preprocessed_feature_array)\n",
    "prediction_tensor = model(preprocessed_feature_tensor.float())\n",
    "prediction_array = prediction_tensor.detach().numpy()\n",
    "\n",
    "df_test[\"Predicted_price\"] = scaler_dict[\"Price\"].inverse_transform(prediction_array)"
   ]
  },
  {
   "cell_type": "code",
   "execution_count": 179,
   "metadata": {},
   "outputs": [
    {
     "data": {
      "text/html": [
       "<div>\n",
       "<style scoped>\n",
       "    .dataframe tbody tr th:only-of-type {\n",
       "        vertical-align: middle;\n",
       "    }\n",
       "\n",
       "    .dataframe tbody tr th {\n",
       "        vertical-align: top;\n",
       "    }\n",
       "\n",
       "    .dataframe thead th {\n",
       "        text-align: right;\n",
       "    }\n",
       "</style>\n",
       "<table border=\"1\" class=\"dataframe\">\n",
       "  <thead>\n",
       "    <tr style=\"text-align: right;\">\n",
       "      <th></th>\n",
       "      <th>Brand</th>\n",
       "      <th>Model</th>\n",
       "      <th>Engine</th>\n",
       "      <th>Segment</th>\n",
       "      <th>Year</th>\n",
       "      <th>Mileage</th>\n",
       "      <th>Province</th>\n",
       "      <th>Price</th>\n",
       "      <th>Color</th>\n",
       "      <th>Predicted_price</th>\n",
       "    </tr>\n",
       "  </thead>\n",
       "  <tbody>\n",
       "    <tr>\n",
       "      <th>2473</th>\n",
       "      <td>Nissan</td>\n",
       "      <td>Teana</td>\n",
       "      <td>2.5</td>\n",
       "      <td>D-Segment</td>\n",
       "      <td>2016</td>\n",
       "      <td>74111.0</td>\n",
       "      <td>กรุงเทพมหานคร</td>\n",
       "      <td>619000.0</td>\n",
       "      <td>Black</td>\n",
       "      <td>624746.062500</td>\n",
       "    </tr>\n",
       "    <tr>\n",
       "      <th>6730</th>\n",
       "      <td>Toyota</td>\n",
       "      <td>Altis</td>\n",
       "      <td>1.6</td>\n",
       "      <td>C-Segment</td>\n",
       "      <td>2006</td>\n",
       "      <td>260000.0</td>\n",
       "      <td>กรุงเทพมหานคร</td>\n",
       "      <td>139000.0</td>\n",
       "      <td>Gray</td>\n",
       "      <td>96325.390625</td>\n",
       "    </tr>\n",
       "    <tr>\n",
       "      <th>2847</th>\n",
       "      <td>Honda</td>\n",
       "      <td>City</td>\n",
       "      <td>1.5</td>\n",
       "      <td>B-Segment</td>\n",
       "      <td>2015</td>\n",
       "      <td>95473.0</td>\n",
       "      <td>เชียงใหม่</td>\n",
       "      <td>389000.0</td>\n",
       "      <td>White</td>\n",
       "      <td>412075.312500</td>\n",
       "    </tr>\n",
       "    <tr>\n",
       "      <th>169</th>\n",
       "      <td>Toyota</td>\n",
       "      <td>Yaris</td>\n",
       "      <td>1.2</td>\n",
       "      <td>Eco Car</td>\n",
       "      <td>2020</td>\n",
       "      <td>20000.0</td>\n",
       "      <td>กรุงเทพมหานคร</td>\n",
       "      <td>488000.0</td>\n",
       "      <td>Gray</td>\n",
       "      <td>481886.468750</td>\n",
       "    </tr>\n",
       "    <tr>\n",
       "      <th>2036</th>\n",
       "      <td>Mitsubishi</td>\n",
       "      <td>Attrage</td>\n",
       "      <td>1.2</td>\n",
       "      <td>Eco Car</td>\n",
       "      <td>2016</td>\n",
       "      <td>110000.0</td>\n",
       "      <td>ปทุมธานี</td>\n",
       "      <td>259000.0</td>\n",
       "      <td>Red</td>\n",
       "      <td>268535.031250</td>\n",
       "    </tr>\n",
       "    <tr>\n",
       "      <th>...</th>\n",
       "      <td>...</td>\n",
       "      <td>...</td>\n",
       "      <td>...</td>\n",
       "      <td>...</td>\n",
       "      <td>...</td>\n",
       "      <td>...</td>\n",
       "      <td>...</td>\n",
       "      <td>...</td>\n",
       "      <td>...</td>\n",
       "      <td>...</td>\n",
       "    </tr>\n",
       "    <tr>\n",
       "      <th>210</th>\n",
       "      <td>Toyota</td>\n",
       "      <td>Vios</td>\n",
       "      <td>1.5</td>\n",
       "      <td>B-Segment</td>\n",
       "      <td>2020</td>\n",
       "      <td>14000.0</td>\n",
       "      <td>กรุงเทพมหานคร</td>\n",
       "      <td>539000.0</td>\n",
       "      <td>White</td>\n",
       "      <td>543438.625000</td>\n",
       "    </tr>\n",
       "    <tr>\n",
       "      <th>2484</th>\n",
       "      <td>Nissan</td>\n",
       "      <td>Teana</td>\n",
       "      <td>2.5</td>\n",
       "      <td>D-Segment</td>\n",
       "      <td>2016</td>\n",
       "      <td>100000.0</td>\n",
       "      <td>กรุงเทพมหานคร</td>\n",
       "      <td>629000.0</td>\n",
       "      <td>White</td>\n",
       "      <td>626419.375000</td>\n",
       "    </tr>\n",
       "    <tr>\n",
       "      <th>6305</th>\n",
       "      <td>Toyota</td>\n",
       "      <td>Altis</td>\n",
       "      <td>1.6</td>\n",
       "      <td>C-Segment</td>\n",
       "      <td>2008</td>\n",
       "      <td>113476.0</td>\n",
       "      <td>กรุงเทพมหานคร</td>\n",
       "      <td>218000.0</td>\n",
       "      <td>Silver</td>\n",
       "      <td>185923.750000</td>\n",
       "    </tr>\n",
       "    <tr>\n",
       "      <th>110</th>\n",
       "      <td>Mitsubishi</td>\n",
       "      <td>Attrage</td>\n",
       "      <td>1.2</td>\n",
       "      <td>Eco Car</td>\n",
       "      <td>2020</td>\n",
       "      <td>13000.0</td>\n",
       "      <td>สระบุรี</td>\n",
       "      <td>385000.0</td>\n",
       "      <td>White</td>\n",
       "      <td>419601.781250</td>\n",
       "    </tr>\n",
       "    <tr>\n",
       "      <th>51</th>\n",
       "      <td>Toyota</td>\n",
       "      <td>Yaris</td>\n",
       "      <td>1.2</td>\n",
       "      <td>Eco Car</td>\n",
       "      <td>2021</td>\n",
       "      <td>2000.0</td>\n",
       "      <td>นนทบุรี</td>\n",
       "      <td>519000.0</td>\n",
       "      <td>White</td>\n",
       "      <td>525714.562500</td>\n",
       "    </tr>\n",
       "  </tbody>\n",
       "</table>\n",
       "<p>1480 rows × 10 columns</p>\n",
       "</div>"
      ],
      "text/plain": [
       "           Brand    Model  Engine    Segment  Year   Mileage       Province  \\\n",
       "2473      Nissan    Teana     2.5  D-Segment  2016   74111.0  กรุงเทพมหานคร   \n",
       "6730      Toyota    Altis     1.6  C-Segment  2006  260000.0  กรุงเทพมหานคร   \n",
       "2847       Honda     City     1.5  B-Segment  2015   95473.0      เชียงใหม่   \n",
       "169       Toyota    Yaris     1.2    Eco Car  2020   20000.0  กรุงเทพมหานคร   \n",
       "2036  Mitsubishi  Attrage     1.2    Eco Car  2016  110000.0       ปทุมธานี   \n",
       "...          ...      ...     ...        ...   ...       ...            ...   \n",
       "210       Toyota     Vios     1.5  B-Segment  2020   14000.0  กรุงเทพมหานคร   \n",
       "2484      Nissan    Teana     2.5  D-Segment  2016  100000.0  กรุงเทพมหานคร   \n",
       "6305      Toyota    Altis     1.6  C-Segment  2008  113476.0  กรุงเทพมหานคร   \n",
       "110   Mitsubishi  Attrage     1.2    Eco Car  2020   13000.0        สระบุรี   \n",
       "51        Toyota    Yaris     1.2    Eco Car  2021    2000.0        นนทบุรี   \n",
       "\n",
       "         Price   Color  Predicted_price  \n",
       "2473  619000.0   Black    624746.062500  \n",
       "6730  139000.0    Gray     96325.390625  \n",
       "2847  389000.0   White    412075.312500  \n",
       "169   488000.0    Gray    481886.468750  \n",
       "2036  259000.0     Red    268535.031250  \n",
       "...        ...     ...              ...  \n",
       "210   539000.0   White    543438.625000  \n",
       "2484  629000.0   White    626419.375000  \n",
       "6305  218000.0  Silver    185923.750000  \n",
       "110   385000.0   White    419601.781250  \n",
       "51    519000.0   White    525714.562500  \n",
       "\n",
       "[1480 rows x 10 columns]"
      ]
     },
     "execution_count": 179,
     "metadata": {},
     "output_type": "execute_result"
    }
   ],
   "source": [
    "df_test"
   ]
  },
  {
   "cell_type": "markdown",
   "metadata": {},
   "source": [
    "Try plotting actual vs predicted values for the test set in the original scale (not normalized)"
   ]
  },
  {
   "cell_type": "code",
   "execution_count": 181,
   "metadata": {},
   "outputs": [
    {
     "data": {
      "image/png": "[encoded data removed]",
      "text/plain": [
       "<Figure size 432x288 with 1 Axes>"
      ]
     },
     "metadata": {
      "needs_background": "light"
     },
     "output_type": "display_data"
    }
   ],
   "source": [
    "plt.plot([0, 1_000_000], [0, 1_000_000], color=\"black\", alpha=0.5, linestyle=\"--\")\n",
    "\n",
    "predicted_price_array = df_test[\"Predicted_price\"].values\n",
    "actual_price_array = df_test[\"Price\"].values\n",
    "plt.scatter(predicted_price_array, actual_price_array, alpha=0.2)\n",
    "\n",
    "plt.xlabel(\"Predictions\")\n",
    "plt.ylabel(\"Actual\")\n",
    "plt.title(\"Predictions vs Actual\")\n",
    "\n",
    "plt.xlim(0, 1_000_000)\n",
    "plt.ylim(0, 1_000_000)\n",
    "plt.show()"
   ]
  }
 ],
 "metadata": {
  "accelerator": "GPU",
  "colab": {
   "provenance": []
  },
  "gpuClass": "standard",
  "kernelspec": {
   "display_name": "Python 3 (ipykernel)",
   "language": "python",
   "name": "python3"
  },
  "language_info": {
   "codemirror_mode": {
    "name": "ipython",
    "version": 3
   },
   "file_extension": ".py",
   "mimetype": "text/x-python",
   "name": "python",
   "nbconvert_exporter": "python",
   "pygments_lexer": "ipython3",
   "version": "3.7.13"
  },
  "vscode": {
   "interpreter": {
    "hash": "31727eb632e7da8a5b80cec6e557fc09a461fb488b9fb3204718db5f91f70f0b"
   }
  },
  "widgets": {
   "application/vnd.jupyter.widget-state+json": {
    "14c540053b324b83a58d665d53b695c9": {
     "model_module": "@jupyter-widgets/base",
     "model_module_version": "1.2.0",
     "model_name": "LayoutModel",
     "state": {
      "_model_module": "@jupyter-widgets/base",
      "_model_module_version": "1.2.0",
      "_model_name": "LayoutModel",
      "_view_count": null,
      "_view_module": "@jupyter-widgets/base",
      "_view_module_version": "1.2.0",
      "_view_name": "LayoutView",
      "align_content": null,
      "align_items": null,
      "align_self": null,
      "border": null,
      "bottom": null,
      "display": null,
      "flex": null,
      "flex_flow": null,
      "grid_area": null,
      "grid_auto_columns": null,
      "grid_auto_flow": null,
      "grid_auto_rows": null,
      "grid_column": null,
      "grid_gap": null,
      "grid_row": null,
      "grid_template_areas": null,
      "grid_template_columns": null,
      "grid_template_rows": null,
      "height": null,
      "justify_content": null,
      "justify_items": null,
      "left": null,
      "margin": null,
      "max_height": null,
      "max_width": null,
      "min_height": null,
      "min_width": null,
      "object_fit": null,
      "object_position": null,
      "order": null,
      "overflow": null,
      "overflow_x": null,
      "overflow_y": null,
      "padding": null,
      "right": null,
      "top": null,
      "visibility": null,
      "width": null
     }
    },
    "18aaab3bd8ba48c9b533fe256fc39d82": {
     "model_module": "@jupyter-widgets/controls",
     "model_module_version": "1.5.0",
     "model_name": "FloatProgressModel",
     "state": {
      "_dom_classes": [],
      "_model_module": "@jupyter-widgets/controls",
      "_model_module_version": "1.5.0",
      "_model_name": "FloatProgressModel",
      "_view_count": null,
      "_view_module": "@jupyter-widgets/controls",
      "_view_module_version": "1.5.0",
      "_view_name": "ProgressView",
      "bar_style": "success",
      "description": "",
      "description_tooltip": null,
      "layout": "IPY_MODEL_f4b59508c0554f9198dbd1be61e02b27",
      "max": 120,
      "min": 0,
      "orientation": "horizontal",
      "style": "IPY_MODEL_e426086a0edd48099e1eb39e8c1f1550",
      "value": 120
     }
    },
    "3805565dc03c44b89127ec2b8d499e7b": {
     "model_module": "@jupyter-widgets/controls",
     "model_module_version": "1.5.0",
     "model_name": "DescriptionStyleModel",
     "state": {
      "_model_module": "@jupyter-widgets/controls",
      "_model_module_version": "1.5.0",
      "_model_name": "DescriptionStyleModel",
      "_view_count": null,
      "_view_module": "@jupyter-widgets/base",
      "_view_module_version": "1.2.0",
      "_view_name": "StyleView",
      "description_width": ""
     }
    },
    "5a6e75a00ec9490497ac5eb820fdc9e8": {
     "model_module": "@jupyter-widgets/base",
     "model_module_version": "1.2.0",
     "model_name": "LayoutModel",
     "state": {
      "_model_module": "@jupyter-widgets/base",
      "_model_module_version": "1.2.0",
      "_model_name": "LayoutModel",
      "_view_count": null,
      "_view_module": "@jupyter-widgets/base",
      "_view_module_version": "1.2.0",
      "_view_name": "LayoutView",
      "align_content": null,
      "align_items": null,
      "align_self": null,
      "border": null,
      "bottom": null,
      "display": null,
      "flex": null,
      "flex_flow": null,
      "grid_area": null,
      "grid_auto_columns": null,
      "grid_auto_flow": null,
      "grid_auto_rows": null,
      "grid_column": null,
      "grid_gap": null,
      "grid_row": null,
      "grid_template_areas": null,
      "grid_template_columns": null,
      "grid_template_rows": null,
      "height": null,
      "justify_content": null,
      "justify_items": null,
      "left": null,
      "margin": null,
      "max_height": null,
      "max_width": null,
      "min_height": null,
      "min_width": null,
      "object_fit": null,
      "object_position": null,
      "order": null,
      "overflow": null,
      "overflow_x": null,
      "overflow_y": null,
      "padding": null,
      "right": null,
      "top": null,
      "visibility": null,
      "width": null
     }
    },
    "7fe8e4c2acef4adea2cf9fef39795c5e": {
     "model_module": "@jupyter-widgets/controls",
     "model_module_version": "1.5.0",
     "model_name": "HBoxModel",
     "state": {
      "_dom_classes": [],
      "_model_module": "@jupyter-widgets/controls",
      "_model_module_version": "1.5.0",
      "_model_name": "HBoxModel",
      "_view_count": null,
      "_view_module": "@jupyter-widgets/controls",
      "_view_module_version": "1.5.0",
      "_view_name": "HBoxView",
      "box_style": "",
      "children": [
       "IPY_MODEL_d9839160a7c2408696d83767c13c651c",
       "IPY_MODEL_18aaab3bd8ba48c9b533fe256fc39d82",
       "IPY_MODEL_817c8d5cdab74e59a13f39e1996e4d89"
      ],
      "layout": "IPY_MODEL_9aacca6b17e4468f9692fbb15780b579"
     }
    },
    "817c8d5cdab74e59a13f39e1996e4d89": {
     "model_module": "@jupyter-widgets/controls",
     "model_module_version": "1.5.0",
     "model_name": "HTMLModel",
     "state": {
      "_dom_classes": [],
      "_model_module": "@jupyter-widgets/controls",
      "_model_module_version": "1.5.0",
      "_model_name": "HTMLModel",
      "_view_count": null,
      "_view_module": "@jupyter-widgets/controls",
      "_view_module_version": "1.5.0",
      "_view_name": "HTMLView",
      "description": "",
      "description_tooltip": null,
      "layout": "IPY_MODEL_14c540053b324b83a58d665d53b695c9",
      "placeholder": "​",
      "style": "IPY_MODEL_3805565dc03c44b89127ec2b8d499e7b",
      "value": " 120/120 [00:21&lt;00:00,  6.03it/s]"
     }
    },
    "9aacca6b17e4468f9692fbb15780b579": {
     "model_module": "@jupyter-widgets/base",
     "model_module_version": "1.2.0",
     "model_name": "LayoutModel",
     "state": {
      "_model_module": "@jupyter-widgets/base",
      "_model_module_version": "1.2.0",
      "_model_name": "LayoutModel",
      "_view_count": null,
      "_view_module": "@jupyter-widgets/base",
      "_view_module_version": "1.2.0",
      "_view_name": "LayoutView",
      "align_content": null,
      "align_items": null,
      "align_self": null,
      "border": null,
      "bottom": null,
      "display": null,
      "flex": null,
      "flex_flow": null,
      "grid_area": null,
      "grid_auto_columns": null,
      "grid_auto_flow": null,
      "grid_auto_rows": null,
      "grid_column": null,
      "grid_gap": null,
      "grid_row": null,
      "grid_template_areas": null,
      "grid_template_columns": null,
      "grid_template_rows": null,
      "height": null,
      "justify_content": null,
      "justify_items": null,
      "left": null,
      "margin": null,
      "max_height": null,
      "max_width": null,
      "min_height": null,
      "min_width": null,
      "object_fit": null,
      "object_position": null,
      "order": null,
      "overflow": null,
      "overflow_x": null,
      "overflow_y": null,
      "padding": null,
      "right": null,
      "top": null,
      "visibility": null,
      "width": null
     }
    },
    "d9839160a7c2408696d83767c13c651c": {
     "model_module": "@jupyter-widgets/controls",
     "model_module_version": "1.5.0",
     "model_name": "HTMLModel",
     "state": {
      "_dom_classes": [],
      "_model_module": "@jupyter-widgets/controls",
      "_model_module_version": "1.5.0",
      "_model_name": "HTMLModel",
      "_view_count": null,
      "_view_module": "@jupyter-widgets/controls",
      "_view_module_version": "1.5.0",
      "_view_name": "HTMLView",
      "description": "",
      "description_tooltip": null,
      "layout": "IPY_MODEL_5a6e75a00ec9490497ac5eb820fdc9e8",
      "placeholder": "​",
      "style": "IPY_MODEL_fbe80d8dafd0475d8b530f4356a36350",
      "value": "100%"
     }
    },
    "e426086a0edd48099e1eb39e8c1f1550": {
     "model_module": "@jupyter-widgets/controls",
     "model_module_version": "1.5.0",
     "model_name": "ProgressStyleModel",
     "state": {
      "_model_module": "@jupyter-widgets/controls",
      "_model_module_version": "1.5.0",
      "_model_name": "ProgressStyleModel",
      "_view_count": null,
      "_view_module": "@jupyter-widgets/base",
      "_view_module_version": "1.2.0",
      "_view_name": "StyleView",
      "bar_color": null,
      "description_width": ""
     }
    },
    "f4b59508c0554f9198dbd1be61e02b27": {
     "model_module": "@jupyter-widgets/base",
     "model_module_version": "1.2.0",
     "model_name": "LayoutModel",
     "state": {
      "_model_module": "@jupyter-widgets/base",
      "_model_module_version": "1.2.0",
      "_model_name": "LayoutModel",
      "_view_count": null,
      "_view_module": "@jupyter-widgets/base",
      "_view_module_version": "1.2.0",
      "_view_name": "LayoutView",
      "align_content": null,
      "align_items": null,
      "align_self": null,
      "border": null,
      "bottom": null,
      "display": null,
      "flex": null,
      "flex_flow": null,
      "grid_area": null,
      "grid_auto_columns": null,
      "grid_auto_flow": null,
      "grid_auto_rows": null,
      "grid_column": null,
      "grid_gap": null,
      "grid_row": null,
      "grid_template_areas": null,
      "grid_template_columns": null,
      "grid_template_rows": null,
      "height": null,
      "justify_content": null,
      "justify_items": null,
      "left": null,
      "margin": null,
      "max_height": null,
      "max_width": null,
      "min_height": null,
      "min_width": null,
      "object_fit": null,
      "object_position": null,
      "order": null,
      "overflow": null,
      "overflow_x": null,
      "overflow_y": null,
      "padding": null,
      "right": null,
      "top": null,
      "visibility": null,
      "width": null
     }
    },
    "fbe80d8dafd0475d8b530f4356a36350": {
     "model_module": "@jupyter-widgets/controls",
     "model_module_version": "1.5.0",
     "model_name": "DescriptionStyleModel",
     "state": {
      "_model_module": "@jupyter-widgets/controls",
      "_model_module_version": "1.5.0",
      "_model_name": "DescriptionStyleModel",
      "_view_count": null,
      "_view_module": "@jupyter-widgets/base",
      "_view_module_version": "1.2.0",
      "_view_name": "StyleView",
      "description_width": ""
     }
    }
   }
  }
 },
 "nbformat": 4,
 "nbformat_minor": 1
}
