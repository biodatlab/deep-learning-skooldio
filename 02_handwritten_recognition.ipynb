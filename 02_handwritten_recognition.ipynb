{
 "cells": [
  {
   "cell_type": "markdown",
   "id": "cfc52381",
   "metadata": {},
   "source": [
    "## **Thai-digit handwritten classification with Pytorch**\n",
    "\n",
    "Repository: https://github.com/kittinan/thai-handwriting-number"
   ]
  },
  {
   "cell_type": "markdown",
   "id": "3aa56f94",
   "metadata": {},
   "source": [
    "## **Download and clean the dataset from the repository**\n",
    "\n",
    "- Download the data from https://github.com/kittinan/thai-handwriting-number by cloning the repository\n",
    "- Remove files that have character mismatch (as suggested by the the creator)"
   ]
  },
  {
   "cell_type": "code",
   "execution_count": null,
   "id": "322380e6",
   "metadata": {},
   "outputs": [],
   "source": [
    "!git clone https://github.com/kittinan/thai-handwriting-number"
   ]
  },
  {
   "cell_type": "code",
   "execution_count": 1,
   "id": "2ad2a443",
   "metadata": {},
   "outputs": [],
   "source": [
    "import os\n",
    "import os.path as op\n",
    "from glob import glob\n",
    "from pathlib import Path\n",
    "\n",
    "directory = \"thai-handwritten-number/data/raw/thai-handwriting-number.appspot.com/\"\n",
    "remove_paths = [\n",
    "    '7c9108fe-b240-4632-a024-f1ee922962ec',\n",
    "    '20_a2178975-acff-4afe-88b9-f6fee8694ceb',\n",
    "    'de366cab-6532-42ed-9926-38351927019b',\n",
    "    '76c2e443-c8d1-40b0-96a9-073548c9617b',\n",
    "    '21_e95ad3b8-30cb-47ad-9f68-2a5bb7aeb5bb',\n",
    "    'e95ad3b8-30cb-47ad-9f68-2a5bb7aeb5bb',\n",
    "    'fb05cb2a-c27b-4476-8cff-74f5ddbc8224',\n",
    "    '078c1b18-e672-466d-a30b-f49a81710be6',\n",
    "    '67ce79dc-de9c-4956-ad7b-fabf7aa9c6fa',\n",
    "    '729207eb-f3f7-46e2-986a-74f990296da4',\n",
    "    '420994cc-5e99-42eb-84b6-2392486a33b6',\n",
    "    '0a9af826-aaf4-45da-9d46-e1b5dc486264',\n",
    "    '4302615c-a605-4bcd-b15b-4aae4b034c96',\n",
    "    '669af93b-a947-4fec-a36d-35e003d88f62',\n",
    "    '0365c59a-23f8-4309-bd02-5543c3524e10',\n",
    "    '4302615c-a605-4bcd-b15b-4aae4b034c96'\n",
    "]\n",
    "\n",
    "for path in glob(op.join(directory, \"*\", \"*\")):\n",
    "    for remove_path in remove_paths:\n",
    "        if remove_path in path:\n",
    "            if op.exists(path):\n",
    "                os.remove(path)"
   ]
  },
  {
   "cell_type": "code",
   "execution_count": 24,
   "id": "64ce2573",
   "metadata": {},
   "outputs": [],
   "source": [
    "paths = glob(op.join(directory, \"*\", \"*\"))"
   ]
  },
  {
   "cell_type": "code",
   "execution_count": 30,
   "id": "964fdc70",
   "metadata": {},
   "outputs": [
    {
     "data": {
      "text/plain": [
       "Counter({'9': 179,\n",
       "         '7': 179,\n",
       "         '6': 179,\n",
       "         '1': 179,\n",
       "         '10': 179,\n",
       "         '8': 179,\n",
       "         '4': 179,\n",
       "         '3': 179,\n",
       "         '2': 179,\n",
       "         '5': 179})"
      ]
     },
     "execution_count": 30,
     "metadata": {},
     "output_type": "execute_result"
    }
   ],
   "source": [
    "from collections import Counter\n",
    "Counter([Path(p).parent.name for p in paths])"
   ]
  },
  {
   "cell_type": "code",
   "execution_count": 31,
   "id": "23eedef9",
   "metadata": {},
   "outputs": [],
   "source": [
    "from PIL import Image"
   ]
  },
  {
   "cell_type": "code",
   "execution_count": 39,
   "id": "75f10add",
   "metadata": {},
   "outputs": [
    {
     "name": "stdout",
     "output_type": "stream",
     "text": [
      "6\n"
     ]
    },
    {
     "data": {
      "image/png": "[encoded data removed]",
      "text/plain": [
       "<PIL.PngImagePlugin.PngImageFile image mode=RGBA size=300x300 at 0x7F8DA6F4A450>"
      ]
     },
     "execution_count": 39,
     "metadata": {},
     "output_type": "execute_result"
    }
   ],
   "source": [
    "idx = 460\n",
    "print(Path(paths[idx]).parent.name)\n",
    "Image.open(paths[idx])"
   ]
  },
  {
   "cell_type": "code",
   "execution_count": 116,
   "id": "6aa0f5b4",
   "metadata": {},
   "outputs": [],
   "source": [
    "from tqdm.auto import tqdm\n",
    "from sklearn.model_selection import train_test_split\n",
    "import shutil\n",
    "\n",
    "train_paths, test_paths = train_test_split(paths, test_size=0.1, random_state=42)"
   ]
  },
  {
   "cell_type": "code",
   "execution_count": 106,
   "id": "6e56a41b",
   "metadata": {},
   "outputs": [],
   "source": [
    "for i in range(10):\n",
    "    os.makedirs(f\"data/train/{i}\", exist_ok=True)\n",
    "    os.makedirs(f\"data/validation/{i}\", exist_ok=True)"
   ]
  },
  {
   "cell_type": "code",
   "execution_count": 114,
   "id": "fe1d237b",
   "metadata": {},
   "outputs": [],
   "source": [
    "def copy_to_destination(src_paths, dst_path: str = \"data/train/\"):\n",
    "    for path in tqdm(src_paths):\n",
    "        path = Path(path)\n",
    "        if path.parent.name == \"10\":\n",
    "            parent_dir = \"0\"\n",
    "        else:\n",
    "            parent_dir = path.parent.name\n",
    "        shutil.copy(path, op.join(dst_path, parent_dir, path.name))"
   ]
  },
  {
   "cell_type": "code",
   "execution_count": 115,
   "id": "af9064ae",
   "metadata": {},
   "outputs": [],
   "source": [
    "copy_to_destination(train_paths, \"data/train/\")\n",
    "copy_to_destination(test_paths, \"data/validation/\")"
   ]
  },
  {
   "cell_type": "code",
   "execution_count": 118,
   "id": "99aceff3",
   "metadata": {},
   "outputs": [
    {
     "data": {
      "text/plain": [
       "(1611, 179)"
      ]
     },
     "execution_count": 118,
     "metadata": {},
     "output_type": "execute_result"
    }
   ],
   "source": [
    "len(glob(\"data/train/*/*\")), len(glob(\"data/validation/*/*\"))"
   ]
  },
  {
   "cell_type": "markdown",
   "id": "ae55f494",
   "metadata": {},
   "source": [
    "## **Create a custom dataset and a dataloader**"
   ]
  },
  {
   "cell_type": "code",
   "execution_count": 119,
   "id": "d0b69d68",
   "metadata": {},
   "outputs": [],
   "source": [
    "import torch\n",
    "from torch.utils.data import Dataset, DataLoader\n",
    "from torchvision import transforms\n",
    "import matplotlib.pyplot as plt"
   ]
  },
  {
   "cell_type": "code",
   "execution_count": 120,
   "id": "2dbd4be3",
   "metadata": {},
   "outputs": [],
   "source": [
    "transform = transforms.Compose([\n",
    "    transforms.Resize((28, 28)),\n",
    "    transforms.Grayscale(),\n",
    "    transforms.ToTensor()\n",
    "])"
   ]
  },
  {
   "cell_type": "code",
   "execution_count": 121,
   "id": "059beef8",
   "metadata": {},
   "outputs": [
    {
     "data": {
      "image/png": "[encoded data removed]",
      "text/plain": [
       "<Figure size 640x480 with 1 Axes>"
      ]
     },
     "metadata": {},
     "output_type": "display_data"
    }
   ],
   "source": [
    "img = Image.open(paths[100])\n",
    "img = (1 - transform(img)).squeeze(0)\n",
    "plt.title(\"Number: {}\".format(Path(paths[100]).parent.name))\n",
    "plt.imshow(img, cmap=\"gray\")\n",
    "plt.show()"
   ]
  },
  {
   "cell_type": "code",
   "execution_count": 124,
   "id": "09eb4140",
   "metadata": {},
   "outputs": [],
   "source": [
    "class ThaiDigitDataset(Dataset):\n",
    "    def __init__(self, img_dir: str, transform=None):\n",
    "        self.img_dir = img_dir\n",
    "        self.transform = transform\n",
    "        self.img_labels = [(p, Path(p).parent.name) for p in glob(op.join(img_dir, \"*\", \"*\"))]\n",
    "    \n",
    "    def __len__(self):\n",
    "        return len(self.img_labels)\n",
    "    \n",
    "    def __getitem__(self, idx):\n",
    "        image, label = self.img_labels[idx]\n",
    "        label = int(label)\n",
    "        image = Image.open(image)\n",
    "        if self.transform:\n",
    "            image = 1 - self.transform(image)\n",
    "        return image, label"
   ]
  },
  {
   "cell_type": "code",
   "execution_count": 125,
   "id": "f1175f91",
   "metadata": {},
   "outputs": [],
   "source": [
    "train_thaidigit_dataset = ThaiDigitDataset(\"data/train/\", transform=transform)\n",
    "val_thaidigit_dataset = ThaiDigitDataset(\"data/validation/\", transform=transform)"
   ]
  },
  {
   "cell_type": "code",
   "execution_count": 145,
   "id": "d4f83af9",
   "metadata": {},
   "outputs": [],
   "source": [
    "train_loader = DataLoader(train_thaidigit_dataset, batch_size=16, shuffle=True)\n",
    "val_loader = DataLoader(val_thaidigit_dataset, batch_size=16, shuffle=False)"
   ]
  },
  {
   "cell_type": "code",
   "execution_count": 127,
   "id": "24c5be14",
   "metadata": {},
   "outputs": [],
   "source": [
    "# load example batch\n",
    "images, labels = next(iter(train_loader))"
   ]
  },
  {
   "cell_type": "code",
   "execution_count": 128,
   "id": "a3e30a7d",
   "metadata": {},
   "outputs": [
    {
     "data": {
      "text/plain": [
       "(torch.Size([16, 1, 28, 28]),\n",
       " tensor([1, 2, 1, 4, 9, 1, 5, 3, 0, 0, 3, 8, 4, 3, 7, 0]))"
      ]
     },
     "execution_count": 128,
     "metadata": {},
     "output_type": "execute_result"
    }
   ],
   "source": [
    "images.shape, labels"
   ]
  },
  {
   "cell_type": "markdown",
   "id": "275542ac",
   "metadata": {},
   "source": [
    "## **Create the model**"
   ]
  },
  {
   "cell_type": "code",
   "execution_count": 152,
   "id": "abbd30d0",
   "metadata": {},
   "outputs": [],
   "source": [
    "import torch.nn as nn\n",
    "import torch.nn.functional as F\n",
    "\n",
    "class ThaiDigitNet(nn.Module):\n",
    "    def __init__(self):\n",
    "        super(ThaiDigitNet, self).__init__()\n",
    "        self.fc1 = nn.Linear(28 * 28, 100)\n",
    "        self.fc2 = nn.Linear(100, 10)\n",
    "\n",
    "    def forward(self, x):\n",
    "        x = x.view(-1, 28 * 28)\n",
    "        x = self.fc1(x)\n",
    "        x = F.relu(x)\n",
    "        x = self.fc2(x)\n",
    "        return x"
   ]
  },
  {
   "cell_type": "code",
   "execution_count": 153,
   "id": "f31a9c8c",
   "metadata": {},
   "outputs": [],
   "source": [
    "net = ThaiDigitNet()\n",
    "images, labels = next(iter(train_loader))\n",
    "pred = net(images)"
   ]
  },
  {
   "cell_type": "code",
   "execution_count": 154,
   "id": "4678a296",
   "metadata": {},
   "outputs": [
    {
     "data": {
      "text/plain": [
       "(torch.Size([16, 1, 28, 28]), torch.Size([16, 10]))"
      ]
     },
     "execution_count": 154,
     "metadata": {},
     "output_type": "execute_result"
    }
   ],
   "source": [
    "images.shape, pred.shape # check the size"
   ]
  },
  {
   "cell_type": "markdown",
   "id": "f0455ef9",
   "metadata": {},
   "source": [
    "## **Train the model**"
   ]
  },
  {
   "cell_type": "code",
   "execution_count": null,
   "id": "20e1525e",
   "metadata": {},
   "outputs": [],
   "source": [
    "loss_fn = nn.CrossEntropyLoss()\n",
    "optimizer = torch.optim.SGD(net.parameters(), lr=0.01)\n",
    "update_steps = 50\n",
    "n_epochs = 50\n",
    "\n",
    "for epoch in range(n_epochs):\n",
    "    # training\n",
    "    net.train()\n",
    "    for batch_idx, (images, labels) in enumerate(train_loader):\n",
    "        pred = net(images)\n",
    "        loss = loss_fn(pred, labels)\n",
    "\n",
    "        optimizer.zero_grad()\n",
    "        loss.backward()\n",
    "        optimizer.step()\n",
    "\n",
    "        if batch_idx % update_steps == 0:\n",
    "            print(f\"loss: {loss.item()} [epoch: {epoch} / # {batch_idx * len(images)}]\")\n",
    "\n",
    "    # validation\n",
    "    net.eval()\n",
    "    val_loss, correct = 0, 0\n",
    "    n_val = len(val_loader.dataset)\n",
    "    for images, labels in val_loader:\n",
    "        pred = net(images)\n",
    "        val_loss += loss_fn(pred, labels).item()\n",
    "        correct += (pred.argmax(1) == labels).float().sum().item()\n",
    "    print(f\"validation accuracy = {correct / n_val}, average loss = {val_loss / len(val_loader)}\")"
   ]
  },
  {
   "cell_type": "markdown",
   "id": "2a0229f1",
   "metadata": {},
   "source": [
    "## **Use the model**"
   ]
  },
  {
   "cell_type": "code",
   "execution_count": 160,
   "id": "566302f8",
   "metadata": {},
   "outputs": [],
   "source": [
    "img = Image.open(\"data/validation/5/0f14b574-daf6-4a22-ae06-86eaeee72efa.png\")\n",
    "img = transform(img)"
   ]
  },
  {
   "cell_type": "code",
   "execution_count": 161,
   "id": "fdd510f7",
   "metadata": {},
   "outputs": [
    {
     "data": {
      "text/plain": [
       "torch.Size([1, 28, 28])"
      ]
     },
     "execution_count": 161,
     "metadata": {},
     "output_type": "execute_result"
    }
   ],
   "source": [
    "img.shape"
   ]
  },
  {
   "cell_type": "code",
   "execution_count": 163,
   "id": "27b03a26",
   "metadata": {},
   "outputs": [],
   "source": [
    "pred = net(img).argmax(dim=1)"
   ]
  },
  {
   "cell_type": "code",
   "execution_count": 167,
   "id": "5b41a1c8",
   "metadata": {},
   "outputs": [
    {
     "data": {
      "text/plain": [
       "<matplotlib.image.AxesImage at 0x7f8d90bc6390>"
      ]
     },
     "execution_count": 167,
     "metadata": {},
     "output_type": "execute_result"
    },
    {
     "data": {
      "image/png": "[encoded data removed]",
      "text/plain": [
       "<Figure size 640x480 with 1 Axes>"
      ]
     },
     "metadata": {},
     "output_type": "display_data"
    }
   ],
   "source": [
    "plt.title(f\"Predicted class = {pred.numpy()[0]}\")\n",
    "plt.imshow(img.squeeze(0), cmap=\"gray\")"
   ]
  }
 ],
 "metadata": {
  "kernelspec": {
   "display_name": "Python 3 (ipykernel)",
   "language": "python",
   "name": "python3"
  },
  "language_info": {
   "codemirror_mode": {
    "name": "ipython",
    "version": 3
   },
   "file_extension": ".py",
   "mimetype": "text/x-python",
   "name": "python",
   "nbconvert_exporter": "python",
   "pygments_lexer": "ipython3",
   "version": "3.7.13"
  }
 },
 "nbformat": 4,
 "nbformat_minor": 5
}
