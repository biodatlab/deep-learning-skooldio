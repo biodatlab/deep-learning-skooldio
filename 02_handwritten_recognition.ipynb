{
  "cells": [
    {
      "cell_type": "markdown",
      "id": "cfc52381",
      "metadata": {
        "id": "cfc52381"
      },
      "source": [
        "[![Open in Colab](https://colab.research.google.com/assets/colab-badge.svg)](https://colab.research.google.com/github/biodatlab/deep-learning-skooldio/blob/master/02_handwritten_recognition.ipynb)\n",
        "\n",
        "## **Thai-digit handwritten classification with Pytorch**\n",
        "\n",
        "This notebook contains a hands-on code for Deep learning class \"Thai-digit handwritten classification with Pytorch\" by Skooldio"
      ]
    },
    {
      "cell_type": "markdown",
      "id": "3aa56f94",
      "metadata": {
        "id": "3aa56f94"
      },
      "source": [
        "## **Download and clean the dataset from the repository**\n",
        "\n",
        "- We have downloaded the data from https://github.com/kittinan/thai-handwriting-number by cloning the repository\n",
        "- Remove files that have character mismatch (as suggested by the the creator)\n",
        "- Then, we put the cleaned data at https://github.com/biodatlab/deep-learning-skooldio"
      ]
    },
    {
      "cell_type": "code",
      "execution_count": 1,
      "id": "f7deb2f6",
      "metadata": {
        "colab": {
          "base_uri": "https://localhost:8080/"
        },
        "id": "f7deb2f6",
        "outputId": "61c65aa9-3965-4cbf-8655-d7e2f1e904e3"
      },
      "outputs": [
        {
          "name": "stdout",
          "output_type": "stream",
          "text": [
            "Cloning into 'deep-learning-skooldio'...\n",
            "remote: Enumerating objects: 1772, done.\u001b[K\n",
            "remote: Counting objects: 100% (1772/1772), done.\u001b[K\n",
            "remote: Compressing objects: 100% (1744/1744), done.\u001b[K\n",
            "remote: Total 1772 (delta 41), reused 1753 (delta 28), pack-reused 0\u001b[K\n",
            "Receiving objects: 100% (1772/1772), 12.70 MiB | 13.74 MiB/s, done.\n",
            "Resolving deltas: 100% (41/41), done.\n"
          ]
        }
      ],
      "source": [
        "!git clone https://github.com/biodatlab/deep-learning-skooldio"
      ]
    },
    {
      "cell_type": "code",
      "execution_count": 2,
      "id": "2ad2a443",
      "metadata": {
        "id": "2ad2a443"
      },
      "outputs": [],
      "source": [
        "import os\n",
        "import os.path as op\n",
        "from glob import glob\n",
        "from pathlib import Path"
      ]
    },
    {
      "cell_type": "code",
      "execution_count": 3,
      "id": "64ce2573",
      "metadata": {
        "id": "64ce2573"
      },
      "outputs": [],
      "source": [
        "directory = \"deep-learning-skooldio/\"\n",
        "paths = glob(op.join(directory, \"thai-handwritten-dataset\", \"*\", \"*\"))"
      ]
    },
    {
      "cell_type": "code",
      "execution_count": 4,
      "id": "964fdc70",
      "metadata": {
        "colab": {
          "base_uri": "https://localhost:8080/"
        },
        "id": "964fdc70",
        "outputId": "6bd7c0ed-09dc-455f-ac01-344d245ba69c"
      },
      "outputs": [
        {
          "data": {
            "text/plain": [
              "Counter({'7': 175,\n",
              "         '2': 175,\n",
              "         '1': 175,\n",
              "         '8': 175,\n",
              "         '5': 175,\n",
              "         '9': 175,\n",
              "         '0': 175,\n",
              "         '4': 175,\n",
              "         '6': 175,\n",
              "         '3': 175})"
            ]
          },
          "execution_count": 4,
          "metadata": {},
          "output_type": "execute_result"
        }
      ],
      "source": [
        "from collections import Counter\n",
        "Counter([Path(p).parent.name for p in paths])"
      ]
    },
    {
      "cell_type": "code",
      "execution_count": 5,
      "id": "23eedef9",
      "metadata": {
        "id": "23eedef9"
      },
      "outputs": [],
      "source": [
        "from PIL import Image"
      ]
    },
    {
      "cell_type": "code",
      "execution_count": 6,
      "id": "75f10add",
      "metadata": {
        "colab": {
          "base_uri": "https://localhost:8080/",
          "height": 334
        },
        "id": "75f10add",
        "outputId": "5a7bc7c5-c894-4420-e731-d0a28c916fd3"
      },
      "outputs": [
        {
          "name": "stdout",
          "output_type": "stream",
          "text": [
            "1\n"
          ]
        },
        {
          "data": {
            "image/png": "[encoded data removed]",
            "text/plain": [
              "<PIL.PngImagePlugin.PngImageFile image mode=RGBA size=300x300 at 0x7F583D8894F0>"
            ]
          },
          "execution_count": 6,
          "metadata": {},
          "output_type": "execute_result"
        }
      ],
      "source": [
        "idx = 460\n",
        "print(Path(paths[idx]).parent.name)\n",
        "Image.open(paths[idx])"
      ]
    },
    {
      "cell_type": "code",
      "execution_count": 7,
      "id": "6aa0f5b4",
      "metadata": {
        "id": "6aa0f5b4"
      },
      "outputs": [],
      "source": [
        "from tqdm.auto import tqdm\n",
        "from sklearn.model_selection import train_test_split\n",
        "import shutil\n",
        "\n",
        "train_paths, test_paths = train_test_split(paths, test_size=0.1, random_state=42)"
      ]
    },
    {
      "cell_type": "code",
      "execution_count": 8,
      "id": "6e56a41b",
      "metadata": {
        "id": "6e56a41b"
      },
      "outputs": [],
      "source": [
        "for i in range(10):\n",
        "    os.makedirs(f\"data/train/{i}\", exist_ok=True)\n",
        "    os.makedirs(f\"data/validation/{i}\", exist_ok=True)"
      ]
    },
    {
      "cell_type": "code",
      "execution_count": 9,
      "id": "fe1d237b",
      "metadata": {
        "id": "fe1d237b"
      },
      "outputs": [],
      "source": [
        "def copy_to_destination(src_paths, dst_path: str = \"data/train/\"):\n",
        "    for path in tqdm(src_paths):\n",
        "        path = Path(path)\n",
        "        if path.parent.name == \"10\":\n",
        "            parent_dir = \"0\"\n",
        "        else:\n",
        "            parent_dir = path.parent.name\n",
        "        shutil.copy(path, op.join(dst_path, parent_dir, path.name))"
      ]
    },
    {
      "cell_type": "code",
      "execution_count": 10,
      "id": "af9064ae",
      "metadata": {
        "colab": {
          "base_uri": "https://localhost:8080/",
          "height": 81,
          "referenced_widgets": [
            "f1995e5d3d654bfe84446c7a021a72fd",
            "fd8a7207f576405e942635fd84cc44fb",
            "4a08213da7c946729a826f418aeff861",
            "3f6a368870c0416f87417ba352d81fd7",
            "011a5b6951434fd8929258b580821d7e",
            "5479f05ba30045d3a71cd886ab5b01c6",
            "7a56e830cf034e4c9435f8b7052b4660",
            "26b3e5c8b9e54e5d8e4a234f51d2e8fe",
            "8d8101d0d3104cb88960798e25cff91d",
            "507ace20498347ce9e76749334a86738",
            "098b444c2134459d9866c901f72b0129",
            "5a8f51d283ec40b698774277dd04716a",
            "4fdf6463b5514fdb89674f9222feb895",
            "1fb07294e26548bd8a32d2dc3109599d",
            "5d832918ce07498180066a86f6ff11d8",
            "1075d8c6bf9d47009e36fe62c6d550e2",
            "3fe2522755ab408887ebae47e1554851",
            "69541f51a291485989a7924c54bc1746",
            "45d6a6a522c04ace80ab4c846245f45d",
            "97e86ab6fca74a9a9f27115dfb50bcae",
            "25db0e932dea45f8b4eaee49a058709f",
            "c961b6ebd8184b06b19d8ed4203013df"
          ]
        },
        "id": "af9064ae",
        "outputId": "a120c18a-fb74-4ab6-e895-ad665036ff47"
      },
      "outputs": [
        {
          "data": {
            "application/vnd.jupyter.widget-view+json": {
              "model_id": "f1995e5d3d654bfe84446c7a021a72fd",
              "version_major": 2,
              "version_minor": 0
            },
            "text/plain": [
              "  0%|          | 0/1575 [00:00<?, ?it/s]"
            ]
          },
          "metadata": {},
          "output_type": "display_data"
        },
        {
          "data": {
            "application/vnd.jupyter.widget-view+json": {
              "model_id": "5a8f51d283ec40b698774277dd04716a",
              "version_major": 2,
              "version_minor": 0
            },
            "text/plain": [
              "  0%|          | 0/175 [00:00<?, ?it/s]"
            ]
          },
          "metadata": {},
          "output_type": "display_data"
        }
      ],
      "source": [
        "copy_to_destination(train_paths, \"data/train/\")\n",
        "copy_to_destination(test_paths, \"data/validation/\")"
      ]
    },
    {
      "cell_type": "code",
      "execution_count": 11,
      "id": "99aceff3",
      "metadata": {
        "colab": {
          "base_uri": "https://localhost:8080/"
        },
        "id": "99aceff3",
        "outputId": "4bf176d2-82f6-4314-bfee-d687a44ba0a3"
      },
      "outputs": [
        {
          "data": {
            "text/plain": [
              "(1575, 175)"
            ]
          },
          "execution_count": 11,
          "metadata": {},
          "output_type": "execute_result"
        }
      ],
      "source": [
        "len(glob(\"data/train/*/*\")), len(glob(\"data/validation/*/*\"))"
      ]
    },
    {
      "cell_type": "markdown",
      "id": "ae55f494",
      "metadata": {
        "id": "ae55f494"
      },
      "source": [
        "## **Create a custom dataset and a dataloader**\n",
        "\n",
        "- We need 3 functions when creating a `Dataset` including `__init__` (typically contains input data and transform), `__len__` (length of the dataset), `__getitem__` (input index then return pair of input and label or input)"
      ]
    },
    {
      "cell_type": "code",
      "execution_count": 12,
      "id": "d0b69d68",
      "metadata": {
        "id": "d0b69d68"
      },
      "outputs": [],
      "source": [
        "import torch\n",
        "from torch.utils.data import Dataset, DataLoader\n",
        "from torchvision import transforms\n",
        "import matplotlib.pyplot as plt"
      ]
    },
    {
      "cell_type": "code",
      "execution_count": 13,
      "id": "2dbd4be3",
      "metadata": {
        "id": "2dbd4be3"
      },
      "outputs": [],
      "source": [
        "transform = transforms.Compose([\n",
        "    transforms.Resize((28, 28)),\n",
        "    transforms.Grayscale(),\n",
        "    transforms.ToTensor()\n",
        "])"
      ]
    },
    {
      "cell_type": "code",
      "execution_count": 14,
      "id": "059beef8",
      "metadata": {
        "colab": {
          "base_uri": "https://localhost:8080/",
          "height": 281
        },
        "id": "059beef8",
        "outputId": "38b018dc-ebcb-4246-b9a2-570e007db3b9"
      },
      "outputs": [
        {
          "data": {
            "image/png": "[encoded data removed]",
            "text/plain": [
              "<Figure size 432x288 with 1 Axes>"
            ]
          },
          "metadata": {
            "needs_background": "light"
          },
          "output_type": "display_data"
        }
      ],
      "source": [
        "img = Image.open(paths[100])\n",
        "img = (1 - transform(img)).squeeze(0)\n",
        "plt.title(\"Number: {}\".format(Path(paths[100]).parent.name))\n",
        "plt.imshow(img, cmap=\"gray\")\n",
        "plt.show()"
      ]
    },
    {
      "cell_type": "code",
      "execution_count": 16,
      "id": "09eb4140",
      "metadata": {
        "id": "09eb4140"
      },
      "outputs": [],
      "source": [
        "class ThaiDigitDataset(Dataset):\n",
        "    def __init__(self, img_dir: str, transform=None):\n",
        "        self.img_dir = img_dir\n",
        "        self.transform = transform\n",
        "        self.img_labels = [(p, Path(p).parent.name) for p in glob(op.join(img_dir, \"*\", \"*\"))]\n",
        "\n",
        "    def __len__(self):\n",
        "        return len(self.img_labels)\n",
        "\n",
        "    def __getitem__(self, idx):\n",
        "        image, label = self.img_labels[idx]\n",
        "        label = int(label)\n",
        "        image = Image.open(image)\n",
        "        if self.transform:\n",
        "            image = 1 - self.transform(image)\n",
        "        return image, label"
      ]
    },
    {
      "cell_type": "code",
      "execution_count": 17,
      "id": "f1175f91",
      "metadata": {
        "id": "f1175f91"
      },
      "outputs": [],
      "source": [
        "train_thaidigit_dataset = ThaiDigitDataset(\"data/train/\", transform=transform)\n",
        "val_thaidigit_dataset = ThaiDigitDataset(\"data/validation/\", transform=transform)"
      ]
    },
    {
      "cell_type": "code",
      "execution_count": 18,
      "id": "d4f83af9",
      "metadata": {
        "id": "d4f83af9"
      },
      "outputs": [],
      "source": [
        "train_loader = DataLoader(train_thaidigit_dataset, batch_size=16, shuffle=True)\n",
        "val_loader = DataLoader(val_thaidigit_dataset, batch_size=16, shuffle=False)"
      ]
    },
    {
      "cell_type": "code",
      "execution_count": 19,
      "id": "24c5be14",
      "metadata": {
        "id": "24c5be14"
      },
      "outputs": [],
      "source": [
        "# load example batch\n",
        "images, labels = next(iter(train_loader))"
      ]
    },
    {
      "cell_type": "code",
      "execution_count": 20,
      "id": "a3e30a7d",
      "metadata": {
        "colab": {
          "base_uri": "https://localhost:8080/"
        },
        "id": "a3e30a7d",
        "outputId": "22f02ab0-15ad-41d9-c137-0e0b00e74206"
      },
      "outputs": [
        {
          "data": {
            "text/plain": [
              "(torch.Size([16, 1, 28, 28]),\n",
              " tensor([3, 6, 8, 9, 6, 9, 2, 4, 2, 6, 6, 9, 2, 3, 7, 7]))"
            ]
          },
          "execution_count": 20,
          "metadata": {},
          "output_type": "execute_result"
        }
      ],
      "source": [
        "images.shape, labels"
      ]
    },
    {
      "cell_type": "markdown",
      "id": "275542ac",
      "metadata": {
        "id": "275542ac"
      },
      "source": [
        "## **Create the model**"
      ]
    },
    {
      "cell_type": "code",
      "execution_count": 21,
      "id": "abbd30d0",
      "metadata": {
        "id": "abbd30d0"
      },
      "outputs": [],
      "source": [
        "import torch.nn as nn\n",
        "import torch.nn.functional as F\n",
        "\n",
        "class ThaiDigitNet(nn.Module):\n",
        "    def __init__(self):\n",
        "        super(ThaiDigitNet, self).__init__()\n",
        "        self.fc1 = nn.Linear(28 * 28, 100)\n",
        "        self.fc2 = nn.Linear(100, 10)\n",
        "\n",
        "    def forward(self, x):\n",
        "        x = x.view(-1, 28 * 28)\n",
        "        x = self.fc1(x)\n",
        "        x = F.relu(x)\n",
        "        x = self.fc2(x)\n",
        "        return x"
      ]
    },
    {
      "cell_type": "code",
      "execution_count": 22,
      "id": "f31a9c8c",
      "metadata": {
        "id": "f31a9c8c"
      },
      "outputs": [],
      "source": [
        "net = ThaiDigitNet()\n",
        "images, labels = next(iter(train_loader))\n",
        "pred = net(images)"
      ]
    },
    {
      "cell_type": "code",
      "execution_count": 23,
      "id": "4678a296",
      "metadata": {
        "colab": {
          "base_uri": "https://localhost:8080/"
        },
        "id": "4678a296",
        "outputId": "b9377b38-d106-4fa3-b1ff-704ed91d523e"
      },
      "outputs": [
        {
          "data": {
            "text/plain": [
              "(torch.Size([16, 1, 28, 28]), torch.Size([16, 10]))"
            ]
          },
          "execution_count": 23,
          "metadata": {},
          "output_type": "execute_result"
        }
      ],
      "source": [
        "images.shape, pred.shape # check the size"
      ]
    },
    {
      "cell_type": "markdown",
      "id": "f0455ef9",
      "metadata": {
        "id": "f0455ef9"
      },
      "source": [
        "## **Train the model**\n",
        "\n",
        "**Note for loss function**\n",
        "- `CrossEntropyLoss` computes the cross entropy loss between logits and target. So we don't need to apply softmax to the output of the model.\n",
        "- This is equivalent to the combination of applying `LogSoftmax` at the last layer and use `NLLLoss` as a loss function."
      ]
    },
    {
      "cell_type": "code",
      "execution_count": 24,
      "id": "20e1525e",
      "metadata": {
        "colab": {
          "base_uri": "https://localhost:8080/"
        },
        "id": "20e1525e",
        "outputId": "ca92945b-e0ea-4ea1-f06d-a73e1e9865a7"
      },
      "outputs": [
        {
          "name": "stdout",
          "output_type": "stream",
          "text": [
            "loss: 2.3396129608154297 [epoch: 0 / # 0]\n",
            "loss: 2.2974932193756104 [epoch: 0 / # 800]\n",
            "validation accuracy = 0.1657142857142857, average loss = 2.2834015759554775\n",
            "loss: 2.3028576374053955 [epoch: 1 / # 0]\n",
            "loss: 2.2506356239318848 [epoch: 1 / # 800]\n",
            "validation accuracy = 0.22285714285714286, average loss = 2.2504713318564673\n",
            "loss: 2.199704170227051 [epoch: 2 / # 0]\n",
            "loss: 2.1973586082458496 [epoch: 2 / # 800]\n",
            "validation accuracy = 0.24, average loss = 2.206955324519764\n",
            "loss: 2.1684060096740723 [epoch: 3 / # 0]\n",
            "loss: 2.1875839233398438 [epoch: 3 / # 800]\n",
            "validation accuracy = 0.28, average loss = 2.1503434506329624\n",
            "loss: 1.9660453796386719 [epoch: 4 / # 0]\n",
            "loss: 2.0901434421539307 [epoch: 4 / # 800]\n",
            "validation accuracy = 0.30857142857142855, average loss = 2.081149090420116\n",
            "loss: 1.9914478063583374 [epoch: 5 / # 0]\n",
            "loss: 2.086956024169922 [epoch: 5 / # 800]\n",
            "validation accuracy = 0.38285714285714284, average loss = 1.998001835562966\n",
            "loss: 2.1015090942382812 [epoch: 6 / # 0]\n",
            "loss: 2.027534246444702 [epoch: 6 / # 800]\n",
            "validation accuracy = 0.38285714285714284, average loss = 1.9079645005139438\n",
            "loss: 1.8275891542434692 [epoch: 7 / # 0]\n",
            "loss: 1.742258071899414 [epoch: 7 / # 800]\n",
            "validation accuracy = 0.42857142857142855, average loss = 1.8132157759232954\n",
            "loss: 1.6689869165420532 [epoch: 8 / # 0]\n",
            "loss: 1.682967185974121 [epoch: 8 / # 800]\n",
            "validation accuracy = 0.4742857142857143, average loss = 1.7230599034916272\n",
            "loss: 1.6737977266311646 [epoch: 9 / # 0]\n",
            "loss: 1.578309416770935 [epoch: 9 / # 800]\n",
            "validation accuracy = 0.52, average loss = 1.6395943273197522\n",
            "loss: 1.7714953422546387 [epoch: 10 / # 0]\n",
            "loss: 1.5293245315551758 [epoch: 10 / # 800]\n",
            "validation accuracy = 0.56, average loss = 1.556493715806441\n",
            "loss: 1.5791689157485962 [epoch: 11 / # 0]\n",
            "loss: 1.193723440170288 [epoch: 11 / # 800]\n",
            "validation accuracy = 0.5771428571428572, average loss = 1.4867988716472278\n",
            "loss: 1.3035104274749756 [epoch: 12 / # 0]\n",
            "loss: 1.3702560663223267 [epoch: 12 / # 800]\n",
            "validation accuracy = 0.5657142857142857, average loss = 1.4364076310938054\n",
            "loss: 1.639717936515808 [epoch: 13 / # 0]\n",
            "loss: 1.464813232421875 [epoch: 13 / # 800]\n",
            "validation accuracy = 0.5828571428571429, average loss = 1.3843244585123928\n",
            "loss: 1.2885534763336182 [epoch: 14 / # 0]\n",
            "loss: 1.210452914237976 [epoch: 14 / # 800]\n",
            "validation accuracy = 0.5885714285714285, average loss = 1.3448169502344998\n",
            "loss: 1.3939255475997925 [epoch: 15 / # 0]\n",
            "loss: 1.5920519828796387 [epoch: 15 / # 800]\n",
            "validation accuracy = 0.6057142857142858, average loss = 1.3124551177024841\n",
            "loss: 1.1902589797973633 [epoch: 16 / # 0]\n",
            "loss: 0.7941890954971313 [epoch: 16 / # 800]\n",
            "validation accuracy = 0.6, average loss = 1.2811337871985002\n",
            "loss: 0.9764449000358582 [epoch: 17 / # 0]\n",
            "loss: 0.9818935990333557 [epoch: 17 / # 800]\n",
            "validation accuracy = 0.6114285714285714, average loss = 1.264499382539229\n",
            "loss: 1.0710450410842896 [epoch: 18 / # 0]\n",
            "loss: 1.0006946325302124 [epoch: 18 / # 800]\n",
            "validation accuracy = 0.6228571428571429, average loss = 1.2394004464149475\n",
            "loss: 1.027404546737671 [epoch: 19 / # 0]\n",
            "loss: 1.275176763534546 [epoch: 19 / # 800]\n",
            "validation accuracy = 0.6457142857142857, average loss = 1.2133868499235674\n",
            "loss: 1.0713835954666138 [epoch: 20 / # 0]\n",
            "loss: 1.1314181089401245 [epoch: 20 / # 800]\n",
            "validation accuracy = 0.6342857142857142, average loss = 1.200918809934096\n",
            "loss: 0.9926195740699768 [epoch: 21 / # 0]\n",
            "loss: 1.1249785423278809 [epoch: 21 / # 800]\n",
            "validation accuracy = 0.6342857142857142, average loss = 1.182606198570945\n",
            "loss: 1.0338526964187622 [epoch: 22 / # 0]\n",
            "loss: 0.8579947352409363 [epoch: 22 / # 800]\n",
            "validation accuracy = 0.6571428571428571, average loss = 1.1736818172714927\n",
            "loss: 1.5907162427902222 [epoch: 23 / # 0]\n",
            "loss: 1.1098345518112183 [epoch: 23 / # 800]\n",
            "validation accuracy = 0.6457142857142857, average loss = 1.155690604990179\n",
            "loss: 0.8341375589370728 [epoch: 24 / # 0]\n",
            "loss: 0.8407156467437744 [epoch: 24 / # 800]\n",
            "validation accuracy = 0.6514285714285715, average loss = 1.148197358304804\n",
            "loss: 0.9708396196365356 [epoch: 25 / # 0]\n",
            "loss: 0.8331707715988159 [epoch: 25 / # 800]\n",
            "validation accuracy = 0.6571428571428571, average loss = 1.1317915591326626\n",
            "loss: 1.5033992528915405 [epoch: 26 / # 0]\n",
            "loss: 0.9663760662078857 [epoch: 26 / # 800]\n",
            "validation accuracy = 0.6685714285714286, average loss = 1.1261817325245251\n",
            "loss: 0.9061568379402161 [epoch: 27 / # 0]\n",
            "loss: 0.8599696159362793 [epoch: 27 / # 800]\n",
            "validation accuracy = 0.6571428571428571, average loss = 1.115442151373083\n",
            "loss: 0.9956397414207458 [epoch: 28 / # 0]\n",
            "loss: 0.6287683248519897 [epoch: 28 / # 800]\n",
            "validation accuracy = 0.6685714285714286, average loss = 1.1120730205015703\n",
            "loss: 0.9858887195587158 [epoch: 29 / # 0]\n",
            "loss: 0.8750450611114502 [epoch: 29 / # 800]\n",
            "validation accuracy = 0.68, average loss = 1.1034401546825061\n",
            "loss: 1.0629101991653442 [epoch: 30 / # 0]\n",
            "loss: 0.7927833199501038 [epoch: 30 / # 800]\n",
            "validation accuracy = 0.6742857142857143, average loss = 1.0968878919428044\n",
            "loss: 0.9561581015586853 [epoch: 31 / # 0]\n",
            "loss: 1.172473669052124 [epoch: 31 / # 800]\n",
            "validation accuracy = 0.6685714285714286, average loss = 1.0876116969368674\n",
            "loss: 0.745917022228241 [epoch: 32 / # 0]\n",
            "loss: 0.7259106636047363 [epoch: 32 / # 800]\n",
            "validation accuracy = 0.6685714285714286, average loss = 1.0825199593197217\n",
            "loss: 0.529395580291748 [epoch: 33 / # 0]\n",
            "loss: 0.8774798512458801 [epoch: 33 / # 800]\n",
            "validation accuracy = 0.6685714285714286, average loss = 1.0805805054577915\n",
            "loss: 0.9350624084472656 [epoch: 34 / # 0]\n",
            "loss: 0.891503095626831 [epoch: 34 / # 800]\n",
            "validation accuracy = 0.6742857142857143, average loss = 1.0672011158683083\n",
            "loss: 0.9053346514701843 [epoch: 35 / # 0]\n",
            "loss: 1.325137972831726 [epoch: 35 / # 800]\n",
            "validation accuracy = 0.6685714285714286, average loss = 1.063816173510118\n",
            "loss: 1.6194736957550049 [epoch: 36 / # 0]\n",
            "loss: 0.9726111888885498 [epoch: 36 / # 800]\n",
            "validation accuracy = 0.6628571428571428, average loss = 1.0654883628541774\n",
            "loss: 0.8729684352874756 [epoch: 37 / # 0]\n",
            "loss: 0.8146976828575134 [epoch: 37 / # 800]\n",
            "validation accuracy = 0.68, average loss = 1.055273093960502\n",
            "loss: 0.9850253462791443 [epoch: 38 / # 0]\n",
            "loss: 0.6081452965736389 [epoch: 38 / # 800]\n",
            "validation accuracy = 0.68, average loss = 1.0491245632821864\n",
            "loss: 0.6945922374725342 [epoch: 39 / # 0]\n",
            "loss: 0.3807058334350586 [epoch: 39 / # 800]\n",
            "validation accuracy = 0.6685714285714286, average loss = 1.0477726459503174\n",
            "loss: 1.1649852991104126 [epoch: 40 / # 0]\n",
            "loss: 0.5680066347122192 [epoch: 40 / # 800]\n",
            "validation accuracy = 0.6914285714285714, average loss = 1.0417346466671338\n",
            "loss: 0.7677896022796631 [epoch: 41 / # 0]\n",
            "loss: 0.7892158031463623 [epoch: 41 / # 800]\n",
            "validation accuracy = 0.6685714285714286, average loss = 1.0401400381868535\n",
            "loss: 0.8196778893470764 [epoch: 42 / # 0]\n",
            "loss: 0.8395624756813049 [epoch: 42 / # 800]\n",
            "validation accuracy = 0.6685714285714286, average loss = 1.0373100584203547\n",
            "loss: 0.4624795913696289 [epoch: 43 / # 0]\n",
            "loss: 0.7493361234664917 [epoch: 43 / # 800]\n",
            "validation accuracy = 0.6742857142857143, average loss = 1.0271701623093\n",
            "loss: 0.8880569934844971 [epoch: 44 / # 0]\n",
            "loss: 0.6220991015434265 [epoch: 44 / # 800]\n",
            "validation accuracy = 0.6971428571428572, average loss = 1.0225406072356484\n",
            "loss: 0.5531266331672668 [epoch: 45 / # 0]\n",
            "loss: 0.7374982237815857 [epoch: 45 / # 800]\n",
            "validation accuracy = 0.6742857142857143, average loss = 1.0175613246180795\n",
            "loss: 0.6966497302055359 [epoch: 46 / # 0]\n",
            "loss: 1.0184372663497925 [epoch: 46 / # 800]\n",
            "validation accuracy = 0.6857142857142857, average loss = 1.0171601989052512\n",
            "loss: 0.9915539622306824 [epoch: 47 / # 0]\n",
            "loss: 0.613631010055542 [epoch: 47 / # 800]\n",
            "validation accuracy = 0.6742857142857143, average loss = 1.0164172649383545\n",
            "loss: 0.7978851199150085 [epoch: 48 / # 0]\n",
            "loss: 0.8065462112426758 [epoch: 48 / # 800]\n",
            "validation accuracy = 0.68, average loss = 1.0068592754277317\n",
            "loss: 0.853498101234436 [epoch: 49 / # 0]\n",
            "loss: 0.5477460622787476 [epoch: 49 / # 800]\n",
            "validation accuracy = 0.6742857142857143, average loss = 1.0061412047256122\n"
          ]
        }
      ],
      "source": [
        "loss_fn = nn.CrossEntropyLoss()\n",
        "optimizer = torch.optim.SGD(net.parameters(), lr=0.01)\n",
        "update_steps = 50\n",
        "n_epochs = 50\n",
        "\n",
        "for epoch in range(n_epochs):\n",
        "    # training\n",
        "    net.train()\n",
        "    for batch_idx, (images, labels) in enumerate(train_loader):\n",
        "        pred = net(images)\n",
        "        loss = loss_fn(pred, labels)\n",
        "\n",
        "        optimizer.zero_grad()\n",
        "        loss.backward()\n",
        "        optimizer.step()\n",
        "\n",
        "        if batch_idx % update_steps == 0:\n",
        "            print(f\"loss: {loss.item()} [epoch: {epoch} / # {batch_idx * len(images)}]\")\n",
        "\n",
        "    # validation\n",
        "    net.eval()\n",
        "    val_loss, correct = 0, 0\n",
        "    n_val = len(val_loader.dataset)\n",
        "    for images, labels in val_loader:\n",
        "        pred = net(images)\n",
        "        val_loss += loss_fn(pred, labels).item()\n",
        "        correct += (pred.argmax(1) == labels).float().sum().item()\n",
        "    print(f\"validation accuracy = {correct / n_val}, average loss = {val_loss / len(val_loader)}\")"
      ]
    },
    {
      "cell_type": "markdown",
      "id": "2a0229f1",
      "metadata": {
        "id": "2a0229f1"
      },
      "source": [
        "## **Use the model**"
      ]
    },
    {
      "cell_type": "code",
      "execution_count": 36,
      "id": "5b41a1c8",
      "metadata": {
        "colab": {
          "base_uri": "https://localhost:8080/",
          "height": 281
        },
        "id": "5b41a1c8",
        "outputId": "8648b976-7880-4fa1-a52a-99fd7657f585"
      },
      "outputs": [
        {
          "data": {
            "image/png": "[encoded data removed]",
            "text/plain": [
              "<Figure size 432x288 with 1 Axes>"
            ]
          },
          "metadata": {
            "needs_background": "light"
          },
          "output_type": "display_data"
        }
      ],
      "source": [
        "sample_path = glob(\"data/validation/*/*.png\")[30]\n",
        "img = Image.open(sample_path)\n",
        "img = (1 - transform(img)).squeeze(0)\n",
        "pred = net(img)\n",
        "pred = int(pred.argmax(dim=1))\n",
        "true_class = Path(sample_path).parent.name\n",
        "\n",
        "plt.title(\"Predicted class = {}, True class = {}\".format(pred, true_class))\n",
        "plt.imshow(img, cmap=\"gray\")\n",
        "plt.show()"
      ]
    },
    {
      "cell_type": "markdown",
      "id": "hQMZ5aP1-hJG",
      "metadata": {
        "id": "hQMZ5aP1-hJG"
      },
      "source": [
        "## Save model"
      ]
    },
    {
      "cell_type": "code",
      "execution_count": 37,
      "id": "0vWXYfoQ-I62",
      "metadata": {
        "id": "0vWXYfoQ-I62"
      },
      "outputs": [],
      "source": [
        "save_path = \"thai_digit.pth\"\n",
        "torch.save(net.state_dict(), save_path)"
      ]
    },
    {
      "cell_type": "markdown",
      "id": "CkPxldHf-6Ze",
      "metadata": {
        "id": "CkPxldHf-6Ze"
      },
      "source": [
        "## Load model and predict"
      ]
    },
    {
      "cell_type": "code",
      "execution_count": 38,
      "id": "OrzXa7R8ASzd",
      "metadata": {
        "id": "OrzXa7R8ASzd"
      },
      "outputs": [],
      "source": [
        "import torch.nn as nn\n",
        "import torch.nn.functional as F\n",
        "from PIL import Image\n",
        "\n",
        "class ThaiDigitNet(nn.Module):\n",
        "    def __init__(self):\n",
        "        super(ThaiDigitNet, self).__init__()\n",
        "        self.fc1 = nn.Linear(28 * 28, 100)\n",
        "        self.fc2 = nn.Linear(100, 10)\n",
        "\n",
        "    def forward(self, x):\n",
        "        x = x.view(-1, 28 * 28)\n",
        "        x = self.fc1(x)\n",
        "        x = F.relu(x)\n",
        "        x = self.fc2(x)\n",
        "        return x"
      ]
    },
    {
      "cell_type": "code",
      "execution_count": 39,
      "id": "saiukFfp-3jw",
      "metadata": {
        "colab": {
          "base_uri": "https://localhost:8080/"
        },
        "id": "saiukFfp-3jw",
        "outputId": "8664d6e9-ec14-4adb-f991-7e8bccdfe5e1"
      },
      "outputs": [
        {
          "data": {
            "text/plain": [
              "<All keys matched successfully>"
            ]
          },
          "execution_count": 39,
          "metadata": {},
          "output_type": "execute_result"
        }
      ],
      "source": [
        "# load\n",
        "model = ThaiDigitNet()  # initialize the model\n",
        "model.load_state_dict(torch.load(\"thai_digit.pth\")) # load model"
      ]
    },
    {
      "cell_type": "code",
      "execution_count": 40,
      "id": "DRV180P7AgEv",
      "metadata": {
        "colab": {
          "base_uri": "https://localhost:8080/",
          "height": 281
        },
        "id": "DRV180P7AgEv",
        "outputId": "fe51fa04-808b-4a7f-a8e8-059b5042621d"
      },
      "outputs": [
        {
          "data": {
            "image/png": "[encoded data removed]",
            "text/plain": [
              "<Figure size 432x288 with 1 Axes>"
            ]
          },
          "metadata": {
            "needs_background": "light"
          },
          "output_type": "display_data"
        }
      ],
      "source": [
        "sample_path = glob(\"data/validation/*/*.png\")[30]\n",
        "img = Image.open(sample_path)\n",
        "img = (1 - transform(img)).squeeze(0)\n",
        "pred = model(img)\n",
        "pred = int(pred.argmax(dim=1))\n",
        "true_class = Path(sample_path).parent.name\n",
        "\n",
        "plt.title(\"Predicted class = {}, True class = {}\".format(pred, true_class))\n",
        "plt.imshow(img, cmap=\"gray\")\n",
        "plt.show()"
      ]
    }
  ],
  "metadata": {
    "accelerator": "GPU",
    "colab": {
      "provenance": []
    },
    "gpuClass": "standard",
    "kernelspec": {
      "display_name": "Python 3 (ipykernel)",
      "language": "python",
      "name": "python3"
    },
    "language_info": {
      "codemirror_mode": {
        "name": "ipython",
        "version": 3
      },
      "file_extension": ".py",
      "mimetype": "text/x-python",
      "name": "python",
      "nbconvert_exporter": "python",
      "pygments_lexer": "ipython3",
      "version": "3.7.13"
    },
    "widgets": {
      "application/vnd.jupyter.widget-state+json": {
        "011a5b6951434fd8929258b580821d7e": {
          "model_module": "@jupyter-widgets/base",
          "model_module_version": "1.2.0",
          "model_name": "LayoutModel",
          "state": {
            "_model_module": "@jupyter-widgets/base",
            "_model_module_version": "1.2.0",
            "_model_name": "LayoutModel",
            "_view_count": null,
            "_view_module": "@jupyter-widgets/base",
            "_view_module_version": "1.2.0",
            "_view_name": "LayoutView",
            "align_content": null,
            "align_items": null,
            "align_self": null,
            "border": null,
            "bottom": null,
            "display": null,
            "flex": null,
            "flex_flow": null,
            "grid_area": null,
            "grid_auto_columns": null,
            "grid_auto_flow": null,
            "grid_auto_rows": null,
            "grid_column": null,
            "grid_gap": null,
            "grid_row": null,
            "grid_template_areas": null,
            "grid_template_columns": null,
            "grid_template_rows": null,
            "height": null,
            "justify_content": null,
            "justify_items": null,
            "left": null,
            "margin": null,
            "max_height": null,
            "max_width": null,
            "min_height": null,
            "min_width": null,
            "object_fit": null,
            "object_position": null,
            "order": null,
            "overflow": null,
            "overflow_x": null,
            "overflow_y": null,
            "padding": null,
            "right": null,
            "top": null,
            "visibility": null,
            "width": null
          }
        },
        "098b444c2134459d9866c901f72b0129": {
          "model_module": "@jupyter-widgets/controls",
          "model_module_version": "1.5.0",
          "model_name": "DescriptionStyleModel",
          "state": {
            "_model_module": "@jupyter-widgets/controls",
            "_model_module_version": "1.5.0",
            "_model_name": "DescriptionStyleModel",
            "_view_count": null,
            "_view_module": "@jupyter-widgets/base",
            "_view_module_version": "1.2.0",
            "_view_name": "StyleView",
            "description_width": ""
          }
        },
        "1075d8c6bf9d47009e36fe62c6d550e2": {
          "model_module": "@jupyter-widgets/base",
          "model_module_version": "1.2.0",
          "model_name": "LayoutModel",
          "state": {
            "_model_module": "@jupyter-widgets/base",
            "_model_module_version": "1.2.0",
            "_model_name": "LayoutModel",
            "_view_count": null,
            "_view_module": "@jupyter-widgets/base",
            "_view_module_version": "1.2.0",
            "_view_name": "LayoutView",
            "align_content": null,
            "align_items": null,
            "align_self": null,
            "border": null,
            "bottom": null,
            "display": null,
            "flex": null,
            "flex_flow": null,
            "grid_area": null,
            "grid_auto_columns": null,
            "grid_auto_flow": null,
            "grid_auto_rows": null,
            "grid_column": null,
            "grid_gap": null,
            "grid_row": null,
            "grid_template_areas": null,
            "grid_template_columns": null,
            "grid_template_rows": null,
            "height": null,
            "justify_content": null,
            "justify_items": null,
            "left": null,
            "margin": null,
            "max_height": null,
            "max_width": null,
            "min_height": null,
            "min_width": null,
            "object_fit": null,
            "object_position": null,
            "order": null,
            "overflow": null,
            "overflow_x": null,
            "overflow_y": null,
            "padding": null,
            "right": null,
            "top": null,
            "visibility": null,
            "width": null
          }
        },
        "1fb07294e26548bd8a32d2dc3109599d": {
          "model_module": "@jupyter-widgets/controls",
          "model_module_version": "1.5.0",
          "model_name": "FloatProgressModel",
          "state": {
            "_dom_classes": [],
            "_model_module": "@jupyter-widgets/controls",
            "_model_module_version": "1.5.0",
            "_model_name": "FloatProgressModel",
            "_view_count": null,
            "_view_module": "@jupyter-widgets/controls",
            "_view_module_version": "1.5.0",
            "_view_name": "ProgressView",
            "bar_style": "success",
            "description": "",
            "description_tooltip": null,
            "layout": "IPY_MODEL_45d6a6a522c04ace80ab4c846245f45d",
            "max": 175,
            "min": 0,
            "orientation": "horizontal",
            "style": "IPY_MODEL_97e86ab6fca74a9a9f27115dfb50bcae",
            "value": 175
          }
        },
        "25db0e932dea45f8b4eaee49a058709f": {
          "model_module": "@jupyter-widgets/base",
          "model_module_version": "1.2.0",
          "model_name": "LayoutModel",
          "state": {
            "_model_module": "@jupyter-widgets/base",
            "_model_module_version": "1.2.0",
            "_model_name": "LayoutModel",
            "_view_count": null,
            "_view_module": "@jupyter-widgets/base",
            "_view_module_version": "1.2.0",
            "_view_name": "LayoutView",
            "align_content": null,
            "align_items": null,
            "align_self": null,
            "border": null,
            "bottom": null,
            "display": null,
            "flex": null,
            "flex_flow": null,
            "grid_area": null,
            "grid_auto_columns": null,
            "grid_auto_flow": null,
            "grid_auto_rows": null,
            "grid_column": null,
            "grid_gap": null,
            "grid_row": null,
            "grid_template_areas": null,
            "grid_template_columns": null,
            "grid_template_rows": null,
            "height": null,
            "justify_content": null,
            "justify_items": null,
            "left": null,
            "margin": null,
            "max_height": null,
            "max_width": null,
            "min_height": null,
            "min_width": null,
            "object_fit": null,
            "object_position": null,
            "order": null,
            "overflow": null,
            "overflow_x": null,
            "overflow_y": null,
            "padding": null,
            "right": null,
            "top": null,
            "visibility": null,
            "width": null
          }
        },
        "26b3e5c8b9e54e5d8e4a234f51d2e8fe": {
          "model_module": "@jupyter-widgets/base",
          "model_module_version": "1.2.0",
          "model_name": "LayoutModel",
          "state": {
            "_model_module": "@jupyter-widgets/base",
            "_model_module_version": "1.2.0",
            "_model_name": "LayoutModel",
            "_view_count": null,
            "_view_module": "@jupyter-widgets/base",
            "_view_module_version": "1.2.0",
            "_view_name": "LayoutView",
            "align_content": null,
            "align_items": null,
            "align_self": null,
            "border": null,
            "bottom": null,
            "display": null,
            "flex": null,
            "flex_flow": null,
            "grid_area": null,
            "grid_auto_columns": null,
            "grid_auto_flow": null,
            "grid_auto_rows": null,
            "grid_column": null,
            "grid_gap": null,
            "grid_row": null,
            "grid_template_areas": null,
            "grid_template_columns": null,
            "grid_template_rows": null,
            "height": null,
            "justify_content": null,
            "justify_items": null,
            "left": null,
            "margin": null,
            "max_height": null,
            "max_width": null,
            "min_height": null,
            "min_width": null,
            "object_fit": null,
            "object_position": null,
            "order": null,
            "overflow": null,
            "overflow_x": null,
            "overflow_y": null,
            "padding": null,
            "right": null,
            "top": null,
            "visibility": null,
            "width": null
          }
        },
        "3f6a368870c0416f87417ba352d81fd7": {
          "model_module": "@jupyter-widgets/controls",
          "model_module_version": "1.5.0",
          "model_name": "HTMLModel",
          "state": {
            "_dom_classes": [],
            "_model_module": "@jupyter-widgets/controls",
            "_model_module_version": "1.5.0",
            "_model_name": "HTMLModel",
            "_view_count": null,
            "_view_module": "@jupyter-widgets/controls",
            "_view_module_version": "1.5.0",
            "_view_name": "HTMLView",
            "description": "",
            "description_tooltip": null,
            "layout": "IPY_MODEL_507ace20498347ce9e76749334a86738",
            "placeholder": "​",
            "style": "IPY_MODEL_098b444c2134459d9866c901f72b0129",
            "value": " 1575/1575 [00:00&lt;00:00, 6079.35it/s]"
          }
        },
        "3fe2522755ab408887ebae47e1554851": {
          "model_module": "@jupyter-widgets/base",
          "model_module_version": "1.2.0",
          "model_name": "LayoutModel",
          "state": {
            "_model_module": "@jupyter-widgets/base",
            "_model_module_version": "1.2.0",
            "_model_name": "LayoutModel",
            "_view_count": null,
            "_view_module": "@jupyter-widgets/base",
            "_view_module_version": "1.2.0",
            "_view_name": "LayoutView",
            "align_content": null,
            "align_items": null,
            "align_self": null,
            "border": null,
            "bottom": null,
            "display": null,
            "flex": null,
            "flex_flow": null,
            "grid_area": null,
            "grid_auto_columns": null,
            "grid_auto_flow": null,
            "grid_auto_rows": null,
            "grid_column": null,
            "grid_gap": null,
            "grid_row": null,
            "grid_template_areas": null,
            "grid_template_columns": null,
            "grid_template_rows": null,
            "height": null,
            "justify_content": null,
            "justify_items": null,
            "left": null,
            "margin": null,
            "max_height": null,
            "max_width": null,
            "min_height": null,
            "min_width": null,
            "object_fit": null,
            "object_position": null,
            "order": null,
            "overflow": null,
            "overflow_x": null,
            "overflow_y": null,
            "padding": null,
            "right": null,
            "top": null,
            "visibility": null,
            "width": null
          }
        },
        "45d6a6a522c04ace80ab4c846245f45d": {
          "model_module": "@jupyter-widgets/base",
          "model_module_version": "1.2.0",
          "model_name": "LayoutModel",
          "state": {
            "_model_module": "@jupyter-widgets/base",
            "_model_module_version": "1.2.0",
            "_model_name": "LayoutModel",
            "_view_count": null,
            "_view_module": "@jupyter-widgets/base",
            "_view_module_version": "1.2.0",
            "_view_name": "LayoutView",
            "align_content": null,
            "align_items": null,
            "align_self": null,
            "border": null,
            "bottom": null,
            "display": null,
            "flex": null,
            "flex_flow": null,
            "grid_area": null,
            "grid_auto_columns": null,
            "grid_auto_flow": null,
            "grid_auto_rows": null,
            "grid_column": null,
            "grid_gap": null,
            "grid_row": null,
            "grid_template_areas": null,
            "grid_template_columns": null,
            "grid_template_rows": null,
            "height": null,
            "justify_content": null,
            "justify_items": null,
            "left": null,
            "margin": null,
            "max_height": null,
            "max_width": null,
            "min_height": null,
            "min_width": null,
            "object_fit": null,
            "object_position": null,
            "order": null,
            "overflow": null,
            "overflow_x": null,
            "overflow_y": null,
            "padding": null,
            "right": null,
            "top": null,
            "visibility": null,
            "width": null
          }
        },
        "4a08213da7c946729a826f418aeff861": {
          "model_module": "@jupyter-widgets/controls",
          "model_module_version": "1.5.0",
          "model_name": "FloatProgressModel",
          "state": {
            "_dom_classes": [],
            "_model_module": "@jupyter-widgets/controls",
            "_model_module_version": "1.5.0",
            "_model_name": "FloatProgressModel",
            "_view_count": null,
            "_view_module": "@jupyter-widgets/controls",
            "_view_module_version": "1.5.0",
            "_view_name": "ProgressView",
            "bar_style": "success",
            "description": "",
            "description_tooltip": null,
            "layout": "IPY_MODEL_26b3e5c8b9e54e5d8e4a234f51d2e8fe",
            "max": 1575,
            "min": 0,
            "orientation": "horizontal",
            "style": "IPY_MODEL_8d8101d0d3104cb88960798e25cff91d",
            "value": 1575
          }
        },
        "4fdf6463b5514fdb89674f9222feb895": {
          "model_module": "@jupyter-widgets/controls",
          "model_module_version": "1.5.0",
          "model_name": "HTMLModel",
          "state": {
            "_dom_classes": [],
            "_model_module": "@jupyter-widgets/controls",
            "_model_module_version": "1.5.0",
            "_model_name": "HTMLModel",
            "_view_count": null,
            "_view_module": "@jupyter-widgets/controls",
            "_view_module_version": "1.5.0",
            "_view_name": "HTMLView",
            "description": "",
            "description_tooltip": null,
            "layout": "IPY_MODEL_3fe2522755ab408887ebae47e1554851",
            "placeholder": "​",
            "style": "IPY_MODEL_69541f51a291485989a7924c54bc1746",
            "value": "100%"
          }
        },
        "507ace20498347ce9e76749334a86738": {
          "model_module": "@jupyter-widgets/base",
          "model_module_version": "1.2.0",
          "model_name": "LayoutModel",
          "state": {
            "_model_module": "@jupyter-widgets/base",
            "_model_module_version": "1.2.0",
            "_model_name": "LayoutModel",
            "_view_count": null,
            "_view_module": "@jupyter-widgets/base",
            "_view_module_version": "1.2.0",
            "_view_name": "LayoutView",
            "align_content": null,
            "align_items": null,
            "align_self": null,
            "border": null,
            "bottom": null,
            "display": null,
            "flex": null,
            "flex_flow": null,
            "grid_area": null,
            "grid_auto_columns": null,
            "grid_auto_flow": null,
            "grid_auto_rows": null,
            "grid_column": null,
            "grid_gap": null,
            "grid_row": null,
            "grid_template_areas": null,
            "grid_template_columns": null,
            "grid_template_rows": null,
            "height": null,
            "justify_content": null,
            "justify_items": null,
            "left": null,
            "margin": null,
            "max_height": null,
            "max_width": null,
            "min_height": null,
            "min_width": null,
            "object_fit": null,
            "object_position": null,
            "order": null,
            "overflow": null,
            "overflow_x": null,
            "overflow_y": null,
            "padding": null,
            "right": null,
            "top": null,
            "visibility": null,
            "width": null
          }
        },
        "5479f05ba30045d3a71cd886ab5b01c6": {
          "model_module": "@jupyter-widgets/base",
          "model_module_version": "1.2.0",
          "model_name": "LayoutModel",
          "state": {
            "_model_module": "@jupyter-widgets/base",
            "_model_module_version": "1.2.0",
            "_model_name": "LayoutModel",
            "_view_count": null,
            "_view_module": "@jupyter-widgets/base",
            "_view_module_version": "1.2.0",
            "_view_name": "LayoutView",
            "align_content": null,
            "align_items": null,
            "align_self": null,
            "border": null,
            "bottom": null,
            "display": null,
            "flex": null,
            "flex_flow": null,
            "grid_area": null,
            "grid_auto_columns": null,
            "grid_auto_flow": null,
            "grid_auto_rows": null,
            "grid_column": null,
            "grid_gap": null,
            "grid_row": null,
            "grid_template_areas": null,
            "grid_template_columns": null,
            "grid_template_rows": null,
            "height": null,
            "justify_content": null,
            "justify_items": null,
            "left": null,
            "margin": null,
            "max_height": null,
            "max_width": null,
            "min_height": null,
            "min_width": null,
            "object_fit": null,
            "object_position": null,
            "order": null,
            "overflow": null,
            "overflow_x": null,
            "overflow_y": null,
            "padding": null,
            "right": null,
            "top": null,
            "visibility": null,
            "width": null
          }
        },
        "5a8f51d283ec40b698774277dd04716a": {
          "model_module": "@jupyter-widgets/controls",
          "model_module_version": "1.5.0",
          "model_name": "HBoxModel",
          "state": {
            "_dom_classes": [],
            "_model_module": "@jupyter-widgets/controls",
            "_model_module_version": "1.5.0",
            "_model_name": "HBoxModel",
            "_view_count": null,
            "_view_module": "@jupyter-widgets/controls",
            "_view_module_version": "1.5.0",
            "_view_name": "HBoxView",
            "box_style": "",
            "children": [
              "IPY_MODEL_4fdf6463b5514fdb89674f9222feb895",
              "IPY_MODEL_1fb07294e26548bd8a32d2dc3109599d",
              "IPY_MODEL_5d832918ce07498180066a86f6ff11d8"
            ],
            "layout": "IPY_MODEL_1075d8c6bf9d47009e36fe62c6d550e2"
          }
        },
        "5d832918ce07498180066a86f6ff11d8": {
          "model_module": "@jupyter-widgets/controls",
          "model_module_version": "1.5.0",
          "model_name": "HTMLModel",
          "state": {
            "_dom_classes": [],
            "_model_module": "@jupyter-widgets/controls",
            "_model_module_version": "1.5.0",
            "_model_name": "HTMLModel",
            "_view_count": null,
            "_view_module": "@jupyter-widgets/controls",
            "_view_module_version": "1.5.0",
            "_view_name": "HTMLView",
            "description": "",
            "description_tooltip": null,
            "layout": "IPY_MODEL_25db0e932dea45f8b4eaee49a058709f",
            "placeholder": "​",
            "style": "IPY_MODEL_c961b6ebd8184b06b19d8ed4203013df",
            "value": " 175/175 [00:00&lt;00:00, 2904.21it/s]"
          }
        },
        "69541f51a291485989a7924c54bc1746": {
          "model_module": "@jupyter-widgets/controls",
          "model_module_version": "1.5.0",
          "model_name": "DescriptionStyleModel",
          "state": {
            "_model_module": "@jupyter-widgets/controls",
            "_model_module_version": "1.5.0",
            "_model_name": "DescriptionStyleModel",
            "_view_count": null,
            "_view_module": "@jupyter-widgets/base",
            "_view_module_version": "1.2.0",
            "_view_name": "StyleView",
            "description_width": ""
          }
        },
        "7a56e830cf034e4c9435f8b7052b4660": {
          "model_module": "@jupyter-widgets/controls",
          "model_module_version": "1.5.0",
          "model_name": "DescriptionStyleModel",
          "state": {
            "_model_module": "@jupyter-widgets/controls",
            "_model_module_version": "1.5.0",
            "_model_name": "DescriptionStyleModel",
            "_view_count": null,
            "_view_module": "@jupyter-widgets/base",
            "_view_module_version": "1.2.0",
            "_view_name": "StyleView",
            "description_width": ""
          }
        },
        "8d8101d0d3104cb88960798e25cff91d": {
          "model_module": "@jupyter-widgets/controls",
          "model_module_version": "1.5.0",
          "model_name": "ProgressStyleModel",
          "state": {
            "_model_module": "@jupyter-widgets/controls",
            "_model_module_version": "1.5.0",
            "_model_name": "ProgressStyleModel",
            "_view_count": null,
            "_view_module": "@jupyter-widgets/base",
            "_view_module_version": "1.2.0",
            "_view_name": "StyleView",
            "bar_color": null,
            "description_width": ""
          }
        },
        "97e86ab6fca74a9a9f27115dfb50bcae": {
          "model_module": "@jupyter-widgets/controls",
          "model_module_version": "1.5.0",
          "model_name": "ProgressStyleModel",
          "state": {
            "_model_module": "@jupyter-widgets/controls",
            "_model_module_version": "1.5.0",
            "_model_name": "ProgressStyleModel",
            "_view_count": null,
            "_view_module": "@jupyter-widgets/base",
            "_view_module_version": "1.2.0",
            "_view_name": "StyleView",
            "bar_color": null,
            "description_width": ""
          }
        },
        "c961b6ebd8184b06b19d8ed4203013df": {
          "model_module": "@jupyter-widgets/controls",
          "model_module_version": "1.5.0",
          "model_name": "DescriptionStyleModel",
          "state": {
            "_model_module": "@jupyter-widgets/controls",
            "_model_module_version": "1.5.0",
            "_model_name": "DescriptionStyleModel",
            "_view_count": null,
            "_view_module": "@jupyter-widgets/base",
            "_view_module_version": "1.2.0",
            "_view_name": "StyleView",
            "description_width": ""
          }
        },
        "f1995e5d3d654bfe84446c7a021a72fd": {
          "model_module": "@jupyter-widgets/controls",
          "model_module_version": "1.5.0",
          "model_name": "HBoxModel",
          "state": {
            "_dom_classes": [],
            "_model_module": "@jupyter-widgets/controls",
            "_model_module_version": "1.5.0",
            "_model_name": "HBoxModel",
            "_view_count": null,
            "_view_module": "@jupyter-widgets/controls",
            "_view_module_version": "1.5.0",
            "_view_name": "HBoxView",
            "box_style": "",
            "children": [
              "IPY_MODEL_fd8a7207f576405e942635fd84cc44fb",
              "IPY_MODEL_4a08213da7c946729a826f418aeff861",
              "IPY_MODEL_3f6a368870c0416f87417ba352d81fd7"
            ],
            "layout": "IPY_MODEL_011a5b6951434fd8929258b580821d7e"
          }
        },
        "fd8a7207f576405e942635fd84cc44fb": {
          "model_module": "@jupyter-widgets/controls",
          "model_module_version": "1.5.0",
          "model_name": "HTMLModel",
          "state": {
            "_dom_classes": [],
            "_model_module": "@jupyter-widgets/controls",
            "_model_module_version": "1.5.0",
            "_model_name": "HTMLModel",
            "_view_count": null,
            "_view_module": "@jupyter-widgets/controls",
            "_view_module_version": "1.5.0",
            "_view_name": "HTMLView",
            "description": "",
            "description_tooltip": null,
            "layout": "IPY_MODEL_5479f05ba30045d3a71cd886ab5b01c6",
            "placeholder": "​",
            "style": "IPY_MODEL_7a56e830cf034e4c9435f8b7052b4660",
            "value": "100%"
          }
        }
      }
    }
  },
  "nbformat": 4,
  "nbformat_minor": 5
}
