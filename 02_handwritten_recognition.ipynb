{
 "cells": [
  {
   "cell_type": "markdown",
   "id": "cfc52381",
   "metadata": {},
   "source": [
    "[![Open in Colab](https://colab.research.google.com/assets/colab-badge.svg)](https://colab.research.google.com/github/biodatlab/deep-learning-skooldio/blob/master/02_handwritten_recognition.ipynb)\n",
    "\n",
    "## **Thai-digit handwritten classification with Pytorch**\n",
    "\n",
    "This notebook contains a hands-on code for Deep learning class \"Thai-digit handwritten classification with Pytorch\" by Skooldio"
   ]
  },
  {
   "cell_type": "markdown",
   "id": "3aa56f94",
   "metadata": {},
   "source": [
    "## **Download and clean the dataset from the repository**\n",
    "\n",
    "- We have downloaded the data from https://github.com/kittinan/thai-handwriting-number by cloning the repository\n",
    "- Remove files that have character mismatch (as suggested by the the creator)\n",
    "- Then, we put the cleaned data at https://github.com/biodatlab/deep-learning-skooldio"
   ]
  },
  {
   "cell_type": "code",
   "execution_count": 2,
   "id": "f7deb2f6",
   "metadata": {},
   "outputs": [
    {
     "name": "stdout",
     "output_type": "stream",
     "text": [
      "Cloning into 'deep-learning-skooldio'...\n",
      "remote: Enumerating objects: 1722, done.\u001b[K\n",
      "remote: Counting objects: 100% (1722/1722), done.\u001b[K\n",
      "remote: Compressing objects: 100% (1708/1708), done.\u001b[K\n",
      "remote: Total 1722 (delta 17), reused 1719 (delta 14), pack-reused 0\u001b[K\n",
      "Receiving objects: 100% (1722/1722), 11.79 MiB | 597.00 KiB/s, done.\n",
      "Resolving deltas: 100% (17/17), done.\n"
     ]
    }
   ],
   "source": [
    "!git clone https://github.com/biodatlab/deep-learning-skooldio"
   ]
  },
  {
   "cell_type": "code",
   "execution_count": 3,
   "id": "2ad2a443",
   "metadata": {},
   "outputs": [],
   "source": [
    "import os\n",
    "import os.path as op\n",
    "from glob import glob\n",
    "from pathlib import Path"
   ]
  },
  {
   "cell_type": "code",
   "execution_count": 7,
   "id": "64ce2573",
   "metadata": {},
   "outputs": [],
   "source": [
    "directory = \"deep-learning-skooldio/\"\n",
    "paths = glob(op.join(directory, \"thai-handwritten-dataset\", \"*\", \"*\"))"
   ]
  },
  {
   "cell_type": "code",
   "execution_count": 9,
   "id": "964fdc70",
   "metadata": {},
   "outputs": [
    {
     "data": {
      "text/plain": [
       "Counter({'9': 175,\n",
       "         '0': 175,\n",
       "         '7': 175,\n",
       "         '6': 175,\n",
       "         '1': 175,\n",
       "         '8': 175,\n",
       "         '4': 175,\n",
       "         '3': 175,\n",
       "         '2': 175,\n",
       "         '5': 175})"
      ]
     },
     "execution_count": 9,
     "metadata": {},
     "output_type": "execute_result"
    }
   ],
   "source": [
    "from collections import Counter\n",
    "Counter([Path(p).parent.name for p in paths])"
   ]
  },
  {
   "cell_type": "code",
   "execution_count": 10,
   "id": "23eedef9",
   "metadata": {},
   "outputs": [],
   "source": [
    "from PIL import Image"
   ]
  },
  {
   "cell_type": "code",
   "execution_count": 11,
   "id": "75f10add",
   "metadata": {},
   "outputs": [
    {
     "name": "stdout",
     "output_type": "stream",
     "text": [
      "7\n"
     ]
    },
    {
     "data": {
      "image/png": "[encoded data removed]",
      "text/plain": [
       "<PIL.PngImagePlugin.PngImageFile image mode=RGBA size=300x300 at 0x7FE2A3391ED0>"
      ]
     },
     "execution_count": 11,
     "metadata": {},
     "output_type": "execute_result"
    }
   ],
   "source": [
    "idx = 460\n",
    "print(Path(paths[idx]).parent.name)\n",
    "Image.open(paths[idx])"
   ]
  },
  {
   "cell_type": "code",
   "execution_count": 12,
   "id": "6aa0f5b4",
   "metadata": {},
   "outputs": [],
   "source": [
    "from tqdm.auto import tqdm\n",
    "from sklearn.model_selection import train_test_split\n",
    "import shutil\n",
    "\n",
    "train_paths, test_paths = train_test_split(paths, test_size=0.1, random_state=42)"
   ]
  },
  {
   "cell_type": "code",
   "execution_count": 13,
   "id": "6e56a41b",
   "metadata": {},
   "outputs": [],
   "source": [
    "for i in range(10):\n",
    "    os.makedirs(f\"data/train/{i}\", exist_ok=True)\n",
    "    os.makedirs(f\"data/validation/{i}\", exist_ok=True)"
   ]
  },
  {
   "cell_type": "code",
   "execution_count": 14,
   "id": "fe1d237b",
   "metadata": {},
   "outputs": [],
   "source": [
    "def copy_to_destination(src_paths, dst_path: str = \"data/train/\"):\n",
    "    for path in tqdm(src_paths):\n",
    "        path = Path(path)\n",
    "        if path.parent.name == \"10\":\n",
    "            parent_dir = \"0\"\n",
    "        else:\n",
    "            parent_dir = path.parent.name\n",
    "        shutil.copy(path, op.join(dst_path, parent_dir, path.name))"
   ]
  },
  {
   "cell_type": "code",
   "execution_count": 15,
   "id": "af9064ae",
   "metadata": {},
   "outputs": [
    {
     "data": {
      "application/vnd.jupyter.widget-view+json": {
       "model_id": "0d75e481f9344e949f9aaded3426862b",
       "version_major": 2,
       "version_minor": 0
      },
      "text/plain": [
       "  0%|          | 0/1575 [00:00<?, ?it/s]"
      ]
     },
     "metadata": {},
     "output_type": "display_data"
    },
    {
     "data": {
      "application/vnd.jupyter.widget-view+json": {
       "model_id": "1b2eab50ae9046bdae44b5ea4e029ff7",
       "version_major": 2,
       "version_minor": 0
      },
      "text/plain": [
       "  0%|          | 0/175 [00:00<?, ?it/s]"
      ]
     },
     "metadata": {},
     "output_type": "display_data"
    }
   ],
   "source": [
    "copy_to_destination(train_paths, \"data/train/\")\n",
    "copy_to_destination(test_paths, \"data/validation/\")"
   ]
  },
  {
   "cell_type": "code",
   "execution_count": 16,
   "id": "99aceff3",
   "metadata": {},
   "outputs": [
    {
     "data": {
      "text/plain": [
       "(1769, 337)"
      ]
     },
     "execution_count": 16,
     "metadata": {},
     "output_type": "execute_result"
    }
   ],
   "source": [
    "len(glob(\"data/train/*/*\")), len(glob(\"data/validation/*/*\"))"
   ]
  },
  {
   "cell_type": "markdown",
   "id": "ae55f494",
   "metadata": {},
   "source": [
    "## **Create a custom dataset and a dataloader**\n",
    "\n",
    "- We need 3 functions when creating a `Dataset` including `__init__` (typically contains input data and transform), `__len__` (length of the dataset), `__getitem__` (input index then return pair of input and label or input)"
   ]
  },
  {
   "cell_type": "code",
   "execution_count": 17,
   "id": "d0b69d68",
   "metadata": {},
   "outputs": [],
   "source": [
    "import torch\n",
    "from torch.utils.data import Dataset, DataLoader\n",
    "from torchvision import transforms\n",
    "import matplotlib.pyplot as plt"
   ]
  },
  {
   "cell_type": "code",
   "execution_count": 21,
   "id": "2dbd4be3",
   "metadata": {},
   "outputs": [],
   "source": [
    "transform = transforms.Compose([\n",
    "    transforms.Resize((28, 28)),\n",
    "    transforms.Grayscale(),\n",
    "    transforms.ToTensor()\n",
    "])"
   ]
  },
  {
   "cell_type": "code",
   "execution_count": 23,
   "id": "059beef8",
   "metadata": {},
   "outputs": [
    {
     "data": {
      "image/png": "[encoded data removed]",
      "text/plain": [
       "<Figure size 640x480 with 1 Axes>"
      ]
     },
     "metadata": {},
     "output_type": "display_data"
    }
   ],
   "source": [
    "img = Image.open(paths[100])\n",
    "img = (1 - transform(img)).squeeze(0)\n",
    "plt.title(\"Number: {}\".format(Path(paths[100]).parent.name))\n",
    "plt.imshow(img, cmap=\"gray\")\n",
    "plt.show()"
   ]
  },
  {
   "cell_type": "code",
   "execution_count": 24,
   "id": "09eb4140",
   "metadata": {},
   "outputs": [],
   "source": [
    "class ThaiDigitDataset(Dataset):\n",
    "    def __init__(self, img_dir: str, transform=None):\n",
    "        self.img_dir = img_dir\n",
    "        self.transform = transform\n",
    "        self.img_labels = [(p, Path(p).parent.name) for p in glob(op.join(img_dir, \"*\", \"*\"))]\n",
    "\n",
    "    def __len__(self):\n",
    "        return len(self.img_labels)\n",
    "\n",
    "    def __getitem__(self, idx):\n",
    "        image, label = self.img_labels[idx]\n",
    "        label = int(label)\n",
    "        image = Image.open(image)\n",
    "        if self.transform:\n",
    "            image = 1 - self.transform(image)\n",
    "        return image, label"
   ]
  },
  {
   "cell_type": "code",
   "execution_count": 25,
   "id": "f1175f91",
   "metadata": {},
   "outputs": [],
   "source": [
    "train_thaidigit_dataset = ThaiDigitDataset(\"data/train/\", transform=transform)\n",
    "val_thaidigit_dataset = ThaiDigitDataset(\"data/validation/\", transform=transform)"
   ]
  },
  {
   "cell_type": "code",
   "execution_count": 26,
   "id": "d4f83af9",
   "metadata": {},
   "outputs": [],
   "source": [
    "train_loader = DataLoader(train_thaidigit_dataset, batch_size=16, shuffle=True)\n",
    "val_loader = DataLoader(val_thaidigit_dataset, batch_size=16, shuffle=False)"
   ]
  },
  {
   "cell_type": "code",
   "execution_count": 27,
   "id": "24c5be14",
   "metadata": {},
   "outputs": [],
   "source": [
    "# load example batch\n",
    "images, labels = next(iter(train_loader))"
   ]
  },
  {
   "cell_type": "code",
   "execution_count": 28,
   "id": "a3e30a7d",
   "metadata": {},
   "outputs": [
    {
     "data": {
      "text/plain": [
       "(torch.Size([16, 1, 28, 28]),\n",
       " tensor([1, 8, 9, 4, 1, 3, 7, 6, 6, 0, 0, 2, 3, 0, 6, 1]))"
      ]
     },
     "execution_count": 28,
     "metadata": {},
     "output_type": "execute_result"
    }
   ],
   "source": [
    "images.shape, labels"
   ]
  },
  {
   "cell_type": "markdown",
   "id": "275542ac",
   "metadata": {},
   "source": [
    "## **Create the model**"
   ]
  },
  {
   "cell_type": "code",
   "execution_count": 29,
   "id": "abbd30d0",
   "metadata": {},
   "outputs": [],
   "source": [
    "import torch.nn as nn\n",
    "import torch.nn.functional as F\n",
    "\n",
    "class ThaiDigitNet(nn.Module):\n",
    "    def __init__(self):\n",
    "        super(ThaiDigitNet, self).__init__()\n",
    "        self.fc1 = nn.Linear(28 * 28, 100)\n",
    "        self.fc2 = nn.Linear(100, 10)\n",
    "\n",
    "    def forward(self, x):\n",
    "        x = x.view(-1, 28 * 28)\n",
    "        x = self.fc1(x)\n",
    "        x = F.relu(x)\n",
    "        x = self.fc2(x)\n",
    "        return x"
   ]
  },
  {
   "cell_type": "code",
   "execution_count": 30,
   "id": "f31a9c8c",
   "metadata": {},
   "outputs": [],
   "source": [
    "net = ThaiDigitNet()\n",
    "images, labels = next(iter(train_loader))\n",
    "pred = net(images)"
   ]
  },
  {
   "cell_type": "code",
   "execution_count": 31,
   "id": "4678a296",
   "metadata": {},
   "outputs": [
    {
     "data": {
      "text/plain": [
       "(torch.Size([16, 1, 28, 28]), torch.Size([16, 10]))"
      ]
     },
     "execution_count": 31,
     "metadata": {},
     "output_type": "execute_result"
    }
   ],
   "source": [
    "images.shape, pred.shape # check the size"
   ]
  },
  {
   "cell_type": "markdown",
   "id": "f0455ef9",
   "metadata": {},
   "source": [
    "## **Train the model**"
   ]
  },
  {
   "cell_type": "code",
   "execution_count": null,
   "id": "20e1525e",
   "metadata": {},
   "outputs": [],
   "source": [
    "loss_fn = nn.CrossEntropyLoss()\n",
    "optimizer = torch.optim.SGD(net.parameters(), lr=0.01)\n",
    "update_steps = 50\n",
    "n_epochs = 50\n",
    "\n",
    "for epoch in range(n_epochs):\n",
    "    # training\n",
    "    net.train()\n",
    "    for batch_idx, (images, labels) in enumerate(train_loader):\n",
    "        pred = net(images)\n",
    "        loss = loss_fn(pred, labels)\n",
    "\n",
    "        optimizer.zero_grad()\n",
    "        loss.backward()\n",
    "        optimizer.step()\n",
    "\n",
    "        if batch_idx % update_steps == 0:\n",
    "            print(f\"loss: {loss.item()} [epoch: {epoch} / # {batch_idx * len(images)}]\")\n",
    "\n",
    "    # validation\n",
    "    net.eval()\n",
    "    val_loss, correct = 0, 0\n",
    "    n_val = len(val_loader.dataset)\n",
    "    for images, labels in val_loader:\n",
    "        pred = net(images)\n",
    "        val_loss += loss_fn(pred, labels).item()\n",
    "        correct += (pred.argmax(1) == labels).float().sum().item()\n",
    "    print(f\"validation accuracy = {correct / n_val}, average loss = {val_loss / len(val_loader)}\")"
   ]
  },
  {
   "cell_type": "markdown",
   "id": "2a0229f1",
   "metadata": {},
   "source": [
    "## **Use the model**"
   ]
  },
  {
   "cell_type": "code",
   "execution_count": 160,
   "id": "566302f8",
   "metadata": {},
   "outputs": [],
   "source": [
    "img = Image.open(\"data/validation/5/0f14b574-daf6-4a22-ae06-86eaeee72efa.png\")\n",
    "img = transform(img)"
   ]
  },
  {
   "cell_type": "code",
   "execution_count": 161,
   "id": "fdd510f7",
   "metadata": {},
   "outputs": [
    {
     "data": {
      "text/plain": [
       "torch.Size([1, 28, 28])"
      ]
     },
     "execution_count": 161,
     "metadata": {},
     "output_type": "execute_result"
    }
   ],
   "source": [
    "img.shape"
   ]
  },
  {
   "cell_type": "code",
   "execution_count": 163,
   "id": "27b03a26",
   "metadata": {},
   "outputs": [],
   "source": [
    "pred = net(img).argmax(dim=1)"
   ]
  },
  {
   "cell_type": "code",
   "execution_count": 167,
   "id": "5b41a1c8",
   "metadata": {},
   "outputs": [
    {
     "data": {
      "text/plain": [
       "<matplotlib.image.AxesImage at 0x7f8d90bc6390>"
      ]
     },
     "execution_count": 167,
     "metadata": {},
     "output_type": "execute_result"
    },
    {
     "data": {
      "image/png": "[encoded data removed]",
      "text/plain": [
       "<Figure size 640x480 with 1 Axes>"
      ]
     },
     "metadata": {},
     "output_type": "display_data"
    }
   ],
   "source": [
    "plt.title(f\"Predicted class = {pred.numpy()[0]}\")\n",
    "plt.imshow(img.squeeze(0), cmap=\"gray\")\n",
    "plt.show()"
   ]
  }
 ],
 "metadata": {
  "kernelspec": {
   "display_name": "Python 3 (ipykernel)",
   "language": "python",
   "name": "python3"
  },
  "language_info": {
   "codemirror_mode": {
    "name": "ipython",
    "version": 3
   },
   "file_extension": ".py",
   "mimetype": "text/x-python",
   "name": "python",
   "nbconvert_exporter": "python",
   "pygments_lexer": "ipython3",
   "version": "3.7.13"
  }
 },
 "nbformat": 4,
 "nbformat_minor": 5
}
