{
  "cells": [
    {
      "cell_type": "markdown",
      "id": "cfc52381",
      "metadata": {
        "id": "cfc52381"
      },
      "source": [
        "[![Open in Colab](https://colab.research.google.com/assets/colab-badge.svg)](https://colab.research.google.com/github/biodatlab/deep-learning-skooldio/blob/master/02_handwritten_recognition.ipynb)\n",
        "\n",
        "## **Thai-digit handwritten classification with Pytorch**\n",
        "\n",
        "This notebook contains a hands-on code for Deep learning class \"Thai-digit handwritten classification with Pytorch\" by Skooldio"
      ]
    },
    {
      "cell_type": "markdown",
      "id": "3aa56f94",
      "metadata": {
        "id": "3aa56f94"
      },
      "source": [
        "## **Download and clean the dataset from the repository**\n",
        "\n",
        "- We have downloaded the data from https://github.com/kittinan/thai-handwriting-number by cloning the repository\n",
        "- Remove files that have character mismatch (as suggested by the the creator)\n",
        "- Then, we put the cleaned data at https://github.com/biodatlab/deep-learning-skooldio"
      ]
    },
    {
      "cell_type": "code",
      "execution_count": 1,
      "id": "f7deb2f6",
      "metadata": {
        "colab": {
          "base_uri": "https://localhost:8080/"
        },
        "id": "f7deb2f6",
        "outputId": "cc24976a-a8e4-450e-c9fd-d78b00afef29"
      },
      "outputs": [
        {
          "name": "stdout",
          "output_type": "stream",
          "text": [
            "Cloning into 'deep-learning-skooldio'...\n",
            "remote: Enumerating objects: 1974, done.\u001b[K\n",
            "remote: Counting objects: 100% (268/268), done.\u001b[K\n",
            "remote: Compressing objects: 100% (147/147), done.\u001b[K\n",
            "remote: Total 1974 (delta 140), reused 226 (delta 116), pack-reused 1706\u001b[K\n",
            "Receiving objects: 100% (1974/1974), 14.75 MiB | 25.81 MiB/s, done.\n",
            "Resolving deltas: 100% (151/151), done.\n"
          ]
        }
      ],
      "source": [
        "!git clone https://github.com/biodatlab/deep-learning-skooldio"
      ]
    },
    {
      "cell_type": "code",
      "execution_count": 2,
      "id": "2ad2a443",
      "metadata": {
        "id": "2ad2a443"
      },
      "outputs": [],
      "source": [
        "import os\n",
        "import os.path as op\n",
        "from glob import glob\n",
        "from pathlib import Path"
      ]
    },
    {
      "cell_type": "code",
      "execution_count": 3,
      "id": "64ce2573",
      "metadata": {
        "id": "64ce2573"
      },
      "outputs": [],
      "source": [
        "directory = \"deep-learning-skooldio/\"\n",
        "paths = glob(op.join(directory, \"thai-handwritten-dataset\", \"*\", \"*\"))"
      ]
    },
    {
      "cell_type": "code",
      "execution_count": 4,
      "id": "964fdc70",
      "metadata": {
        "colab": {
          "base_uri": "https://localhost:8080/"
        },
        "id": "964fdc70",
        "outputId": "93383515-1588-4249-d536-12a049d2b10d"
      },
      "outputs": [
        {
          "data": {
            "text/plain": [
              "Counter({'8': 175,\n",
              "         '0': 175,\n",
              "         '9': 175,\n",
              "         '6': 175,\n",
              "         '2': 175,\n",
              "         '4': 175,\n",
              "         '7': 175,\n",
              "         '5': 175,\n",
              "         '1': 175,\n",
              "         '3': 175})"
            ]
          },
          "execution_count": 4,
          "metadata": {},
          "output_type": "execute_result"
        }
      ],
      "source": [
        "from collections import Counter\n",
        "Counter([Path(p).parent.name for p in paths])"
      ]
    },
    {
      "cell_type": "code",
      "execution_count": 5,
      "id": "23eedef9",
      "metadata": {
        "id": "23eedef9"
      },
      "outputs": [],
      "source": [
        "from PIL import Image"
      ]
    },
    {
      "cell_type": "code",
      "execution_count": 6,
      "id": "75f10add",
      "metadata": {
        "colab": {
          "base_uri": "https://localhost:8080/",
          "height": 334
        },
        "id": "75f10add",
        "outputId": "efd76e51-e768-47c5-cafa-027854fab18a"
      },
      "outputs": [
        {
          "name": "stdout",
          "output_type": "stream",
          "text": [
            "9\n"
          ]
        },
        {
          "data": {
            "image/png": "[encoded data removed]",
            "text/plain": [
              "<PIL.PngImagePlugin.PngImageFile image mode=RGBA size=300x300 at 0x7F313158ECD0>"
            ]
          },
          "execution_count": 6,
          "metadata": {},
          "output_type": "execute_result"
        }
      ],
      "source": [
        "idx = 460\n",
        "print(Path(paths[idx]).parent.name)\n",
        "Image.open(paths[idx])"
      ]
    },
    {
      "cell_type": "code",
      "execution_count": 7,
      "id": "6aa0f5b4",
      "metadata": {
        "id": "6aa0f5b4"
      },
      "outputs": [],
      "source": [
        "from tqdm.auto import tqdm\n",
        "from sklearn.model_selection import train_test_split\n",
        "import shutil\n",
        "\n",
        "train_paths, test_paths = train_test_split(paths, test_size=0.1, random_state=42)"
      ]
    },
    {
      "cell_type": "code",
      "execution_count": 8,
      "id": "6e56a41b",
      "metadata": {
        "id": "6e56a41b"
      },
      "outputs": [],
      "source": [
        "for i in range(10):\n",
        "    os.makedirs(f\"data/train/{i}\", exist_ok=True)\n",
        "    os.makedirs(f\"data/validation/{i}\", exist_ok=True)"
      ]
    },
    {
      "cell_type": "code",
      "execution_count": 9,
      "id": "fe1d237b",
      "metadata": {
        "id": "fe1d237b"
      },
      "outputs": [],
      "source": [
        "def copy_to_destination(src_paths, dst_path: str = \"data/train/\"):\n",
        "    for path in tqdm(src_paths):\n",
        "        path = Path(path)\n",
        "        if path.parent.name == \"10\":\n",
        "            parent_dir = \"0\"\n",
        "        else:\n",
        "            parent_dir = path.parent.name\n",
        "        shutil.copy(path, op.join(dst_path, parent_dir, path.name))"
      ]
    },
    {
      "cell_type": "code",
      "execution_count": 10,
      "id": "af9064ae",
      "metadata": {
        "colab": {
          "base_uri": "https://localhost:8080/",
          "height": 81,
          "referenced_widgets": [
            "c7be8e083c43449f8e73f446cbacfaaa",
            "4f69a9d0f6c149a9802b4573f36373b9",
            "8c39585455d04552af9789b8fa490218",
            "4340f21685a6449d80def90acb533922",
            "78c99a8174ae4048aa136091763e1ca9",
            "045add9bbda248a19010c2c6942ff606",
            "9b19b813ae024ac19b468524432335ab",
            "f2330e6ad0f24651a8bf427d9b097385",
            "8881185222044311b14029acf930c9e8",
            "8496e99815e84753ba905431be46e4db",
            "4b3f0ab3413e43d1908bcfda4133ecd8",
            "310f3bd991434f1b90459abd10a022eb",
            "6ecba37b94314787aa3b804b98b1ce6f",
            "02ade13db72d42f18a6530c95aed0a97",
            "626aeb13908444fa8ec6f602ed706d8b",
            "636293f7e61e4a708c51f6fce171cb81",
            "644a88617c134a2a9cbabd81eb60f8e6",
            "01bc6fd2afff4c5190057f0982b8c1f3",
            "f4912141411641a28e51c351592f44af",
            "17ef880a9a0948518e48496081dc0e55",
            "86e85f476ed54ecbb91f6355ace60a44",
            "8a6ace48716e4597a06f42562435bd1c"
          ]
        },
        "id": "af9064ae",
        "outputId": "38a4bea2-3738-42e8-daa8-be82dc5f9aac"
      },
      "outputs": [
        {
          "data": {
            "application/vnd.jupyter.widget-view+json": {
              "model_id": "c7be8e083c43449f8e73f446cbacfaaa",
              "version_major": 2,
              "version_minor": 0
            },
            "text/plain": [
              "  0%|          | 0/1575 [00:00<?, ?it/s]"
            ]
          },
          "metadata": {},
          "output_type": "display_data"
        },
        {
          "data": {
            "application/vnd.jupyter.widget-view+json": {
              "model_id": "310f3bd991434f1b90459abd10a022eb",
              "version_major": 2,
              "version_minor": 0
            },
            "text/plain": [
              "  0%|          | 0/175 [00:00<?, ?it/s]"
            ]
          },
          "metadata": {},
          "output_type": "display_data"
        }
      ],
      "source": [
        "copy_to_destination(train_paths, \"data/train/\")\n",
        "copy_to_destination(test_paths, \"data/validation/\")"
      ]
    },
    {
      "cell_type": "code",
      "execution_count": 11,
      "id": "99aceff3",
      "metadata": {
        "colab": {
          "base_uri": "https://localhost:8080/"
        },
        "id": "99aceff3",
        "outputId": "79f89276-956c-4862-cd5e-f638caaed8e0"
      },
      "outputs": [
        {
          "data": {
            "text/plain": [
              "(1575, 175)"
            ]
          },
          "execution_count": 11,
          "metadata": {},
          "output_type": "execute_result"
        }
      ],
      "source": [
        "len(glob(\"data/train/*/*\")), len(glob(\"data/validation/*/*\"))"
      ]
    },
    {
      "cell_type": "markdown",
      "id": "ae55f494",
      "metadata": {
        "id": "ae55f494"
      },
      "source": [
        "## **Create a custom dataset and a dataloader**\n",
        "\n",
        "- We need 3 functions when creating a `Dataset` including `__init__` (typically contains input data and transform), `__len__` (length of the dataset), `__getitem__` (input index then return pair of input and label or input)"
      ]
    },
    {
      "cell_type": "code",
      "execution_count": 12,
      "id": "d0b69d68",
      "metadata": {
        "id": "d0b69d68"
      },
      "outputs": [],
      "source": [
        "import torch\n",
        "from torch.utils.data import Dataset, DataLoader\n",
        "from torchvision import transforms\n",
        "import matplotlib.pyplot as plt"
      ]
    },
    {
      "cell_type": "code",
      "execution_count": 13,
      "id": "2dbd4be3",
      "metadata": {
        "id": "2dbd4be3"
      },
      "outputs": [],
      "source": [
        "transform = transforms.Compose([\n",
        "    transforms.Resize((28, 28)),\n",
        "    transforms.Grayscale(),\n",
        "    transforms.ToTensor()\n",
        "])"
      ]
    },
    {
      "cell_type": "code",
      "execution_count": 14,
      "id": "059beef8",
      "metadata": {
        "colab": {
          "base_uri": "https://localhost:8080/",
          "height": 281
        },
        "id": "059beef8",
        "outputId": "559141a5-67ce-4627-dbb5-785483acc2ab"
      },
      "outputs": [
        {
          "data": {
            "image/png": "[encoded data removed]",
            "text/plain": [
              "<Figure size 432x288 with 1 Axes>"
            ]
          },
          "metadata": {
            "needs_background": "light"
          },
          "output_type": "display_data"
        }
      ],
      "source": [
        "img = Image.open(paths[100])\n",
        "img = (1 - transform(img)).squeeze(0)\n",
        "plt.title(\"Number: {}\".format(Path(paths[100]).parent.name))\n",
        "plt.imshow(img, cmap=\"gray\")\n",
        "plt.show()"
      ]
    },
    {
      "cell_type": "code",
      "execution_count": 15,
      "id": "09eb4140",
      "metadata": {
        "id": "09eb4140"
      },
      "outputs": [],
      "source": [
        "class ThaiDigitDataset(Dataset):\n",
        "    def __init__(self, img_dir: str, transform=None):\n",
        "        self.img_dir = img_dir\n",
        "        self.transform = transform\n",
        "        self.img_labels = [(p, Path(p).parent.name) for p in glob(op.join(img_dir, \"*\", \"*\"))]\n",
        "\n",
        "    def __len__(self):\n",
        "        return len(self.img_labels)\n",
        "\n",
        "    def __getitem__(self, idx):\n",
        "        image, label = self.img_labels[idx]\n",
        "        label = int(label)\n",
        "        image = Image.open(image)\n",
        "        if self.transform:\n",
        "            image = 1 - self.transform(image)\n",
        "        return image, label"
      ]
    },
    {
      "cell_type": "code",
      "execution_count": 16,
      "id": "f1175f91",
      "metadata": {
        "id": "f1175f91"
      },
      "outputs": [],
      "source": [
        "train_thaidigit_dataset = ThaiDigitDataset(\"data/train/\", transform=transform)\n",
        "val_thaidigit_dataset = ThaiDigitDataset(\"data/validation/\", transform=transform)"
      ]
    },
    {
      "cell_type": "code",
      "execution_count": 17,
      "id": "d4f83af9",
      "metadata": {
        "id": "d4f83af9"
      },
      "outputs": [],
      "source": [
        "train_loader = DataLoader(train_thaidigit_dataset, batch_size=16, shuffle=True)\n",
        "val_loader = DataLoader(val_thaidigit_dataset, batch_size=16, shuffle=False)"
      ]
    },
    {
      "cell_type": "code",
      "execution_count": 18,
      "id": "24c5be14",
      "metadata": {
        "id": "24c5be14"
      },
      "outputs": [],
      "source": [
        "# load example batch\n",
        "images, labels = next(iter(train_loader))"
      ]
    },
    {
      "cell_type": "code",
      "execution_count": 19,
      "id": "a3e30a7d",
      "metadata": {
        "colab": {
          "base_uri": "https://localhost:8080/"
        },
        "id": "a3e30a7d",
        "outputId": "9e8f7df6-7269-40fd-8105-1a652679fa22"
      },
      "outputs": [
        {
          "data": {
            "text/plain": [
              "(torch.Size([16, 1, 28, 28]),\n",
              " tensor([5, 5, 1, 7, 2, 6, 2, 5, 4, 3, 6, 3, 8, 6, 0, 2]))"
            ]
          },
          "execution_count": 19,
          "metadata": {},
          "output_type": "execute_result"
        }
      ],
      "source": [
        "images.shape, labels"
      ]
    },
    {
      "cell_type": "markdown",
      "id": "275542ac",
      "metadata": {
        "id": "275542ac"
      },
      "source": [
        "## **Create the model**"
      ]
    },
    {
      "cell_type": "code",
      "execution_count": 20,
      "id": "abbd30d0",
      "metadata": {
        "id": "abbd30d0"
      },
      "outputs": [],
      "source": [
        "import torch.nn as nn\n",
        "import torch.nn.functional as F\n",
        "\n",
        "class ThaiDigitNet(nn.Module):\n",
        "    def __init__(self):\n",
        "        super(ThaiDigitNet, self).__init__()\n",
        "        self.fc1 = nn.Linear(28 * 28, 100)\n",
        "        self.fc2 = nn.Linear(100, 10)\n",
        "\n",
        "    def forward(self, x):\n",
        "        x = x.view(-1, 28 * 28)\n",
        "        x = self.fc1(x)\n",
        "        x = F.relu(x)\n",
        "        x = self.fc2(x)\n",
        "        return x"
      ]
    },
    {
      "cell_type": "code",
      "execution_count": 21,
      "id": "f31a9c8c",
      "metadata": {
        "id": "f31a9c8c"
      },
      "outputs": [],
      "source": [
        "net = ThaiDigitNet()\n",
        "images, labels = next(iter(train_loader))\n",
        "pred = net(images)"
      ]
    },
    {
      "cell_type": "code",
      "execution_count": 22,
      "id": "4678a296",
      "metadata": {
        "colab": {
          "base_uri": "https://localhost:8080/"
        },
        "id": "4678a296",
        "outputId": "2162b332-a812-40a8-d45f-dbf7fa6edd27"
      },
      "outputs": [
        {
          "data": {
            "text/plain": [
              "(torch.Size([16, 1, 28, 28]), torch.Size([16, 10]))"
            ]
          },
          "execution_count": 22,
          "metadata": {},
          "output_type": "execute_result"
        }
      ],
      "source": [
        "images.shape, pred.shape # check the size"
      ]
    },
    {
      "cell_type": "markdown",
      "id": "f0455ef9",
      "metadata": {
        "id": "f0455ef9"
      },
      "source": [
        "## **Train the model**\n",
        "\n",
        "**Note for loss function**\n",
        "- `CrossEntropyLoss` computes the cross entropy loss between logits and target. So we don't need to apply softmax to the output of the model.\n",
        "- This is equivalent to the combination of applying `LogSoftmax` at the last layer and use `NLLLoss` as a loss function."
      ]
    },
    {
      "cell_type": "code",
      "execution_count": 23,
      "id": "20e1525e",
      "metadata": {
        "colab": {
          "base_uri": "https://localhost:8080/"
        },
        "id": "20e1525e",
        "outputId": "10692302-e309-4cf1-beb2-ab675181434c"
      },
      "outputs": [
        {
          "name": "stdout",
          "output_type": "stream",
          "text": [
            "loss: 2.3162765502929688 [epoch: 0 / # 0]\n",
            "loss: 2.263861894607544 [epoch: 0 / # 800]\n",
            "validation accuracy = 0.2057142857142857, average loss = 2.2661554379896685\n",
            "loss: 2.2488739490509033 [epoch: 1 / # 0]\n",
            "loss: 2.2315127849578857 [epoch: 1 / # 800]\n",
            "validation accuracy = 0.38285714285714284, average loss = 2.2194258949973364\n",
            "loss: 2.222292184829712 [epoch: 2 / # 0]\n",
            "loss: 2.1528196334838867 [epoch: 2 / # 800]\n",
            "validation accuracy = 0.45714285714285713, average loss = 2.160855943506414\n",
            "loss: 2.209303379058838 [epoch: 3 / # 0]\n",
            "loss: 2.1052567958831787 [epoch: 3 / # 800]\n",
            "validation accuracy = 0.4685714285714286, average loss = 2.0878803838383067\n",
            "loss: 2.0863046646118164 [epoch: 4 / # 0]\n",
            "loss: 2.1570541858673096 [epoch: 4 / # 800]\n",
            "validation accuracy = 0.44, average loss = 2.0009248473427514\n",
            "loss: 1.9586087465286255 [epoch: 5 / # 0]\n",
            "loss: 2.094212293624878 [epoch: 5 / # 800]\n",
            "validation accuracy = 0.49714285714285716, average loss = 1.9063133976676248\n",
            "loss: 1.9852724075317383 [epoch: 6 / # 0]\n",
            "loss: 1.9840915203094482 [epoch: 6 / # 800]\n",
            "validation accuracy = 0.5485714285714286, average loss = 1.8073594028299504\n",
            "loss: 1.7099273204803467 [epoch: 7 / # 0]\n",
            "loss: 1.8220645189285278 [epoch: 7 / # 800]\n",
            "validation accuracy = 0.5771428571428572, average loss = 1.7077898654070767\n",
            "loss: 1.832092046737671 [epoch: 8 / # 0]\n",
            "loss: 1.721558928489685 [epoch: 8 / # 800]\n",
            "validation accuracy = 0.5828571428571429, average loss = 1.6170063669031316\n",
            "loss: 1.4935086965560913 [epoch: 9 / # 0]\n",
            "loss: 1.517951488494873 [epoch: 9 / # 800]\n",
            "validation accuracy = 0.5942857142857143, average loss = 1.541599382053722\n",
            "loss: 1.7041294574737549 [epoch: 10 / # 0]\n",
            "loss: 1.4920039176940918 [epoch: 10 / # 800]\n",
            "validation accuracy = 0.5771428571428572, average loss = 1.4724212776530872\n",
            "loss: 1.4142711162567139 [epoch: 11 / # 0]\n",
            "loss: 1.464694619178772 [epoch: 11 / # 800]\n",
            "validation accuracy = 0.6057142857142858, average loss = 1.410774913701144\n",
            "loss: 1.2084922790527344 [epoch: 12 / # 0]\n",
            "loss: 1.7123866081237793 [epoch: 12 / # 800]\n",
            "validation accuracy = 0.6, average loss = 1.36191186579791\n",
            "loss: 1.4540536403656006 [epoch: 13 / # 0]\n",
            "loss: 1.1735981702804565 [epoch: 13 / # 800]\n",
            "validation accuracy = 0.6, average loss = 1.3175635717131875\n",
            "loss: 1.535125970840454 [epoch: 14 / # 0]\n",
            "loss: 1.106459379196167 [epoch: 14 / # 800]\n",
            "validation accuracy = 0.6057142857142858, average loss = 1.2831172888929194\n",
            "loss: 1.1774847507476807 [epoch: 15 / # 0]\n",
            "loss: 1.1061345338821411 [epoch: 15 / # 800]\n",
            "validation accuracy = 0.6342857142857142, average loss = 1.2628913684324785\n",
            "loss: 1.3639867305755615 [epoch: 16 / # 0]\n",
            "loss: 1.374560832977295 [epoch: 16 / # 800]\n",
            "validation accuracy = 0.6228571428571429, average loss = 1.22407358342951\n",
            "loss: 1.0981169939041138 [epoch: 17 / # 0]\n",
            "loss: 0.9699727296829224 [epoch: 17 / # 800]\n",
            "validation accuracy = 0.64, average loss = 1.2041878754442388\n",
            "loss: 1.062648057937622 [epoch: 18 / # 0]\n",
            "loss: 1.0723097324371338 [epoch: 18 / # 800]\n",
            "validation accuracy = 0.6342857142857142, average loss = 1.1772946119308472\n",
            "loss: 1.000591516494751 [epoch: 19 / # 0]\n",
            "loss: 1.2148221731185913 [epoch: 19 / # 800]\n",
            "validation accuracy = 0.6342857142857142, average loss = 1.159736535765908\n",
            "loss: 1.0469114780426025 [epoch: 20 / # 0]\n",
            "loss: 1.331131100654602 [epoch: 20 / # 800]\n",
            "validation accuracy = 0.6228571428571429, average loss = 1.1422898444262417\n",
            "loss: 1.102559208869934 [epoch: 21 / # 0]\n",
            "loss: 0.8253662586212158 [epoch: 21 / # 800]\n",
            "validation accuracy = 0.6457142857142857, average loss = 1.1364897110245444\n",
            "loss: 1.074452519416809 [epoch: 22 / # 0]\n",
            "loss: 1.1493242979049683 [epoch: 22 / # 800]\n",
            "validation accuracy = 0.6571428571428571, average loss = 1.108703244816173\n",
            "loss: 0.815382182598114 [epoch: 23 / # 0]\n",
            "loss: 0.6545264720916748 [epoch: 23 / # 800]\n",
            "validation accuracy = 0.64, average loss = 1.1036210005933589\n",
            "loss: 0.689781904220581 [epoch: 24 / # 0]\n",
            "loss: 1.286891222000122 [epoch: 24 / # 800]\n",
            "validation accuracy = 0.6571428571428571, average loss = 1.1007450331341138\n",
            "loss: 0.8607379198074341 [epoch: 25 / # 0]\n",
            "loss: 0.9809731841087341 [epoch: 25 / # 800]\n",
            "validation accuracy = 0.6685714285714286, average loss = 1.0791086717085405\n",
            "loss: 1.1963196992874146 [epoch: 26 / # 0]\n",
            "loss: 1.0267647504806519 [epoch: 26 / # 800]\n",
            "validation accuracy = 0.6857142857142857, average loss = 1.0677716081792659\n",
            "loss: 1.338109016418457 [epoch: 27 / # 0]\n",
            "loss: 1.3305745124816895 [epoch: 27 / # 800]\n",
            "validation accuracy = 0.6857142857142857, average loss = 1.0632599212906577\n",
            "loss: 1.063234567642212 [epoch: 28 / # 0]\n",
            "loss: 1.2304948568344116 [epoch: 28 / # 800]\n",
            "validation accuracy = 0.6628571428571428, average loss = 1.062259858304804\n",
            "loss: 1.1385408639907837 [epoch: 29 / # 0]\n",
            "loss: 0.6798882484436035 [epoch: 29 / # 800]\n",
            "validation accuracy = 0.6914285714285714, average loss = 1.0529298023744063\n",
            "loss: 0.930225670337677 [epoch: 30 / # 0]\n",
            "loss: 0.627992570400238 [epoch: 30 / # 800]\n",
            "validation accuracy = 0.6742857142857143, average loss = 1.0425089651888066\n",
            "loss: 1.3436983823776245 [epoch: 31 / # 0]\n",
            "loss: 1.0259450674057007 [epoch: 31 / # 800]\n",
            "validation accuracy = 0.6914285714285714, average loss = 1.034275477582758\n",
            "loss: 0.7627968192100525 [epoch: 32 / # 0]\n",
            "loss: 1.288221001625061 [epoch: 32 / # 800]\n",
            "validation accuracy = 0.7028571428571428, average loss = 1.028356904333288\n",
            "loss: 1.1871461868286133 [epoch: 33 / # 0]\n",
            "loss: 0.4396789073944092 [epoch: 33 / # 800]\n",
            "validation accuracy = 0.7028571428571428, average loss = 1.0310667482289402\n",
            "loss: 0.9234121441841125 [epoch: 34 / # 0]\n",
            "loss: 0.6537889242172241 [epoch: 34 / # 800]\n",
            "validation accuracy = 0.6742857142857143, average loss = 1.0303278131918474\n",
            "loss: 0.6600756645202637 [epoch: 35 / # 0]\n",
            "loss: 0.8729621171951294 [epoch: 35 / # 800]\n",
            "validation accuracy = 0.6857142857142857, average loss = 1.0188070373101668\n",
            "loss: 1.160219430923462 [epoch: 36 / # 0]\n",
            "loss: 0.7724751234054565 [epoch: 36 / # 800]\n",
            "validation accuracy = 0.7028571428571428, average loss = 1.0139311362396588\n",
            "loss: 0.7380903363227844 [epoch: 37 / # 0]\n",
            "loss: 0.8224717378616333 [epoch: 37 / # 800]\n",
            "validation accuracy = 0.6971428571428572, average loss = 1.006072076884183\n",
            "loss: 0.6677395701408386 [epoch: 38 / # 0]\n",
            "loss: 0.8918508887290955 [epoch: 38 / # 800]\n",
            "validation accuracy = 0.6914285714285714, average loss = 1.002198045903986\n",
            "loss: 1.3272496461868286 [epoch: 39 / # 0]\n",
            "loss: 0.7589760422706604 [epoch: 39 / # 800]\n",
            "validation accuracy = 0.6742857142857143, average loss = 1.0016996427015825\n",
            "loss: 0.9376857280731201 [epoch: 40 / # 0]\n",
            "loss: 0.5375407934188843 [epoch: 40 / # 800]\n",
            "validation accuracy = 0.6857142857142857, average loss = 1.0017980282956904\n",
            "loss: 0.698809027671814 [epoch: 41 / # 0]\n",
            "loss: 0.8028872609138489 [epoch: 41 / # 800]\n",
            "validation accuracy = 0.7028571428571428, average loss = 1.0006718147884717\n",
            "loss: 0.8637476563453674 [epoch: 42 / # 0]\n",
            "loss: 1.118895173072815 [epoch: 42 / # 800]\n",
            "validation accuracy = 0.6971428571428572, average loss = 0.9919604388150302\n",
            "loss: 0.7274370193481445 [epoch: 43 / # 0]\n",
            "loss: 0.9314085245132446 [epoch: 43 / # 800]\n",
            "validation accuracy = 0.6857142857142857, average loss = 1.0036318573084744\n",
            "loss: 0.7851458191871643 [epoch: 44 / # 0]\n",
            "loss: 0.6574958562850952 [epoch: 44 / # 800]\n",
            "validation accuracy = 0.68, average loss = 0.9952205527912487\n",
            "loss: 0.4423983097076416 [epoch: 45 / # 0]\n",
            "loss: 0.8703718781471252 [epoch: 45 / # 800]\n",
            "validation accuracy = 0.6914285714285714, average loss = 0.9829698204994202\n",
            "loss: 0.6954365372657776 [epoch: 46 / # 0]\n",
            "loss: 0.6446323990821838 [epoch: 46 / # 800]\n",
            "validation accuracy = 0.6857142857142857, average loss = 0.9843209765174172\n",
            "loss: 0.46408742666244507 [epoch: 47 / # 0]\n",
            "loss: 1.1061395406723022 [epoch: 47 / # 800]\n",
            "validation accuracy = 0.6971428571428572, average loss = 0.9927678297866475\n",
            "loss: 0.8947861790657043 [epoch: 48 / # 0]\n",
            "loss: 0.47390732169151306 [epoch: 48 / # 800]\n",
            "validation accuracy = 0.68, average loss = 0.980191480029713\n",
            "loss: 0.5538443922996521 [epoch: 49 / # 0]\n",
            "loss: 0.6611617207527161 [epoch: 49 / # 800]\n",
            "validation accuracy = 0.6742857142857143, average loss = 0.9985897351395\n"
          ]
        }
      ],
      "source": [
        "loss_fn = nn.CrossEntropyLoss()\n",
        "optimizer = torch.optim.SGD(net.parameters(), lr=0.01)\n",
        "update_steps = 50\n",
        "n_epochs = 50\n",
        "\n",
        "for epoch in range(n_epochs):\n",
        "    # training\n",
        "    net.train()\n",
        "    for batch_idx, (images, labels) in enumerate(train_loader):\n",
        "        pred = net(images)\n",
        "        loss = loss_fn(pred, labels)\n",
        "\n",
        "        optimizer.zero_grad()\n",
        "        loss.backward()\n",
        "        optimizer.step()\n",
        "\n",
        "        if batch_idx % update_steps == 0:\n",
        "            print(f\"loss: {loss.item()} [epoch: {epoch} / # {batch_idx * len(images)}]\")\n",
        "\n",
        "    # validation\n",
        "    net.eval()\n",
        "    val_loss, correct = 0, 0\n",
        "    n_val = len(val_loader.dataset)\n",
        "    for images, labels in val_loader:\n",
        "        pred = net(images)\n",
        "        val_loss += loss_fn(pred, labels).item()\n",
        "        correct += (pred.argmax(1) == labels).float().sum().item()\n",
        "    print(f\"validation accuracy = {correct / n_val}, average loss = {val_loss / len(val_loader)}\")"
      ]
    },
    {
      "cell_type": "markdown",
      "id": "2a0229f1",
      "metadata": {
        "id": "2a0229f1"
      },
      "source": [
        "## **Use the model**"
      ]
    },
    {
      "cell_type": "code",
      "execution_count": 30,
      "id": "5b41a1c8",
      "metadata": {
        "colab": {
          "base_uri": "https://localhost:8080/",
          "height": 281
        },
        "id": "5b41a1c8",
        "outputId": "460f734a-d31f-454d-a755-3c416ffed992"
      },
      "outputs": [
        {
          "data": {
            "image/png": "[encoded data removed]",
            "text/plain": [
              "<Figure size 432x288 with 1 Axes>"
            ]
          },
          "metadata": {
            "needs_background": "light"
          },
          "output_type": "display_data"
        }
      ],
      "source": [
        "sample_path = glob(\"data/validation/*/*.png\")[1]\n",
        "img = Image.open(sample_path)\n",
        "img = (1 - transform(img)).squeeze(0)\n",
        "pred = net(img)\n",
        "pred = int(pred.argmax(dim=1))\n",
        "true_class = Path(sample_path).parent.name\n",
        "\n",
        "plt.title(\"Predicted class = {}, True class = {}\".format(pred, true_class))\n",
        "plt.imshow(img, cmap=\"gray\")\n",
        "plt.show()"
      ]
    },
    {
      "cell_type": "markdown",
      "id": "hQMZ5aP1-hJG",
      "metadata": {
        "id": "hQMZ5aP1-hJG"
      },
      "source": [
        "## Save model\n",
        "\n",
        "- `net.state_dict()` returns the dictionary of the model's parameters. We can save it to a file and load it later."
      ]
    },
    {
      "cell_type": "code",
      "execution_count": 43,
      "id": "JP9ncJ5icDrm",
      "metadata": {
        "colab": {
          "base_uri": "https://localhost:8080/"
        },
        "id": "JP9ncJ5icDrm",
        "outputId": "4c2c1b54-184b-4adc-ba9e-e07393d8fffa"
      },
      "outputs": [
        {
          "data": {
            "text/plain": [
              "OrderedDict([('fc1.weight',\n",
              "              tensor([[ 0.0068, -0.0363, -0.0182,  ..., -0.0040,  0.0027, -0.0224],\n",
              "                      [ 0.0254,  0.0180,  0.0130,  ..., -0.0240,  0.0361, -0.0357],\n",
              "                      [ 0.0047,  0.0095, -0.0038,  ...,  0.0373, -0.0178, -0.0248],\n",
              "                      ...,\n",
              "                      [ 0.0316,  0.0168,  0.0027,  ...,  0.0009,  0.0090,  0.0166],\n",
              "                      [ 0.0121, -0.0264, -0.0399,  ..., -0.0264,  0.0246, -0.0317],\n",
              "                      [-0.0092, -0.0217,  0.0303,  ...,  0.0006, -0.0249, -0.0256]])),\n",
              "             ('fc1.bias',\n",
              "              tensor([-0.1210,  0.1649,  0.1954,  0.0031, -0.0120, -0.0491,  0.0365,  0.0128,\n",
              "                      -0.1349,  0.0757,  0.0655,  0.0638, -0.0870,  0.0143,  0.0633, -0.0709,\n",
              "                       0.1478, -0.0843,  0.0613,  0.0387,  0.0969,  0.1362, -0.0567,  0.1266,\n",
              "                      -0.0069,  0.1506,  0.1809, -0.0434, -0.0436, -0.0939, -0.0226, -0.1228,\n",
              "                       0.0843,  0.1250,  0.0616, -0.2325,  0.0048,  0.0563,  0.1148, -0.0460,\n",
              "                      -0.0156, -0.0934, -0.1951, -0.1711,  0.0145, -0.0060, -0.1312, -0.0877,\n",
              "                      -0.0268,  0.0221, -0.0226,  0.0588,  0.1126,  0.0104,  0.0123, -0.0756,\n",
              "                      -0.1045,  0.0539, -0.0699,  0.0552,  0.0917,  0.0926, -0.0118,  0.1605,\n",
              "                       0.1477, -0.0299,  0.0511,  0.2765, -0.1426,  0.0108,  0.0708,  0.1710,\n",
              "                       0.0323,  0.0200,  0.0836,  0.0912, -0.0713,  0.0488, -0.0987, -0.0517,\n",
              "                       0.0239,  0.1910, -0.0107,  0.0549, -0.0292, -0.0307, -0.1683, -0.0101,\n",
              "                      -0.0526, -0.0716,  0.1119, -0.1998,  0.0042, -0.1690,  0.0404, -0.0277,\n",
              "                      -0.0040, -0.0040,  0.1496,  0.1260])),\n",
              "             ('fc2.weight',\n",
              "              tensor([[-3.1839e-02,  4.0691e-01,  2.9135e-01, -1.7844e-02, -8.3770e-02,\n",
              "                       -6.7319e-02,  8.5466e-02,  9.9545e-02, -2.1166e-01,  2.4644e-01,\n",
              "                       -7.0704e-02,  9.7090e-02, -1.7774e-01,  1.8244e-01,  1.6037e-01,\n",
              "                       -9.1572e-02,  1.2843e-01, -1.7140e-01, -5.2788e-02, -5.4230e-02,\n",
              "                        1.9437e-01,  3.0858e-01, -2.0167e-01,  1.2258e-01,  6.8608e-02,\n",
              "                        1.5023e-01,  1.4472e-01, -2.1642e-01, -6.8509e-02, -2.3129e-01,\n",
              "                        7.1153e-02, -1.3325e-01,  3.0062e-03,  2.6072e-01, -1.8295e-01,\n",
              "                       -2.9150e-01,  5.9166e-02, -1.2229e-01,  3.6762e-01, -1.2203e-01,\n",
              "                        4.8503e-02, -9.4290e-02, -3.9046e-01, -3.0672e-01,  3.3238e-03,\n",
              "                       -1.1866e-01, -2.6307e-01,  1.3510e-02,  5.0231e-03, -6.1694e-02,\n",
              "                       -9.2853e-02,  1.2150e-01,  1.7189e-01,  4.2046e-04, -7.8132e-02,\n",
              "                       -1.4419e-01, -1.0884e-01,  1.0212e-01, -2.2451e-01,  9.8718e-02,\n",
              "                        9.1669e-02,  2.1557e-01, -2.3563e-01,  3.1269e-01,  3.3027e-01,\n",
              "                       -7.0253e-02,  2.6955e-01,  2.9994e-01,  1.2382e-01, -5.6146e-02,\n",
              "                       -1.4355e-01,  1.1312e-01,  1.2453e-01,  2.1380e-01,  1.7383e-01,\n",
              "                        6.7194e-02, -1.9591e-01,  9.9329e-02,  2.6670e-02,  7.5561e-03,\n",
              "                        1.0270e-01,  1.3915e-01, -2.0116e-01,  1.9981e-01,  1.0034e-01,\n",
              "                        9.0830e-02, -2.6416e-01, -1.9491e-01, -5.8646e-02,  8.2546e-03,\n",
              "                        2.9950e-01, -2.2197e-01, -7.2681e-02, -3.0085e-01,  9.4936e-02,\n",
              "                       -6.0843e-02, -1.3331e-01, -2.3131e-02,  2.1819e-01,  2.1174e-01],\n",
              "                      [ 5.6479e-02,  6.6688e-02, -8.7837e-02,  1.5806e-02,  6.0039e-02,\n",
              "                        6.2594e-02,  2.4122e-01, -6.2230e-02,  1.5045e-01,  1.6427e-01,\n",
              "                        3.1804e-02,  7.7681e-02,  1.5005e-01,  1.0907e-01,  6.6777e-02,\n",
              "                        2.6737e-02,  2.9051e-01,  1.9391e-01, -1.3464e-01, -1.4713e-01,\n",
              "                       -9.9361e-02,  1.7559e-01,  1.2869e-01, -1.0807e-01, -1.3223e-01,\n",
              "                        1.5495e-01, -1.0329e-01,  1.3540e-01,  2.8884e-02, -3.4241e-01,\n",
              "                       -2.9744e-01, -5.3345e-02, -1.3316e-01,  1.3853e-01, -1.9615e-01,\n",
              "                       -1.2555e-01,  8.2552e-02, -1.8647e-01,  1.7508e-01,  2.2963e-01,\n",
              "                       -2.9261e-02, -1.0949e-01, -3.5720e-01,  3.3961e-01,  2.8492e-02,\n",
              "                       -6.8472e-03, -2.2001e-01,  1.3541e-01,  3.3493e-01,  3.3484e-01,\n",
              "                        3.9837e-02,  1.2744e-01, -2.0972e-01,  5.6976e-02,  2.2088e-01,\n",
              "                       -1.6824e-02, -8.9709e-02,  3.4087e-01, -6.5457e-02,  5.7124e-03,\n",
              "                        1.0381e-01, -6.2915e-02,  2.3251e-01,  6.3200e-02,  1.1097e-01,\n",
              "                        1.2233e-02, -2.0534e-01,  1.4731e-01, -1.8172e-02, -6.4537e-02,\n",
              "                        7.3488e-02,  6.7839e-02, -1.7301e-02, -1.3248e-01,  1.7068e-02,\n",
              "                       -2.6099e-01,  3.3176e-01,  7.3589e-02, -2.6282e-01, -7.6356e-02,\n",
              "                        1.5477e-01,  2.1666e-01, -8.8482e-02,  9.2965e-02, -4.4826e-02,\n",
              "                       -1.2975e-01, -1.6388e-01, -3.4686e-02, -2.6819e-01, -8.5320e-02,\n",
              "                       -1.3446e-01, -1.1746e-01, -7.5071e-02, -6.0805e-02,  5.6290e-02,\n",
              "                       -1.3801e-01, -1.3898e-01, -8.2014e-02, -5.8844e-02, -7.1463e-02],\n",
              "                      [-9.5808e-02, -3.5289e-01,  1.5162e-01, -1.3272e-01,  2.4878e-02,\n",
              "                        1.3846e-01,  6.8773e-02,  5.5836e-02,  2.9039e-01, -2.7519e-02,\n",
              "                       -3.1606e-02, -1.9406e-01, -3.0526e-01,  2.9874e-01, -1.7870e-01,\n",
              "                        5.9382e-02,  3.6555e-01,  2.9857e-01, -1.1362e-02,  1.5501e-01,\n",
              "                       -1.2544e-01, -6.7767e-02,  1.0566e-01,  3.0220e-02, -1.3375e-02,\n",
              "                        3.2764e-01,  2.6147e-02, -2.3057e-01, -1.3251e-02,  1.6281e-02,\n",
              "                        2.1767e-02,  4.2807e-01, -1.4063e-01, -3.0705e-02, -1.2432e-01,\n",
              "                       -3.7724e-01,  2.0524e-01,  2.1228e-02,  6.1038e-02, -8.7623e-02,\n",
              "                        9.7764e-02,  3.6472e-01, -2.1097e-01,  2.5411e-01, -1.8473e-01,\n",
              "                        3.0748e-01,  3.3805e-01, -1.7374e-02,  9.4957e-02, -8.5783e-02,\n",
              "                       -1.6455e-01, -6.1012e-02,  2.3547e-01, -1.0697e-01,  1.0228e-01,\n",
              "                       -1.7981e-01, -3.5108e-01, -3.1087e-01,  3.1713e-01,  3.8849e-01,\n",
              "                       -2.8008e-02, -2.0177e-01,  7.9510e-02, -1.6078e-01, -1.4850e-02,\n",
              "                        9.3432e-02,  4.4583e-02, -1.4921e-01,  2.0857e-01, -6.2339e-02,\n",
              "                       -1.6566e-01, -1.6262e-01, -8.9561e-03,  5.7256e-02,  7.3062e-02,\n",
              "                        3.0282e-01, -1.1691e-02,  2.3832e-02,  1.6993e-01, -3.0403e-01,\n",
              "                       -2.3842e-01, -1.6425e-01, -1.0612e-01,  8.6348e-03, -1.1856e-01,\n",
              "                       -2.9222e-01, -1.5439e-01,  3.9271e-02,  3.7074e-03, -1.1357e-01,\n",
              "                       -9.5541e-02,  1.8086e-01,  4.0050e-02,  2.5721e-01,  1.2992e-01,\n",
              "                        1.4884e-01, -9.5224e-02,  9.1408e-02, -8.2143e-02, -4.2191e-02],\n",
              "                      [-3.2297e-01, -8.4490e-02, -1.0531e-01,  1.7885e-01,  1.5970e-01,\n",
              "                       -7.1755e-02,  2.2141e-02,  6.4910e-02,  2.8011e-02,  2.3220e-02,\n",
              "                        2.4270e-01, -3.1581e-01,  8.7709e-03, -7.3197e-02, -2.7514e-01,\n",
              "                       -9.4799e-02,  2.9742e-01,  3.1911e-01,  1.7592e-01,  2.5473e-01,\n",
              "                       -1.5371e-01, -5.7171e-01, -1.3042e-01,  2.3052e-01,  2.2430e-02,\n",
              "                       -1.1035e-01,  3.2249e-01,  9.8428e-02,  5.5777e-03,  7.6453e-02,\n",
              "                        1.3900e-01, -7.0138e-04,  1.4852e-01,  5.9591e-02,  1.6232e-01,\n",
              "                       -1.8719e-01,  1.4767e-02,  2.0223e-01,  1.5998e-01, -2.0199e-01,\n",
              "                        9.7599e-02, -1.8782e-01,  1.7963e-01, -1.9637e-01, -1.8716e-02,\n",
              "                        2.4934e-01, -1.1415e-01, -4.9922e-01, -6.5066e-03, -2.4048e-01,\n",
              "                       -4.9700e-02,  4.2785e-02,  2.7371e-01, -8.4376e-03, -1.2082e-01,\n",
              "                        4.6818e-02, -6.0622e-02,  2.6204e-01,  2.4578e-01, -1.5925e-02,\n",
              "                        1.1084e-01, -3.4500e-01,  8.8215e-02,  2.8127e-02,  7.4667e-02,\n",
              "                       -9.5594e-02, -1.8139e-01,  1.5626e-01, -3.3246e-01,  9.4698e-02,\n",
              "                        2.1268e-01,  1.8990e-01, -2.1114e-01, -1.3230e-01, -3.9634e-02,\n",
              "                        2.1581e-01,  1.4655e-01,  4.6392e-02, -3.1474e-01, -6.5671e-02,\n",
              "                       -2.7074e-01, -1.5215e-01,  1.0210e-01, -1.1730e-02,  5.9232e-02,\n",
              "                       -2.8362e-01,  7.4916e-02,  2.3139e-01,  3.1529e-01, -1.8881e-02,\n",
              "                        7.6935e-02,  2.0529e-01,  2.0772e-01, -2.6083e-01, -9.6905e-02,\n",
              "                        1.2209e-01, -9.2576e-03, -1.3496e-01,  2.1360e-01, -2.3292e-01],\n",
              "                      [ 2.1268e-01,  1.8422e-02, -1.4883e-01,  1.6753e-01, -8.5674e-02,\n",
              "                       -1.2475e-01, -2.0556e-01,  3.8014e-02,  4.8367e-02, -1.8464e-01,\n",
              "                        1.6553e-01, -6.3500e-02,  2.4238e-01, -1.5949e-01,  2.3048e-01,\n",
              "                        8.8802e-02, -3.5916e-01, -2.4128e-02, -8.9913e-02,  9.2623e-02,\n",
              "                        3.3594e-01,  1.8001e-01,  2.6726e-01,  7.2129e-02,  4.9768e-03,\n",
              "                       -6.7824e-02, -3.9834e-01,  1.2251e-01, -4.7817e-02,  2.9626e-01,\n",
              "                        3.0906e-01, -9.9628e-02,  2.4560e-02, -6.0003e-02, -2.7375e-01,\n",
              "                        1.9455e-02, -2.1672e-01, -1.3056e-01, -4.1169e-01, -9.0031e-02,\n",
              "                        1.2988e-01, -8.1178e-03, -1.6702e-02,  3.1425e-01, -2.4851e-01,\n",
              "                       -1.5114e-01, -3.6004e-02, -5.5656e-02,  2.1422e-03, -1.0107e-01,\n",
              "                        1.6211e-01,  6.9944e-02,  1.8241e-02,  1.3306e-01, -7.8293e-02,\n",
              "                       -9.4682e-02,  2.3522e-01,  8.7634e-02, -1.7169e-02, -2.4159e-01,\n",
              "                       -2.5426e-02,  2.3078e-02, -2.1109e-01, -1.7089e-01, -1.2342e-01,\n",
              "                       -5.7343e-02, -2.2321e-01, -1.7136e-01,  1.5570e-01,  5.2650e-02,\n",
              "                       -9.3546e-04, -1.2186e-01,  1.1262e-01,  8.2646e-02, -8.1389e-02,\n",
              "                        4.6081e-02,  2.9076e-02, -1.4658e-04,  3.4581e-01,  3.4208e-01,\n",
              "                        3.1355e-01,  9.9410e-02, -4.1286e-02, -2.9315e-02, -7.1285e-02,\n",
              "                       -5.3279e-02, -4.3004e-02,  1.6942e-01,  3.8844e-02,  2.7590e-01,\n",
              "                       -1.1708e-01,  2.9727e-01,  2.1344e-01, -5.1697e-02, -4.1023e-02,\n",
              "                        1.0724e-01, -1.4153e-02, -2.3744e-02,  1.3522e-01,  9.4808e-03],\n",
              "                      [ 2.7905e-01,  1.8513e-01, -2.4584e-01,  3.2146e-02,  3.2299e-02,\n",
              "                        5.1119e-02,  6.5920e-02, -6.3366e-02, -6.5342e-03, -3.4804e-03,\n",
              "                       -1.5911e-01,  1.4479e-01,  1.7939e-01, -1.2320e-01,  7.9926e-02,\n",
              "                        1.5294e-01, -3.4921e-01, -1.1233e-01,  8.3969e-02, -2.3194e-01,\n",
              "                       -1.1876e-01,  1.6453e-02,  2.5138e-03, -3.0049e-01,  1.1707e-01,\n",
              "                       -3.1691e-01, -2.0881e-01,  4.6979e-02,  6.6862e-02, -2.6169e-02,\n",
              "                        1.4704e-01,  2.0492e-02, -2.8774e-01,  1.8470e-01, -1.3971e-01,\n",
              "                        4.2097e-01, -6.6963e-02, -3.2651e-01,  3.1712e-02,  6.1176e-02,\n",
              "                        8.3908e-03, -1.4637e-01,  3.8042e-01, -1.8185e-01,  3.3653e-01,\n",
              "                       -9.4135e-02, -8.1854e-02,  5.0590e-01,  2.0160e-01, -4.9747e-02,\n",
              "                        5.8173e-02,  1.1297e-01, -2.8412e-01, -1.0293e-01, -2.5982e-01,\n",
              "                        3.2632e-01,  3.0661e-01,  1.2310e-01, -3.2231e-01, -2.8325e-01,\n",
              "                       -7.0875e-02,  4.1692e-02, -1.9881e-01, -8.1961e-02,  1.5000e-01,\n",
              "                       -4.3543e-02,  7.8651e-03, -1.4609e-01,  3.7570e-01, -1.7859e-01,\n",
              "                       -1.5809e-01, -1.6352e-01, -8.6125e-02, -8.7606e-02,  3.6360e-02,\n",
              "                       -4.0313e-01, -6.5897e-02, -7.5174e-02,  2.1375e-01,  2.1643e-01,\n",
              "                        1.3277e-02, -2.3472e-01, -1.2602e-01, -2.2494e-02,  8.8668e-02,\n",
              "                        3.9050e-01,  2.0271e-01, -3.6652e-01, -2.8089e-02,  3.3880e-01,\n",
              "                       -1.2750e-01,  5.5815e-01, -1.0558e-01,  1.4067e-01, -1.6095e-01,\n",
              "                       -1.4969e-01, -1.4821e-01, -6.5928e-02, -1.6236e-01, -1.5344e-01],\n",
              "                      [-8.6981e-02, -3.3569e-01,  9.7449e-02, -2.0038e-02, -8.0554e-02,\n",
              "                        6.3101e-02,  1.8017e-01,  7.4462e-02,  2.6379e-01, -5.1133e-02,\n",
              "                       -1.7204e-01,  2.6184e-01, -2.6691e-01,  1.5741e-02, -3.7841e-02,\n",
              "                        3.9552e-02,  1.9850e-01, -1.9284e-01,  6.4546e-02, -8.9760e-02,\n",
              "                        1.4374e-01,  3.7438e-01,  4.6326e-01, -1.7133e-01,  5.5247e-02,\n",
              "                        5.2511e-01,  2.6643e-02,  3.7777e-04, -1.4387e-01,  5.4850e-02,\n",
              "                       -1.3602e-01, -8.5239e-02, -3.3874e-01, -2.8962e-01, -1.5972e-01,\n",
              "                       -5.1493e-01, -8.8116e-02, -8.0203e-02, -2.0791e-01,  1.0333e-01,\n",
              "                        1.4052e-01,  3.5313e-01, -4.5252e-01,  3.1332e-01,  6.9625e-02,\n",
              "                       -2.9792e-01,  1.0483e-01,  2.3776e-01, -3.7059e-02,  2.3978e-01,\n",
              "                       -8.1499e-02, -6.2478e-02,  1.2188e-01,  4.3446e-02,  3.1565e-01,\n",
              "                       -1.1040e-01, -4.0129e-01, -2.2695e-01, -2.1701e-01,  1.0115e-01,\n",
              "                        5.8836e-02, -5.1460e-02,  1.6598e-01, -1.8742e-01, -1.4510e-02,\n",
              "                       -9.4450e-02,  1.6271e-01,  1.5631e-01, -1.2059e-01, -9.2967e-02,\n",
              "                       -6.5439e-02,  3.7576e-02,  1.2829e-01, -3.4520e-03,  2.0041e-01,\n",
              "                        1.8407e-01, -1.0663e-01,  7.1560e-02, -1.9767e-01, -3.2235e-01,\n",
              "                       -1.3894e-01,  4.9461e-01, -2.1145e-01,  7.8954e-02,  1.2407e-02,\n",
              "                       -3.7607e-01, -3.0742e-01, -1.8451e-01, -3.2277e-01,  1.1745e-01,\n",
              "                       -1.5059e-01, -3.4637e-01,  6.1026e-02,  1.8521e-01, -1.3579e-01,\n",
              "                       -1.9341e-01,  1.4141e-01,  1.0015e-01, -1.5564e-01,  2.8740e-01],\n",
              "                      [-1.2248e-01,  1.1309e-01, -1.7281e-01,  4.9731e-03,  1.8583e-01,\n",
              "                        3.2474e-02,  1.8263e-01,  3.5375e-02, -6.7585e-02, -1.0999e-01,\n",
              "                       -1.6647e-01,  6.8538e-02,  1.8310e-01, -7.9372e-02, -7.3950e-02,\n",
              "                       -5.9037e-02, -7.7292e-02, -6.2786e-02, -1.6770e-01, -1.5071e-02,\n",
              "                       -1.6407e-01, -2.0492e-01, -2.7451e-01, -1.2968e-01, -4.2572e-02,\n",
              "                       -4.1027e-01,  3.1759e-01, -6.5668e-03,  1.5090e-01,  3.0483e-01,\n",
              "                       -1.9583e-01,  7.3342e-02,  3.5537e-01, -1.4519e-01,  1.0390e-01,\n",
              "                        2.6489e-01,  9.3627e-02,  3.3197e-01,  1.5841e-01,  7.7276e-02,\n",
              "                       -8.8425e-02, -3.4976e-01,  3.0586e-01, -1.5804e-01, -8.1233e-02,\n",
              "                       -7.9550e-02,  1.9552e-01, -3.5066e-01, -2.5879e-01, -2.0074e-01,\n",
              "                       -6.3770e-02, -1.5770e-01,  2.5903e-01, -2.6051e-02, -7.3222e-02,\n",
              "                        1.9359e-02,  1.0764e-01, -1.7401e-01,  1.5815e-01,  2.2265e-01,\n",
              "                        2.7529e-01,  1.7560e-01,  2.1980e-01,  2.5557e-02, -2.1985e-01,\n",
              "                       -5.2886e-02,  7.7975e-02,  8.8053e-03, -2.2473e-01,  1.5532e-01,\n",
              "                       -4.4005e-02,  1.1843e-01,  1.4986e-01,  1.6189e-01,  5.6758e-02,\n",
              "                       -1.0045e-01,  1.7509e-01,  9.1042e-02, -9.1373e-02,  4.6844e-04,\n",
              "                       -1.8784e-01, -1.6945e-01,  2.7552e-01, -1.2511e-01,  1.5664e-02,\n",
              "                       -1.2830e-01,  3.5230e-01,  1.3632e-01,  3.3122e-01,  1.3395e-01,\n",
              "                        4.3762e-02, -4.2187e-01, -1.3322e-01, -6.6834e-02,  1.3730e-01,\n",
              "                        1.3195e-01,  4.9196e-02, -4.3433e-02, -9.5519e-02,  1.3630e-01],\n",
              "                      [ 2.4710e-01,  2.6406e-02,  9.8144e-02,  2.8664e-02,  6.3631e-02,\n",
              "                       -7.6113e-03, -1.2976e-01, -4.5478e-02, -2.0413e-01,  1.2501e-01,\n",
              "                       -1.4412e-01,  2.8250e-01, -2.5630e-01, -2.4984e-01,  1.3339e-01,\n",
              "                        3.2200e-02, -2.2574e-01,  1.6589e-01,  9.0966e-02, -1.8319e-01,\n",
              "                       -1.8667e-01,  2.5724e-01,  1.0003e-01, -7.0919e-02,  6.4222e-02,\n",
              "                        3.8474e-02, -1.6278e-01,  5.7982e-03,  3.5131e-02,  2.6504e-01,\n",
              "                        2.3817e-01, -1.2019e-01,  2.5679e-01, -2.9615e-01,  1.4748e-01,\n",
              "                        3.2759e-01,  4.0231e-02,  1.5469e-01,  1.3512e-01,  1.7864e-01,\n",
              "                        1.1301e-01,  2.2697e-01,  1.5058e-01, -1.8343e-01,  2.0583e-01,\n",
              "                       -2.5282e-01, -6.4099e-02,  1.5617e-01, -7.8187e-02,  1.4220e-01,\n",
              "                       -5.8569e-02, -2.4030e-01,  5.4228e-02, -1.1931e-01, -1.3961e-01,\n",
              "                       -6.9894e-03, -6.6551e-02, -5.8433e-02,  8.9510e-02, -2.7821e-01,\n",
              "                        1.3715e-01,  1.5333e-01,  5.8076e-04,  9.2009e-02,  6.4182e-02,\n",
              "                       -1.2358e-02,  1.0825e-01,  4.4083e-02, -1.0283e-01,  6.5229e-04,\n",
              "                        2.0112e-02, -2.1447e-01,  1.5502e-02,  8.4731e-02, -1.5588e-01,\n",
              "                        8.4464e-02, -6.8362e-02, -1.3144e-01,  1.5915e-01, -3.6816e-02,\n",
              "                       -1.7397e-01, -2.3885e-01, -6.5123e-03,  7.9345e-02,  9.2085e-02,\n",
              "                        2.3700e-01,  1.8028e-01,  2.2727e-01, -1.2850e-01, -1.5268e-01,\n",
              "                        2.4620e-01, -9.4959e-02,  4.4930e-02, -2.2922e-01,  4.3389e-02,\n",
              "                        3.4314e-02,  8.0446e-02,  1.0160e-01,  2.8335e-02, -8.7118e-02],\n",
              "                      [ 2.6483e-03, -1.3645e-01, -4.3276e-02, -1.0625e-01, -7.1218e-02,\n",
              "                        3.8514e-03, -1.7764e-01, -1.2180e-01, -2.4665e-01,  5.1716e-02,\n",
              "                        4.0728e-02, -2.8644e-01,  4.2299e-01,  1.0568e-01,  1.0837e-01,\n",
              "                       -2.2002e-03, -1.3400e-01, -1.8333e-01,  3.2507e-01, -2.3839e-01,\n",
              "                       -7.6895e-02, -2.3161e-01, -3.8384e-01,  1.2989e-01,  3.3377e-02,\n",
              "                       -3.3291e-01,  2.4997e-01,  2.3188e-01, -5.7703e-02, -9.7053e-02,\n",
              "                       -4.4730e-01, -2.1032e-01,  1.7607e-01,  2.9012e-01,  3.3937e-01,\n",
              "                        4.1947e-01, -1.7115e-01,  2.9858e-02, -1.9011e-01, -1.7115e-01,\n",
              "                       -1.7084e-01, -7.7153e-02,  4.3805e-01, -3.4347e-01,  2.5693e-02,\n",
              "                        3.8632e-01,  1.2030e-01, -8.3906e-02, -1.8134e-01,  1.3591e-01,\n",
              "                       -4.2482e-02,  8.1342e-02, -2.4444e-01,  1.3810e-02, -1.3715e-01,\n",
              "                        2.4094e-01,  4.1613e-01, -2.1730e-01, -3.7427e-02, -1.7606e-01,\n",
              "                       -3.0246e-01,  7.9978e-02,  4.6048e-02,  2.3539e-02, -5.1801e-02,\n",
              "                        6.9301e-02, -9.6957e-02, -2.3547e-01, -6.8163e-02, -1.6369e-01,\n",
              "                       -7.1696e-02, -2.6065e-02, -1.6130e-01, -7.8642e-02, -1.5155e-01,\n",
              "                       -1.4676e-01, -3.3578e-01, -4.0880e-02,  6.2907e-02,  3.6311e-01,\n",
              "                        5.6845e-02, -1.2808e-01,  2.2778e-01, -1.2194e-01, -1.1576e-01,\n",
              "                        3.1663e-01, -5.9805e-02,  7.8465e-02,  7.2583e-02, -1.0199e-01,\n",
              "                       -2.1765e-01,  5.2707e-02, -2.2637e-01,  3.3239e-01,  7.0252e-02,\n",
              "                        1.2515e-01, -1.0616e-01,  1.5724e-01, -2.1061e-01, -1.4971e-01]])),\n",
              "             ('fc2.bias',\n",
              "              tensor([ 0.6852,  0.1045, -0.3931,  0.2190, -0.1936, -0.5631,  0.1009, -0.1305,\n",
              "                      -0.0126,  0.0374]))])"
            ]
          },
          "execution_count": 43,
          "metadata": {},
          "output_type": "execute_result"
        }
      ],
      "source": [
        "net.state_dict()"
      ]
    },
    {
      "cell_type": "code",
      "execution_count": 44,
      "id": "YQ6fi0xJaYMb",
      "metadata": {
        "colab": {
          "base_uri": "https://localhost:8080/"
        },
        "id": "YQ6fi0xJaYMb",
        "outputId": "a9a3e07c-51a9-4c01-8bdf-0ffe79a2706b"
      },
      "outputs": [
        {
          "data": {
            "text/plain": [
              "(torch.Size([100, 784]), torch.Size([100]))"
            ]
          },
          "execution_count": 44,
          "metadata": {},
          "output_type": "execute_result"
        }
      ],
      "source": [
        "net.state_dict()[\"fc1.weight\"].shape, net.state_dict()[\"fc1.bias\"].shape"
      ]
    },
    {
      "cell_type": "code",
      "execution_count": 45,
      "id": "Pu4IDqczZVMK",
      "metadata": {
        "id": "Pu4IDqczZVMK"
      },
      "outputs": [],
      "source": [
        "save_path = \"thai_digit.pth\"\n",
        "torch.save(net.state_dict(), save_path)"
      ]
    }
  ],
  "metadata": {
    "accelerator": "GPU",
    "colab": {
      "provenance": []
    },
    "gpuClass": "standard",
    "kernelspec": {
      "display_name": "Python 3.7.5 ('ml-agents')",
      "language": "python",
      "name": "python3"
    },
    "language_info": {
      "codemirror_mode": {
        "name": "ipython",
        "version": 3
      },
      "file_extension": ".py",
      "mimetype": "text/x-python",
      "name": "python",
      "nbconvert_exporter": "python",
      "pygments_lexer": "ipython3",
      "version": "3.7.5"
    },
    "vscode": {
      "interpreter": {
        "hash": "94499b8ebe41d82c56ca741edd2212fa3535c1025402838f7d8b62fb6e0f95b1"
      }
    },
    "widgets": {
      "application/vnd.jupyter.widget-state+json": {
        "01bc6fd2afff4c5190057f0982b8c1f3": {
          "model_module": "@jupyter-widgets/controls",
          "model_module_version": "1.5.0",
          "model_name": "DescriptionStyleModel",
          "state": {
            "_model_module": "@jupyter-widgets/controls",
            "_model_module_version": "1.5.0",
            "_model_name": "DescriptionStyleModel",
            "_view_count": null,
            "_view_module": "@jupyter-widgets/base",
            "_view_module_version": "1.2.0",
            "_view_name": "StyleView",
            "description_width": ""
          }
        },
        "02ade13db72d42f18a6530c95aed0a97": {
          "model_module": "@jupyter-widgets/controls",
          "model_module_version": "1.5.0",
          "model_name": "FloatProgressModel",
          "state": {
            "_dom_classes": [],
            "_model_module": "@jupyter-widgets/controls",
            "_model_module_version": "1.5.0",
            "_model_name": "FloatProgressModel",
            "_view_count": null,
            "_view_module": "@jupyter-widgets/controls",
            "_view_module_version": "1.5.0",
            "_view_name": "ProgressView",
            "bar_style": "success",
            "description": "",
            "description_tooltip": null,
            "layout": "IPY_MODEL_f4912141411641a28e51c351592f44af",
            "max": 175,
            "min": 0,
            "orientation": "horizontal",
            "style": "IPY_MODEL_17ef880a9a0948518e48496081dc0e55",
            "value": 175
          }
        },
        "045add9bbda248a19010c2c6942ff606": {
          "model_module": "@jupyter-widgets/base",
          "model_module_version": "1.2.0",
          "model_name": "LayoutModel",
          "state": {
            "_model_module": "@jupyter-widgets/base",
            "_model_module_version": "1.2.0",
            "_model_name": "LayoutModel",
            "_view_count": null,
            "_view_module": "@jupyter-widgets/base",
            "_view_module_version": "1.2.0",
            "_view_name": "LayoutView",
            "align_content": null,
            "align_items": null,
            "align_self": null,
            "border": null,
            "bottom": null,
            "display": null,
            "flex": null,
            "flex_flow": null,
            "grid_area": null,
            "grid_auto_columns": null,
            "grid_auto_flow": null,
            "grid_auto_rows": null,
            "grid_column": null,
            "grid_gap": null,
            "grid_row": null,
            "grid_template_areas": null,
            "grid_template_columns": null,
            "grid_template_rows": null,
            "height": null,
            "justify_content": null,
            "justify_items": null,
            "left": null,
            "margin": null,
            "max_height": null,
            "max_width": null,
            "min_height": null,
            "min_width": null,
            "object_fit": null,
            "object_position": null,
            "order": null,
            "overflow": null,
            "overflow_x": null,
            "overflow_y": null,
            "padding": null,
            "right": null,
            "top": null,
            "visibility": null,
            "width": null
          }
        },
        "17ef880a9a0948518e48496081dc0e55": {
          "model_module": "@jupyter-widgets/controls",
          "model_module_version": "1.5.0",
          "model_name": "ProgressStyleModel",
          "state": {
            "_model_module": "@jupyter-widgets/controls",
            "_model_module_version": "1.5.0",
            "_model_name": "ProgressStyleModel",
            "_view_count": null,
            "_view_module": "@jupyter-widgets/base",
            "_view_module_version": "1.2.0",
            "_view_name": "StyleView",
            "bar_color": null,
            "description_width": ""
          }
        },
        "310f3bd991434f1b90459abd10a022eb": {
          "model_module": "@jupyter-widgets/controls",
          "model_module_version": "1.5.0",
          "model_name": "HBoxModel",
          "state": {
            "_dom_classes": [],
            "_model_module": "@jupyter-widgets/controls",
            "_model_module_version": "1.5.0",
            "_model_name": "HBoxModel",
            "_view_count": null,
            "_view_module": "@jupyter-widgets/controls",
            "_view_module_version": "1.5.0",
            "_view_name": "HBoxView",
            "box_style": "",
            "children": [
              "IPY_MODEL_6ecba37b94314787aa3b804b98b1ce6f",
              "IPY_MODEL_02ade13db72d42f18a6530c95aed0a97",
              "IPY_MODEL_626aeb13908444fa8ec6f602ed706d8b"
            ],
            "layout": "IPY_MODEL_636293f7e61e4a708c51f6fce171cb81"
          }
        },
        "4340f21685a6449d80def90acb533922": {
          "model_module": "@jupyter-widgets/controls",
          "model_module_version": "1.5.0",
          "model_name": "HTMLModel",
          "state": {
            "_dom_classes": [],
            "_model_module": "@jupyter-widgets/controls",
            "_model_module_version": "1.5.0",
            "_model_name": "HTMLModel",
            "_view_count": null,
            "_view_module": "@jupyter-widgets/controls",
            "_view_module_version": "1.5.0",
            "_view_name": "HTMLView",
            "description": "",
            "description_tooltip": null,
            "layout": "IPY_MODEL_8496e99815e84753ba905431be46e4db",
            "placeholder": "​",
            "style": "IPY_MODEL_4b3f0ab3413e43d1908bcfda4133ecd8",
            "value": " 1575/1575 [00:00&lt;00:00, 7680.03it/s]"
          }
        },
        "4b3f0ab3413e43d1908bcfda4133ecd8": {
          "model_module": "@jupyter-widgets/controls",
          "model_module_version": "1.5.0",
          "model_name": "DescriptionStyleModel",
          "state": {
            "_model_module": "@jupyter-widgets/controls",
            "_model_module_version": "1.5.0",
            "_model_name": "DescriptionStyleModel",
            "_view_count": null,
            "_view_module": "@jupyter-widgets/base",
            "_view_module_version": "1.2.0",
            "_view_name": "StyleView",
            "description_width": ""
          }
        },
        "4f69a9d0f6c149a9802b4573f36373b9": {
          "model_module": "@jupyter-widgets/controls",
          "model_module_version": "1.5.0",
          "model_name": "HTMLModel",
          "state": {
            "_dom_classes": [],
            "_model_module": "@jupyter-widgets/controls",
            "_model_module_version": "1.5.0",
            "_model_name": "HTMLModel",
            "_view_count": null,
            "_view_module": "@jupyter-widgets/controls",
            "_view_module_version": "1.5.0",
            "_view_name": "HTMLView",
            "description": "",
            "description_tooltip": null,
            "layout": "IPY_MODEL_045add9bbda248a19010c2c6942ff606",
            "placeholder": "​",
            "style": "IPY_MODEL_9b19b813ae024ac19b468524432335ab",
            "value": "100%"
          }
        },
        "626aeb13908444fa8ec6f602ed706d8b": {
          "model_module": "@jupyter-widgets/controls",
          "model_module_version": "1.5.0",
          "model_name": "HTMLModel",
          "state": {
            "_dom_classes": [],
            "_model_module": "@jupyter-widgets/controls",
            "_model_module_version": "1.5.0",
            "_model_name": "HTMLModel",
            "_view_count": null,
            "_view_module": "@jupyter-widgets/controls",
            "_view_module_version": "1.5.0",
            "_view_name": "HTMLView",
            "description": "",
            "description_tooltip": null,
            "layout": "IPY_MODEL_86e85f476ed54ecbb91f6355ace60a44",
            "placeholder": "​",
            "style": "IPY_MODEL_8a6ace48716e4597a06f42562435bd1c",
            "value": " 175/175 [00:00&lt;00:00, 3268.06it/s]"
          }
        },
        "636293f7e61e4a708c51f6fce171cb81": {
          "model_module": "@jupyter-widgets/base",
          "model_module_version": "1.2.0",
          "model_name": "LayoutModel",
          "state": {
            "_model_module": "@jupyter-widgets/base",
            "_model_module_version": "1.2.0",
            "_model_name": "LayoutModel",
            "_view_count": null,
            "_view_module": "@jupyter-widgets/base",
            "_view_module_version": "1.2.0",
            "_view_name": "LayoutView",
            "align_content": null,
            "align_items": null,
            "align_self": null,
            "border": null,
            "bottom": null,
            "display": null,
            "flex": null,
            "flex_flow": null,
            "grid_area": null,
            "grid_auto_columns": null,
            "grid_auto_flow": null,
            "grid_auto_rows": null,
            "grid_column": null,
            "grid_gap": null,
            "grid_row": null,
            "grid_template_areas": null,
            "grid_template_columns": null,
            "grid_template_rows": null,
            "height": null,
            "justify_content": null,
            "justify_items": null,
            "left": null,
            "margin": null,
            "max_height": null,
            "max_width": null,
            "min_height": null,
            "min_width": null,
            "object_fit": null,
            "object_position": null,
            "order": null,
            "overflow": null,
            "overflow_x": null,
            "overflow_y": null,
            "padding": null,
            "right": null,
            "top": null,
            "visibility": null,
            "width": null
          }
        },
        "644a88617c134a2a9cbabd81eb60f8e6": {
          "model_module": "@jupyter-widgets/base",
          "model_module_version": "1.2.0",
          "model_name": "LayoutModel",
          "state": {
            "_model_module": "@jupyter-widgets/base",
            "_model_module_version": "1.2.0",
            "_model_name": "LayoutModel",
            "_view_count": null,
            "_view_module": "@jupyter-widgets/base",
            "_view_module_version": "1.2.0",
            "_view_name": "LayoutView",
            "align_content": null,
            "align_items": null,
            "align_self": null,
            "border": null,
            "bottom": null,
            "display": null,
            "flex": null,
            "flex_flow": null,
            "grid_area": null,
            "grid_auto_columns": null,
            "grid_auto_flow": null,
            "grid_auto_rows": null,
            "grid_column": null,
            "grid_gap": null,
            "grid_row": null,
            "grid_template_areas": null,
            "grid_template_columns": null,
            "grid_template_rows": null,
            "height": null,
            "justify_content": null,
            "justify_items": null,
            "left": null,
            "margin": null,
            "max_height": null,
            "max_width": null,
            "min_height": null,
            "min_width": null,
            "object_fit": null,
            "object_position": null,
            "order": null,
            "overflow": null,
            "overflow_x": null,
            "overflow_y": null,
            "padding": null,
            "right": null,
            "top": null,
            "visibility": null,
            "width": null
          }
        },
        "6ecba37b94314787aa3b804b98b1ce6f": {
          "model_module": "@jupyter-widgets/controls",
          "model_module_version": "1.5.0",
          "model_name": "HTMLModel",
          "state": {
            "_dom_classes": [],
            "_model_module": "@jupyter-widgets/controls",
            "_model_module_version": "1.5.0",
            "_model_name": "HTMLModel",
            "_view_count": null,
            "_view_module": "@jupyter-widgets/controls",
            "_view_module_version": "1.5.0",
            "_view_name": "HTMLView",
            "description": "",
            "description_tooltip": null,
            "layout": "IPY_MODEL_644a88617c134a2a9cbabd81eb60f8e6",
            "placeholder": "​",
            "style": "IPY_MODEL_01bc6fd2afff4c5190057f0982b8c1f3",
            "value": "100%"
          }
        },
        "78c99a8174ae4048aa136091763e1ca9": {
          "model_module": "@jupyter-widgets/base",
          "model_module_version": "1.2.0",
          "model_name": "LayoutModel",
          "state": {
            "_model_module": "@jupyter-widgets/base",
            "_model_module_version": "1.2.0",
            "_model_name": "LayoutModel",
            "_view_count": null,
            "_view_module": "@jupyter-widgets/base",
            "_view_module_version": "1.2.0",
            "_view_name": "LayoutView",
            "align_content": null,
            "align_items": null,
            "align_self": null,
            "border": null,
            "bottom": null,
            "display": null,
            "flex": null,
            "flex_flow": null,
            "grid_area": null,
            "grid_auto_columns": null,
            "grid_auto_flow": null,
            "grid_auto_rows": null,
            "grid_column": null,
            "grid_gap": null,
            "grid_row": null,
            "grid_template_areas": null,
            "grid_template_columns": null,
            "grid_template_rows": null,
            "height": null,
            "justify_content": null,
            "justify_items": null,
            "left": null,
            "margin": null,
            "max_height": null,
            "max_width": null,
            "min_height": null,
            "min_width": null,
            "object_fit": null,
            "object_position": null,
            "order": null,
            "overflow": null,
            "overflow_x": null,
            "overflow_y": null,
            "padding": null,
            "right": null,
            "top": null,
            "visibility": null,
            "width": null
          }
        },
        "8496e99815e84753ba905431be46e4db": {
          "model_module": "@jupyter-widgets/base",
          "model_module_version": "1.2.0",
          "model_name": "LayoutModel",
          "state": {
            "_model_module": "@jupyter-widgets/base",
            "_model_module_version": "1.2.0",
            "_model_name": "LayoutModel",
            "_view_count": null,
            "_view_module": "@jupyter-widgets/base",
            "_view_module_version": "1.2.0",
            "_view_name": "LayoutView",
            "align_content": null,
            "align_items": null,
            "align_self": null,
            "border": null,
            "bottom": null,
            "display": null,
            "flex": null,
            "flex_flow": null,
            "grid_area": null,
            "grid_auto_columns": null,
            "grid_auto_flow": null,
            "grid_auto_rows": null,
            "grid_column": null,
            "grid_gap": null,
            "grid_row": null,
            "grid_template_areas": null,
            "grid_template_columns": null,
            "grid_template_rows": null,
            "height": null,
            "justify_content": null,
            "justify_items": null,
            "left": null,
            "margin": null,
            "max_height": null,
            "max_width": null,
            "min_height": null,
            "min_width": null,
            "object_fit": null,
            "object_position": null,
            "order": null,
            "overflow": null,
            "overflow_x": null,
            "overflow_y": null,
            "padding": null,
            "right": null,
            "top": null,
            "visibility": null,
            "width": null
          }
        },
        "86e85f476ed54ecbb91f6355ace60a44": {
          "model_module": "@jupyter-widgets/base",
          "model_module_version": "1.2.0",
          "model_name": "LayoutModel",
          "state": {
            "_model_module": "@jupyter-widgets/base",
            "_model_module_version": "1.2.0",
            "_model_name": "LayoutModel",
            "_view_count": null,
            "_view_module": "@jupyter-widgets/base",
            "_view_module_version": "1.2.0",
            "_view_name": "LayoutView",
            "align_content": null,
            "align_items": null,
            "align_self": null,
            "border": null,
            "bottom": null,
            "display": null,
            "flex": null,
            "flex_flow": null,
            "grid_area": null,
            "grid_auto_columns": null,
            "grid_auto_flow": null,
            "grid_auto_rows": null,
            "grid_column": null,
            "grid_gap": null,
            "grid_row": null,
            "grid_template_areas": null,
            "grid_template_columns": null,
            "grid_template_rows": null,
            "height": null,
            "justify_content": null,
            "justify_items": null,
            "left": null,
            "margin": null,
            "max_height": null,
            "max_width": null,
            "min_height": null,
            "min_width": null,
            "object_fit": null,
            "object_position": null,
            "order": null,
            "overflow": null,
            "overflow_x": null,
            "overflow_y": null,
            "padding": null,
            "right": null,
            "top": null,
            "visibility": null,
            "width": null
          }
        },
        "8881185222044311b14029acf930c9e8": {
          "model_module": "@jupyter-widgets/controls",
          "model_module_version": "1.5.0",
          "model_name": "ProgressStyleModel",
          "state": {
            "_model_module": "@jupyter-widgets/controls",
            "_model_module_version": "1.5.0",
            "_model_name": "ProgressStyleModel",
            "_view_count": null,
            "_view_module": "@jupyter-widgets/base",
            "_view_module_version": "1.2.0",
            "_view_name": "StyleView",
            "bar_color": null,
            "description_width": ""
          }
        },
        "8a6ace48716e4597a06f42562435bd1c": {
          "model_module": "@jupyter-widgets/controls",
          "model_module_version": "1.5.0",
          "model_name": "DescriptionStyleModel",
          "state": {
            "_model_module": "@jupyter-widgets/controls",
            "_model_module_version": "1.5.0",
            "_model_name": "DescriptionStyleModel",
            "_view_count": null,
            "_view_module": "@jupyter-widgets/base",
            "_view_module_version": "1.2.0",
            "_view_name": "StyleView",
            "description_width": ""
          }
        },
        "8c39585455d04552af9789b8fa490218": {
          "model_module": "@jupyter-widgets/controls",
          "model_module_version": "1.5.0",
          "model_name": "FloatProgressModel",
          "state": {
            "_dom_classes": [],
            "_model_module": "@jupyter-widgets/controls",
            "_model_module_version": "1.5.0",
            "_model_name": "FloatProgressModel",
            "_view_count": null,
            "_view_module": "@jupyter-widgets/controls",
            "_view_module_version": "1.5.0",
            "_view_name": "ProgressView",
            "bar_style": "success",
            "description": "",
            "description_tooltip": null,
            "layout": "IPY_MODEL_f2330e6ad0f24651a8bf427d9b097385",
            "max": 1575,
            "min": 0,
            "orientation": "horizontal",
            "style": "IPY_MODEL_8881185222044311b14029acf930c9e8",
            "value": 1575
          }
        },
        "9b19b813ae024ac19b468524432335ab": {
          "model_module": "@jupyter-widgets/controls",
          "model_module_version": "1.5.0",
          "model_name": "DescriptionStyleModel",
          "state": {
            "_model_module": "@jupyter-widgets/controls",
            "_model_module_version": "1.5.0",
            "_model_name": "DescriptionStyleModel",
            "_view_count": null,
            "_view_module": "@jupyter-widgets/base",
            "_view_module_version": "1.2.0",
            "_view_name": "StyleView",
            "description_width": ""
          }
        },
        "c7be8e083c43449f8e73f446cbacfaaa": {
          "model_module": "@jupyter-widgets/controls",
          "model_module_version": "1.5.0",
          "model_name": "HBoxModel",
          "state": {
            "_dom_classes": [],
            "_model_module": "@jupyter-widgets/controls",
            "_model_module_version": "1.5.0",
            "_model_name": "HBoxModel",
            "_view_count": null,
            "_view_module": "@jupyter-widgets/controls",
            "_view_module_version": "1.5.0",
            "_view_name": "HBoxView",
            "box_style": "",
            "children": [
              "IPY_MODEL_4f69a9d0f6c149a9802b4573f36373b9",
              "IPY_MODEL_8c39585455d04552af9789b8fa490218",
              "IPY_MODEL_4340f21685a6449d80def90acb533922"
            ],
            "layout": "IPY_MODEL_78c99a8174ae4048aa136091763e1ca9"
          }
        },
        "f2330e6ad0f24651a8bf427d9b097385": {
          "model_module": "@jupyter-widgets/base",
          "model_module_version": "1.2.0",
          "model_name": "LayoutModel",
          "state": {
            "_model_module": "@jupyter-widgets/base",
            "_model_module_version": "1.2.0",
            "_model_name": "LayoutModel",
            "_view_count": null,
            "_view_module": "@jupyter-widgets/base",
            "_view_module_version": "1.2.0",
            "_view_name": "LayoutView",
            "align_content": null,
            "align_items": null,
            "align_self": null,
            "border": null,
            "bottom": null,
            "display": null,
            "flex": null,
            "flex_flow": null,
            "grid_area": null,
            "grid_auto_columns": null,
            "grid_auto_flow": null,
            "grid_auto_rows": null,
            "grid_column": null,
            "grid_gap": null,
            "grid_row": null,
            "grid_template_areas": null,
            "grid_template_columns": null,
            "grid_template_rows": null,
            "height": null,
            "justify_content": null,
            "justify_items": null,
            "left": null,
            "margin": null,
            "max_height": null,
            "max_width": null,
            "min_height": null,
            "min_width": null,
            "object_fit": null,
            "object_position": null,
            "order": null,
            "overflow": null,
            "overflow_x": null,
            "overflow_y": null,
            "padding": null,
            "right": null,
            "top": null,
            "visibility": null,
            "width": null
          }
        },
        "f4912141411641a28e51c351592f44af": {
          "model_module": "@jupyter-widgets/base",
          "model_module_version": "1.2.0",
          "model_name": "LayoutModel",
          "state": {
            "_model_module": "@jupyter-widgets/base",
            "_model_module_version": "1.2.0",
            "_model_name": "LayoutModel",
            "_view_count": null,
            "_view_module": "@jupyter-widgets/base",
            "_view_module_version": "1.2.0",
            "_view_name": "LayoutView",
            "align_content": null,
            "align_items": null,
            "align_self": null,
            "border": null,
            "bottom": null,
            "display": null,
            "flex": null,
            "flex_flow": null,
            "grid_area": null,
            "grid_auto_columns": null,
            "grid_auto_flow": null,
            "grid_auto_rows": null,
            "grid_column": null,
            "grid_gap": null,
            "grid_row": null,
            "grid_template_areas": null,
            "grid_template_columns": null,
            "grid_template_rows": null,
            "height": null,
            "justify_content": null,
            "justify_items": null,
            "left": null,
            "margin": null,
            "max_height": null,
            "max_width": null,
            "min_height": null,
            "min_width": null,
            "object_fit": null,
            "object_position": null,
            "order": null,
            "overflow": null,
            "overflow_x": null,
            "overflow_y": null,
            "padding": null,
            "right": null,
            "top": null,
            "visibility": null,
            "width": null
          }
        }
      }
    }
  },
  "nbformat": 4,
  "nbformat_minor": 5
}
