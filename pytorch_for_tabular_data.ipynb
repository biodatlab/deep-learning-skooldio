{
  "cells": [
    {
      "cell_type": "code",
      "execution_count": 176,
      "metadata": {
        "id": "zxcAGilIZI0C"
      },
      "outputs": [],
      "source": [
        "import pandas as pd\n",
        "import numpy as np\n",
        "from tqdm.auto import tqdm\n",
        "import matplotlib.pyplot as plt\n",
        "\n",
        "import torch\n",
        "import torch.nn as nn\n",
        "import torch.nn.functional as F\n",
        "\n",
        "from sklearn.linear_model import LinearRegression\n",
        "from sklearn.model_selection import train_test_split\n",
        "from sklearn.metrics import mean_squared_error\n",
        "import joblib"
      ]
    },
    {
      "cell_type": "markdown",
      "metadata": {
        "id": "1aoH2TxDZI0E"
      },
      "source": [
        "## Data Preparation"
      ]
    },
    {
      "cell_type": "code",
      "execution_count": 150,
      "metadata": {
        "colab": {
          "base_uri": "https://localhost:8080/",
          "height": 206
        },
        "id": "wCZuVhV7ZI0F",
        "outputId": "cd33d78c-5c63-43b3-a2a0-9eb7e1aae827"
      },
      "outputs": [
        {
          "data": {
            "text/html": [
              "<div>\n",
              "<style scoped>\n",
              "    .dataframe tbody tr th:only-of-type {\n",
              "        vertical-align: middle;\n",
              "    }\n",
              "\n",
              "    .dataframe tbody tr th {\n",
              "        vertical-align: top;\n",
              "    }\n",
              "\n",
              "    .dataframe thead th {\n",
              "        text-align: right;\n",
              "    }\n",
              "</style>\n",
              "<table border=\"1\" class=\"dataframe\">\n",
              "  <thead>\n",
              "    <tr style=\"text-align: right;\">\n",
              "      <th></th>\n",
              "      <th>Brand</th>\n",
              "      <th>Model</th>\n",
              "      <th>Engine</th>\n",
              "      <th>Segment</th>\n",
              "      <th>Year</th>\n",
              "      <th>Mileage</th>\n",
              "      <th>Province</th>\n",
              "      <th>Price</th>\n",
              "      <th>Color</th>\n",
              "    </tr>\n",
              "  </thead>\n",
              "  <tbody>\n",
              "    <tr>\n",
              "      <th>0</th>\n",
              "      <td>Mazda</td>\n",
              "      <td>Mazda2</td>\n",
              "      <td>1.3</td>\n",
              "      <td>B-Segment</td>\n",
              "      <td>2022</td>\n",
              "      <td>15,640</td>\n",
              "      <td>กรุงเทพมหานคร</td>\n",
              "      <td>499,000</td>\n",
              "      <td>Gray</td>\n",
              "    </tr>\n",
              "    <tr>\n",
              "      <th>1</th>\n",
              "      <td>Suzuki</td>\n",
              "      <td>Celerio</td>\n",
              "      <td>1.0</td>\n",
              "      <td>Eco Car</td>\n",
              "      <td>2021</td>\n",
              "      <td>9,545</td>\n",
              "      <td>กรุงเทพมหานคร</td>\n",
              "      <td>315,000</td>\n",
              "      <td>White</td>\n",
              "    </tr>\n",
              "    <tr>\n",
              "      <th>2</th>\n",
              "      <td>Mitsubishi</td>\n",
              "      <td>Mirage</td>\n",
              "      <td>1.2</td>\n",
              "      <td>Eco Car</td>\n",
              "      <td>2021</td>\n",
              "      <td>10,900</td>\n",
              "      <td>นนทบุรี</td>\n",
              "      <td>335,000</td>\n",
              "      <td>Gray</td>\n",
              "    </tr>\n",
              "    <tr>\n",
              "      <th>3</th>\n",
              "      <td>Nissan</td>\n",
              "      <td>March</td>\n",
              "      <td>1.2</td>\n",
              "      <td>Eco Car</td>\n",
              "      <td>2021</td>\n",
              "      <td>12,000</td>\n",
              "      <td>กรุงเทพมหานคร</td>\n",
              "      <td>339,000</td>\n",
              "      <td>Silver</td>\n",
              "    </tr>\n",
              "    <tr>\n",
              "      <th>4</th>\n",
              "      <td>Mitsubishi</td>\n",
              "      <td>Attrage</td>\n",
              "      <td>1.2</td>\n",
              "      <td>Eco Car</td>\n",
              "      <td>2021</td>\n",
              "      <td>25,706</td>\n",
              "      <td>กาญจนบุรี</td>\n",
              "      <td>350,000</td>\n",
              "      <td>Gray</td>\n",
              "    </tr>\n",
              "  </tbody>\n",
              "</table>\n",
              "</div>"
            ],
            "text/plain": [
              "        Brand    Model  Engine    Segment  Year Mileage       Province  \\\n",
              "0       Mazda   Mazda2     1.3  B-Segment  2022  15,640  กรุงเทพมหานคร   \n",
              "1      Suzuki  Celerio     1.0    Eco Car  2021   9,545  กรุงเทพมหานคร   \n",
              "2  Mitsubishi   Mirage     1.2    Eco Car  2021  10,900        นนทบุรี   \n",
              "3      Nissan    March     1.2    Eco Car  2021  12,000  กรุงเทพมหานคร   \n",
              "4  Mitsubishi  Attrage     1.2    Eco Car  2021  25,706      กาญจนบุรี   \n",
              "\n",
              "     Price   Color  \n",
              "0  499,000    Gray  \n",
              "1  315,000   White  \n",
              "2  335,000    Gray  \n",
              "3  339,000  Silver  \n",
              "4  350,000    Gray  "
            ]
          },
          "execution_count": 150,
          "metadata": {},
          "output_type": "execute_result"
        }
      ],
      "source": [
        "# !pip install openpyxl\n",
        "\n",
        "# df = pd.read_excel(\"Rodkaidee Data.xlsx\", engine=\"openpyxl\")\n",
        "df = pd.read_csv(\"Rodkaidee Data.csv\")\n",
        "df.head(5)"
      ]
    },
    {
      "cell_type": "markdown",
      "metadata": {
        "id": "JFqqEkUUZI0G"
      },
      "source": [
        "Get label encoder for categorical columns (for example, column X has 3 unique, non-numeric values: 'A', 'B', 'C', so we need to encode them to 0, 1, 2)"
      ]
    },
    {
      "cell_type": "code",
      "execution_count": 151,
      "metadata": {
        "id": "33REELOjZI0G"
      },
      "outputs": [],
      "source": [
        "def get_id_dict(dataframe, col_name):\n",
        "    return {key: i for i, key in enumerate(dataframe[col_name].value_counts().keys())}\n",
        "\n",
        "car_brand_id_dict = get_id_dict(df, \"Brand\")\n",
        "car_model_id_dict = get_id_dict(df, \"Model\")\n",
        "engine_size_id_dict = get_id_dict(df, \"Engine\")\n",
        "car_segment_id_dict = get_id_dict(df, \"Segment\")\n",
        "province_id_dict = get_id_dict(df, \"Province\")\n",
        "color_id_dict = get_id_dict(df, \"Color\")"
      ]
    },
    {
      "cell_type": "code",
      "execution_count": 152,
      "metadata": {
        "colab": {
          "base_uri": "https://localhost:8080/"
        },
        "id": "rEn3K_sCZI0H",
        "outputId": "c2e4e6ad-882d-4895-ea48-b129bf811469"
      },
      "outputs": [
        {
          "name": "stdout",
          "output_type": "stream",
          "text": [
            "{'Toyota': 0, 'Honda': 1, 'Nissan': 2, 'Mazda': 3, 'Mitsubishi': 4, 'Suzuki': 5}\n"
          ]
        }
      ],
      "source": [
        "print(car_brand_id_dict)"
      ]
    },
    {
      "cell_type": "markdown",
      "metadata": {
        "id": "oEagBk7sZI0H"
      },
      "source": [
        "Apply the label encoder to each column with categorical data"
      ]
    },
    {
      "cell_type": "code",
      "execution_count": 153,
      "metadata": {
        "id": "FxdJHwyXZI0H"
      },
      "outputs": [],
      "source": [
        "df[\"Brand\"] = df[\"Brand\"].apply(lambda x: car_brand_id_dict[x])\n",
        "df[\"Model\"] = df[\"Model\"].apply(lambda x: car_model_id_dict[x])\n",
        "df[\"Segment\"] = df[\"Segment\"].apply(lambda x: car_segment_id_dict[x])\n",
        "df[\"Province\"] = df[\"Province\"].apply(lambda x: province_id_dict[x])\n",
        "df[\"Color\"] = df[\"Color\"].apply(lambda x: color_id_dict[x])\n",
        "df[\"Engine\"] = df[\"Engine\"].apply(lambda x: engine_size_id_dict[x])"
      ]
    },
    {
      "cell_type": "markdown",
      "metadata": {
        "id": "TWBWpadpZI0I"
      },
      "source": [
        "Normalize continuous values (for example, column X has values from 0 to 1000000, so we need to normalize them to 0 to 1)"
      ]
    },
    {
      "cell_type": "code",
      "execution_count": 154,
      "metadata": {
        "id": "2zc0NpePZI0I"
      },
      "outputs": [],
      "source": [
        "df[\"Price\"] = df[\"Price\"].apply(lambda x: float(x.replace(\",\", \"\")))\n",
        "df[\"Mileage\"] = df[\"Mileage\"].apply(lambda x: float(x.replace(\",\", \"\")))\n",
        "\n",
        "max_year = df[\"Year\"].max()\n",
        "max_mileage = df[\"Mileage\"].max()\n",
        "max_price = df[\"Price\"].max()\n",
        "\n",
        "df[\"Year\"] = df[\"Year\"].apply(lambda x: x / max_year)\n",
        "df[\"Mileage\"] = df[\"Mileage\"].apply(lambda x: x / max_mileage)\n",
        "df[\"Price\"] = df[\"Price\"].apply(lambda x: x / max_price)"
      ]
    },
    {
      "cell_type": "code",
      "execution_count": 155,
      "metadata": {
        "id": "KRZa_q6lZI0I"
      },
      "outputs": [],
      "source": [
        "target_column = \"Price\"\n",
        "# Drop the target column from the dataframe.\n",
        "X_df = df.drop(columns=[target_column]).reset_index(drop=True)\n",
        "# Create a new dataframe with only the target column.\n",
        "y_df = df[[target_column]].reset_index(drop=True)"
      ]
    },
    {
      "cell_type": "code",
      "execution_count": 156,
      "metadata": {},
      "outputs": [
        {
          "data": {
            "text/html": [
              "<div>\n",
              "<style scoped>\n",
              "    .dataframe tbody tr th:only-of-type {\n",
              "        vertical-align: middle;\n",
              "    }\n",
              "\n",
              "    .dataframe tbody tr th {\n",
              "        vertical-align: top;\n",
              "    }\n",
              "\n",
              "    .dataframe thead th {\n",
              "        text-align: right;\n",
              "    }\n",
              "</style>\n",
              "<table border=\"1\" class=\"dataframe\">\n",
              "  <thead>\n",
              "    <tr style=\"text-align: right;\">\n",
              "      <th></th>\n",
              "      <th>Brand</th>\n",
              "      <th>Model</th>\n",
              "      <th>Engine</th>\n",
              "      <th>Segment</th>\n",
              "      <th>Year</th>\n",
              "      <th>Mileage</th>\n",
              "      <th>Province</th>\n",
              "      <th>Color</th>\n",
              "    </tr>\n",
              "  </thead>\n",
              "  <tbody>\n",
              "    <tr>\n",
              "      <th>0</th>\n",
              "      <td>3</td>\n",
              "      <td>8</td>\n",
              "      <td>7</td>\n",
              "      <td>0</td>\n",
              "      <td>1.000000</td>\n",
              "      <td>0.026067</td>\n",
              "      <td>0</td>\n",
              "      <td>1</td>\n",
              "    </tr>\n",
              "    <tr>\n",
              "      <th>1</th>\n",
              "      <td>5</td>\n",
              "      <td>26</td>\n",
              "      <td>8</td>\n",
              "      <td>2</td>\n",
              "      <td>0.999505</td>\n",
              "      <td>0.015908</td>\n",
              "      <td>0</td>\n",
              "      <td>0</td>\n",
              "    </tr>\n",
              "    <tr>\n",
              "      <th>2</th>\n",
              "      <td>4</td>\n",
              "      <td>14</td>\n",
              "      <td>1</td>\n",
              "      <td>2</td>\n",
              "      <td>0.999505</td>\n",
              "      <td>0.018167</td>\n",
              "      <td>2</td>\n",
              "      <td>1</td>\n",
              "    </tr>\n",
              "    <tr>\n",
              "      <th>3</th>\n",
              "      <td>2</td>\n",
              "      <td>13</td>\n",
              "      <td>1</td>\n",
              "      <td>2</td>\n",
              "      <td>0.999505</td>\n",
              "      <td>0.020000</td>\n",
              "      <td>0</td>\n",
              "      <td>3</td>\n",
              "    </tr>\n",
              "    <tr>\n",
              "      <th>4</th>\n",
              "      <td>4</td>\n",
              "      <td>15</td>\n",
              "      <td>1</td>\n",
              "      <td>2</td>\n",
              "      <td>0.999505</td>\n",
              "      <td>0.042843</td>\n",
              "      <td>29</td>\n",
              "      <td>1</td>\n",
              "    </tr>\n",
              "  </tbody>\n",
              "</table>\n",
              "</div>"
            ],
            "text/plain": [
              "   Brand  Model  Engine  Segment      Year   Mileage  Province  Color\n",
              "0      3      8       7        0  1.000000  0.026067         0      1\n",
              "1      5     26       8        2  0.999505  0.015908         0      0\n",
              "2      4     14       1        2  0.999505  0.018167         2      1\n",
              "3      2     13       1        2  0.999505  0.020000         0      3\n",
              "4      4     15       1        2  0.999505  0.042843        29      1"
            ]
          },
          "execution_count": 156,
          "metadata": {},
          "output_type": "execute_result"
        }
      ],
      "source": [
        "X_df.head()"
      ]
    },
    {
      "attachments": {},
      "cell_type": "markdown",
      "metadata": {},
      "source": [
        "Save the dictionaries and max values for later use."
      ]
    },
    {
      "cell_type": "code",
      "execution_count": 157,
      "metadata": {},
      "outputs": [],
      "source": [
        "import os\n",
        "import os.path as op\n",
        "import json\n",
        "\n",
        "cat_feature_dicts = {\n",
        "    \"Brand\": car_brand_id_dict,\n",
        "    \"Model\": car_model_id_dict,\n",
        "    \"Engine\": engine_size_id_dict,\n",
        "    \"Segment\": car_segment_id_dict,\n",
        "    \"Province\": province_id_dict,\n",
        "    \"Color\": color_id_dict,\n",
        "}\n",
        "\n",
        "max_value_dict = {\n",
        "    \"Price\": float(max_price),\n",
        "    \"Mileage\": float(max_mileage),\n",
        "    \"Year\": float(max_year),\n",
        "}\n",
        "\n",
        "save_dir = \"trained_models\"\n",
        "os.makedirs(save_dir, exist_ok=True)\n",
        "\n",
        "save_path = op.join(save_dir, \"cat_feature_dict.json\")\n",
        "with open(save_path, \"w\", encoding=\"utf-8\") as f:\n",
        "    json.dump(cat_feature_dicts, f)\n",
        "\n",
        "save_path = op.join(save_dir, \"max_value_dict.json\")\n",
        "with open(save_path, \"w\", encoding=\"utf-8\") as f:\n",
        "    json.dump(max_value_dict, f)"
      ]
    },
    {
      "attachments": {},
      "cell_type": "markdown",
      "metadata": {},
      "source": [
        "### Wrap everything up as a single function"
      ]
    },
    {
      "cell_type": "code",
      "execution_count": 158,
      "metadata": {},
      "outputs": [],
      "source": [
        "CATEGORICAL_COLUMNS = [\"Brand\", \"Model\", \"Engine\", \"Segment\", \"Province\", \"Color\"]\n",
        "NUMERIC_COLUMNS = [\"Year\", \"Mileage\"]\n",
        "\n",
        "def scale_value(value, max_value):\n",
        "    if isinstance(value, str):\n",
        "        value = value.replace(\",\", \"\")\n",
        "        value = float(value)\n",
        "    return value / max_value\n",
        "\n",
        "def preprocess_dataframe(\n",
        "    dataframe: pd.DataFrame,\n",
        "    cat_feature_dict: dict,\n",
        "    max_value_dict: dict,\n",
        "    ) -> pd.DataFrame:\n",
        "\n",
        "    for col in CATEGORICAL_COLUMNS:\n",
        "        dataframe[col] = dataframe[col].apply(lambda x: cat_feature_dict[col][str(x)])\n",
        "    for col in NUMERIC_COLUMNS:\n",
        "        dataframe[col] = dataframe[col].apply(lambda x: scale_value(x, max_value_dict[col]))\n",
        "\n",
        "    cat_feature_array = dataframe[CATEGORICAL_COLUMNS].values\n",
        "    numeric_feature_array = dataframe[NUMERIC_COLUMNS].values\n",
        "\n",
        "    preprocessed_feature_array = np.hstack((cat_feature_array, numeric_feature_array))\n",
        "    return preprocessed_feature_array"
      ]
    },
    {
      "cell_type": "code",
      "execution_count": 159,
      "metadata": {},
      "outputs": [],
      "source": [
        "cat_feature_dict_path = \"trained_models/cat_feature_dict.json\"\n",
        "max_value_dict_path = \"trained_models/max_value_dict.json\"\n",
        "\n",
        "with open(cat_feature_dict_path, \"r\", encoding=\"utf-8\") as f:\n",
        "    cat_feature_dict = json.load(f)\n",
        "\n",
        "with open(max_value_dict_path, \"r\", encoding=\"utf-8\") as f:\n",
        "    max_value_dict = json.load(f)"
      ]
    },
    {
      "cell_type": "markdown",
      "metadata": {
        "id": "YN3Ax68RZI0I"
      },
      "source": [
        "## **Train a simple Linear Regression Model**"
      ]
    },
    {
      "cell_type": "code",
      "execution_count": 37,
      "metadata": {
        "id": "IDp9vLKhZI0J"
      },
      "outputs": [],
      "source": [
        "# Split the data into train and test sets.\n",
        "data_path = \"Rodkaidee Data.csv\"\n",
        "df = pd.read_csv(data_path)\n",
        "df_train, df_test = train_test_split(df, test_size=0.2, random_state=42)\n",
        "x_train = preprocess_dataframe(df_train, cat_feature_dict, max_value_dict)\n",
        "y_train = df_train[\"Price\"].apply(lambda x: scale_value(x, max_value_dict[\"Price\"])).values"
      ]
    },
    {
      "cell_type": "code",
      "execution_count": 38,
      "metadata": {
        "colab": {
          "base_uri": "https://localhost:8080/"
        },
        "id": "QUxSUR6yZI0J",
        "outputId": "591066f8-dd56-4204-a042-9c9adccdd6d4"
      },
      "outputs": [
        {
          "data": {
            "text/html": [
              "<style>#sk-container-id-3 {color: black;background-color: white;}#sk-container-id-3 pre{padding: 0;}#sk-container-id-3 div.sk-toggleable {background-color: white;}#sk-container-id-3 label.sk-toggleable__label {cursor: pointer;display: block;width: 100%;margin-bottom: 0;padding: 0.3em;box-sizing: border-box;text-align: center;}#sk-container-id-3 label.sk-toggleable__label-arrow:before {content: \"▸\";float: left;margin-right: 0.25em;color: #696969;}#sk-container-id-3 label.sk-toggleable__label-arrow:hover:before {color: black;}#sk-container-id-3 div.sk-estimator:hover label.sk-toggleable__label-arrow:before {color: black;}#sk-container-id-3 div.sk-toggleable__content {max-height: 0;max-width: 0;overflow: hidden;text-align: left;background-color: #f0f8ff;}#sk-container-id-3 div.sk-toggleable__content pre {margin: 0.2em;color: black;border-radius: 0.25em;background-color: #f0f8ff;}#sk-container-id-3 input.sk-toggleable__control:checked~div.sk-toggleable__content {max-height: 200px;max-width: 100%;overflow: auto;}#sk-container-id-3 input.sk-toggleable__control:checked~label.sk-toggleable__label-arrow:before {content: \"▾\";}#sk-container-id-3 div.sk-estimator input.sk-toggleable__control:checked~label.sk-toggleable__label {background-color: #d4ebff;}#sk-container-id-3 div.sk-label input.sk-toggleable__control:checked~label.sk-toggleable__label {background-color: #d4ebff;}#sk-container-id-3 input.sk-hidden--visually {border: 0;clip: rect(1px 1px 1px 1px);clip: rect(1px, 1px, 1px, 1px);height: 1px;margin: -1px;overflow: hidden;padding: 0;position: absolute;width: 1px;}#sk-container-id-3 div.sk-estimator {font-family: monospace;background-color: #f0f8ff;border: 1px dotted black;border-radius: 0.25em;box-sizing: border-box;margin-bottom: 0.5em;}#sk-container-id-3 div.sk-estimator:hover {background-color: #d4ebff;}#sk-container-id-3 div.sk-parallel-item::after {content: \"\";width: 100%;border-bottom: 1px solid gray;flex-grow: 1;}#sk-container-id-3 div.sk-label:hover label.sk-toggleable__label {background-color: #d4ebff;}#sk-container-id-3 div.sk-serial::before {content: \"\";position: absolute;border-left: 1px solid gray;box-sizing: border-box;top: 0;bottom: 0;left: 50%;z-index: 0;}#sk-container-id-3 div.sk-serial {display: flex;flex-direction: column;align-items: center;background-color: white;padding-right: 0.2em;padding-left: 0.2em;position: relative;}#sk-container-id-3 div.sk-item {position: relative;z-index: 1;}#sk-container-id-3 div.sk-parallel {display: flex;align-items: stretch;justify-content: center;background-color: white;position: relative;}#sk-container-id-3 div.sk-item::before, #sk-container-id-3 div.sk-parallel-item::before {content: \"\";position: absolute;border-left: 1px solid gray;box-sizing: border-box;top: 0;bottom: 0;left: 50%;z-index: -1;}#sk-container-id-3 div.sk-parallel-item {display: flex;flex-direction: column;z-index: 1;position: relative;background-color: white;}#sk-container-id-3 div.sk-parallel-item:first-child::after {align-self: flex-end;width: 50%;}#sk-container-id-3 div.sk-parallel-item:last-child::after {align-self: flex-start;width: 50%;}#sk-container-id-3 div.sk-parallel-item:only-child::after {width: 0;}#sk-container-id-3 div.sk-dashed-wrapped {border: 1px dashed gray;margin: 0 0.4em 0.5em 0.4em;box-sizing: border-box;padding-bottom: 0.4em;background-color: white;}#sk-container-id-3 div.sk-label label {font-family: monospace;font-weight: bold;display: inline-block;line-height: 1.2em;}#sk-container-id-3 div.sk-label-container {text-align: center;}#sk-container-id-3 div.sk-container {/* jupyter's `normalize.less` sets `[hidden] { display: none; }` but bootstrap.min.css set `[hidden] { display: none !important; }` so we also need the `!important` here to be able to override the default hidden behavior on the sphinx rendered scikit-learn.org. See: https://github.com/scikit-learn/scikit-learn/issues/21755 */display: inline-block !important;position: relative;}#sk-container-id-3 div.sk-text-repr-fallback {display: none;}</style><div id=\"sk-container-id-3\" class=\"sk-top-container\"><div class=\"sk-text-repr-fallback\"><pre>LinearRegression()</pre><b>In a Jupyter environment, please rerun this cell to show the HTML representation or trust the notebook. <br />On GitHub, the HTML representation is unable to render, please try loading this page with nbviewer.org.</b></div><div class=\"sk-container\" hidden><div class=\"sk-item\"><div class=\"sk-estimator sk-toggleable\"><input class=\"sk-toggleable__control sk-hidden--visually\" id=\"sk-estimator-id-3\" type=\"checkbox\" checked><label for=\"sk-estimator-id-3\" class=\"sk-toggleable__label sk-toggleable__label-arrow\">LinearRegression</label><div class=\"sk-toggleable__content\"><pre>LinearRegression()</pre></div></div></div></div></div>"
            ],
            "text/plain": [
              "LinearRegression()"
            ]
          },
          "execution_count": 38,
          "metadata": {},
          "output_type": "execute_result"
        }
      ],
      "source": [
        "# Fit a linear regression model to the training data.\n",
        "lr_model = LinearRegression()\n",
        "lr_model.fit(x_train, y_train)"
      ]
    },
    {
      "cell_type": "code",
      "execution_count": 39,
      "metadata": {
        "colab": {
          "base_uri": "https://localhost:8080/"
        },
        "id": "FsWLgpDOZI0J",
        "outputId": "5ebbfe36-2de2-4416-ac1d-289670f3eb43"
      },
      "outputs": [
        {
          "data": {
            "text/plain": [
              "(1480,)"
            ]
          },
          "execution_count": 39,
          "metadata": {},
          "output_type": "execute_result"
        }
      ],
      "source": [
        "x_test = preprocess_dataframe(df_test, cat_feature_dict, max_value_dict)\n",
        "y_test = df_test[\"Price\"].apply(lambda x: scale_value(x, max_value_dict[\"Price\"])).values\n",
        "\n",
        "predictions = lr_model.predict(x_test)\n",
        "predictions.shape"
      ]
    },
    {
      "cell_type": "markdown",
      "metadata": {
        "id": "XARKHyLhZI0K"
      },
      "source": [
        "### Evaluate the model on the test set with Mean Squared Error"
      ]
    },
    {
      "cell_type": "code",
      "execution_count": 41,
      "metadata": {
        "colab": {
          "base_uri": "https://localhost:8080/"
        },
        "id": "YSb64m6tZI0K",
        "outputId": "0958dde6-5f7d-4d19-855e-96613c9c70ee"
      },
      "outputs": [
        {
          "data": {
            "text/plain": [
              "0.006451231528844493"
            ]
          },
          "execution_count": 41,
          "metadata": {},
          "output_type": "execute_result"
        }
      ],
      "source": [
        "# Calculate the mean squared error.\n",
        "mean_squared_error(predictions, y_test)"
      ]
    },
    {
      "cell_type": "code",
      "execution_count": 43,
      "metadata": {
        "colab": {
          "base_uri": "https://localhost:8080/",
          "height": 279
        },
        "id": "R2rPon4CZI0K",
        "outputId": "333c5872-0eb6-4755-fdff-07ebd632c0e9"
      },
      "outputs": [
        {
          "data": {
            "image/png": "[encoded data removed]",
            "text/plain": [
              "<Figure size 432x288 with 1 Axes>"
            ]
          },
          "metadata": {
            "needs_background": "light"
          },
          "output_type": "display_data"
        }
      ],
      "source": [
        "# Plot a perfect prediction line.\n",
        "plt.plot([0, 1], [0, 1],  \"--\", color=\"black\",)\n",
        "# Plot the predictions vs the actual values.\n",
        "plt.scatter(predictions, y_test, alpha=0.2)\n",
        "\n",
        "plt.xlabel(\"Predictions value\")\n",
        "plt.ylabel(\"Actual value\")\n",
        "plt.show()"
      ]
    },
    {
      "cell_type": "code",
      "execution_count": 92,
      "metadata": {},
      "outputs": [
        {
          "data": {
            "text/plain": [
              "['trained_models/carprice_model_linear_regression.joblib']"
            ]
          },
          "execution_count": 92,
          "metadata": {},
          "output_type": "execute_result"
        }
      ],
      "source": [
        "joblib.dump(lr_model, \"trained_models/carprice_model_linear_regression.joblib\")"
      ]
    },
    {
      "cell_type": "markdown",
      "metadata": {
        "id": "3wvVjwnkZI0K"
      },
      "source": [
        "## **Train a simple Neural Network**"
      ]
    },
    {
      "cell_type": "code",
      "execution_count": 44,
      "metadata": {
        "id": "Xohtw8LdbA_v"
      },
      "outputs": [],
      "source": [
        "from sklearn.preprocessing import OneHotEncoder\n",
        "from torch.utils.data import Dataset, DataLoader"
      ]
    },
    {
      "cell_type": "code",
      "execution_count": 46,
      "metadata": {
        "id": "hNVntXe_bEvG"
      },
      "outputs": [],
      "source": [
        "ohe = OneHotEncoder(handle_unknown='ignore', sparse=False)\n",
        "\n",
        "cat_train_array = ohe.fit_transform(df_train[CATEGORICAL_COLUMNS])\n",
        "cat_test_array = ohe.transform(df_test[CATEGORICAL_COLUMNS])"
      ]
    },
    {
      "cell_type": "code",
      "execution_count": 47,
      "metadata": {},
      "outputs": [
        {
          "data": {
            "text/plain": [
              "['trained_models/cat_feature_one_hot_encoder.joblib']"
            ]
          },
          "execution_count": 47,
          "metadata": {},
          "output_type": "execute_result"
        }
      ],
      "source": [
        "joblib.dump(ohe, 'trained_models/cat_feature_one_hot_encoder.joblib') # save the one hot encoder"
      ]
    },
    {
      "attachments": {},
      "cell_type": "markdown",
      "metadata": {},
      "source": [
        "### Modify the preprocessing function to handle one-hot encoding"
      ]
    },
    {
      "cell_type": "code",
      "execution_count": 162,
      "metadata": {},
      "outputs": [],
      "source": [
        "def preprocess_dataframe(\n",
        "    dataframe: pd.DataFrame,\n",
        "    cat_feature_dict: dict,\n",
        "    max_value_dict: dict,\n",
        "    one_hot_encoder = None,\n",
        "    ) -> pd.DataFrame:\n",
        "\n",
        "    for col in CATEGORICAL_COLUMNS:\n",
        "        dataframe[col] = dataframe[col].apply(lambda x: cat_feature_dict[col][str(x)])\n",
        "    for col in NUMERIC_COLUMNS:\n",
        "        dataframe[col] = dataframe[col].apply(lambda x: scale_value(x, max_value_dict[col]))\n",
        "\n",
        "    if one_hot_encoder:\n",
        "        cat_feature_array = one_hot_encoder.transform(dataframe[CATEGORICAL_COLUMNS])\n",
        "    else:\n",
        "        cat_feature_array = dataframe[CATEGORICAL_COLUMNS].values\n",
        "\n",
        "    numeric_feature_array = dataframe[NUMERIC_COLUMNS].values\n",
        "\n",
        "    preprocessed_feature_array = np.hstack((cat_feature_array, numeric_feature_array))\n",
        "    return preprocessed_feature_array"
      ]
    },
    {
      "cell_type": "code",
      "execution_count": 200,
      "metadata": {
        "id": "cRVX8bSxZI0L"
      },
      "outputs": [],
      "source": [
        "class CarPriceDataset(Dataset):\n",
        "    def __init__(self, X, y):\n",
        "        self.X = X\n",
        "        if y is not None:\n",
        "            self.y = y\n",
        "        else:\n",
        "            self.y = None\n",
        "\n",
        "    def __len__(self):\n",
        "        return len(self.X)\n",
        "\n",
        "    def __getitem__(self, idx):\n",
        "        if self.y is not None:\n",
        "            return self.X[idx], self.y[idx]\n",
        "        else:\n",
        "            return self.X[idx]"
      ]
    },
    {
      "cell_type": "code",
      "execution_count": 164,
      "metadata": {
        "id": "vGYGTD0RZI0L"
      },
      "outputs": [],
      "source": [
        "data_path = \"Rodkaidee Data.csv\"\n",
        "cat_feature_dict_path = \"trained_models/cat_feature_dict.json\"\n",
        "max_value_dict_path = \"trained_models/max_value_dict.json\"\n",
        "one_hot_encoder_path = \"trained_models/cat_feature_one_hot_encoder.joblib\"\n",
        "\n",
        "with open(cat_feature_dict_path, \"r\", encoding=\"utf-8\") as f:\n",
        "    cat_feature_dict = json.load(f)\n",
        "\n",
        "with open(max_value_dict_path, \"r\", encoding=\"utf-8\") as f:\n",
        "    max_value_dict = json.load(f)\n",
        "\n",
        "one_hot_encoder = joblib.load(one_hot_encoder_path)"
      ]
    },
    {
      "cell_type": "code",
      "execution_count": 165,
      "metadata": {},
      "outputs": [
        {
          "name": "stdout",
          "output_type": "stream",
          "text": [
            "(5918, 137) (5918, 1)\n"
          ]
        }
      ],
      "source": [
        "df = pd.read_csv(data_path)\n",
        "df_train, df_test = train_test_split(df, test_size=0.2, random_state=42)\n",
        "x_train = preprocess_dataframe(\n",
        "    df_train,\n",
        "    cat_feature_dict = cat_feature_dict,\n",
        "    max_value_dict = max_value_dict,\n",
        "    one_hot_encoder = one_hot_encoder,\n",
        "    )\n",
        "y_train = df_train[\"Price\"].apply(lambda x: scale_value(x, max_value_dict[\"Price\"])).values\n",
        "y_train = y_train.reshape(-1, 1)\n",
        "\n",
        "x_test = preprocess_dataframe(\n",
        "    df_test,\n",
        "    cat_feature_dict = cat_feature_dict,\n",
        "    max_value_dict = max_value_dict,\n",
        "    one_hot_encoder = one_hot_encoder,\n",
        ")\n",
        "y_test = df_test[\"Price\"].apply(lambda x: scale_value(x, max_value_dict[\"Price\"])).values\n",
        "y_test = y_test.reshape(-1, 1)\n",
        "print(x_train.shape, y_train.shape)"
      ]
    },
    {
      "cell_type": "code",
      "execution_count": 166,
      "metadata": {},
      "outputs": [],
      "source": [
        "train_dataset = CarPriceDataset(x_train, y_train)\n",
        "test_dataset = CarPriceDataset(x_test, y_test)\n",
        "\n",
        "train_dataloader = DataLoader(train_dataset, batch_size=32, shuffle=True)\n",
        "test_dataloader = DataLoader(test_dataset, batch_size=32, shuffle=False)\n",
        "\n",
        "# x_sample, y_sample = next(iter(train_dataloader))\n",
        "# x_sample, y_sample"
      ]
    },
    {
      "cell_type": "code",
      "execution_count": 167,
      "metadata": {
        "id": "zSvDE-GjZI0L"
      },
      "outputs": [],
      "source": [
        "class CarPriceModel(nn.Module):\n",
        "    def __init__(self, input_size, output_size):\n",
        "        super().__init__()\n",
        "        self.linear = nn.Linear(input_size, output_size)\n",
        "\n",
        "    def forward(self, x):\n",
        "        out = self.linear(x)\n",
        "        return out"
      ]
    },
    {
      "cell_type": "code",
      "execution_count": 168,
      "metadata": {
        "colab": {
          "base_uri": "https://localhost:8080/"
        },
        "id": "YXdDQUJXZI0L",
        "outputId": "90207a30-2e2d-4a54-c7db-a5be651b9814"
      },
      "outputs": [
        {
          "data": {
            "text/plain": [
              "CarPriceModel(\n",
              "  (linear): Linear(in_features=137, out_features=1, bias=True)\n",
              ")"
            ]
          },
          "execution_count": 168,
          "metadata": {},
          "output_type": "execute_result"
        }
      ],
      "source": [
        "model = CarPriceModel(input_size=x_train.shape[1], output_size=y_train.shape[1])\n",
        "model"
      ]
    },
    {
      "cell_type": "code",
      "execution_count": 169,
      "metadata": {},
      "outputs": [],
      "source": [
        "def train(\n",
        "    model,\n",
        "    train_dataloader,\n",
        "    test_dataloader,\n",
        "    optimizer,\n",
        "    loss_fn = nn.MSELoss(reduction='mean'),\n",
        "    num_epochs = 100,\n",
        "    update_frequency = 10,\n",
        "    ):\n",
        "    for epoch in tqdm(range(num_epochs)):\n",
        "        # Set the model to training mode.\n",
        "        model.train()\n",
        "        for x, y in train_dataloader:\n",
        "            # Forward pass.\n",
        "            y_pred = model(x.float())\n",
        "            # Calculate the loss.\n",
        "            loss = loss_fn(y_pred, y.float())\n",
        "            # Backward pass.\n",
        "            loss.backward()\n",
        "            # Update the model parameters.\n",
        "            optimizer.step()\n",
        "            # Reset the gradients.\n",
        "            optimizer.zero_grad()\n",
        "        # Save the training loss.\n",
        "        train_losses.append(loss.item())\n",
        "\n",
        "        # Set the model to evaluation mode and calculate the test loss at the end of each epoch.\n",
        "        model.eval()\n",
        "        with torch.no_grad():\n",
        "            for x, y in test_dataloader:\n",
        "                # Forward pass.\n",
        "                y_pred = model(x.float())\n",
        "                # Calculate the loss.\n",
        "                loss = loss_fn(y_pred, y.float())\n",
        "\n",
        "            # Print the loss if the epoch is a multiple of 10.\n",
        "            if epoch % update_frequency == 0:\n",
        "                print(f\"Epoch {epoch}: {loss.item()}\")\n",
        "\n",
        "def predict(model, test_dataloader):\n",
        "    model.eval()\n",
        "    prediction_list = []\n",
        "    actual_y_list = []\n",
        "    for x, y in test_dataloader:\n",
        "        y_pred = model(x.float())\n",
        "        prediction = y_pred.detach().numpy()\n",
        "        y = y.numpy()\n",
        "        prediction_list.append(prediction)\n",
        "        actual_y_list.append(y)\n",
        "    return prediction_list, actual_y_list"
      ]
    },
    {
      "cell_type": "code",
      "execution_count": 109,
      "metadata": {
        "colab": {
          "base_uri": "https://localhost:8080/",
          "height": 257,
          "referenced_widgets": [
            "7fe8e4c2acef4adea2cf9fef39795c5e",
            "d9839160a7c2408696d83767c13c651c",
            "18aaab3bd8ba48c9b533fe256fc39d82",
            "817c8d5cdab74e59a13f39e1996e4d89",
            "9aacca6b17e4468f9692fbb15780b579",
            "5a6e75a00ec9490497ac5eb820fdc9e8",
            "fbe80d8dafd0475d8b530f4356a36350",
            "f4b59508c0554f9198dbd1be61e02b27",
            "e426086a0edd48099e1eb39e8c1f1550",
            "14c540053b324b83a58d665d53b695c9",
            "3805565dc03c44b89127ec2b8d499e7b"
          ]
        },
        "id": "KUPnOccyZI0M",
        "outputId": "8e49f91e-6ecb-40af-b57b-46123977c0d9"
      },
      "outputs": [
        {
          "data": {
            "application/vnd.jupyter.widget-view+json": {
              "model_id": "a8bfc8a096d64a97b2ebdd7ecdc49932",
              "version_major": 2,
              "version_minor": 0
            },
            "text/plain": [
              "  0%|          | 0/120 [00:00<?, ?it/s]"
            ]
          },
          "metadata": {},
          "output_type": "display_data"
        },
        {
          "name": "stdout",
          "output_type": "stream",
          "text": [
            "Epoch 0: 0.012425843626260757\n",
            "Epoch 10: 0.00978908408433199\n",
            "Epoch 20: 0.012031314894557\n",
            "Epoch 30: 0.010402164421975613\n",
            "Epoch 40: 0.009714426472783089\n",
            "Epoch 50: 0.009771863929927349\n",
            "Epoch 60: 0.009241846390068531\n",
            "Epoch 70: 0.00992899015545845\n",
            "Epoch 80: 0.010496396571397781\n",
            "Epoch 90: 0.009687892161309719\n",
            "Epoch 100: 0.010201600380241871\n",
            "Epoch 110: 0.010514281690120697\n"
          ]
        }
      ],
      "source": [
        "# Define the loss function and the optimizer.\n",
        "learning_rate = 1e-3 # = 0.001\n",
        "loss_fn = nn.MSELoss(reduction=\"mean\")\n",
        "optimizer = torch.optim.Adam(model.parameters(), lr=learning_rate)\n",
        "\n",
        "# Train the model.\n",
        "num_epochs = 120\n",
        "update_frequency = 10\n",
        "\n",
        "train(\n",
        "    model = model,\n",
        "    train_dataloader = train_dataloader,\n",
        "    test_dataloader = test_dataloader,\n",
        "    optimizer = optimizer,\n",
        "    loss_fn = loss_fn,\n",
        "    num_epochs = num_epochs,\n",
        "    update_frequency = update_frequency,\n",
        "    )"
      ]
    },
    {
      "cell_type": "markdown",
      "metadata": {
        "id": "lIYyFW3QZI0M"
      },
      "source": [
        "### Evaluate the model on the test set with Mean Squared Error"
      ]
    },
    {
      "cell_type": "code",
      "execution_count": 110,
      "metadata": {
        "id": "pbGtQYsRZI0M"
      },
      "outputs": [],
      "source": [
        "# Get the predictions for the test set.\n",
        "prediction_list, actual_y_list = predict(model, test_dataloader)"
      ]
    },
    {
      "cell_type": "code",
      "execution_count": 111,
      "metadata": {
        "colab": {
          "base_uri": "https://localhost:8080/"
        },
        "id": "BmcaecNgZI0M",
        "outputId": "14d03db8-9c01-4451-df5d-1ac018ec5f8b"
      },
      "outputs": [
        {
          "data": {
            "text/plain": [
              "0.006706728130270595"
            ]
          },
          "execution_count": 111,
          "metadata": {},
          "output_type": "execute_result"
        }
      ],
      "source": [
        "actual_y_array = np.concatenate(actual_y_list)\n",
        "prediction_array = np.concatenate(prediction_list)\n",
        "mean_squared_error(prediction_array, actual_y_array)"
      ]
    },
    {
      "cell_type": "code",
      "execution_count": 86,
      "metadata": {
        "colab": {
          "base_uri": "https://localhost:8080/",
          "height": 279
        },
        "id": "S6AvZKUvZI0N",
        "outputId": "c6bda80a-64a0-43a9-fe2b-fc4215541c7d"
      },
      "outputs": [
        {
          "data": {
            "image/png": "[encoded data removed]",
            "text/plain": [
              "<Figure size 432x288 with 1 Axes>"
            ]
          },
          "metadata": {
            "needs_background": "light"
          },
          "output_type": "display_data"
        }
      ],
      "source": [
        "# Plot a perfect prediction line.\n",
        "plt.plot([0, 1], [0, 1],  \"--\", color=\"black\",)\n",
        "# Plot the predictions vs the actual values.\n",
        "plt.scatter(prediction_array, actual_y_array, alpha=0.2)\n",
        "\n",
        "plt.xlabel(\"Predictions\")\n",
        "plt.ylabel(\"Actual\")\n",
        "plt.show()"
      ]
    },
    {
      "cell_type": "code",
      "execution_count": 87,
      "metadata": {},
      "outputs": [],
      "source": [
        "torch.save(model.state_dict(), \"trained_models/carprice_model_mse_000668.pth\")"
      ]
    },
    {
      "attachments": {},
      "cell_type": "markdown",
      "metadata": {},
      "source": [
        "## **Train a Neural Network with multiple layers (MLP)**"
      ]
    },
    {
      "cell_type": "code",
      "execution_count": 171,
      "metadata": {},
      "outputs": [],
      "source": [
        "class CarPriceDoubleModel(nn.Module):\n",
        "    def __init__(self, input_size, output_size, intermediate_dim = 10):\n",
        "        super().__init__()\n",
        "        self.linear1 = nn.Linear(input_size, intermediate_dim)\n",
        "        self.linear2 = nn.Linear(intermediate_dim, output_size)\n",
        "        self.relu = nn.ReLU()\n",
        "\n",
        "    def forward(self, x):\n",
        "        x = self.linear1(x)\n",
        "        x = self.relu(x)\n",
        "        x = self.linear2(x)\n",
        "        return x\n",
        "\n",
        "double_model = CarPriceDoubleModel(input_size=x_train.shape[1], output_size=y_train.shape[1])"
      ]
    },
    {
      "cell_type": "code",
      "execution_count": 172,
      "metadata": {},
      "outputs": [
        {
          "data": {
            "application/vnd.jupyter.widget-view+json": {
              "model_id": "7bafdebe8d794902a36d7170afac8146",
              "version_major": 2,
              "version_minor": 0
            },
            "text/plain": [
              "  0%|          | 0/120 [00:00<?, ?it/s]"
            ]
          },
          "metadata": {},
          "output_type": "display_data"
        },
        {
          "name": "stdout",
          "output_type": "stream",
          "text": [
            "Epoch 0: 0.009131699800491333\n",
            "Epoch 10: 0.012577999383211136\n",
            "Epoch 20: 0.013686644844710827\n",
            "Epoch 30: 0.012472383677959442\n",
            "Epoch 40: 0.012354840524494648\n",
            "Epoch 50: 0.008995736949145794\n",
            "Epoch 60: 0.015759840607643127\n",
            "Epoch 70: 0.014012464322149754\n",
            "Epoch 80: 0.010830432176589966\n",
            "Epoch 90: 0.01449971366673708\n",
            "Epoch 100: 0.012379922904074192\n",
            "Epoch 110: 0.013779125176370144\n"
          ]
        }
      ],
      "source": [
        "# Define the loss function and the optimizer.\n",
        "learning_rate = 1e-3 # = 0.001\n",
        "loss_fn = nn.MSELoss(reduction=\"mean\")\n",
        "optimizer = torch.optim.Adam(double_model.parameters(), lr=learning_rate)\n",
        "\n",
        "# Train the model.\n",
        "num_epochs = 120\n",
        "update_frequency = 10\n",
        "\n",
        "train(\n",
        "    model = double_model,\n",
        "    train_dataloader = train_dataloader,\n",
        "    test_dataloader = test_dataloader,\n",
        "    optimizer = optimizer,\n",
        "    loss_fn = loss_fn,\n",
        "    num_epochs = num_epochs,\n",
        "    update_frequency = update_frequency,\n",
        "    )"
      ]
    },
    {
      "cell_type": "code",
      "execution_count": 173,
      "metadata": {},
      "outputs": [
        {
          "data": {
            "text/plain": [
              "0.0054332452508565774"
            ]
          },
          "execution_count": 173,
          "metadata": {},
          "output_type": "execute_result"
        }
      ],
      "source": [
        "prediction_list, actual_y_list = predict(mlp_model, test_dataloader)\n",
        "prediction_array = np.concatenate(prediction_list)\n",
        "actual_y_array = np.concatenate(actual_y_list)\n",
        "mse_score = mean_squared_error(prediction_array, actual_y_array)\n",
        "mse_score"
      ]
    },
    {
      "cell_type": "code",
      "execution_count": 174,
      "metadata": {},
      "outputs": [
        {
          "data": {
            "image/png": "[encoded data removed]",
            "text/plain": [
              "<Figure size 432x288 with 1 Axes>"
            ]
          },
          "metadata": {
            "needs_background": "light"
          },
          "output_type": "display_data"
        }
      ],
      "source": [
        "# Plot a perfect prediction line.\n",
        "plt.plot([0, 1], [0, 1],  \"--\", color=\"black\",)\n",
        "# Plot the predictions vs the actual values.\n",
        "plt.scatter(prediction_array, actual_y_array, alpha=0.2)\n",
        "\n",
        "plt.xlabel(\"Predictions value\")\n",
        "plt.ylabel(\"Actual value\")\n",
        "plt.show()"
      ]
    },
    {
      "cell_type": "code",
      "execution_count": 175,
      "metadata": {},
      "outputs": [],
      "source": [
        "mse_identifier = round(mse_score, 5)\n",
        "mse_identifier = str(mse_identifier).replace(\".\", \"\")\n",
        "\n",
        "torch.save(mlp_model.state_dict(), f\"trained_models/carprice_double_model_mse_{mse_identifier}.pth\")"
      ]
    },
    {
      "attachments": {},
      "cell_type": "markdown",
      "metadata": {
        "id": "NgiMit2wZI0N"
      },
      "source": [
        "## **Use the models to predict on new data**"
      ]
    },
    {
      "cell_type": "code",
      "execution_count": 183,
      "metadata": {},
      "outputs": [],
      "source": [
        "\n",
        "CATEGORICAL_COLUMNS = [\"Brand\", \"Model\", \"Engine\", \"Segment\", \"Province\", \"Color\"]\n",
        "NUMERIC_COLUMNS = [\"Year\", \"Mileage\"]\n",
        "\n",
        "class CarPriceModel(nn.Module):\n",
        "    def __init__(self, input_size, output_size):\n",
        "        super().__init__()\n",
        "        self.linear = nn.Linear(input_size, output_size)\n",
        "\n",
        "    def forward(self, x):\n",
        "        out = self.linear(x)\n",
        "        return out\n",
        "\n",
        "def preprocess_dataframe(\n",
        "    dataframe: pd.DataFrame,\n",
        "    cat_feature_dict: dict,\n",
        "    max_value_dict: dict,\n",
        "    one_hot_encoder = None,\n",
        "    ) -> pd.DataFrame:\n",
        "    \"\"\"\n",
        "    Preprocesses a dataframe by replacing categorical values with their corresponding id values.\n",
        "    Scales numeric values to be between 0 and 1 using the given max_value_dict.\n",
        "    Applies one-hot encoding to the categorical columns if one_hot_encoder is provided.\n",
        "    Returns a numpy array of the preprocessed features.\n",
        "    \"\"\"\n",
        "    # Replace categorical values with their corresponding id values.\n",
        "    for col in CATEGORICAL_COLUMNS:\n",
        "        dataframe[col] = dataframe[col].apply(lambda x: cat_feature_dict[col][str(x)])\n",
        "    # Scale numeric values to be between 0 and 1.\n",
        "    for col in NUMERIC_COLUMNS:\n",
        "        dataframe[col] = dataframe[col].apply(lambda x: scale_value(x, max_value_dict[col]))\n",
        "\n",
        "    # Apply one-hot encoding to the categorical columns.\n",
        "    if one_hot_encoder:\n",
        "        cat_feature_array = one_hot_encoder.transform(dataframe[CATEGORICAL_COLUMNS])\n",
        "    else:\n",
        "        cat_feature_array = dataframe[CATEGORICAL_COLUMNS].values\n",
        "\n",
        "    numeric_feature_array = dataframe[NUMERIC_COLUMNS].values\n",
        "    # Concatenate the one-hot encoded categorical columns with the numeric columns.\n",
        "    preprocessed_feature_array = np.hstack((cat_feature_array, numeric_feature_array))\n",
        "    return preprocessed_feature_array\n",
        "\n",
        "@torch.no_grad()\n",
        "def pytorch_predict_car_price(\n",
        "    dataframe: pd.DataFrame,\n",
        "    model: CarPriceModel,\n",
        "    cat_feature_dict: dict,\n",
        "    max_value_dict: dict,\n",
        "    one_hot_encoder = None,\n",
        "    ) -> float:\n",
        "    \"\"\"\n",
        "    Predicts car price from a dataframe with the given pytorch model.\n",
        "    \"\"\"\n",
        "    model.eval()\n",
        "    preprocessed_feature_array = preprocess_dataframe(\n",
        "        dataframe,\n",
        "        cat_feature_dict=cat_feature_dict,\n",
        "        max_value_dict=max_value_dict,\n",
        "        one_hot_encoder=one_hot_encoder,\n",
        "        )\n",
        "    preprocessed_feature_tensor = torch.from_numpy(preprocessed_feature_array)\n",
        "    prediction_tensor = model(preprocessed_feature_tensor.float())\n",
        "    prediction_array = prediction_tensor.detach().numpy()\n",
        "    # Scale the prediction back to the original scale.\n",
        "    prediction_array *= max_value_dict[\"Price\"]\n",
        "    return prediction_array\n",
        "\n",
        "\n",
        "def sklearn_predict_car_price(\n",
        "    dataframe: pd.DataFrame,\n",
        "    sklearn_model: LinearRegression,\n",
        "    cat_feature_dict: dict,\n",
        "    max_value_dict: dict,\n",
        "    ) -> float:\n",
        "    \"\"\"\n",
        "    Predicts car price from a dataframe with the given sklearn model.\n",
        "    \"\"\"\n",
        "    preprocessed_feature_array = preprocess_dataframe(\n",
        "        dataframe,\n",
        "        cat_feature_dict=cat_feature_dict,\n",
        "        max_value_dict=max_value_dict,\n",
        "        )\n",
        "    prediction_array = sklearn_model.predict(preprocessed_feature_array)\n",
        "    # Scale the prediction back to the original scale.\n",
        "    prediction_array *= max_value_dict[\"Price\"]\n",
        "    return prediction_array"
      ]
    },
    {
      "cell_type": "code",
      "execution_count": 178,
      "metadata": {},
      "outputs": [],
      "source": [
        "data_path = \"Rodkaidee Data.csv\"\n",
        "cat_feature_dict_path = \"trained_models/cat_feature_dict.json\"\n",
        "max_value_dict_path = \"trained_models/max_value_dict.json\"\n",
        "one_hot_encoder_path = \"trained_models/cat_feature_one_hot_encoder.joblib\"\n",
        "\n",
        "with open(cat_feature_dict_path, \"r\", encoding=\"utf-8\") as f:\n",
        "    cat_feature_dict = json.load(f)\n",
        "\n",
        "with open(max_value_dict_path, \"r\", encoding=\"utf-8\") as f:\n",
        "    max_value_dict = json.load(f)\n",
        "\n",
        "one_hot_encoder = joblib.load(one_hot_encoder_path)"
      ]
    },
    {
      "attachments": {},
      "cell_type": "markdown",
      "metadata": {},
      "source": [
        "Pytorch"
      ]
    },
    {
      "cell_type": "code",
      "execution_count": 181,
      "metadata": {},
      "outputs": [],
      "source": [
        "model = CarPriceModel(137, 1)\n",
        "model.load_state_dict(torch.load(\"trained_models/carprice_model_mse_000668.pth\"))\n",
        "\n",
        "df = pd.read_csv(data_path)\n",
        "df_train, df_test = train_test_split(df, test_size=0.2, random_state=42)\n",
        "\n",
        "predictions = pytorch_predict_car_price(\n",
        "    dataframe=df_test,\n",
        "    model=model,\n",
        "    cat_feature_dict = cat_feature_dict,\n",
        "    max_value_dict = max_value_dict,\n",
        "    one_hot_encoder = one_hot_encoder,\n",
        ")"
      ]
    },
    {
      "attachments": {},
      "cell_type": "markdown",
      "metadata": {},
      "source": [
        "Sklearn"
      ]
    },
    {
      "cell_type": "code",
      "execution_count": 106,
      "metadata": {},
      "outputs": [],
      "source": [
        "lr_model = joblib.load(\"trained_models/carprice_model_linear_regression.joblib\")\n",
        "\n",
        "df = pd.read_csv(data_path)\n",
        "df_train, df_test = train_test_split(df, test_size=0.2, random_state=42)\n",
        "\n",
        "predictions = sklearn_predict_car_price(\n",
        "    dataframe=df_test,\n",
        "    sklearn_model=lr_model,\n",
        "    cat_feature_dict = cat_feature_dict,\n",
        "    max_value_dict = max_value_dict,\n",
        ")"
      ]
    },
    {
      "attachments": {},
      "cell_type": "markdown",
      "metadata": {},
      "source": [
        "## Step-by-step guide to model usage"
      ]
    },
    {
      "cell_type": "code",
      "execution_count": 187,
      "metadata": {},
      "outputs": [
        {
          "data": {
            "text/plain": [
              "dict_keys(['Brand', 'Model', 'Engine', 'Segment', 'Province', 'Color'])"
            ]
          },
          "execution_count": 187,
          "metadata": {},
          "output_type": "execute_result"
        }
      ],
      "source": [
        "CATEGORICAL_COLUMNS = [\"Brand\", \"Model\", \"Engine\", \"Segment\", \"Province\", \"Color\"]\n",
        "NUMERIC_COLUMNS = [\"Year\", \"Mileage\"]\n",
        "\n",
        "data_path = \"Rodkaidee Data.csv\"\n",
        "cat_feature_dict_path = \"trained_models/cat_feature_dict.json\"\n",
        "max_value_dict_path = \"trained_models/max_value_dict.json\"\n",
        "one_hot_encoder_path = \"trained_models/cat_feature_one_hot_encoder.joblib\"\n",
        "\n",
        "with open(cat_feature_dict_path, \"r\", encoding=\"utf-8\") as f:\n",
        "    cat_feature_dict = json.load(f)\n",
        "\n",
        "with open(max_value_dict_path, \"r\", encoding=\"utf-8\") as f:\n",
        "    max_value_dict = json.load(f)\n",
        "\n",
        "one_hot_encoder = joblib.load(one_hot_encoder_path)\n",
        "\n",
        "cat_feature_dict.keys()"
      ]
    },
    {
      "cell_type": "code",
      "execution_count": 188,
      "metadata": {},
      "outputs": [
        {
          "data": {
            "text/plain": [
              "{'Price': 1420000.0, 'Mileage': 600000.0, 'Year': 2022.0}"
            ]
          },
          "execution_count": 188,
          "metadata": {},
          "output_type": "execute_result"
        }
      ],
      "source": [
        "max_value_dict"
      ]
    },
    {
      "cell_type": "code",
      "execution_count": 194,
      "metadata": {},
      "outputs": [],
      "source": [
        "df = pd.read_csv(data_path)\n",
        "df_train, df_test = train_test_split(df, test_size=0.2, random_state=42)"
      ]
    },
    {
      "cell_type": "code",
      "execution_count": 195,
      "metadata": {},
      "outputs": [],
      "source": [
        "# Replace categorical values with their corresponding id values.\n",
        "for col in CATEGORICAL_COLUMNS:\n",
        "    df_test[col] = df_test[col].apply(lambda x: cat_feature_dict[col][str(x)])\n",
        "# Scale numeric values to be between 0 and 1.\n",
        "for col in NUMERIC_COLUMNS:\n",
        "    df_test[col] = df_test[col].apply(lambda x: scale_value(x, max_value_dict[col]))"
      ]
    },
    {
      "cell_type": "code",
      "execution_count": 196,
      "metadata": {},
      "outputs": [],
      "source": [
        "# Apply one-hot encoding to the categorical columns.\n",
        "if one_hot_encoder:\n",
        "    cat_feature_array = one_hot_encoder.transform(df_test[CATEGORICAL_COLUMNS])\n",
        "else:\n",
        "    cat_feature_array = df_test[CATEGORICAL_COLUMNS].values\n",
        "\n",
        "numeric_feature_array = df_test[NUMERIC_COLUMNS].values\n",
        "# Concatenate the one-hot encoded categorical columns with the numeric columns.\n",
        "preprocessed_feature_array = np.hstack((cat_feature_array, numeric_feature_array))"
      ]
    },
    {
      "cell_type": "code",
      "execution_count": 201,
      "metadata": {},
      "outputs": [],
      "source": [
        "carprice_dataset = CarPriceDataset(X=preprocessed_feature_array, y=None)\n",
        "carprice_dataloader = DataLoader(carprice_dataset, batch_size=32, shuffle=False)"
      ]
    },
    {
      "cell_type": "code",
      "execution_count": 202,
      "metadata": {},
      "outputs": [],
      "source": [
        "prediction_list = []\n",
        "for x in carprice_dataloader:\n",
        "    y_pred = model(x.float())\n",
        "    prediction = y_pred.detach().numpy().ravel()\n",
        "    prediction_list.extend(prediction)"
      ]
    },
    {
      "cell_type": "code",
      "execution_count": 203,
      "metadata": {},
      "outputs": [],
      "source": [
        "df_test[\"Predicted_price\"] = np.array(prediction_list) * max_value_dict[\"Price\"]"
      ]
    },
    {
      "cell_type": "code",
      "execution_count": 204,
      "metadata": {},
      "outputs": [
        {
          "data": {
            "text/html": [
              "<div>\n",
              "<style scoped>\n",
              "    .dataframe tbody tr th:only-of-type {\n",
              "        vertical-align: middle;\n",
              "    }\n",
              "\n",
              "    .dataframe tbody tr th {\n",
              "        vertical-align: top;\n",
              "    }\n",
              "\n",
              "    .dataframe thead th {\n",
              "        text-align: right;\n",
              "    }\n",
              "</style>\n",
              "<table border=\"1\" class=\"dataframe\">\n",
              "  <thead>\n",
              "    <tr style=\"text-align: right;\">\n",
              "      <th></th>\n",
              "      <th>Brand</th>\n",
              "      <th>Model</th>\n",
              "      <th>Engine</th>\n",
              "      <th>Segment</th>\n",
              "      <th>Year</th>\n",
              "      <th>Mileage</th>\n",
              "      <th>Province</th>\n",
              "      <th>Price</th>\n",
              "      <th>Color</th>\n",
              "      <th>Predicted_price</th>\n",
              "    </tr>\n",
              "  </thead>\n",
              "  <tbody>\n",
              "    <tr>\n",
              "      <th>2473</th>\n",
              "      <td>2</td>\n",
              "      <td>11</td>\n",
              "      <td>6</td>\n",
              "      <td>3</td>\n",
              "      <td>0.997033</td>\n",
              "      <td>0.123518</td>\n",
              "      <td>0</td>\n",
              "      <td>619,000</td>\n",
              "      <td>2</td>\n",
              "      <td>604392.062500</td>\n",
              "    </tr>\n",
              "    <tr>\n",
              "      <th>6730</th>\n",
              "      <td>0</td>\n",
              "      <td>3</td>\n",
              "      <td>4</td>\n",
              "      <td>1</td>\n",
              "      <td>0.992087</td>\n",
              "      <td>0.433333</td>\n",
              "      <td>0</td>\n",
              "      <td>139,000</td>\n",
              "      <td>1</td>\n",
              "      <td>153437.875000</td>\n",
              "    </tr>\n",
              "    <tr>\n",
              "      <th>2847</th>\n",
              "      <td>1</td>\n",
              "      <td>4</td>\n",
              "      <td>0</td>\n",
              "      <td>0</td>\n",
              "      <td>0.996538</td>\n",
              "      <td>0.159122</td>\n",
              "      <td>1</td>\n",
              "      <td>389,000</td>\n",
              "      <td>0</td>\n",
              "      <td>378340.375000</td>\n",
              "    </tr>\n",
              "    <tr>\n",
              "      <th>169</th>\n",
              "      <td>0</td>\n",
              "      <td>6</td>\n",
              "      <td>1</td>\n",
              "      <td>2</td>\n",
              "      <td>0.999011</td>\n",
              "      <td>0.033333</td>\n",
              "      <td>0</td>\n",
              "      <td>488,000</td>\n",
              "      <td>1</td>\n",
              "      <td>454693.343750</td>\n",
              "    </tr>\n",
              "    <tr>\n",
              "      <th>2036</th>\n",
              "      <td>4</td>\n",
              "      <td>15</td>\n",
              "      <td>1</td>\n",
              "      <td>2</td>\n",
              "      <td>0.997033</td>\n",
              "      <td>0.183333</td>\n",
              "      <td>3</td>\n",
              "      <td>259,000</td>\n",
              "      <td>4</td>\n",
              "      <td>257817.453125</td>\n",
              "    </tr>\n",
              "    <tr>\n",
              "      <th>...</th>\n",
              "      <td>...</td>\n",
              "      <td>...</td>\n",
              "      <td>...</td>\n",
              "      <td>...</td>\n",
              "      <td>...</td>\n",
              "      <td>...</td>\n",
              "      <td>...</td>\n",
              "      <td>...</td>\n",
              "      <td>...</td>\n",
              "      <td>...</td>\n",
              "    </tr>\n",
              "    <tr>\n",
              "      <th>210</th>\n",
              "      <td>0</td>\n",
              "      <td>0</td>\n",
              "      <td>0</td>\n",
              "      <td>0</td>\n",
              "      <td>0.999011</td>\n",
              "      <td>0.023333</td>\n",
              "      <td>0</td>\n",
              "      <td>539,000</td>\n",
              "      <td>0</td>\n",
              "      <td>478372.093750</td>\n",
              "    </tr>\n",
              "    <tr>\n",
              "      <th>2484</th>\n",
              "      <td>2</td>\n",
              "      <td>11</td>\n",
              "      <td>6</td>\n",
              "      <td>3</td>\n",
              "      <td>0.997033</td>\n",
              "      <td>0.166667</td>\n",
              "      <td>0</td>\n",
              "      <td>629,000</td>\n",
              "      <td>0</td>\n",
              "      <td>598234.812500</td>\n",
              "    </tr>\n",
              "    <tr>\n",
              "      <th>6305</th>\n",
              "      <td>0</td>\n",
              "      <td>3</td>\n",
              "      <td>4</td>\n",
              "      <td>1</td>\n",
              "      <td>0.993076</td>\n",
              "      <td>0.189127</td>\n",
              "      <td>0</td>\n",
              "      <td>218,000</td>\n",
              "      <td>3</td>\n",
              "      <td>332081.093750</td>\n",
              "    </tr>\n",
              "    <tr>\n",
              "      <th>110</th>\n",
              "      <td>4</td>\n",
              "      <td>15</td>\n",
              "      <td>1</td>\n",
              "      <td>2</td>\n",
              "      <td>0.999011</td>\n",
              "      <td>0.021667</td>\n",
              "      <td>16</td>\n",
              "      <td>385,000</td>\n",
              "      <td>0</td>\n",
              "      <td>391964.843750</td>\n",
              "    </tr>\n",
              "    <tr>\n",
              "      <th>51</th>\n",
              "      <td>0</td>\n",
              "      <td>6</td>\n",
              "      <td>1</td>\n",
              "      <td>2</td>\n",
              "      <td>0.999505</td>\n",
              "      <td>0.003333</td>\n",
              "      <td>2</td>\n",
              "      <td>519,000</td>\n",
              "      <td>0</td>\n",
              "      <td>501209.406250</td>\n",
              "    </tr>\n",
              "  </tbody>\n",
              "</table>\n",
              "<p>1480 rows × 10 columns</p>\n",
              "</div>"
            ],
            "text/plain": [
              "      Brand  Model  Engine  Segment      Year   Mileage  Province    Price  \\\n",
              "2473      2     11       6        3  0.997033  0.123518         0  619,000   \n",
              "6730      0      3       4        1  0.992087  0.433333         0  139,000   \n",
              "2847      1      4       0        0  0.996538  0.159122         1  389,000   \n",
              "169       0      6       1        2  0.999011  0.033333         0  488,000   \n",
              "2036      4     15       1        2  0.997033  0.183333         3  259,000   \n",
              "...     ...    ...     ...      ...       ...       ...       ...      ...   \n",
              "210       0      0       0        0  0.999011  0.023333         0  539,000   \n",
              "2484      2     11       6        3  0.997033  0.166667         0  629,000   \n",
              "6305      0      3       4        1  0.993076  0.189127         0  218,000   \n",
              "110       4     15       1        2  0.999011  0.021667        16  385,000   \n",
              "51        0      6       1        2  0.999505  0.003333         2  519,000   \n",
              "\n",
              "      Color  Predicted_price  \n",
              "2473      2    604392.062500  \n",
              "6730      1    153437.875000  \n",
              "2847      0    378340.375000  \n",
              "169       1    454693.343750  \n",
              "2036      4    257817.453125  \n",
              "...     ...              ...  \n",
              "210       0    478372.093750  \n",
              "2484      0    598234.812500  \n",
              "6305      3    332081.093750  \n",
              "110       0    391964.843750  \n",
              "51        0    501209.406250  \n",
              "\n",
              "[1480 rows x 10 columns]"
            ]
          },
          "execution_count": 204,
          "metadata": {},
          "output_type": "execute_result"
        }
      ],
      "source": [
        "df_test"
      ]
    },
    {
      "attachments": {},
      "cell_type": "markdown",
      "metadata": {},
      "source": [
        "Try plotting actual vs predicted values for the test set in the original scale (not normalized)"
      ]
    },
    {
      "cell_type": "code",
      "execution_count": 215,
      "metadata": {},
      "outputs": [
        {
          "data": {
            "image/png": "[encoded data removed]",
            "text/plain": [
              "<Figure size 432x288 with 1 Axes>"
            ]
          },
          "metadata": {
            "needs_background": "light"
          },
          "output_type": "display_data"
        }
      ],
      "source": [
        "plt.plot([0, 1_000_000], [0, 1_000_000], color=\"black\", alpha=0.5, linestyle=\"--\")\n",
        "\n",
        "actual_price_array = df_test[\"Price\"].apply(lambda x: x.replace(\",\", \"\")).values.astype(float)\n",
        "plt.scatter(df_test[\"Predicted_price\"].values, actual_price_array, alpha=0.2)\n",
        "\n",
        "plt.xlabel(\"Predictions\")\n",
        "plt.ylabel(\"Actual\")\n",
        "plt.title(\"Predictions vs Actual\")\n",
        "\n",
        "plt.xlim(0, 1_000_000)\n",
        "plt.ylim(0, 1_000_000)\n",
        "plt.show()"
      ]
    }
  ],
  "metadata": {
    "accelerator": "GPU",
    "colab": {
      "provenance": []
    },
    "gpuClass": "standard",
    "kernelspec": {
      "display_name": "ocr",
      "language": "python",
      "name": "python3"
    },
    "language_info": {
      "codemirror_mode": {
        "name": "ipython",
        "version": 3
      },
      "file_extension": ".py",
      "mimetype": "text/x-python",
      "name": "python",
      "nbconvert_exporter": "python",
      "pygments_lexer": "ipython3",
      "version": "3.8.13"
    },
    "orig_nbformat": 4,
    "vscode": {
      "interpreter": {
        "hash": "31727eb632e7da8a5b80cec6e557fc09a461fb488b9fb3204718db5f91f70f0b"
      }
    },
    "widgets": {
      "application/vnd.jupyter.widget-state+json": {
        "14c540053b324b83a58d665d53b695c9": {
          "model_module": "@jupyter-widgets/base",
          "model_module_version": "1.2.0",
          "model_name": "LayoutModel",
          "state": {
            "_model_module": "@jupyter-widgets/base",
            "_model_module_version": "1.2.0",
            "_model_name": "LayoutModel",
            "_view_count": null,
            "_view_module": "@jupyter-widgets/base",
            "_view_module_version": "1.2.0",
            "_view_name": "LayoutView",
            "align_content": null,
            "align_items": null,
            "align_self": null,
            "border": null,
            "bottom": null,
            "display": null,
            "flex": null,
            "flex_flow": null,
            "grid_area": null,
            "grid_auto_columns": null,
            "grid_auto_flow": null,
            "grid_auto_rows": null,
            "grid_column": null,
            "grid_gap": null,
            "grid_row": null,
            "grid_template_areas": null,
            "grid_template_columns": null,
            "grid_template_rows": null,
            "height": null,
            "justify_content": null,
            "justify_items": null,
            "left": null,
            "margin": null,
            "max_height": null,
            "max_width": null,
            "min_height": null,
            "min_width": null,
            "object_fit": null,
            "object_position": null,
            "order": null,
            "overflow": null,
            "overflow_x": null,
            "overflow_y": null,
            "padding": null,
            "right": null,
            "top": null,
            "visibility": null,
            "width": null
          }
        },
        "18aaab3bd8ba48c9b533fe256fc39d82": {
          "model_module": "@jupyter-widgets/controls",
          "model_module_version": "1.5.0",
          "model_name": "FloatProgressModel",
          "state": {
            "_dom_classes": [],
            "_model_module": "@jupyter-widgets/controls",
            "_model_module_version": "1.5.0",
            "_model_name": "FloatProgressModel",
            "_view_count": null,
            "_view_module": "@jupyter-widgets/controls",
            "_view_module_version": "1.5.0",
            "_view_name": "ProgressView",
            "bar_style": "success",
            "description": "",
            "description_tooltip": null,
            "layout": "IPY_MODEL_f4b59508c0554f9198dbd1be61e02b27",
            "max": 120,
            "min": 0,
            "orientation": "horizontal",
            "style": "IPY_MODEL_e426086a0edd48099e1eb39e8c1f1550",
            "value": 120
          }
        },
        "3805565dc03c44b89127ec2b8d499e7b": {
          "model_module": "@jupyter-widgets/controls",
          "model_module_version": "1.5.0",
          "model_name": "DescriptionStyleModel",
          "state": {
            "_model_module": "@jupyter-widgets/controls",
            "_model_module_version": "1.5.0",
            "_model_name": "DescriptionStyleModel",
            "_view_count": null,
            "_view_module": "@jupyter-widgets/base",
            "_view_module_version": "1.2.0",
            "_view_name": "StyleView",
            "description_width": ""
          }
        },
        "5a6e75a00ec9490497ac5eb820fdc9e8": {
          "model_module": "@jupyter-widgets/base",
          "model_module_version": "1.2.0",
          "model_name": "LayoutModel",
          "state": {
            "_model_module": "@jupyter-widgets/base",
            "_model_module_version": "1.2.0",
            "_model_name": "LayoutModel",
            "_view_count": null,
            "_view_module": "@jupyter-widgets/base",
            "_view_module_version": "1.2.0",
            "_view_name": "LayoutView",
            "align_content": null,
            "align_items": null,
            "align_self": null,
            "border": null,
            "bottom": null,
            "display": null,
            "flex": null,
            "flex_flow": null,
            "grid_area": null,
            "grid_auto_columns": null,
            "grid_auto_flow": null,
            "grid_auto_rows": null,
            "grid_column": null,
            "grid_gap": null,
            "grid_row": null,
            "grid_template_areas": null,
            "grid_template_columns": null,
            "grid_template_rows": null,
            "height": null,
            "justify_content": null,
            "justify_items": null,
            "left": null,
            "margin": null,
            "max_height": null,
            "max_width": null,
            "min_height": null,
            "min_width": null,
            "object_fit": null,
            "object_position": null,
            "order": null,
            "overflow": null,
            "overflow_x": null,
            "overflow_y": null,
            "padding": null,
            "right": null,
            "top": null,
            "visibility": null,
            "width": null
          }
        },
        "7fe8e4c2acef4adea2cf9fef39795c5e": {
          "model_module": "@jupyter-widgets/controls",
          "model_module_version": "1.5.0",
          "model_name": "HBoxModel",
          "state": {
            "_dom_classes": [],
            "_model_module": "@jupyter-widgets/controls",
            "_model_module_version": "1.5.0",
            "_model_name": "HBoxModel",
            "_view_count": null,
            "_view_module": "@jupyter-widgets/controls",
            "_view_module_version": "1.5.0",
            "_view_name": "HBoxView",
            "box_style": "",
            "children": [
              "IPY_MODEL_d9839160a7c2408696d83767c13c651c",
              "IPY_MODEL_18aaab3bd8ba48c9b533fe256fc39d82",
              "IPY_MODEL_817c8d5cdab74e59a13f39e1996e4d89"
            ],
            "layout": "IPY_MODEL_9aacca6b17e4468f9692fbb15780b579"
          }
        },
        "817c8d5cdab74e59a13f39e1996e4d89": {
          "model_module": "@jupyter-widgets/controls",
          "model_module_version": "1.5.0",
          "model_name": "HTMLModel",
          "state": {
            "_dom_classes": [],
            "_model_module": "@jupyter-widgets/controls",
            "_model_module_version": "1.5.0",
            "_model_name": "HTMLModel",
            "_view_count": null,
            "_view_module": "@jupyter-widgets/controls",
            "_view_module_version": "1.5.0",
            "_view_name": "HTMLView",
            "description": "",
            "description_tooltip": null,
            "layout": "IPY_MODEL_14c540053b324b83a58d665d53b695c9",
            "placeholder": "​",
            "style": "IPY_MODEL_3805565dc03c44b89127ec2b8d499e7b",
            "value": " 120/120 [00:21&lt;00:00,  6.03it/s]"
          }
        },
        "9aacca6b17e4468f9692fbb15780b579": {
          "model_module": "@jupyter-widgets/base",
          "model_module_version": "1.2.0",
          "model_name": "LayoutModel",
          "state": {
            "_model_module": "@jupyter-widgets/base",
            "_model_module_version": "1.2.0",
            "_model_name": "LayoutModel",
            "_view_count": null,
            "_view_module": "@jupyter-widgets/base",
            "_view_module_version": "1.2.0",
            "_view_name": "LayoutView",
            "align_content": null,
            "align_items": null,
            "align_self": null,
            "border": null,
            "bottom": null,
            "display": null,
            "flex": null,
            "flex_flow": null,
            "grid_area": null,
            "grid_auto_columns": null,
            "grid_auto_flow": null,
            "grid_auto_rows": null,
            "grid_column": null,
            "grid_gap": null,
            "grid_row": null,
            "grid_template_areas": null,
            "grid_template_columns": null,
            "grid_template_rows": null,
            "height": null,
            "justify_content": null,
            "justify_items": null,
            "left": null,
            "margin": null,
            "max_height": null,
            "max_width": null,
            "min_height": null,
            "min_width": null,
            "object_fit": null,
            "object_position": null,
            "order": null,
            "overflow": null,
            "overflow_x": null,
            "overflow_y": null,
            "padding": null,
            "right": null,
            "top": null,
            "visibility": null,
            "width": null
          }
        },
        "d9839160a7c2408696d83767c13c651c": {
          "model_module": "@jupyter-widgets/controls",
          "model_module_version": "1.5.0",
          "model_name": "HTMLModel",
          "state": {
            "_dom_classes": [],
            "_model_module": "@jupyter-widgets/controls",
            "_model_module_version": "1.5.0",
            "_model_name": "HTMLModel",
            "_view_count": null,
            "_view_module": "@jupyter-widgets/controls",
            "_view_module_version": "1.5.0",
            "_view_name": "HTMLView",
            "description": "",
            "description_tooltip": null,
            "layout": "IPY_MODEL_5a6e75a00ec9490497ac5eb820fdc9e8",
            "placeholder": "​",
            "style": "IPY_MODEL_fbe80d8dafd0475d8b530f4356a36350",
            "value": "100%"
          }
        },
        "e426086a0edd48099e1eb39e8c1f1550": {
          "model_module": "@jupyter-widgets/controls",
          "model_module_version": "1.5.0",
          "model_name": "ProgressStyleModel",
          "state": {
            "_model_module": "@jupyter-widgets/controls",
            "_model_module_version": "1.5.0",
            "_model_name": "ProgressStyleModel",
            "_view_count": null,
            "_view_module": "@jupyter-widgets/base",
            "_view_module_version": "1.2.0",
            "_view_name": "StyleView",
            "bar_color": null,
            "description_width": ""
          }
        },
        "f4b59508c0554f9198dbd1be61e02b27": {
          "model_module": "@jupyter-widgets/base",
          "model_module_version": "1.2.0",
          "model_name": "LayoutModel",
          "state": {
            "_model_module": "@jupyter-widgets/base",
            "_model_module_version": "1.2.0",
            "_model_name": "LayoutModel",
            "_view_count": null,
            "_view_module": "@jupyter-widgets/base",
            "_view_module_version": "1.2.0",
            "_view_name": "LayoutView",
            "align_content": null,
            "align_items": null,
            "align_self": null,
            "border": null,
            "bottom": null,
            "display": null,
            "flex": null,
            "flex_flow": null,
            "grid_area": null,
            "grid_auto_columns": null,
            "grid_auto_flow": null,
            "grid_auto_rows": null,
            "grid_column": null,
            "grid_gap": null,
            "grid_row": null,
            "grid_template_areas": null,
            "grid_template_columns": null,
            "grid_template_rows": null,
            "height": null,
            "justify_content": null,
            "justify_items": null,
            "left": null,
            "margin": null,
            "max_height": null,
            "max_width": null,
            "min_height": null,
            "min_width": null,
            "object_fit": null,
            "object_position": null,
            "order": null,
            "overflow": null,
            "overflow_x": null,
            "overflow_y": null,
            "padding": null,
            "right": null,
            "top": null,
            "visibility": null,
            "width": null
          }
        },
        "fbe80d8dafd0475d8b530f4356a36350": {
          "model_module": "@jupyter-widgets/controls",
          "model_module_version": "1.5.0",
          "model_name": "DescriptionStyleModel",
          "state": {
            "_model_module": "@jupyter-widgets/controls",
            "_model_module_version": "1.5.0",
            "_model_name": "DescriptionStyleModel",
            "_view_count": null,
            "_view_module": "@jupyter-widgets/base",
            "_view_module_version": "1.2.0",
            "_view_name": "StyleView",
            "description_width": ""
          }
        }
      }
    }
  },
  "nbformat": 4,
  "nbformat_minor": 0
}
