{
 "cells": [
  {
   "cell_type": "code",
   "execution_count": 16,
   "metadata": {},
   "outputs": [],
   "source": [
    "import pandas as pd\n",
    "import numpy as np\n",
    "import matplotlib.pyplot as plt\n",
    "\n",
    "import torch\n",
    "import torch.nn as nn\n",
    "import torch.nn.functional as F\n",
    "\n",
    "from sklearn.linear_model import LinearRegression\n",
    "from sklearn.model_selection import train_test_split\n",
    "from sklearn.metrics import mean_squared_error"
   ]
  },
  {
   "attachments": {},
   "cell_type": "markdown",
   "metadata": {},
   "source": [
    "## Data Preparation"
   ]
  },
  {
   "cell_type": "code",
   "execution_count": 82,
   "metadata": {},
   "outputs": [
    {
     "data": {
      "text/html": [
       "<div>\n",
       "<style scoped>\n",
       "    .dataframe tbody tr th:only-of-type {\n",
       "        vertical-align: middle;\n",
       "    }\n",
       "\n",
       "    .dataframe tbody tr th {\n",
       "        vertical-align: top;\n",
       "    }\n",
       "\n",
       "    .dataframe thead th {\n",
       "        text-align: right;\n",
       "    }\n",
       "</style>\n",
       "<table border=\"1\" class=\"dataframe\">\n",
       "  <thead>\n",
       "    <tr style=\"text-align: right;\">\n",
       "      <th></th>\n",
       "      <th>Brand</th>\n",
       "      <th>Model</th>\n",
       "      <th>Engine</th>\n",
       "      <th>Segment</th>\n",
       "      <th>Year</th>\n",
       "      <th>Mileage</th>\n",
       "      <th>Province</th>\n",
       "      <th>Price</th>\n",
       "      <th>Color</th>\n",
       "    </tr>\n",
       "  </thead>\n",
       "  <tbody>\n",
       "    <tr>\n",
       "      <th>0</th>\n",
       "      <td>Mazda</td>\n",
       "      <td>Mazda2</td>\n",
       "      <td>1.3</td>\n",
       "      <td>B-Segment</td>\n",
       "      <td>2022.0</td>\n",
       "      <td>15640.0</td>\n",
       "      <td>กรุงเทพมหานคร</td>\n",
       "      <td>499000.0</td>\n",
       "      <td>Gray</td>\n",
       "    </tr>\n",
       "    <tr>\n",
       "      <th>1</th>\n",
       "      <td>Suzuki</td>\n",
       "      <td>Celerio</td>\n",
       "      <td>1.0</td>\n",
       "      <td>Eco Car</td>\n",
       "      <td>2021.0</td>\n",
       "      <td>9545.0</td>\n",
       "      <td>กรุงเทพมหานคร</td>\n",
       "      <td>315000.0</td>\n",
       "      <td>White</td>\n",
       "    </tr>\n",
       "    <tr>\n",
       "      <th>2</th>\n",
       "      <td>Mitsubishi</td>\n",
       "      <td>Mirage</td>\n",
       "      <td>1.2</td>\n",
       "      <td>Eco Car</td>\n",
       "      <td>2021.0</td>\n",
       "      <td>10900.0</td>\n",
       "      <td>นนทบุรี</td>\n",
       "      <td>335000.0</td>\n",
       "      <td>Gray</td>\n",
       "    </tr>\n",
       "    <tr>\n",
       "      <th>3</th>\n",
       "      <td>Nissan</td>\n",
       "      <td>March</td>\n",
       "      <td>1.2</td>\n",
       "      <td>Eco Car</td>\n",
       "      <td>2021.0</td>\n",
       "      <td>12000.0</td>\n",
       "      <td>กรุงเทพมหานคร</td>\n",
       "      <td>339000.0</td>\n",
       "      <td>Silver</td>\n",
       "    </tr>\n",
       "    <tr>\n",
       "      <th>4</th>\n",
       "      <td>Mitsubishi</td>\n",
       "      <td>Attrage</td>\n",
       "      <td>1.2</td>\n",
       "      <td>Eco Car</td>\n",
       "      <td>2021.0</td>\n",
       "      <td>25706.0</td>\n",
       "      <td>กาญจนบุรี</td>\n",
       "      <td>350000.0</td>\n",
       "      <td>Gray</td>\n",
       "    </tr>\n",
       "  </tbody>\n",
       "</table>\n",
       "</div>"
      ],
      "text/plain": [
       "        Brand    Model  Engine    Segment    Year  Mileage       Province  \\\n",
       "0       Mazda   Mazda2     1.3  B-Segment  2022.0  15640.0  กรุงเทพมหานคร   \n",
       "1      Suzuki  Celerio     1.0    Eco Car  2021.0   9545.0  กรุงเทพมหานคร   \n",
       "2  Mitsubishi   Mirage     1.2    Eco Car  2021.0  10900.0        นนทบุรี   \n",
       "3      Nissan    March     1.2    Eco Car  2021.0  12000.0  กรุงเทพมหานคร   \n",
       "4  Mitsubishi  Attrage     1.2    Eco Car  2021.0  25706.0      กาญจนบุรี   \n",
       "\n",
       "      Price   Color  \n",
       "0  499000.0    Gray  \n",
       "1  315000.0   White  \n",
       "2  335000.0    Gray  \n",
       "3  339000.0  Silver  \n",
       "4  350000.0    Gray  "
      ]
     },
     "execution_count": 82,
     "metadata": {},
     "output_type": "execute_result"
    }
   ],
   "source": [
    "# !pip install openpyxl\n",
    "\n",
    "df = pd.read_excel(\"Rodkaidee Data.xlsx\", engine=\"openpyxl\")\n",
    "df.head(5)"
   ]
  },
  {
   "attachments": {},
   "cell_type": "markdown",
   "metadata": {},
   "source": [
    "Get label encoder for categorical columns (for example, column X has 3 unique, non-numeric values: 'A', 'B', 'C', so we need to encode them to 0, 1, 2)"
   ]
  },
  {
   "cell_type": "code",
   "execution_count": 83,
   "metadata": {},
   "outputs": [],
   "source": [
    "def get_id_dict(dataframe, col_name):\n",
    "    return {key: i for i, key in enumerate(dataframe[col_name].value_counts().keys())}\n",
    "\n",
    "car_brand_id_dict = get_id_dict(df, \"Brand\")\n",
    "car_model_id_dict = get_id_dict(df, \"Model\")\n",
    "car_segment_id_dict = get_id_dict(df, \"Segment\")\n",
    "province_id_dict = get_id_dict(df, \"Province\")\n",
    "color_id_dict = get_id_dict(df, \"Color\")\n",
    "\n",
    "engine_size_id_dict = get_id_dict(df, \"Engine\")"
   ]
  },
  {
   "cell_type": "code",
   "execution_count": 84,
   "metadata": {},
   "outputs": [
    {
     "name": "stdout",
     "output_type": "stream",
     "text": [
      "{'Toyota': 0, 'Honda': 1, 'Nissan': 2, 'Mazda': 3, 'Mitsubishi': 4, 'Suzuki': 5}\n"
     ]
    }
   ],
   "source": [
    "print(car_brand_id_dict)"
   ]
  },
  {
   "attachments": {},
   "cell_type": "markdown",
   "metadata": {},
   "source": [
    "Apply the label encoder to each column with categorical data"
   ]
  },
  {
   "cell_type": "code",
   "execution_count": 85,
   "metadata": {},
   "outputs": [],
   "source": [
    "df[\"Brand\"] = df[\"Brand\"].apply(lambda x: car_brand_id_dict[x])\n",
    "df[\"Model\"] = df[\"Model\"].apply(lambda x: car_model_id_dict[x])\n",
    "df[\"Segment\"] = df[\"Segment\"].apply(lambda x: car_segment_id_dict[x])\n",
    "df[\"Province\"] = df[\"Province\"].apply(lambda x: province_id_dict[x])\n",
    "df[\"Color\"] = df[\"Color\"].apply(lambda x: color_id_dict[x])\n",
    "\n",
    "df[\"Engine\"] = df[\"Engine\"].apply(lambda x: engine_size_id_dict[x])"
   ]
  },
  {
   "attachments": {},
   "cell_type": "markdown",
   "metadata": {},
   "source": [
    "Normalize continuous values (for example, column X has values from 0 to 1000000, so we need to normalize them to 0 to 1)"
   ]
  },
  {
   "cell_type": "code",
   "execution_count": 92,
   "metadata": {},
   "outputs": [],
   "source": [
    "max_price = df[\"Price\"].max()\n",
    "df[\"Price\"] = df[\"Price\"].apply(lambda x: x / max_price)"
   ]
  },
  {
   "cell_type": "code",
   "execution_count": 93,
   "metadata": {},
   "outputs": [],
   "source": [
    "target_column = \"Price\"\n",
    "# Drop the target column from the dataframe.\n",
    "x_df = df.drop(columns=[target_column]).reset_index(drop=True)\n",
    "# Create a new dataframe with only the target column.\n",
    "y_df = df[[target_column]].reset_index(drop=True)"
   ]
  },
  {
   "attachments": {},
   "cell_type": "markdown",
   "metadata": {},
   "source": [
    "## **Train a simple Linear Regression Model**"
   ]
  },
  {
   "cell_type": "code",
   "execution_count": 94,
   "metadata": {},
   "outputs": [],
   "source": [
    "# Split the data into train and test sets.\n",
    "x_train, x_test, y_train, y_test = train_test_split(x_df, y_df, test_size=0.2, random_state=42)"
   ]
  },
  {
   "cell_type": "code",
   "execution_count": 95,
   "metadata": {},
   "outputs": [
    {
     "data": {
      "text/html": [
       "<style>#sk-container-id-5 {color: black;background-color: white;}#sk-container-id-5 pre{padding: 0;}#sk-container-id-5 div.sk-toggleable {background-color: white;}#sk-container-id-5 label.sk-toggleable__label {cursor: pointer;display: block;width: 100%;margin-bottom: 0;padding: 0.3em;box-sizing: border-box;text-align: center;}#sk-container-id-5 label.sk-toggleable__label-arrow:before {content: \"▸\";float: left;margin-right: 0.25em;color: #696969;}#sk-container-id-5 label.sk-toggleable__label-arrow:hover:before {color: black;}#sk-container-id-5 div.sk-estimator:hover label.sk-toggleable__label-arrow:before {color: black;}#sk-container-id-5 div.sk-toggleable__content {max-height: 0;max-width: 0;overflow: hidden;text-align: left;background-color: #f0f8ff;}#sk-container-id-5 div.sk-toggleable__content pre {margin: 0.2em;color: black;border-radius: 0.25em;background-color: #f0f8ff;}#sk-container-id-5 input.sk-toggleable__control:checked~div.sk-toggleable__content {max-height: 200px;max-width: 100%;overflow: auto;}#sk-container-id-5 input.sk-toggleable__control:checked~label.sk-toggleable__label-arrow:before {content: \"▾\";}#sk-container-id-5 div.sk-estimator input.sk-toggleable__control:checked~label.sk-toggleable__label {background-color: #d4ebff;}#sk-container-id-5 div.sk-label input.sk-toggleable__control:checked~label.sk-toggleable__label {background-color: #d4ebff;}#sk-container-id-5 input.sk-hidden--visually {border: 0;clip: rect(1px 1px 1px 1px);clip: rect(1px, 1px, 1px, 1px);height: 1px;margin: -1px;overflow: hidden;padding: 0;position: absolute;width: 1px;}#sk-container-id-5 div.sk-estimator {font-family: monospace;background-color: #f0f8ff;border: 1px dotted black;border-radius: 0.25em;box-sizing: border-box;margin-bottom: 0.5em;}#sk-container-id-5 div.sk-estimator:hover {background-color: #d4ebff;}#sk-container-id-5 div.sk-parallel-item::after {content: \"\";width: 100%;border-bottom: 1px solid gray;flex-grow: 1;}#sk-container-id-5 div.sk-label:hover label.sk-toggleable__label {background-color: #d4ebff;}#sk-container-id-5 div.sk-serial::before {content: \"\";position: absolute;border-left: 1px solid gray;box-sizing: border-box;top: 0;bottom: 0;left: 50%;z-index: 0;}#sk-container-id-5 div.sk-serial {display: flex;flex-direction: column;align-items: center;background-color: white;padding-right: 0.2em;padding-left: 0.2em;position: relative;}#sk-container-id-5 div.sk-item {position: relative;z-index: 1;}#sk-container-id-5 div.sk-parallel {display: flex;align-items: stretch;justify-content: center;background-color: white;position: relative;}#sk-container-id-5 div.sk-item::before, #sk-container-id-5 div.sk-parallel-item::before {content: \"\";position: absolute;border-left: 1px solid gray;box-sizing: border-box;top: 0;bottom: 0;left: 50%;z-index: -1;}#sk-container-id-5 div.sk-parallel-item {display: flex;flex-direction: column;z-index: 1;position: relative;background-color: white;}#sk-container-id-5 div.sk-parallel-item:first-child::after {align-self: flex-end;width: 50%;}#sk-container-id-5 div.sk-parallel-item:last-child::after {align-self: flex-start;width: 50%;}#sk-container-id-5 div.sk-parallel-item:only-child::after {width: 0;}#sk-container-id-5 div.sk-dashed-wrapped {border: 1px dashed gray;margin: 0 0.4em 0.5em 0.4em;box-sizing: border-box;padding-bottom: 0.4em;background-color: white;}#sk-container-id-5 div.sk-label label {font-family: monospace;font-weight: bold;display: inline-block;line-height: 1.2em;}#sk-container-id-5 div.sk-label-container {text-align: center;}#sk-container-id-5 div.sk-container {/* jupyter's `normalize.less` sets `[hidden] { display: none; }` but bootstrap.min.css set `[hidden] { display: none !important; }` so we also need the `!important` here to be able to override the default hidden behavior on the sphinx rendered scikit-learn.org. See: https://github.com/scikit-learn/scikit-learn/issues/21755 */display: inline-block !important;position: relative;}#sk-container-id-5 div.sk-text-repr-fallback {display: none;}</style><div id=\"sk-container-id-5\" class=\"sk-top-container\"><div class=\"sk-text-repr-fallback\"><pre>LinearRegression()</pre><b>In a Jupyter environment, please rerun this cell to show the HTML representation or trust the notebook. <br />On GitHub, the HTML representation is unable to render, please try loading this page with nbviewer.org.</b></div><div class=\"sk-container\" hidden><div class=\"sk-item\"><div class=\"sk-estimator sk-toggleable\"><input class=\"sk-toggleable__control sk-hidden--visually\" id=\"sk-estimator-id-5\" type=\"checkbox\" checked><label for=\"sk-estimator-id-5\" class=\"sk-toggleable__label sk-toggleable__label-arrow\">LinearRegression</label><div class=\"sk-toggleable__content\"><pre>LinearRegression()</pre></div></div></div></div></div>"
      ],
      "text/plain": [
       "LinearRegression()"
      ]
     },
     "execution_count": 95,
     "metadata": {},
     "output_type": "execute_result"
    }
   ],
   "source": [
    "# Fit a linear regression model to the training data.\n",
    "lr_model = LinearRegression()\n",
    "lr_model.fit(x_train, y_train)"
   ]
  },
  {
   "cell_type": "code",
   "execution_count": 96,
   "metadata": {},
   "outputs": [
    {
     "data": {
      "text/plain": [
       "(1480, 1)"
      ]
     },
     "execution_count": 96,
     "metadata": {},
     "output_type": "execute_result"
    }
   ],
   "source": [
    "predictions = lr_model.predict(x_test)\n",
    "predictions.shape"
   ]
  },
  {
   "attachments": {},
   "cell_type": "markdown",
   "metadata": {},
   "source": [
    "### Evaluate the model on the test set with Mean Squared Error"
   ]
  },
  {
   "cell_type": "code",
   "execution_count": 97,
   "metadata": {},
   "outputs": [
    {
     "data": {
      "text/plain": [
       "0.006451231528844747"
      ]
     },
     "execution_count": 97,
     "metadata": {},
     "output_type": "execute_result"
    }
   ],
   "source": [
    "# Calculate the mean squared error.\n",
    "mean_squared_error(predictions, y_test.values)"
   ]
  },
  {
   "cell_type": "code",
   "execution_count": 109,
   "metadata": {},
   "outputs": [
    {
     "data": {
      "image/png": "[encoded data removed]",
      "text/plain": [
       "<Figure size 432x288 with 1 Axes>"
      ]
     },
     "metadata": {
      "needs_background": "light"
     },
     "output_type": "display_data"
    }
   ],
   "source": [
    "# Plot a perfect prediction line.\n",
    "plt.plot([0, 1], [0, 1],  \"--\", color=\"black\",)\n",
    "# Plot the predictions vs the actual values.\n",
    "plt.scatter(predictions, y_test.values, alpha=0.2)\n",
    "\n",
    "plt.xlabel(\"Predictions\")\n",
    "plt.ylabel(\"Actual\")\n",
    "plt.show()"
   ]
  },
  {
   "attachments": {},
   "cell_type": "markdown",
   "metadata": {},
   "source": [
    "## **Train a simple Neural Network**"
   ]
  },
  {
   "cell_type": "code",
   "execution_count": 176,
   "metadata": {},
   "outputs": [],
   "source": [
    "from torch.utils.data import Dataset, DataLoader\n",
    "\n",
    "class CarPriceDataset(Dataset):\n",
    "    def __init__(self, x_dataframe, y_dataframe):\n",
    "        self.x = x_dataframe.values\n",
    "        self.y = y_dataframe.values\n",
    "\n",
    "    def __len__(self):\n",
    "        return len(self.x)\n",
    "\n",
    "    def __getitem__(self, idx):\n",
    "        return self.x[idx], self.y[idx]"
   ]
  },
  {
   "cell_type": "code",
   "execution_count": 195,
   "metadata": {},
   "outputs": [],
   "source": [
    "train_dataset = CarPriceDataset(x_train, y_train)\n",
    "test_dataset = CarPriceDataset(x_test, y_test)\n",
    "\n",
    "train_dataloader = DataLoader(train_dataset, batch_size=32, shuffle=True)\n",
    "test_dataloader = DataLoader(test_dataset, batch_size=32, shuffle=False)"
   ]
  },
  {
   "cell_type": "code",
   "execution_count": 196,
   "metadata": {},
   "outputs": [],
   "source": [
    "class CarPriceModel(nn.Module):\n",
    "    def __init__(self, input_size, output_size):\n",
    "        super().__init__()\n",
    "        self.linear = nn.Linear(input_size, output_size)\n",
    "\n",
    "    def forward(self, x):\n",
    "        out = self.linear(x)\n",
    "        return out"
   ]
  },
  {
   "cell_type": "code",
   "execution_count": 197,
   "metadata": {},
   "outputs": [
    {
     "data": {
      "text/plain": [
       "CarPriceModel(\n",
       "  (linear): Linear(in_features=8, out_features=1, bias=True)\n",
       ")"
      ]
     },
     "execution_count": 197,
     "metadata": {},
     "output_type": "execute_result"
    }
   ],
   "source": [
    "model = CarPriceModel(input_size=len(x_train.columns), output_size=y_train.shape[1])\n",
    "model"
   ]
  },
  {
   "cell_type": "code",
   "execution_count": 198,
   "metadata": {},
   "outputs": [
    {
     "data": {
      "application/vnd.jupyter.widget-view+json": {
       "model_id": "1ff803f400314f6aab102be19e17f2ed",
       "version_major": 2,
       "version_minor": 0
      },
      "text/plain": [
       "  0%|          | 0/120 [00:00<?, ?it/s]"
      ]
     },
     "metadata": {},
     "output_type": "display_data"
    },
    {
     "name": "stdout",
     "output_type": "stream",
     "text": [
      "Epoch 0: 236838.34375\n",
      "Epoch 10: 88500.7890625\n",
      "Epoch 20: 3873.16357421875\n",
      "Epoch 30: 3.506937265396118\n",
      "Epoch 40: 1.248306393623352\n",
      "Epoch 50: 0.49693742394447327\n",
      "Epoch 60: 0.11335849016904831\n",
      "Epoch 70: 0.06989189982414246\n",
      "Epoch 80: 18.913785934448242\n",
      "Epoch 90: 0.013194456696510315\n",
      "Epoch 100: 0.03054680861532688\n",
      "Epoch 110: 0.05981767922639847\n"
     ]
    }
   ],
   "source": [
    "from tqdm.auto import tqdm\n",
    "# Define the loss function and the optimizer.\n",
    "learning_rate = 1e-3 # = 0.1\n",
    "loss_fn = nn.MSELoss(reduction=\"mean\")\n",
    "optimizer = torch.optim.Adam(model.parameters(), lr=learning_rate)\n",
    "\n",
    "# Train the model.\n",
    "epochs = 120\n",
    "update_frequency = 10\n",
    "\n",
    "train_losses = []\n",
    "test_losses = []\n",
    "for epoch in tqdm(range(epochs)):\n",
    "    # Set the model to training mode.\n",
    "    model.train()\n",
    "    for x, y in train_dataloader:\n",
    "        # Forward pass.\n",
    "        y_pred = model(x.float())\n",
    "        # Calculate the loss.\n",
    "        loss = loss_fn(y_pred, y.float())\n",
    "        # Backward pass.\n",
    "        loss.backward()\n",
    "        # Update the model parameters.\n",
    "        optimizer.step()\n",
    "        # Reset the gradients.\n",
    "        optimizer.zero_grad()\n",
    "    # Save the training loss.\n",
    "    train_losses.append(loss.item())\n",
    "\n",
    "    # Set the model to evaluation mode and calculate the test loss at the end of each epoch.\n",
    "    model.eval()\n",
    "    with torch.no_grad():\n",
    "        for x, y in test_dataloader:\n",
    "            # Forward pass.\n",
    "            y_pred = model(x.float())\n",
    "            # Calculate the loss.\n",
    "            loss = loss_fn(y_pred, y.float())\n",
    "\n",
    "        # Print the loss if the epoch is a multiple of 10.\n",
    "        if epoch % update_frequency == 0:\n",
    "            print(f\"Epoch {epoch}: {loss.item()}\")"
   ]
  },
  {
   "attachments": {},
   "cell_type": "markdown",
   "metadata": {},
   "source": [
    "### Evaluate the model on the test set with Mean Squared Error"
   ]
  },
  {
   "cell_type": "code",
   "execution_count": 199,
   "metadata": {},
   "outputs": [],
   "source": [
    "# Get the predictions for the test set.\n",
    "model.eval()\n",
    "\n",
    "prediction_list = []\n",
    "actual_y_list = []\n",
    "for x, y in test_dataloader:\n",
    "    y_pred = model(x.float())\n",
    "    prediction = y_pred.detach().numpy()\n",
    "    y = y.numpy()\n",
    "    prediction_list.append(prediction)\n",
    "    actual_y_list.append(y)"
   ]
  },
  {
   "cell_type": "code",
   "execution_count": 200,
   "metadata": {},
   "outputs": [
    {
     "data": {
      "text/plain": [
       "0.03970055401991829"
      ]
     },
     "execution_count": 200,
     "metadata": {},
     "output_type": "execute_result"
    }
   ],
   "source": [
    "actual_y_array = np.concatenate(actual_y_list)\n",
    "prediction_array = np.concatenate(prediction_list)\n",
    "mean_squared_error(prediction_array, actual_y_array)"
   ]
  },
  {
   "cell_type": "code",
   "execution_count": 201,
   "metadata": {},
   "outputs": [
    {
     "data": {
      "image/png": "[encoded data removed]",
      "text/plain": [
       "<Figure size 432x288 with 1 Axes>"
      ]
     },
     "metadata": {
      "needs_background": "light"
     },
     "output_type": "display_data"
    }
   ],
   "source": [
    "# Plot a perfect prediction line.\n",
    "plt.plot([0, 1], [0, 1],  \"--\", color=\"black\",)\n",
    "# Plot the predictions vs the actual values.\n",
    "plt.scatter(prediction_array, actual_y_array, alpha=0.2)\n",
    "\n",
    "plt.xlabel(\"Predictions\")\n",
    "plt.ylabel(\"Actual\")\n",
    "plt.show()"
   ]
  },
  {
   "attachments": {},
   "cell_type": "markdown",
   "metadata": {},
   "source": [
    "### Use the model to predict on new data"
   ]
  }
 ],
 "metadata": {
  "kernelspec": {
   "display_name": "ocr",
   "language": "python",
   "name": "python3"
  },
  "language_info": {
   "codemirror_mode": {
    "name": "ipython",
    "version": 3
   },
   "file_extension": ".py",
   "mimetype": "text/x-python",
   "name": "python",
   "nbconvert_exporter": "python",
   "pygments_lexer": "ipython3",
   "version": "3.8.13"
  },
  "orig_nbformat": 4,
  "vscode": {
   "interpreter": {
    "hash": "31727eb632e7da8a5b80cec6e557fc09a461fb488b9fb3204718db5f91f70f0b"
   }
  }
 },
 "nbformat": 4,
 "nbformat_minor": 2
}
